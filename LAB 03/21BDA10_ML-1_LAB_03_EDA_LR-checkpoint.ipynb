{
 "cells": [
  {
   "cell_type": "markdown",
   "id": "2af0e130",
   "metadata": {},
   "source": [
    "# ML-1 LAB - 03\n",
    "### Date : 30-05-20200\n",
    "### 21BDA10 - Aishwarya C S\n",
    "### EDA AND LOGISTIC REGRESSION"
   ]
  },
  {
   "cell_type": "code",
   "execution_count": 1,
   "id": "63fb6ef9",
   "metadata": {},
   "outputs": [],
   "source": [
    "import pandas as pd\n",
    "import numpy as np\n",
    "import seaborn as sns\n",
    "import matplotlib.pyplot as plt\n",
    "from sklearn.linear_model import LinearRegression\n",
    "from sklearn.model_selection import train_test_split\n",
    "from sklearn.linear_model import LogisticRegression\n",
    "sns.set(style = 'darkgrid')"
   ]
  },
  {
   "cell_type": "markdown",
   "id": "280c9a11",
   "metadata": {},
   "source": [
    "### Data description:\n",
    " model - Toyota model,\n",
    "     year - registraion year,\n",
    "     price - price in Euros,\n",
    "     transmission - type of gear box,\n",
    "     mileage - distance used,\n",
    "     fuelType - engine fuel,\n",
    "     tax - road tax,\n",
    "     mpg - miles per galoon,\n",
    "     engineSize - size in litres."
   ]
  },
  {
   "cell_type": "code",
   "execution_count": 2,
   "id": "9d1341fd",
   "metadata": {},
   "outputs": [],
   "source": [
    "df = pd.read_csv(\"D:\\\\ML 1\\\\Lab Datasets\\\\toyota.csv\")"
   ]
  },
  {
   "cell_type": "code",
   "execution_count": 3,
   "id": "9a26e82c",
   "metadata": {},
   "outputs": [
    {
     "data": {
      "text/html": [
       "<div>\n",
       "<style scoped>\n",
       "    .dataframe tbody tr th:only-of-type {\n",
       "        vertical-align: middle;\n",
       "    }\n",
       "\n",
       "    .dataframe tbody tr th {\n",
       "        vertical-align: top;\n",
       "    }\n",
       "\n",
       "    .dataframe thead th {\n",
       "        text-align: right;\n",
       "    }\n",
       "</style>\n",
       "<table border=\"1\" class=\"dataframe\">\n",
       "  <thead>\n",
       "    <tr style=\"text-align: right;\">\n",
       "      <th></th>\n",
       "      <th>model</th>\n",
       "      <th>year</th>\n",
       "      <th>price</th>\n",
       "      <th>transmission</th>\n",
       "      <th>mileage</th>\n",
       "      <th>fuelType</th>\n",
       "      <th>tax</th>\n",
       "      <th>mpg</th>\n",
       "      <th>engineSize</th>\n",
       "    </tr>\n",
       "  </thead>\n",
       "  <tbody>\n",
       "    <tr>\n",
       "      <th>0</th>\n",
       "      <td>GT86</td>\n",
       "      <td>2016</td>\n",
       "      <td>16000</td>\n",
       "      <td>Manual</td>\n",
       "      <td>24089</td>\n",
       "      <td>Petrol</td>\n",
       "      <td>265</td>\n",
       "      <td>36.2</td>\n",
       "      <td>2.0</td>\n",
       "    </tr>\n",
       "    <tr>\n",
       "      <th>1</th>\n",
       "      <td>GT86</td>\n",
       "      <td>2017</td>\n",
       "      <td>15995</td>\n",
       "      <td>Manual</td>\n",
       "      <td>18615</td>\n",
       "      <td>Petrol</td>\n",
       "      <td>145</td>\n",
       "      <td>36.2</td>\n",
       "      <td>2.0</td>\n",
       "    </tr>\n",
       "    <tr>\n",
       "      <th>2</th>\n",
       "      <td>GT86</td>\n",
       "      <td>2015</td>\n",
       "      <td>13998</td>\n",
       "      <td>Manual</td>\n",
       "      <td>27469</td>\n",
       "      <td>Petrol</td>\n",
       "      <td>265</td>\n",
       "      <td>36.2</td>\n",
       "      <td>2.0</td>\n",
       "    </tr>\n",
       "    <tr>\n",
       "      <th>3</th>\n",
       "      <td>GT86</td>\n",
       "      <td>2017</td>\n",
       "      <td>18998</td>\n",
       "      <td>Manual</td>\n",
       "      <td>14736</td>\n",
       "      <td>Petrol</td>\n",
       "      <td>150</td>\n",
       "      <td>36.2</td>\n",
       "      <td>2.0</td>\n",
       "    </tr>\n",
       "    <tr>\n",
       "      <th>4</th>\n",
       "      <td>GT86</td>\n",
       "      <td>2017</td>\n",
       "      <td>17498</td>\n",
       "      <td>Manual</td>\n",
       "      <td>36284</td>\n",
       "      <td>Petrol</td>\n",
       "      <td>145</td>\n",
       "      <td>36.2</td>\n",
       "      <td>2.0</td>\n",
       "    </tr>\n",
       "    <tr>\n",
       "      <th>...</th>\n",
       "      <td>...</td>\n",
       "      <td>...</td>\n",
       "      <td>...</td>\n",
       "      <td>...</td>\n",
       "      <td>...</td>\n",
       "      <td>...</td>\n",
       "      <td>...</td>\n",
       "      <td>...</td>\n",
       "      <td>...</td>\n",
       "    </tr>\n",
       "    <tr>\n",
       "      <th>6733</th>\n",
       "      <td>IQ</td>\n",
       "      <td>2011</td>\n",
       "      <td>5500</td>\n",
       "      <td>Automatic</td>\n",
       "      <td>30000</td>\n",
       "      <td>Petrol</td>\n",
       "      <td>20</td>\n",
       "      <td>58.9</td>\n",
       "      <td>1.0</td>\n",
       "    </tr>\n",
       "    <tr>\n",
       "      <th>6734</th>\n",
       "      <td>Urban Cruiser</td>\n",
       "      <td>2011</td>\n",
       "      <td>4985</td>\n",
       "      <td>Manual</td>\n",
       "      <td>36154</td>\n",
       "      <td>Petrol</td>\n",
       "      <td>125</td>\n",
       "      <td>50.4</td>\n",
       "      <td>1.3</td>\n",
       "    </tr>\n",
       "    <tr>\n",
       "      <th>6735</th>\n",
       "      <td>Urban Cruiser</td>\n",
       "      <td>2012</td>\n",
       "      <td>4995</td>\n",
       "      <td>Manual</td>\n",
       "      <td>46000</td>\n",
       "      <td>Diesel</td>\n",
       "      <td>125</td>\n",
       "      <td>57.6</td>\n",
       "      <td>1.4</td>\n",
       "    </tr>\n",
       "    <tr>\n",
       "      <th>6736</th>\n",
       "      <td>Urban Cruiser</td>\n",
       "      <td>2011</td>\n",
       "      <td>3995</td>\n",
       "      <td>Manual</td>\n",
       "      <td>60700</td>\n",
       "      <td>Petrol</td>\n",
       "      <td>125</td>\n",
       "      <td>50.4</td>\n",
       "      <td>1.3</td>\n",
       "    </tr>\n",
       "    <tr>\n",
       "      <th>6737</th>\n",
       "      <td>Urban Cruiser</td>\n",
       "      <td>2011</td>\n",
       "      <td>4495</td>\n",
       "      <td>Manual</td>\n",
       "      <td>45128</td>\n",
       "      <td>Petrol</td>\n",
       "      <td>125</td>\n",
       "      <td>50.4</td>\n",
       "      <td>1.3</td>\n",
       "    </tr>\n",
       "  </tbody>\n",
       "</table>\n",
       "<p>6738 rows × 9 columns</p>\n",
       "</div>"
      ],
      "text/plain": [
       "               model  year  price transmission  mileage fuelType  tax   mpg  \\\n",
       "0               GT86  2016  16000       Manual    24089   Petrol  265  36.2   \n",
       "1               GT86  2017  15995       Manual    18615   Petrol  145  36.2   \n",
       "2               GT86  2015  13998       Manual    27469   Petrol  265  36.2   \n",
       "3               GT86  2017  18998       Manual    14736   Petrol  150  36.2   \n",
       "4               GT86  2017  17498       Manual    36284   Petrol  145  36.2   \n",
       "...              ...   ...    ...          ...      ...      ...  ...   ...   \n",
       "6733              IQ  2011   5500    Automatic    30000   Petrol   20  58.9   \n",
       "6734   Urban Cruiser  2011   4985       Manual    36154   Petrol  125  50.4   \n",
       "6735   Urban Cruiser  2012   4995       Manual    46000   Diesel  125  57.6   \n",
       "6736   Urban Cruiser  2011   3995       Manual    60700   Petrol  125  50.4   \n",
       "6737   Urban Cruiser  2011   4495       Manual    45128   Petrol  125  50.4   \n",
       "\n",
       "      engineSize  \n",
       "0            2.0  \n",
       "1            2.0  \n",
       "2            2.0  \n",
       "3            2.0  \n",
       "4            2.0  \n",
       "...          ...  \n",
       "6733         1.0  \n",
       "6734         1.3  \n",
       "6735         1.4  \n",
       "6736         1.3  \n",
       "6737         1.3  \n",
       "\n",
       "[6738 rows x 9 columns]"
      ]
     },
     "execution_count": 3,
     "metadata": {},
     "output_type": "execute_result"
    }
   ],
   "source": [
    "df"
   ]
  },
  {
   "cell_type": "code",
   "execution_count": 4,
   "id": "eccff471",
   "metadata": {},
   "outputs": [
    {
     "data": {
      "text/html": [
       "<div>\n",
       "<style scoped>\n",
       "    .dataframe tbody tr th:only-of-type {\n",
       "        vertical-align: middle;\n",
       "    }\n",
       "\n",
       "    .dataframe tbody tr th {\n",
       "        vertical-align: top;\n",
       "    }\n",
       "\n",
       "    .dataframe thead th {\n",
       "        text-align: right;\n",
       "    }\n",
       "</style>\n",
       "<table border=\"1\" class=\"dataframe\">\n",
       "  <thead>\n",
       "    <tr style=\"text-align: right;\">\n",
       "      <th></th>\n",
       "      <th>model</th>\n",
       "      <th>year</th>\n",
       "      <th>price</th>\n",
       "      <th>transmission</th>\n",
       "      <th>mileage</th>\n",
       "      <th>fuelType</th>\n",
       "      <th>tax</th>\n",
       "      <th>mpg</th>\n",
       "      <th>engineSize</th>\n",
       "    </tr>\n",
       "  </thead>\n",
       "  <tbody>\n",
       "    <tr>\n",
       "      <th>220</th>\n",
       "      <td>Corolla</td>\n",
       "      <td>2019</td>\n",
       "      <td>22000</td>\n",
       "      <td>Automatic</td>\n",
       "      <td>11478</td>\n",
       "      <td>Hybrid</td>\n",
       "      <td>135</td>\n",
       "      <td>78.5</td>\n",
       "      <td>1.8</td>\n",
       "    </tr>\n",
       "    <tr>\n",
       "      <th>4578</th>\n",
       "      <td>Aygo</td>\n",
       "      <td>2017</td>\n",
       "      <td>6190</td>\n",
       "      <td>Manual</td>\n",
       "      <td>30023</td>\n",
       "      <td>Petrol</td>\n",
       "      <td>0</td>\n",
       "      <td>69.0</td>\n",
       "      <td>1.0</td>\n",
       "    </tr>\n",
       "    <tr>\n",
       "      <th>5246</th>\n",
       "      <td>Aygo</td>\n",
       "      <td>2018</td>\n",
       "      <td>7700</td>\n",
       "      <td>Manual</td>\n",
       "      <td>13683</td>\n",
       "      <td>Petrol</td>\n",
       "      <td>145</td>\n",
       "      <td>69.0</td>\n",
       "      <td>1.0</td>\n",
       "    </tr>\n",
       "    <tr>\n",
       "      <th>4777</th>\n",
       "      <td>Aygo</td>\n",
       "      <td>2019</td>\n",
       "      <td>12492</td>\n",
       "      <td>Semi-Auto</td>\n",
       "      <td>7922</td>\n",
       "      <td>Petrol</td>\n",
       "      <td>150</td>\n",
       "      <td>55.4</td>\n",
       "      <td>1.0</td>\n",
       "    </tr>\n",
       "    <tr>\n",
       "      <th>498</th>\n",
       "      <td>RAV4</td>\n",
       "      <td>2016</td>\n",
       "      <td>20790</td>\n",
       "      <td>Automatic</td>\n",
       "      <td>32132</td>\n",
       "      <td>Hybrid</td>\n",
       "      <td>20</td>\n",
       "      <td>55.4</td>\n",
       "      <td>2.5</td>\n",
       "    </tr>\n",
       "  </tbody>\n",
       "</table>\n",
       "</div>"
      ],
      "text/plain": [
       "         model  year  price transmission  mileage fuelType  tax   mpg  \\\n",
       "220    Corolla  2019  22000    Automatic    11478   Hybrid  135  78.5   \n",
       "4578      Aygo  2017   6190       Manual    30023   Petrol    0  69.0   \n",
       "5246      Aygo  2018   7700       Manual    13683   Petrol  145  69.0   \n",
       "4777      Aygo  2019  12492    Semi-Auto     7922   Petrol  150  55.4   \n",
       "498       RAV4  2016  20790    Automatic    32132   Hybrid   20  55.4   \n",
       "\n",
       "      engineSize  \n",
       "220          1.8  \n",
       "4578         1.0  \n",
       "5246         1.0  \n",
       "4777         1.0  \n",
       "498          2.5  "
      ]
     },
     "execution_count": 4,
     "metadata": {},
     "output_type": "execute_result"
    }
   ],
   "source": [
    "df.sample(5)"
   ]
  },
  {
   "cell_type": "code",
   "execution_count": 5,
   "id": "a0f5c262",
   "metadata": {},
   "outputs": [
    {
     "data": {
      "text/plain": [
       "model           0\n",
       "year            0\n",
       "price           0\n",
       "transmission    0\n",
       "mileage         0\n",
       "fuelType        0\n",
       "tax             0\n",
       "mpg             0\n",
       "engineSize      0\n",
       "dtype: int64"
      ]
     },
     "execution_count": 5,
     "metadata": {},
     "output_type": "execute_result"
    }
   ],
   "source": [
    "df.isnull().sum()"
   ]
  },
  {
   "cell_type": "markdown",
   "id": "5fc285a6",
   "metadata": {},
   "source": [
    "## There are no missing values in this dataset"
   ]
  },
  {
   "cell_type": "code",
   "execution_count": 6,
   "id": "e1c2505d",
   "metadata": {},
   "outputs": [
    {
     "data": {
      "text/plain": [
       "model             18\n",
       "year              23\n",
       "price           2114\n",
       "transmission       4\n",
       "mileage         5699\n",
       "fuelType           4\n",
       "tax               29\n",
       "mpg               81\n",
       "engineSize        16\n",
       "dtype: int64"
      ]
     },
     "execution_count": 6,
     "metadata": {},
     "output_type": "execute_result"
    }
   ],
   "source": [
    "df.nunique()"
   ]
  },
  {
   "cell_type": "code",
   "execution_count": 7,
   "id": "31a21e9a",
   "metadata": {},
   "outputs": [
    {
     "name": "stdout",
     "output_type": "stream",
     "text": [
      "<class 'pandas.core.frame.DataFrame'>\n",
      "RangeIndex: 6738 entries, 0 to 6737\n",
      "Data columns (total 9 columns):\n",
      " #   Column        Non-Null Count  Dtype  \n",
      "---  ------        --------------  -----  \n",
      " 0   model         6738 non-null   object \n",
      " 1   year          6738 non-null   int64  \n",
      " 2   price         6738 non-null   int64  \n",
      " 3   transmission  6738 non-null   object \n",
      " 4   mileage       6738 non-null   int64  \n",
      " 5   fuelType      6738 non-null   object \n",
      " 6   tax           6738 non-null   int64  \n",
      " 7   mpg           6738 non-null   float64\n",
      " 8   engineSize    6738 non-null   float64\n",
      "dtypes: float64(2), int64(4), object(3)\n",
      "memory usage: 473.9+ KB\n"
     ]
    }
   ],
   "source": [
    "df.info()"
   ]
  },
  {
   "cell_type": "code",
   "execution_count": 8,
   "id": "2418d535",
   "metadata": {},
   "outputs": [
    {
     "data": {
      "text/html": [
       "<div>\n",
       "<style scoped>\n",
       "    .dataframe tbody tr th:only-of-type {\n",
       "        vertical-align: middle;\n",
       "    }\n",
       "\n",
       "    .dataframe tbody tr th {\n",
       "        vertical-align: top;\n",
       "    }\n",
       "\n",
       "    .dataframe thead th {\n",
       "        text-align: right;\n",
       "    }\n",
       "</style>\n",
       "<table border=\"1\" class=\"dataframe\">\n",
       "  <thead>\n",
       "    <tr style=\"text-align: right;\">\n",
       "      <th></th>\n",
       "      <th>year</th>\n",
       "      <th>price</th>\n",
       "      <th>mileage</th>\n",
       "      <th>tax</th>\n",
       "      <th>mpg</th>\n",
       "      <th>engineSize</th>\n",
       "    </tr>\n",
       "  </thead>\n",
       "  <tbody>\n",
       "    <tr>\n",
       "      <th>count</th>\n",
       "      <td>6738.000000</td>\n",
       "      <td>6738.000000</td>\n",
       "      <td>6738.000000</td>\n",
       "      <td>6738.000000</td>\n",
       "      <td>6738.000000</td>\n",
       "      <td>6738.000000</td>\n",
       "    </tr>\n",
       "    <tr>\n",
       "      <th>mean</th>\n",
       "      <td>2016.748145</td>\n",
       "      <td>12522.391066</td>\n",
       "      <td>22857.413921</td>\n",
       "      <td>94.697240</td>\n",
       "      <td>63.042223</td>\n",
       "      <td>1.471297</td>\n",
       "    </tr>\n",
       "    <tr>\n",
       "      <th>std</th>\n",
       "      <td>2.204062</td>\n",
       "      <td>6345.017587</td>\n",
       "      <td>19125.464147</td>\n",
       "      <td>73.880776</td>\n",
       "      <td>15.836710</td>\n",
       "      <td>0.436159</td>\n",
       "    </tr>\n",
       "    <tr>\n",
       "      <th>min</th>\n",
       "      <td>1998.000000</td>\n",
       "      <td>850.000000</td>\n",
       "      <td>2.000000</td>\n",
       "      <td>0.000000</td>\n",
       "      <td>2.800000</td>\n",
       "      <td>0.000000</td>\n",
       "    </tr>\n",
       "    <tr>\n",
       "      <th>25%</th>\n",
       "      <td>2016.000000</td>\n",
       "      <td>8290.000000</td>\n",
       "      <td>9446.000000</td>\n",
       "      <td>0.000000</td>\n",
       "      <td>55.400000</td>\n",
       "      <td>1.000000</td>\n",
       "    </tr>\n",
       "    <tr>\n",
       "      <th>50%</th>\n",
       "      <td>2017.000000</td>\n",
       "      <td>10795.000000</td>\n",
       "      <td>18513.000000</td>\n",
       "      <td>135.000000</td>\n",
       "      <td>62.800000</td>\n",
       "      <td>1.500000</td>\n",
       "    </tr>\n",
       "    <tr>\n",
       "      <th>75%</th>\n",
       "      <td>2018.000000</td>\n",
       "      <td>14995.000000</td>\n",
       "      <td>31063.750000</td>\n",
       "      <td>145.000000</td>\n",
       "      <td>69.000000</td>\n",
       "      <td>1.800000</td>\n",
       "    </tr>\n",
       "    <tr>\n",
       "      <th>max</th>\n",
       "      <td>2020.000000</td>\n",
       "      <td>59995.000000</td>\n",
       "      <td>174419.000000</td>\n",
       "      <td>565.000000</td>\n",
       "      <td>235.000000</td>\n",
       "      <td>4.500000</td>\n",
       "    </tr>\n",
       "  </tbody>\n",
       "</table>\n",
       "</div>"
      ],
      "text/plain": [
       "              year         price        mileage          tax          mpg  \\\n",
       "count  6738.000000   6738.000000    6738.000000  6738.000000  6738.000000   \n",
       "mean   2016.748145  12522.391066   22857.413921    94.697240    63.042223   \n",
       "std       2.204062   6345.017587   19125.464147    73.880776    15.836710   \n",
       "min    1998.000000    850.000000       2.000000     0.000000     2.800000   \n",
       "25%    2016.000000   8290.000000    9446.000000     0.000000    55.400000   \n",
       "50%    2017.000000  10795.000000   18513.000000   135.000000    62.800000   \n",
       "75%    2018.000000  14995.000000   31063.750000   145.000000    69.000000   \n",
       "max    2020.000000  59995.000000  174419.000000   565.000000   235.000000   \n",
       "\n",
       "        engineSize  \n",
       "count  6738.000000  \n",
       "mean      1.471297  \n",
       "std       0.436159  \n",
       "min       0.000000  \n",
       "25%       1.000000  \n",
       "50%       1.500000  \n",
       "75%       1.800000  \n",
       "max       4.500000  "
      ]
     },
     "execution_count": 8,
     "metadata": {},
     "output_type": "execute_result"
    }
   ],
   "source": [
    "df.describe()"
   ]
  },
  {
   "cell_type": "code",
   "execution_count": 9,
   "id": "9ca8f8cc",
   "metadata": {},
   "outputs": [
    {
     "data": {
      "text/html": [
       "<div>\n",
       "<style scoped>\n",
       "    .dataframe tbody tr th:only-of-type {\n",
       "        vertical-align: middle;\n",
       "    }\n",
       "\n",
       "    .dataframe tbody tr th {\n",
       "        vertical-align: top;\n",
       "    }\n",
       "\n",
       "    .dataframe thead th {\n",
       "        text-align: right;\n",
       "    }\n",
       "</style>\n",
       "<table border=\"1\" class=\"dataframe\">\n",
       "  <thead>\n",
       "    <tr style=\"text-align: right;\">\n",
       "      <th></th>\n",
       "      <th>year</th>\n",
       "      <th>price</th>\n",
       "      <th>mileage</th>\n",
       "      <th>tax</th>\n",
       "      <th>mpg</th>\n",
       "      <th>engineSize</th>\n",
       "    </tr>\n",
       "  </thead>\n",
       "  <tbody>\n",
       "    <tr>\n",
       "      <th>year</th>\n",
       "      <td>1.000000</td>\n",
       "      <td>0.420959</td>\n",
       "      <td>-0.727749</td>\n",
       "      <td>0.283455</td>\n",
       "      <td>-0.020607</td>\n",
       "      <td>-0.045567</td>\n",
       "    </tr>\n",
       "    <tr>\n",
       "      <th>price</th>\n",
       "      <td>0.420959</td>\n",
       "      <td>1.000000</td>\n",
       "      <td>-0.297936</td>\n",
       "      <td>0.214498</td>\n",
       "      <td>-0.039910</td>\n",
       "      <td>0.727592</td>\n",
       "    </tr>\n",
       "    <tr>\n",
       "      <th>mileage</th>\n",
       "      <td>-0.727749</td>\n",
       "      <td>-0.297936</td>\n",
       "      <td>1.000000</td>\n",
       "      <td>-0.205285</td>\n",
       "      <td>0.044889</td>\n",
       "      <td>0.182615</td>\n",
       "    </tr>\n",
       "    <tr>\n",
       "      <th>tax</th>\n",
       "      <td>0.283455</td>\n",
       "      <td>0.214498</td>\n",
       "      <td>-0.205285</td>\n",
       "      <td>1.000000</td>\n",
       "      <td>-0.430292</td>\n",
       "      <td>0.155727</td>\n",
       "    </tr>\n",
       "    <tr>\n",
       "      <th>mpg</th>\n",
       "      <td>-0.020607</td>\n",
       "      <td>-0.039910</td>\n",
       "      <td>0.044889</td>\n",
       "      <td>-0.430292</td>\n",
       "      <td>1.000000</td>\n",
       "      <td>-0.106868</td>\n",
       "    </tr>\n",
       "    <tr>\n",
       "      <th>engineSize</th>\n",
       "      <td>-0.045567</td>\n",
       "      <td>0.727592</td>\n",
       "      <td>0.182615</td>\n",
       "      <td>0.155727</td>\n",
       "      <td>-0.106868</td>\n",
       "      <td>1.000000</td>\n",
       "    </tr>\n",
       "  </tbody>\n",
       "</table>\n",
       "</div>"
      ],
      "text/plain": [
       "                year     price   mileage       tax       mpg  engineSize\n",
       "year        1.000000  0.420959 -0.727749  0.283455 -0.020607   -0.045567\n",
       "price       0.420959  1.000000 -0.297936  0.214498 -0.039910    0.727592\n",
       "mileage    -0.727749 -0.297936  1.000000 -0.205285  0.044889    0.182615\n",
       "tax         0.283455  0.214498 -0.205285  1.000000 -0.430292    0.155727\n",
       "mpg        -0.020607 -0.039910  0.044889 -0.430292  1.000000   -0.106868\n",
       "engineSize -0.045567  0.727592  0.182615  0.155727 -0.106868    1.000000"
      ]
     },
     "execution_count": 9,
     "metadata": {},
     "output_type": "execute_result"
    }
   ],
   "source": [
    "df.corr()"
   ]
  },
  {
   "cell_type": "code",
   "execution_count": 10,
   "id": "fde264c7",
   "metadata": {},
   "outputs": [
    {
     "data": {
      "text/plain": [
       " Yaris            2122\n",
       " Aygo             1961\n",
       " Auris             712\n",
       " C-HR              479\n",
       " RAV4              473\n",
       " Corolla           267\n",
       " Prius             232\n",
       " Avensis           115\n",
       " Verso             114\n",
       " Hilux              86\n",
       " GT86               73\n",
       " Land Cruiser       51\n",
       " PROACE VERSO       15\n",
       " Supra              12\n",
       " Camry              11\n",
       " IQ                  8\n",
       " Urban Cruiser       4\n",
       " Verso-S             3\n",
       "Name: model, dtype: int64"
      ]
     },
     "execution_count": 10,
     "metadata": {},
     "output_type": "execute_result"
    }
   ],
   "source": [
    "df['model'].value_counts()"
   ]
  },
  {
   "cell_type": "code",
   "execution_count": 11,
   "id": "0bd8cb61",
   "metadata": {},
   "outputs": [
    {
     "data": {
      "text/plain": [
       "<AxesSubplot:>"
      ]
     },
     "execution_count": 11,
     "metadata": {},
     "output_type": "execute_result"
    },
    {
     "data": {
      "image/png": "[encoded data removed]",
      "text/plain": [
       "<Figure size 432x288 with 1 Axes>"
      ]
     },
     "metadata": {},
     "output_type": "display_data"
    }
   ],
   "source": [
    "df['model'].value_counts().plot(kind = 'bar' , x = 'model')"
   ]
  },
  {
   "cell_type": "markdown",
   "id": "95d27a66",
   "metadata": {},
   "source": [
    "### From the above graph we can see that model Yaris and Aygo are the most used toyota car"
   ]
  },
  {
   "cell_type": "code",
   "execution_count": 12,
   "id": "bbd291fa",
   "metadata": {},
   "outputs": [
    {
     "data": {
      "text/plain": [
       "2017    2019\n",
       "2019    1286\n",
       "2018    1015\n",
       "2016     997\n",
       "2015     525\n",
       "2014     352\n",
       "2013     204\n",
       "2020     128\n",
       "2012      42\n",
       "2011      40\n",
       "2009      29\n",
       "2007      20\n",
       "2008      19\n",
       "2010      18\n",
       "2005      12\n",
       "2006      11\n",
       "2004       7\n",
       "2003       6\n",
       "2002       4\n",
       "2000       1\n",
       "1999       1\n",
       "2001       1\n",
       "1998       1\n",
       "Name: year, dtype: int64"
      ]
     },
     "execution_count": 12,
     "metadata": {},
     "output_type": "execute_result"
    }
   ],
   "source": [
    "df['year'].value_counts()"
   ]
  },
  {
   "cell_type": "code",
   "execution_count": 13,
   "id": "296825bc",
   "metadata": {},
   "outputs": [
    {
     "data": {
      "text/plain": [
       "<AxesSubplot:>"
      ]
     },
     "execution_count": 13,
     "metadata": {},
     "output_type": "execute_result"
    },
    {
     "data": {
      "image/png": "[encoded data removed]",
      "text/plain": [
       "<Figure size 432x288 with 1 Axes>"
      ]
     },
     "metadata": {},
     "output_type": "display_data"
    }
   ],
   "source": [
    "df['year'].value_counts().plot(kind = 'bar' , x = 'year')"
   ]
  },
  {
   "cell_type": "markdown",
   "id": "9b118ed2",
   "metadata": {},
   "source": [
    "### Most of the toyota cars are registerd in the years 2017 and 2019"
   ]
  },
  {
   "cell_type": "code",
   "execution_count": 14,
   "id": "828d7c3e",
   "metadata": {},
   "outputs": [
    {
     "data": {
      "text/plain": [
       "9995     115\n",
       "8995      86\n",
       "10995     74\n",
       "7995      72\n",
       "11995     67\n",
       "        ... \n",
       "13555      1\n",
       "7410       1\n",
       "9445       1\n",
       "9791       1\n",
       "8188       1\n",
       "Name: price, Length: 2114, dtype: int64"
      ]
     },
     "execution_count": 14,
     "metadata": {},
     "output_type": "execute_result"
    }
   ],
   "source": [
    "df['price'].value_counts()"
   ]
  },
  {
   "cell_type": "markdown",
   "id": "11e06116",
   "metadata": {},
   "source": [
    "### Most of the car is sold at price of 9995 euros"
   ]
  },
  {
   "cell_type": "code",
   "execution_count": 15,
   "id": "d9313b11",
   "metadata": {},
   "outputs": [
    {
     "data": {
      "text/plain": [
       "Manual       3826\n",
       "Automatic    2657\n",
       "Semi-Auto     254\n",
       "Other           1\n",
       "Name: transmission, dtype: int64"
      ]
     },
     "execution_count": 15,
     "metadata": {},
     "output_type": "execute_result"
    }
   ],
   "source": [
    "df['transmission'].value_counts()"
   ]
  },
  {
   "cell_type": "code",
   "execution_count": 16,
   "id": "8a5f9c8b",
   "metadata": {},
   "outputs": [
    {
     "data": {
      "text/plain": [
       "<AxesSubplot:>"
      ]
     },
     "execution_count": 16,
     "metadata": {},
     "output_type": "execute_result"
    },
    {
     "data": {
      "image/png": "[encoded data removed]",
      "text/plain": [
       "<Figure size 432x288 with 1 Axes>"
      ]
     },
     "metadata": {},
     "output_type": "display_data"
    }
   ],
   "source": [
    "df['transmission'].value_counts().plot(kind = 'bar' , x = 'transmission')"
   ]
  },
  {
   "cell_type": "markdown",
   "id": "eb409527",
   "metadata": {},
   "source": [
    "### Manual gear box  is the most used  type of gear box in toyota cars."
   ]
  },
  {
   "cell_type": "code",
   "execution_count": 17,
   "id": "c7496a07",
   "metadata": {},
   "outputs": [
    {
     "data": {
      "text/plain": [
       "5000     28\n",
       "1000     19\n",
       "3000     17\n",
       "25000    16\n",
       "14000    15\n",
       "         ..\n",
       "8965      1\n",
       "35588     1\n",
       "51996     1\n",
       "31490     1\n",
       "10239     1\n",
       "Name: mileage, Length: 5699, dtype: int64"
      ]
     },
     "execution_count": 17,
     "metadata": {},
     "output_type": "execute_result"
    }
   ],
   "source": [
    "df['mileage'].value_counts()"
   ]
  },
  {
   "cell_type": "markdown",
   "id": "292d42f2",
   "metadata": {},
   "source": [
    "### Mileage of most of the vehicles are 5000"
   ]
  },
  {
   "cell_type": "code",
   "execution_count": 18,
   "id": "dbb50b5d",
   "metadata": {},
   "outputs": [
    {
     "data": {
      "text/plain": [
       "Petrol    4087\n",
       "Hybrid    2043\n",
       "Diesel     503\n",
       "Other      105\n",
       "Name: fuelType, dtype: int64"
      ]
     },
     "execution_count": 18,
     "metadata": {},
     "output_type": "execute_result"
    }
   ],
   "source": [
    "df['fuelType'].value_counts()"
   ]
  },
  {
   "cell_type": "code",
   "execution_count": 19,
   "id": "0654e599",
   "metadata": {},
   "outputs": [
    {
     "data": {
      "text/plain": [
       "<AxesSubplot:>"
      ]
     },
     "execution_count": 19,
     "metadata": {},
     "output_type": "execute_result"
    },
    {
     "data": {
      "image/png": "[encoded data removed]",
      "text/plain": [
       "<Figure size 432x288 with 1 Axes>"
      ]
     },
     "metadata": {},
     "output_type": "display_data"
    }
   ],
   "source": [
    "df['fuelType'].value_counts().plot(kind = 'bar' , x = 'fuelType' , color = 'green')"
   ]
  },
  {
   "cell_type": "markdown",
   "id": "a6774b40",
   "metadata": {},
   "source": [
    "### From above graph we can see that Petrol is used in most of the cars."
   ]
  },
  {
   "cell_type": "code",
   "execution_count": 20,
   "id": "5a816f27",
   "metadata": {},
   "outputs": [
    {
     "data": {
      "text/plain": [
       "145    2090\n",
       "0      1790\n",
       "135     678\n",
       "30      587\n",
       "150     529\n",
       "20      253\n",
       "140     223\n",
       "125     196\n",
       "260      93\n",
       "200      74\n",
       "265      41\n",
       "160      41\n",
       "205      28\n",
       "10       23\n",
       "165      23\n",
       "235      21\n",
       "300      16\n",
       "325      13\n",
       "240       5\n",
       "330       4\n",
       "305       2\n",
       "115       1\n",
       "155       1\n",
       "120       1\n",
       "540       1\n",
       "250       1\n",
       "190       1\n",
       "565       1\n",
       "555       1\n",
       "Name: tax, dtype: int64"
      ]
     },
     "execution_count": 20,
     "metadata": {},
     "output_type": "execute_result"
    }
   ],
   "source": [
    "df['tax'].value_counts()"
   ]
  },
  {
   "cell_type": "code",
   "execution_count": 21,
   "id": "e9a717e7",
   "metadata": {},
   "outputs": [
    {
     "data": {
      "text/plain": [
       "<AxesSubplot:>"
      ]
     },
     "execution_count": 21,
     "metadata": {},
     "output_type": "execute_result"
    },
    {
     "data": {
      "image/png": "[encoded data removed]",
      "text/plain": [
       "<Figure size 432x288 with 1 Axes>"
      ]
     },
     "metadata": {},
     "output_type": "display_data"
    }
   ],
   "source": [
    "df['tax'].value_counts().plot(kind = 'bar' , x = 'tax', color = 'violet')"
   ]
  },
  {
   "cell_type": "markdown",
   "id": "85652cf8",
   "metadata": {},
   "source": [
    "### Almost 2090 cars has to pay road tax and 1790 cars are not needed to pay the road tax."
   ]
  },
  {
   "cell_type": "code",
   "execution_count": 22,
   "id": "1b7d6477",
   "metadata": {},
   "outputs": [
    {
     "data": {
      "text/plain": [
       "69.0    676\n",
       "56.5    475\n",
       "68.9    473\n",
       "47.9    412\n",
       "74.3    362\n",
       "       ... \n",
       "27.2      1\n",
       "31.0      1\n",
       "37.2      1\n",
       "30.4      1\n",
       "29.7      1\n",
       "Name: mpg, Length: 81, dtype: int64"
      ]
     },
     "execution_count": 22,
     "metadata": {},
     "output_type": "execute_result"
    }
   ],
   "source": [
    "df['mpg'].value_counts()"
   ]
  },
  {
   "cell_type": "code",
   "execution_count": 23,
   "id": "5e424ebc",
   "metadata": {},
   "outputs": [
    {
     "data": {
      "text/plain": [
       "1.0    2059\n",
       "1.5    1423\n",
       "1.8    1289\n",
       "1.3     601\n",
       "2.0     398\n",
       "1.2     303\n",
       "2.5     249\n",
       "1.6     169\n",
       "2.4      70\n",
       "2.2      58\n",
       "1.4      40\n",
       "2.8      36\n",
       "3.0      35\n",
       "0.0       6\n",
       "4.5       1\n",
       "4.2       1\n",
       "Name: engineSize, dtype: int64"
      ]
     },
     "execution_count": 23,
     "metadata": {},
     "output_type": "execute_result"
    }
   ],
   "source": [
    "df['engineSize'].value_counts()"
   ]
  },
  {
   "cell_type": "code",
   "execution_count": 24,
   "id": "bafc4f2f",
   "metadata": {},
   "outputs": [
    {
     "data": {
      "text/plain": [
       "<AxesSubplot:>"
      ]
     },
     "execution_count": 24,
     "metadata": {},
     "output_type": "execute_result"
    },
    {
     "data": {
      "image/png": "[encoded data removed]",
      "text/plain": [
       "<Figure size 432x288 with 1 Axes>"
      ]
     },
     "metadata": {},
     "output_type": "display_data"
    }
   ],
   "source": [
    "df['engineSize'].value_counts().plot(kind = 'bar' , x = 'engineSize', color = 'blue')"
   ]
  },
  {
   "cell_type": "markdown",
   "id": "821f4a8f",
   "metadata": {},
   "source": [
    "### Most of the engine sizes are 1.0 litres in toyota cars."
   ]
  },
  {
   "cell_type": "code",
   "execution_count": 25,
   "id": "8a55ddb5",
   "metadata": {},
   "outputs": [],
   "source": [
    "sns.set(rc={'figure.figsize':(25,20)})"
   ]
  },
  {
   "cell_type": "code",
   "execution_count": 26,
   "id": "db82bb25",
   "metadata": {},
   "outputs": [
    {
     "data": {
      "text/plain": [
       "<AxesSubplot:xlabel='model', ylabel='price'>"
      ]
     },
     "execution_count": 26,
     "metadata": {},
     "output_type": "execute_result"
    },
    {
     "data": {
      "image/png": "[encoded data removed]",
      "text/plain": [
       "<Figure size 1800x1440 with 1 Axes>"
      ]
     },
     "metadata": {},
     "output_type": "display_data"
    }
   ],
   "source": [
    "sns.barplot(x = \"model\", y = \"price\", data = df)"
   ]
  },
  {
   "cell_type": "markdown",
   "id": "e1a1fcb4",
   "metadata": {},
   "source": [
    "### From the above analysis, we can say that model Supra has highest about 50000 euros where as cheapest car is IQ model"
   ]
  },
  {
   "cell_type": "code",
   "execution_count": 27,
   "id": "165ab118",
   "metadata": {},
   "outputs": [],
   "source": [
    "sns.set(rc={'figure.figsize':(11.7,8.27)})"
   ]
  },
  {
   "cell_type": "code",
   "execution_count": 28,
   "id": "a63b3e5d",
   "metadata": {},
   "outputs": [
    {
     "data": {
      "text/plain": [
       "<AxesSubplot:xlabel='transmission', ylabel='price'>"
      ]
     },
     "execution_count": 28,
     "metadata": {},
     "output_type": "execute_result"
    },
    {
     "data": {
      "image/png": "[encoded data removed]",
      "text/plain": [
       "<Figure size 842.4x595.44 with 1 Axes>"
      ]
     },
     "metadata": {},
     "output_type": "display_data"
    }
   ],
   "source": [
    "sns.boxplot(x = \"transmission\", y = \"price\", data = df)"
   ]
  },
  {
   "cell_type": "markdown",
   "id": "1907b643",
   "metadata": {},
   "source": [
    "### Manual cars has lowest average price and Automatic has highest average price."
   ]
  },
  {
   "cell_type": "code",
   "execution_count": 29,
   "id": "7aceab05",
   "metadata": {},
   "outputs": [
    {
     "data": {
      "text/plain": [
       "<AxesSubplot:xlabel='engineSize', ylabel='price'>"
      ]
     },
     "execution_count": 29,
     "metadata": {},
     "output_type": "execute_result"
    },
    {
     "data": {
      "image/png": "[encoded data removed]",
      "text/plain": [
       "<Figure size 842.4x595.44 with 1 Axes>"
      ]
     },
     "metadata": {},
     "output_type": "display_data"
    }
   ],
   "source": [
    "sns.barplot(x = \"engineSize\", y = \"price\", data = df)"
   ]
  },
  {
   "cell_type": "markdown",
   "id": "f63e1d8e",
   "metadata": {},
   "source": [
    "### Engines with size 2.8 and 4.5 has the highest price."
   ]
  },
  {
   "cell_type": "code",
   "execution_count": 30,
   "id": "8c7b94c9",
   "metadata": {},
   "outputs": [
    {
     "data": {
      "text/plain": [
       "<AxesSubplot:xlabel='fuelType', ylabel='price'>"
      ]
     },
     "execution_count": 30,
     "metadata": {},
     "output_type": "execute_result"
    },
    {
     "data": {
      "image/png": "[encoded data removed]",
      "text/plain": [
       "<Figure size 842.4x595.44 with 1 Axes>"
      ]
     },
     "metadata": {},
     "output_type": "display_data"
    }
   ],
   "source": [
    "sns.boxplot(x = \"fuelType\", y = \"price\", data = df)"
   ]
  },
  {
   "cell_type": "markdown",
   "id": "e4a5c0ec",
   "metadata": {},
   "source": [
    "### Petrol fueled car has lowest average price and Hybrid car has highest average price"
   ]
  },
  {
   "cell_type": "code",
   "execution_count": 31,
   "id": "e3a32a91",
   "metadata": {},
   "outputs": [],
   "source": [
    "sns.set(rc={'figure.figsize':(25,16)})"
   ]
  },
  {
   "cell_type": "code",
   "execution_count": 32,
   "id": "e8f1c818",
   "metadata": {},
   "outputs": [
    {
     "data": {
      "text/plain": [
       "<AxesSubplot:xlabel='model', ylabel='tax'>"
      ]
     },
     "execution_count": 32,
     "metadata": {},
     "output_type": "execute_result"
    },
    {
     "data": {
      "image/png": "[encoded data removed]",
      "text/plain": [
       "<Figure size 1800x1152 with 1 Axes>"
      ]
     },
     "metadata": {},
     "output_type": "display_data"
    }
   ],
   "source": [
    "sns.barplot(x = \"model\", y = \"tax\", data = df)"
   ]
  },
  {
   "cell_type": "markdown",
   "id": "48244157",
   "metadata": {},
   "source": [
    "### Model Hilux has highest road tax"
   ]
  },
  {
   "cell_type": "code",
   "execution_count": 33,
   "id": "4a55deca",
   "metadata": {},
   "outputs": [],
   "source": [
    "sns.set(rc={'figure.figsize':(20,8.27)})"
   ]
  },
  {
   "cell_type": "code",
   "execution_count": 34,
   "id": "efcf3e30",
   "metadata": {},
   "outputs": [
    {
     "data": {
      "text/plain": [
       "<seaborn.axisgrid.FacetGrid at 0x21525f434f0>"
      ]
     },
     "execution_count": 34,
     "metadata": {},
     "output_type": "execute_result"
    },
    {
     "data": {
      "image/png": "[encoded data removed]",
      "text/plain": [
       "<Figure size 431.6x360 with 1 Axes>"
      ]
     },
     "metadata": {},
     "output_type": "display_data"
    }
   ],
   "source": [
    "sns.catplot(x = \"transmission\", y = \"price\", hue= \"fuelType\", data = df)"
   ]
  },
  {
   "cell_type": "raw",
   "id": "a58fe747",
   "metadata": {},
   "source": [
    " "
   ]
  },
  {
   "cell_type": "markdown",
   "id": "4c81ea2e",
   "metadata": {},
   "source": [
    "# LOGISTIC REGRESSION"
   ]
  },
  {
   "cell_type": "code",
   "execution_count": 35,
   "id": "5cdd6601",
   "metadata": {},
   "outputs": [
    {
     "data": {
      "text/plain": [
       "Index(['model', 'year', 'price', 'transmission', 'mileage', 'fuelType', 'tax',\n",
       "       'mpg', 'engineSize'],\n",
       "      dtype='object')"
      ]
     },
     "execution_count": 35,
     "metadata": {},
     "output_type": "execute_result"
    }
   ],
   "source": [
    "df.columns"
   ]
  },
  {
   "cell_type": "code",
   "execution_count": 40,
   "id": "2fed0d9a",
   "metadata": {},
   "outputs": [],
   "source": [
    "X = df[[ 'mileage', 'tax','mpg', 'engineSize']]\n",
    "y = df['price']"
   ]
  },
  {
   "cell_type": "code",
   "execution_count": 41,
   "id": "1146c58c",
   "metadata": {},
   "outputs": [],
   "source": [
    "X_train, X_test, y_train, y_test = train_test_split(X, y, test_size=0.20, random_state=42)"
   ]
  },
  {
   "cell_type": "code",
   "execution_count": 42,
   "id": "068c7b04",
   "metadata": {},
   "outputs": [],
   "source": [
    "lgr = LogisticRegression(random_state=0)"
   ]
  },
  {
   "cell_type": "code",
   "execution_count": 43,
   "id": "b66b590b",
   "metadata": {},
   "outputs": [
    {
     "name": "stderr",
     "output_type": "stream",
     "text": [
      "C:\\Users\\User\\anaconda3\\lib\\site-packages\\sklearn\\linear_model\\_logistic.py:763: ConvergenceWarning: lbfgs failed to converge (status=1):\n",
      "STOP: TOTAL NO. of ITERATIONS REACHED LIMIT.\n",
      "\n",
      "Increase the number of iterations (max_iter) or scale the data as shown in:\n",
      "    https://scikit-learn.org/stable/modules/preprocessing.html\n",
      "Please also refer to the documentation for alternative solver options:\n",
      "    https://scikit-learn.org/stable/modules/linear_model.html#logistic-regression\n",
      "  n_iter_i = _check_optimize_result(\n"
     ]
    },
    {
     "data": {
      "text/plain": [
       "LogisticRegression(random_state=0)"
      ]
     },
     "execution_count": 43,
     "metadata": {},
     "output_type": "execute_result"
    }
   ],
   "source": [
    "lgr.fit(X_train, y_train)"
   ]
  },
  {
   "cell_type": "code",
   "execution_count": 44,
   "id": "af6a42d8",
   "metadata": {},
   "outputs": [
    {
     "data": {
      "text/plain": [
       "array([-3.27897364e-07, -1.64432987e-07, -2.24145830e-07, ...,\n",
       "        1.65434907e-08,  2.27915824e-08, -1.40053379e-09])"
      ]
     },
     "execution_count": 44,
     "metadata": {},
     "output_type": "execute_result"
    }
   ],
   "source": [
    "lgr.coef_\n",
    "lgr.intercept_"
   ]
  },
  {
   "cell_type": "code",
   "execution_count": 45,
   "id": "7350db43",
   "metadata": {},
   "outputs": [
    {
     "data": {
      "text/plain": [
       "array([9995, 9995, 9995, ..., 9995, 9995, 9995], dtype=int64)"
      ]
     },
     "execution_count": 45,
     "metadata": {},
     "output_type": "execute_result"
    }
   ],
   "source": [
    "prediction = lgr.predict(X_test)\n",
    "prediction"
   ]
  },
  {
   "cell_type": "code",
   "execution_count": 46,
   "id": "57aa504d",
   "metadata": {},
   "outputs": [
    {
     "data": {
      "text/plain": [
       "0.015584415584415584"
      ]
     },
     "execution_count": 46,
     "metadata": {},
     "output_type": "execute_result"
    }
   ],
   "source": [
    "lgr.score(X_train, y_train)"
   ]
  },
  {
   "cell_type": "code",
   "execution_count": 47,
   "id": "369fb0f9",
   "metadata": {},
   "outputs": [
    {
     "data": {
      "text/plain": [
       "0.022997032640949554"
      ]
     },
     "execution_count": 47,
     "metadata": {},
     "output_type": "execute_result"
    }
   ],
   "source": [
    "lgr.score(X_test, y_test)"
   ]
  },
  {
   "cell_type": "code",
   "execution_count": 48,
   "id": "e25cfda7",
   "metadata": {},
   "outputs": [],
   "source": [
    "from sklearn.metrics import confusion_matrix\n",
    "from sklearn import metrics"
   ]
  },
  {
   "cell_type": "markdown",
   "id": "56249748",
   "metadata": {},
   "source": [
    "## 1. Confusion matrix"
   ]
  },
  {
   "cell_type": "code",
   "execution_count": 49,
   "id": "99d0ce8c",
   "metadata": {},
   "outputs": [
    {
     "name": "stdout",
     "output_type": "stream",
     "text": [
      "[[0 0 0 ... 0 0 0]\n",
      " [0 0 0 ... 0 0 0]\n",
      " [0 0 0 ... 0 0 0]\n",
      " ...\n",
      " [0 0 0 ... 0 0 0]\n",
      " [0 0 0 ... 0 0 0]\n",
      " [0 0 0 ... 0 0 0]]\n"
     ]
    }
   ],
   "source": [
    "cm = confusion_matrix(y_test, prediction)\n",
    "print(cm)"
   ]
  },
  {
   "cell_type": "code",
   "execution_count": 50,
   "id": "8379f792",
   "metadata": {},
   "outputs": [],
   "source": [
    "from sklearn.metrics import precision_score\n",
    "Precision = precision_score(y_test,prediction)"
   ]
  },
  {
   "cell_type": "code",
   "execution_count": 51,
   "id": "855dd7cd",
   "metadata": {},
   "outputs": [],
   "source": [
    "from sklearn.metrics import recall_score\n",
    "Recall = recall_score(y_test,prediction)\n",
    "Recall"
   ]
  },
  {
   "cell_type": "code",
   "execution_count": 137,
   "id": "84dbf346",
   "metadata": {},
   "outputs": [
    {
     "name": "stderr",
     "output_type": "stream",
     "text": [
      "C:\\Users\\User\\anaconda3\\lib\\site-packages\\sklearn\\metrics\\_classification.py:1245: UndefinedMetricWarning: Precision and F-score are ill-defined and being set to 0.0 in labels with no predicted samples. Use `zero_division` parameter to control this behavior.\n",
      "  _warn_prf(average, modifier, msg_start, len(result))\n",
      "C:\\Users\\User\\anaconda3\\lib\\site-packages\\sklearn\\metrics\\_classification.py:1245: UndefinedMetricWarning: Recall and F-score are ill-defined and being set to 0.0 in labels with no true samples. Use `zero_division` parameter to control this behavior.\n",
      "  _warn_prf(average, modifier, msg_start, len(result))\n",
      "C:\\Users\\User\\anaconda3\\lib\\site-packages\\sklearn\\metrics\\_classification.py:1245: UndefinedMetricWarning: Precision and F-score are ill-defined and being set to 0.0 in labels with no predicted samples. Use `zero_division` parameter to control this behavior.\n",
      "  _warn_prf(average, modifier, msg_start, len(result))\n",
      "C:\\Users\\User\\anaconda3\\lib\\site-packages\\sklearn\\metrics\\_classification.py:1245: UndefinedMetricWarning: Recall and F-score are ill-defined and being set to 0.0 in labels with no true samples. Use `zero_division` parameter to control this behavior.\n",
      "  _warn_prf(average, modifier, msg_start, len(result))\n",
      "C:\\Users\\User\\anaconda3\\lib\\site-packages\\sklearn\\metrics\\_classification.py:1245: UndefinedMetricWarning: Precision and F-score are ill-defined and being set to 0.0 in labels with no predicted samples. Use `zero_division` parameter to control this behavior.\n",
      "  _warn_prf(average, modifier, msg_start, len(result))\n",
      "C:\\Users\\User\\anaconda3\\lib\\site-packages\\sklearn\\metrics\\_classification.py:1245: UndefinedMetricWarning: Recall and F-score are ill-defined and being set to 0.0 in labels with no true samples. Use `zero_division` parameter to control this behavior.\n",
      "  _warn_prf(average, modifier, msg_start, len(result))\n"
     ]
    },
    {
     "data": {
      "text/plain": [
       "'              precision    recall  f1-score   support\\n\\n           4       0.00      0.00      0.00       2.0\\n          10       0.00      0.00      0.00       3.0\\n          20       0.00      0.00      0.00       3.0\\n          25       0.00      0.00      0.00       3.0\\n          26       0.00      0.00      0.00       1.0\\n          28       0.00      0.00      0.00       1.0\\n          50       0.00      0.00      0.00       1.0\\n         100       0.00      0.00      0.00       3.0\\n         148       0.00      0.00      0.00       1.0\\n         150       0.00      0.00      0.00       1.0\\n         162       0.00      0.00      0.00       1.0\\n         192       0.00      0.00      0.00       1.0\\n         211       0.00      0.00      0.00       1.0\\n         315       0.00      0.00      0.00       1.0\\n         384       0.00      0.00      0.00       1.0\\n         390       0.00      0.00      0.00       1.0\\n         458       0.00      0.00      0.00       1.0\\n         500       0.00      0.00      0.00       1.0\\n         516       0.00      0.00      0.00       1.0\\n         616       0.00      0.00      0.00       1.0\\n         647       0.00      0.00      0.00       1.0\\n         649       0.00      0.00      0.00       1.0\\n         650       0.00      0.00      0.00       1.0\\n         789       0.00      0.00      0.00       1.0\\n         812       0.00      0.00      0.00       1.0\\n         985       0.00      0.00      0.00       1.0\\n         987       0.00      0.00      0.00       1.0\\n         998       0.00      0.00      0.00       1.0\\n         999       0.00      0.00      0.00       1.0\\n        1000       0.00      0.00      0.00       2.0\\n        1069       0.00      0.00      0.00       1.0\\n        1094       0.00      0.00      0.00       1.0\\n        1115       0.00      0.00      0.00       1.0\\n        1118       0.00      0.00      0.00       1.0\\n        1208       0.00      0.00      0.00       1.0\\n        1225       0.00      0.00      0.00       1.0\\n        1244       0.00      0.00      0.00       1.0\\n        1266       0.00      0.00      0.00       1.0\\n        1289       0.00      0.00      0.00       1.0\\n        1310       0.00      0.00      0.00       1.0\\n        1350       0.00      0.00      0.00       2.0\\n        1360       0.00      0.00      0.00       1.0\\n        1378       0.00      0.00      0.00       1.0\\n        1401       0.00      0.00      0.00       1.0\\n        1404       0.00      0.00      0.00       1.0\\n        1424       0.00      0.00      0.00       1.0\\n        1436       0.00      0.00      0.00       1.0\\n        1500       0.00      0.00      0.00       3.0\\n        1544       0.00      0.00      0.00       1.0\\n        1557       0.00      0.00      0.00       1.0\\n        1562       0.00      0.00      0.00       1.0\\n        1599       0.00      0.00      0.00       1.0\\n        1697       0.00      0.00      0.00       1.0\\n        1723       0.00      0.00      0.00       1.0\\n        1729       0.00      0.00      0.00       1.0\\n        1751       0.00      0.00      0.00       1.0\\n        1820       0.00      0.00      0.00       1.0\\n        1855       0.00      0.00      0.00       1.0\\n        1863       0.00      0.00      0.00       1.0\\n        1927       0.00      0.00      0.00       1.0\\n        1974       0.00      0.00      0.00       1.0\\n        1985       0.00      0.00      0.00       1.0\\n        1987       0.00      0.00      0.00       1.0\\n        1995       0.00      0.00      0.00       1.0\\n        1998       0.00      0.00      0.00       1.0\\n        2000       0.00      0.00      0.00       1.0\\n        2014       0.00      0.00      0.00       1.0\\n        2034       0.00      0.00      0.00       1.0\\n        2080       0.00      0.00      0.00       1.0\\n        2092       0.00      0.00      0.00       1.0\\n        2099       0.00      0.00      0.00       1.0\\n        2100       0.00      0.00      0.00       1.0\\n        2106       0.00      0.00      0.00       1.0\\n        2119       0.00      0.00      0.00       1.0\\n        2136       0.00      0.00      0.00       1.0\\n        2223       0.00      0.00      0.00       1.0\\n        2251       0.00      0.00      0.00       1.0\\n        2265       0.00      0.00      0.00       1.0\\n        2300       0.00      0.00      0.00       1.0\\n        2320       0.00      0.00      0.00       1.0\\n        2333       0.00      0.00      0.00       1.0\\n        2373       0.00      0.00      0.00       1.0\\n        2411       0.00      0.00      0.00       1.0\\n        2488       0.00      0.00      0.00       1.0\\n        2500       0.00      0.00      0.00       3.0\\n        2541       0.00      0.00      0.00       1.0\\n        2554       0.00      0.00      0.00       1.0\\n        2562       0.00      0.00      0.00       1.0\\n        2570       0.00      0.00      0.00       1.0\\n        2600       0.00      0.00      0.00       1.0\\n        2611       0.00      0.00      0.00       1.0\\n        2620       0.00      0.00      0.00       1.0\\n        2627       0.00      0.00      0.00       1.0\\n        2643       0.00      0.00      0.00       1.0\\n        2700       0.00      0.00      0.00       1.0\\n        2732       0.00      0.00      0.00       1.0\\n        2755       0.00      0.00      0.00       1.0\\n        2764       0.00      0.00      0.00       1.0\\n        2797       0.00      0.00      0.00       1.0\\n        2847       0.00      0.00      0.00       1.0\\n        2865       0.00      0.00      0.00       1.0\\n        2892       0.00      0.00      0.00       1.0\\n        2905       0.00      0.00      0.00       1.0\\n        2908       0.00      0.00      0.00       1.0\\n        2963       0.00      0.00      0.00       1.0\\n        2967       0.00      0.00      0.00       1.0\\n        2984       0.00      0.00      0.00       1.0\\n        2985       0.00      0.00      0.00       1.0\\n        3000       0.00      0.00      0.00       2.0\\n        3028       0.00      0.00      0.00       1.0\\n        3060       0.00      0.00      0.00       1.0\\n        3066       0.00      0.00      0.00       1.0\\n        3083       0.00      0.00      0.00       1.0\\n        3104       0.00      0.00      0.00       1.0\\n        3113       0.00      0.00      0.00       1.0\\n        3187       0.00      0.00      0.00       1.0\\n        3199       0.00      0.00      0.00       1.0\\n        3246       0.00      0.00      0.00       1.0\\n        3342       0.00      0.00      0.00       1.0\\n        3365       0.00      0.00      0.00       1.0\\n        3390       0.00      0.00      0.00       1.0\\n        3455       0.00      0.00      0.00       1.0\\n        3456       0.00      0.00      0.00       1.0\\n        3471       0.00      0.00      0.00       1.0\\n        3498       0.00      0.00      0.00       1.0\\n        3499       0.00      0.00      0.00       1.0\\n        3500       0.00      0.00      0.00       2.0\\n        3510       0.00      0.00      0.00       1.0\\n        3578       0.00      0.00      0.00       1.0\\n        3621       0.00      0.00      0.00       1.0\\n        3626       0.00      0.00      0.00       1.0\\n        3746       0.00      0.00      0.00       1.0\\n        3800       0.00      0.00      0.00       2.0\\n        3836       0.00      0.00      0.00       1.0\\n        3851       0.00      0.00      0.00       1.0\\n        3881       0.00      0.00      0.00       1.0\\n        3942       0.00      0.00      0.00       1.0\\n        3989       0.00      0.00      0.00       1.0\\n        3991       0.00      0.00      0.00       1.0\\n        4000       0.00      0.00      0.00       3.0\\n        4075       0.00      0.00      0.00       1.0\\n        4092       0.00      0.00      0.00       1.0\\n        4144       0.00      0.00      0.00       1.0\\n        4176       0.00      0.00      0.00       1.0\\n        4187       0.00      0.00      0.00       1.0\\n        4193       0.00      0.00      0.00       1.0\\n        4234       0.00      0.00      0.00       1.0\\n        4282       0.00      0.00      0.00       1.0\\n        4301       0.00      0.00      0.00       1.0\\n        4309       0.00      0.00      0.00       1.0\\n        4312       0.00      0.00      0.00       1.0\\n        4442       0.00      0.00      0.00       1.0\\n        4454       0.00      0.00      0.00       1.0\\n        4467       0.00      0.00      0.00       1.0\\n        4500       0.00      0.00      0.00       1.0\\n        4512       0.00      0.00      0.00       1.0\\n        4546       0.00      0.00      0.00       1.0\\n        4568       0.00      0.00      0.00       1.0\\n        4589       0.00      0.00      0.00       1.0\\n        4627       0.00      0.00      0.00       1.0\\n        4664       0.00      0.00      0.00       1.0\\n        4689       0.00      0.00      0.00       1.0\\n        4717       0.00      0.00      0.00       1.0\\n        4773       0.00      0.00      0.00       1.0\\n        4800       0.00      0.00      0.00       1.0\\n        4855       0.00      0.00      0.00       1.0\\n        4858       0.00      0.00      0.00       1.0\\n        4890       0.00      0.00      0.00       1.0\\n        4956       0.00      0.00      0.00       1.0\\n        4967       0.00      0.00      0.00       1.0\\n        4988       0.00      0.00      0.00       1.0\\n        4998       0.00      0.00      0.00       1.0\\n        5000       0.00      0.00      0.00       7.0\\n        5008       0.00      0.00      0.00       1.0\\n        5102       0.00      0.00      0.00       1.0\\n        5145       0.00      0.00      0.00       1.0\\n        5176       0.00      0.00      0.00       1.0\\n        5190       0.00      0.00      0.00       1.0\\n        5214       0.00      0.00      0.00       1.0\\n        5346       0.00      0.00      0.00       1.0\\n        5393       0.00      0.00      0.00       1.0\\n        5409       0.00      0.00      0.00       1.0\\n        5496       0.00      0.00      0.00       1.0\\n        5519       0.00      0.00      0.00       1.0\\n        5560       0.00      0.00      0.00       1.0\\n        5600       0.00      0.00      0.00       1.0\\n        5601       0.00      0.00      0.00       1.0\\n        5607       0.00      0.00      0.00       1.0\\n        5651       0.00      0.00      0.00       1.0\\n        5668       0.00      0.00      0.00       1.0\\n        5681       0.00      0.00      0.00       1.0\\n        5716       0.00      0.00      0.00       1.0\\n        5760       0.00      0.00      0.00       1.0\\n        5931       0.00      0.00      0.00       1.0\\n        5933       0.00      0.00      0.00       1.0\\n        5951       0.00      0.00      0.00       1.0\\n        6000       0.00      0.00      0.00       5.0\\n        6006       0.00      0.00      0.00       1.0\\n        6037       0.00      0.00      0.00       1.0\\n        6039       0.00      0.00      0.00       1.0\\n        6053       0.00      0.00      0.00       1.0\\n        6064       0.00      0.00      0.00       1.0\\n        6113       0.00      0.00      0.00       1.0\\n        6125       0.00      0.00      0.00       1.0\\n        6129       0.00      0.00      0.00       1.0\\n        6133       0.00      0.00      0.00       1.0\\n        6148       0.00      0.00      0.00       1.0\\n        6164       0.00      0.00      0.00       1.0\\n        6254       0.00      0.00      0.00       1.0\\n        6291       0.00      0.00      0.00       1.0\\n        6294       0.00      0.00      0.00       1.0\\n        6300       0.00      0.00      0.00       1.0\\n        6329       0.00      0.00      0.00       1.0\\n        6351       0.00      0.00      0.00       1.0\\n        6414       0.00      0.00      0.00       1.0\\n        6474       0.00      0.00      0.00       1.0\\n        6487       0.00      0.00      0.00       1.0\\n        6533       0.00      0.00      0.00       1.0\\n        6553       0.00      0.00      0.00       1.0\\n        6570       0.00      0.00      0.00       1.0\\n        6597       0.00      0.00      0.00       1.0\\n        6610       0.00      0.00      0.00       1.0\\n        6619       0.00      0.00      0.00       1.0\\n        6640       0.00      0.00      0.00       1.0\\n        6659       0.00      0.00      0.00       1.0\\n        6660       0.00      0.00      0.00       1.0\\n        6680       0.00      0.00      0.00       1.0\\n        6730       0.00      0.00      0.00       1.0\\n        6775       0.00      0.00      0.00       1.0\\n        6800       0.00      0.00      0.00       1.0\\n        6817       0.00      0.00      0.00       1.0\\n        6881       0.00      0.00      0.00       1.0\\n        6912       0.00      0.00      0.00       1.0\\n        6983       0.00      0.00      0.00       1.0\\n        6995       0.00      0.00      0.00       1.0\\n        6999       0.00      0.00      0.00       1.0\\n        7000       0.00      0.00      0.00       2.0\\n        7052       0.00      0.00      0.00       1.0\\n        7111       0.00      0.00      0.00       1.0\\n        7123       0.00      0.00      0.00       1.0\\n        7176       0.00      0.00      0.00       1.0\\n        7194       0.00      0.00      0.00       1.0\\n        7206       0.00      0.00      0.00       1.0\\n        7248       0.00      0.00      0.00       1.0\\n        7287       0.00      0.00      0.00       1.0\\n        7292       0.00      0.00      0.00       1.0\\n        7317       0.00      0.00      0.00       1.0\\n        7368       0.00      0.00      0.00       1.0\\n        7377       0.00      0.00      0.00       1.0\\n        7408       0.00      0.00      0.00       1.0\\n        7420       0.00      0.00      0.00       1.0\\n        7497       0.00      0.00      0.00       1.0\\n        7500       0.00      0.00      0.00       2.0\\n        7631       0.00      0.00      0.00       1.0\\n        7640       0.00      0.00      0.00       1.0\\n        7674       0.00      0.00      0.00       1.0\\n        7733       0.00      0.00      0.00       1.0\\n        7735       0.00      0.00      0.00       1.0\\n        7745       0.00      0.00      0.00       1.0\\n        7746       0.00      0.00      0.00       1.0\\n        7780       0.00      0.00      0.00       1.0\\n        7788       0.00      0.00      0.00       1.0\\n        7824       0.00      0.00      0.00       1.0\\n        7841       0.00      0.00      0.00       1.0\\n        7891       0.00      0.00      0.00       1.0\\n        7962       0.00      0.00      0.00       1.0\\n        8000       0.00      0.00      0.00       2.0\\n        8012       0.00      0.00      0.00       1.0\\n        8050       0.00      0.00      0.00       1.0\\n        8063       0.00      0.00      0.00       1.0\\n        8072       0.00      0.00      0.00       1.0\\n        8080       0.00      0.00      0.00       1.0\\n        8100       0.00      0.00      0.00       1.0\\n        8111       0.00      0.00      0.00       1.0\\n        8125       0.00      0.00      0.00       1.0\\n        8171       0.00      0.00      0.00       1.0\\n        8234       0.00      0.00      0.00       1.0\\n        8239       0.00      0.00      0.00       1.0\\n        8285       0.00      0.00      0.00       1.0\\n        8322       0.00      0.00      0.00       1.0\\n        8370       0.00      0.00      0.00       1.0\\n        8484       0.00      0.00      0.00       1.0\\n        8500       0.00      0.00      0.00       1.0\\n        8565       0.00      0.00      0.00       1.0\\n        8599       0.00      0.00      0.00       1.0\\n        8602       0.00      0.00      0.00       1.0\\n        8626       0.00      0.00      0.00       1.0\\n        8702       0.00      0.00      0.00       1.0\\n        8740       0.00      0.00      0.00       1.0\\n        8751       0.00      0.00      0.00       1.0\\n        8755       0.00      0.00      0.00       1.0\\n        8758       0.00      0.00      0.00       1.0\\n        8764       0.00      0.00      0.00       1.0\\n        8767       0.00      0.00      0.00       1.0\\n        8778       0.00      0.00      0.00       1.0\\n        8813       0.00      0.00      0.00       1.0\\n        8865       0.00      0.00      0.00       1.0\\n        8866       0.00      0.00      0.00       1.0\\n        8877       0.00      0.00      0.00       1.0\\n        8897       0.00      0.00      0.00       1.0\\n        8950       0.00      0.00      0.00       1.0\\n        8963       0.00      0.00      0.00       1.0\\n        8987       0.00      0.00      0.00       1.0\\n        9000       0.00      0.00      0.00       2.0\\n        9034       0.00      0.00      0.00       1.0\\n        9045       0.00      0.00      0.00       1.0\\n        9050       0.00      0.00      0.00       1.0\\n        9070       0.00      0.00      0.00       1.0\\n        9071       0.00      0.00      0.00       1.0\\n        9103       0.00      0.00      0.00       1.0\\n        9114       0.00      0.00      0.00       1.0\\n        9133       0.00      0.00      0.00       1.0\\n        9148       0.00      0.00      0.00       1.0\\n        9197       0.00      0.00      0.00       1.0\\n        9200       0.00      0.00      0.00       1.0\\n        9250       0.00      0.00      0.00       1.0\\n        9264       0.00      0.00      0.00       1.0\\n        9300       0.00      0.00      0.00       1.0\\n        9303       0.00      0.00      0.00       1.0\\n        9320       0.00      0.00      0.00       1.0\\n        9321       0.00      0.00      0.00       1.0\\n        9347       0.00      0.00      0.00       1.0\\n        9451       0.00      0.00      0.00       1.0\\n        9473       0.00      0.00      0.00       1.0\\n        9481       0.00      0.00      0.00       1.0\\n        9511       0.00      0.00      0.00       1.0\\n        9517       0.00      0.00      0.00       1.0\\n        9625       0.00      0.00      0.00       1.0\\n        9639       0.00      0.00      0.00       1.0\\n        9651       0.00      0.00      0.00       1.0\\n        9659       0.00      0.00      0.00       1.0\\n        9674       0.00      0.00      0.00       1.0\\n        9694       0.00      0.00      0.00       1.0\\n        9701       0.00      0.00      0.00       1.0\\n        9735       0.00      0.00      0.00       1.0\\n        9777       0.00      0.00      0.00       1.0\\n        9779       0.00      0.00      0.00       1.0\\n        9843       0.00      0.00      0.00       1.0\\n        9899       0.00      0.00      0.00       1.0\\n        9908       0.00      0.00      0.00       1.0\\n        9909       0.00      0.00      0.00       1.0\\n        9925       0.00      0.00      0.00       1.0\\n        9936       0.00      0.00      0.00       1.0\\n        9975       0.00      0.00      0.00       1.0\\n        9977       0.00      0.00      0.00       1.0\\n        9981       0.00      0.00      0.00       1.0\\n        9989       0.00      0.00      0.00       1.0\\n        9995       0.00      0.00      0.00       0.0\\n       10000       0.00      0.00      0.00       4.0\\n       10024       0.00      0.00      0.00       1.0\\n       10091       0.00      0.00      0.00       1.0\\n       10095       0.00      0.00      0.00       1.0\\n       10164       0.00      0.00      0.00       1.0\\n       10181       0.00      0.00      0.00       1.0\\n       10236       0.00      0.00      0.00       1.0\\n       10250       0.00      0.00      0.00       1.0\\n       10420       0.00      0.00      0.00       1.0\\n       10426       0.00      0.00      0.00       1.0\\n       10437       0.00      0.00      0.00       1.0\\n       10438       0.00      0.00      0.00       1.0\\n       10456       0.00      0.00      0.00       1.0\\n       10492       0.00      0.00      0.00       1.0\\n       10542       0.00      0.00      0.00       1.0\\n       10559       0.00      0.00      0.00       1.0\\n       10571       0.00      0.00      0.00       1.0\\n       10582       0.00      0.00      0.00       1.0\\n       10596       0.00      0.00      0.00       1.0\\n       10639       0.00      0.00      0.00       1.0\\n       10663       0.00      0.00      0.00       1.0\\n       10732       0.00      0.00      0.00       1.0\\n       10763       0.00      0.00      0.00       1.0\\n       10788       0.00      0.00      0.00       1.0\\n       10826       0.00      0.00      0.00       1.0\\n       10845       0.00      0.00      0.00       1.0\\n       10864       0.00      0.00      0.00       1.0\\n       10890       0.00      0.00      0.00       1.0\\n       10932       0.00      0.00      0.00       1.0\\n       10947       0.00      0.00      0.00       1.0\\n       10997       0.00      0.00      0.00       1.0\\n       11016       0.00      0.00      0.00       1.0\\n       11074       0.00      0.00      0.00       2.0\\n       11102       0.00      0.00      0.00       1.0\\n       11112       0.00      0.00      0.00       1.0\\n       11190       0.00      0.00      0.00       1.0\\n       11211       0.00      0.00      0.00       1.0\\n       11227       0.00      0.00      0.00       1.0\\n       11231       0.00      0.00      0.00       2.0\\n       11252       0.00      0.00      0.00       1.0\\n       11283       0.00      0.00      0.00       1.0\\n       11293       0.00      0.00      0.00       1.0\\n       11304       0.00      0.00      0.00       1.0\\n       11323       0.00      0.00      0.00       1.0\\n       11345       0.00      0.00      0.00       1.0\\n       11356       0.00      0.00      0.00       1.0\\n       11395       0.00      0.00      0.00       1.0\\n       11411       0.00      0.00      0.00       1.0\\n       11418       0.00      0.00      0.00       1.0\\n       11446       0.00      0.00      0.00       1.0\\n       11455       0.00      0.00      0.00       1.0\\n       11478       0.00      0.00      0.00       1.0\\n       11480       0.00      0.00      0.00       1.0\\n       11500       0.00      0.00      0.00       1.0\\n       11536       0.00      0.00      0.00       1.0\\n       11556       0.00      0.00      0.00       1.0\\n       11599       0.00      0.00      0.00       1.0\\n       11605       0.00      0.00      0.00       1.0\\n       11610       0.00      0.00      0.00       1.0\\n       11620       0.00      0.00      0.00       1.0\\n       11656       0.00      0.00      0.00       1.0\\n       11684       0.00      0.00      0.00       1.0\\n       11700       0.00      0.00      0.00       1.0\\n       11710       0.00      0.00      0.00       1.0\\n       11849       0.00      0.00      0.00       1.0\\n       11850       0.00      0.00      0.00       1.0\\n       11857       0.00      0.00      0.00       1.0\\n       11872       0.00      0.00      0.00       1.0\\n       11879       0.00      0.00      0.00       1.0\\n       11898       0.00      0.00      0.00       1.0\\n       11936       0.00      0.00      0.00       1.0\\n       11964       0.00      0.00      0.00       1.0\\n       11970       0.00      0.00      0.00       1.0\\n       11981       0.00      0.00      0.00       1.0\\n       11996       0.00      0.00      0.00       1.0\\n       12000       0.00      0.00      0.00       2.0\\n       12034       0.00      0.00      0.00       1.0\\n       12051       0.00      0.00      0.00       1.0\\n       12071       0.00      0.00      0.00       1.0\\n       12114       0.00      0.00      0.00       1.0\\n       12118       0.00      0.00      0.00       1.0\\n       12134       0.00      0.00      0.00       1.0\\n       12158       0.00      0.00      0.00       1.0\\n       12174       0.00      0.00      0.00       1.0\\n       12199       0.00      0.00      0.00       1.0\\n       12208       0.00      0.00      0.00       1.0\\n       12298       0.00      0.00      0.00       1.0\\n       12302       0.00      0.00      0.00       1.0\\n       12332       0.00      0.00      0.00       1.0\\n       12335       0.00      0.00      0.00       1.0\\n       12346       0.00      0.00      0.00       1.0\\n       12365       0.00      0.00      0.00       1.0\\n       12367       0.00      0.00      0.00       1.0\\n       12465       0.00      0.00      0.00       1.0\\n       12480       0.00      0.00      0.00       1.0\\n       12493       0.00      0.00      0.00       1.0\\n       12500       0.00      0.00      0.00       3.0\\n       12512       0.00      0.00      0.00       1.0\\n       12515       0.00      0.00      0.00       1.0\\n       12543       0.00      0.00      0.00       1.0\\n       12565       0.00      0.00      0.00       1.0\\n       12567       0.00      0.00      0.00       1.0\\n       12568       0.00      0.00      0.00       1.0\\n       12610       0.00      0.00      0.00       1.0\\n       12616       0.00      0.00      0.00       1.0\\n       12641       0.00      0.00      0.00       1.0\\n       12644       0.00      0.00      0.00       1.0\\n       12673       0.00      0.00      0.00       1.0\\n       12681       0.00      0.00      0.00       1.0\\n       12700       0.00      0.00      0.00       1.0\\n       12714       0.00      0.00      0.00       1.0\\n       12798       0.00      0.00      0.00       1.0\\n       12844       0.00      0.00      0.00       1.0\\n       12863       0.00      0.00      0.00       1.0\\n       12887       0.00      0.00      0.00       1.0\\n       12896       0.00      0.00      0.00       1.0\\n       12985       0.00      0.00      0.00       1.0\\n       12995       0.00      0.00      0.00       1.0\\n       12997       0.00      0.00      0.00       1.0\\n       13025       0.00      0.00      0.00       1.0\\n       13070       0.00      0.00      0.00       1.0\\n       13082       0.00      0.00      0.00       1.0\\n       13114       0.00      0.00      0.00       2.0\\n       13146       0.00      0.00      0.00       1.0\\n       13194       0.00      0.00      0.00       1.0\\n       13283       0.00      0.00      0.00       1.0\\n       13394       0.00      0.00      0.00       1.0\\n       13452       0.00      0.00      0.00       1.0\\n       13467       0.00      0.00      0.00       1.0\\n       13472       0.00      0.00      0.00       1.0\\n       13482       0.00      0.00      0.00       1.0\\n       13500       0.00      0.00      0.00       2.0\\n       13524       0.00      0.00      0.00       1.0\\n       13551       0.00      0.00      0.00       1.0\\n       13570       0.00      0.00      0.00       1.0\\n       13659       0.00      0.00      0.00       1.0\\n       13663       0.00      0.00      0.00       1.0\\n       13675       0.00      0.00      0.00       1.0\\n       13826       0.00      0.00      0.00       1.0\\n       13839       0.00      0.00      0.00       1.0\\n       13872       0.00      0.00      0.00       1.0\\n       13908       0.00      0.00      0.00       1.0\\n       13918       0.00      0.00      0.00       1.0\\n       13986       0.00      0.00      0.00       1.0\\n       14000       0.00      0.00      0.00       4.0\\n       14020       0.00      0.00      0.00       1.0\\n       14040       0.00      0.00      0.00       1.0\\n       14041       0.00      0.00      0.00       1.0\\n       14054       0.00      0.00      0.00       1.0\\n       14140       0.00      0.00      0.00       1.0\\n       14152       0.00      0.00      0.00       1.0\\n       14202       0.00      0.00      0.00       1.0\\n       14214       0.00      0.00      0.00       1.0\\n       14232       0.00      0.00      0.00       1.0\\n       14258       0.00      0.00      0.00       1.0\\n       14274       0.00      0.00      0.00       1.0\\n       14301       0.00      0.00      0.00       1.0\\n       14340       0.00      0.00      0.00       1.0\\n       14372       0.00      0.00      0.00       1.0\\n       14407       0.00      0.00      0.00       1.0\\n       14417       0.00      0.00      0.00       1.0\\n       14497       0.00      0.00      0.00       1.0\\n       14500       0.00      0.00      0.00       3.0\\n       14513       0.00      0.00      0.00       1.0\\n       14521       0.00      0.00      0.00       1.0\\n       14599       0.00      0.00      0.00       1.0\\n       14601       0.00      0.00      0.00       1.0\\n       14606       0.00      0.00      0.00       1.0\\n       14700       0.00      0.00      0.00       1.0\\n       14766       0.00      0.00      0.00       1.0\\n       14770       0.00      0.00      0.00       1.0\\n       14800       0.00      0.00      0.00       1.0\\n       14840       0.00      0.00      0.00       1.0\\n       14864       0.00      0.00      0.00       1.0\\n       14923       0.00      0.00      0.00       1.0\\n       14949       0.00      0.00      0.00       1.0\\n       14970       0.00      0.00      0.00       1.0\\n       14988       0.00      0.00      0.00       1.0\\n       15000       0.00      0.00      0.00       2.0\\n       15031       0.00      0.00      0.00       1.0\\n       15083       0.00      0.00      0.00       1.0\\n       15100       0.00      0.00      0.00       1.0\\n       15113       0.00      0.00      0.00       1.0\\n       15135       0.00      0.00      0.00       1.0\\n       15156       0.00      0.00      0.00       1.0\\n       15200       0.00      0.00      0.00       1.0\\n       15237       0.00      0.00      0.00       1.0\\n       15260       0.00      0.00      0.00       1.0\\n       15295       0.00      0.00      0.00       1.0\\n       15297       0.00      0.00      0.00       1.0\\n       15424       0.00      0.00      0.00       1.0\\n       15432       0.00      0.00      0.00       1.0\\n       15454       0.00      0.00      0.00       1.0\\n       15459       0.00      0.00      0.00       1.0\\n       15500       0.00      0.00      0.00       3.0\\n       15504       0.00      0.00      0.00       1.0\\n       15525       0.00      0.00      0.00       1.0\\n       15562       0.00      0.00      0.00       1.0\\n       15582       0.00      0.00      0.00       1.0\\n       15585       0.00      0.00      0.00       1.0\\n       15603       0.00      0.00      0.00       1.0\\n       15628       0.00      0.00      0.00       1.0\\n       15631       0.00      0.00      0.00       1.0\\n       15635       0.00      0.00      0.00       1.0\\n       15636       0.00      0.00      0.00       1.0\\n       15659       0.00      0.00      0.00       1.0\\n       15661       0.00      0.00      0.00       1.0\\n       15699       0.00      0.00      0.00       2.0\\n       15716       0.00      0.00      0.00       1.0\\n       15807       0.00      0.00      0.00       1.0\\n       15830       0.00      0.00      0.00       1.0\\n       15900       0.00      0.00      0.00       1.0\\n       15957       0.00      0.00      0.00       1.0\\n       15980       0.00      0.00      0.00       1.0\\n       16000       0.00      0.00      0.00       2.0\\n       16014       0.00      0.00      0.00       1.0\\n       16040       0.00      0.00      0.00       1.0\\n       16045       0.00      0.00      0.00       1.0\\n       16058       0.00      0.00      0.00       1.0\\n       16101       0.00      0.00      0.00       1.0\\n       16237       0.00      0.00      0.00       1.0\\n       16241       0.00      0.00      0.00       1.0\\n       16250       0.00      0.00      0.00       1.0\\n       16376       0.00      0.00      0.00       1.0\\n       16395       0.00      0.00      0.00       1.0\\n       16400       0.00      0.00      0.00       1.0\\n       16429       0.00      0.00      0.00       1.0\\n       16500       0.00      0.00      0.00       1.0\\n       16612       0.00      0.00      0.00       1.0\\n       16634       0.00      0.00      0.00       1.0\\n       16647       0.00      0.00      0.00       1.0\\n       16720       0.00      0.00      0.00       1.0\\n       16751       0.00      0.00      0.00       1.0\\n       16752       0.00      0.00      0.00       1.0\\n       16809       0.00      0.00      0.00       1.0\\n       16836       0.00      0.00      0.00       1.0\\n       16867       0.00      0.00      0.00       1.0\\n       16871       0.00      0.00      0.00       1.0\\n       16895       0.00      0.00      0.00       1.0\\n       16994       0.00      0.00      0.00       1.0\\n       17000       0.00      0.00      0.00       1.0\\n       17104       0.00      0.00      0.00       1.0\\n       17148       0.00      0.00      0.00       1.0\\n       17421       0.00      0.00      0.00       1.0\\n       17443       0.00      0.00      0.00       1.0\\n       17452       0.00      0.00      0.00       1.0\\n       17468       0.00      0.00      0.00       1.0\\n       17500       0.00      0.00      0.00       2.0\\n       17530       0.00      0.00      0.00       1.0\\n       17558       0.00      0.00      0.00       1.0\\n       17641       0.00      0.00      0.00       1.0\\n       17681       0.00      0.00      0.00       1.0\\n       17689       0.00      0.00      0.00       1.0\\n       17707       0.00      0.00      0.00       1.0\\n       17714       0.00      0.00      0.00       1.0\\n       17750       0.00      0.00      0.00       1.0\\n       17753       0.00      0.00      0.00       1.0\\n       17757       0.00      0.00      0.00       1.0\\n       17766       0.00      0.00      0.00       1.0\\n       17776       0.00      0.00      0.00       1.0\\n       17817       0.00      0.00      0.00       1.0\\n       17841       0.00      0.00      0.00       1.0\\n       17945       0.00      0.00      0.00       1.0\\n       17970       0.00      0.00      0.00       1.0\\n       18000       0.00      0.00      0.00       5.0\\n       18033       0.00      0.00      0.00       1.0\\n       18078       0.00      0.00      0.00       1.0\\n       18100       0.00      0.00      0.00       1.0\\n       18136       0.00      0.00      0.00       1.0\\n       18145       0.00      0.00      0.00       1.0\\n       18194       0.00      0.00      0.00       1.0\\n       18215       0.00      0.00      0.00       1.0\\n       18381       0.00      0.00      0.00       1.0\\n       18518       0.00      0.00      0.00       1.0\\n       18569       0.00      0.00      0.00       1.0\\n       18615       0.00      0.00      0.00       1.0\\n       18620       0.00      0.00      0.00       1.0\\n       18772       0.00      0.00      0.00       1.0\\n       18785       0.00      0.00      0.00       1.0\\n       18927       0.00      0.00      0.00       1.0\\n       18946       0.00      0.00      0.00       1.0\\n       18965       0.00      0.00      0.00       1.0\\n       19000       0.00      0.00      0.00       3.0\\n       19020       0.00      0.00      0.00       1.0\\n       19151       0.00      0.00      0.00       1.0\\n       19176       0.00      0.00      0.00       1.0\\n       19238       0.00      0.00      0.00       1.0\\n       19252       0.00      0.00      0.00       1.0\\n       19303       0.00      0.00      0.00       1.0\\n       19307       0.00      0.00      0.00       1.0\\n       19321       0.00      0.00      0.00       1.0\\n       19363       0.00      0.00      0.00       1.0\\n       19377       0.00      0.00      0.00       1.0\\n       19402       0.00      0.00      0.00       1.0\\n       19404       0.00      0.00      0.00       1.0\\n       19438       0.00      0.00      0.00       1.0\\n       19453       0.00      0.00      0.00       1.0\\n       19502       0.00      0.00      0.00       1.0\\n       19540       0.00      0.00      0.00       1.0\\n       19570       0.00      0.00      0.00       1.0\\n       19597       0.00      0.00      0.00       1.0\\n       19600       0.00      0.00      0.00       1.0\\n       19610       0.00      0.00      0.00       1.0\\n       19628       0.00      0.00      0.00       1.0\\n       19668       0.00      0.00      0.00       1.0\\n       19762       0.00      0.00      0.00       1.0\\n       19775       0.00      0.00      0.00       1.0\\n       19780       0.00      0.00      0.00       1.0\\n       19885       0.00      0.00      0.00       1.0\\n       19900       0.00      0.00      0.00       1.0\\n       19913       0.00      0.00      0.00       1.0\\n       19923       0.00      0.00      0.00       1.0\\n       19931       0.00      0.00      0.00       1.0\\n       19979       0.00      0.00      0.00       1.0\\n       20000       0.00      0.00      0.00       2.0\\n       20001       0.00      0.00      0.00       1.0\\n       20011       0.00      0.00      0.00       1.0\\n       20055       0.00      0.00      0.00       1.0\\n       20208       0.00      0.00      0.00       1.0\\n       20262       0.00      0.00      0.00       1.0\\n       20312       0.00      0.00      0.00       1.0\\n       20421       0.00      0.00      0.00       1.0\\n       20447       0.00      0.00      0.00       1.0\\n       20508       0.00      0.00      0.00       1.0\\n       20511       0.00      0.00      0.00       1.0\\n       20546       0.00      0.00      0.00       1.0\\n       20585       0.00      0.00      0.00       1.0\\n       20604       0.00      0.00      0.00       1.0\\n       20643       0.00      0.00      0.00       1.0\\n       20644       0.00      0.00      0.00       1.0\\n       20718       0.00      0.00      0.00       2.0\\n       20762       0.00      0.00      0.00       1.0\\n       20800       0.00      0.00      0.00       1.0\\n       20860       0.00      0.00      0.00       1.0\\n       20868       0.00      0.00      0.00       1.0\\n       20915       0.00      0.00      0.00       1.0\\n       20996       0.00      0.00      0.00       1.0\\n       21010       0.00      0.00      0.00       1.0\\n       21038       0.00      0.00      0.00       1.0\\n       21054       0.00      0.00      0.00       1.0\\n       21114       0.00      0.00      0.00       1.0\\n       21127       0.00      0.00      0.00       1.0\\n       21128       0.00      0.00      0.00       1.0\\n       21134       0.00      0.00      0.00       1.0\\n       21145       0.00      0.00      0.00       1.0\\n       21174       0.00      0.00      0.00       1.0\\n       21232       0.00      0.00      0.00       2.0\\n       21261       0.00      0.00      0.00       1.0\\n       21307       0.00      0.00      0.00       1.0\\n       21309       0.00      0.00      0.00       1.0\\n       21380       0.00      0.00      0.00       1.0\\n       21393       0.00      0.00      0.00       1.0\\n       21431       0.00      0.00      0.00       1.0\\n       21432       0.00      0.00      0.00       1.0\\n       21512       0.00      0.00      0.00       1.0\\n       21524       0.00      0.00      0.00       1.0\\n       21596       0.00      0.00      0.00       1.0\\n       21626       0.00      0.00      0.00       1.0\\n       21689       0.00      0.00      0.00       2.0\\n       21755       0.00      0.00      0.00       1.0\\n       21780       0.00      0.00      0.00       1.0\\n       21805       0.00      0.00      0.00       1.0\\n       21821       0.00      0.00      0.00       1.0\\n       21875       0.00      0.00      0.00       1.0\\n       21882       0.00      0.00      0.00       1.0\\n       21890       0.00      0.00      0.00       2.0\\n       21893       0.00      0.00      0.00       1.0\\n       21897       0.00      0.00      0.00       1.0\\n       21940       0.00      0.00      0.00       1.0\\n       21960       0.00      0.00      0.00       1.0\\n       21968       0.00      0.00      0.00       1.0\\n       21973       0.00      0.00      0.00       1.0\\n       21981       0.00      0.00      0.00       1.0\\n       22000       0.00      0.00      0.00       2.0\\n       22141       0.00      0.00      0.00       1.0\\n       22192       0.00      0.00      0.00       1.0\\n       22206       0.00      0.00      0.00       1.0\\n       22210       0.00      0.00      0.00       2.0\\n       22268       0.00      0.00      0.00       1.0\\n       22305       0.00      0.00      0.00       1.0\\n       22313       0.00      0.00      0.00       1.0\\n       22409       0.00      0.00      0.00       1.0\\n       22414       0.00      0.00      0.00       1.0\\n       22457       0.00      0.00      0.00       1.0\\n       22458       0.00      0.00      0.00       1.0\\n       22460       0.00      0.00      0.00       1.0\\n       22465       0.00      0.00      0.00       1.0\\n       22531       0.00      0.00      0.00       1.0\\n       22581       0.00      0.00      0.00       1.0\\n       22611       0.00      0.00      0.00       1.0\\n       22613       0.00      0.00      0.00       1.0\\n       22686       0.00      0.00      0.00       1.0\\n       22691       0.00      0.00      0.00       1.0\\n       22722       0.00      0.00      0.00       1.0\\n       22744       0.00      0.00      0.00       1.0\\n       22749       0.00      0.00      0.00       1.0\\n       22757       0.00      0.00      0.00       1.0\\n       22758       0.00      0.00      0.00       1.0\\n       22777       0.00      0.00      0.00       1.0\\n       22900       0.00      0.00      0.00       1.0\\n       22957       0.00      0.00      0.00       1.0\\n       22974       0.00      0.00      0.00       1.0\\n       23002       0.00      0.00      0.00       1.0\\n       23003       0.00      0.00      0.00       1.0\\n       23072       0.00      0.00      0.00       1.0\\n       23125       0.00      0.00      0.00       1.0\\n       23192       0.00      0.00      0.00       1.0\\n       23317       0.00      0.00      0.00       1.0\\n       23330       0.00      0.00      0.00       1.0\\n       23344       0.00      0.00      0.00       1.0\\n       23366       0.00      0.00      0.00       1.0\\n       23406       0.00      0.00      0.00       1.0\\n       23427       0.00      0.00      0.00       1.0\\n       23485       0.00      0.00      0.00       1.0\\n       23498       0.00      0.00      0.00       1.0\\n       23509       0.00      0.00      0.00       1.0\\n       23523       0.00      0.00      0.00       1.0\\n       23530       0.00      0.00      0.00       1.0\\n       23550       0.00      0.00      0.00       1.0\\n       23555       0.00      0.00      0.00       1.0\\n       23565       0.00      0.00      0.00       1.0\\n       23589       0.00      0.00      0.00       1.0\\n       23841       0.00      0.00      0.00       1.0\\n       23909       0.00      0.00      0.00       1.0\\n       23971       0.00      0.00      0.00       1.0\\n       23988       0.00      0.00      0.00       1.0\\n       24100       0.00      0.00      0.00       1.0\\n       24102       0.00      0.00      0.00       1.0\\n       24125       0.00      0.00      0.00       1.0\\n       24260       0.00      0.00      0.00       1.0\\n       24281       0.00      0.00      0.00       1.0\\n       24301       0.00      0.00      0.00       1.0\\n       24389       0.00      0.00      0.00       1.0\\n       24392       0.00      0.00      0.00       1.0\\n       24410       0.00      0.00      0.00       1.0\\n       24417       0.00      0.00      0.00       1.0\\n       24431       0.00      0.00      0.00       1.0\\n       24499       0.00      0.00      0.00       1.0\\n       24500       0.00      0.00      0.00       1.0\\n       24525       0.00      0.00      0.00       1.0\\n       24560       0.00      0.00      0.00       1.0\\n       24566       0.00      0.00      0.00       1.0\\n       24584       0.00      0.00      0.00       1.0\\n       24594       0.00      0.00      0.00       1.0\\n       24635       0.00      0.00      0.00       1.0\\n       24683       0.00      0.00      0.00       1.0\\n       24690       0.00      0.00      0.00       1.0\\n       24692       0.00      0.00      0.00       1.0\\n       24705       0.00      0.00      0.00       1.0\\n       24709       0.00      0.00      0.00       1.0\\n       24960       0.00      0.00      0.00       1.0\\n       24980       0.00      0.00      0.00       1.0\\n       25000       0.00      0.00      0.00       3.0\\n       25006       0.00      0.00      0.00       1.0\\n       25071       0.00      0.00      0.00       1.0\\n       25127       0.00      0.00      0.00       1.0\\n       25143       0.00      0.00      0.00       1.0\\n       25148       0.00      0.00      0.00       1.0\\n       25201       0.00      0.00      0.00       1.0\\n       25303       0.00      0.00      0.00       1.0\\n       25324       0.00      0.00      0.00       1.0\\n       25332       0.00      0.00      0.00       1.0\\n       25354       0.00      0.00      0.00       1.0\\n       25374       0.00      0.00      0.00       1.0\\n       25413       0.00      0.00      0.00       1.0\\n       25414       0.00      0.00      0.00       2.0\\n       25453       0.00      0.00      0.00       1.0\\n       25461       0.00      0.00      0.00       1.0\\n       25496       0.00      0.00      0.00       1.0\\n       25497       0.00      0.00      0.00       1.0\\n       25582       0.00      0.00      0.00       1.0\\n       25683       0.00      0.00      0.00       2.0\\n       25688       0.00      0.00      0.00       1.0\\n       25823       0.00      0.00      0.00       1.0\\n       25889       0.00      0.00      0.00       1.0\\n       25919       0.00      0.00      0.00       1.0\\n       25978       0.00      0.00      0.00       1.0\\n       25996       0.00      0.00      0.00       1.0\\n       26000       0.00      0.00      0.00       3.0\\n       26063       0.00      0.00      0.00       1.0\\n       26191       0.00      0.00      0.00       1.0\\n       26212       0.00      0.00      0.00       1.0\\n       26281       0.00      0.00      0.00       1.0\\n       26285       0.00      0.00      0.00       1.0\\n       26308       0.00      0.00      0.00       1.0\\n       26333       0.00      0.00      0.00       1.0\\n       26409       0.00      0.00      0.00       1.0\\n       26411       0.00      0.00      0.00       1.0\\n       26413       0.00      0.00      0.00       1.0\\n       26465       0.00      0.00      0.00       1.0\\n       26469       0.00      0.00      0.00       1.0\\n       26522       0.00      0.00      0.00       1.0\\n       26556       0.00      0.00      0.00       1.0\\n       26566       0.00      0.00      0.00       1.0\\n       26601       0.00      0.00      0.00       1.0\\n       26640       0.00      0.00      0.00       1.0\\n       26656       0.00      0.00      0.00       1.0\\n       26710       0.00      0.00      0.00       1.0\\n       26774       0.00      0.00      0.00       1.0\\n       26856       0.00      0.00      0.00       1.0\\n       26897       0.00      0.00      0.00       1.0\\n       26930       0.00      0.00      0.00       1.0\\n       26968       0.00      0.00      0.00       1.0\\n       26972       0.00      0.00      0.00       1.0\\n       26984       0.00      0.00      0.00       1.0\\n       27152       0.00      0.00      0.00       1.0\\n       27174       0.00      0.00      0.00       1.0\\n       27310       0.00      0.00      0.00       1.0\\n       27361       0.00      0.00      0.00       1.0\\n       27372       0.00      0.00      0.00       1.0\\n       27427       0.00      0.00      0.00       1.0\\n       27450       0.00      0.00      0.00       1.0\\n       27498       0.00      0.00      0.00       1.0\\n       27569       0.00      0.00      0.00       1.0\\n       27600       0.00      0.00      0.00       1.0\\n       27735       0.00      0.00      0.00       1.0\\n       27799       0.00      0.00      0.00       1.0\\n       27809       0.00      0.00      0.00       1.0\\n       27816       0.00      0.00      0.00       1.0\\n       27855       0.00      0.00      0.00       1.0\\n       27878       0.00      0.00      0.00       1.0\\n       27911       0.00      0.00      0.00       1.0\\n       27924       0.00      0.00      0.00       1.0\\n       27999       0.00      0.00      0.00       1.0\\n       28000       0.00      0.00      0.00       2.0\\n       28102       0.00      0.00      0.00       1.0\\n       28112       0.00      0.00      0.00       1.0\\n       28122       0.00      0.00      0.00       1.0\\n       28130       0.00      0.00      0.00       1.0\\n       28230       0.00      0.00      0.00       1.0\\n       28254       0.00      0.00      0.00       1.0\\n       28274       0.00      0.00      0.00       1.0\\n       28293       0.00      0.00      0.00       1.0\\n       28417       0.00      0.00      0.00       1.0\\n       28434       0.00      0.00      0.00       1.0\\n       28500       0.00      0.00      0.00       1.0\\n       28548       0.00      0.00      0.00       1.0\\n       28609       0.00      0.00      0.00       1.0\\n       28707       0.00      0.00      0.00       1.0\\n       28836       0.00      0.00      0.00       1.0\\n       28843       0.00      0.00      0.00       1.0\\n       28970       0.00      0.00      0.00       1.0\\n       29000       0.00      0.00      0.00       1.0\\n       29055       0.00      0.00      0.00       1.0\\n       29129       0.00      0.00      0.00       1.0\\n       29167       0.00      0.00      0.00       1.0\\n       29234       0.00      0.00      0.00       1.0\\n       29271       0.00      0.00      0.00       1.0\\n       29311       0.00      0.00      0.00       1.0\\n       29329       0.00      0.00      0.00       1.0\\n       29384       0.00      0.00      0.00       1.0\\n       29400       0.00      0.00      0.00       1.0\\n       29446       0.00      0.00      0.00       1.0\\n       29483       0.00      0.00      0.00       1.0\\n       29608       0.00      0.00      0.00       1.0\\n       29842       0.00      0.00      0.00       1.0\\n       29867       0.00      0.00      0.00       1.0\\n       29894       0.00      0.00      0.00       1.0\\n       29935       0.00      0.00      0.00       1.0\\n       30000       0.00      0.00      0.00       4.0\\n       30001       0.00      0.00      0.00       1.0\\n       30024       0.00      0.00      0.00       1.0\\n       30096       0.00      0.00      0.00       1.0\\n       30117       0.00      0.00      0.00       1.0\\n       30121       0.00      0.00      0.00       1.0\\n       30130       0.00      0.00      0.00       1.0\\n       30184       0.00      0.00      0.00       1.0\\n       30338       0.00      0.00      0.00       1.0\\n       30407       0.00      0.00      0.00       1.0\\n       30419       0.00      0.00      0.00       1.0\\n       30421       0.00      0.00      0.00       1.0\\n       30465       0.00      0.00      0.00       1.0\\n       30489       0.00      0.00      0.00       1.0\\n       30500       0.00      0.00      0.00       1.0\\n       30524       0.00      0.00      0.00       1.0\\n       30613       0.00      0.00      0.00       1.0\\n       30671       0.00      0.00      0.00       1.0\\n       30726       0.00      0.00      0.00       1.0\\n       30754       0.00      0.00      0.00       1.0\\n       30787       0.00      0.00      0.00       1.0\\n       30805       0.00      0.00      0.00       1.0\\n       30827       0.00      0.00      0.00       1.0\\n       30856       0.00      0.00      0.00       1.0\\n       30862       0.00      0.00      0.00       1.0\\n       30924       0.00      0.00      0.00       1.0\\n       30999       0.00      0.00      0.00       1.0\\n       31000       0.00      0.00      0.00       1.0\\n       31010       0.00      0.00      0.00       1.0\\n       31015       0.00      0.00      0.00       1.0\\n       31060       0.00      0.00      0.00       1.0\\n       31183       0.00      0.00      0.00       1.0\\n       31186       0.00      0.00      0.00       1.0\\n       31255       0.00      0.00      0.00       1.0\\n       31285       0.00      0.00      0.00       1.0\\n       31432       0.00      0.00      0.00       1.0\\n       31473       0.00      0.00      0.00       1.0\\n       31503       0.00      0.00      0.00       1.0\\n       31507       0.00      0.00      0.00       1.0\\n       31522       0.00      0.00      0.00       1.0\\n       31556       0.00      0.00      0.00       1.0\\n       31570       0.00      0.00      0.00       1.0\\n       31756       0.00      0.00      0.00       1.0\\n       31800       0.00      0.00      0.00       1.0\\n       31870       0.00      0.00      0.00       1.0\\n       31887       0.00      0.00      0.00       1.0\\n       31964       0.00      0.00      0.00       1.0\\n       32000       0.00      0.00      0.00       1.0\\n       32009       0.00      0.00      0.00       1.0\\n       32070       0.00      0.00      0.00       1.0\\n       32082       0.00      0.00      0.00       1.0\\n       32465       0.00      0.00      0.00       1.0\\n       32500       0.00      0.00      0.00       1.0\\n       32512       0.00      0.00      0.00       1.0\\n       32610       0.00      0.00      0.00       1.0\\n       32649       0.00      0.00      0.00       1.0\\n       32851       0.00      0.00      0.00       1.0\\n       32863       0.00      0.00      0.00       1.0\\n       32883       0.00      0.00      0.00       1.0\\n       32943       0.00      0.00      0.00       1.0\\n       32962       0.00      0.00      0.00       1.0\\n       33000       0.00      0.00      0.00       1.0\\n       33015       0.00      0.00      0.00       1.0\\n       33228       0.00      0.00      0.00       1.0\\n       33261       0.00      0.00      0.00       1.0\\n       33307       0.00      0.00      0.00       1.0\\n       33323       0.00      0.00      0.00       1.0\\n       33344       0.00      0.00      0.00       1.0\\n       33430       0.00      0.00      0.00       1.0\\n       33443       0.00      0.00      0.00       1.0\\n       33462       0.00      0.00      0.00       1.0\\n       33618       0.00      0.00      0.00       1.0\\n       33659       0.00      0.00      0.00       1.0\\n       33718       0.00      0.00      0.00       1.0\\n       33751       0.00      0.00      0.00       1.0\\n       33808       0.00      0.00      0.00       1.0\\n       33920       0.00      0.00      0.00       1.0\\n       33965       0.00      0.00      0.00       1.0\\n       34000       0.00      0.00      0.00       2.0\\n       34039       0.00      0.00      0.00       1.0\\n       34050       0.00      0.00      0.00       1.0\\n       34136       0.00      0.00      0.00       1.0\\n       34162       0.00      0.00      0.00       1.0\\n       34230       0.00      0.00      0.00       1.0\\n       34231       0.00      0.00      0.00       1.0\\n       34446       0.00      0.00      0.00       1.0\\n       34455       0.00      0.00      0.00       1.0\\n       34457       0.00      0.00      0.00       1.0\\n       34465       0.00      0.00      0.00       1.0\\n       34500       0.00      0.00      0.00       1.0\\n       34501       0.00      0.00      0.00       1.0\\n       34505       0.00      0.00      0.00       1.0\\n       34556       0.00      0.00      0.00       1.0\\n       34586       0.00      0.00      0.00       1.0\\n       34633       0.00      0.00      0.00       1.0\\n       34767       0.00      0.00      0.00       1.0\\n       34802       0.00      0.00      0.00       1.0\\n       34849       0.00      0.00      0.00       1.0\\n       34928       0.00      0.00      0.00       1.0\\n       34985       0.00      0.00      0.00       1.0\\n       35000       0.00      0.00      0.00       1.0\\n       35046       0.00      0.00      0.00       1.0\\n       35098       0.00      0.00      0.00       1.0\\n       35228       0.00      0.00      0.00       1.0\\n       35358       0.00      0.00      0.00       1.0\\n       35597       0.00      0.00      0.00       1.0\\n       35633       0.00      0.00      0.00       1.0\\n       35745       0.00      0.00      0.00       1.0\\n       35930       0.00      0.00      0.00       1.0\\n       35950       0.00      0.00      0.00       1.0\\n       35969       0.00      0.00      0.00       1.0\\n       36021       0.00      0.00      0.00       1.0\\n       36076       0.00      0.00      0.00       1.0\\n       36100       0.00      0.00      0.00       2.0\\n       36121       0.00      0.00      0.00       1.0\\n       36189       0.00      0.00      0.00       1.0\\n       36193       0.00      0.00      0.00       1.0\\n       36245       0.00      0.00      0.00       1.0\\n       36253       0.00      0.00      0.00       1.0\\n       36280       0.00      0.00      0.00       1.0\\n       36318       0.00      0.00      0.00       1.0\\n       36342       0.00      0.00      0.00       1.0\\n       36426       0.00      0.00      0.00       1.0\\n       36473       0.00      0.00      0.00       1.0\\n       36524       0.00      0.00      0.00       1.0\\n       36751       0.00      0.00      0.00       1.0\\n       36826       0.00      0.00      0.00       1.0\\n       36916       0.00      0.00      0.00       1.0\\n       36975       0.00      0.00      0.00       1.0\\n       37000       0.00      0.00      0.00       1.0\\n       37032       0.00      0.00      0.00       1.0\\n       37258       0.00      0.00      0.00       1.0\\n       37336       0.00      0.00      0.00       1.0\\n       37406       0.00      0.00      0.00       1.0\\n       37500       0.00      0.00      0.00       1.0\\n       37521       0.00      0.00      0.00       1.0\\n       37547       0.00      0.00      0.00       1.0\\n       37555       0.00      0.00      0.00       1.0\\n       37729       0.00      0.00      0.00       1.0\\n       37756       0.00      0.00      0.00       1.0\\n       37784       0.00      0.00      0.00       1.0\\n       37849       0.00      0.00      0.00       1.0\\n       37852       0.00      0.00      0.00       1.0\\n       37865       0.00      0.00      0.00       1.0\\n       37908       0.00      0.00      0.00       1.0\\n       37999       0.00      0.00      0.00       1.0\\n       38000       0.00      0.00      0.00       1.0\\n       38126       0.00      0.00      0.00       2.0\\n       38541       0.00      0.00      0.00       1.0\\n       38567       0.00      0.00      0.00       1.0\\n       39000       0.00      0.00      0.00       1.0\\n       39039       0.00      0.00      0.00       1.0\\n       39075       0.00      0.00      0.00       1.0\\n       39080       0.00      0.00      0.00       1.0\\n       39158       0.00      0.00      0.00       1.0\\n       39248       0.00      0.00      0.00       1.0\\n       39400       0.00      0.00      0.00       1.0\\n       39498       0.00      0.00      0.00       1.0\\n       39555       0.00      0.00      0.00       1.0\\n       39624       0.00      0.00      0.00       1.0\\n       39925       0.00      0.00      0.00       1.0\\n       39964       0.00      0.00      0.00       1.0\\n       40000       0.00      0.00      0.00       1.0\\n       40049       0.00      0.00      0.00       1.0\\n       40054       0.00      0.00      0.00       1.0\\n       40133       0.00      0.00      0.00       1.0\\n       40149       0.00      0.00      0.00       1.0\\n       40185       0.00      0.00      0.00       1.0\\n       40205       0.00      0.00      0.00       1.0\\n       40323       0.00      0.00      0.00       1.0\\n       40376       0.00      0.00      0.00       1.0\\n       40506       0.00      0.00      0.00       1.0\\n       40607       0.00      0.00      0.00       1.0\\n       40630       0.00      0.00      0.00       1.0\\n       40683       0.00      0.00      0.00       1.0\\n       41000       0.00      0.00      0.00       2.0\\n       41074       0.00      0.00      0.00       1.0\\n       41111       0.00      0.00      0.00       1.0\\n       41193       0.00      0.00      0.00       1.0\\n       41211       0.00      0.00      0.00       1.0\\n       41257       0.00      0.00      0.00       1.0\\n       41281       0.00      0.00      0.00       1.0\\n       41459       0.00      0.00      0.00       1.0\\n       41487       0.00      0.00      0.00       1.0\\n       41558       0.00      0.00      0.00       1.0\\n       42000       0.00      0.00      0.00       1.0\\n       42171       0.00      0.00      0.00       1.0\\n       42321       0.00      0.00      0.00       1.0\\n       42324       0.00      0.00      0.00       1.0\\n       42472       0.00      0.00      0.00       1.0\\n       42591       0.00      0.00      0.00       1.0\\n       42751       0.00      0.00      0.00       1.0\\n       42752       0.00      0.00      0.00       1.0\\n       43156       0.00      0.00      0.00       1.0\\n       43163       0.00      0.00      0.00       1.0\\n       43335       0.00      0.00      0.00       1.0\\n       43546       0.00      0.00      0.00       1.0\\n       43584       0.00      0.00      0.00       1.0\\n       43621       0.00      0.00      0.00       1.0\\n       43795       0.00      0.00      0.00       1.0\\n       43830       0.00      0.00      0.00       1.0\\n       43960       0.00      0.00      0.00       1.0\\n       43980       0.00      0.00      0.00       1.0\\n       44000       0.00      0.00      0.00       2.0\\n       44052       0.00      0.00      0.00       1.0\\n       44152       0.00      0.00      0.00       1.0\\n       44171       0.00      0.00      0.00       1.0\\n       44186       0.00      0.00      0.00       1.0\\n       44311       0.00      0.00      0.00       1.0\\n       44537       0.00      0.00      0.00       1.0\\n       44651       0.00      0.00      0.00       1.0\\n       45000       0.00      0.00      0.00       2.0\\n       45128       0.00      0.00      0.00       1.0\\n       45322       0.00      0.00      0.00       1.0\\n       45560       0.00      0.00      0.00       1.0\\n       45725       0.00      0.00      0.00       1.0\\n       45763       0.00      0.00      0.00       1.0\\n       45848       0.00      0.00      0.00       1.0\\n       45917       0.00      0.00      0.00       1.0\\n       46162       0.00      0.00      0.00       1.0\\n       46510       0.00      0.00      0.00       1.0\\n       46571       0.00      0.00      0.00       1.0\\n       47151       0.00      0.00      0.00       1.0\\n       47481       0.00      0.00      0.00       1.0\\n       47814       0.00      0.00      0.00       1.0\\n       47960       0.00      0.00      0.00       1.0\\n       47988       0.00      0.00      0.00       1.0\\n       48000       0.00      0.00      0.00       1.0\\n       48117       0.00      0.00      0.00       1.0\\n       48125       0.00      0.00      0.00       2.0\\n       48278       0.00      0.00      0.00       1.0\\n       48913       0.00      0.00      0.00       1.0\\n       49254       0.00      0.00      0.00       1.0\\n       49626       0.00      0.00      0.00       1.0\\n       49636       0.00      0.00      0.00       1.0\\n       49682       0.00      0.00      0.00       1.0\\n       49962       0.00      0.00      0.00       1.0\\n       49989       0.00      0.00      0.00       1.0\\n       50280       0.00      0.00      0.00       1.0\\n       50584       0.00      0.00      0.00       1.0\\n       50647       0.00      0.00      0.00       1.0\\n       50709       0.00      0.00      0.00       1.0\\n       51000       0.00      0.00      0.00       1.0\\n       51258       0.00      0.00      0.00       1.0\\n       51295       0.00      0.00      0.00       1.0\\n       51500       0.00      0.00      0.00       1.0\\n       51750       0.00      0.00      0.00       1.0\\n       51820       0.00      0.00      0.00       1.0\\n       51926       0.00      0.00      0.00       1.0\\n       51939       0.00      0.00      0.00       1.0\\n       52000       0.00      0.00      0.00       1.0\\n       52229       0.00      0.00      0.00       1.0\\n       52462       0.00      0.00      0.00       1.0\\n       52482       0.00      0.00      0.00       1.0\\n       52496       0.00      0.00      0.00       1.0\\n       53110       0.00      0.00      0.00       1.0\\n       53365       0.00      0.00      0.00       1.0\\n       54000       0.00      0.00      0.00       1.0\\n       54225       0.00      0.00      0.00       1.0\\n       54360       0.00      0.00      0.00       1.0\\n       54533       0.00      0.00      0.00       1.0\\n       54775       0.00      0.00      0.00       1.0\\n       54815       0.00      0.00      0.00       1.0\\n       54913       0.00      0.00      0.00       1.0\\n       55104       0.00      0.00      0.00       1.0\\n       55232       0.00      0.00      0.00       1.0\\n       55380       0.00      0.00      0.00       1.0\\n       55584       0.00      0.00      0.00       1.0\\n       55715       0.00      0.00      0.00       1.0\\n       55826       0.00      0.00      0.00       1.0\\n       55883       0.00      0.00      0.00       1.0\\n       55900       0.00      0.00      0.00       1.0\\n       56093       0.00      0.00      0.00       1.0\\n       56272       0.00      0.00      0.00       1.0\\n       56307       0.00      0.00      0.00       1.0\\n       56680       0.00      0.00      0.00       1.0\\n       56996       0.00      0.00      0.00       1.0\\n       57000       0.00      0.00      0.00       1.0\\n       57140       0.00      0.00      0.00       1.0\\n       57768       0.00      0.00      0.00       1.0\\n       57860       0.00      0.00      0.00       1.0\\n       58377       0.00      0.00      0.00       1.0\\n       58499       0.00      0.00      0.00       1.0\\n       58787       0.00      0.00      0.00       1.0\\n       59205       0.00      0.00      0.00       1.0\\n       59934       0.00      0.00      0.00       1.0\\n       60000       0.00      0.00      0.00       1.0\\n       60069       0.00      0.00      0.00       1.0\\n       60148       0.00      0.00      0.00       1.0\\n       60572       0.00      0.00      0.00       1.0\\n       60756       0.00      0.00      0.00       1.0\\n       60841       0.00      0.00      0.00       1.0\\n       60880       0.00      0.00      0.00       1.0\\n       61237       0.00      0.00      0.00       1.0\\n       62252       0.00      0.00      0.00       1.0\\n       62541       0.00      0.00      0.00       1.0\\n       62737       0.00      0.00      0.00       1.0\\n       63460       0.00      0.00      0.00       1.0\\n       63652       0.00      0.00      0.00       1.0\\n       63911       0.00      0.00      0.00       1.0\\n       63965       0.00      0.00      0.00       1.0\\n       63978       0.00      0.00      0.00       1.0\\n       64373       0.00      0.00      0.00       1.0\\n       65044       0.00      0.00      0.00       1.0\\n       65700       0.00      0.00      0.00       1.0\\n       66900       0.00      0.00      0.00       1.0\\n       67437       0.00      0.00      0.00       1.0\\n       67698       0.00      0.00      0.00       1.0\\n       68000       0.00      0.00      0.00       1.0\\n       68022       0.00      0.00      0.00       1.0\\n       69000       0.00      0.00      0.00       1.0\\n       70964       0.00      0.00      0.00       1.0\\n       71000       0.00      0.00      0.00       1.0\\n       71329       0.00      0.00      0.00       1.0\\n       72963       0.00      0.00      0.00       1.0\\n       73000       0.00      0.00      0.00       1.0\\n       73305       0.00      0.00      0.00       1.0\\n       74599       0.00      0.00      0.00       1.0\\n       74745       0.00      0.00      0.00       1.0\\n       75000       0.00      0.00      0.00       1.0\\n       76000       0.00      0.00      0.00       1.0\\n       76352       0.00      0.00      0.00       1.0\\n       76552       0.00      0.00      0.00       1.0\\n       79000       0.00      0.00      0.00       1.0\\n       79032       0.00      0.00      0.00       1.0\\n       79183       0.00      0.00      0.00       1.0\\n       80069       0.00      0.00      0.00       1.0\\n       80750       0.00      0.00      0.00       1.0\\n       81300       0.00      0.00      0.00       1.0\\n       81705       0.00      0.00      0.00       1.0\\n       83000       0.00      0.00      0.00       1.0\\n       83288       0.00      0.00      0.00       1.0\\n       83684       0.00      0.00      0.00       1.0\\n       84300       0.00      0.00      0.00       1.0\\n       85895       0.00      0.00      0.00       1.0\\n       87210       0.00      0.00      0.00       1.0\\n       87263       0.00      0.00      0.00       1.0\\n       88412       0.00      0.00      0.00       1.0\\n       88912       0.00      0.00      0.00       1.0\\n       89000       0.00      0.00      0.00       1.0\\n       90970       0.00      0.00      0.00       1.0\\n       92200       0.00      0.00      0.00       1.0\\n       98000       0.00      0.00      0.00       1.0\\n       99000       0.00      0.00      0.00       1.0\\n      100000       0.00      0.00      0.00       1.0\\n      101510       0.00      0.00      0.00       1.0\\n      104000       0.00      0.00      0.00       1.0\\n      111000       0.00      0.00      0.00       1.0\\n      114000       0.00      0.00      0.00       1.0\\n      114321       0.00      0.00      0.00       1.0\\n      120000       0.00      0.00      0.00       2.0\\n      122280       0.00      0.00      0.00       1.0\\n      130000       0.00      0.00      0.00       1.0\\n      140000       0.00      0.00      0.00       1.0\\n      143000       0.00      0.00      0.00       1.0\\n      150000       0.00      0.00      0.00       1.0\\n\\n    accuracy                           0.00    1348.0\\n   macro avg       0.00      0.00      0.00    1348.0\\nweighted avg       0.00      0.00      0.00    1348.0\\n'"
      ]
     },
     "execution_count": 137,
     "metadata": {},
     "output_type": "execute_result"
    }
   ],
   "source": [
    "metrics.classification_report(y_test, y_pred)"
   ]
  },
  {
   "cell_type": "code",
   "execution_count": 52,
   "id": "c5531f65",
   "metadata": {},
   "outputs": [],
   "source": [
    "f1 = (2*Precision*Recall)/(Precision + Recall)\n",
    "f1"
   ]
  },
  {
   "cell_type": "code",
   "execution_count": null,
   "id": "6d1d4b59",
   "metadata": {},
   "outputs": [],
   "source": []
  },
  {
   "cell_type": "code",
   "execution_count": null,
   "id": "a0cc12e1",
   "metadata": {},
   "outputs": [],
   "source": []
  }
 ],
 "metadata": {
  "kernelspec": {
   "display_name": "Python 3",
   "language": "python",
   "name": "python3"
  },
  "language_info": {
   "codemirror_mode": {
    "name": "ipython",
    "version": 3
   },
   "file_extension": ".py",
   "mimetype": "text/x-python",
   "name": "python",
   "nbconvert_exporter": "python",
   "pygments_lexer": "ipython3",
   "version": "3.8.8"
  }
 },
 "nbformat": 4,
 "nbformat_minor": 5
}
