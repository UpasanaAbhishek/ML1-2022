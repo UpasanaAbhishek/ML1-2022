{
 "cells": [
  {
   "cell_type": "markdown",
   "id": "2af0e130",
   "metadata": {},
   "source": [
    "# ML-1 LAB - 03\n",
    "### Date : 30-05-20200\n",
    "### 21BDA10 - Aishwarya C S\n",
    "### EDA AND LOGISTIC REGRESSION"
   ]
  },
  {
   "cell_type": "code",
   "execution_count": 1,
   "id": "63fb6ef9",
   "metadata": {},
   "outputs": [],
   "source": [
    "import pandas as pd\n",
    "import numpy as np\n",
    "import seaborn as sns\n",
    "import matplotlib.pyplot as plt\n",
    "from sklearn.linear_model import LinearRegression\n",
    "from sklearn.model_selection import train_test_split\n",
    "from sklearn.linear_model import LogisticRegression\n",
    "sns.set(style = 'darkgrid')"
   ]
  },
  {
   "cell_type": "markdown",
   "id": "280c9a11",
   "metadata": {},
   "source": [
    "### Data description:\n",
    " model - Toyota model,\n",
    "     year - registraion year,\n",
    "     price - price in Euros,\n",
    "     transmission - type of gear box,\n",
    "     mileage - distance used,\n",
    "     fuelType - engine fuel,\n",
    "     tax - road tax,\n",
    "     mpg - miles per galoon,\n",
    "     engineSize - size in litres."
   ]
  },
  {
   "cell_type": "code",
   "execution_count": 2,
   "id": "9d1341fd",
   "metadata": {},
   "outputs": [],
   "source": [
    "df = pd.read_csv(\"D:\\\\ML 1\\\\Lab Datasets\\\\toyota.csv\")"
   ]
  },
  {
   "cell_type": "code",
   "execution_count": 3,
   "id": "9a26e82c",
   "metadata": {},
   "outputs": [
    {
     "data": {
      "text/html": [
       "<div>\n",
       "<style scoped>\n",
       "    .dataframe tbody tr th:only-of-type {\n",
       "        vertical-align: middle;\n",
       "    }\n",
       "\n",
       "    .dataframe tbody tr th {\n",
       "        vertical-align: top;\n",
       "    }\n",
       "\n",
       "    .dataframe thead th {\n",
       "        text-align: right;\n",
       "    }\n",
       "</style>\n",
       "<table border=\"1\" class=\"dataframe\">\n",
       "  <thead>\n",
       "    <tr style=\"text-align: right;\">\n",
       "      <th></th>\n",
       "      <th>model</th>\n",
       "      <th>year</th>\n",
       "      <th>price</th>\n",
       "      <th>transmission</th>\n",
       "      <th>mileage</th>\n",
       "      <th>fuelType</th>\n",
       "      <th>tax</th>\n",
       "      <th>mpg</th>\n",
       "      <th>engineSize</th>\n",
       "    </tr>\n",
       "  </thead>\n",
       "  <tbody>\n",
       "    <tr>\n",
       "      <th>0</th>\n",
       "      <td>GT86</td>\n",
       "      <td>2016</td>\n",
       "      <td>16000</td>\n",
       "      <td>Manual</td>\n",
       "      <td>24089</td>\n",
       "      <td>Petrol</td>\n",
       "      <td>265</td>\n",
       "      <td>36.2</td>\n",
       "      <td>2.0</td>\n",
       "    </tr>\n",
       "    <tr>\n",
       "      <th>1</th>\n",
       "      <td>GT86</td>\n",
       "      <td>2017</td>\n",
       "      <td>15995</td>\n",
       "      <td>Manual</td>\n",
       "      <td>18615</td>\n",
       "      <td>Petrol</td>\n",
       "      <td>145</td>\n",
       "      <td>36.2</td>\n",
       "      <td>2.0</td>\n",
       "    </tr>\n",
       "    <tr>\n",
       "      <th>2</th>\n",
       "      <td>GT86</td>\n",
       "      <td>2015</td>\n",
       "      <td>13998</td>\n",
       "      <td>Manual</td>\n",
       "      <td>27469</td>\n",
       "      <td>Petrol</td>\n",
       "      <td>265</td>\n",
       "      <td>36.2</td>\n",
       "      <td>2.0</td>\n",
       "    </tr>\n",
       "    <tr>\n",
       "      <th>3</th>\n",
       "      <td>GT86</td>\n",
       "      <td>2017</td>\n",
       "      <td>18998</td>\n",
       "      <td>Manual</td>\n",
       "      <td>14736</td>\n",
       "      <td>Petrol</td>\n",
       "      <td>150</td>\n",
       "      <td>36.2</td>\n",
       "      <td>2.0</td>\n",
       "    </tr>\n",
       "    <tr>\n",
       "      <th>4</th>\n",
       "      <td>GT86</td>\n",
       "      <td>2017</td>\n",
       "      <td>17498</td>\n",
       "      <td>Manual</td>\n",
       "      <td>36284</td>\n",
       "      <td>Petrol</td>\n",
       "      <td>145</td>\n",
       "      <td>36.2</td>\n",
       "      <td>2.0</td>\n",
       "    </tr>\n",
       "    <tr>\n",
       "      <th>...</th>\n",
       "      <td>...</td>\n",
       "      <td>...</td>\n",
       "      <td>...</td>\n",
       "      <td>...</td>\n",
       "      <td>...</td>\n",
       "      <td>...</td>\n",
       "      <td>...</td>\n",
       "      <td>...</td>\n",
       "      <td>...</td>\n",
       "    </tr>\n",
       "    <tr>\n",
       "      <th>6733</th>\n",
       "      <td>IQ</td>\n",
       "      <td>2011</td>\n",
       "      <td>5500</td>\n",
       "      <td>Automatic</td>\n",
       "      <td>30000</td>\n",
       "      <td>Petrol</td>\n",
       "      <td>20</td>\n",
       "      <td>58.9</td>\n",
       "      <td>1.0</td>\n",
       "    </tr>\n",
       "    <tr>\n",
       "      <th>6734</th>\n",
       "      <td>Urban Cruiser</td>\n",
       "      <td>2011</td>\n",
       "      <td>4985</td>\n",
       "      <td>Manual</td>\n",
       "      <td>36154</td>\n",
       "      <td>Petrol</td>\n",
       "      <td>125</td>\n",
       "      <td>50.4</td>\n",
       "      <td>1.3</td>\n",
       "    </tr>\n",
       "    <tr>\n",
       "      <th>6735</th>\n",
       "      <td>Urban Cruiser</td>\n",
       "      <td>2012</td>\n",
       "      <td>4995</td>\n",
       "      <td>Manual</td>\n",
       "      <td>46000</td>\n",
       "      <td>Diesel</td>\n",
       "      <td>125</td>\n",
       "      <td>57.6</td>\n",
       "      <td>1.4</td>\n",
       "    </tr>\n",
       "    <tr>\n",
       "      <th>6736</th>\n",
       "      <td>Urban Cruiser</td>\n",
       "      <td>2011</td>\n",
       "      <td>3995</td>\n",
       "      <td>Manual</td>\n",
       "      <td>60700</td>\n",
       "      <td>Petrol</td>\n",
       "      <td>125</td>\n",
       "      <td>50.4</td>\n",
       "      <td>1.3</td>\n",
       "    </tr>\n",
       "    <tr>\n",
       "      <th>6737</th>\n",
       "      <td>Urban Cruiser</td>\n",
       "      <td>2011</td>\n",
       "      <td>4495</td>\n",
       "      <td>Manual</td>\n",
       "      <td>45128</td>\n",
       "      <td>Petrol</td>\n",
       "      <td>125</td>\n",
       "      <td>50.4</td>\n",
       "      <td>1.3</td>\n",
       "    </tr>\n",
       "  </tbody>\n",
       "</table>\n",
       "<p>6738 rows × 9 columns</p>\n",
       "</div>"
      ],
      "text/plain": [
       "               model  year  price transmission  mileage fuelType  tax   mpg  \\\n",
       "0               GT86  2016  16000       Manual    24089   Petrol  265  36.2   \n",
       "1               GT86  2017  15995       Manual    18615   Petrol  145  36.2   \n",
       "2               GT86  2015  13998       Manual    27469   Petrol  265  36.2   \n",
       "3               GT86  2017  18998       Manual    14736   Petrol  150  36.2   \n",
       "4               GT86  2017  17498       Manual    36284   Petrol  145  36.2   \n",
       "...              ...   ...    ...          ...      ...      ...  ...   ...   \n",
       "6733              IQ  2011   5500    Automatic    30000   Petrol   20  58.9   \n",
       "6734   Urban Cruiser  2011   4985       Manual    36154   Petrol  125  50.4   \n",
       "6735   Urban Cruiser  2012   4995       Manual    46000   Diesel  125  57.6   \n",
       "6736   Urban Cruiser  2011   3995       Manual    60700   Petrol  125  50.4   \n",
       "6737   Urban Cruiser  2011   4495       Manual    45128   Petrol  125  50.4   \n",
       "\n",
       "      engineSize  \n",
       "0            2.0  \n",
       "1            2.0  \n",
       "2            2.0  \n",
       "3            2.0  \n",
       "4            2.0  \n",
       "...          ...  \n",
       "6733         1.0  \n",
       "6734         1.3  \n",
       "6735         1.4  \n",
       "6736         1.3  \n",
       "6737         1.3  \n",
       "\n",
       "[6738 rows x 9 columns]"
      ]
     },
     "execution_count": 3,
     "metadata": {},
     "output_type": "execute_result"
    }
   ],
   "source": [
    "df"
   ]
  },
  {
   "cell_type": "code",
   "execution_count": 5,
   "id": "eccff471",
   "metadata": {},
   "outputs": [
    {
     "data": {
      "text/html": [
       "<div>\n",
       "<style scoped>\n",
       "    .dataframe tbody tr th:only-of-type {\n",
       "        vertical-align: middle;\n",
       "    }\n",
       "\n",
       "    .dataframe tbody tr th {\n",
       "        vertical-align: top;\n",
       "    }\n",
       "\n",
       "    .dataframe thead th {\n",
       "        text-align: right;\n",
       "    }\n",
       "</style>\n",
       "<table border=\"1\" class=\"dataframe\">\n",
       "  <thead>\n",
       "    <tr style=\"text-align: right;\">\n",
       "      <th></th>\n",
       "      <th>model</th>\n",
       "      <th>year</th>\n",
       "      <th>price</th>\n",
       "      <th>transmission</th>\n",
       "      <th>mileage</th>\n",
       "      <th>fuelType</th>\n",
       "      <th>tax</th>\n",
       "      <th>mpg</th>\n",
       "      <th>engineSize</th>\n",
       "    </tr>\n",
       "  </thead>\n",
       "  <tbody>\n",
       "    <tr>\n",
       "      <th>4345</th>\n",
       "      <td>Aygo</td>\n",
       "      <td>2018</td>\n",
       "      <td>8995</td>\n",
       "      <td>Manual</td>\n",
       "      <td>900</td>\n",
       "      <td>Petrol</td>\n",
       "      <td>145</td>\n",
       "      <td>68.9</td>\n",
       "      <td>1.0</td>\n",
       "    </tr>\n",
       "    <tr>\n",
       "      <th>2936</th>\n",
       "      <td>Auris</td>\n",
       "      <td>2016</td>\n",
       "      <td>13000</td>\n",
       "      <td>Automatic</td>\n",
       "      <td>38409</td>\n",
       "      <td>Hybrid</td>\n",
       "      <td>0</td>\n",
       "      <td>78.5</td>\n",
       "      <td>1.8</td>\n",
       "    </tr>\n",
       "    <tr>\n",
       "      <th>3817</th>\n",
       "      <td>Aygo</td>\n",
       "      <td>2018</td>\n",
       "      <td>7410</td>\n",
       "      <td>Manual</td>\n",
       "      <td>21501</td>\n",
       "      <td>Petrol</td>\n",
       "      <td>145</td>\n",
       "      <td>68.9</td>\n",
       "      <td>1.0</td>\n",
       "    </tr>\n",
       "    <tr>\n",
       "      <th>2649</th>\n",
       "      <td>Yaris</td>\n",
       "      <td>2018</td>\n",
       "      <td>10995</td>\n",
       "      <td>Manual</td>\n",
       "      <td>19882</td>\n",
       "      <td>Petrol</td>\n",
       "      <td>145</td>\n",
       "      <td>47.1</td>\n",
       "      <td>1.5</td>\n",
       "    </tr>\n",
       "    <tr>\n",
       "      <th>2057</th>\n",
       "      <td>Yaris</td>\n",
       "      <td>2019</td>\n",
       "      <td>12795</td>\n",
       "      <td>Manual</td>\n",
       "      <td>50</td>\n",
       "      <td>Petrol</td>\n",
       "      <td>145</td>\n",
       "      <td>47.9</td>\n",
       "      <td>1.5</td>\n",
       "    </tr>\n",
       "  </tbody>\n",
       "</table>\n",
       "</div>"
      ],
      "text/plain": [
       "       model  year  price transmission  mileage fuelType  tax   mpg  \\\n",
       "4345    Aygo  2018   8995       Manual      900   Petrol  145  68.9   \n",
       "2936   Auris  2016  13000    Automatic    38409   Hybrid    0  78.5   \n",
       "3817    Aygo  2018   7410       Manual    21501   Petrol  145  68.9   \n",
       "2649   Yaris  2018  10995       Manual    19882   Petrol  145  47.1   \n",
       "2057   Yaris  2019  12795       Manual       50   Petrol  145  47.9   \n",
       "\n",
       "      engineSize  \n",
       "4345         1.0  \n",
       "2936         1.8  \n",
       "3817         1.0  \n",
       "2649         1.5  \n",
       "2057         1.5  "
      ]
     },
     "execution_count": 5,
     "metadata": {},
     "output_type": "execute_result"
    }
   ],
   "source": [
    "df.sample(5)"
   ]
  },
  {
   "cell_type": "code",
   "execution_count": 6,
   "id": "a0f5c262",
   "metadata": {},
   "outputs": [
    {
     "data": {
      "text/plain": [
       "model           0\n",
       "year            0\n",
       "price           0\n",
       "transmission    0\n",
       "mileage         0\n",
       "fuelType        0\n",
       "tax             0\n",
       "mpg             0\n",
       "engineSize      0\n",
       "dtype: int64"
      ]
     },
     "execution_count": 6,
     "metadata": {},
     "output_type": "execute_result"
    }
   ],
   "source": [
    "df.isnull().sum()"
   ]
  },
  {
   "cell_type": "markdown",
   "id": "5fc285a6",
   "metadata": {},
   "source": [
    "## There are no missing values in this dataset"
   ]
  },
  {
   "cell_type": "code",
   "execution_count": 7,
   "id": "e1c2505d",
   "metadata": {},
   "outputs": [
    {
     "data": {
      "text/plain": [
       "model             18\n",
       "year              23\n",
       "price           2114\n",
       "transmission       4\n",
       "mileage         5699\n",
       "fuelType           4\n",
       "tax               29\n",
       "mpg               81\n",
       "engineSize        16\n",
       "dtype: int64"
      ]
     },
     "execution_count": 7,
     "metadata": {},
     "output_type": "execute_result"
    }
   ],
   "source": [
    "df.nunique()"
   ]
  },
  {
   "cell_type": "code",
   "execution_count": 8,
   "id": "31a21e9a",
   "metadata": {},
   "outputs": [
    {
     "name": "stdout",
     "output_type": "stream",
     "text": [
      "<class 'pandas.core.frame.DataFrame'>\n",
      "RangeIndex: 6738 entries, 0 to 6737\n",
      "Data columns (total 9 columns):\n",
      " #   Column        Non-Null Count  Dtype  \n",
      "---  ------        --------------  -----  \n",
      " 0   model         6738 non-null   object \n",
      " 1   year          6738 non-null   int64  \n",
      " 2   price         6738 non-null   int64  \n",
      " 3   transmission  6738 non-null   object \n",
      " 4   mileage       6738 non-null   int64  \n",
      " 5   fuelType      6738 non-null   object \n",
      " 6   tax           6738 non-null   int64  \n",
      " 7   mpg           6738 non-null   float64\n",
      " 8   engineSize    6738 non-null   float64\n",
      "dtypes: float64(2), int64(4), object(3)\n",
      "memory usage: 473.9+ KB\n"
     ]
    }
   ],
   "source": [
    "df.info()"
   ]
  },
  {
   "cell_type": "code",
   "execution_count": 9,
   "id": "2418d535",
   "metadata": {},
   "outputs": [
    {
     "data": {
      "text/html": [
       "<div>\n",
       "<style scoped>\n",
       "    .dataframe tbody tr th:only-of-type {\n",
       "        vertical-align: middle;\n",
       "    }\n",
       "\n",
       "    .dataframe tbody tr th {\n",
       "        vertical-align: top;\n",
       "    }\n",
       "\n",
       "    .dataframe thead th {\n",
       "        text-align: right;\n",
       "    }\n",
       "</style>\n",
       "<table border=\"1\" class=\"dataframe\">\n",
       "  <thead>\n",
       "    <tr style=\"text-align: right;\">\n",
       "      <th></th>\n",
       "      <th>year</th>\n",
       "      <th>price</th>\n",
       "      <th>mileage</th>\n",
       "      <th>tax</th>\n",
       "      <th>mpg</th>\n",
       "      <th>engineSize</th>\n",
       "    </tr>\n",
       "  </thead>\n",
       "  <tbody>\n",
       "    <tr>\n",
       "      <th>count</th>\n",
       "      <td>6738.000000</td>\n",
       "      <td>6738.000000</td>\n",
       "      <td>6738.000000</td>\n",
       "      <td>6738.000000</td>\n",
       "      <td>6738.000000</td>\n",
       "      <td>6738.000000</td>\n",
       "    </tr>\n",
       "    <tr>\n",
       "      <th>mean</th>\n",
       "      <td>2016.748145</td>\n",
       "      <td>12522.391066</td>\n",
       "      <td>22857.413921</td>\n",
       "      <td>94.697240</td>\n",
       "      <td>63.042223</td>\n",
       "      <td>1.471297</td>\n",
       "    </tr>\n",
       "    <tr>\n",
       "      <th>std</th>\n",
       "      <td>2.204062</td>\n",
       "      <td>6345.017587</td>\n",
       "      <td>19125.464147</td>\n",
       "      <td>73.880776</td>\n",
       "      <td>15.836710</td>\n",
       "      <td>0.436159</td>\n",
       "    </tr>\n",
       "    <tr>\n",
       "      <th>min</th>\n",
       "      <td>1998.000000</td>\n",
       "      <td>850.000000</td>\n",
       "      <td>2.000000</td>\n",
       "      <td>0.000000</td>\n",
       "      <td>2.800000</td>\n",
       "      <td>0.000000</td>\n",
       "    </tr>\n",
       "    <tr>\n",
       "      <th>25%</th>\n",
       "      <td>2016.000000</td>\n",
       "      <td>8290.000000</td>\n",
       "      <td>9446.000000</td>\n",
       "      <td>0.000000</td>\n",
       "      <td>55.400000</td>\n",
       "      <td>1.000000</td>\n",
       "    </tr>\n",
       "    <tr>\n",
       "      <th>50%</th>\n",
       "      <td>2017.000000</td>\n",
       "      <td>10795.000000</td>\n",
       "      <td>18513.000000</td>\n",
       "      <td>135.000000</td>\n",
       "      <td>62.800000</td>\n",
       "      <td>1.500000</td>\n",
       "    </tr>\n",
       "    <tr>\n",
       "      <th>75%</th>\n",
       "      <td>2018.000000</td>\n",
       "      <td>14995.000000</td>\n",
       "      <td>31063.750000</td>\n",
       "      <td>145.000000</td>\n",
       "      <td>69.000000</td>\n",
       "      <td>1.800000</td>\n",
       "    </tr>\n",
       "    <tr>\n",
       "      <th>max</th>\n",
       "      <td>2020.000000</td>\n",
       "      <td>59995.000000</td>\n",
       "      <td>174419.000000</td>\n",
       "      <td>565.000000</td>\n",
       "      <td>235.000000</td>\n",
       "      <td>4.500000</td>\n",
       "    </tr>\n",
       "  </tbody>\n",
       "</table>\n",
       "</div>"
      ],
      "text/plain": [
       "              year         price        mileage          tax          mpg  \\\n",
       "count  6738.000000   6738.000000    6738.000000  6738.000000  6738.000000   \n",
       "mean   2016.748145  12522.391066   22857.413921    94.697240    63.042223   \n",
       "std       2.204062   6345.017587   19125.464147    73.880776    15.836710   \n",
       "min    1998.000000    850.000000       2.000000     0.000000     2.800000   \n",
       "25%    2016.000000   8290.000000    9446.000000     0.000000    55.400000   \n",
       "50%    2017.000000  10795.000000   18513.000000   135.000000    62.800000   \n",
       "75%    2018.000000  14995.000000   31063.750000   145.000000    69.000000   \n",
       "max    2020.000000  59995.000000  174419.000000   565.000000   235.000000   \n",
       "\n",
       "        engineSize  \n",
       "count  6738.000000  \n",
       "mean      1.471297  \n",
       "std       0.436159  \n",
       "min       0.000000  \n",
       "25%       1.000000  \n",
       "50%       1.500000  \n",
       "75%       1.800000  \n",
       "max       4.500000  "
      ]
     },
     "execution_count": 9,
     "metadata": {},
     "output_type": "execute_result"
    }
   ],
   "source": [
    "df.describe()"
   ]
  },
  {
   "cell_type": "code",
   "execution_count": 10,
   "id": "9ca8f8cc",
   "metadata": {},
   "outputs": [
    {
     "data": {
      "text/html": [
       "<div>\n",
       "<style scoped>\n",
       "    .dataframe tbody tr th:only-of-type {\n",
       "        vertical-align: middle;\n",
       "    }\n",
       "\n",
       "    .dataframe tbody tr th {\n",
       "        vertical-align: top;\n",
       "    }\n",
       "\n",
       "    .dataframe thead th {\n",
       "        text-align: right;\n",
       "    }\n",
       "</style>\n",
       "<table border=\"1\" class=\"dataframe\">\n",
       "  <thead>\n",
       "    <tr style=\"text-align: right;\">\n",
       "      <th></th>\n",
       "      <th>year</th>\n",
       "      <th>price</th>\n",
       "      <th>mileage</th>\n",
       "      <th>tax</th>\n",
       "      <th>mpg</th>\n",
       "      <th>engineSize</th>\n",
       "    </tr>\n",
       "  </thead>\n",
       "  <tbody>\n",
       "    <tr>\n",
       "      <th>year</th>\n",
       "      <td>1.000000</td>\n",
       "      <td>0.420959</td>\n",
       "      <td>-0.727749</td>\n",
       "      <td>0.283455</td>\n",
       "      <td>-0.020607</td>\n",
       "      <td>-0.045567</td>\n",
       "    </tr>\n",
       "    <tr>\n",
       "      <th>price</th>\n",
       "      <td>0.420959</td>\n",
       "      <td>1.000000</td>\n",
       "      <td>-0.297936</td>\n",
       "      <td>0.214498</td>\n",
       "      <td>-0.039910</td>\n",
       "      <td>0.727592</td>\n",
       "    </tr>\n",
       "    <tr>\n",
       "      <th>mileage</th>\n",
       "      <td>-0.727749</td>\n",
       "      <td>-0.297936</td>\n",
       "      <td>1.000000</td>\n",
       "      <td>-0.205285</td>\n",
       "      <td>0.044889</td>\n",
       "      <td>0.182615</td>\n",
       "    </tr>\n",
       "    <tr>\n",
       "      <th>tax</th>\n",
       "      <td>0.283455</td>\n",
       "      <td>0.214498</td>\n",
       "      <td>-0.205285</td>\n",
       "      <td>1.000000</td>\n",
       "      <td>-0.430292</td>\n",
       "      <td>0.155727</td>\n",
       "    </tr>\n",
       "    <tr>\n",
       "      <th>mpg</th>\n",
       "      <td>-0.020607</td>\n",
       "      <td>-0.039910</td>\n",
       "      <td>0.044889</td>\n",
       "      <td>-0.430292</td>\n",
       "      <td>1.000000</td>\n",
       "      <td>-0.106868</td>\n",
       "    </tr>\n",
       "    <tr>\n",
       "      <th>engineSize</th>\n",
       "      <td>-0.045567</td>\n",
       "      <td>0.727592</td>\n",
       "      <td>0.182615</td>\n",
       "      <td>0.155727</td>\n",
       "      <td>-0.106868</td>\n",
       "      <td>1.000000</td>\n",
       "    </tr>\n",
       "  </tbody>\n",
       "</table>\n",
       "</div>"
      ],
      "text/plain": [
       "                year     price   mileage       tax       mpg  engineSize\n",
       "year        1.000000  0.420959 -0.727749  0.283455 -0.020607   -0.045567\n",
       "price       0.420959  1.000000 -0.297936  0.214498 -0.039910    0.727592\n",
       "mileage    -0.727749 -0.297936  1.000000 -0.205285  0.044889    0.182615\n",
       "tax         0.283455  0.214498 -0.205285  1.000000 -0.430292    0.155727\n",
       "mpg        -0.020607 -0.039910  0.044889 -0.430292  1.000000   -0.106868\n",
       "engineSize -0.045567  0.727592  0.182615  0.155727 -0.106868    1.000000"
      ]
     },
     "execution_count": 10,
     "metadata": {},
     "output_type": "execute_result"
    }
   ],
   "source": [
    "df.corr()"
   ]
  },
  {
   "cell_type": "code",
   "execution_count": 11,
   "id": "fde264c7",
   "metadata": {},
   "outputs": [
    {
     "data": {
      "text/plain": [
       " Yaris            2122\n",
       " Aygo             1961\n",
       " Auris             712\n",
       " C-HR              479\n",
       " RAV4              473\n",
       " Corolla           267\n",
       " Prius             232\n",
       " Avensis           115\n",
       " Verso             114\n",
       " Hilux              86\n",
       " GT86               73\n",
       " Land Cruiser       51\n",
       " PROACE VERSO       15\n",
       " Supra              12\n",
       " Camry              11\n",
       " IQ                  8\n",
       " Urban Cruiser       4\n",
       " Verso-S             3\n",
       "Name: model, dtype: int64"
      ]
     },
     "execution_count": 11,
     "metadata": {},
     "output_type": "execute_result"
    }
   ],
   "source": [
    "df['model'].value_counts()"
   ]
  },
  {
   "cell_type": "code",
   "execution_count": 12,
   "id": "0bd8cb61",
   "metadata": {},
   "outputs": [
    {
     "data": {
      "text/plain": [
       "<AxesSubplot:>"
      ]
     },
     "execution_count": 12,
     "metadata": {},
     "output_type": "execute_result"
    },
    {
     "data": {
      "image/png": "[encoded data removed]",
      "text/plain": [
       "<Figure size 432x288 with 1 Axes>"
      ]
     },
     "metadata": {},
     "output_type": "display_data"
    }
   ],
   "source": [
    "df['model'].value_counts().plot(kind = 'bar' , x = 'model')"
   ]
  },
  {
   "cell_type": "markdown",
   "id": "95d27a66",
   "metadata": {},
   "source": [
    "### From the above graph we can see that model Yaris and Aygo are the most used toyota car"
   ]
  },
  {
   "cell_type": "code",
   "execution_count": 13,
   "id": "bbd291fa",
   "metadata": {},
   "outputs": [
    {
     "data": {
      "text/plain": [
       "2017    2019\n",
       "2019    1286\n",
       "2018    1015\n",
       "2016     997\n",
       "2015     525\n",
       "2014     352\n",
       "2013     204\n",
       "2020     128\n",
       "2012      42\n",
       "2011      40\n",
       "2009      29\n",
       "2007      20\n",
       "2008      19\n",
       "2010      18\n",
       "2005      12\n",
       "2006      11\n",
       "2004       7\n",
       "2003       6\n",
       "2002       4\n",
       "2000       1\n",
       "1999       1\n",
       "2001       1\n",
       "1998       1\n",
       "Name: year, dtype: int64"
      ]
     },
     "execution_count": 13,
     "metadata": {},
     "output_type": "execute_result"
    }
   ],
   "source": [
    "df['year'].value_counts()"
   ]
  },
  {
   "cell_type": "code",
   "execution_count": 14,
   "id": "296825bc",
   "metadata": {},
   "outputs": [
    {
     "data": {
      "text/plain": [
       "<AxesSubplot:>"
      ]
     },
     "execution_count": 14,
     "metadata": {},
     "output_type": "execute_result"
    },
    {
     "data": {
      "image/png": "[encoded data removed]",
      "text/plain": [
       "<Figure size 432x288 with 1 Axes>"
      ]
     },
     "metadata": {},
     "output_type": "display_data"
    }
   ],
   "source": [
    "df['year'].value_counts().plot(kind = 'bar' , x = 'year')"
   ]
  },
  {
   "cell_type": "markdown",
   "id": "9b118ed2",
   "metadata": {},
   "source": [
    "### Most of the toyota cars are registerd in the years 2017 and 2019"
   ]
  },
  {
   "cell_type": "code",
   "execution_count": 15,
   "id": "828d7c3e",
   "metadata": {},
   "outputs": [
    {
     "data": {
      "text/plain": [
       "9995     115\n",
       "8995      86\n",
       "10995     74\n",
       "7995      72\n",
       "11995     67\n",
       "        ... \n",
       "13555      1\n",
       "7410       1\n",
       "9445       1\n",
       "9791       1\n",
       "8188       1\n",
       "Name: price, Length: 2114, dtype: int64"
      ]
     },
     "execution_count": 15,
     "metadata": {},
     "output_type": "execute_result"
    }
   ],
   "source": [
    "df['price'].value_counts()"
   ]
  },
  {
   "cell_type": "markdown",
   "id": "11e06116",
   "metadata": {},
   "source": [
    "### Most of the car is sold at price of 9995 euros"
   ]
  },
  {
   "cell_type": "code",
   "execution_count": 16,
   "id": "d9313b11",
   "metadata": {},
   "outputs": [
    {
     "data": {
      "text/plain": [
       "Manual       3826\n",
       "Automatic    2657\n",
       "Semi-Auto     254\n",
       "Other           1\n",
       "Name: transmission, dtype: int64"
      ]
     },
     "execution_count": 16,
     "metadata": {},
     "output_type": "execute_result"
    }
   ],
   "source": [
    "df['transmission'].value_counts()"
   ]
  },
  {
   "cell_type": "code",
   "execution_count": 17,
   "id": "8a5f9c8b",
   "metadata": {},
   "outputs": [
    {
     "data": {
      "text/plain": [
       "<AxesSubplot:>"
      ]
     },
     "execution_count": 17,
     "metadata": {},
     "output_type": "execute_result"
    },
    {
     "data": {
      "image/png": "[encoded data removed]",
      "text/plain": [
       "<Figure size 432x288 with 1 Axes>"
      ]
     },
     "metadata": {},
     "output_type": "display_data"
    }
   ],
   "source": [
    "df['transmission'].value_counts().plot(kind = 'bar' , x = 'transmission')"
   ]
  },
  {
   "cell_type": "markdown",
   "id": "eb409527",
   "metadata": {},
   "source": [
    "### Manual gear box  is the most used  type of gear box in toyota cars."
   ]
  },
  {
   "cell_type": "code",
   "execution_count": 18,
   "id": "c7496a07",
   "metadata": {},
   "outputs": [
    {
     "data": {
      "text/plain": [
       "5000     28\n",
       "1000     19\n",
       "3000     17\n",
       "25000    16\n",
       "14000    15\n",
       "         ..\n",
       "8965      1\n",
       "35588     1\n",
       "51996     1\n",
       "31490     1\n",
       "10239     1\n",
       "Name: mileage, Length: 5699, dtype: int64"
      ]
     },
     "execution_count": 18,
     "metadata": {},
     "output_type": "execute_result"
    }
   ],
   "source": [
    "df['mileage'].value_counts()"
   ]
  },
  {
   "cell_type": "markdown",
   "id": "292d42f2",
   "metadata": {},
   "source": [
    "### Mileage of most of the vehicles are 5000"
   ]
  },
  {
   "cell_type": "code",
   "execution_count": 19,
   "id": "dbb50b5d",
   "metadata": {},
   "outputs": [
    {
     "data": {
      "text/plain": [
       "Petrol    4087\n",
       "Hybrid    2043\n",
       "Diesel     503\n",
       "Other      105\n",
       "Name: fuelType, dtype: int64"
      ]
     },
     "execution_count": 19,
     "metadata": {},
     "output_type": "execute_result"
    }
   ],
   "source": [
    "df['fuelType'].value_counts()"
   ]
  },
  {
   "cell_type": "code",
   "execution_count": 20,
   "id": "0654e599",
   "metadata": {},
   "outputs": [
    {
     "data": {
      "text/plain": [
       "<AxesSubplot:>"
      ]
     },
     "execution_count": 20,
     "metadata": {},
     "output_type": "execute_result"
    },
    {
     "data": {
      "image/png": "[encoded data removed]",
      "text/plain": [
       "<Figure size 432x288 with 1 Axes>"
      ]
     },
     "metadata": {},
     "output_type": "display_data"
    }
   ],
   "source": [
    "df['fuelType'].value_counts().plot(kind = 'bar' , x = 'fuelType' , color = 'green')"
   ]
  },
  {
   "cell_type": "markdown",
   "id": "a6774b40",
   "metadata": {},
   "source": [
    "### From above graph we can see that Petrol is used in most of the cars."
   ]
  },
  {
   "cell_type": "code",
   "execution_count": 21,
   "id": "5a816f27",
   "metadata": {},
   "outputs": [
    {
     "data": {
      "text/plain": [
       "145    2090\n",
       "0      1790\n",
       "135     678\n",
       "30      587\n",
       "150     529\n",
       "20      253\n",
       "140     223\n",
       "125     196\n",
       "260      93\n",
       "200      74\n",
       "265      41\n",
       "160      41\n",
       "205      28\n",
       "10       23\n",
       "165      23\n",
       "235      21\n",
       "300      16\n",
       "325      13\n",
       "240       5\n",
       "330       4\n",
       "305       2\n",
       "115       1\n",
       "155       1\n",
       "120       1\n",
       "540       1\n",
       "250       1\n",
       "190       1\n",
       "565       1\n",
       "555       1\n",
       "Name: tax, dtype: int64"
      ]
     },
     "execution_count": 21,
     "metadata": {},
     "output_type": "execute_result"
    }
   ],
   "source": [
    "df['tax'].value_counts()"
   ]
  },
  {
   "cell_type": "code",
   "execution_count": 22,
   "id": "e9a717e7",
   "metadata": {},
   "outputs": [
    {
     "data": {
      "text/plain": [
       "<AxesSubplot:>"
      ]
     },
     "execution_count": 22,
     "metadata": {},
     "output_type": "execute_result"
    },
    {
     "data": {
      "image/png": "[encoded data removed]",
      "text/plain": [
       "<Figure size 432x288 with 1 Axes>"
      ]
     },
     "metadata": {},
     "output_type": "display_data"
    }
   ],
   "source": [
    "df['tax'].value_counts().plot(kind = 'bar' , x = 'tax', color = 'violet')"
   ]
  },
  {
   "cell_type": "markdown",
   "id": "85652cf8",
   "metadata": {},
   "source": [
    "### Almost 2090 cars has to pay road tax and 1790 cars are not needed to pay the road tax."
   ]
  },
  {
   "cell_type": "code",
   "execution_count": 23,
   "id": "1b7d6477",
   "metadata": {},
   "outputs": [
    {
     "data": {
      "text/plain": [
       "69.0    676\n",
       "56.5    475\n",
       "68.9    473\n",
       "47.9    412\n",
       "74.3    362\n",
       "       ... \n",
       "27.2      1\n",
       "31.0      1\n",
       "37.2      1\n",
       "30.4      1\n",
       "29.7      1\n",
       "Name: mpg, Length: 81, dtype: int64"
      ]
     },
     "execution_count": 23,
     "metadata": {},
     "output_type": "execute_result"
    }
   ],
   "source": [
    "df['mpg'].value_counts()"
   ]
  },
  {
   "cell_type": "code",
   "execution_count": 24,
   "id": "5e424ebc",
   "metadata": {},
   "outputs": [
    {
     "data": {
      "text/plain": [
       "1.0    2059\n",
       "1.5    1423\n",
       "1.8    1289\n",
       "1.3     601\n",
       "2.0     398\n",
       "1.2     303\n",
       "2.5     249\n",
       "1.6     169\n",
       "2.4      70\n",
       "2.2      58\n",
       "1.4      40\n",
       "2.8      36\n",
       "3.0      35\n",
       "0.0       6\n",
       "4.5       1\n",
       "4.2       1\n",
       "Name: engineSize, dtype: int64"
      ]
     },
     "execution_count": 24,
     "metadata": {},
     "output_type": "execute_result"
    }
   ],
   "source": [
    "df['engineSize'].value_counts()"
   ]
  },
  {
   "cell_type": "code",
   "execution_count": 25,
   "id": "bafc4f2f",
   "metadata": {},
   "outputs": [
    {
     "data": {
      "text/plain": [
       "<AxesSubplot:>"
      ]
     },
     "execution_count": 25,
     "metadata": {},
     "output_type": "execute_result"
    },
    {
     "data": {
      "image/png": "[encoded data removed]",
      "text/plain": [
       "<Figure size 432x288 with 1 Axes>"
      ]
     },
     "metadata": {},
     "output_type": "display_data"
    }
   ],
   "source": [
    "df['engineSize'].value_counts().plot(kind = 'bar' , x = 'engineSize', color = 'blue')"
   ]
  },
  {
   "cell_type": "markdown",
   "id": "821f4a8f",
   "metadata": {},
   "source": [
    "### Most of the engine sizes are 1.0 litres in toyota cars."
   ]
  },
  {
   "cell_type": "code",
   "execution_count": 26,
   "id": "8a55ddb5",
   "metadata": {},
   "outputs": [],
   "source": [
    "sns.set(rc={'figure.figsize':(25,20)})"
   ]
  },
  {
   "cell_type": "code",
   "execution_count": 27,
   "id": "db82bb25",
   "metadata": {},
   "outputs": [
    {
     "data": {
      "text/plain": [
       "<AxesSubplot:xlabel='model', ylabel='price'>"
      ]
     },
     "execution_count": 27,
     "metadata": {},
     "output_type": "execute_result"
    },
    {
     "data": {
      "image/png": "[encoded data removed]",
      "text/plain": [
       "<Figure size 1800x1440 with 1 Axes>"
      ]
     },
     "metadata": {},
     "output_type": "display_data"
    }
   ],
   "source": [
    "sns.barplot(x = \"model\", y = \"price\", data = df)"
   ]
  },
  {
   "cell_type": "markdown",
   "id": "e1a1fcb4",
   "metadata": {},
   "source": [
    "### From the above analysis, we can say that model Supra has highest about 50000 euros where as cheapest car is IQ model"
   ]
  },
  {
   "cell_type": "code",
   "execution_count": 28,
   "id": "165ab118",
   "metadata": {},
   "outputs": [],
   "source": [
    "sns.set(rc={'figure.figsize':(11.7,8.27)})"
   ]
  },
  {
   "cell_type": "code",
   "execution_count": 29,
   "id": "a63b3e5d",
   "metadata": {},
   "outputs": [
    {
     "data": {
      "text/plain": [
       "<AxesSubplot:xlabel='transmission', ylabel='price'>"
      ]
     },
     "execution_count": 29,
     "metadata": {},
     "output_type": "execute_result"
    },
    {
     "data": {
      "image/png": "[encoded data removed]",
      "text/plain": [
       "<Figure size 842.4x595.44 with 1 Axes>"
      ]
     },
     "metadata": {},
     "output_type": "display_data"
    }
   ],
   "source": [
    "sns.boxplot(x = \"transmission\", y = \"price\", data = df)"
   ]
  },
  {
   "cell_type": "markdown",
   "id": "1907b643",
   "metadata": {},
   "source": [
    "### Manual cars has lowest average price and Automatic has highest average price."
   ]
  },
  {
   "cell_type": "code",
   "execution_count": 30,
   "id": "7aceab05",
   "metadata": {},
   "outputs": [
    {
     "data": {
      "text/plain": [
       "<AxesSubplot:xlabel='engineSize', ylabel='price'>"
      ]
     },
     "execution_count": 30,
     "metadata": {},
     "output_type": "execute_result"
    },
    {
     "data": {
      "image/png": "[encoded data removed]",
      "text/plain": [
       "<Figure size 842.4x595.44 with 1 Axes>"
      ]
     },
     "metadata": {},
     "output_type": "display_data"
    }
   ],
   "source": [
    "sns.barplot(x = \"engineSize\", y = \"price\", data = df)"
   ]
  },
  {
   "cell_type": "markdown",
   "id": "f63e1d8e",
   "metadata": {},
   "source": [
    "### Engines with size 2.8 and 4.5 has the highest price."
   ]
  },
  {
   "cell_type": "code",
   "execution_count": 31,
   "id": "8c7b94c9",
   "metadata": {},
   "outputs": [
    {
     "data": {
      "text/plain": [
       "<AxesSubplot:xlabel='fuelType', ylabel='price'>"
      ]
     },
     "execution_count": 31,
     "metadata": {},
     "output_type": "execute_result"
    },
    {
     "data": {
      "image/png": "[encoded data removed]",
      "text/plain": [
       "<Figure size 842.4x595.44 with 1 Axes>"
      ]
     },
     "metadata": {},
     "output_type": "display_data"
    }
   ],
   "source": [
    "sns.boxplot(x = \"fuelType\", y = \"price\", data = df)"
   ]
  },
  {
   "cell_type": "markdown",
   "id": "e4a5c0ec",
   "metadata": {},
   "source": [
    "### Petrol fueled car has lowest average price and Hybrid car has highest average price"
   ]
  },
  {
   "cell_type": "code",
   "execution_count": 32,
   "id": "e3a32a91",
   "metadata": {},
   "outputs": [],
   "source": [
    "sns.set(rc={'figure.figsize':(25,16)})"
   ]
  },
  {
   "cell_type": "code",
   "execution_count": 33,
   "id": "e8f1c818",
   "metadata": {},
   "outputs": [
    {
     "data": {
      "text/plain": [
       "<AxesSubplot:xlabel='model', ylabel='tax'>"
      ]
     },
     "execution_count": 33,
     "metadata": {},
     "output_type": "execute_result"
    },
    {
     "data": {
      "image/png": "[encoded data removed]",
      "text/plain": [
       "<Figure size 1800x1152 with 1 Axes>"
      ]
     },
     "metadata": {},
     "output_type": "display_data"
    }
   ],
   "source": [
    "sns.barplot(x = \"model\", y = \"tax\", data = df)"
   ]
  },
  {
   "cell_type": "markdown",
   "id": "48244157",
   "metadata": {},
   "source": [
    "### Model Hilux has highest road tax"
   ]
  },
  {
   "cell_type": "code",
   "execution_count": 34,
   "id": "4a55deca",
   "metadata": {},
   "outputs": [],
   "source": [
    "sns.set(rc={'figure.figsize':(20,8.27)})"
   ]
  },
  {
   "cell_type": "code",
   "execution_count": 35,
   "id": "efcf3e30",
   "metadata": {},
   "outputs": [
    {
     "data": {
      "text/plain": [
       "<seaborn.axisgrid.FacetGrid at 0x1f5e1593f10>"
      ]
     },
     "execution_count": 35,
     "metadata": {},
     "output_type": "execute_result"
    },
    {
     "data": {
      "image/png": "[encoded data removed]",
      "text/plain": [
       "<Figure size 431.6x360 with 1 Axes>"
      ]
     },
     "metadata": {},
     "output_type": "display_data"
    }
   ],
   "source": [
    "sns.catplot(x = \"transmission\", y = \"price\", hue= \"fuelType\", data = df)"
   ]
  },
  {
   "cell_type": "markdown",
   "id": "4c81ea2e",
   "metadata": {},
   "source": [
    "# LOGISTIC REGRESSION"
   ]
  },
  {
   "cell_type": "markdown",
   "id": "d509caee",
   "metadata": {},
   "source": [
    "Maam, since my above dataset is not possible to do logistic regression , i have taken another dataset and did a logistic regression below."
   ]
  },
  {
   "cell_type": "code",
   "execution_count": 36,
   "id": "5cdd6601",
   "metadata": {},
   "outputs": [],
   "source": [
    "df1 = pd.read_csv(\"D:/ML 1/Lab Datasets/diabetes2.csv\")"
   ]
  },
  {
   "cell_type": "code",
   "execution_count": 37,
   "id": "3cf86d64",
   "metadata": {},
   "outputs": [
    {
     "data": {
      "text/html": [
       "<div>\n",
       "<style scoped>\n",
       "    .dataframe tbody tr th:only-of-type {\n",
       "        vertical-align: middle;\n",
       "    }\n",
       "\n",
       "    .dataframe tbody tr th {\n",
       "        vertical-align: top;\n",
       "    }\n",
       "\n",
       "    .dataframe thead th {\n",
       "        text-align: right;\n",
       "    }\n",
       "</style>\n",
       "<table border=\"1\" class=\"dataframe\">\n",
       "  <thead>\n",
       "    <tr style=\"text-align: right;\">\n",
       "      <th></th>\n",
       "      <th>Pregnancies</th>\n",
       "      <th>Glucose</th>\n",
       "      <th>BloodPressure</th>\n",
       "      <th>SkinThickness</th>\n",
       "      <th>Insulin</th>\n",
       "      <th>BMI</th>\n",
       "      <th>DiabetesPedigreeFunction</th>\n",
       "      <th>Age</th>\n",
       "      <th>Outcome</th>\n",
       "    </tr>\n",
       "  </thead>\n",
       "  <tbody>\n",
       "    <tr>\n",
       "      <th>0</th>\n",
       "      <td>6</td>\n",
       "      <td>148</td>\n",
       "      <td>72</td>\n",
       "      <td>35</td>\n",
       "      <td>0</td>\n",
       "      <td>33.6</td>\n",
       "      <td>0.627</td>\n",
       "      <td>50</td>\n",
       "      <td>1</td>\n",
       "    </tr>\n",
       "    <tr>\n",
       "      <th>1</th>\n",
       "      <td>1</td>\n",
       "      <td>85</td>\n",
       "      <td>66</td>\n",
       "      <td>29</td>\n",
       "      <td>0</td>\n",
       "      <td>26.6</td>\n",
       "      <td>0.351</td>\n",
       "      <td>31</td>\n",
       "      <td>0</td>\n",
       "    </tr>\n",
       "    <tr>\n",
       "      <th>2</th>\n",
       "      <td>8</td>\n",
       "      <td>183</td>\n",
       "      <td>64</td>\n",
       "      <td>0</td>\n",
       "      <td>0</td>\n",
       "      <td>23.3</td>\n",
       "      <td>0.672</td>\n",
       "      <td>32</td>\n",
       "      <td>1</td>\n",
       "    </tr>\n",
       "    <tr>\n",
       "      <th>3</th>\n",
       "      <td>1</td>\n",
       "      <td>89</td>\n",
       "      <td>66</td>\n",
       "      <td>23</td>\n",
       "      <td>94</td>\n",
       "      <td>28.1</td>\n",
       "      <td>0.167</td>\n",
       "      <td>21</td>\n",
       "      <td>0</td>\n",
       "    </tr>\n",
       "    <tr>\n",
       "      <th>4</th>\n",
       "      <td>0</td>\n",
       "      <td>137</td>\n",
       "      <td>40</td>\n",
       "      <td>35</td>\n",
       "      <td>168</td>\n",
       "      <td>43.1</td>\n",
       "      <td>2.288</td>\n",
       "      <td>33</td>\n",
       "      <td>1</td>\n",
       "    </tr>\n",
       "    <tr>\n",
       "      <th>...</th>\n",
       "      <td>...</td>\n",
       "      <td>...</td>\n",
       "      <td>...</td>\n",
       "      <td>...</td>\n",
       "      <td>...</td>\n",
       "      <td>...</td>\n",
       "      <td>...</td>\n",
       "      <td>...</td>\n",
       "      <td>...</td>\n",
       "    </tr>\n",
       "    <tr>\n",
       "      <th>763</th>\n",
       "      <td>10</td>\n",
       "      <td>101</td>\n",
       "      <td>76</td>\n",
       "      <td>48</td>\n",
       "      <td>180</td>\n",
       "      <td>32.9</td>\n",
       "      <td>0.171</td>\n",
       "      <td>63</td>\n",
       "      <td>0</td>\n",
       "    </tr>\n",
       "    <tr>\n",
       "      <th>764</th>\n",
       "      <td>2</td>\n",
       "      <td>122</td>\n",
       "      <td>70</td>\n",
       "      <td>27</td>\n",
       "      <td>0</td>\n",
       "      <td>36.8</td>\n",
       "      <td>0.340</td>\n",
       "      <td>27</td>\n",
       "      <td>0</td>\n",
       "    </tr>\n",
       "    <tr>\n",
       "      <th>765</th>\n",
       "      <td>5</td>\n",
       "      <td>121</td>\n",
       "      <td>72</td>\n",
       "      <td>23</td>\n",
       "      <td>112</td>\n",
       "      <td>26.2</td>\n",
       "      <td>0.245</td>\n",
       "      <td>30</td>\n",
       "      <td>0</td>\n",
       "    </tr>\n",
       "    <tr>\n",
       "      <th>766</th>\n",
       "      <td>1</td>\n",
       "      <td>126</td>\n",
       "      <td>60</td>\n",
       "      <td>0</td>\n",
       "      <td>0</td>\n",
       "      <td>30.1</td>\n",
       "      <td>0.349</td>\n",
       "      <td>47</td>\n",
       "      <td>1</td>\n",
       "    </tr>\n",
       "    <tr>\n",
       "      <th>767</th>\n",
       "      <td>1</td>\n",
       "      <td>93</td>\n",
       "      <td>70</td>\n",
       "      <td>31</td>\n",
       "      <td>0</td>\n",
       "      <td>30.4</td>\n",
       "      <td>0.315</td>\n",
       "      <td>23</td>\n",
       "      <td>0</td>\n",
       "    </tr>\n",
       "  </tbody>\n",
       "</table>\n",
       "<p>768 rows × 9 columns</p>\n",
       "</div>"
      ],
      "text/plain": [
       "     Pregnancies  Glucose  BloodPressure  SkinThickness  Insulin   BMI  \\\n",
       "0              6      148             72             35        0  33.6   \n",
       "1              1       85             66             29        0  26.6   \n",
       "2              8      183             64              0        0  23.3   \n",
       "3              1       89             66             23       94  28.1   \n",
       "4              0      137             40             35      168  43.1   \n",
       "..           ...      ...            ...            ...      ...   ...   \n",
       "763           10      101             76             48      180  32.9   \n",
       "764            2      122             70             27        0  36.8   \n",
       "765            5      121             72             23      112  26.2   \n",
       "766            1      126             60              0        0  30.1   \n",
       "767            1       93             70             31        0  30.4   \n",
       "\n",
       "     DiabetesPedigreeFunction  Age  Outcome  \n",
       "0                       0.627   50        1  \n",
       "1                       0.351   31        0  \n",
       "2                       0.672   32        1  \n",
       "3                       0.167   21        0  \n",
       "4                       2.288   33        1  \n",
       "..                        ...  ...      ...  \n",
       "763                     0.171   63        0  \n",
       "764                     0.340   27        0  \n",
       "765                     0.245   30        0  \n",
       "766                     0.349   47        1  \n",
       "767                     0.315   23        0  \n",
       "\n",
       "[768 rows x 9 columns]"
      ]
     },
     "execution_count": 37,
     "metadata": {},
     "output_type": "execute_result"
    }
   ],
   "source": [
    "df1"
   ]
  },
  {
   "cell_type": "code",
   "execution_count": 38,
   "id": "7e2d40ec",
   "metadata": {},
   "outputs": [
    {
     "name": "stdout",
     "output_type": "stream",
     "text": [
      "<class 'pandas.core.frame.DataFrame'>\n",
      "RangeIndex: 768 entries, 0 to 767\n",
      "Data columns (total 9 columns):\n",
      " #   Column                    Non-Null Count  Dtype  \n",
      "---  ------                    --------------  -----  \n",
      " 0   Pregnancies               768 non-null    int64  \n",
      " 1   Glucose                   768 non-null    int64  \n",
      " 2   BloodPressure             768 non-null    int64  \n",
      " 3   SkinThickness             768 non-null    int64  \n",
      " 4   Insulin                   768 non-null    int64  \n",
      " 5   BMI                       768 non-null    float64\n",
      " 6   DiabetesPedigreeFunction  768 non-null    float64\n",
      " 7   Age                       768 non-null    int64  \n",
      " 8   Outcome                   768 non-null    int64  \n",
      "dtypes: float64(2), int64(7)\n",
      "memory usage: 54.1 KB\n"
     ]
    }
   ],
   "source": [
    "df1.info()"
   ]
  },
  {
   "cell_type": "code",
   "execution_count": 39,
   "id": "de89ebfa",
   "metadata": {},
   "outputs": [
    {
     "data": {
      "text/plain": [
       "Pregnancies                 0\n",
       "Glucose                     0\n",
       "BloodPressure               0\n",
       "SkinThickness               0\n",
       "Insulin                     0\n",
       "BMI                         0\n",
       "DiabetesPedigreeFunction    0\n",
       "Age                         0\n",
       "Outcome                     0\n",
       "dtype: int64"
      ]
     },
     "execution_count": 39,
     "metadata": {},
     "output_type": "execute_result"
    }
   ],
   "source": [
    "df1.isnull().sum()"
   ]
  },
  {
   "cell_type": "code",
   "execution_count": 40,
   "id": "2fed0d9a",
   "metadata": {},
   "outputs": [],
   "source": [
    "X = df1[[ 'Pregnancies', 'Glucose','BloodPressure', 'SkinThickness', 'Insulin','BMI','DiabetesPedigreeFunction','Age']]\n",
    "y = df1['Outcome']"
   ]
  },
  {
   "cell_type": "code",
   "execution_count": 41,
   "id": "1146c58c",
   "metadata": {},
   "outputs": [],
   "source": [
    "X_train, X_test, y_train, y_test = train_test_split(X, y, test_size=0.20, random_state=42)"
   ]
  },
  {
   "cell_type": "code",
   "execution_count": 42,
   "id": "068c7b04",
   "metadata": {},
   "outputs": [],
   "source": [
    "lgr = LogisticRegression(random_state=0)"
   ]
  },
  {
   "cell_type": "code",
   "execution_count": 43,
   "id": "b66b590b",
   "metadata": {},
   "outputs": [
    {
     "name": "stderr",
     "output_type": "stream",
     "text": [
      "C:\\Users\\User\\anaconda3\\lib\\site-packages\\sklearn\\linear_model\\_logistic.py:763: ConvergenceWarning: lbfgs failed to converge (status=1):\n",
      "STOP: TOTAL NO. of ITERATIONS REACHED LIMIT.\n",
      "\n",
      "Increase the number of iterations (max_iter) or scale the data as shown in:\n",
      "    https://scikit-learn.org/stable/modules/preprocessing.html\n",
      "Please also refer to the documentation for alternative solver options:\n",
      "    https://scikit-learn.org/stable/modules/linear_model.html#logistic-regression\n",
      "  n_iter_i = _check_optimize_result(\n"
     ]
    },
    {
     "data": {
      "text/plain": [
       "LogisticRegression(random_state=0)"
      ]
     },
     "execution_count": 43,
     "metadata": {},
     "output_type": "execute_result"
    }
   ],
   "source": [
    "lgr.fit(X_train, y_train)"
   ]
  },
  {
   "cell_type": "code",
   "execution_count": 44,
   "id": "af6a42d8",
   "metadata": {},
   "outputs": [
    {
     "name": "stdout",
     "output_type": "stream",
     "text": [
      "Coefficient :  [[ 0.06648853  0.0339489  -0.01386528  0.00418282 -0.00182157  0.10127616\n",
      "   0.62053157  0.03473907]]\n",
      "Intercept :  [-8.88498047]\n"
     ]
    }
   ],
   "source": [
    "print('Coefficient : ',lgr.coef_)\n",
    "print('Intercept : ',lgr.intercept_)"
   ]
  },
  {
   "cell_type": "code",
   "execution_count": 45,
   "id": "7350db43",
   "metadata": {},
   "outputs": [
    {
     "data": {
      "text/plain": [
       "array([0, 0, 0, 0, 0, 0, 0, 1, 1, 1, 0, 1, 0, 0, 0, 0, 0, 0, 1, 1, 0, 0,\n",
       "       1, 0, 1, 1, 0, 0, 0, 0, 1, 1, 1, 1, 1, 1, 1, 0, 1, 1, 0, 1, 1, 0,\n",
       "       0, 1, 1, 0, 0, 1, 0, 1, 1, 0, 0, 0, 1, 0, 0, 1, 1, 0, 0, 0, 0, 1,\n",
       "       0, 1, 0, 1, 1, 0, 0, 0, 0, 1, 0, 0, 0, 0, 1, 0, 0, 0, 0, 1, 1, 0,\n",
       "       0, 0, 0, 0, 0, 1, 1, 1, 0, 0, 1, 0, 1, 0, 1, 1, 1, 0, 0, 1, 0, 1,\n",
       "       0, 0, 0, 1, 0, 0, 1, 0, 0, 1, 0, 0, 0, 0, 0, 0, 0, 1, 1, 1, 1, 1,\n",
       "       0, 0, 1, 0, 0, 1, 1, 0, 0, 0, 0, 0, 0, 0, 0, 0, 0, 1, 0, 0, 0, 0],\n",
       "      dtype=int64)"
      ]
     },
     "execution_count": 45,
     "metadata": {},
     "output_type": "execute_result"
    }
   ],
   "source": [
    "prediction = lgr.predict(X_test)\n",
    "prediction"
   ]
  },
  {
   "cell_type": "code",
   "execution_count": 46,
   "id": "57aa504d",
   "metadata": {},
   "outputs": [
    {
     "data": {
      "text/plain": [
       "0.7719869706840391"
      ]
     },
     "execution_count": 46,
     "metadata": {},
     "output_type": "execute_result"
    }
   ],
   "source": [
    "lgr.score(X_train, y_train)"
   ]
  },
  {
   "cell_type": "code",
   "execution_count": 47,
   "id": "369fb0f9",
   "metadata": {},
   "outputs": [
    {
     "data": {
      "text/plain": [
       "0.7467532467532467"
      ]
     },
     "execution_count": 47,
     "metadata": {},
     "output_type": "execute_result"
    }
   ],
   "source": [
    "lgr.score(X_test, y_test)"
   ]
  },
  {
   "cell_type": "code",
   "execution_count": 48,
   "id": "e25cfda7",
   "metadata": {},
   "outputs": [],
   "source": [
    "from sklearn.metrics import confusion_matrix\n",
    "from sklearn import metrics"
   ]
  },
  {
   "cell_type": "markdown",
   "id": "56249748",
   "metadata": {},
   "source": [
    "## 1. Confusion matrix"
   ]
  },
  {
   "cell_type": "code",
   "execution_count": 49,
   "id": "99d0ce8c",
   "metadata": {},
   "outputs": [
    {
     "name": "stdout",
     "output_type": "stream",
     "text": [
      "[[78 21]\n",
      " [18 37]]\n"
     ]
    }
   ],
   "source": [
    "cm = confusion_matrix(y_test, prediction)\n",
    "print(cm)"
   ]
  },
  {
   "cell_type": "markdown",
   "id": "d84623cd",
   "metadata": {},
   "source": [
    "## 2. Precision"
   ]
  },
  {
   "cell_type": "code",
   "execution_count": 50,
   "id": "8379f792",
   "metadata": {},
   "outputs": [
    {
     "name": "stdout",
     "output_type": "stream",
     "text": [
      "Precision :  0.6379310344827587\n"
     ]
    }
   ],
   "source": [
    "from sklearn.metrics import precision_score\n",
    "Precision = precision_score(y_test,prediction)\n",
    "print(\"Precision : \" , Precision)"
   ]
  },
  {
   "cell_type": "markdown",
   "id": "88494f07",
   "metadata": {},
   "source": [
    "## 3. Recall"
   ]
  },
  {
   "cell_type": "code",
   "execution_count": 51,
   "id": "855dd7cd",
   "metadata": {},
   "outputs": [
    {
     "name": "stdout",
     "output_type": "stream",
     "text": [
      "Recall :  0.6727272727272727\n"
     ]
    }
   ],
   "source": [
    "from sklearn.metrics import recall_score\n",
    "Recall = recall_score(y_test,prediction)\n",
    "print('Recall : ',Recall)"
   ]
  },
  {
   "cell_type": "code",
   "execution_count": 52,
   "id": "84dbf346",
   "metadata": {},
   "outputs": [
    {
     "data": {
      "text/plain": [
       "'              precision    recall  f1-score   support\\n\\n           0       0.81      0.79      0.80        99\\n           1       0.64      0.67      0.65        55\\n\\n    accuracy                           0.75       154\\n   macro avg       0.73      0.73      0.73       154\\nweighted avg       0.75      0.75      0.75       154\\n'"
      ]
     },
     "execution_count": 52,
     "metadata": {},
     "output_type": "execute_result"
    }
   ],
   "source": [
    "metrics.classification_report(y_test, prediction)"
   ]
  },
  {
   "cell_type": "markdown",
   "id": "15b5fcde",
   "metadata": {},
   "source": [
    "## 4. F1 Score"
   ]
  },
  {
   "cell_type": "code",
   "execution_count": 53,
   "id": "c5531f65",
   "metadata": {},
   "outputs": [
    {
     "name": "stdout",
     "output_type": "stream",
     "text": [
      "F1-Score :  0.6548672566371682\n"
     ]
    }
   ],
   "source": [
    "f1 = (2*Precision*Recall)/(Precision + Recall)\n",
    "print('F1-Score : ',f1)"
   ]
  },
  {
   "cell_type": "markdown",
   "id": "5e956bc5",
   "metadata": {},
   "source": [
    "## 5. Specificity"
   ]
  },
  {
   "cell_type": "code",
   "execution_count": 54,
   "id": "6d1d4b59",
   "metadata": {},
   "outputs": [],
   "source": [
    "tn = 18\n",
    "fp = 21"
   ]
  },
  {
   "cell_type": "code",
   "execution_count": 55,
   "id": "f8130b6c",
   "metadata": {},
   "outputs": [
    {
     "name": "stdout",
     "output_type": "stream",
     "text": [
      "Specificity :  0.46153846153846156\n"
     ]
    }
   ],
   "source": [
    "Specificity = tn/(tn+fp)\n",
    "print(\"Specificity : \", Specificity)"
   ]
  },
  {
   "cell_type": "markdown",
   "id": "7c2f8501",
   "metadata": {},
   "source": [
    "## 6. Missclassification Rate"
   ]
  },
  {
   "cell_type": "code",
   "execution_count": 56,
   "id": "4845a439",
   "metadata": {},
   "outputs": [],
   "source": [
    "fn = 78\n",
    "total = 154"
   ]
  },
  {
   "cell_type": "code",
   "execution_count": 57,
   "id": "e0176fe4",
   "metadata": {},
   "outputs": [
    {
     "name": "stdout",
     "output_type": "stream",
     "text": [
      "Missclassification Rate :  0.6428571428571429\n"
     ]
    }
   ],
   "source": [
    "mis = (fn+fp)/total\n",
    "print(\"Missclassification Rate : \", mis)"
   ]
  },
  {
   "cell_type": "markdown",
   "id": "f3254e54",
   "metadata": {},
   "source": [
    "## 7. ROC , AUROC"
   ]
  },
  {
   "cell_type": "code",
   "execution_count": 58,
   "id": "2ee340e8",
   "metadata": {},
   "outputs": [
    {
     "data": {
      "text/plain": [
       "[<matplotlib.lines.Line2D at 0x1f5e1af75e0>]"
      ]
     },
     "execution_count": 58,
     "metadata": {},
     "output_type": "execute_result"
    },
    {
     "data": {
      "image/png": "[encoded data removed]",
      "text/plain": [
       "<Figure size 1440x595.44 with 1 Axes>"
      ]
     },
     "metadata": {},
     "output_type": "display_data"
    }
   ],
   "source": [
    "fp1,tp1,_ = metrics.roc_curve(y_test , prediction)\n",
    "plt.plot(fp1,tp1)"
   ]
  },
  {
   "cell_type": "code",
   "execution_count": 59,
   "id": "cdcf3931",
   "metadata": {},
   "outputs": [
    {
     "name": "stdout",
     "output_type": "stream",
     "text": [
      "AUROC :  0.7303030303030302\n"
     ]
    }
   ],
   "source": [
    "aur = metrics.roc_auc_score(y_test , prediction)\n",
    "print(\"AUROC : \", aur)"
   ]
  },
  {
   "cell_type": "markdown",
   "id": "0b3b945f",
   "metadata": {},
   "source": [
    "## 8. Sensitivity"
   ]
  },
  {
   "cell_type": "code",
   "execution_count": 61,
   "id": "e8e66afe",
   "metadata": {},
   "outputs": [
    {
     "name": "stdout",
     "output_type": "stream",
     "text": [
      "Sensitivity :  0.7878787878787878\n"
     ]
    }
   ],
   "source": [
    "sensitivity1 = cm[0,0]/(cm[0,0]+cm[0,1])\n",
    "print('Sensitivity : ', sensitivity1 )"
   ]
  },
  {
   "cell_type": "code",
   "execution_count": null,
   "id": "5b2f47c2",
   "metadata": {},
   "outputs": [],
   "source": []
  },
  {
   "cell_type": "code",
   "execution_count": null,
   "id": "da415d5c",
   "metadata": {},
   "outputs": [],
   "source": []
  }
 ],
 "metadata": {
  "kernelspec": {
   "display_name": "Python 3",
   "language": "python",
   "name": "python3"
  },
  "language_info": {
   "codemirror_mode": {
    "name": "ipython",
    "version": 3
   },
   "file_extension": ".py",
   "mimetype": "text/x-python",
   "name": "python",
   "nbconvert_exporter": "python",
   "pygments_lexer": "ipython3",
   "version": "3.8.8"
  }
 },
 "nbformat": 4,
 "nbformat_minor": 5
}
