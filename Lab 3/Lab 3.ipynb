{
 "cells": [
  {
   "cell_type": "code",
   "execution_count": 2,
   "id": "76e60dd5",
   "metadata": {},
   "outputs": [],
   "source": [
    "import pandas as pd\n",
    "import numpy as np\n",
    "from sklearn.model_selection import train_test_split\n",
    "from sklearn.linear_model import LogisticRegression\n",
    "from sklearn.metrics import precision_score\n",
    "from sklearn.metrics import recall_score\n",
    "import seaborn as sns\n",
    "import matplotlib.pyplot as plt\n",
    "sns.set(style=\"darkgrid\")"
   ]
  },
  {
   "cell_type": "code",
   "execution_count": 3,
   "id": "5c26346f",
   "metadata": {},
   "outputs": [],
   "source": [
    "train = pd.read_csv('winequality.csv')"
   ]
  },
  {
   "cell_type": "code",
   "execution_count": 4,
   "id": "4670de97",
   "metadata": {},
   "outputs": [
    {
     "data": {
      "text/html": [
       "<div>\n",
       "<style scoped>\n",
       "    .dataframe tbody tr th:only-of-type {\n",
       "        vertical-align: middle;\n",
       "    }\n",
       "\n",
       "    .dataframe tbody tr th {\n",
       "        vertical-align: top;\n",
       "    }\n",
       "\n",
       "    .dataframe thead th {\n",
       "        text-align: right;\n",
       "    }\n",
       "</style>\n",
       "<table border=\"1\" class=\"dataframe\">\n",
       "  <thead>\n",
       "    <tr style=\"text-align: right;\">\n",
       "      <th></th>\n",
       "      <th>type</th>\n",
       "      <th>fixed acidity</th>\n",
       "      <th>volatile acidity</th>\n",
       "      <th>citric acid</th>\n",
       "      <th>residual sugar</th>\n",
       "      <th>chlorides</th>\n",
       "      <th>free sulfur dioxide</th>\n",
       "      <th>total sulfur dioxide</th>\n",
       "      <th>density</th>\n",
       "      <th>pH</th>\n",
       "      <th>sulphates</th>\n",
       "      <th>alcohol</th>\n",
       "      <th>quality</th>\n",
       "    </tr>\n",
       "  </thead>\n",
       "  <tbody>\n",
       "    <tr>\n",
       "      <th>236</th>\n",
       "      <td>white</td>\n",
       "      <td>7.2</td>\n",
       "      <td>0.230</td>\n",
       "      <td>0.38</td>\n",
       "      <td>14.3</td>\n",
       "      <td>0.058</td>\n",
       "      <td>55.0</td>\n",
       "      <td>194.0</td>\n",
       "      <td>0.99790</td>\n",
       "      <td>3.09</td>\n",
       "      <td>0.44</td>\n",
       "      <td>9.000000</td>\n",
       "      <td>6</td>\n",
       "    </tr>\n",
       "    <tr>\n",
       "      <th>6252</th>\n",
       "      <td>red</td>\n",
       "      <td>7.2</td>\n",
       "      <td>0.580</td>\n",
       "      <td>0.03</td>\n",
       "      <td>2.3</td>\n",
       "      <td>0.077</td>\n",
       "      <td>7.0</td>\n",
       "      <td>28.0</td>\n",
       "      <td>0.99568</td>\n",
       "      <td>3.35</td>\n",
       "      <td>0.52</td>\n",
       "      <td>10.000000</td>\n",
       "      <td>5</td>\n",
       "    </tr>\n",
       "    <tr>\n",
       "      <th>5028</th>\n",
       "      <td>red</td>\n",
       "      <td>8.0</td>\n",
       "      <td>0.745</td>\n",
       "      <td>0.56</td>\n",
       "      <td>2.0</td>\n",
       "      <td>0.118</td>\n",
       "      <td>30.0</td>\n",
       "      <td>134.0</td>\n",
       "      <td>0.99680</td>\n",
       "      <td>3.24</td>\n",
       "      <td>0.66</td>\n",
       "      <td>9.400000</td>\n",
       "      <td>5</td>\n",
       "    </tr>\n",
       "    <tr>\n",
       "      <th>2147</th>\n",
       "      <td>white</td>\n",
       "      <td>6.4</td>\n",
       "      <td>0.290</td>\n",
       "      <td>0.20</td>\n",
       "      <td>15.6</td>\n",
       "      <td>0.040</td>\n",
       "      <td>20.0</td>\n",
       "      <td>142.0</td>\n",
       "      <td>0.99620</td>\n",
       "      <td>3.10</td>\n",
       "      <td>0.54</td>\n",
       "      <td>10.600000</td>\n",
       "      <td>5</td>\n",
       "    </tr>\n",
       "    <tr>\n",
       "      <th>4372</th>\n",
       "      <td>white</td>\n",
       "      <td>7.1</td>\n",
       "      <td>0.230</td>\n",
       "      <td>0.23</td>\n",
       "      <td>3.5</td>\n",
       "      <td>0.038</td>\n",
       "      <td>23.0</td>\n",
       "      <td>112.0</td>\n",
       "      <td>0.99157</td>\n",
       "      <td>3.05</td>\n",
       "      <td>0.37</td>\n",
       "      <td>11.366667</td>\n",
       "      <td>6</td>\n",
       "    </tr>\n",
       "    <tr>\n",
       "      <th>712</th>\n",
       "      <td>white</td>\n",
       "      <td>8.2</td>\n",
       "      <td>0.270</td>\n",
       "      <td>0.43</td>\n",
       "      <td>1.6</td>\n",
       "      <td>0.035</td>\n",
       "      <td>31.0</td>\n",
       "      <td>128.0</td>\n",
       "      <td>0.99160</td>\n",
       "      <td>3.10</td>\n",
       "      <td>0.50</td>\n",
       "      <td>12.300000</td>\n",
       "      <td>6</td>\n",
       "    </tr>\n",
       "    <tr>\n",
       "      <th>4967</th>\n",
       "      <td>red</td>\n",
       "      <td>8.0</td>\n",
       "      <td>0.705</td>\n",
       "      <td>0.05</td>\n",
       "      <td>1.9</td>\n",
       "      <td>0.074</td>\n",
       "      <td>8.0</td>\n",
       "      <td>19.0</td>\n",
       "      <td>0.99620</td>\n",
       "      <td>3.34</td>\n",
       "      <td>0.95</td>\n",
       "      <td>10.500000</td>\n",
       "      <td>6</td>\n",
       "    </tr>\n",
       "    <tr>\n",
       "      <th>3978</th>\n",
       "      <td>white</td>\n",
       "      <td>6.5</td>\n",
       "      <td>0.290</td>\n",
       "      <td>0.53</td>\n",
       "      <td>1.7</td>\n",
       "      <td>0.040</td>\n",
       "      <td>41.0</td>\n",
       "      <td>192.0</td>\n",
       "      <td>0.99220</td>\n",
       "      <td>3.26</td>\n",
       "      <td>0.59</td>\n",
       "      <td>10.400000</td>\n",
       "      <td>7</td>\n",
       "    </tr>\n",
       "    <tr>\n",
       "      <th>3857</th>\n",
       "      <td>white</td>\n",
       "      <td>5.4</td>\n",
       "      <td>0.170</td>\n",
       "      <td>0.27</td>\n",
       "      <td>2.7</td>\n",
       "      <td>0.049</td>\n",
       "      <td>28.0</td>\n",
       "      <td>104.0</td>\n",
       "      <td>0.99224</td>\n",
       "      <td>3.46</td>\n",
       "      <td>0.55</td>\n",
       "      <td>10.300000</td>\n",
       "      <td>6</td>\n",
       "    </tr>\n",
       "    <tr>\n",
       "      <th>1439</th>\n",
       "      <td>white</td>\n",
       "      <td>6.1</td>\n",
       "      <td>0.250</td>\n",
       "      <td>0.49</td>\n",
       "      <td>7.6</td>\n",
       "      <td>0.052</td>\n",
       "      <td>67.0</td>\n",
       "      <td>226.0</td>\n",
       "      <td>0.99560</td>\n",
       "      <td>3.16</td>\n",
       "      <td>0.47</td>\n",
       "      <td>8.900000</td>\n",
       "      <td>5</td>\n",
       "    </tr>\n",
       "  </tbody>\n",
       "</table>\n",
       "</div>"
      ],
      "text/plain": [
       "       type  fixed acidity  volatile acidity  citric acid  residual sugar  \\\n",
       "236   white            7.2             0.230         0.38            14.3   \n",
       "6252    red            7.2             0.580         0.03             2.3   \n",
       "5028    red            8.0             0.745         0.56             2.0   \n",
       "2147  white            6.4             0.290         0.20            15.6   \n",
       "4372  white            7.1             0.230         0.23             3.5   \n",
       "712   white            8.2             0.270         0.43             1.6   \n",
       "4967    red            8.0             0.705         0.05             1.9   \n",
       "3978  white            6.5             0.290         0.53             1.7   \n",
       "3857  white            5.4             0.170         0.27             2.7   \n",
       "1439  white            6.1             0.250         0.49             7.6   \n",
       "\n",
       "      chlorides  free sulfur dioxide  total sulfur dioxide  density    pH  \\\n",
       "236       0.058                 55.0                 194.0  0.99790  3.09   \n",
       "6252      0.077                  7.0                  28.0  0.99568  3.35   \n",
       "5028      0.118                 30.0                 134.0  0.99680  3.24   \n",
       "2147      0.040                 20.0                 142.0  0.99620  3.10   \n",
       "4372      0.038                 23.0                 112.0  0.99157  3.05   \n",
       "712       0.035                 31.0                 128.0  0.99160  3.10   \n",
       "4967      0.074                  8.0                  19.0  0.99620  3.34   \n",
       "3978      0.040                 41.0                 192.0  0.99220  3.26   \n",
       "3857      0.049                 28.0                 104.0  0.99224  3.46   \n",
       "1439      0.052                 67.0                 226.0  0.99560  3.16   \n",
       "\n",
       "      sulphates    alcohol  quality  \n",
       "236        0.44   9.000000        6  \n",
       "6252       0.52  10.000000        5  \n",
       "5028       0.66   9.400000        5  \n",
       "2147       0.54  10.600000        5  \n",
       "4372       0.37  11.366667        6  \n",
       "712        0.50  12.300000        6  \n",
       "4967       0.95  10.500000        6  \n",
       "3978       0.59  10.400000        7  \n",
       "3857       0.55  10.300000        6  \n",
       "1439       0.47   8.900000        5  "
      ]
     },
     "execution_count": 4,
     "metadata": {},
     "output_type": "execute_result"
    }
   ],
   "source": [
    "train.sample(10)"
   ]
  },
  {
   "cell_type": "code",
   "execution_count": 5,
   "id": "c143feda",
   "metadata": {},
   "outputs": [
    {
     "name": "stdout",
     "output_type": "stream",
     "text": [
      "<class 'pandas.core.frame.DataFrame'>\n",
      "RangeIndex: 6497 entries, 0 to 6496\n",
      "Data columns (total 13 columns):\n",
      " #   Column                Non-Null Count  Dtype  \n",
      "---  ------                --------------  -----  \n",
      " 0   type                  6497 non-null   object \n",
      " 1   fixed acidity         6487 non-null   float64\n",
      " 2   volatile acidity      6489 non-null   float64\n",
      " 3   citric acid           6494 non-null   float64\n",
      " 4   residual sugar        6495 non-null   float64\n",
      " 5   chlorides             6495 non-null   float64\n",
      " 6   free sulfur dioxide   6497 non-null   float64\n",
      " 7   total sulfur dioxide  6497 non-null   float64\n",
      " 8   density               6497 non-null   float64\n",
      " 9   pH                    6488 non-null   float64\n",
      " 10  sulphates             6493 non-null   float64\n",
      " 11  alcohol               6497 non-null   float64\n",
      " 12  quality               6497 non-null   int64  \n",
      "dtypes: float64(11), int64(1), object(1)\n",
      "memory usage: 660.0+ KB\n"
     ]
    }
   ],
   "source": [
    "train.info()"
   ]
  },
  {
   "cell_type": "code",
   "execution_count": 6,
   "id": "d8559e05",
   "metadata": {},
   "outputs": [
    {
     "data": {
      "text/plain": [
       "type                      2\n",
       "fixed acidity           106\n",
       "volatile acidity        187\n",
       "citric acid              89\n",
       "residual sugar          316\n",
       "chlorides               214\n",
       "free sulfur dioxide     135\n",
       "total sulfur dioxide    276\n",
       "density                 998\n",
       "pH                      108\n",
       "sulphates               111\n",
       "alcohol                 111\n",
       "quality                   7\n",
       "dtype: int64"
      ]
     },
     "execution_count": 6,
     "metadata": {},
     "output_type": "execute_result"
    }
   ],
   "source": [
    "train.nunique()"
   ]
  },
  {
   "cell_type": "markdown",
   "id": "317e0b9a",
   "metadata": {},
   "source": [
    "Data Cleaning"
   ]
  },
  {
   "cell_type": "code",
   "execution_count": 7,
   "id": "c69d5688",
   "metadata": {},
   "outputs": [],
   "source": [
    "train = train.drop('free sulfur dioxide', axis = 1)"
   ]
  },
  {
   "cell_type": "code",
   "execution_count": 8,
   "id": "67f9db48",
   "metadata": {},
   "outputs": [
    {
     "data": {
      "text/plain": [
       "(6497, 12)"
      ]
     },
     "execution_count": 8,
     "metadata": {},
     "output_type": "execute_result"
    }
   ],
   "source": [
    "train.shape"
   ]
  },
  {
   "cell_type": "code",
   "execution_count": 9,
   "id": "7e4a80a9",
   "metadata": {},
   "outputs": [
    {
     "data": {
      "text/plain": [
       "type                     0\n",
       "fixed acidity           10\n",
       "volatile acidity         8\n",
       "citric acid              3\n",
       "residual sugar           2\n",
       "chlorides                2\n",
       "total sulfur dioxide     0\n",
       "density                  0\n",
       "pH                       9\n",
       "sulphates                4\n",
       "alcohol                  0\n",
       "quality                  0\n",
       "dtype: int64"
      ]
     },
     "execution_count": 9,
     "metadata": {},
     "output_type": "execute_result"
    }
   ],
   "source": [
    "train.isna().sum()"
   ]
  },
  {
   "cell_type": "code",
   "execution_count": 10,
   "id": "9dfc0327",
   "metadata": {},
   "outputs": [
    {
     "data": {
      "text/plain": [
       "type                    0.000000\n",
       "fixed acidity           0.153917\n",
       "volatile acidity        0.123134\n",
       "citric acid             0.046175\n",
       "residual sugar          0.030783\n",
       "chlorides               0.030783\n",
       "total sulfur dioxide    0.000000\n",
       "density                 0.000000\n",
       "pH                      0.138525\n",
       "sulphates               0.061567\n",
       "alcohol                 0.000000\n",
       "quality                 0.000000\n",
       "dtype: float64"
      ]
     },
     "execution_count": 10,
     "metadata": {},
     "output_type": "execute_result"
    }
   ],
   "source": [
    "(train.isna().sum()/train.shape[0])*100"
   ]
  },
  {
   "cell_type": "code",
   "execution_count": 11,
   "id": "0af78fc9",
   "metadata": {},
   "outputs": [],
   "source": [
    "train['fixed acidity'] = train['fixed acidity'].fillna(train['fixed acidity'].mode()[0])"
   ]
  },
  {
   "cell_type": "markdown",
   "id": "73c44b04",
   "metadata": {},
   "source": [
    "Converting wine types into binary form to perform Logistic Regression "
   ]
  },
  {
   "cell_type": "code",
   "execution_count": 12,
   "id": "d0159646",
   "metadata": {},
   "outputs": [
    {
     "data": {
      "text/plain": [
       "0       1\n",
       "1       1\n",
       "2       1\n",
       "3       1\n",
       "4       1\n",
       "       ..\n",
       "6492    0\n",
       "6493    0\n",
       "6494    0\n",
       "6495    0\n",
       "6496    0\n",
       "Name: type, Length: 6497, dtype: int64"
      ]
     },
     "execution_count": 12,
     "metadata": {},
     "output_type": "execute_result"
    }
   ],
   "source": [
    "train.type.replace(to_replace=['white', 'red'], value=[1, 0])"
   ]
  },
  {
   "cell_type": "code",
   "execution_count": 13,
   "id": "111599e6",
   "metadata": {},
   "outputs": [],
   "source": [
    "train['volatile acidity'] = train['volatile acidity'].fillna(train['volatile acidity'].mean())"
   ]
  },
  {
   "cell_type": "code",
   "execution_count": 14,
   "id": "2b5b39c5",
   "metadata": {},
   "outputs": [],
   "source": [
    "train['citric acid'] = train['citric acid'].fillna(train['citric acid'].mean())"
   ]
  },
  {
   "cell_type": "code",
   "execution_count": 15,
   "id": "af1c827a",
   "metadata": {},
   "outputs": [],
   "source": [
    "train['residual sugar'] = train['residual sugar'].fillna(train['residual sugar'].mode()[0])"
   ]
  },
  {
   "cell_type": "code",
   "execution_count": 16,
   "id": "99b956cc",
   "metadata": {},
   "outputs": [],
   "source": [
    "train['chlorides'] = train['chlorides'].fillna(train['chlorides'].mean())"
   ]
  },
  {
   "cell_type": "code",
   "execution_count": 17,
   "id": "497c2932",
   "metadata": {},
   "outputs": [],
   "source": [
    "train['citric acid'] = train['citric acid'].fillna(train['citric acid'].mean())"
   ]
  },
  {
   "cell_type": "code",
   "execution_count": 18,
   "id": "af9d4e85",
   "metadata": {},
   "outputs": [],
   "source": [
    "train['pH'] = train['pH'].fillna(train['pH'].mode()[0])"
   ]
  },
  {
   "cell_type": "code",
   "execution_count": 19,
   "id": "42c53312",
   "metadata": {},
   "outputs": [],
   "source": [
    "train['sulphates'] = train['sulphates'].fillna(train['sulphates'].mean())"
   ]
  },
  {
   "cell_type": "code",
   "execution_count": 20,
   "id": "077b50c2",
   "metadata": {},
   "outputs": [
    {
     "data": {
      "text/plain": [
       "type                    0\n",
       "fixed acidity           0\n",
       "volatile acidity        0\n",
       "citric acid             0\n",
       "residual sugar          0\n",
       "chlorides               0\n",
       "total sulfur dioxide    0\n",
       "density                 0\n",
       "pH                      0\n",
       "sulphates               0\n",
       "alcohol                 0\n",
       "quality                 0\n",
       "dtype: int64"
      ]
     },
     "execution_count": 20,
     "metadata": {},
     "output_type": "execute_result"
    }
   ],
   "source": [
    "train.isna().sum()"
   ]
  },
  {
   "cell_type": "markdown",
   "id": "2359b0ed",
   "metadata": {},
   "source": [
    "EDA"
   ]
  },
  {
   "cell_type": "code",
   "execution_count": 21,
   "id": "4ffec827",
   "metadata": {},
   "outputs": [
    {
     "data": {
      "text/plain": [
       "<seaborn.axisgrid.FacetGrid at 0x1d3e6c76ac0>"
      ]
     },
     "execution_count": 21,
     "metadata": {},
     "output_type": "execute_result"
    },
    {
     "data": {
      "image/png": "[encoded data removed]",
      "text/plain": [
       "<Figure size 360x360 with 1 Axes>"
      ]
     },
     "metadata": {},
     "output_type": "display_data"
    }
   ],
   "source": [
    "sns.relplot(x = 'citric acid', y = 'chlorides', data = train)"
   ]
  },
  {
   "cell_type": "code",
   "execution_count": 22,
   "id": "475f1bc0",
   "metadata": {},
   "outputs": [
    {
     "data": {
      "text/plain": [
       "<seaborn.axisgrid.FacetGrid at 0x1d3e74bdfd0>"
      ]
     },
     "execution_count": 22,
     "metadata": {},
     "output_type": "execute_result"
    },
    {
     "data": {
      "image/png": "[encoded data removed]",
      "text/plain": [
       "<Figure size 360x360 with 1 Axes>"
      ]
     },
     "metadata": {},
     "output_type": "display_data"
    }
   ],
   "source": [
    "sns.catplot(x = 'type', y = 'residual sugar', data = train)"
   ]
  },
  {
   "cell_type": "code",
   "execution_count": 23,
   "id": "01972b06",
   "metadata": {},
   "outputs": [
    {
     "data": {
      "text/plain": [
       "<AxesSubplot:xlabel='quality', ylabel='alcohol'>"
      ]
     },
     "execution_count": 23,
     "metadata": {},
     "output_type": "execute_result"
    },
    {
     "data": {
      "image/png": "[encoded data removed]",
      "text/plain": [
       "<Figure size 432x288 with 1 Axes>"
      ]
     },
     "metadata": {},
     "output_type": "display_data"
    }
   ],
   "source": [
    "sns.scatterplot(x = 'quality', y = 'alcohol', hue = 'type', data = train)"
   ]
  },
  {
   "cell_type": "code",
   "execution_count": 24,
   "id": "e4952ed1",
   "metadata": {},
   "outputs": [
    {
     "data": {
      "text/plain": [
       "<AxesSubplot:xlabel='type', ylabel='total sulfur dioxide'>"
      ]
     },
     "execution_count": 24,
     "metadata": {},
     "output_type": "execute_result"
    },
    {
     "data": {
      "image/png": "[encoded data removed]",
      "text/plain": [
       "<Figure size 432x288 with 1 Axes>"
      ]
     },
     "metadata": {},
     "output_type": "display_data"
    }
   ],
   "source": [
    "sns.barplot(x = \"type\", y= \"total sulfur dioxide\", data = train)"
   ]
  },
  {
   "cell_type": "markdown",
   "id": "479d32be",
   "metadata": {},
   "source": [
    "Logistic Regression model"
   ]
  },
  {
   "cell_type": "code",
   "execution_count": 25,
   "id": "c44944fe",
   "metadata": {},
   "outputs": [
    {
     "data": {
      "text/html": [
       "<div>\n",
       "<style scoped>\n",
       "    .dataframe tbody tr th:only-of-type {\n",
       "        vertical-align: middle;\n",
       "    }\n",
       "\n",
       "    .dataframe tbody tr th {\n",
       "        vertical-align: top;\n",
       "    }\n",
       "\n",
       "    .dataframe thead th {\n",
       "        text-align: right;\n",
       "    }\n",
       "</style>\n",
       "<table border=\"1\" class=\"dataframe\">\n",
       "  <thead>\n",
       "    <tr style=\"text-align: right;\">\n",
       "      <th></th>\n",
       "      <th>type</th>\n",
       "      <th>fixed acidity</th>\n",
       "      <th>volatile acidity</th>\n",
       "      <th>citric acid</th>\n",
       "      <th>residual sugar</th>\n",
       "      <th>chlorides</th>\n",
       "      <th>total sulfur dioxide</th>\n",
       "      <th>density</th>\n",
       "      <th>pH</th>\n",
       "      <th>sulphates</th>\n",
       "      <th>alcohol</th>\n",
       "      <th>quality</th>\n",
       "    </tr>\n",
       "  </thead>\n",
       "  <tbody>\n",
       "    <tr>\n",
       "      <th>0</th>\n",
       "      <td>white</td>\n",
       "      <td>7.0</td>\n",
       "      <td>0.27</td>\n",
       "      <td>0.36</td>\n",
       "      <td>20.7</td>\n",
       "      <td>0.045</td>\n",
       "      <td>170.0</td>\n",
       "      <td>1.0010</td>\n",
       "      <td>3.00</td>\n",
       "      <td>0.45</td>\n",
       "      <td>8.8</td>\n",
       "      <td>6</td>\n",
       "    </tr>\n",
       "    <tr>\n",
       "      <th>1</th>\n",
       "      <td>white</td>\n",
       "      <td>6.3</td>\n",
       "      <td>0.30</td>\n",
       "      <td>0.34</td>\n",
       "      <td>1.6</td>\n",
       "      <td>0.049</td>\n",
       "      <td>132.0</td>\n",
       "      <td>0.9940</td>\n",
       "      <td>3.30</td>\n",
       "      <td>0.49</td>\n",
       "      <td>9.5</td>\n",
       "      <td>6</td>\n",
       "    </tr>\n",
       "    <tr>\n",
       "      <th>2</th>\n",
       "      <td>white</td>\n",
       "      <td>8.1</td>\n",
       "      <td>0.28</td>\n",
       "      <td>0.40</td>\n",
       "      <td>6.9</td>\n",
       "      <td>0.050</td>\n",
       "      <td>97.0</td>\n",
       "      <td>0.9951</td>\n",
       "      <td>3.26</td>\n",
       "      <td>0.44</td>\n",
       "      <td>10.1</td>\n",
       "      <td>6</td>\n",
       "    </tr>\n",
       "    <tr>\n",
       "      <th>3</th>\n",
       "      <td>white</td>\n",
       "      <td>7.2</td>\n",
       "      <td>0.23</td>\n",
       "      <td>0.32</td>\n",
       "      <td>8.5</td>\n",
       "      <td>0.058</td>\n",
       "      <td>186.0</td>\n",
       "      <td>0.9956</td>\n",
       "      <td>3.19</td>\n",
       "      <td>0.40</td>\n",
       "      <td>9.9</td>\n",
       "      <td>6</td>\n",
       "    </tr>\n",
       "    <tr>\n",
       "      <th>4</th>\n",
       "      <td>white</td>\n",
       "      <td>7.2</td>\n",
       "      <td>0.23</td>\n",
       "      <td>0.32</td>\n",
       "      <td>8.5</td>\n",
       "      <td>0.058</td>\n",
       "      <td>186.0</td>\n",
       "      <td>0.9956</td>\n",
       "      <td>3.19</td>\n",
       "      <td>0.40</td>\n",
       "      <td>9.9</td>\n",
       "      <td>6</td>\n",
       "    </tr>\n",
       "  </tbody>\n",
       "</table>\n",
       "</div>"
      ],
      "text/plain": [
       "    type  fixed acidity  volatile acidity  citric acid  residual sugar  \\\n",
       "0  white            7.0              0.27         0.36            20.7   \n",
       "1  white            6.3              0.30         0.34             1.6   \n",
       "2  white            8.1              0.28         0.40             6.9   \n",
       "3  white            7.2              0.23         0.32             8.5   \n",
       "4  white            7.2              0.23         0.32             8.5   \n",
       "\n",
       "   chlorides  total sulfur dioxide  density    pH  sulphates  alcohol  quality  \n",
       "0      0.045                 170.0   1.0010  3.00       0.45      8.8        6  \n",
       "1      0.049                 132.0   0.9940  3.30       0.49      9.5        6  \n",
       "2      0.050                  97.0   0.9951  3.26       0.44     10.1        6  \n",
       "3      0.058                 186.0   0.9956  3.19       0.40      9.9        6  \n",
       "4      0.058                 186.0   0.9956  3.19       0.40      9.9        6  "
      ]
     },
     "execution_count": 25,
     "metadata": {},
     "output_type": "execute_result"
    }
   ],
   "source": [
    "train.head()"
   ]
  },
  {
   "cell_type": "code",
   "execution_count": 26,
   "id": "9208aa14",
   "metadata": {},
   "outputs": [],
   "source": [
    "lrmodel = train[['type','fixed acidity','volatile acidity','citric acid','residual sugar','chlorides','total sulfur dioxide','pH','sulphates','alcohol','quality']]"
   ]
  },
  {
   "cell_type": "code",
   "execution_count": 27,
   "id": "54151486",
   "metadata": {},
   "outputs": [],
   "source": [
    "final_lrmodel = pd.get_dummies(data=lrmodel, drop_first=True)"
   ]
  },
  {
   "cell_type": "code",
   "execution_count": 28,
   "id": "69532cd9",
   "metadata": {},
   "outputs": [
    {
     "data": {
      "text/plain": [
       "Index(['fixed acidity', 'volatile acidity', 'citric acid', 'residual sugar',\n",
       "       'chlorides', 'total sulfur dioxide', 'pH', 'sulphates', 'alcohol',\n",
       "       'quality', 'type_white'],\n",
       "      dtype='object')"
      ]
     },
     "execution_count": 28,
     "metadata": {},
     "output_type": "execute_result"
    }
   ],
   "source": [
    "final_lrmodel.columns"
   ]
  },
  {
   "cell_type": "code",
   "execution_count": 34,
   "id": "ec586a10",
   "metadata": {},
   "outputs": [],
   "source": [
    "X = final_lrmodel[['fixed acidity', 'citric acid', 'residual sugar','chlorides', 'pH', 'sulphates', 'alcohol','quality']]\n",
    "y = final_lrmodel['type_white']"
   ]
  },
  {
   "cell_type": "code",
   "execution_count": 35,
   "id": "bbd94398",
   "metadata": {},
   "outputs": [],
   "source": [
    "X_train, X_test, y_train, y_test = train_test_split(X, y, test_size=0.20, random_state=42)"
   ]
  },
  {
   "cell_type": "code",
   "execution_count": 36,
   "id": "077a22e9",
   "metadata": {},
   "outputs": [],
   "source": [
    "lr = LogisticRegression(random_state=0)"
   ]
  },
  {
   "cell_type": "code",
   "execution_count": 37,
   "id": "e3af4f62",
   "metadata": {},
   "outputs": [
    {
     "name": "stderr",
     "output_type": "stream",
     "text": [
      "C:\\Users\\Dell\\anaconda3\\New folder\\lib\\site-packages\\sklearn\\linear_model\\_logistic.py:763: ConvergenceWarning: lbfgs failed to converge (status=1):\n",
      "STOP: TOTAL NO. of ITERATIONS REACHED LIMIT.\n",
      "\n",
      "Increase the number of iterations (max_iter) or scale the data as shown in:\n",
      "    https://scikit-learn.org/stable/modules/preprocessing.html\n",
      "Please also refer to the documentation for alternative solver options:\n",
      "    https://scikit-learn.org/stable/modules/linear_model.html#logistic-regression\n",
      "  n_iter_i = _check_optimize_result(\n"
     ]
    },
    {
     "data": {
      "text/plain": [
       "LogisticRegression(random_state=0)"
      ]
     },
     "execution_count": 37,
     "metadata": {},
     "output_type": "execute_result"
    }
   ],
   "source": [
    "lr.fit(X_train, y_train)"
   ]
  },
  {
   "cell_type": "code",
   "execution_count": 38,
   "id": "3811769d",
   "metadata": {},
   "outputs": [],
   "source": [
    "y_pred = lr.predict(X_test)"
   ]
  },
  {
   "cell_type": "code",
   "execution_count": 39,
   "id": "20e0d707",
   "metadata": {},
   "outputs": [
    {
     "data": {
      "text/plain": [
       "array([1, 1, 1, ..., 0, 0, 0], dtype=uint8)"
      ]
     },
     "execution_count": 39,
     "metadata": {},
     "output_type": "execute_result"
    }
   ],
   "source": [
    "y_pred"
   ]
  },
  {
   "cell_type": "code",
   "execution_count": 40,
   "id": "a6d58498",
   "metadata": {},
   "outputs": [
    {
     "data": {
      "text/plain": [
       "0.9455455070232827"
      ]
     },
     "execution_count": 40,
     "metadata": {},
     "output_type": "execute_result"
    }
   ],
   "source": [
    "lr.score(X_train, y_train)"
   ]
  },
  {
   "cell_type": "code",
   "execution_count": 41,
   "id": "569a1495",
   "metadata": {},
   "outputs": [
    {
     "data": {
      "text/plain": [
       "0.9461538461538461"
      ]
     },
     "execution_count": 41,
     "metadata": {},
     "output_type": "execute_result"
    }
   ],
   "source": [
    "lr.score(X_test, y_test)"
   ]
  },
  {
   "cell_type": "markdown",
   "id": "4272f211",
   "metadata": {},
   "source": [
    "Logistic Regression Curve"
   ]
  },
  {
   "cell_type": "code",
   "execution_count": 42,
   "id": "10c2838b",
   "metadata": {},
   "outputs": [
    {
     "data": {
      "text/plain": [
       "<AxesSubplot:xlabel='chlorides', ylabel='type_white'>"
      ]
     },
     "execution_count": 42,
     "metadata": {},
     "output_type": "execute_result"
    },
    {
     "data": {
      "image/png": "[encoded data removed]",
      "text/plain": [
       "<Figure size 432x288 with 1 Axes>"
      ]
     },
     "metadata": {},
     "output_type": "display_data"
    }
   ],
   "source": [
    "sns.regplot(x='chlorides', y=y, data=final_lrmodel, logistic=True, ci=None)"
   ]
  },
  {
   "cell_type": "markdown",
   "id": "b71b41e6",
   "metadata": {},
   "source": [
    "https://www.statology.org/plot-logistic-regression-in-python/"
   ]
  },
  {
   "cell_type": "markdown",
   "id": "1ad912c7",
   "metadata": {},
   "source": [
    "Evaluation metrics"
   ]
  },
  {
   "cell_type": "markdown",
   "id": "8d6ebc83",
   "metadata": {},
   "source": [
    "a) Confusion matrix"
   ]
  },
  {
   "cell_type": "code",
   "execution_count": 43,
   "id": "22ad5b64",
   "metadata": {},
   "outputs": [],
   "source": [
    "from sklearn.metrics import confusion_matrix"
   ]
  },
  {
   "cell_type": "code",
   "execution_count": 44,
   "id": "e03c883f",
   "metadata": {},
   "outputs": [
    {
     "name": "stdout",
     "output_type": "stream",
     "text": [
      "[[268  46]\n",
      " [ 24 962]]\n"
     ]
    }
   ],
   "source": [
    "cf_matrix = confusion_matrix(y_test, y_pred)\n",
    "print(cf_matrix)"
   ]
  },
  {
   "cell_type": "code",
   "execution_count": 45,
   "id": "0cb963ed",
   "metadata": {},
   "outputs": [
    {
     "data": {
      "image/png": "[encoded data removed]",
      "text/plain": [
       "<Figure size 432x288 with 2 Axes>"
      ]
     },
     "metadata": {},
     "output_type": "display_data"
    }
   ],
   "source": [
    "cm = sns.heatmap(cf_matrix, annot=True, cmap='Reds')\n",
    "\n",
    "cm.set_title('Seaborn Confusion Matrix\\n');\n",
    "cm.set_xlabel('\\nPredicted Values')\n",
    "cm.set_ylabel('Actual Values ');\n",
    "\n",
    "cm.xaxis.set_ticklabels(['False','True'])\n",
    "cm.yaxis.set_ticklabels(['False','True'])\n",
    "\n",
    "plt.show()"
   ]
  },
  {
   "cell_type": "markdown",
   "id": "fd304bbb",
   "metadata": {},
   "source": [
    "https://www.geeksforgeeks.org/confusion-matrix-machine-learning/"
   ]
  },
  {
   "cell_type": "markdown",
   "id": "7e270534",
   "metadata": {},
   "source": [
    "b) Precision"
   ]
  },
  {
   "cell_type": "code",
   "execution_count": 46,
   "id": "3534cae4",
   "metadata": {},
   "outputs": [
    {
     "name": "stdout",
     "output_type": "stream",
     "text": [
      "Precision: 0.9543650793650794\n"
     ]
    }
   ],
   "source": [
    "Precision = precision_score(y_test, y_pred)\n",
    "print('Precision:', Precision)"
   ]
  },
  {
   "cell_type": "markdown",
   "id": "0ab81af3",
   "metadata": {},
   "source": [
    "c) Recall"
   ]
  },
  {
   "cell_type": "code",
   "execution_count": 47,
   "id": "d071faaa",
   "metadata": {},
   "outputs": [
    {
     "name": "stdout",
     "output_type": "stream",
     "text": [
      "Recall:  0.9756592292089249\n"
     ]
    }
   ],
   "source": [
    "Recall = recall_score(y_test, y_pred)\n",
    "print('Recall: ', Recall)"
   ]
  },
  {
   "cell_type": "markdown",
   "id": "e0d7c917",
   "metadata": {},
   "source": [
    "d) F1 Score"
   ]
  },
  {
   "cell_type": "code",
   "execution_count": 48,
   "id": "5dd549f4",
   "metadata": {},
   "outputs": [
    {
     "name": "stdout",
     "output_type": "stream",
     "text": [
      "F1 Score: 0.965\n"
     ]
    }
   ],
   "source": [
    "f1 = (2*Precision*Recall)/(Precision + Recall)\n",
    "print(\"F1 Score: {:0.3f}\".format(f1))"
   ]
  },
  {
   "cell_type": "markdown",
   "id": "d149213b",
   "metadata": {},
   "source": [
    "e) Sensitivity"
   ]
  },
  {
   "cell_type": "markdown",
   "id": "727bcb99",
   "metadata": {},
   "source": [
    "Sensitivity is the proportion of true positives that are correctly predicted by the model (Same as Recall)"
   ]
  },
  {
   "cell_type": "markdown",
   "id": "a262e71a",
   "metadata": {},
   "source": [
    "f) Specificity"
   ]
  },
  {
   "cell_type": "code",
   "execution_count": 49,
   "id": "c7b1e40c",
   "metadata": {},
   "outputs": [],
   "source": [
    "tn = 7\n",
    "fp = 28"
   ]
  },
  {
   "cell_type": "code",
   "execution_count": 50,
   "id": "c89c70d7",
   "metadata": {},
   "outputs": [
    {
     "name": "stdout",
     "output_type": "stream",
     "text": [
      "Specificity 0.20\n"
     ]
    }
   ],
   "source": [
    "Specificity = tn/(tn+fp)\n",
    "print(\"Specificity {:0.2f}\".format(Specificity))"
   ]
  },
  {
   "cell_type": "markdown",
   "id": "35ffecc7",
   "metadata": {},
   "source": [
    "https://statinfer.com/204-4-2-calculating-sensitivity-and-specificity-in-python/"
   ]
  },
  {
   "cell_type": "markdown",
   "id": "52305867",
   "metadata": {},
   "source": [
    "g) Misclassification rate"
   ]
  },
  {
   "cell_type": "code",
   "execution_count": 51,
   "id": "cebe2843",
   "metadata": {},
   "outputs": [],
   "source": [
    "fn = 32\n",
    "total = 115"
   ]
  },
  {
   "cell_type": "code",
   "execution_count": 52,
   "id": "6774d436",
   "metadata": {},
   "outputs": [
    {
     "name": "stdout",
     "output_type": "stream",
     "text": [
      "Misclassification Rate 0.522\n"
     ]
    }
   ],
   "source": [
    "MR = (fn+fp)/total\n",
    "print(\"Misclassification Rate {:0.3f}\".format(MR))"
   ]
  },
  {
   "cell_type": "markdown",
   "id": "7eb6c739",
   "metadata": {},
   "source": [
    "h) ROC, AUROC"
   ]
  },
  {
   "cell_type": "code",
   "execution_count": 54,
   "id": "a365e7a2",
   "metadata": {},
   "outputs": [
    {
     "name": "stderr",
     "output_type": "stream",
     "text": [
      "C:\\Users\\Dell\\anaconda3\\New folder\\lib\\site-packages\\sklearn\\linear_model\\_logistic.py:763: ConvergenceWarning: lbfgs failed to converge (status=1):\n",
      "STOP: TOTAL NO. of ITERATIONS REACHED LIMIT.\n",
      "\n",
      "Increase the number of iterations (max_iter) or scale the data as shown in:\n",
      "    https://scikit-learn.org/stable/modules/preprocessing.html\n",
      "Please also refer to the documentation for alternative solver options:\n",
      "    https://scikit-learn.org/stable/modules/linear_model.html#logistic-regression\n",
      "  n_iter_i = _check_optimize_result(\n"
     ]
    }
   ],
   "source": [
    "from sklearn.linear_model import LogisticRegression\n",
    "from sklearn.neighbors import KNeighborsClassifier\n",
    "\n",
    "model1 = LogisticRegression()\n",
    "model2 = KNeighborsClassifier(n_neighbors=4)\n",
    "\n",
    "model1.fit(X_train, y_train)\n",
    "model2.fit(X_train, y_train)\n",
    "\n",
    "pred_prob1 = model1.predict_proba(X_test)\n",
    "pred_prob2 = model2.predict_proba(X_test)"
   ]
  },
  {
   "cell_type": "code",
   "execution_count": 55,
   "id": "48adbd8b",
   "metadata": {},
   "outputs": [
    {
     "name": "stdout",
     "output_type": "stream",
     "text": [
      "0.9789150010981772 0.9544127336856112\n"
     ]
    }
   ],
   "source": [
    "from sklearn.metrics import roc_auc_score\n",
    "\n",
    "auc_score1 = roc_auc_score(y_test, pred_prob1[:,1])\n",
    "auc_score2 = roc_auc_score(y_test, pred_prob2[:,1])\n",
    "\n",
    "print(auc_score1, auc_score2)"
   ]
  },
  {
   "cell_type": "markdown",
   "id": "a2cf1e69",
   "metadata": {},
   "source": [
    "https://www.analyticsvidhya.com/blog/2020/06/auc-roc-curve-machine-learning/"
   ]
  }
 ],
 "metadata": {
  "kernelspec": {
   "display_name": "Python 3",
   "language": "python",
   "name": "python3"
  },
  "language_info": {
   "codemirror_mode": {
    "name": "ipython",
    "version": 3
   },
   "file_extension": ".py",
   "mimetype": "text/x-python",
   "name": "python",
   "nbconvert_exporter": "python",
   "pygments_lexer": "ipython3",
   "version": "3.8.8"
  }
 },
 "nbformat": 4,
 "nbformat_minor": 5
}
