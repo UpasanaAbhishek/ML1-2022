{
 "cells": [
  {
   "cell_type": "markdown",
   "id": "e766fa48",
   "metadata": {},
   "source": [
    "# python base"
   ]
  },
  {
   "cell_type": "code",
   "execution_count": 1,
   "id": "f67dc7ff",
   "metadata": {},
   "outputs": [
    {
     "data": {
      "text/plain": [
       "[[8, 5, 42, 9, 4], [8, 5, 42, 9, 4], [8, 5, 42, 9, 4]]"
      ]
     },
     "execution_count": 1,
     "metadata": {},
     "output_type": "execute_result"
    }
   ],
   "source": [
    "x=[8,5,42,9,4]\n",
    "[x,x,x]"
   ]
  },
  {
   "cell_type": "code",
   "execution_count": 2,
   "id": "f9a9640c",
   "metadata": {},
   "outputs": [
    {
     "data": {
      "text/plain": [
       "78"
      ]
     },
     "execution_count": 2,
     "metadata": {},
     "output_type": "execute_result"
    }
   ],
   "source": [
    "67+11"
   ]
  },
  {
   "cell_type": "code",
   "execution_count": 3,
   "id": "984e3632",
   "metadata": {},
   "outputs": [
    {
     "data": {
      "text/plain": [
       "'6711'"
      ]
     },
     "execution_count": 3,
     "metadata": {},
     "output_type": "execute_result"
    }
   ],
   "source": [
    "\"67\"+\"11\""
   ]
  },
  {
   "cell_type": "code",
   "execution_count": 4,
   "id": "8e780577",
   "metadata": {},
   "outputs": [
    {
     "data": {
      "text/plain": [
       "float"
      ]
     },
     "execution_count": 4,
     "metadata": {},
     "output_type": "execute_result"
    }
   ],
   "source": [
    "type(8.9)"
   ]
  },
  {
   "cell_type": "code",
   "execution_count": 5,
   "id": "f2640262",
   "metadata": {},
   "outputs": [
    {
     "data": {
      "text/plain": [
       "str"
      ]
     },
     "execution_count": 5,
     "metadata": {},
     "output_type": "execute_result"
    }
   ],
   "source": [
    "type(\"abc\")"
   ]
  },
  {
   "cell_type": "code",
   "execution_count": 6,
   "id": "8e19b439",
   "metadata": {},
   "outputs": [
    {
     "data": {
      "text/plain": [
       "int"
      ]
     },
     "execution_count": 6,
     "metadata": {},
     "output_type": "execute_result"
    }
   ],
   "source": [
    "type(8)"
   ]
  },
  {
   "cell_type": "code",
   "execution_count": 7,
   "id": "cc0e101a",
   "metadata": {},
   "outputs": [
    {
     "data": {
      "text/plain": [
       "False"
      ]
     },
     "execution_count": 7,
     "metadata": {},
     "output_type": "execute_result"
    }
   ],
   "source": [
    "a=9\n",
    "a==3"
   ]
  },
  {
   "cell_type": "code",
   "execution_count": 8,
   "id": "01699ecc",
   "metadata": {},
   "outputs": [
    {
     "data": {
      "text/plain": [
       "True"
      ]
     },
     "execution_count": 8,
     "metadata": {},
     "output_type": "execute_result"
    }
   ],
   "source": [
    "a=9\n",
    "a==9"
   ]
  },
  {
   "cell_type": "code",
   "execution_count": 9,
   "id": "8df8842f",
   "metadata": {},
   "outputs": [
    {
     "data": {
      "text/plain": [
       "int"
      ]
     },
     "execution_count": 9,
     "metadata": {},
     "output_type": "execute_result"
    }
   ],
   "source": [
    "type(a)"
   ]
  },
  {
   "cell_type": "code",
   "execution_count": 73,
   "id": "22a781b8",
   "metadata": {},
   "outputs": [
    {
     "data": {
      "text/plain": [
       "[1, 2, 3, 4, 5, 6, 3, 4, 2, 2, 5, 6]"
      ]
     },
     "execution_count": 73,
     "metadata": {},
     "output_type": "execute_result"
    }
   ],
   "source": [
    "v1=[1,2,3,4,5,6]\n",
    "v2=[3,4,2,2,5,6]\n",
    "v3=v1+v2\n",
    "v3"
   ]
  },
  {
   "cell_type": "markdown",
   "id": "c8e87737",
   "metadata": {},
   "source": [
    "# tuples and list"
   ]
  },
  {
   "cell_type": "code",
   "execution_count": 80,
   "id": "bf7b6706",
   "metadata": {},
   "outputs": [
    {
     "data": {
      "text/plain": [
       "False"
      ]
     },
     "execution_count": 80,
     "metadata": {},
     "output_type": "execute_result"
    }
   ],
   "source": [
    "a=[12,24,69,37,68,37,46,22,48,78]\n",
    "sel_a=40\n",
    "a[3]>sel_a"
   ]
  },
  {
   "cell_type": "code",
   "execution_count": 81,
   "id": "7db2e8f1",
   "metadata": {},
   "outputs": [
    {
     "data": {
      "text/plain": [
       "range(3, 5)"
      ]
     },
     "execution_count": 81,
     "metadata": {},
     "output_type": "execute_result"
    }
   ],
   "source": [
    "range(3,5)"
   ]
  },
  {
   "cell_type": "code",
   "execution_count": 82,
   "id": "867fa128",
   "metadata": {},
   "outputs": [
    {
     "name": "stdout",
     "output_type": "stream",
     "text": [
      "not selected to the team\n"
     ]
    }
   ],
   "source": [
    "if a[1]<sel_a:\n",
    "    print(\"not selected to the team\")"
   ]
  },
  {
   "cell_type": "code",
   "execution_count": 83,
   "id": "87f36415",
   "metadata": {},
   "outputs": [
    {
     "name": "stdout",
     "output_type": "stream",
     "text": [
      "0\n",
      "1\n",
      "2\n",
      "3\n",
      "4\n",
      "5\n",
      "6\n",
      "7\n",
      "8\n",
      "9\n"
     ]
    }
   ],
   "source": [
    "for x in range (10):\n",
    "    print (x)\n",
    "  "
   ]
  },
  {
   "cell_type": "code",
   "execution_count": 84,
   "id": "e92c6591",
   "metadata": {},
   "outputs": [
    {
     "name": "stdout",
     "output_type": "stream",
     "text": [
      "12\n",
      "24\n",
      "69\n",
      "37\n",
      "68\n",
      "37\n",
      "46\n",
      "22\n",
      "48\n",
      "78\n"
     ]
    }
   ],
   "source": [
    "for x in range(len(a)):\n",
    "    print(a[x])"
   ]
  },
  {
   "cell_type": "code",
   "execution_count": 85,
   "id": "cb10b623",
   "metadata": {},
   "outputs": [
    {
     "name": "stdout",
     "output_type": "stream",
     "text": [
      "12\n",
      "not selected to the team\n",
      "***************************\n",
      "24\n",
      "not selected to the team\n",
      "***************************\n",
      "69\n",
      "selected to the team\n",
      "***************************\n",
      "37\n",
      "not selected to the team\n",
      "***************************\n",
      "68\n",
      "selected to the team\n",
      "***************************\n",
      "37\n",
      "not selected to the team\n",
      "***************************\n",
      "46\n",
      "selected to the team\n",
      "***************************\n",
      "22\n",
      "not selected to the team\n",
      "***************************\n",
      "48\n",
      "selected to the team\n",
      "***************************\n",
      "78\n",
      "selected to the team\n",
      "***************************\n"
     ]
    }
   ],
   "source": [
    "for a in a:\n",
    "    print(a)  \n",
    "    if a<sel_a:\n",
    "        print(\"not selected to the team\")\n",
    "    else: \n",
    "        print(\"selected to the team\")\n",
    "    print(\"***************************\")\n",
    "    \n",
    "#else if\n",
    "#elif"
   ]
  },
  {
   "cell_type": "code",
   "execution_count": 87,
   "id": "a6d26971",
   "metadata": {},
   "outputs": [
    {
     "name": "stdout",
     "output_type": "stream",
     "text": [
      "1\n",
      "6\n",
      "11\n",
      "16\n",
      "21\n",
      "26\n",
      "31\n",
      "36\n",
      "41\n",
      "46\n",
      "51\n"
     ]
    }
   ],
   "source": [
    "x = range(1, 56, 5)\n",
    "for n in x:\n",
    "    print(n)\n",
    "#start = 1, stop = 56, step = 5"
   ]
  },
  {
   "cell_type": "code",
   "execution_count": 88,
   "id": "59ab258b",
   "metadata": {},
   "outputs": [],
   "source": [
    "def subtract(p, q):\n",
    "    return p-q"
   ]
  },
  {
   "cell_type": "code",
   "execution_count": 89,
   "id": "ebd55e7f",
   "metadata": {},
   "outputs": [
    {
     "data": {
      "text/plain": [
       "359"
      ]
     },
     "execution_count": 89,
     "metadata": {},
     "output_type": "execute_result"
    }
   ],
   "source": [
    "subtract(754,395)"
   ]
  },
  {
   "cell_type": "code",
   "execution_count": 90,
   "id": "851ffbf2",
   "metadata": {},
   "outputs": [
    {
     "data": {
      "text/plain": [
       "4340"
      ]
     },
     "execution_count": 90,
     "metadata": {},
     "output_type": "execute_result"
    }
   ],
   "source": [
    "def mul(p,q):\n",
    "    return p*q\n",
    "mul(124,35)    "
   ]
  },
  {
   "cell_type": "code",
   "execution_count": 91,
   "id": "c1c4f2f7",
   "metadata": {},
   "outputs": [
    {
     "data": {
      "text/plain": [
       "26675"
      ]
     },
     "execution_count": 91,
     "metadata": {},
     "output_type": "execute_result"
    }
   ],
   "source": [
    "def mod(p,q):\n",
    "    return p%q\n",
    "mul(485,55)    "
   ]
  },
  {
   "cell_type": "markdown",
   "id": "f37ccf29",
   "metadata": {},
   "source": [
    "# Python for DS"
   ]
  },
  {
   "cell_type": "code",
   "execution_count": 42,
   "id": "c2a53723",
   "metadata": {},
   "outputs": [],
   "source": [
    "import pandas as pd\n",
    "import numpy as np"
   ]
  },
  {
   "cell_type": "code",
   "execution_count": 47,
   "id": "0587f582",
   "metadata": {},
   "outputs": [
    {
     "data": {
      "text/plain": [
       "[345, 678, 864, 975, 685]"
      ]
     },
     "execution_count": 47,
     "metadata": {},
     "output_type": "execute_result"
    }
   ],
   "source": [
    "power_consumption=[345,678,864,975,685]\n",
    "power_consumption"
   ]
  },
  {
   "cell_type": "code",
   "execution_count": 48,
   "id": "0b173f2e",
   "metadata": {},
   "outputs": [],
   "source": [
    "power_consumption = pd.Series(power_consumption)"
   ]
  },
  {
   "cell_type": "code",
   "execution_count": 50,
   "id": "6e8ff515",
   "metadata": {},
   "outputs": [
    {
     "data": {
      "text/plain": [
       "0    345\n",
       "1    678\n",
       "2    864\n",
       "3    975\n",
       "4    685\n",
       "dtype: int64"
      ]
     },
     "execution_count": 50,
     "metadata": {},
     "output_type": "execute_result"
    }
   ],
   "source": [
    "power_consumption"
   ]
  },
  {
   "cell_type": "code",
   "execution_count": 51,
   "id": "cc26335d",
   "metadata": {},
   "outputs": [
    {
     "data": {
      "text/plain": [
       "RangeIndex(start=0, stop=5, step=1)"
      ]
     },
     "execution_count": 51,
     "metadata": {},
     "output_type": "execute_result"
    }
   ],
   "source": [
    "power_consumption.index"
   ]
  },
  {
   "cell_type": "code",
   "execution_count": 52,
   "id": "5aa55f00",
   "metadata": {},
   "outputs": [
    {
     "data": {
      "text/plain": [
       "array([345, 678, 864, 975, 685])"
      ]
     },
     "execution_count": 52,
     "metadata": {},
     "output_type": "execute_result"
    }
   ],
   "source": [
    "power_consumption.values"
   ]
  },
  {
   "cell_type": "code",
   "execution_count": 54,
   "id": "5c22aaf6",
   "metadata": {},
   "outputs": [
    {
     "data": {
      "text/plain": [
       "1    678\n",
       "dtype: int64"
      ]
     },
     "execution_count": 54,
     "metadata": {},
     "output_type": "execute_result"
    }
   ],
   "source": [
    "power_consumption[1:2]"
   ]
  },
  {
   "cell_type": "code",
   "execution_count": 55,
   "id": "c13839b1",
   "metadata": {},
   "outputs": [
    {
     "data": {
      "text/plain": [
       "2    864\n",
       "3    975\n",
       "4    685\n",
       "dtype: int64"
      ]
     },
     "execution_count": 55,
     "metadata": {},
     "output_type": "execute_result"
    }
   ],
   "source": [
    "power_consumption[2:]"
   ]
  },
  {
   "cell_type": "code",
   "execution_count": 56,
   "id": "f0b77347",
   "metadata": {},
   "outputs": [
    {
     "data": {
      "text/plain": [
       "0    345\n",
       "1    678\n",
       "2    864\n",
       "dtype: int64"
      ]
     },
     "execution_count": 56,
     "metadata": {},
     "output_type": "execute_result"
    }
   ],
   "source": [
    "power_consumption[:3]"
   ]
  },
  {
   "cell_type": "code",
   "execution_count": 57,
   "id": "34d44fd9",
   "metadata": {},
   "outputs": [
    {
     "data": {
      "text/plain": [
       "0    345.0\n",
       "1    678.0\n",
       "2    864.0\n",
       "3    975.0\n",
       "4      NaN\n",
       "dtype: float64"
      ]
     },
     "execution_count": 57,
     "metadata": {},
     "output_type": "execute_result"
    }
   ],
   "source": [
    "power_consumption[4]=None\n",
    "power_consumption"
   ]
  },
  {
   "cell_type": "code",
   "execution_count": 58,
   "id": "18dc342d",
   "metadata": {},
   "outputs": [
    {
     "data": {
      "text/plain": [
       "0    345.0\n",
       "1    678.0\n",
       "2    864.0\n",
       "3    975.0\n",
       "4      NaN\n",
       "dtype: float64"
      ]
     },
     "execution_count": 58,
     "metadata": {},
     "output_type": "execute_result"
    }
   ],
   "source": [
    "power_consumption[::]"
   ]
  },
  {
   "cell_type": "code",
   "execution_count": 59,
   "id": "91c04c62",
   "metadata": {},
   "outputs": [
    {
     "data": {
      "text/plain": [
       "0    345.0\n",
       "1    678.0\n",
       "2    864.0\n",
       "3    975.0\n",
       "4      NaN\n",
       "dtype: float64"
      ]
     },
     "execution_count": 59,
     "metadata": {},
     "output_type": "execute_result"
    }
   ],
   "source": [
    "power_consumption[:]"
   ]
  },
  {
   "cell_type": "code",
   "execution_count": 60,
   "id": "382a6138",
   "metadata": {},
   "outputs": [
    {
     "data": {
      "text/plain": [
       "975.0    1\n",
       "345.0    1\n",
       "864.0    1\n",
       "678.0    1\n",
       "dtype: int64"
      ]
     },
     "execution_count": 60,
     "metadata": {},
     "output_type": "execute_result"
    }
   ],
   "source": [
    "power_consumption.value_counts()"
   ]
  },
  {
   "cell_type": "code",
   "execution_count": 61,
   "id": "5ba0eb78",
   "metadata": {},
   "outputs": [],
   "source": [
    "n_df = pd.DataFrame(([power_consumption, power_consumption])).T                      "
   ]
  },
  {
   "cell_type": "code",
   "execution_count": 62,
   "id": "9f67197a",
   "metadata": {},
   "outputs": [
    {
     "data": {
      "text/html": [
       "<div>\n",
       "<style scoped>\n",
       "    .dataframe tbody tr th:only-of-type {\n",
       "        vertical-align: middle;\n",
       "    }\n",
       "\n",
       "    .dataframe tbody tr th {\n",
       "        vertical-align: top;\n",
       "    }\n",
       "\n",
       "    .dataframe thead th {\n",
       "        text-align: right;\n",
       "    }\n",
       "</style>\n",
       "<table border=\"1\" class=\"dataframe\">\n",
       "  <thead>\n",
       "    <tr style=\"text-align: right;\">\n",
       "      <th></th>\n",
       "      <th>0</th>\n",
       "      <th>1</th>\n",
       "    </tr>\n",
       "  </thead>\n",
       "  <tbody>\n",
       "    <tr>\n",
       "      <th>0</th>\n",
       "      <td>345.0</td>\n",
       "      <td>345.0</td>\n",
       "    </tr>\n",
       "    <tr>\n",
       "      <th>1</th>\n",
       "      <td>678.0</td>\n",
       "      <td>678.0</td>\n",
       "    </tr>\n",
       "    <tr>\n",
       "      <th>2</th>\n",
       "      <td>864.0</td>\n",
       "      <td>864.0</td>\n",
       "    </tr>\n",
       "    <tr>\n",
       "      <th>3</th>\n",
       "      <td>975.0</td>\n",
       "      <td>975.0</td>\n",
       "    </tr>\n",
       "    <tr>\n",
       "      <th>4</th>\n",
       "      <td>NaN</td>\n",
       "      <td>NaN</td>\n",
       "    </tr>\n",
       "  </tbody>\n",
       "</table>\n",
       "</div>"
      ],
      "text/plain": [
       "       0      1\n",
       "0  345.0  345.0\n",
       "1  678.0  678.0\n",
       "2  864.0  864.0\n",
       "3  975.0  975.0\n",
       "4    NaN    NaN"
      ]
     },
     "execution_count": 62,
     "metadata": {},
     "output_type": "execute_result"
    }
   ],
   "source": [
    "n_df"
   ]
  },
  {
   "cell_type": "code",
   "execution_count": 27,
   "id": "7b2eb09a",
   "metadata": {},
   "outputs": [
    {
     "data": {
      "text/html": [
       "<div>\n",
       "<style scoped>\n",
       "    .dataframe tbody tr th:only-of-type {\n",
       "        vertical-align: middle;\n",
       "    }\n",
       "\n",
       "    .dataframe tbody tr th {\n",
       "        vertical-align: top;\n",
       "    }\n",
       "\n",
       "    .dataframe thead th {\n",
       "        text-align: right;\n",
       "    }\n",
       "</style>\n",
       "<table border=\"1\" class=\"dataframe\">\n",
       "  <thead>\n",
       "    <tr style=\"text-align: right;\">\n",
       "      <th></th>\n",
       "      <th>DateTime</th>\n",
       "      <th>Temperature</th>\n",
       "      <th>Humidity</th>\n",
       "      <th>Wind Speed</th>\n",
       "      <th>general diffuse flows</th>\n",
       "      <th>diffuse flows</th>\n",
       "      <th>Zone 1 Power Consumption</th>\n",
       "      <th>Zone 2  Power Consumption</th>\n",
       "      <th>Zone 3  Power Consumption</th>\n",
       "    </tr>\n",
       "  </thead>\n",
       "  <tbody>\n",
       "    <tr>\n",
       "      <th>0</th>\n",
       "      <td>1/1/2017 0:00</td>\n",
       "      <td>6.559</td>\n",
       "      <td>73.8</td>\n",
       "      <td>0.083</td>\n",
       "      <td>0.051</td>\n",
       "      <td>0.119</td>\n",
       "      <td>34055.69620</td>\n",
       "      <td>16128.87538</td>\n",
       "      <td>20240.96386</td>\n",
       "    </tr>\n",
       "    <tr>\n",
       "      <th>1</th>\n",
       "      <td>1/1/2017 0:10</td>\n",
       "      <td>6.414</td>\n",
       "      <td>74.5</td>\n",
       "      <td>0.083</td>\n",
       "      <td>0.070</td>\n",
       "      <td>0.085</td>\n",
       "      <td>29814.68354</td>\n",
       "      <td>19375.07599</td>\n",
       "      <td>20131.08434</td>\n",
       "    </tr>\n",
       "    <tr>\n",
       "      <th>2</th>\n",
       "      <td>1/1/2017 0:20</td>\n",
       "      <td>6.313</td>\n",
       "      <td>74.5</td>\n",
       "      <td>0.080</td>\n",
       "      <td>0.062</td>\n",
       "      <td>0.100</td>\n",
       "      <td>29128.10127</td>\n",
       "      <td>19006.68693</td>\n",
       "      <td>19668.43373</td>\n",
       "    </tr>\n",
       "    <tr>\n",
       "      <th>3</th>\n",
       "      <td>1/1/2017 0:30</td>\n",
       "      <td>6.121</td>\n",
       "      <td>75.0</td>\n",
       "      <td>0.083</td>\n",
       "      <td>0.091</td>\n",
       "      <td>0.096</td>\n",
       "      <td>28228.86076</td>\n",
       "      <td>18361.09422</td>\n",
       "      <td>18899.27711</td>\n",
       "    </tr>\n",
       "    <tr>\n",
       "      <th>4</th>\n",
       "      <td>1/1/2017 0:40</td>\n",
       "      <td>5.921</td>\n",
       "      <td>75.7</td>\n",
       "      <td>0.081</td>\n",
       "      <td>0.048</td>\n",
       "      <td>0.085</td>\n",
       "      <td>27335.69620</td>\n",
       "      <td>17872.34043</td>\n",
       "      <td>18442.40964</td>\n",
       "    </tr>\n",
       "    <tr>\n",
       "      <th>...</th>\n",
       "      <td>...</td>\n",
       "      <td>...</td>\n",
       "      <td>...</td>\n",
       "      <td>...</td>\n",
       "      <td>...</td>\n",
       "      <td>...</td>\n",
       "      <td>...</td>\n",
       "      <td>...</td>\n",
       "      <td>...</td>\n",
       "    </tr>\n",
       "    <tr>\n",
       "      <th>52411</th>\n",
       "      <td>12/30/2017 23:10</td>\n",
       "      <td>7.010</td>\n",
       "      <td>72.4</td>\n",
       "      <td>0.080</td>\n",
       "      <td>0.040</td>\n",
       "      <td>0.096</td>\n",
       "      <td>31160.45627</td>\n",
       "      <td>26857.31820</td>\n",
       "      <td>14780.31212</td>\n",
       "    </tr>\n",
       "    <tr>\n",
       "      <th>52412</th>\n",
       "      <td>12/30/2017 23:20</td>\n",
       "      <td>6.947</td>\n",
       "      <td>72.6</td>\n",
       "      <td>0.082</td>\n",
       "      <td>0.051</td>\n",
       "      <td>0.093</td>\n",
       "      <td>30430.41825</td>\n",
       "      <td>26124.57809</td>\n",
       "      <td>14428.81152</td>\n",
       "    </tr>\n",
       "    <tr>\n",
       "      <th>52413</th>\n",
       "      <td>12/30/2017 23:30</td>\n",
       "      <td>6.900</td>\n",
       "      <td>72.8</td>\n",
       "      <td>0.086</td>\n",
       "      <td>0.084</td>\n",
       "      <td>0.074</td>\n",
       "      <td>29590.87452</td>\n",
       "      <td>25277.69254</td>\n",
       "      <td>13806.48259</td>\n",
       "    </tr>\n",
       "    <tr>\n",
       "      <th>52414</th>\n",
       "      <td>12/30/2017 23:40</td>\n",
       "      <td>6.758</td>\n",
       "      <td>73.0</td>\n",
       "      <td>0.080</td>\n",
       "      <td>0.066</td>\n",
       "      <td>0.089</td>\n",
       "      <td>28958.17490</td>\n",
       "      <td>24692.23688</td>\n",
       "      <td>13512.60504</td>\n",
       "    </tr>\n",
       "    <tr>\n",
       "      <th>52415</th>\n",
       "      <td>12/30/2017 23:50</td>\n",
       "      <td>6.580</td>\n",
       "      <td>74.1</td>\n",
       "      <td>0.081</td>\n",
       "      <td>0.062</td>\n",
       "      <td>0.111</td>\n",
       "      <td>28349.80989</td>\n",
       "      <td>24055.23167</td>\n",
       "      <td>13345.49820</td>\n",
       "    </tr>\n",
       "  </tbody>\n",
       "</table>\n",
       "<p>52416 rows × 9 columns</p>\n",
       "</div>"
      ],
      "text/plain": [
       "               DateTime  Temperature  Humidity  Wind Speed  \\\n",
       "0         1/1/2017 0:00        6.559      73.8       0.083   \n",
       "1         1/1/2017 0:10        6.414      74.5       0.083   \n",
       "2         1/1/2017 0:20        6.313      74.5       0.080   \n",
       "3         1/1/2017 0:30        6.121      75.0       0.083   \n",
       "4         1/1/2017 0:40        5.921      75.7       0.081   \n",
       "...                 ...          ...       ...         ...   \n",
       "52411  12/30/2017 23:10        7.010      72.4       0.080   \n",
       "52412  12/30/2017 23:20        6.947      72.6       0.082   \n",
       "52413  12/30/2017 23:30        6.900      72.8       0.086   \n",
       "52414  12/30/2017 23:40        6.758      73.0       0.080   \n",
       "52415  12/30/2017 23:50        6.580      74.1       0.081   \n",
       "\n",
       "       general diffuse flows  diffuse flows  Zone 1 Power Consumption  \\\n",
       "0                      0.051          0.119               34055.69620   \n",
       "1                      0.070          0.085               29814.68354   \n",
       "2                      0.062          0.100               29128.10127   \n",
       "3                      0.091          0.096               28228.86076   \n",
       "4                      0.048          0.085               27335.69620   \n",
       "...                      ...            ...                       ...   \n",
       "52411                  0.040          0.096               31160.45627   \n",
       "52412                  0.051          0.093               30430.41825   \n",
       "52413                  0.084          0.074               29590.87452   \n",
       "52414                  0.066          0.089               28958.17490   \n",
       "52415                  0.062          0.111               28349.80989   \n",
       "\n",
       "       Zone 2  Power Consumption  Zone 3  Power Consumption  \n",
       "0                    16128.87538                20240.96386  \n",
       "1                    19375.07599                20131.08434  \n",
       "2                    19006.68693                19668.43373  \n",
       "3                    18361.09422                18899.27711  \n",
       "4                    17872.34043                18442.40964  \n",
       "...                          ...                        ...  \n",
       "52411                26857.31820                14780.31212  \n",
       "52412                26124.57809                14428.81152  \n",
       "52413                25277.69254                13806.48259  \n",
       "52414                24692.23688                13512.60504  \n",
       "52415                24055.23167                13345.49820  \n",
       "\n",
       "[52416 rows x 9 columns]"
      ]
     },
     "execution_count": 27,
     "metadata": {},
     "output_type": "execute_result"
    }
   ],
   "source": [
    "df = pd.read_csv(\"/Users/nemisha/Desktop/documents/Tetuan City power consumption.csv\")\n",
    "df"
   ]
  },
  {
   "cell_type": "code",
   "execution_count": 28,
   "id": "4313f4b0",
   "metadata": {},
   "outputs": [
    {
     "data": {
      "text/html": [
       "<div>\n",
       "<style scoped>\n",
       "    .dataframe tbody tr th:only-of-type {\n",
       "        vertical-align: middle;\n",
       "    }\n",
       "\n",
       "    .dataframe tbody tr th {\n",
       "        vertical-align: top;\n",
       "    }\n",
       "\n",
       "    .dataframe thead th {\n",
       "        text-align: right;\n",
       "    }\n",
       "</style>\n",
       "<table border=\"1\" class=\"dataframe\">\n",
       "  <thead>\n",
       "    <tr style=\"text-align: right;\">\n",
       "      <th></th>\n",
       "      <th>DateTime</th>\n",
       "      <th>Temperature</th>\n",
       "      <th>Humidity</th>\n",
       "      <th>Wind Speed</th>\n",
       "      <th>general diffuse flows</th>\n",
       "      <th>diffuse flows</th>\n",
       "      <th>Zone 1 Power Consumption</th>\n",
       "      <th>Zone 2  Power Consumption</th>\n",
       "      <th>Zone 3  Power Consumption</th>\n",
       "    </tr>\n",
       "  </thead>\n",
       "  <tbody>\n",
       "    <tr>\n",
       "      <th>0</th>\n",
       "      <td>1/1/2017 0:00</td>\n",
       "      <td>6.559</td>\n",
       "      <td>73.8</td>\n",
       "      <td>0.083</td>\n",
       "      <td>0.051</td>\n",
       "      <td>0.119</td>\n",
       "      <td>34055.69620</td>\n",
       "      <td>16128.87538</td>\n",
       "      <td>20240.96386</td>\n",
       "    </tr>\n",
       "    <tr>\n",
       "      <th>1</th>\n",
       "      <td>1/1/2017 0:10</td>\n",
       "      <td>6.414</td>\n",
       "      <td>74.5</td>\n",
       "      <td>0.083</td>\n",
       "      <td>0.070</td>\n",
       "      <td>0.085</td>\n",
       "      <td>29814.68354</td>\n",
       "      <td>19375.07599</td>\n",
       "      <td>20131.08434</td>\n",
       "    </tr>\n",
       "    <tr>\n",
       "      <th>2</th>\n",
       "      <td>1/1/2017 0:20</td>\n",
       "      <td>6.313</td>\n",
       "      <td>74.5</td>\n",
       "      <td>0.080</td>\n",
       "      <td>0.062</td>\n",
       "      <td>0.100</td>\n",
       "      <td>29128.10127</td>\n",
       "      <td>19006.68693</td>\n",
       "      <td>19668.43373</td>\n",
       "    </tr>\n",
       "    <tr>\n",
       "      <th>3</th>\n",
       "      <td>1/1/2017 0:30</td>\n",
       "      <td>6.121</td>\n",
       "      <td>75.0</td>\n",
       "      <td>0.083</td>\n",
       "      <td>0.091</td>\n",
       "      <td>0.096</td>\n",
       "      <td>28228.86076</td>\n",
       "      <td>18361.09422</td>\n",
       "      <td>18899.27711</td>\n",
       "    </tr>\n",
       "    <tr>\n",
       "      <th>4</th>\n",
       "      <td>1/1/2017 0:40</td>\n",
       "      <td>5.921</td>\n",
       "      <td>75.7</td>\n",
       "      <td>0.081</td>\n",
       "      <td>0.048</td>\n",
       "      <td>0.085</td>\n",
       "      <td>27335.69620</td>\n",
       "      <td>17872.34043</td>\n",
       "      <td>18442.40964</td>\n",
       "    </tr>\n",
       "  </tbody>\n",
       "</table>\n",
       "</div>"
      ],
      "text/plain": [
       "        DateTime  Temperature  Humidity  Wind Speed  general diffuse flows  \\\n",
       "0  1/1/2017 0:00        6.559      73.8       0.083                  0.051   \n",
       "1  1/1/2017 0:10        6.414      74.5       0.083                  0.070   \n",
       "2  1/1/2017 0:20        6.313      74.5       0.080                  0.062   \n",
       "3  1/1/2017 0:30        6.121      75.0       0.083                  0.091   \n",
       "4  1/1/2017 0:40        5.921      75.7       0.081                  0.048   \n",
       "\n",
       "   diffuse flows  Zone 1 Power Consumption  Zone 2  Power Consumption  \\\n",
       "0          0.119               34055.69620                16128.87538   \n",
       "1          0.085               29814.68354                19375.07599   \n",
       "2          0.100               29128.10127                19006.68693   \n",
       "3          0.096               28228.86076                18361.09422   \n",
       "4          0.085               27335.69620                17872.34043   \n",
       "\n",
       "   Zone 3  Power Consumption  \n",
       "0                20240.96386  \n",
       "1                20131.08434  \n",
       "2                19668.43373  \n",
       "3                18899.27711  \n",
       "4                18442.40964  "
      ]
     },
     "execution_count": 28,
     "metadata": {},
     "output_type": "execute_result"
    }
   ],
   "source": [
    "df.head()"
   ]
  },
  {
   "cell_type": "code",
   "execution_count": 29,
   "id": "abcd13a0",
   "metadata": {},
   "outputs": [
    {
     "data": {
      "text/html": [
       "<div>\n",
       "<style scoped>\n",
       "    .dataframe tbody tr th:only-of-type {\n",
       "        vertical-align: middle;\n",
       "    }\n",
       "\n",
       "    .dataframe tbody tr th {\n",
       "        vertical-align: top;\n",
       "    }\n",
       "\n",
       "    .dataframe thead th {\n",
       "        text-align: right;\n",
       "    }\n",
       "</style>\n",
       "<table border=\"1\" class=\"dataframe\">\n",
       "  <thead>\n",
       "    <tr style=\"text-align: right;\">\n",
       "      <th></th>\n",
       "      <th>DateTime</th>\n",
       "      <th>Temperature</th>\n",
       "      <th>Humidity</th>\n",
       "      <th>Wind Speed</th>\n",
       "      <th>general diffuse flows</th>\n",
       "      <th>diffuse flows</th>\n",
       "      <th>Zone 1 Power Consumption</th>\n",
       "      <th>Zone 2  Power Consumption</th>\n",
       "      <th>Zone 3  Power Consumption</th>\n",
       "    </tr>\n",
       "  </thead>\n",
       "  <tbody>\n",
       "    <tr>\n",
       "      <th>52411</th>\n",
       "      <td>12/30/2017 23:10</td>\n",
       "      <td>7.010</td>\n",
       "      <td>72.4</td>\n",
       "      <td>0.080</td>\n",
       "      <td>0.040</td>\n",
       "      <td>0.096</td>\n",
       "      <td>31160.45627</td>\n",
       "      <td>26857.31820</td>\n",
       "      <td>14780.31212</td>\n",
       "    </tr>\n",
       "    <tr>\n",
       "      <th>52412</th>\n",
       "      <td>12/30/2017 23:20</td>\n",
       "      <td>6.947</td>\n",
       "      <td>72.6</td>\n",
       "      <td>0.082</td>\n",
       "      <td>0.051</td>\n",
       "      <td>0.093</td>\n",
       "      <td>30430.41825</td>\n",
       "      <td>26124.57809</td>\n",
       "      <td>14428.81152</td>\n",
       "    </tr>\n",
       "    <tr>\n",
       "      <th>52413</th>\n",
       "      <td>12/30/2017 23:30</td>\n",
       "      <td>6.900</td>\n",
       "      <td>72.8</td>\n",
       "      <td>0.086</td>\n",
       "      <td>0.084</td>\n",
       "      <td>0.074</td>\n",
       "      <td>29590.87452</td>\n",
       "      <td>25277.69254</td>\n",
       "      <td>13806.48259</td>\n",
       "    </tr>\n",
       "    <tr>\n",
       "      <th>52414</th>\n",
       "      <td>12/30/2017 23:40</td>\n",
       "      <td>6.758</td>\n",
       "      <td>73.0</td>\n",
       "      <td>0.080</td>\n",
       "      <td>0.066</td>\n",
       "      <td>0.089</td>\n",
       "      <td>28958.17490</td>\n",
       "      <td>24692.23688</td>\n",
       "      <td>13512.60504</td>\n",
       "    </tr>\n",
       "    <tr>\n",
       "      <th>52415</th>\n",
       "      <td>12/30/2017 23:50</td>\n",
       "      <td>6.580</td>\n",
       "      <td>74.1</td>\n",
       "      <td>0.081</td>\n",
       "      <td>0.062</td>\n",
       "      <td>0.111</td>\n",
       "      <td>28349.80989</td>\n",
       "      <td>24055.23167</td>\n",
       "      <td>13345.49820</td>\n",
       "    </tr>\n",
       "  </tbody>\n",
       "</table>\n",
       "</div>"
      ],
      "text/plain": [
       "               DateTime  Temperature  Humidity  Wind Speed  \\\n",
       "52411  12/30/2017 23:10        7.010      72.4       0.080   \n",
       "52412  12/30/2017 23:20        6.947      72.6       0.082   \n",
       "52413  12/30/2017 23:30        6.900      72.8       0.086   \n",
       "52414  12/30/2017 23:40        6.758      73.0       0.080   \n",
       "52415  12/30/2017 23:50        6.580      74.1       0.081   \n",
       "\n",
       "       general diffuse flows  diffuse flows  Zone 1 Power Consumption  \\\n",
       "52411                  0.040          0.096               31160.45627   \n",
       "52412                  0.051          0.093               30430.41825   \n",
       "52413                  0.084          0.074               29590.87452   \n",
       "52414                  0.066          0.089               28958.17490   \n",
       "52415                  0.062          0.111               28349.80989   \n",
       "\n",
       "       Zone 2  Power Consumption  Zone 3  Power Consumption  \n",
       "52411                26857.31820                14780.31212  \n",
       "52412                26124.57809                14428.81152  \n",
       "52413                25277.69254                13806.48259  \n",
       "52414                24692.23688                13512.60504  \n",
       "52415                24055.23167                13345.49820  "
      ]
     },
     "execution_count": 29,
     "metadata": {},
     "output_type": "execute_result"
    }
   ],
   "source": [
    "df.tail()"
   ]
  },
  {
   "cell_type": "code",
   "execution_count": 41,
   "id": "1b554485",
   "metadata": {},
   "outputs": [
    {
     "data": {
      "text/plain": [
       "<bound method NDFrame.describe of                DateTime  Temperature  Humidity  Wind Speed  \\\n",
       "0         1/1/2017 0:00        6.559      73.8       0.083   \n",
       "1         1/1/2017 0:10        6.414      74.5       0.083   \n",
       "2         1/1/2017 0:20        6.313      74.5       0.080   \n",
       "3         1/1/2017 0:30        6.121      75.0       0.083   \n",
       "4         1/1/2017 0:40        5.921      75.7       0.081   \n",
       "...                 ...          ...       ...         ...   \n",
       "52411  12/30/2017 23:10        7.010      72.4       0.080   \n",
       "52412  12/30/2017 23:20        6.947      72.6       0.082   \n",
       "52413  12/30/2017 23:30        6.900      72.8       0.086   \n",
       "52414  12/30/2017 23:40        6.758      73.0       0.080   \n",
       "52415  12/30/2017 23:50        6.580      74.1       0.081   \n",
       "\n",
       "       general diffuse flows  diffuse flows  Zone 1 Power Consumption  \\\n",
       "0                      0.051          0.119               34055.69620   \n",
       "1                      0.070          0.085               29814.68354   \n",
       "2                      0.062          0.100               29128.10127   \n",
       "3                      0.091          0.096               28228.86076   \n",
       "4                      0.048          0.085               27335.69620   \n",
       "...                      ...            ...                       ...   \n",
       "52411                  0.040          0.096               31160.45627   \n",
       "52412                  0.051          0.093               30430.41825   \n",
       "52413                  0.084          0.074               29590.87452   \n",
       "52414                  0.066          0.089               28958.17490   \n",
       "52415                  0.062          0.111               28349.80989   \n",
       "\n",
       "       Zone 2  Power Consumption  Zone 3  Power Consumption  \n",
       "0                    16128.87538                20240.96386  \n",
       "1                    19375.07599                20131.08434  \n",
       "2                    19006.68693                19668.43373  \n",
       "3                    18361.09422                18899.27711  \n",
       "4                    17872.34043                18442.40964  \n",
       "...                          ...                        ...  \n",
       "52411                26857.31820                14780.31212  \n",
       "52412                26124.57809                14428.81152  \n",
       "52413                25277.69254                13806.48259  \n",
       "52414                24692.23688                13512.60504  \n",
       "52415                24055.23167                13345.49820  \n",
       "\n",
       "[52416 rows x 9 columns]>"
      ]
     },
     "execution_count": 41,
     "metadata": {},
     "output_type": "execute_result"
    }
   ],
   "source": [
    "df.describe"
   ]
  },
  {
   "cell_type": "code",
   "execution_count": 70,
   "id": "d28128d8",
   "metadata": {},
   "outputs": [
    {
     "data": {
      "text/plain": [
       "0        73.8\n",
       "1        74.5\n",
       "2        74.5\n",
       "3        75.0\n",
       "4        75.7\n",
       "         ... \n",
       "52411    72.4\n",
       "52412    72.6\n",
       "52413    72.8\n",
       "52414    73.0\n",
       "52415    74.1\n",
       "Name: Humidity, Length: 52416, dtype: float64"
      ]
     },
     "execution_count": 70,
     "metadata": {},
     "output_type": "execute_result"
    }
   ],
   "source": [
    "df['Humidity']"
   ]
  },
  {
   "cell_type": "code",
   "execution_count": 31,
   "id": "999e815d",
   "metadata": {},
   "outputs": [
    {
     "data": {
      "text/plain": [
       "15.180    58\n",
       "20.760    56\n",
       "19.790    55\n",
       "20.740    52\n",
       "15.850    51\n",
       "          ..\n",
       "6.933      1\n",
       "31.610     1\n",
       "39.150     1\n",
       "6.599      1\n",
       "5.257      1\n",
       "Name: Temperature, Length: 3437, dtype: int64"
      ]
     },
     "execution_count": 31,
     "metadata": {},
     "output_type": "execute_result"
    }
   ],
   "source": [
    "df['Temperature'].value_counts()"
   ]
  },
  {
   "cell_type": "code",
   "execution_count": null,
   "id": "84438a15",
   "metadata": {},
   "outputs": [],
   "source": [
    "df['Temperature'].value_counts()"
   ]
  },
  {
   "cell_type": "code",
   "execution_count": 32,
   "id": "7200bba9",
   "metadata": {},
   "outputs": [
    {
     "data": {
      "text/plain": [
       "(52416, 9)"
      ]
     },
     "execution_count": 32,
     "metadata": {},
     "output_type": "execute_result"
    }
   ],
   "source": [
    "df.shape"
   ]
  },
  {
   "cell_type": "code",
   "execution_count": 33,
   "id": "c2e1be3e",
   "metadata": {},
   "outputs": [
    {
     "data": {
      "text/plain": [
       "DateTime                     0\n",
       "Temperature                  0\n",
       "Humidity                     0\n",
       "Wind Speed                   0\n",
       "general diffuse flows        0\n",
       "diffuse flows                0\n",
       "Zone 1 Power Consumption     0\n",
       "Zone 2  Power Consumption    0\n",
       "Zone 3  Power Consumption    0\n",
       "dtype: int64"
      ]
     },
     "execution_count": 33,
     "metadata": {},
     "output_type": "execute_result"
    }
   ],
   "source": [
    "df.isna().sum()"
   ]
  },
  {
   "cell_type": "code",
   "execution_count": 34,
   "id": "319c78d9",
   "metadata": {},
   "outputs": [
    {
     "data": {
      "text/plain": [
       "<bound method DataFrame.fillna of                DateTime  Temperature  Humidity  Wind Speed  \\\n",
       "0         1/1/2017 0:00        6.559      73.8       0.083   \n",
       "1         1/1/2017 0:10        6.414      74.5       0.083   \n",
       "2         1/1/2017 0:20        6.313      74.5       0.080   \n",
       "3         1/1/2017 0:30        6.121      75.0       0.083   \n",
       "4         1/1/2017 0:40        5.921      75.7       0.081   \n",
       "...                 ...          ...       ...         ...   \n",
       "52411  12/30/2017 23:10        7.010      72.4       0.080   \n",
       "52412  12/30/2017 23:20        6.947      72.6       0.082   \n",
       "52413  12/30/2017 23:30        6.900      72.8       0.086   \n",
       "52414  12/30/2017 23:40        6.758      73.0       0.080   \n",
       "52415  12/30/2017 23:50        6.580      74.1       0.081   \n",
       "\n",
       "       general diffuse flows  diffuse flows  Zone 1 Power Consumption  \\\n",
       "0                      0.051          0.119               34055.69620   \n",
       "1                      0.070          0.085               29814.68354   \n",
       "2                      0.062          0.100               29128.10127   \n",
       "3                      0.091          0.096               28228.86076   \n",
       "4                      0.048          0.085               27335.69620   \n",
       "...                      ...            ...                       ...   \n",
       "52411                  0.040          0.096               31160.45627   \n",
       "52412                  0.051          0.093               30430.41825   \n",
       "52413                  0.084          0.074               29590.87452   \n",
       "52414                  0.066          0.089               28958.17490   \n",
       "52415                  0.062          0.111               28349.80989   \n",
       "\n",
       "       Zone 2  Power Consumption  Zone 3  Power Consumption  \n",
       "0                    16128.87538                20240.96386  \n",
       "1                    19375.07599                20131.08434  \n",
       "2                    19006.68693                19668.43373  \n",
       "3                    18361.09422                18899.27711  \n",
       "4                    17872.34043                18442.40964  \n",
       "...                          ...                        ...  \n",
       "52411                26857.31820                14780.31212  \n",
       "52412                26124.57809                14428.81152  \n",
       "52413                25277.69254                13806.48259  \n",
       "52414                24692.23688                13512.60504  \n",
       "52415                24055.23167                13345.49820  \n",
       "\n",
       "[52416 rows x 9 columns]>"
      ]
     },
     "execution_count": 34,
     "metadata": {},
     "output_type": "execute_result"
    }
   ],
   "source": [
    "df.fillna"
   ]
  },
  {
   "cell_type": "code",
   "execution_count": 35,
   "id": "9dcb01b9",
   "metadata": {},
   "outputs": [
    {
     "data": {
      "text/plain": [
       "Index(['DateTime', 'Temperature', 'Humidity', 'Wind Speed',\n",
       "       'general diffuse flows', 'diffuse flows', 'Zone 1 Power Consumption',\n",
       "       'Zone 2  Power Consumption', 'Zone 3  Power Consumption'],\n",
       "      dtype='object')"
      ]
     },
     "execution_count": 35,
     "metadata": {},
     "output_type": "execute_result"
    }
   ],
   "source": [
    "df.columns"
   ]
  },
  {
   "cell_type": "code",
   "execution_count": 36,
   "id": "9f43224b",
   "metadata": {},
   "outputs": [],
   "source": [
    "collist=['Zone 1 Power Consumption','Zone 2  Power Consumption','Zone 3  Power Consumption']"
   ]
  },
  {
   "cell_type": "code",
   "execution_count": 37,
   "id": "43f90c16",
   "metadata": {},
   "outputs": [
    {
     "data": {
      "text/html": [
       "<div>\n",
       "<style scoped>\n",
       "    .dataframe tbody tr th:only-of-type {\n",
       "        vertical-align: middle;\n",
       "    }\n",
       "\n",
       "    .dataframe tbody tr th {\n",
       "        vertical-align: top;\n",
       "    }\n",
       "\n",
       "    .dataframe thead th {\n",
       "        text-align: right;\n",
       "    }\n",
       "</style>\n",
       "<table border=\"1\" class=\"dataframe\">\n",
       "  <thead>\n",
       "    <tr style=\"text-align: right;\">\n",
       "      <th></th>\n",
       "      <th>Zone 1 Power Consumption</th>\n",
       "      <th>Zone 2  Power Consumption</th>\n",
       "      <th>Zone 3  Power Consumption</th>\n",
       "    </tr>\n",
       "  </thead>\n",
       "  <tbody>\n",
       "    <tr>\n",
       "      <th>0</th>\n",
       "      <td>34055.69620</td>\n",
       "      <td>16128.87538</td>\n",
       "      <td>20240.96386</td>\n",
       "    </tr>\n",
       "    <tr>\n",
       "      <th>1</th>\n",
       "      <td>29814.68354</td>\n",
       "      <td>19375.07599</td>\n",
       "      <td>20131.08434</td>\n",
       "    </tr>\n",
       "    <tr>\n",
       "      <th>2</th>\n",
       "      <td>29128.10127</td>\n",
       "      <td>19006.68693</td>\n",
       "      <td>19668.43373</td>\n",
       "    </tr>\n",
       "    <tr>\n",
       "      <th>3</th>\n",
       "      <td>28228.86076</td>\n",
       "      <td>18361.09422</td>\n",
       "      <td>18899.27711</td>\n",
       "    </tr>\n",
       "    <tr>\n",
       "      <th>4</th>\n",
       "      <td>27335.69620</td>\n",
       "      <td>17872.34043</td>\n",
       "      <td>18442.40964</td>\n",
       "    </tr>\n",
       "    <tr>\n",
       "      <th>...</th>\n",
       "      <td>...</td>\n",
       "      <td>...</td>\n",
       "      <td>...</td>\n",
       "    </tr>\n",
       "    <tr>\n",
       "      <th>52411</th>\n",
       "      <td>31160.45627</td>\n",
       "      <td>26857.31820</td>\n",
       "      <td>14780.31212</td>\n",
       "    </tr>\n",
       "    <tr>\n",
       "      <th>52412</th>\n",
       "      <td>30430.41825</td>\n",
       "      <td>26124.57809</td>\n",
       "      <td>14428.81152</td>\n",
       "    </tr>\n",
       "    <tr>\n",
       "      <th>52413</th>\n",
       "      <td>29590.87452</td>\n",
       "      <td>25277.69254</td>\n",
       "      <td>13806.48259</td>\n",
       "    </tr>\n",
       "    <tr>\n",
       "      <th>52414</th>\n",
       "      <td>28958.17490</td>\n",
       "      <td>24692.23688</td>\n",
       "      <td>13512.60504</td>\n",
       "    </tr>\n",
       "    <tr>\n",
       "      <th>52415</th>\n",
       "      <td>28349.80989</td>\n",
       "      <td>24055.23167</td>\n",
       "      <td>13345.49820</td>\n",
       "    </tr>\n",
       "  </tbody>\n",
       "</table>\n",
       "<p>52416 rows × 3 columns</p>\n",
       "</div>"
      ],
      "text/plain": [
       "       Zone 1 Power Consumption  Zone 2  Power Consumption  \\\n",
       "0                   34055.69620                16128.87538   \n",
       "1                   29814.68354                19375.07599   \n",
       "2                   29128.10127                19006.68693   \n",
       "3                   28228.86076                18361.09422   \n",
       "4                   27335.69620                17872.34043   \n",
       "...                         ...                        ...   \n",
       "52411               31160.45627                26857.31820   \n",
       "52412               30430.41825                26124.57809   \n",
       "52413               29590.87452                25277.69254   \n",
       "52414               28958.17490                24692.23688   \n",
       "52415               28349.80989                24055.23167   \n",
       "\n",
       "       Zone 3  Power Consumption  \n",
       "0                    20240.96386  \n",
       "1                    20131.08434  \n",
       "2                    19668.43373  \n",
       "3                    18899.27711  \n",
       "4                    18442.40964  \n",
       "...                          ...  \n",
       "52411                14780.31212  \n",
       "52412                14428.81152  \n",
       "52413                13806.48259  \n",
       "52414                13512.60504  \n",
       "52415                13345.49820  \n",
       "\n",
       "[52416 rows x 3 columns]"
      ]
     },
     "execution_count": 37,
     "metadata": {},
     "output_type": "execute_result"
    }
   ],
   "source": [
    "df[collist]"
   ]
  },
  {
   "cell_type": "code",
   "execution_count": 80,
   "id": "0d154c24",
   "metadata": {},
   "outputs": [],
   "source": [
    "#DICTIONARIES"
   ]
  },
  {
   "cell_type": "code",
   "execution_count": 92,
   "id": "0f2bc04b",
   "metadata": {},
   "outputs": [
    {
     "data": {
      "text/plain": [
       "0    345.0\n",
       "1    678.0\n",
       "2    864.0\n",
       "3    975.0\n",
       "4      NaN\n",
       "dtype: float64"
      ]
     },
     "execution_count": 92,
     "metadata": {},
     "output_type": "execute_result"
    }
   ],
   "source": [
    "power_consumption"
   ]
  },
  {
   "cell_type": "code",
   "execution_count": 93,
   "id": "1bc689bd",
   "metadata": {},
   "outputs": [
    {
     "data": {
      "text/plain": [
       "5"
      ]
     },
     "execution_count": 93,
     "metadata": {},
     "output_type": "execute_result"
    }
   ],
   "source": [
    "len(power_consumption)"
   ]
  },
  {
   "cell_type": "code",
   "execution_count": 98,
   "id": "d3e934f1",
   "metadata": {},
   "outputs": [],
   "source": [
    "sname = list('ABCDE')"
   ]
  },
  {
   "cell_type": "code",
   "execution_count": 99,
   "id": "7bbaa4f9",
   "metadata": {},
   "outputs": [
    {
     "data": {
      "text/plain": [
       "['A', 'B', 'C', 'D', 'E']"
      ]
     },
     "execution_count": 99,
     "metadata": {},
     "output_type": "execute_result"
    }
   ],
   "source": [
    "sname"
   ]
  },
  {
   "cell_type": "code",
   "execution_count": 100,
   "id": "3c4c981d",
   "metadata": {},
   "outputs": [
    {
     "data": {
      "text/plain": [
       "{'sno': ['A', 'B', 'C', 'D', 'E'],\n",
       " 'power_consumption': 0    345.0\n",
       " 1    678.0\n",
       " 2    864.0\n",
       " 3    975.0\n",
       " 4      NaN\n",
       " dtype: float64}"
      ]
     },
     "execution_count": 100,
     "metadata": {},
     "output_type": "execute_result"
    }
   ],
   "source": [
    "s_dict = {'sno':sname, 'power_consumption':power_consumption}\n",
    "s_dict"
   ]
  },
  {
   "cell_type": "code",
   "execution_count": 102,
   "id": "ded14c6b",
   "metadata": {},
   "outputs": [
    {
     "data": {
      "text/html": [
       "<div>\n",
       "<style scoped>\n",
       "    .dataframe tbody tr th:only-of-type {\n",
       "        vertical-align: middle;\n",
       "    }\n",
       "\n",
       "    .dataframe tbody tr th {\n",
       "        vertical-align: top;\n",
       "    }\n",
       "\n",
       "    .dataframe thead th {\n",
       "        text-align: right;\n",
       "    }\n",
       "</style>\n",
       "<table border=\"1\" class=\"dataframe\">\n",
       "  <thead>\n",
       "    <tr style=\"text-align: right;\">\n",
       "      <th></th>\n",
       "      <th>sno</th>\n",
       "      <th>power_consumption</th>\n",
       "    </tr>\n",
       "  </thead>\n",
       "  <tbody>\n",
       "    <tr>\n",
       "      <th>0</th>\n",
       "      <td>A</td>\n",
       "      <td>345.0</td>\n",
       "    </tr>\n",
       "    <tr>\n",
       "      <th>1</th>\n",
       "      <td>B</td>\n",
       "      <td>678.0</td>\n",
       "    </tr>\n",
       "    <tr>\n",
       "      <th>2</th>\n",
       "      <td>C</td>\n",
       "      <td>864.0</td>\n",
       "    </tr>\n",
       "    <tr>\n",
       "      <th>3</th>\n",
       "      <td>D</td>\n",
       "      <td>975.0</td>\n",
       "    </tr>\n",
       "    <tr>\n",
       "      <th>4</th>\n",
       "      <td>E</td>\n",
       "      <td>NaN</td>\n",
       "    </tr>\n",
       "  </tbody>\n",
       "</table>\n",
       "</div>"
      ],
      "text/plain": [
       "  sno  power_consumption\n",
       "0   A              345.0\n",
       "1   B              678.0\n",
       "2   C              864.0\n",
       "3   D              975.0\n",
       "4   E                NaN"
      ]
     },
     "execution_count": 102,
     "metadata": {},
     "output_type": "execute_result"
    }
   ],
   "source": [
    "df2 = pd.DataFrame(s_dict)\n",
    "df2"
   ]
  },
  {
   "cell_type": "code",
   "execution_count": 69,
   "id": "b744e067",
   "metadata": {},
   "outputs": [
    {
     "data": {
      "text/html": [
       "<div>\n",
       "<style scoped>\n",
       "    .dataframe tbody tr th:only-of-type {\n",
       "        vertical-align: middle;\n",
       "    }\n",
       "\n",
       "    .dataframe tbody tr th {\n",
       "        vertical-align: top;\n",
       "    }\n",
       "\n",
       "    .dataframe thead th {\n",
       "        text-align: right;\n",
       "    }\n",
       "</style>\n",
       "<table border=\"1\" class=\"dataframe\">\n",
       "  <thead>\n",
       "    <tr style=\"text-align: right;\">\n",
       "      <th></th>\n",
       "      <th>DateTime</th>\n",
       "      <th>Temperature</th>\n",
       "      <th>Humidity</th>\n",
       "      <th>Wind Speed</th>\n",
       "      <th>general diffuse flows</th>\n",
       "      <th>diffuse flows</th>\n",
       "      <th>Zone 1 Power Consumption</th>\n",
       "      <th>Zone 2  Power Consumption</th>\n",
       "      <th>Zone 3  Power Consumption</th>\n",
       "    </tr>\n",
       "  </thead>\n",
       "  <tbody>\n",
       "    <tr>\n",
       "      <th>17506</th>\n",
       "      <td>5/2/2017 13:40</td>\n",
       "      <td>30.07</td>\n",
       "      <td>29.99</td>\n",
       "      <td>0.071</td>\n",
       "      <td>738.0</td>\n",
       "      <td>272.1</td>\n",
       "      <td>34925.11475</td>\n",
       "      <td>21867.49226</td>\n",
       "      <td>16941.86235</td>\n",
       "    </tr>\n",
       "    <tr>\n",
       "      <th>19083</th>\n",
       "      <td>5/13/2017 12:30</td>\n",
       "      <td>30.35</td>\n",
       "      <td>32.43</td>\n",
       "      <td>0.081</td>\n",
       "      <td>869.0</td>\n",
       "      <td>210.8</td>\n",
       "      <td>35982.68852</td>\n",
       "      <td>21993.80805</td>\n",
       "      <td>18673.36032</td>\n",
       "    </tr>\n",
       "    <tr>\n",
       "      <th>19084</th>\n",
       "      <td>5/13/2017 12:40</td>\n",
       "      <td>30.95</td>\n",
       "      <td>31.83</td>\n",
       "      <td>0.074</td>\n",
       "      <td>856.0</td>\n",
       "      <td>205.8</td>\n",
       "      <td>35516.85246</td>\n",
       "      <td>21882.35294</td>\n",
       "      <td>18778.29960</td>\n",
       "    </tr>\n",
       "    <tr>\n",
       "      <th>19085</th>\n",
       "      <td>5/13/2017 12:50</td>\n",
       "      <td>30.87</td>\n",
       "      <td>31.73</td>\n",
       "      <td>0.072</td>\n",
       "      <td>855.0</td>\n",
       "      <td>206.0</td>\n",
       "      <td>35806.42623</td>\n",
       "      <td>21737.46130</td>\n",
       "      <td>18766.63968</td>\n",
       "    </tr>\n",
       "    <tr>\n",
       "      <th>19086</th>\n",
       "      <td>5/13/2017 13:00</td>\n",
       "      <td>31.18</td>\n",
       "      <td>30.83</td>\n",
       "      <td>0.073</td>\n",
       "      <td>850.0</td>\n",
       "      <td>206.0</td>\n",
       "      <td>35995.27869</td>\n",
       "      <td>21967.80186</td>\n",
       "      <td>18667.53036</td>\n",
       "    </tr>\n",
       "    <tr>\n",
       "      <th>...</th>\n",
       "      <td>...</td>\n",
       "      <td>...</td>\n",
       "      <td>...</td>\n",
       "      <td>...</td>\n",
       "      <td>...</td>\n",
       "      <td>...</td>\n",
       "      <td>...</td>\n",
       "      <td>...</td>\n",
       "      <td>...</td>\n",
       "    </tr>\n",
       "    <tr>\n",
       "      <th>38115</th>\n",
       "      <td>9/22/2017 16:30</td>\n",
       "      <td>31.33</td>\n",
       "      <td>14.10</td>\n",
       "      <td>4.949</td>\n",
       "      <td>454.2</td>\n",
       "      <td>97.0</td>\n",
       "      <td>34088.49558</td>\n",
       "      <td>19829.93763</td>\n",
       "      <td>13126.21042</td>\n",
       "    </tr>\n",
       "    <tr>\n",
       "      <th>38116</th>\n",
       "      <td>9/22/2017 16:40</td>\n",
       "      <td>31.06</td>\n",
       "      <td>14.80</td>\n",
       "      <td>4.934</td>\n",
       "      <td>407.7</td>\n",
       "      <td>88.0</td>\n",
       "      <td>34139.46903</td>\n",
       "      <td>19747.60915</td>\n",
       "      <td>13137.97753</td>\n",
       "    </tr>\n",
       "    <tr>\n",
       "      <th>38117</th>\n",
       "      <td>9/22/2017 16:50</td>\n",
       "      <td>30.84</td>\n",
       "      <td>19.21</td>\n",
       "      <td>4.929</td>\n",
       "      <td>369.3</td>\n",
       "      <td>87.3</td>\n",
       "      <td>33661.59292</td>\n",
       "      <td>19998.33680</td>\n",
       "      <td>13302.71706</td>\n",
       "    </tr>\n",
       "    <tr>\n",
       "      <th>38118</th>\n",
       "      <td>9/22/2017 17:00</td>\n",
       "      <td>30.44</td>\n",
       "      <td>20.21</td>\n",
       "      <td>4.945</td>\n",
       "      <td>347.0</td>\n",
       "      <td>94.2</td>\n",
       "      <td>33604.24779</td>\n",
       "      <td>19571.72557</td>\n",
       "      <td>13614.54545</td>\n",
       "    </tr>\n",
       "    <tr>\n",
       "      <th>38119</th>\n",
       "      <td>9/22/2017 17:10</td>\n",
       "      <td>30.09</td>\n",
       "      <td>21.64</td>\n",
       "      <td>4.943</td>\n",
       "      <td>338.3</td>\n",
       "      <td>113.7</td>\n",
       "      <td>33776.28319</td>\n",
       "      <td>19725.15593</td>\n",
       "      <td>14308.80490</td>\n",
       "    </tr>\n",
       "  </tbody>\n",
       "</table>\n",
       "<p>1437 rows × 9 columns</p>\n",
       "</div>"
      ],
      "text/plain": [
       "              DateTime  Temperature  Humidity  Wind Speed  \\\n",
       "17506   5/2/2017 13:40        30.07     29.99       0.071   \n",
       "19083  5/13/2017 12:30        30.35     32.43       0.081   \n",
       "19084  5/13/2017 12:40        30.95     31.83       0.074   \n",
       "19085  5/13/2017 12:50        30.87     31.73       0.072   \n",
       "19086  5/13/2017 13:00        31.18     30.83       0.073   \n",
       "...                ...          ...       ...         ...   \n",
       "38115  9/22/2017 16:30        31.33     14.10       4.949   \n",
       "38116  9/22/2017 16:40        31.06     14.80       4.934   \n",
       "38117  9/22/2017 16:50        30.84     19.21       4.929   \n",
       "38118  9/22/2017 17:00        30.44     20.21       4.945   \n",
       "38119  9/22/2017 17:10        30.09     21.64       4.943   \n",
       "\n",
       "       general diffuse flows  diffuse flows  Zone 1 Power Consumption  \\\n",
       "17506                  738.0          272.1               34925.11475   \n",
       "19083                  869.0          210.8               35982.68852   \n",
       "19084                  856.0          205.8               35516.85246   \n",
       "19085                  855.0          206.0               35806.42623   \n",
       "19086                  850.0          206.0               35995.27869   \n",
       "...                      ...            ...                       ...   \n",
       "38115                  454.2           97.0               34088.49558   \n",
       "38116                  407.7           88.0               34139.46903   \n",
       "38117                  369.3           87.3               33661.59292   \n",
       "38118                  347.0           94.2               33604.24779   \n",
       "38119                  338.3          113.7               33776.28319   \n",
       "\n",
       "       Zone 2  Power Consumption  Zone 3  Power Consumption  \n",
       "17506                21867.49226                16941.86235  \n",
       "19083                21993.80805                18673.36032  \n",
       "19084                21882.35294                18778.29960  \n",
       "19085                21737.46130                18766.63968  \n",
       "19086                21967.80186                18667.53036  \n",
       "...                          ...                        ...  \n",
       "38115                19829.93763                13126.21042  \n",
       "38116                19747.60915                13137.97753  \n",
       "38117                19998.33680                13302.71706  \n",
       "38118                19571.72557                13614.54545  \n",
       "38119                19725.15593                14308.80490  \n",
       "\n",
       "[1437 rows x 9 columns]"
      ]
     },
     "execution_count": 69,
     "metadata": {},
     "output_type": "execute_result"
    }
   ],
   "source": [
    "df[df['Temperature']>30]"
   ]
  },
  {
   "cell_type": "code",
   "execution_count": 112,
   "id": "9d08ebc4",
   "metadata": {},
   "outputs": [
    {
     "data": {
      "text/plain": [
       "(829262, 14)"
      ]
     },
     "execution_count": 112,
     "metadata": {},
     "output_type": "execute_result"
    }
   ],
   "source": [
    "df.shape"
   ]
  },
  {
   "cell_type": "code",
   "execution_count": 71,
   "id": "334f442f",
   "metadata": {},
   "outputs": [
    {
     "data": {
      "text/html": [
       "<div>\n",
       "<style scoped>\n",
       "    .dataframe tbody tr th:only-of-type {\n",
       "        vertical-align: middle;\n",
       "    }\n",
       "\n",
       "    .dataframe tbody tr th {\n",
       "        vertical-align: top;\n",
       "    }\n",
       "\n",
       "    .dataframe thead th {\n",
       "        text-align: right;\n",
       "    }\n",
       "</style>\n",
       "<table border=\"1\" class=\"dataframe\">\n",
       "  <thead>\n",
       "    <tr style=\"text-align: right;\">\n",
       "      <th></th>\n",
       "      <th>DateTime</th>\n",
       "      <th>Temperature</th>\n",
       "      <th>Humidity</th>\n",
       "      <th>Wind Speed</th>\n",
       "      <th>general diffuse flows</th>\n",
       "      <th>diffuse flows</th>\n",
       "      <th>Zone 1 Power Consumption</th>\n",
       "      <th>Zone 2  Power Consumption</th>\n",
       "      <th>Zone 3  Power Consumption</th>\n",
       "    </tr>\n",
       "  </thead>\n",
       "  <tbody>\n",
       "    <tr>\n",
       "      <th>17506</th>\n",
       "      <td>5/2/2017 13:40</td>\n",
       "      <td>30.07</td>\n",
       "      <td>29.99</td>\n",
       "      <td>0.071</td>\n",
       "      <td>738.0</td>\n",
       "      <td>272.1</td>\n",
       "      <td>34925.11475</td>\n",
       "      <td>21867.49226</td>\n",
       "      <td>16941.86235</td>\n",
       "    </tr>\n",
       "    <tr>\n",
       "      <th>19083</th>\n",
       "      <td>5/13/2017 12:30</td>\n",
       "      <td>30.35</td>\n",
       "      <td>32.43</td>\n",
       "      <td>0.081</td>\n",
       "      <td>869.0</td>\n",
       "      <td>210.8</td>\n",
       "      <td>35982.68852</td>\n",
       "      <td>21993.80805</td>\n",
       "      <td>18673.36032</td>\n",
       "    </tr>\n",
       "    <tr>\n",
       "      <th>19084</th>\n",
       "      <td>5/13/2017 12:40</td>\n",
       "      <td>30.95</td>\n",
       "      <td>31.83</td>\n",
       "      <td>0.074</td>\n",
       "      <td>856.0</td>\n",
       "      <td>205.8</td>\n",
       "      <td>35516.85246</td>\n",
       "      <td>21882.35294</td>\n",
       "      <td>18778.29960</td>\n",
       "    </tr>\n",
       "    <tr>\n",
       "      <th>19085</th>\n",
       "      <td>5/13/2017 12:50</td>\n",
       "      <td>30.87</td>\n",
       "      <td>31.73</td>\n",
       "      <td>0.072</td>\n",
       "      <td>855.0</td>\n",
       "      <td>206.0</td>\n",
       "      <td>35806.42623</td>\n",
       "      <td>21737.46130</td>\n",
       "      <td>18766.63968</td>\n",
       "    </tr>\n",
       "    <tr>\n",
       "      <th>19086</th>\n",
       "      <td>5/13/2017 13:00</td>\n",
       "      <td>31.18</td>\n",
       "      <td>30.83</td>\n",
       "      <td>0.073</td>\n",
       "      <td>850.0</td>\n",
       "      <td>206.0</td>\n",
       "      <td>35995.27869</td>\n",
       "      <td>21967.80186</td>\n",
       "      <td>18667.53036</td>\n",
       "    </tr>\n",
       "    <tr>\n",
       "      <th>...</th>\n",
       "      <td>...</td>\n",
       "      <td>...</td>\n",
       "      <td>...</td>\n",
       "      <td>...</td>\n",
       "      <td>...</td>\n",
       "      <td>...</td>\n",
       "      <td>...</td>\n",
       "      <td>...</td>\n",
       "      <td>...</td>\n",
       "    </tr>\n",
       "    <tr>\n",
       "      <th>38115</th>\n",
       "      <td>9/22/2017 16:30</td>\n",
       "      <td>31.33</td>\n",
       "      <td>14.10</td>\n",
       "      <td>4.949</td>\n",
       "      <td>454.2</td>\n",
       "      <td>97.0</td>\n",
       "      <td>34088.49558</td>\n",
       "      <td>19829.93763</td>\n",
       "      <td>13126.21042</td>\n",
       "    </tr>\n",
       "    <tr>\n",
       "      <th>38116</th>\n",
       "      <td>9/22/2017 16:40</td>\n",
       "      <td>31.06</td>\n",
       "      <td>14.80</td>\n",
       "      <td>4.934</td>\n",
       "      <td>407.7</td>\n",
       "      <td>88.0</td>\n",
       "      <td>34139.46903</td>\n",
       "      <td>19747.60915</td>\n",
       "      <td>13137.97753</td>\n",
       "    </tr>\n",
       "    <tr>\n",
       "      <th>38117</th>\n",
       "      <td>9/22/2017 16:50</td>\n",
       "      <td>30.84</td>\n",
       "      <td>19.21</td>\n",
       "      <td>4.929</td>\n",
       "      <td>369.3</td>\n",
       "      <td>87.3</td>\n",
       "      <td>33661.59292</td>\n",
       "      <td>19998.33680</td>\n",
       "      <td>13302.71706</td>\n",
       "    </tr>\n",
       "    <tr>\n",
       "      <th>38118</th>\n",
       "      <td>9/22/2017 17:00</td>\n",
       "      <td>30.44</td>\n",
       "      <td>20.21</td>\n",
       "      <td>4.945</td>\n",
       "      <td>347.0</td>\n",
       "      <td>94.2</td>\n",
       "      <td>33604.24779</td>\n",
       "      <td>19571.72557</td>\n",
       "      <td>13614.54545</td>\n",
       "    </tr>\n",
       "    <tr>\n",
       "      <th>38119</th>\n",
       "      <td>9/22/2017 17:10</td>\n",
       "      <td>30.09</td>\n",
       "      <td>21.64</td>\n",
       "      <td>4.943</td>\n",
       "      <td>338.3</td>\n",
       "      <td>113.7</td>\n",
       "      <td>33776.28319</td>\n",
       "      <td>19725.15593</td>\n",
       "      <td>14308.80490</td>\n",
       "    </tr>\n",
       "  </tbody>\n",
       "</table>\n",
       "<p>1437 rows × 9 columns</p>\n",
       "</div>"
      ],
      "text/plain": [
       "              DateTime  Temperature  Humidity  Wind Speed  \\\n",
       "17506   5/2/2017 13:40        30.07     29.99       0.071   \n",
       "19083  5/13/2017 12:30        30.35     32.43       0.081   \n",
       "19084  5/13/2017 12:40        30.95     31.83       0.074   \n",
       "19085  5/13/2017 12:50        30.87     31.73       0.072   \n",
       "19086  5/13/2017 13:00        31.18     30.83       0.073   \n",
       "...                ...          ...       ...         ...   \n",
       "38115  9/22/2017 16:30        31.33     14.10       4.949   \n",
       "38116  9/22/2017 16:40        31.06     14.80       4.934   \n",
       "38117  9/22/2017 16:50        30.84     19.21       4.929   \n",
       "38118  9/22/2017 17:00        30.44     20.21       4.945   \n",
       "38119  9/22/2017 17:10        30.09     21.64       4.943   \n",
       "\n",
       "       general diffuse flows  diffuse flows  Zone 1 Power Consumption  \\\n",
       "17506                  738.0          272.1               34925.11475   \n",
       "19083                  869.0          210.8               35982.68852   \n",
       "19084                  856.0          205.8               35516.85246   \n",
       "19085                  855.0          206.0               35806.42623   \n",
       "19086                  850.0          206.0               35995.27869   \n",
       "...                      ...            ...                       ...   \n",
       "38115                  454.2           97.0               34088.49558   \n",
       "38116                  407.7           88.0               34139.46903   \n",
       "38117                  369.3           87.3               33661.59292   \n",
       "38118                  347.0           94.2               33604.24779   \n",
       "38119                  338.3          113.7               33776.28319   \n",
       "\n",
       "       Zone 2  Power Consumption  Zone 3  Power Consumption  \n",
       "17506                21867.49226                16941.86235  \n",
       "19083                21993.80805                18673.36032  \n",
       "19084                21882.35294                18778.29960  \n",
       "19085                21737.46130                18766.63968  \n",
       "19086                21967.80186                18667.53036  \n",
       "...                          ...                        ...  \n",
       "38115                19829.93763                13126.21042  \n",
       "38116                19747.60915                13137.97753  \n",
       "38117                19998.33680                13302.71706  \n",
       "38118                19571.72557                13614.54545  \n",
       "38119                19725.15593                14308.80490  \n",
       "\n",
       "[1437 rows x 9 columns]"
      ]
     },
     "execution_count": 71,
     "metadata": {},
     "output_type": "execute_result"
    }
   ],
   "source": [
    "df[(df['Temperature']>30)&(df['Humidity']<75)]"
   ]
  },
  {
   "cell_type": "code",
   "execution_count": 38,
   "id": "e27e0b26",
   "metadata": {},
   "outputs": [
    {
     "data": {
      "text/html": [
       "<div>\n",
       "<style scoped>\n",
       "    .dataframe tbody tr th:only-of-type {\n",
       "        vertical-align: middle;\n",
       "    }\n",
       "\n",
       "    .dataframe tbody tr th {\n",
       "        vertical-align: top;\n",
       "    }\n",
       "\n",
       "    .dataframe thead th {\n",
       "        text-align: right;\n",
       "    }\n",
       "</style>\n",
       "<table border=\"1\" class=\"dataframe\">\n",
       "  <thead>\n",
       "    <tr style=\"text-align: right;\">\n",
       "      <th></th>\n",
       "      <th>Temperature</th>\n",
       "      <th>Humidity</th>\n",
       "      <th>Wind Speed</th>\n",
       "      <th>general diffuse flows</th>\n",
       "      <th>diffuse flows</th>\n",
       "      <th>Zone 1 Power Consumption</th>\n",
       "      <th>Zone 2  Power Consumption</th>\n",
       "      <th>Zone 3  Power Consumption</th>\n",
       "    </tr>\n",
       "  </thead>\n",
       "  <tbody>\n",
       "    <tr>\n",
       "      <th>Temperature</th>\n",
       "      <td>1.000000</td>\n",
       "      <td>-0.460243</td>\n",
       "      <td>0.477109</td>\n",
       "      <td>0.460294</td>\n",
       "      <td>0.196522</td>\n",
       "      <td>0.440221</td>\n",
       "      <td>0.382428</td>\n",
       "      <td>0.489527</td>\n",
       "    </tr>\n",
       "    <tr>\n",
       "      <th>Humidity</th>\n",
       "      <td>-0.460243</td>\n",
       "      <td>1.000000</td>\n",
       "      <td>-0.135853</td>\n",
       "      <td>-0.468138</td>\n",
       "      <td>-0.256886</td>\n",
       "      <td>-0.287421</td>\n",
       "      <td>-0.294961</td>\n",
       "      <td>-0.233022</td>\n",
       "    </tr>\n",
       "    <tr>\n",
       "      <th>Wind Speed</th>\n",
       "      <td>0.477109</td>\n",
       "      <td>-0.135853</td>\n",
       "      <td>1.000000</td>\n",
       "      <td>0.133733</td>\n",
       "      <td>-0.000972</td>\n",
       "      <td>0.167444</td>\n",
       "      <td>0.146413</td>\n",
       "      <td>0.278641</td>\n",
       "    </tr>\n",
       "    <tr>\n",
       "      <th>general diffuse flows</th>\n",
       "      <td>0.460294</td>\n",
       "      <td>-0.468138</td>\n",
       "      <td>0.133733</td>\n",
       "      <td>1.000000</td>\n",
       "      <td>0.564718</td>\n",
       "      <td>0.187965</td>\n",
       "      <td>0.157223</td>\n",
       "      <td>0.063376</td>\n",
       "    </tr>\n",
       "    <tr>\n",
       "      <th>diffuse flows</th>\n",
       "      <td>0.196522</td>\n",
       "      <td>-0.256886</td>\n",
       "      <td>-0.000972</td>\n",
       "      <td>0.564718</td>\n",
       "      <td>1.000000</td>\n",
       "      <td>0.080274</td>\n",
       "      <td>0.044667</td>\n",
       "      <td>-0.038506</td>\n",
       "    </tr>\n",
       "    <tr>\n",
       "      <th>Zone 1 Power Consumption</th>\n",
       "      <td>0.440221</td>\n",
       "      <td>-0.287421</td>\n",
       "      <td>0.167444</td>\n",
       "      <td>0.187965</td>\n",
       "      <td>0.080274</td>\n",
       "      <td>1.000000</td>\n",
       "      <td>0.834519</td>\n",
       "      <td>0.750733</td>\n",
       "    </tr>\n",
       "    <tr>\n",
       "      <th>Zone 2  Power Consumption</th>\n",
       "      <td>0.382428</td>\n",
       "      <td>-0.294961</td>\n",
       "      <td>0.146413</td>\n",
       "      <td>0.157223</td>\n",
       "      <td>0.044667</td>\n",
       "      <td>0.834519</td>\n",
       "      <td>1.000000</td>\n",
       "      <td>0.570932</td>\n",
       "    </tr>\n",
       "    <tr>\n",
       "      <th>Zone 3  Power Consumption</th>\n",
       "      <td>0.489527</td>\n",
       "      <td>-0.233022</td>\n",
       "      <td>0.278641</td>\n",
       "      <td>0.063376</td>\n",
       "      <td>-0.038506</td>\n",
       "      <td>0.750733</td>\n",
       "      <td>0.570932</td>\n",
       "      <td>1.000000</td>\n",
       "    </tr>\n",
       "  </tbody>\n",
       "</table>\n",
       "</div>"
      ],
      "text/plain": [
       "                           Temperature  Humidity  Wind Speed  \\\n",
       "Temperature                   1.000000 -0.460243    0.477109   \n",
       "Humidity                     -0.460243  1.000000   -0.135853   \n",
       "Wind Speed                    0.477109 -0.135853    1.000000   \n",
       "general diffuse flows         0.460294 -0.468138    0.133733   \n",
       "diffuse flows                 0.196522 -0.256886   -0.000972   \n",
       "Zone 1 Power Consumption      0.440221 -0.287421    0.167444   \n",
       "Zone 2  Power Consumption     0.382428 -0.294961    0.146413   \n",
       "Zone 3  Power Consumption     0.489527 -0.233022    0.278641   \n",
       "\n",
       "                           general diffuse flows  diffuse flows  \\\n",
       "Temperature                             0.460294       0.196522   \n",
       "Humidity                               -0.468138      -0.256886   \n",
       "Wind Speed                              0.133733      -0.000972   \n",
       "general diffuse flows                   1.000000       0.564718   \n",
       "diffuse flows                           0.564718       1.000000   \n",
       "Zone 1 Power Consumption                0.187965       0.080274   \n",
       "Zone 2  Power Consumption               0.157223       0.044667   \n",
       "Zone 3  Power Consumption               0.063376      -0.038506   \n",
       "\n",
       "                           Zone 1 Power Consumption  \\\n",
       "Temperature                                0.440221   \n",
       "Humidity                                  -0.287421   \n",
       "Wind Speed                                 0.167444   \n",
       "general diffuse flows                      0.187965   \n",
       "diffuse flows                              0.080274   \n",
       "Zone 1 Power Consumption                   1.000000   \n",
       "Zone 2  Power Consumption                  0.834519   \n",
       "Zone 3  Power Consumption                  0.750733   \n",
       "\n",
       "                           Zone 2  Power Consumption  \\\n",
       "Temperature                                 0.382428   \n",
       "Humidity                                   -0.294961   \n",
       "Wind Speed                                  0.146413   \n",
       "general diffuse flows                       0.157223   \n",
       "diffuse flows                               0.044667   \n",
       "Zone 1 Power Consumption                    0.834519   \n",
       "Zone 2  Power Consumption                   1.000000   \n",
       "Zone 3  Power Consumption                   0.570932   \n",
       "\n",
       "                           Zone 3  Power Consumption  \n",
       "Temperature                                 0.489527  \n",
       "Humidity                                   -0.233022  \n",
       "Wind Speed                                  0.278641  \n",
       "general diffuse flows                       0.063376  \n",
       "diffuse flows                              -0.038506  \n",
       "Zone 1 Power Consumption                    0.750733  \n",
       "Zone 2  Power Consumption                   0.570932  \n",
       "Zone 3  Power Consumption                   1.000000  "
      ]
     },
     "execution_count": 38,
     "metadata": {},
     "output_type": "execute_result"
    }
   ],
   "source": [
    "df.corr()"
   ]
  },
  {
   "cell_type": "code",
   "execution_count": null,
   "id": "9d348191",
   "metadata": {},
   "outputs": [],
   "source": []
  }
 ],
 "metadata": {
  "kernelspec": {
   "display_name": "Python 3",
   "language": "python",
   "name": "python3"
  },
  "language_info": {
   "codemirror_mode": {
    "name": "ipython",
    "version": 3
   },
   "file_extension": ".py",
   "mimetype": "text/x-python",
   "name": "python",
   "nbconvert_exporter": "python",
   "pygments_lexer": "ipython3",
   "version": "3.8.8"
  }
 },
 "nbformat": 4,
 "nbformat_minor": 5
}
