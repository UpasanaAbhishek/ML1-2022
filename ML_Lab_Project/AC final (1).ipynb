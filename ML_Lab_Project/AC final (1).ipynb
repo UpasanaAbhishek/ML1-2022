{
 "cells": [
  {
   "cell_type": "code",
   "execution_count": 1,
   "id": "f884087d",
   "metadata": {},
   "outputs": [],
   "source": [
    "#libraries\n",
    "import re\n",
    "import string\n",
    "from collections import Counter\n",
    "import numpy as np"
   ]
  },
  {
   "cell_type": "code",
   "execution_count": 2,
   "id": "789e6ecd",
   "metadata": {},
   "outputs": [],
   "source": [
    "class auto_correct(object):\n",
    "    def __init__(self, corpus_file_path):\n",
    "        with open(corpus_file_path, \"r\") as file:\n",
    "            lines = file.readlines()\n",
    "            words = []\n",
    "        for line in lines:\n",
    "            words += re.findall(r'\\w+', line.lower())\n",
    "        self.vocabs = set(words)# as we need unique words\n",
    "        self.word_counts = Counter(words)\n",
    "        total_words = float(sum(self.word_counts.values()))\n",
    "        self.word_probas = {word: self.word_counts[word] / total_words for word in self.vocabs}\n",
    "\n",
    "    def _level_one_edits(self, word):\n",
    "        #we need words in english and in lowercase.\n",
    "        letters = string.ascii_lowercase\n",
    "        splits = [(word[:i], word[i:]) for i in range(len(word) + 1)]\n",
    "        deletes = [l + r[1:] for l,r in splits if r]\n",
    "        swaps = [l + r[1] + r[0] + r[2:] for l, r in splits if len(r)>1]\n",
    "        replaces = [l + c + r[1:] for l, r in splits if r for c in letters]\n",
    "        inserts = [l + c + r for l, r in splits for c in letters] \n",
    "        return set(deletes + swaps + replaces + inserts)\n",
    "\n",
    "    def _level_two_edits(self, word):\n",
    "        return set(e2 for e1 in self._level_one_edits(word) for e2 in self._level_one_edits(e1))\n",
    "\n",
    "    def check(self, word):\n",
    "        candidates = self._level_one_edits(word) or self._level_two_edits(word) or [word]\n",
    "        valid_candidates = [w for w in candidates if w in self.vocabs]\n",
    "        return sorted([(c, self.word_probas[c]) for c in valid_candidates], key=lambda tup: tup[1], reverse=True)"
   ]
  },
  {
   "cell_type": "code",
   "execution_count": 3,
   "id": "26e3066f",
   "metadata": {},
   "outputs": [],
   "source": [
    "checker = auto_correct(\"./sonnets.txt\")"
   ]
  },
  {
   "cell_type": "code",
   "execution_count": 4,
   "id": "040a4714",
   "metadata": {},
   "outputs": [
    {
     "data": {
      "text/plain": [
       "[('time', 0.003894080996884735),\n",
       " ('him', 0.002113929684023142),\n",
       " ('hide', 0.00027814864263462394),\n",
       " ('home', 0.00016688918558077436)]"
      ]
     },
     "execution_count": 4,
     "metadata": {},
     "output_type": "execute_result"
    }
   ],
   "source": [
    "checker.check(\"hime\")"
   ]
  },
  {
   "cell_type": "code",
   "execution_count": 5,
   "id": "92429200",
   "metadata": {},
   "outputs": [
    {
     "data": {
      "text/plain": [
       "[('as', 0.006731197151757899),\n",
       " ('can', 0.002447708055184691),\n",
       " ('was', 0.0016132621272808188),\n",
       " ('case', 0.00016688918558077436),\n",
       " ('cast', 0.00011125945705384957),\n",
       " ('cars', 5.562972852692479e-05),\n",
       " ('car', 5.562972852692479e-05)]"
      ]
     },
     "execution_count": 5,
     "metadata": {},
     "output_type": "execute_result"
    }
   ],
   "source": [
    "checker.check(\"cas\")"
   ]
  },
  {
   "cell_type": "code",
   "execution_count": 6,
   "id": "544b68fb",
   "metadata": {},
   "outputs": [
    {
     "data": {
      "text/plain": [
       "[('my', 0.02186248331108144),\n",
       " ('i', 0.019526034712950602),\n",
       " ('me', 0.009123275478415665)]"
      ]
     },
     "execution_count": 6,
     "metadata": {},
     "output_type": "execute_result"
    }
   ],
   "source": [
    "checker.check(\"mi\")"
   ]
  },
  {
   "cell_type": "code",
   "execution_count": 7,
   "id": "17b56515",
   "metadata": {},
   "outputs": [
    {
     "data": {
      "text/plain": [
       "[('the', 0.02403204272363151),\n",
       " ('me', 0.009123275478415665),\n",
       " ('be', 0.00789942145082332),\n",
       " ('her', 0.0028371161548731644),\n",
       " ('he', 0.002447708055184691),\n",
       " ('she', 0.001835781041388518),\n",
       " ('we', 0.0008344459279038719),\n",
       " ('hue', 0.00027814864263462394),\n",
       " ('ne', 0.00022251891410769915),\n",
       " ('ye', 0.00011125945705384957),\n",
       " ('re', 5.562972852692479e-05)]"
      ]
     },
     "execution_count": 7,
     "metadata": {},
     "output_type": "execute_result"
    }
   ],
   "source": [
    "checker.check(\"he\")"
   ]
  },
  {
   "cell_type": "code",
   "execution_count": 8,
   "id": "5ccf5502",
   "metadata": {},
   "outputs": [
    {
     "data": {
      "text/plain": [
       "[('be', 0.00789942145082332),\n",
       " ('woe', 0.0006675567423230974),\n",
       " ('boy', 0.00016688918558077436),\n",
       " ('bore', 0.00011125945705384957),\n",
       " ('bow', 0.00011125945705384957),\n",
       " ('foe', 5.562972852692479e-05)]"
      ]
     },
     "execution_count": 8,
     "metadata": {},
     "output_type": "execute_result"
    }
   ],
   "source": [
    "checker.check(\"boe\")"
   ]
  },
  {
   "cell_type": "code",
   "execution_count": null,
   "id": "5fa45023",
   "metadata": {},
   "outputs": [],
   "source": []
  }
 ],
 "metadata": {
  "kernelspec": {
   "display_name": "Python 3 (ipykernel)",
   "language": "python",
   "name": "python3"
  },
  "language_info": {
   "codemirror_mode": {
    "name": "ipython",
    "version": 3
   },
   "file_extension": ".py",
   "mimetype": "text/x-python",
   "name": "python",
   "nbconvert_exporter": "python",
   "pygments_lexer": "ipython3",
   "version": "3.9.7"
  }
 },
 "nbformat": 4,
 "nbformat_minor": 5
}
