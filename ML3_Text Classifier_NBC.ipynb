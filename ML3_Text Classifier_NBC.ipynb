{
 "cells": [
  {
   "cell_type": "markdown",
   "id": "b8166fff",
   "metadata": {},
   "source": [
    "## Twitter - Text Classification"
   ]
  },
  {
   "cell_type": "markdown",
   "id": "5a97f3b9",
   "metadata": {},
   "source": [
    "#### Question - I\n",
    "\n",
    "Create a step-by-step tutorial to build a text classifier using Naïve Bayes algorithm in a Jupyter\n",
    "Notebook. Define each step and evaluate the model"
   ]
  },
  {
   "cell_type": "code",
   "execution_count": 36,
   "id": "4b6a029b",
   "metadata": {},
   "outputs": [],
   "source": [
    "import nltk\n",
    "from nltk.corpus import twitter_samples\n",
    "import numpy as np\n",
    "import sklearn"
   ]
  },
  {
   "cell_type": "markdown",
   "id": "60418866",
   "metadata": {},
   "source": [
    "#### Download the dataset"
   ]
  },
  {
   "cell_type": "code",
   "execution_count": 12,
   "id": "e45836e1",
   "metadata": {},
   "outputs": [
    {
     "name": "stderr",
     "output_type": "stream",
     "text": [
      "[nltk_data] Downloading package twitter_samples to\n",
      "[nltk_data]     C:\\Users\\rashm\\AppData\\Roaming\\nltk_data...\n",
      "[nltk_data]   Package twitter_samples is already up-to-date!\n"
     ]
    },
    {
     "data": {
      "text/plain": [
       "True"
      ]
     },
     "execution_count": 12,
     "metadata": {},
     "output_type": "execute_result"
    }
   ],
   "source": [
    "nltk.download('twitter_samples')"
   ]
  },
  {
   "cell_type": "code",
   "execution_count": 17,
   "id": "147347ce",
   "metadata": {},
   "outputs": [
    {
     "name": "stdout",
     "output_type": "stream",
     "text": [
      "<TwitterCorpusReader in 'C:\\\\Users\\\\rashm\\\\AppData\\\\Roaming\\\\nltk_data\\\\corpora\\\\twitter_samples'>\n"
     ]
    }
   ],
   "source": [
    "print(twitter_samples)"
   ]
  },
  {
   "cell_type": "code",
   "execution_count": 7,
   "id": "a538f922",
   "metadata": {},
   "outputs": [],
   "source": [
    "# select the set of positive and negative tweets\n",
    "all_positive_tweets = twitter_samples.strings('positive_tweets.json')\n",
    "all_negative_tweets = twitter_samples.strings('negative_tweets.json')"
   ]
  },
  {
   "cell_type": "code",
   "execution_count": 13,
   "id": "9cc91dbc",
   "metadata": {},
   "outputs": [
    {
     "name": "stdout",
     "output_type": "stream",
     "text": [
      "Number of positive tweets:  5000\n",
      "Number of negative tweets:  5000\n",
      "\n",
      "The type of all_positive_tweets is:  <class 'list'>\n",
      "The type of a tweet entry is:  <class 'str'>\n"
     ]
    }
   ],
   "source": [
    "print('Number of positive tweets: ', len(all_positive_tweets))\n",
    "print('Number of negative tweets: ', len(all_negative_tweets))\n",
    "\n",
    "print('\\nThe type of all_positive_tweets is: ', type(all_positive_tweets))\n",
    "print('The type of a tweet entry is: ', type(all_negative_tweets[0]))"
   ]
  },
  {
   "cell_type": "code",
   "execution_count": 14,
   "id": "0151811a",
   "metadata": {},
   "outputs": [
    {
     "name": "stdout",
     "output_type": "stream",
     "text": [
      "Positive Tweet Example:\n",
      "#FollowFriday @France_Inte @PKuchly57 @Milipol_Paris for being top engaged members in my community this week :)\n",
      "\n",
      "Negative Tweet Example:\n",
      "hopeless for tmr :(\n"
     ]
    }
   ],
   "source": [
    "print(\"Positive Tweet Example:\")\n",
    "print(all_positive_tweets[0])\n",
    "\n",
    "print(\"\\nNegative Tweet Example:\")\n",
    "print(all_negative_tweets[0])"
   ]
  },
  {
   "cell_type": "markdown",
   "id": "344e1a04",
   "metadata": {},
   "source": [
    "### Preprocess tweets"
   ]
  },
  {
   "cell_type": "code",
   "execution_count": 16,
   "id": "740da1d4",
   "metadata": {},
   "outputs": [],
   "source": [
    "import re  # regular expression operations\n",
    "import string\n",
    "\n",
    "from nltk.corpus import stopwords\n",
    "from nltk.stem import PorterStemmer\n",
    "from nltk.tokenize import TweetTokenizer"
   ]
  },
  {
   "cell_type": "markdown",
   "id": "c7486ee4",
   "metadata": {},
   "source": [
    "### Remove hyperlinks, Twitter marks and styles"
   ]
  },
  {
   "cell_type": "code",
   "execution_count": 18,
   "id": "37ad6b2b",
   "metadata": {},
   "outputs": [],
   "source": [
    "def remove_hyperlinks_marks_styles(tweet):\n",
    "    \n",
    "    # remove old style retweet text \"RT\"\n",
    "    new_tweet = re.sub(r'^RT[\\s]+', '', tweet)\n",
    "\n",
    "    # remove hyperlinks\n",
    "    new_tweet = re.sub(r'https?:\\/\\/.*[\\r\\n]*', '', new_tweet)\n",
    "\n",
    "    # remove hashtags, only the sign\n",
    "    new_tweet = re.sub(r'#', '', new_tweet)\n",
    "    \n",
    "    return new_tweet"
   ]
  },
  {
   "cell_type": "markdown",
   "id": "781a5685",
   "metadata": {},
   "source": [
    "### Tokenize the string"
   ]
  },
  {
   "cell_type": "code",
   "execution_count": 19,
   "id": "8b0c0981",
   "metadata": {},
   "outputs": [],
   "source": [
    "tokenizer = TweetTokenizer(preserve_case=False, strip_handles=True,\n",
    "                               reduce_len=True)\n",
    "\n",
    "def tokenize_tweet(tweet):\n",
    "    \n",
    "    tweet_tokens = tokenizer.tokenize(tweet)\n",
    "    \n",
    "    return tweet_tokens"
   ]
  },
  {
   "cell_type": "markdown",
   "id": "71bf0d93",
   "metadata": {},
   "source": [
    "### Remove stop words\n"
   ]
  },
  {
   "cell_type": "code",
   "execution_count": 20,
   "id": "1041780a",
   "metadata": {},
   "outputs": [
    {
     "name": "stderr",
     "output_type": "stream",
     "text": [
      "[nltk_data] Downloading package stopwords to\n",
      "[nltk_data]     C:\\Users\\rashm\\AppData\\Roaming\\nltk_data...\n",
      "[nltk_data]   Package stopwords is already up-to-date!\n"
     ]
    }
   ],
   "source": [
    "nltk.download('stopwords')\n",
    "\n",
    "#Import the english stop words list from NLTK\n",
    "stopwords_english = stopwords.words('english')\n",
    "\n",
    "punctuations = string.punctuation\n",
    "\n",
    "def remove_stopwords_punctuations(tweet_tokens):\n",
    "    \n",
    "    tweets_clean = []\n",
    "    \n",
    "    for word in tweet_tokens:\n",
    "        if (word not in stopwords_english and word not in punctuations):\n",
    "            tweets_clean.append(word)\n",
    "            \n",
    "    return tweets_clean"
   ]
  },
  {
   "cell_type": "markdown",
   "id": "82674007",
   "metadata": {},
   "source": [
    "### Stemming"
   ]
  },
  {
   "cell_type": "code",
   "execution_count": 21,
   "id": "f8db365c",
   "metadata": {},
   "outputs": [],
   "source": [
    "stemmer = PorterStemmer()\n",
    "\n",
    "def get_stem(tweets_clean):\n",
    "    \n",
    "    tweets_stem = []\n",
    "    \n",
    "    for word in tweets_clean:\n",
    "        stem_word = stemmer.stem(word)\n",
    "        tweets_stem.append(stem_word)\n",
    "        \n",
    "    return tweets_stem"
   ]
  },
  {
   "cell_type": "code",
   "execution_count": 23,
   "id": "996ffb13",
   "metadata": {},
   "outputs": [
    {
     "name": "stdout",
     "output_type": "stream",
     "text": [
      "Hello :) Get Youth Job Opportunities follow &gt;&gt; @tolajobjobs @AlettaPetros\n",
      "\n",
      "Removed hyperlinks, Twitter marks and styles:\n",
      "Hello :) Get Youth Job Opportunities follow &gt;&gt; @tolajobjobs @AlettaPetros\n",
      "\n",
      "Tokenize the string:\n",
      "['hello', ':)', 'get', 'youth', 'job', 'opportunities', 'follow', '>', '>']\n",
      "\n",
      "Remove stop words and punctuations:\n",
      "['hello', ':)', 'get', 'youth', 'job', 'opportunities', 'follow']\n",
      "\n",
      "Get stem of each word:\n",
      "['hello', ':)', 'get', 'youth', 'job', 'opportun', 'follow']\n"
     ]
    }
   ],
   "source": [
    "# example to understand\n",
    "tweet_example = all_positive_tweets[2278]\n",
    "print(tweet_example)\n",
    "\n",
    "processed_tweet = remove_hyperlinks_marks_styles(tweet_example)\n",
    "print(\"\\nRemoved hyperlinks, Twitter marks and styles:\")\n",
    "print(processed_tweet)\n",
    "\n",
    "tweet_tokens = tokenize_tweet(processed_tweet)\n",
    "print(\"\\nTokenize the string:\")\n",
    "print(tweet_tokens)\n",
    "\n",
    "tweets_clean = remove_stopwords_punctuations(tweet_tokens)\n",
    "print(\"\\nRemove stop words and punctuations:\")\n",
    "print(tweets_clean)\n",
    "\n",
    "tweets_stem = get_stem(tweets_clean)\n",
    "print(\"\\nGet stem of each word:\")\n",
    "print(tweets_stem)"
   ]
  },
  {
   "cell_type": "markdown",
   "id": "30c24344",
   "metadata": {},
   "source": [
    "### Combine all preprocess techniques"
   ]
  },
  {
   "cell_type": "code",
   "execution_count": 24,
   "id": "4f4976eb",
   "metadata": {},
   "outputs": [],
   "source": [
    "def process_tweet(tweet):\n",
    "    \n",
    "    processed_tweet = remove_hyperlinks_marks_styles(tweet)\n",
    "    tweet_tokens = tokenize_tweet(processed_tweet)\n",
    "    tweets_clean = remove_stopwords_punctuations(tweet_tokens)\n",
    "    tweets_stem = get_stem(tweets_clean)\n",
    "    \n",
    "    return tweets_stem"
   ]
  },
  {
   "cell_type": "code",
   "execution_count": 25,
   "id": "812d78d0",
   "metadata": {},
   "outputs": [
    {
     "name": "stdout",
     "output_type": "stream",
     "text": [
      "@seanactual You mean you're not offering? :(\n",
      "['mean', 'offer', ':(']\n"
     ]
    }
   ],
   "source": [
    "tweet_example = all_negative_tweets[1000]\n",
    "print(tweet_example)\n",
    "\n",
    "processed_tweet = process_tweet(tweet_example)\n",
    "print(processed_tweet)"
   ]
  },
  {
   "cell_type": "markdown",
   "id": "05bf3cdf",
   "metadata": {},
   "source": [
    "### split the data"
   ]
  },
  {
   "cell_type": "code",
   "execution_count": 38,
   "id": "a44b9baf",
   "metadata": {},
   "outputs": [],
   "source": [
    "\n",
    "test_pos = all_positive_tweets[4000:]\n",
    "train_pos = all_positive_tweets[:4000]\n",
    "test_neg = all_negative_tweets[4000:]\n",
    "train_neg = all_negative_tweets[:4000]\n",
    "\n",
    "train_x = train_pos + train_neg\n",
    "test_x = test_pos + test_neg\n",
    "\n",
    "train_y = np.append(np.ones(len(train_pos)), np.zeros(len(train_neg)))\n",
    "test_y = np.append(np.ones(len(test_pos)), np.zeros(len(test_neg)))"
   ]
  },
  {
   "cell_type": "markdown",
   "id": "54230bef",
   "metadata": {},
   "source": [
    "### Freq table"
   ]
  },
  {
   "cell_type": "code",
   "execution_count": 39,
   "id": "f9bed5e3",
   "metadata": {},
   "outputs": [],
   "source": [
    "def create_frequency(tweets, ys):\n",
    "    \n",
    "    freq_d = {}\n",
    "\n",
    "   \n",
    "    for tweet, y in zip(tweets, ys):\n",
    "        for word in process_tweet(tweet):\n",
    "            pair=(word,y)\n",
    "            if pair in freq_d:\n",
    "                freq_d[pair]+=1\n",
    "            else:\n",
    "                freq_d[pair]=freq_d.get(pair, 1)\n",
    "    \n",
    "    return freq_d"
   ]
  },
  {
   "cell_type": "code",
   "execution_count": 40,
   "id": "82dd2a47",
   "metadata": {},
   "outputs": [
    {
     "name": "stdout",
     "output_type": "stream",
     "text": [
      "{('happi', 1): 1, ('trick', 0): 1, ('sad', 0): 1, ('tire', 0): 2}\n"
     ]
    }
   ],
   "source": [
    "# testing function\n",
    "\n",
    "tweets = ['i am happy', 'i am tricked', 'i am sad', 'i am tired', 'i am tired']\n",
    "ys = [1, 0, 0, 0, 0]\n",
    "\n",
    "freq_d = create_frequency(tweets, ys)\n",
    "print(freq_d)"
   ]
  },
  {
   "cell_type": "code",
   "execution_count": 41,
   "id": "923bd1a2",
   "metadata": {},
   "outputs": [],
   "source": [
    "freqs = create_frequency(train_x, train_y)"
   ]
  },
  {
   "cell_type": "code",
   "execution_count": 56,
   "id": "7094da67",
   "metadata": {},
   "outputs": [],
   "source": [
    "def train_naive_bayes(freqs, train_x, train_y):\n",
    "    '''\n",
    "    Input:\n",
    "        freqs: dictionary from (word, label) to how often the word appears\n",
    "        train_x: a list of tweets\n",
    "        train_y: a list of labels correponding to the tweets (0,1)\n",
    "    Output:\n",
    "        logprior: the log prior. (equation 3 above)\n",
    "        loglikelihood: the log likelihood of you Naive bayes equation. (equation 6 above)\n",
    "    '''\n",
    "    \n",
    "    loglikelihood = {}\n",
    "    logprior = 0\n",
    "    \n",
    "    # calculate the number of unique words in vocab\n",
    "    unique_words = set([pair[0] for pair in freqs.keys()])\n",
    "    V = len(unique_words)\n",
    "    \n",
    "    # calculate N_pos and N_neg\n",
    "    N_pos = N_neg = 0\n",
    "    for pair in freqs.keys():\n",
    "        \n",
    "        \n",
    "        \n",
    "        \n",
    "        # TODO: get N_pos and N_get\n",
    "        \n",
    "        if pair[1]>0:\n",
    "            N_pos+=freqs[(pair)]\n",
    "            \n",
    "        else:\n",
    "            N_neg+=freqs[(pair)]\n",
    "    # TODO: calculate the number of documents (tweets)\n",
    "    D = train_y.shape[0]\n",
    "    \n",
    "    # TODO: calculate D_pos, the number of positive documents (tweets)\n",
    "    D_pos = sum(train_y)\n",
    "    \n",
    "    # TODO: calculate D_neg, the number of negative documents (tweets)\n",
    "    D_neg =  D- sum(train_y)\n",
    "    \n",
    "    # TODO: calculate logprior\n",
    "    logprior = np.log(D_pos)-np.log(D_neg)\n",
    "    \n",
    "    \n",
    "    # for each unqiue word\n",
    "    for word in unique_words:\n",
    "        \n",
    "        # get the positive and negative frequency of the word\n",
    "        freq_pos = freqs.get((word,1),0)\n",
    "        freq_neg = freqs.get((word,0),0)\n",
    "        \n",
    "        # calculate the probability that word is positive, and negative\n",
    "        p_w_pos = (freq_pos+1)/(N_pos+V)\n",
    "        p_w_neg = (freq_neg+1)/(N_neg+V)\n",
    "        \n",
    "        # calculate the log likelihood of the word\n",
    "        loglikelihood[word] = np.log(p_w_pos/p_w_neg)\n",
    "        \n",
    "    return logprior, loglikelihood\n"
   ]
  },
  {
   "cell_type": "code",
   "execution_count": 57,
   "id": "ce68489f",
   "metadata": {},
   "outputs": [
    {
     "name": "stdout",
     "output_type": "stream",
     "text": [
      "0.0\n",
      "9083\n"
     ]
    }
   ],
   "source": [
    "logprior, loglikelihood = train_naive_bayes(freqs, train_x, train_y)\n",
    "print(logprior)\n",
    "print(len(loglikelihood))"
   ]
  },
  {
   "cell_type": "code",
   "execution_count": 58,
   "id": "a4669113",
   "metadata": {},
   "outputs": [],
   "source": [
    "# UNQ_C4 (UNIQUE CELL IDENTIFIER, DO NOT EDIT)\n",
    "def naive_bayes_predict(tweet, logprior, loglikelihood):\n",
    "    '''\n",
    "    Input:\n",
    "        tweet: a string\n",
    "        logprior: a number\n",
    "        loglikelihood: a dictionary of words mapping to numbers\n",
    "    Output:\n",
    "        p: the sum of all the logliklihoods of each word in the tweet (if found in the dictionary) + logprior (a number)\n",
    "\n",
    "    '''\n",
    "\n",
    "    # TODO: process the tweet to get a list of words\n",
    "    word_l = process_tweet(tweet)\n",
    "\n",
    "    # TODO: initialize probability to zero\n",
    "    p = 0\n",
    "\n",
    "    # TODO: add the logprior\n",
    "    p += logprior\n",
    "\n",
    "    for word in word_l:\n",
    "\n",
    "        # TODO: get log likelihood of each keyword\n",
    "        if word in loglikelihood:\n",
    "            p+=loglikelihood[word]\n",
    "\n",
    "    return p"
   ]
  },
  {
   "cell_type": "code",
   "execution_count": 62,
   "id": "928cc952",
   "metadata": {},
   "outputs": [
    {
     "name": "stdout",
     "output_type": "stream",
     "text": [
      "I am happy -> 2.15\n",
      "You are bad and dangerous -> -0.60\n",
      "I am bad -> -1.29\n",
      "this movie should have been great. -> 2.14\n",
      "great -> 2.14\n",
      "great great -> 4.28\n",
      "great great great -> 6.41\n",
      "great great great great -> 8.55\n",
      "bad bad bad bad -> -5.18\n"
     ]
    }
   ],
   "source": [
    "# Run this cell to test your function\n",
    "for tweet in ['I am happy','You are bad and dangerous' ,'I am bad', 'this movie should have been great.', 'great', 'great great', 'great great great', 'great great great great', 'bad bad bad bad']:\n",
    "    # print( '%s -> %f' % (tweet, naive_bayes_predict(tweet, logprior, loglikelihood)))\n",
    "    p = naive_bayes_predict(tweet, logprior, loglikelihood)\n",
    "#     print(f'{tweet} -> {p:.2f} ({p_category})')\n",
    "    print(f'{tweet} -> {p:.2f}')"
   ]
  },
  {
   "cell_type": "markdown",
   "id": "d146a3a2",
   "metadata": {},
   "source": [
    "# Higher the value , more negative the word is"
   ]
  },
  {
   "cell_type": "markdown",
   "id": "bc563c70",
   "metadata": {},
   "source": [
    "### This way, we have build a naive bayes classifier from scratch"
   ]
  },
  {
   "cell_type": "code",
   "execution_count": null,
   "id": "0b6c39be",
   "metadata": {},
   "outputs": [],
   "source": []
  },
  {
   "cell_type": "markdown",
   "id": "dfc06adc",
   "metadata": {},
   "source": [
    "#### Question - II \n",
    "\n",
    "Define which text preprocessing and text transformation steps did you use for the\n",
    "above. "
   ]
  },
  {
   "cell_type": "code",
   "execution_count": null,
   "id": "af131fbe",
   "metadata": {},
   "outputs": [],
   "source": [
    "Text Preprocessing\n",
    "\n",
    "* Removed Hyperlinks\n",
    "* Removed Hastags\n",
    "* Removed stop words\n",
    "* Removed unnecssary symbols\n",
    "\n",
    "\n",
    "Text transformation\n",
    "\n",
    "* Tokenizing\n",
    "* Stemming"
   ]
  }
 ],
 "metadata": {
  "kernelspec": {
   "display_name": "Python 3",
   "language": "python",
   "name": "python3"
  },
  "language_info": {
   "codemirror_mode": {
    "name": "ipython",
    "version": 3
   },
   "file_extension": ".py",
   "mimetype": "text/x-python",
   "name": "python",
   "nbconvert_exporter": "python",
   "pygments_lexer": "ipython3",
   "version": "3.8.8"
  }
 },
 "nbformat": 4,
 "nbformat_minor": 5
}
