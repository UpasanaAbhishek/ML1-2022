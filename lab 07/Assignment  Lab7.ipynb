{
 "cells": [
  {
   "cell_type": "markdown",
   "id": "0f6b777f",
   "metadata": {},
   "source": [
    "## 3.Fit a CNN model on the dataset which has been assigned to you. Print a classification report to see the model metrics on train and test datasets."
   ]
  },
  {
   "cell_type": "code",
   "execution_count": 1,
   "id": "5734e9f6",
   "metadata": {},
   "outputs": [],
   "source": [
    "# Importing Necessary Libraries\n",
    "\n",
    "import os\n",
    "import cv2\n",
    "import numpy as np\n",
    "import matplotlib.pyplot as plt\n",
    "from keras import models, layers"
   ]
  },
  {
   "cell_type": "code",
   "execution_count": null,
   "id": "6237228c",
   "metadata": {},
   "outputs": [],
   "source": []
  },
  {
   "cell_type": "code",
   "execution_count": 2,
   "id": "fa1b558a",
   "metadata": {},
   "outputs": [],
   "source": [
    "from tensorflow import keras\n",
    "from tensorflow.keras import layers"
   ]
  },
  {
   "cell_type": "code",
   "execution_count": 3,
   "id": "7bbef074",
   "metadata": {},
   "outputs": [],
   "source": [
    "from keras.models import Sequential\n",
    "from keras.layers import Dense, Conv2D, Flatten"
   ]
  },
  {
   "cell_type": "code",
   "execution_count": 4,
   "id": "395f70ad",
   "metadata": {},
   "outputs": [],
   "source": [
    "#!pip install split-folders[full]"
   ]
  },
  {
   "cell_type": "code",
   "execution_count": 5,
   "id": "8bffd7cd",
   "metadata": {},
   "outputs": [],
   "source": [
    "import splitfolders"
   ]
  },
  {
   "cell_type": "code",
   "execution_count": 6,
   "id": "dac4bae4",
   "metadata": {},
   "outputs": [],
   "source": [
    "input_folder ='C:/Users/Tony Tomy/Downloads/data'"
   ]
  },
  {
   "cell_type": "code",
   "execution_count": 7,
   "id": "5581f9c2",
   "metadata": {},
   "outputs": [
    {
     "name": "stderr",
     "output_type": "stream",
     "text": [
      "Copying files: 117 files [00:00, 1819.14 files/s]\n"
     ]
    }
   ],
   "source": [
    "splitfolders.ratio(input_folder, output=\"C:/Users/Tony Tomy/Downloads/dataset\",\n",
    "                  seed=42, ratio=(.7, .2, .1),\n",
    "                  group_prefix=None)"
   ]
  },
  {
   "cell_type": "code",
   "execution_count": 8,
   "id": "97bf0416",
   "metadata": {},
   "outputs": [
    {
     "name": "stdout",
     "output_type": "stream",
     "text": [
      "Number of Target Classes: 9\n",
      "[(0, 'Black'), (1, 'Blue'), (2, 'Brown'), (3, 'Green'), (4, 'Violet'), (5, 'White'), (6, 'orange'), (7, 'red'), (8, 'yellow')]\n"
     ]
    }
   ],
   "source": [
    "# Setting Data Directories\n",
    "\n",
    "train_dir = \"C:/Users/Tony Tomy/Downloads/dataset/train\"\n",
    "test_dir = \"C:/Users/Tony Tomy/Downloads/dataset/test\"\n",
    "\n",
    "# Getting the List of Categories\n",
    "\n",
    "categories = sorted(os.listdir(train_dir))\n",
    "num_classes = len(categories)\n",
    "print('Number of Target Classes:', num_classes)\n",
    "print(list(enumerate(categories)))"
   ]
  },
  {
   "cell_type": "code",
   "execution_count": 9,
   "id": "2ae448b0",
   "metadata": {},
   "outputs": [],
   "source": [
    "categories = sorted(os.listdir(input_folder))"
   ]
  },
  {
   "cell_type": "code",
   "execution_count": 10,
   "id": "9fe766e7",
   "metadata": {},
   "outputs": [
    {
     "data": {
      "text/plain": [
       "['Black',\n",
       " 'Blue',\n",
       " 'Brown',\n",
       " 'Green',\n",
       " 'Violet',\n",
       " 'White',\n",
       " 'orange',\n",
       " 'red',\n",
       " 'yellow']"
      ]
     },
     "execution_count": 10,
     "metadata": {},
     "output_type": "execute_result"
    }
   ],
   "source": [
    "categories"
   ]
  },
  {
   "cell_type": "code",
   "execution_count": 11,
   "id": "25594a03",
   "metadata": {},
   "outputs": [],
   "source": [
    "#pip uninstall opencv-python"
   ]
  },
  {
   "cell_type": "code",
   "execution_count": 12,
   "id": "d37bb521",
   "metadata": {},
   "outputs": [],
   "source": [
    "#pip install opencv-python"
   ]
  },
  {
   "cell_type": "code",
   "execution_count": 13,
   "id": "7d80bf24",
   "metadata": {},
   "outputs": [
    {
     "name": "stdout",
     "output_type": "stream",
     "text": [
      "Images Currently Processed:  1\n",
      "Images Currently Processed:  2\n",
      "Images Currently Processed:  3\n",
      "Images Currently Processed:  4\n",
      "Images Currently Processed:  5\n",
      "Images Currently Processed:  6\n",
      "Images Currently Processed:  7\n",
      "Images Currently Processed:  8\n",
      "Images Currently Processed:  9\n",
      "Images Currently Processed:  10\n",
      "Images Currently Processed:  11\n",
      "Images Currently Processed:  12\n",
      "Images Currently Processed:  13\n",
      "Images Currently Processed:  14\n",
      "Images Currently Processed:  15\n",
      "Images Currently Processed:  16\n",
      "Images Currently Processed:  17\n",
      "Images Currently Processed:  18\n",
      "Images Currently Processed:  19\n",
      "Images Currently Processed:  20\n",
      "Images Currently Processed:  21\n",
      "Images Currently Processed:  22\n",
      "Images Currently Processed:  23\n"
     ]
    }
   ],
   "source": [
    "# Creating Training and Testing Data\n",
    "\n",
    "training_data = []\n",
    "testing_data = []\n",
    "\n",
    "count = 0\n",
    "\n",
    "def create_training_data():\n",
    "    for category in categories:\n",
    "        global count\n",
    "        path = os.path.join(train_dir, category)\n",
    "        num_class = categories.index(category)\n",
    "    for img in sorted(os.listdir(path)):\n",
    "        img_array = cv2.imread(os.path.join(path, img))\n",
    "        count = count + 1\n",
    "        print(\"Images Currently Processed: \", count)\n",
    "        rbg_img_array = cv2.cvtColor(img_array, cv2.COLOR_BGR2RGB)\n",
    "        resized_array = cv2.resize(rbg_img_array, (64,64))\n",
    "        training_data.append([resized_array, num_class])\n",
    "\n",
    "def create_testing_data():\n",
    "    for category in categories:\n",
    "        global count\n",
    "        path = os.path.join(test_dir, category)\n",
    "        num_class = categories.index(category)\n",
    "        for img in sorted(os.listdir(path)):\n",
    "            img_array = cv2.imread(os.path.join(path, img))\n",
    "            count = count + 1\n",
    "            print(\"Images Currently Processed: \", count)\n",
    "            rbg_img_array = cv2.cvtColor(img_array, cv2.COLOR_BGR2RGB)\n",
    "            resized_array = cv2.resize(rbg_img_array, (64,64))\n",
    "            testing_data.append([resized_array, num_class])\n",
    "\n",
    "create_training_data()\n",
    "create_testing_data()"
   ]
  },
  {
   "cell_type": "code",
   "execution_count": 14,
   "id": "42fb7b8f",
   "metadata": {},
   "outputs": [
    {
     "name": "stdout",
     "output_type": "stream",
     "text": [
      "Training Data Shape:  (7, 64, 64, 3)\n",
      "Testing Data Shape:  (16, 64, 64, 3)\n",
      "Training Label Shape:  (7,)\n",
      "Testing Label Shape:  (16,)\n"
     ]
    }
   ],
   "source": [
    "# Creating Training and Testing Numpy Arrays\n",
    "\n",
    "x_train = []\n",
    "y_train = []\n",
    "x_test = []\n",
    "y_test = []\n",
    "\n",
    "for features, label in training_data:\n",
    "    x_train.append(features)\n",
    "    y_train.append(label)\n",
    "\n",
    "for features, label in testing_data:\n",
    "    x_test.append(features)\n",
    "    y_test.append(label)\n",
    "\n",
    "x_train = np.array(x_train)\n",
    "y_train = np.array(y_train)\n",
    "x_test = np.array(x_test)\n",
    "y_test = np.array(y_test)\n",
    "\n",
    "print(\"Training Data Shape: \", x_train.shape)\n",
    "print(\"Testing Data Shape: \", x_test.shape)\n",
    "print(\"Training Label Shape: \", y_train.shape)\n",
    "print(\"Testing Label Shape: \", y_test.shape)"
   ]
  },
  {
   "cell_type": "code",
   "execution_count": 15,
   "id": "5f22de90",
   "metadata": {},
   "outputs": [
    {
     "data": {
      "image/png": "[encoded data removed]",
      "text/plain": [
       "<Figure size 1080x144 with 1 Axes>"
      ]
     },
     "metadata": {
      "needs_background": "light"
     },
     "output_type": "display_data"
    }
   ],
   "source": [
    "# Normalizing\n",
    "\n",
    "x_train = x_train / 255\n",
    "x_test = x_test / 255\n",
    "\n",
    "# Plotting the first entry\n",
    "\n",
    "def plot_sample(X, Y, index):\n",
    "    plt.figure(figsize = (15,2))\n",
    "    plt.imshow(X[index])\n",
    "    plt.xlabel(categories[Y[index]])\n",
    "\n",
    "plot_sample(x_train, y_train, 0)"
   ]
  },
  {
   "cell_type": "code",
   "execution_count": 16,
   "id": "6daa16bf",
   "metadata": {},
   "outputs": [],
   "source": [
    "import tensorflow as tf\n",
    "from tensorflow.keras.datasets import cifar10\n",
    "from tensorflow.keras.preprocessing.image import ImageDataGenerator\n",
    "from tensorflow.keras.models import Sequential\n",
    "from tensorflow.keras.layers import Dense, Dropout, Activation, Flatten\n",
    "from tensorflow.keras.layers import Conv2D, MaxPooling2D"
   ]
  },
  {
   "cell_type": "code",
   "execution_count": 17,
   "id": "45563252",
   "metadata": {},
   "outputs": [
    {
     "name": "stdout",
     "output_type": "stream",
     "text": [
      "Epoch 1/10\n",
      "1/1 [==============================] - 1s 691ms/step - loss: -0.9476 - accuracy: 0.0000e+00 - val_loss: -186.9611 - val_accuracy: 0.0000e+00\n",
      "Epoch 2/10\n",
      "1/1 [==============================] - 0s 133ms/step - loss: -194.1075 - accuracy: 0.0000e+00 - val_loss: -643.3610 - val_accuracy: 0.0000e+00\n",
      "Epoch 3/10\n",
      "1/1 [==============================] - 0s 138ms/step - loss: -668.4304 - accuracy: 0.0000e+00 - val_loss: -1550.6040 - val_accuracy: 0.0000e+00\n",
      "Epoch 4/10\n",
      "1/1 [==============================] - 0s 136ms/step - loss: -1610.4176 - accuracy: 0.0000e+00 - val_loss: -3097.9875 - val_accuracy: 0.0000e+00\n",
      "Epoch 5/10\n",
      "1/1 [==============================] - 0s 133ms/step - loss: -3219.2446 - accuracy: 0.0000e+00 - val_loss: -5508.3569 - val_accuracy: 0.0000e+00\n",
      "Epoch 6/10\n",
      "1/1 [==============================] - 0s 126ms/step - loss: -5729.1504 - accuracy: 0.0000e+00 - val_loss: -9051.0957 - val_accuracy: 0.0000e+00\n",
      "Epoch 7/10\n",
      "1/1 [==============================] - 0s 125ms/step - loss: -9417.5146 - accuracy: 0.0000e+00 - val_loss: -14047.1592 - val_accuracy: 0.0000e+00\n",
      "Epoch 8/10\n",
      "1/1 [==============================] - 0s 130ms/step - loss: -14620.0742 - accuracy: 0.0000e+00 - val_loss: -20843.0625 - val_accuracy: 0.0000e+00\n",
      "Epoch 9/10\n",
      "1/1 [==============================] - 0s 132ms/step - loss: -21705.2168 - accuracy: 0.0000e+00 - val_loss: -29836.9629 - val_accuracy: 0.0000e+00\n",
      "Epoch 10/10\n",
      "1/1 [==============================] - 0s 131ms/step - loss: -31093.5020 - accuracy: 0.0000e+00 - val_loss: -41486.4297 - val_accuracy: 0.0000e+00\n"
     ]
    },
    {
     "data": {
      "text/plain": [
       "<keras.callbacks.History at 0x20196fa24f0>"
      ]
     },
     "execution_count": 17,
     "metadata": {},
     "output_type": "execute_result"
    }
   ],
   "source": [
    "model = Sequential()\n",
    "\n",
    "\n",
    "model.add(Conv2D(256, (3, 3), input_shape=(64, 64, 3)))\n",
    "model.add(Activation('relu'))\n",
    "model.add(MaxPooling2D(pool_size=(2, 2)))\n",
    "\n",
    "model.add(Conv2D(256, (3, 3)))\n",
    "model.add(Activation('relu'))\n",
    "model.add(MaxPooling2D(pool_size=(2, 2)))\n",
    "\n",
    "model.add(Flatten())  # this converts our 3D feature maps to 1D feature vectors\n",
    "\n",
    "model.add(Dense(64))\n",
    "\n",
    "model.add(Dense(1))\n",
    "model.add(Activation('sigmoid'))\n",
    "\n",
    "model.compile(loss='binary_crossentropy',\n",
    "              optimizer='adam',\n",
    "              metrics=['accuracy'])\n",
    "\n",
    "model.fit(x_train, y_train, batch_size=32, epochs=10, validation_split=0.3)"
   ]
  },
  {
   "cell_type": "code",
   "execution_count": 18,
   "id": "1fb0265c",
   "metadata": {},
   "outputs": [
    {
     "name": "stdout",
     "output_type": "stream",
     "text": [
      "Epoch 1/20\n",
      "1/1 [==============================] - 0s 143ms/step - loss: -42497.8984 - accuracy: 0.0000e+00\n",
      "Epoch 2/20\n",
      "1/1 [==============================] - 0s 143ms/step - loss: -57722.8828 - accuracy: 0.0000e+00\n",
      "Epoch 3/20\n",
      "1/1 [==============================] - 0s 145ms/step - loss: -76807.2109 - accuracy: 0.0000e+00\n",
      "Epoch 4/20\n",
      "1/1 [==============================] - 0s 147ms/step - loss: -100390.6328 - accuracy: 0.0000e+00\n",
      "Epoch 5/20\n",
      "1/1 [==============================] - 0s 146ms/step - loss: -129189.6641 - accuracy: 0.0000e+00\n",
      "Epoch 6/20\n",
      "1/1 [==============================] - 0s 147ms/step - loss: -163977.7656 - accuracy: 0.0000e+00\n",
      "Epoch 7/20\n",
      "1/1 [==============================] - 0s 146ms/step - loss: -205609.8594 - accuracy: 0.0000e+00\n",
      "Epoch 8/20\n",
      "1/1 [==============================] - 0s 147ms/step - loss: -255049.1250 - accuracy: 0.0000e+00\n",
      "Epoch 9/20\n",
      "1/1 [==============================] - 0s 145ms/step - loss: -313305.8438 - accuracy: 0.0000e+00\n",
      "Epoch 10/20\n",
      "1/1 [==============================] - 0s 145ms/step - loss: -381502.2500 - accuracy: 0.0000e+00\n",
      "Epoch 11/20\n",
      "1/1 [==============================] - 0s 145ms/step - loss: -460866.8125 - accuracy: 0.0000e+00\n",
      "Epoch 12/20\n",
      "1/1 [==============================] - 0s 147ms/step - loss: -552724.3125 - accuracy: 0.0000e+00\n",
      "Epoch 13/20\n",
      "1/1 [==============================] - 0s 144ms/step - loss: -658514.4375 - accuracy: 0.0000e+00\n",
      "Epoch 14/20\n",
      "1/1 [==============================] - 0s 147ms/step - loss: -779819.5000 - accuracy: 0.0000e+00\n",
      "Epoch 15/20\n",
      "1/1 [==============================] - 0s 147ms/step - loss: -918347.1250 - accuracy: 0.0000e+00\n",
      "Epoch 16/20\n",
      "1/1 [==============================] - 0s 144ms/step - loss: -1075911.7500 - accuracy: 0.0000e+00\n",
      "Epoch 17/20\n",
      "1/1 [==============================] - 0s 148ms/step - loss: -1254464.1250 - accuracy: 0.0000e+00\n",
      "Epoch 18/20\n",
      "1/1 [==============================] - 0s 157ms/step - loss: -1456171.2500 - accuracy: 0.0000e+00\n",
      "Epoch 19/20\n",
      "1/1 [==============================] - 0s 148ms/step - loss: -1683188.7500 - accuracy: 0.0000e+00\n",
      "Epoch 20/20\n",
      "1/1 [==============================] - 0s 146ms/step - loss: -1937938.2500 - accuracy: 0.0000e+00\n"
     ]
    },
    {
     "data": {
      "text/plain": [
       "<keras.callbacks.History at 0x201903f0760>"
      ]
     },
     "execution_count": 18,
     "metadata": {},
     "output_type": "execute_result"
    }
   ],
   "source": [
    "# Fitting the model with Training Data\n",
    "\n",
    "model.fit(x_train, y_train, epochs = 20)"
   ]
  },
  {
   "cell_type": "code",
   "execution_count": 19,
   "id": "8a786f64",
   "metadata": {},
   "outputs": [
    {
     "name": "stdout",
     "output_type": "stream",
     "text": [
      "1/1 [==============================] - 0s 89ms/step - loss: -781917.0625 - accuracy: 0.0625\n",
      "Loss =  -781917.0625\n",
      "Accuracy =  0.0625\n"
     ]
    }
   ],
   "source": [
    "# Calculating Loss and Accuracy\n",
    "\n",
    "(loss, accuracy) = model.evaluate(x_test, y_test)\n",
    "print(\"Loss = \", loss)\n",
    "print(\"Accuracy = \", accuracy)"
   ]
  },
  {
   "cell_type": "code",
   "execution_count": 20,
   "id": "541f41ef",
   "metadata": {},
   "outputs": [
    {
     "name": "stdout",
     "output_type": "stream",
     "text": [
      "1/1 [==============================] - 0s 144ms/step\n",
      "Predictions of First 5 Test Inputs:  [0 0 0 0 0]\n",
      "Actual Classes of First 5 Test Inputs:  [0 0 1 2 2]\n"
     ]
    }
   ],
   "source": [
    "# Making Predictions\n",
    "\n",
    "predictions = model.predict(x_test)\n",
    "predictions = [np.argmax(element) for element in predictions]\n",
    "predictions = np.array(predictions)\n",
    "\n",
    "print(\"Predictions of First 5 Test Inputs: \", predictions[:5])\n",
    "print(\"Actual Classes of First 5 Test Inputs: \", y_test[:5])"
   ]
  },
  {
   "cell_type": "code",
   "execution_count": 21,
   "id": "95992a0c",
   "metadata": {},
   "outputs": [
    {
     "name": "stdout",
     "output_type": "stream",
     "text": [
      "              precision    recall  f1-score   support\n",
      "\n",
      "           0       0.12      1.00      0.22         2\n",
      "           1       0.00      0.00      0.00         1\n",
      "           2       0.00      0.00      0.00         2\n",
      "           3       0.00      0.00      0.00         2\n",
      "           4       0.00      0.00      0.00         2\n",
      "           5       0.00      0.00      0.00         3\n",
      "           6       0.00      0.00      0.00         1\n",
      "           7       0.00      0.00      0.00         2\n",
      "           8       0.00      0.00      0.00         1\n",
      "\n",
      "    accuracy                           0.12        16\n",
      "   macro avg       0.01      0.11      0.02        16\n",
      "weighted avg       0.02      0.12      0.03        16\n",
      "\n"
     ]
    },
    {
     "name": "stderr",
     "output_type": "stream",
     "text": [
      "C:\\Users\\Tony Tomy\\anaconda3\\lib\\site-packages\\sklearn\\metrics\\_classification.py:1245: UndefinedMetricWarning: Precision and F-score are ill-defined and being set to 0.0 in labels with no predicted samples. Use `zero_division` parameter to control this behavior.\n",
      "  _warn_prf(average, modifier, msg_start, len(result))\n",
      "C:\\Users\\Tony Tomy\\anaconda3\\lib\\site-packages\\sklearn\\metrics\\_classification.py:1245: UndefinedMetricWarning: Precision and F-score are ill-defined and being set to 0.0 in labels with no predicted samples. Use `zero_division` parameter to control this behavior.\n",
      "  _warn_prf(average, modifier, msg_start, len(result))\n",
      "C:\\Users\\Tony Tomy\\anaconda3\\lib\\site-packages\\sklearn\\metrics\\_classification.py:1245: UndefinedMetricWarning: Precision and F-score are ill-defined and being set to 0.0 in labels with no predicted samples. Use `zero_division` parameter to control this behavior.\n",
      "  _warn_prf(average, modifier, msg_start, len(result))\n"
     ]
    }
   ],
   "source": [
    "# classification report\n",
    "from sklearn.metrics import classification_report\n",
    "print(classification_report(y_test, predictions))"
   ]
  },
  {
   "cell_type": "code",
   "execution_count": null,
   "id": "58151020",
   "metadata": {},
   "outputs": [],
   "source": []
  },
  {
   "cell_type": "code",
   "execution_count": null,
   "id": "cbd84856",
   "metadata": {},
   "outputs": [],
   "source": []
  },
  {
   "cell_type": "markdown",
   "id": "2f0aa0da",
   "metadata": {},
   "source": [
    "## 1. Have you come across Grid Search Cross Validation? Fit any two models covered in previous classes and optimize them using Grid search CV."
   ]
  },
  {
   "cell_type": "code",
   "execution_count": 1,
   "id": "16dc7713",
   "metadata": {},
   "outputs": [
    {
     "name": "stdout",
     "output_type": "stream",
     "text": [
      "              precision    recall  f1-score   support\n",
      "\n",
      "           0       0.95      0.85      0.90        66\n",
      "           1       0.91      0.97      0.94       105\n",
      "\n",
      "    accuracy                           0.92       171\n",
      "   macro avg       0.93      0.91      0.92       171\n",
      "weighted avg       0.93      0.92      0.92       171\n",
      "\n"
     ]
    }
   ],
   "source": [
    "import sklearn\n",
    "from sklearn.datasets import load_breast_cancer\n",
    "from sklearn.metrics import classification_report, confusion_matrix \n",
    "from sklearn.datasets import load_breast_cancer \n",
    "from sklearn.svm import SVC \n",
    "from sklearn.model_selection import GridSearchCV\n",
    "from sklearn.model_selection import train_test_split \n",
    " \n",
    "\n",
    "dataset = load_breast_cancer()\n",
    "X=dataset.data\n",
    "Y=dataset.target\n",
    "X_train, X_test, y_train, y_test = train_test_split( \n",
    "                        X,Y,test_size = 0.30, random_state = 101) \n",
    "\n",
    "model = SVC() \n",
    "model.fit(X_train, y_train) \n",
    "   \n",
    "# print prediction results \n",
    "predictions = model.predict(X_test) \n",
    "print(classification_report(y_test, predictions))"
   ]
  },
  {
   "cell_type": "code",
   "execution_count": 2,
   "id": "b75717e6",
   "metadata": {},
   "outputs": [
    {
     "name": "stdout",
     "output_type": "stream",
     "text": [
      "Fitting 5 folds for each of 8 candidates, totalling 40 fits\n",
      "{'C': 100, 'gamma': 'scale', 'kernel': 'linear'}\n",
      "              precision    recall  f1-score   support\n",
      "\n",
      "           0       0.97      0.91      0.94        66\n",
      "           1       0.94      0.98      0.96       105\n",
      "\n",
      "    accuracy                           0.95       171\n",
      "   macro avg       0.96      0.95      0.95       171\n",
      "weighted avg       0.95      0.95      0.95       171\n",
      "\n"
     ]
    }
   ],
   "source": [
    "param_grid = {'C': [0.1, 1, 10, 100],  \n",
    "              'gamma': [1, 0.1, 0.01, 0.001, 0.0001], \n",
    "              'gamma':['scale', 'auto'],\n",
    "              'kernel': ['linear']}  \n",
    "   \n",
    "grid = GridSearchCV(SVC(), param_grid, refit = True, verbose = 3,n_jobs=-1) \n",
    "   \n",
    "# fitting the model for grid search \n",
    "grid.fit(X_train, y_train) \n",
    " \n",
    "#\n",
    "print(grid.best_params_) \n",
    "grid_predictions = grid.predict(X_test) \n",
    "   \n",
    "# print classification report \n",
    "print(classification_report(y_test, grid_predictions))"
   ]
  },
  {
   "cell_type": "code",
   "execution_count": null,
   "id": "ce6f48a8",
   "metadata": {},
   "outputs": [],
   "source": []
  }
 ],
 "metadata": {
  "kernelspec": {
   "display_name": "Python 3",
   "language": "python",
   "name": "python3"
  },
  "language_info": {
   "codemirror_mode": {
    "name": "ipython",
    "version": 3
   },
   "file_extension": ".py",
   "mimetype": "text/x-python",
   "name": "python",
   "nbconvert_exporter": "python",
   "pygments_lexer": "ipython3",
   "version": "3.8.8"
  }
 },
 "nbformat": 4,
 "nbformat_minor": 5
}
