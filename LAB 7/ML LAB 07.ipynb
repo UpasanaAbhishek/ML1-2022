{
 "cells": [
  {
   "cell_type": "code",
   "execution_count": 8,
   "id": "018abc67",
   "metadata": {},
   "outputs": [],
   "source": [
    "# Importing Necessary Libraries\n",
    "\n",
    "import os\n",
    "import cv2\n",
    "import numpy as np\n",
    "import matplotlib.pyplot as plt\n",
    "from keras import models, layers"
   ]
  },
  {
   "cell_type": "code",
   "execution_count": 3,
   "id": "539f9cef",
   "metadata": {},
   "outputs": [
    {
     "name": "stdout",
     "output_type": "stream",
     "text": [
      "Collecting opencv-python\n",
      "  Downloading opencv_python-4.6.0.66-cp36-abi3-win_amd64.whl (35.6 MB)\n",
      "Requirement already satisfied: numpy>=1.17.3 in c:\\users\\angel philip\\anaconda3\\lib\\site-packages (from opencv-python) (1.20.1)\n",
      "Installing collected packages: opencv-python\n",
      "Successfully installed opencv-python-4.6.0.66\n"
     ]
    }
   ],
   "source": [
    "\n",
    " opencv-python"
   ]
  },
  {
   "cell_type": "code",
   "execution_count": 5,
   "id": "1e4b8ab9",
   "metadata": {},
   "outputs": [
    {
     "name": "stdout",
     "output_type": "stream",
     "text": [
      "Collecting keras\n",
      "  Downloading keras-2.9.0-py2.py3-none-any.whl (1.6 MB)\n",
      "Installing collected packages: keras\n",
      "Successfully installed keras-2.9.0\n"
     ]
    }
   ],
   "source": [
    "!pip install keras"
   ]
  },
  {
   "cell_type": "code",
   "execution_count": 7,
   "id": "b3fd1916",
   "metadata": {},
   "outputs": [
    {
     "name": "stdout",
     "output_type": "stream",
     "text": [
      "Collecting tensorflow\n",
      "  Downloading tensorflow-2.9.1-cp38-cp38-win_amd64.whl (444.1 MB)\n",
      "Collecting astunparse>=1.6.0\n",
      "  Downloading astunparse-1.6.3-py2.py3-none-any.whl (12 kB)\n",
      "Requirement already satisfied: h5py>=2.9.0 in c:\\users\\angel philip\\anaconda3\\lib\\site-packages (from tensorflow) (2.10.0)\n",
      "Collecting tensorflow-estimator<2.10.0,>=2.9.0rc0\n",
      "  Downloading tensorflow_estimator-2.9.0-py2.py3-none-any.whl (438 kB)\n",
      "Collecting opt-einsum>=2.3.2\n",
      "  Downloading opt_einsum-3.3.0-py3-none-any.whl (65 kB)\n",
      "Collecting protobuf<3.20,>=3.9.2\n",
      "  Downloading protobuf-3.19.4-cp38-cp38-win_amd64.whl (895 kB)\n",
      "Collecting tensorflow-io-gcs-filesystem>=0.23.1\n",
      "  Downloading tensorflow_io_gcs_filesystem-0.26.0-cp38-cp38-win_amd64.whl (1.5 MB)\n",
      "Requirement already satisfied: typing-extensions>=3.6.6 in c:\\users\\angel philip\\anaconda3\\lib\\site-packages (from tensorflow) (3.7.4.3)\n",
      "Collecting grpcio<2.0,>=1.24.3\n",
      "  Downloading grpcio-1.47.0-cp38-cp38-win_amd64.whl (3.6 MB)\n",
      "Collecting termcolor>=1.1.0\n",
      "  Downloading termcolor-1.1.0.tar.gz (3.9 kB)\n",
      "Requirement already satisfied: six>=1.12.0 in c:\\users\\angel philip\\anaconda3\\lib\\site-packages (from tensorflow) (1.15.0)\n",
      "Requirement already satisfied: numpy>=1.20 in c:\\users\\angel philip\\anaconda3\\lib\\site-packages (from tensorflow) (1.20.1)\n",
      "Requirement already satisfied: setuptools in c:\\users\\angel philip\\anaconda3\\lib\\site-packages (from tensorflow) (52.0.0.post20210125)\n",
      "Collecting absl-py>=1.0.0\n",
      "  Downloading absl_py-1.1.0-py3-none-any.whl (123 kB)\n",
      "Collecting flatbuffers<2,>=1.12\n",
      "  Downloading flatbuffers-1.12-py2.py3-none-any.whl (15 kB)\n",
      "Collecting gast<=0.4.0,>=0.2.1\n",
      "  Downloading gast-0.4.0-py3-none-any.whl (9.8 kB)\n",
      "Requirement already satisfied: packaging in c:\\users\\angel philip\\anaconda3\\lib\\site-packages (from tensorflow) (20.9)\n",
      "Collecting google-pasta>=0.1.1\n",
      "  Downloading google_pasta-0.2.0-py3-none-any.whl (57 kB)\n",
      "Collecting libclang>=13.0.0\n",
      "  Downloading libclang-14.0.1-py2.py3-none-win_amd64.whl (14.2 MB)\n",
      "Collecting keras-preprocessing>=1.1.1\n",
      "  Downloading Keras_Preprocessing-1.1.2-py2.py3-none-any.whl (42 kB)\n",
      "Requirement already satisfied: keras<2.10.0,>=2.9.0rc0 in c:\\users\\angel philip\\anaconda3\\lib\\site-packages (from tensorflow) (2.9.0)\n",
      "Collecting tensorboard<2.10,>=2.9\n",
      "  Downloading tensorboard-2.9.1-py3-none-any.whl (5.8 MB)\n",
      "Requirement already satisfied: wrapt>=1.11.0 in c:\\users\\angel philip\\anaconda3\\lib\\site-packages (from tensorflow) (1.12.1)\n",
      "Requirement already satisfied: wheel<1.0,>=0.23.0 in c:\\users\\angel philip\\anaconda3\\lib\\site-packages (from astunparse>=1.6.0->tensorflow) (0.36.2)\n",
      "Collecting tensorboard-data-server<0.7.0,>=0.6.0\n",
      "  Downloading tensorboard_data_server-0.6.1-py3-none-any.whl (2.4 kB)\n",
      "Requirement already satisfied: werkzeug>=1.0.1 in c:\\users\\angel philip\\anaconda3\\lib\\site-packages (from tensorboard<2.10,>=2.9->tensorflow) (1.0.1)\n",
      "Requirement already satisfied: requests<3,>=2.21.0 in c:\\users\\angel philip\\anaconda3\\lib\\site-packages (from tensorboard<2.10,>=2.9->tensorflow) (2.25.1)\n",
      "Collecting google-auth-oauthlib<0.5,>=0.4.1\n",
      "  Downloading google_auth_oauthlib-0.4.6-py2.py3-none-any.whl (18 kB)\n",
      "Collecting markdown>=2.6.8\n",
      "  Downloading Markdown-3.3.7-py3-none-any.whl (97 kB)\n",
      "Collecting google-auth<3,>=1.6.3\n",
      "  Downloading google_auth-2.9.0-py2.py3-none-any.whl (167 kB)\n",
      "Collecting tensorboard-plugin-wit>=1.6.0\n",
      "  Downloading tensorboard_plugin_wit-1.8.1-py3-none-any.whl (781 kB)\n",
      "Collecting rsa<5,>=3.1.4\n",
      "  Downloading rsa-4.8-py3-none-any.whl (39 kB)\n",
      "Collecting cachetools<6.0,>=2.0.0\n",
      "  Downloading cachetools-5.2.0-py3-none-any.whl (9.3 kB)\n",
      "Collecting pyasn1-modules>=0.2.1\n",
      "  Downloading pyasn1_modules-0.2.8-py2.py3-none-any.whl (155 kB)\n",
      "Collecting requests-oauthlib>=0.7.0\n",
      "  Downloading requests_oauthlib-1.3.1-py2.py3-none-any.whl (23 kB)\n",
      "Collecting importlib-metadata>=4.4\n",
      "  Downloading importlib_metadata-4.12.0-py3-none-any.whl (21 kB)\n",
      "Requirement already satisfied: zipp>=0.5 in c:\\users\\angel philip\\anaconda3\\lib\\site-packages (from importlib-metadata>=4.4->markdown>=2.6.8->tensorboard<2.10,>=2.9->tensorflow) (3.4.1)\n",
      "Collecting pyasn1<0.5.0,>=0.4.6\n",
      "  Downloading pyasn1-0.4.8-py2.py3-none-any.whl (77 kB)\n",
      "Requirement already satisfied: idna<3,>=2.5 in c:\\users\\angel philip\\anaconda3\\lib\\site-packages (from requests<3,>=2.21.0->tensorboard<2.10,>=2.9->tensorflow) (2.10)\n",
      "Requirement already satisfied: certifi>=2017.4.17 in c:\\users\\angel philip\\anaconda3\\lib\\site-packages (from requests<3,>=2.21.0->tensorboard<2.10,>=2.9->tensorflow) (2020.12.5)\n",
      "Requirement already satisfied: chardet<5,>=3.0.2 in c:\\users\\angel philip\\anaconda3\\lib\\site-packages (from requests<3,>=2.21.0->tensorboard<2.10,>=2.9->tensorflow) (4.0.0)\n",
      "Requirement already satisfied: urllib3<1.27,>=1.21.1 in c:\\users\\angel philip\\anaconda3\\lib\\site-packages (from requests<3,>=2.21.0->tensorboard<2.10,>=2.9->tensorflow) (1.26.4)\n",
      "Collecting oauthlib>=3.0.0\n",
      "  Downloading oauthlib-3.2.0-py3-none-any.whl (151 kB)\n",
      "Requirement already satisfied: pyparsing>=2.0.2 in c:\\users\\angel philip\\anaconda3\\lib\\site-packages (from packaging->tensorflow) (2.4.7)\n",
      "Building wheels for collected packages: termcolor\n",
      "  Building wheel for termcolor (setup.py): started\n",
      "  Building wheel for termcolor (setup.py): finished with status 'done'\n",
      "  Created wheel for termcolor: filename=termcolor-1.1.0-py3-none-any.whl size=4829 sha256=8641815721b92b9dee460bae754656b54e56de14982bce9b4e206829ed685a48\n",
      "  Stored in directory: c:\\users\\angel philip\\appdata\\local\\pip\\cache\\wheels\\a0\\16\\9c\\5473df82468f958445479c59e784896fa24f4a5fc024b0f501\n",
      "Successfully built termcolor\n",
      "Installing collected packages: pyasn1, rsa, pyasn1-modules, oauthlib, cachetools, requests-oauthlib, importlib-metadata, google-auth, tensorboard-plugin-wit, tensorboard-data-server, protobuf, markdown, grpcio, google-auth-oauthlib, absl-py, termcolor, tensorflow-io-gcs-filesystem, tensorflow-estimator, tensorboard, opt-einsum, libclang, keras-preprocessing, google-pasta, gast, flatbuffers, astunparse, tensorflow\n",
      "  Attempting uninstall: importlib-metadata\n",
      "    Found existing installation: importlib-metadata 3.10.0\n",
      "    Uninstalling importlib-metadata-3.10.0:\n",
      "      Successfully uninstalled importlib-metadata-3.10.0\n",
      "Successfully installed absl-py-1.1.0 astunparse-1.6.3 cachetools-5.2.0 flatbuffers-1.12 gast-0.4.0 google-auth-2.9.0 google-auth-oauthlib-0.4.6 google-pasta-0.2.0 grpcio-1.47.0 importlib-metadata-4.12.0 keras-preprocessing-1.1.2 libclang-14.0.1 markdown-3.3.7 oauthlib-3.2.0 opt-einsum-3.3.0 protobuf-3.19.4 pyasn1-0.4.8 pyasn1-modules-0.2.8 requests-oauthlib-1.3.1 rsa-4.8 tensorboard-2.9.1 tensorboard-data-server-0.6.1 tensorboard-plugin-wit-1.8.1 tensorflow-2.9.1 tensorflow-estimator-2.9.0 tensorflow-io-gcs-filesystem-0.26.0 termcolor-1.1.0\n"
     ]
    }
   ],
   "source": [
    "!pip install tensorflow  "
   ]
  },
  {
   "cell_type": "code",
   "execution_count": 10,
   "id": "eb4597c7",
   "metadata": {},
   "outputs": [
    {
     "name": "stdout",
     "output_type": "stream",
     "text": [
      "Number of Target Classes: 3\n",
      "[(0, 'Bulbasaur'), (1, 'Charmander'), (2, 'Squirtle')]\n"
     ]
    }
   ],
   "source": [
    "# Setting Data Directories\n",
    "\n",
    "train_dir = \"C:/Users/Angel Philip/OneDrive/Desktop/Pokemon/Train\"\n",
    "test_dir = \"C:/Users/Angel Philip/OneDrive/Desktop/Pokemon/Test\"\n",
    "\n",
    "# Getting the List of Categories\n",
    "\n",
    "categories = sorted(os.listdir(train_dir))\n",
    "num_classes = len(categories)\n",
    "print('Number of Target Classes:', num_classes)\n",
    "print(list(enumerate(categories)))"
   ]
  },
  {
   "cell_type": "code",
   "execution_count": 11,
   "id": "a7b2f927",
   "metadata": {},
   "outputs": [
    {
     "name": "stdout",
     "output_type": "stream",
     "text": [
      "Images Currently Processed:  1\n",
      "Images Currently Processed:  2\n",
      "Images Currently Processed:  3\n",
      "Images Currently Processed:  4\n",
      "Images Currently Processed:  5\n",
      "Images Currently Processed:  6\n",
      "Images Currently Processed:  7\n",
      "Images Currently Processed:  8\n",
      "Images Currently Processed:  9\n",
      "Images Currently Processed:  10\n",
      "Images Currently Processed:  11\n",
      "Images Currently Processed:  12\n",
      "Images Currently Processed:  13\n",
      "Images Currently Processed:  14\n",
      "Images Currently Processed:  15\n",
      "Images Currently Processed:  16\n",
      "Images Currently Processed:  17\n",
      "Images Currently Processed:  18\n",
      "Images Currently Processed:  19\n",
      "Images Currently Processed:  20\n",
      "Images Currently Processed:  21\n",
      "Images Currently Processed:  22\n",
      "Images Currently Processed:  23\n",
      "Images Currently Processed:  24\n",
      "Images Currently Processed:  25\n",
      "Images Currently Processed:  26\n",
      "Images Currently Processed:  27\n",
      "Images Currently Processed:  28\n",
      "Images Currently Processed:  29\n",
      "Images Currently Processed:  30\n",
      "Images Currently Processed:  31\n",
      "Images Currently Processed:  32\n",
      "Images Currently Processed:  33\n",
      "Images Currently Processed:  34\n",
      "Images Currently Processed:  35\n",
      "Images Currently Processed:  36\n",
      "Images Currently Processed:  37\n",
      "Images Currently Processed:  38\n",
      "Images Currently Processed:  39\n",
      "Images Currently Processed:  40\n",
      "Images Currently Processed:  41\n",
      "Images Currently Processed:  42\n",
      "Images Currently Processed:  43\n",
      "Images Currently Processed:  44\n",
      "Images Currently Processed:  45\n",
      "Images Currently Processed:  46\n",
      "Images Currently Processed:  47\n",
      "Images Currently Processed:  48\n",
      "Images Currently Processed:  49\n",
      "Images Currently Processed:  50\n",
      "Images Currently Processed:  51\n",
      "Images Currently Processed:  52\n",
      "Images Currently Processed:  53\n",
      "Images Currently Processed:  54\n",
      "Images Currently Processed:  55\n",
      "Images Currently Processed:  56\n",
      "Images Currently Processed:  57\n",
      "Images Currently Processed:  58\n",
      "Images Currently Processed:  59\n",
      "Images Currently Processed:  60\n",
      "Images Currently Processed:  61\n",
      "Images Currently Processed:  62\n",
      "Images Currently Processed:  63\n",
      "Images Currently Processed:  64\n",
      "Images Currently Processed:  65\n",
      "Images Currently Processed:  66\n",
      "Images Currently Processed:  67\n",
      "Images Currently Processed:  68\n",
      "Images Currently Processed:  69\n",
      "Images Currently Processed:  70\n",
      "Images Currently Processed:  71\n",
      "Images Currently Processed:  72\n",
      "Images Currently Processed:  73\n",
      "Images Currently Processed:  74\n",
      "Images Currently Processed:  75\n",
      "Images Currently Processed:  76\n",
      "Images Currently Processed:  77\n",
      "Images Currently Processed:  78\n",
      "Images Currently Processed:  79\n",
      "Images Currently Processed:  80\n",
      "Images Currently Processed:  81\n",
      "Images Currently Processed:  82\n",
      "Images Currently Processed:  83\n",
      "Images Currently Processed:  84\n",
      "Images Currently Processed:  85\n",
      "Images Currently Processed:  86\n",
      "Images Currently Processed:  87\n",
      "Images Currently Processed:  88\n",
      "Images Currently Processed:  89\n",
      "Images Currently Processed:  90\n",
      "Images Currently Processed:  91\n",
      "Images Currently Processed:  92\n",
      "Images Currently Processed:  93\n",
      "Images Currently Processed:  94\n",
      "Images Currently Processed:  95\n",
      "Images Currently Processed:  96\n",
      "Images Currently Processed:  97\n",
      "Images Currently Processed:  98\n",
      "Images Currently Processed:  99\n",
      "Images Currently Processed:  100\n",
      "Images Currently Processed:  101\n",
      "Images Currently Processed:  102\n",
      "Images Currently Processed:  103\n",
      "Images Currently Processed:  104\n",
      "Images Currently Processed:  105\n",
      "Images Currently Processed:  106\n",
      "Images Currently Processed:  107\n",
      "Images Currently Processed:  108\n",
      "Images Currently Processed:  109\n",
      "Images Currently Processed:  110\n",
      "Images Currently Processed:  111\n",
      "Images Currently Processed:  112\n",
      "Images Currently Processed:  113\n",
      "Images Currently Processed:  114\n",
      "Images Currently Processed:  115\n",
      "Images Currently Processed:  116\n",
      "Images Currently Processed:  117\n",
      "Images Currently Processed:  118\n",
      "Images Currently Processed:  119\n",
      "Images Currently Processed:  120\n",
      "Images Currently Processed:  121\n",
      "Images Currently Processed:  122\n",
      "Images Currently Processed:  123\n",
      "Images Currently Processed:  124\n",
      "Images Currently Processed:  125\n",
      "Images Currently Processed:  126\n",
      "Images Currently Processed:  127\n",
      "Images Currently Processed:  128\n",
      "Images Currently Processed:  129\n",
      "Images Currently Processed:  130\n",
      "Images Currently Processed:  131\n",
      "Images Currently Processed:  132\n",
      "Images Currently Processed:  133\n",
      "Images Currently Processed:  134\n",
      "Images Currently Processed:  135\n",
      "Images Currently Processed:  136\n",
      "Images Currently Processed:  137\n",
      "Images Currently Processed:  138\n",
      "Images Currently Processed:  139\n",
      "Images Currently Processed:  140\n",
      "Images Currently Processed:  141\n",
      "Images Currently Processed:  142\n",
      "Images Currently Processed:  143\n",
      "Images Currently Processed:  144\n"
     ]
    }
   ],
   "source": [
    "# Creating Training and Testing Data\n",
    "\n",
    "training_data = []\n",
    "testing_data = []\n",
    "\n",
    "count = 0\n",
    "\n",
    "def create_training_data():\n",
    "  for category in categories:\n",
    "    global count\n",
    "    path = os.path.join(train_dir, category)\n",
    "    num_class = categories.index(category)\n",
    "    for img in sorted(os.listdir(path)):\n",
    "      img_array = cv2.imread(os.path.join(path, img))\n",
    "      count = count + 1\n",
    "      print(\"Images Currently Processed: \", count)\n",
    "      rbg_img_array = cv2.cvtColor(img_array, cv2.COLOR_BGR2RGB)\n",
    "      resized_array = cv2.resize(rbg_img_array, (64,64))\n",
    "      training_data.append([resized_array, num_class])\n",
    "\n",
    "def create_testing_data():\n",
    "  for category in categories:\n",
    "    global count\n",
    "    path = os.path.join(test_dir, category)\n",
    "    num_class = categories.index(category)\n",
    "    for img in sorted(os.listdir(path)):\n",
    "      img_array = cv2.imread(os.path.join(path, img))\n",
    "      count = count + 1\n",
    "      print(\"Images Currently Processed: \", count)\n",
    "      rbg_img_array = cv2.cvtColor(img_array, cv2.COLOR_BGR2RGB)\n",
    "      resized_array = cv2.resize(rbg_img_array, (64,64))\n",
    "      testing_data.append([resized_array, num_class])\n",
    "\n",
    "create_training_data()\n",
    "create_testing_data()"
   ]
  },
  {
   "cell_type": "code",
   "execution_count": 12,
   "id": "3bb921d3",
   "metadata": {},
   "outputs": [
    {
     "name": "stdout",
     "output_type": "stream",
     "text": [
      "Training Data Shape:  (108, 64, 64, 3)\n",
      "Testing Data Shape:  (36, 64, 64, 3)\n",
      "Training Label Shape:  (108,)\n",
      "Testing Label Shape:  (36,)\n"
     ]
    }
   ],
   "source": [
    "# Creating Training and Testing Numpy Arrays\n",
    "\n",
    "x_train = []\n",
    "y_train = []\n",
    "x_test = []\n",
    "y_test = []\n",
    "\n",
    "for features, label in training_data:\n",
    "  x_train.append(features)\n",
    "  y_train.append(label)\n",
    "\n",
    "for features, label in testing_data:\n",
    "  x_test.append(features)\n",
    "  y_test.append(label)\n",
    "\n",
    "x_train = np.array(x_train)\n",
    "y_train = np.array(y_train)\n",
    "x_test = np.array(x_test)\n",
    "y_test = np.array(y_test)\n",
    "\n",
    "print(\"Training Data Shape: \", x_train.shape)\n",
    "print(\"Testing Data Shape: \", x_test.shape)\n",
    "print(\"Training Label Shape: \", y_train.shape)\n",
    "print(\"Testing Label Shape: \", y_test.shape)"
   ]
  },
  {
   "cell_type": "code",
   "execution_count": 13,
   "id": "bc8d9a85",
   "metadata": {},
   "outputs": [
    {
     "data": {
      "image/png": "[encoded data removed]",
      "text/plain": [
       "<Figure size 1080x144 with 1 Axes>"
      ]
     },
     "metadata": {
      "needs_background": "light"
     },
     "output_type": "display_data"
    }
   ],
   "source": [
    "# Normalizing\n",
    "\n",
    "x_train = x_train / 255\n",
    "x_test = x_test / 255\n",
    "\n",
    "# Plotting the first entry\n",
    "\n",
    "def plot_sample(X, Y, index):\n",
    "  plt.figure(figsize = (15,2))\n",
    "  plt.imshow(X[index])\n",
    "  plt.xlabel(categories[Y[index]])\n",
    "\n",
    "plot_sample(x_train, y_train, 0)"
   ]
  },
  {
   "cell_type": "code",
   "execution_count": 14,
   "id": "210d4f3c",
   "metadata": {},
   "outputs": [
    {
     "name": "stdout",
     "output_type": "stream",
     "text": [
      "Model: \"sequential\"\n",
      "_________________________________________________________________\n",
      " Layer (type)                Output Shape              Param #   \n",
      "=================================================================\n",
      " conv2d (Conv2D)             (None, 62, 62, 128)       3584      \n",
      "                                                                 \n",
      " max_pooling2d (MaxPooling2D  (None, 31, 31, 128)      0         \n",
      " )                                                               \n",
      "                                                                 \n",
      " conv2d_1 (Conv2D)           (None, 29, 29, 128)       147584    \n",
      "                                                                 \n",
      " max_pooling2d_1 (MaxPooling  (None, 14, 14, 128)      0         \n",
      " 2D)                                                             \n",
      "                                                                 \n",
      " batch_normalization (BatchN  (None, 14, 14, 128)      512       \n",
      " ormalization)                                                   \n",
      "                                                                 \n",
      " conv2d_2 (Conv2D)           (None, 6, 6, 128)         147584    \n",
      "                                                                 \n",
      " max_pooling2d_2 (MaxPooling  (None, 3, 3, 128)        0         \n",
      " 2D)                                                             \n",
      "                                                                 \n",
      " flatten (Flatten)           (None, 1152)              0         \n",
      "                                                                 \n",
      " dropout (Dropout)           (None, 1152)              0         \n",
      "                                                                 \n",
      " dense (Dense)               (None, 1024)              1180672   \n",
      "                                                                 \n",
      " dense_1 (Dense)             (None, 512)               524800    \n",
      "                                                                 \n",
      " dense_2 (Dense)             (None, 3)                 1539      \n",
      "                                                                 \n",
      "=================================================================\n",
      "Total params: 2,006,275\n",
      "Trainable params: 2,006,019\n",
      "Non-trainable params: 256\n",
      "_________________________________________________________________\n"
     ]
    }
   ],
   "source": [
    "# Creating and Compiling CNN Model\n",
    "\n",
    "cnn = models.Sequential([\n",
    "                         # CNN Layers\n",
    "                         layers.Conv2D(filters = 128, kernel_size = (3,3), activation = 'relu', input_shape = (64,64,3)),\n",
    "                         layers.MaxPooling2D((2,2)),\n",
    "                         layers.Conv2D(filters = 128, kernel_size = (3,3), activation = 'relu'),\n",
    "                         layers.MaxPooling2D((2,2)),\n",
    "                         layers.BatchNormalization(),\n",
    "                         layers.Conv2D(filters = 128, kernel_size = (3,3), strides = (2,2), activation = 'relu'),\n",
    "                         layers.MaxPooling2D((2,2)),\n",
    "                         # Dense Layers\n",
    "                         layers.Flatten(),\n",
    "                         layers.Dropout(0.2),\n",
    "                         layers.Dense(1024, activation = 'relu'),\n",
    "                         layers.Dense(512, activation = 'relu'),\n",
    "                         layers.Dense(num_classes, activation = 'softmax')\n",
    "])\n",
    "\n",
    "cnn.compile(optimizer = 'adam', loss = 'sparse_categorical_crossentropy', metrics = ['accuracy'])\n",
    "cnn.summary()"
   ]
  },
  {
   "cell_type": "code",
   "execution_count": 15,
   "id": "0f74c320",
   "metadata": {},
   "outputs": [
    {
     "name": "stdout",
     "output_type": "stream",
     "text": [
      "Epoch 1/20\n",
      "4/4 [==============================] - 1s 196ms/step - loss: 1.8389 - accuracy: 0.5556\n",
      "Epoch 2/20\n",
      "4/4 [==============================] - 1s 188ms/step - loss: 0.3416 - accuracy: 0.9259\n",
      "Epoch 3/20\n",
      "4/4 [==============================] - 1s 180ms/step - loss: 0.1944 - accuracy: 0.9167\n",
      "Epoch 4/20\n",
      "4/4 [==============================] - 1s 178ms/step - loss: 0.1063 - accuracy: 0.9630\n",
      "Epoch 5/20\n",
      "4/4 [==============================] - 1s 172ms/step - loss: 0.0165 - accuracy: 1.0000\n",
      "Epoch 6/20\n",
      "4/4 [==============================] - 1s 170ms/step - loss: 0.0668 - accuracy: 0.9722\n",
      "Epoch 7/20\n",
      "4/4 [==============================] - 1s 171ms/step - loss: 0.0152 - accuracy: 0.9907\n",
      "Epoch 8/20\n",
      "4/4 [==============================] - 1s 170ms/step - loss: 0.0156 - accuracy: 0.9907\n",
      "Epoch 9/20\n",
      "4/4 [==============================] - 1s 176ms/step - loss: 0.0594 - accuracy: 0.9722\n",
      "Epoch 10/20\n",
      "4/4 [==============================] - 1s 176ms/step - loss: 0.0030 - accuracy: 1.0000\n",
      "Epoch 11/20\n",
      "4/4 [==============================] - 1s 186ms/step - loss: 0.0101 - accuracy: 0.9907\n",
      "Epoch 12/20\n",
      "4/4 [==============================] - 1s 174ms/step - loss: 8.2646e-04 - accuracy: 1.0000\n",
      "Epoch 13/20\n",
      "4/4 [==============================] - 1s 172ms/step - loss: 0.0167 - accuracy: 0.9907\n",
      "Epoch 14/20\n",
      "4/4 [==============================] - 1s 167ms/step - loss: 0.0148 - accuracy: 0.9907\n",
      "Epoch 15/20\n",
      "4/4 [==============================] - 1s 168ms/step - loss: 0.0861 - accuracy: 0.9907\n",
      "Epoch 16/20\n",
      "4/4 [==============================] - 1s 168ms/step - loss: 0.3782 - accuracy: 0.9074\n",
      "Epoch 17/20\n",
      "4/4 [==============================] - 1s 168ms/step - loss: 0.4937 - accuracy: 0.8704\n",
      "Epoch 18/20\n",
      "4/4 [==============================] - 1s 171ms/step - loss: 0.0116 - accuracy: 0.9907\n",
      "Epoch 19/20\n",
      "4/4 [==============================] - 1s 169ms/step - loss: 0.2337 - accuracy: 0.9630\n",
      "Epoch 20/20\n",
      "4/4 [==============================] - 1s 167ms/step - loss: 0.0182 - accuracy: 0.9907\n"
     ]
    },
    {
     "data": {
      "text/plain": [
       "<keras.callbacks.History at 0x2dc97b62a00>"
      ]
     },
     "execution_count": 15,
     "metadata": {},
     "output_type": "execute_result"
    }
   ],
   "source": [
    "# Fitting the model with Training Data\n",
    "\n",
    "cnn.fit(x_train, y_train, epochs = 20)"
   ]
  },
  {
   "cell_type": "code",
   "execution_count": 16,
   "id": "86e68869",
   "metadata": {},
   "outputs": [
    {
     "name": "stdout",
     "output_type": "stream",
     "text": [
      "2/2 [==============================] - 0s 15ms/step - loss: 0.4318 - accuracy: 0.8333\n",
      "Loss =  0.43179428577423096\n",
      "Accuracy =  0.8333333134651184\n"
     ]
    }
   ],
   "source": [
    "# Calculating Loss and Accuracy\n",
    "\n",
    "(loss, accuracy) = cnn.evaluate(x_test, y_test)\n",
    "print(\"Loss = \", loss)\n",
    "print(\"Accuracy = \", accuracy)"
   ]
  },
  {
   "cell_type": "code",
   "execution_count": 17,
   "id": "03c1052e",
   "metadata": {},
   "outputs": [
    {
     "name": "stdout",
     "output_type": "stream",
     "text": [
      "2/2 [==============================] - 0s 14ms/step\n",
      "Predictions of First 5 Test Inputs:  [0 0 0 0 0]\n",
      "Actual Classes of First 5 Test Inputs:  [0 0 0 0 0]\n"
     ]
    }
   ],
   "source": [
    "# Making Predictions\n",
    "\n",
    "predictions = cnn.predict(x_test)\n",
    "predictions = [np.argmax(element) for element in predictions]\n",
    "predictions = np.array(predictions)\n",
    "\n",
    "print(\"Predictions of First 5 Test Inputs: \", predictions[:5])\n",
    "print(\"Actual Classes of First 5 Test Inputs: \", y_test[:5])"
   ]
  },
  {
   "cell_type": "code",
   "execution_count": 19,
   "id": "07b019e3",
   "metadata": {},
   "outputs": [
    {
     "name": "stdout",
     "output_type": "stream",
     "text": [
      "              precision    recall  f1-score   support\n",
      "\n",
      "           0       0.71      1.00      0.83        12\n",
      "           1       0.92      1.00      0.96        12\n",
      "           2       1.00      0.50      0.67        12\n",
      "\n",
      "    accuracy                           0.83        36\n",
      "   macro avg       0.88      0.83      0.82        36\n",
      "weighted avg       0.88      0.83      0.82        36\n",
      "\n"
     ]
    }
   ],
   "source": [
    "# classification report\n",
    "from sklearn.metrics import classification_report\n",
    "print(classification_report(y_test, predictions))"
   ]
  },
  {
   "cell_type": "code",
   "execution_count": null,
   "id": "b77329f3",
   "metadata": {},
   "outputs": [],
   "source": []
  }
 ],
 "metadata": {
  "kernelspec": {
   "display_name": "Python 3",
   "language": "python",
   "name": "python3"
  },
  "language_info": {
   "codemirror_mode": {
    "name": "ipython",
    "version": 3
   },
   "file_extension": ".py",
   "mimetype": "text/x-python",
   "name": "python",
   "nbconvert_exporter": "python",
   "pygments_lexer": "ipython3",
   "version": "3.8.8"
  }
 },
 "nbformat": 4,
 "nbformat_minor": 5
}
