{
 "cells": [
  {
   "cell_type": "code",
   "execution_count": 6,
   "id": "f72f01e4",
   "metadata": {
    "_cell_guid": "79c7e3d0-c299-4dcb-8224-4455121ee9b0",
    "_uuid": "d629ff2d2480ee46fbb7e2d37f6b5fab8052498a",
    "execution": {
     "iopub.execute_input": "2022-01-12T16:48:33.492576Z",
     "iopub.status.busy": "2022-01-12T16:48:33.491967Z",
     "iopub.status.idle": "2022-01-12T16:48:38.904106Z",
     "shell.execute_reply": "2022-01-12T16:48:38.903609Z",
     "shell.execute_reply.started": "2022-01-12T16:42:19.261318Z"
    },
    "papermill": {
     "duration": 5.43533,
     "end_time": "2022-01-12T16:48:38.904243",
     "exception": false,
     "start_time": "2022-01-12T16:48:33.468913",
     "status": "completed"
    },
    "tags": []
   },
   "outputs": [],
   "source": [
    "import numpy as np\n",
    "import pandas as pd\n",
    "from scipy.spatial import distance as dist\n",
    "import matplotlib.pyplot as plt\n",
    "import os\n",
    "import cv2\n",
    "import seaborn as sns\n",
    "from tqdm import tqdm \n",
    "from sklearn.utils import shuffle\n",
    "from sklearn import decomposition\n",
    "from sklearn.model_selection import train_test_split\n",
    "from sklearn.metrics import accuracy_score, confusion_matrix\n",
    "import tensorflow as tf\n",
    "import keras\n",
    "from keras.applications.vgg16 import VGG16 \n",
    "from keras.preprocessing import image\n",
    "from keras.applications.vgg16 import preprocess_input\n",
    "from keras.models import Sequential, Model \n",
    "from keras.initializers import he_normal\n",
    "from keras.layers import Lambda, SeparableConv2D, BatchNormalization, Dropout, MaxPooling2D, Input, Dense, Conv2D, Activation, Flatten \n",
    "from keras.callbacks import EarlyStopping, ReduceLROnPlateau, ModelCheckpoint\n"
   ]
  },
  {
   "cell_type": "markdown",
   "id": "30ada727",
   "metadata": {
    "papermill": {
     "duration": 0.018104,
     "end_time": "2022-01-12T16:48:38.939895",
     "exception": false,
     "start_time": "2022-01-12T16:48:38.921791",
     "status": "completed"
    },
    "tags": []
   },
   "source": [
    "# Loading Data:"
   ]
  },
  {
   "cell_type": "code",
   "execution_count": 7,
   "id": "867948e4",
   "metadata": {
    "execution": {
     "iopub.execute_input": "2022-01-12T16:48:38.977841Z",
     "iopub.status.busy": "2022-01-12T16:48:38.977034Z",
     "iopub.status.idle": "2022-01-12T16:48:38.981662Z",
     "shell.execute_reply": "2022-01-12T16:48:38.981209Z",
     "shell.execute_reply.started": "2022-01-12T16:42:19.273500Z"
    },
    "papermill": {
     "duration": 0.024776,
     "end_time": "2022-01-12T16:48:38.981770",
     "exception": false,
     "start_time": "2022-01-12T16:48:38.956994",
     "status": "completed"
    },
    "tags": []
   },
   "outputs": [],
   "source": [
    "class_names = ['EOSINOPHIL', 'LYMPHOCYTE', 'MONOCYTE', 'NEUTROPHIL']\n",
    "nb_classes = len(class_names)\n",
    "image_size = (120,120)"
   ]
  },
  {
   "cell_type": "code",
   "execution_count": 8,
   "id": "88d4eef6",
   "metadata": {
    "execution": {
     "iopub.execute_input": "2022-01-12T16:48:39.025303Z",
     "iopub.status.busy": "2022-01-12T16:48:39.024584Z",
     "iopub.status.idle": "2022-01-12T16:48:39.026647Z",
     "shell.execute_reply": "2022-01-12T16:48:39.027043Z",
     "shell.execute_reply.started": "2022-01-12T16:42:19.283507Z"
    },
    "papermill": {
     "duration": 0.027572,
     "end_time": "2022-01-12T16:48:39.027174",
     "exception": false,
     "start_time": "2022-01-12T16:48:38.999602",
     "status": "completed"
    },
    "tags": []
   },
   "outputs": [],
   "source": [
    "def load_data():\n",
    "    \n",
    "    datasets = ['/kaggle/input/blood-cells/dataset2-master/dataset2-master/images/TRAIN','/kaggle/input/blood-cells/dataset2-master/dataset2-master/images/TEST']\n",
    "    images = []\n",
    "    labels = []\n",
    "\n",
    "    # iterate through training and test sets\n",
    "    count =0\n",
    "    for dataset in datasets:\n",
    "\n",
    "        # iterate through folders in each dataset\n",
    "        for folder in os.listdir(dataset):\n",
    "\n",
    "            if folder in ['EOSINOPHIL']: label = 0\n",
    "            elif folder in ['LYMPHOCYTE']: label = 1\n",
    "            elif folder in ['MONOCYTE']: label = 2\n",
    "            elif folder in ['NEUTROPHIL']: label = 3\n",
    "\n",
    "            # iterate through each image in folder\n",
    "            for file in tqdm(os.listdir(os.path.join(dataset, folder))):\n",
    "\n",
    "                # get pathname of each image\n",
    "                img_path = os.path.join(os.path.join(dataset, folder), file)\n",
    "\n",
    "                # Open \n",
    "                image = cv2.imread(img_path)\n",
    "                image = cv2.cvtColor(image, cv2.COLOR_BGR2RGB)\n",
    "                \n",
    "                # resize the image\n",
    "                image = cv2.resize(image, image_size)\n",
    "\n",
    "                # Append the image and its corresponding label to the output\n",
    "                images.append(image)\n",
    "                labels.append(label)\n",
    "\n",
    "    images = np.array(images, dtype = 'float32')\n",
    "    labels = np.array(labels, dtype = 'int32')\n",
    "\n",
    "    return images, labels"
   ]
  },
  {
   "cell_type": "code",
   "execution_count": 9,
   "id": "e6c1b896",
   "metadata": {
    "execution": {
     "iopub.execute_input": "2022-01-12T16:48:39.064426Z",
     "iopub.status.busy": "2022-01-12T16:48:39.063819Z",
     "iopub.status.idle": "2022-01-12T16:49:40.862230Z",
     "shell.execute_reply": "2022-01-12T16:49:40.861664Z",
     "shell.execute_reply.started": "2022-01-12T16:42:19.323486Z"
    },
    "papermill": {
     "duration": 61.818345,
     "end_time": "2022-01-12T16:49:40.862394",
     "exception": false,
     "start_time": "2022-01-12T16:48:39.044049",
     "status": "completed"
    },
    "tags": []
   },
   "outputs": [
    {
     "name": "stderr",
     "output_type": "stream",
     "text": [
      "100%|██████████| 2478/2478 [00:12<00:00, 199.44it/s]\n",
      "100%|██████████| 2499/2499 [00:12<00:00, 204.48it/s]\n",
      "100%|██████████| 2483/2483 [00:12<00:00, 205.06it/s]\n",
      "100%|██████████| 2497/2497 [00:12<00:00, 199.08it/s]\n",
      "100%|██████████| 620/620 [00:02<00:00, 241.66it/s]\n",
      "100%|██████████| 624/624 [00:02<00:00, 235.84it/s]\n",
      "100%|██████████| 620/620 [00:02<00:00, 232.53it/s]\n",
      "100%|██████████| 623/623 [00:02<00:00, 230.74it/s]\n"
     ]
    }
   ],
   "source": [
    "images, labels = load_data()"
   ]
  },
  {
   "cell_type": "code",
   "execution_count": 10,
   "id": "c0878ff0",
   "metadata": {
    "execution": {
     "iopub.execute_input": "2022-01-12T16:49:41.204055Z",
     "iopub.status.busy": "2022-01-12T16:49:41.203484Z",
     "iopub.status.idle": "2022-01-12T16:49:42.538106Z",
     "shell.execute_reply": "2022-01-12T16:49:42.537183Z",
     "shell.execute_reply.started": "2022-01-12T16:43:24.899125Z"
    },
    "papermill": {
     "duration": 1.505359,
     "end_time": "2022-01-12T16:49:42.538252",
     "exception": false,
     "start_time": "2022-01-12T16:49:41.032893",
     "status": "completed"
    },
    "tags": []
   },
   "outputs": [],
   "source": [
    "images, labels = shuffle(images, labels, random_state=10)\n",
    "\n",
    "train_images, test_images, train_labels, test_labels = train_test_split(images, labels, test_size = 0.2)\n",
    "test_images, val_images, test_labels, val_labels = train_test_split(test_images, test_labels, test_size = 0.5)"
   ]
  },
  {
   "cell_type": "code",
   "execution_count": 11,
   "id": "40de2cd3",
   "metadata": {
    "execution": {
     "iopub.execute_input": "2022-01-12T16:49:42.878109Z",
     "iopub.status.busy": "2022-01-12T16:49:42.877422Z",
     "iopub.status.idle": "2022-01-12T16:49:42.880313Z",
     "shell.execute_reply": "2022-01-12T16:49:42.878585Z",
     "shell.execute_reply.started": "2022-01-12T16:43:26.365841Z"
    },
    "papermill": {
     "duration": 0.178018,
     "end_time": "2022-01-12T16:49:42.880441",
     "exception": false,
     "start_time": "2022-01-12T16:49:42.702423",
     "status": "completed"
    },
    "tags": []
   },
   "outputs": [
    {
     "name": "stdout",
     "output_type": "stream",
     "text": [
      "Number of training examples: 9955\n",
      "Number of validation examples: 1245\n",
      "Number of testing examples: 1244\n",
      "Training images are of shape: (9955, 120, 120, 3)\n",
      "Training labels are of shape: (9955,)\n",
      "Validation images are of shape: (1245, 120, 120, 3)\n",
      "Validation labels are of shape: (1245,)\n",
      "Test images are of shape: (1244, 120, 120, 3)\n",
      "Test labels are of shape: (1244,)\n"
     ]
    }
   ],
   "source": [
    "n_train = train_labels.shape[0]\n",
    "n_val = val_labels.shape[0]\n",
    "n_test = test_labels.shape[0]\n",
    "\n",
    "print(\"Number of training examples: {}\".format(n_train))\n",
    "print(\"Number of validation examples: {}\".format(n_val))\n",
    "print(\"Number of testing examples: {}\".format(n_test))\n",
    "\n",
    "print(\"Training images are of shape: {}\".format(train_images.shape))\n",
    "print(\"Training labels are of shape: {}\".format(train_labels.shape))\n",
    "print(\"Validation images are of shape: {}\".format(val_images.shape))\n",
    "print(\"Validation labels are of shape: {}\".format(val_labels.shape))\n",
    "print(\"Test images are of shape: {}\".format(test_images.shape))\n",
    "print(\"Test labels are of shape: {}\".format(test_labels.shape))\n"
   ]
  },
  {
   "cell_type": "code",
   "execution_count": 12,
   "id": "710f8881",
   "metadata": {
    "execution": {
     "iopub.execute_input": "2022-01-12T16:49:43.219200Z",
     "iopub.status.busy": "2022-01-12T16:49:43.218092Z",
     "iopub.status.idle": "2022-01-12T16:49:43.853346Z",
     "shell.execute_reply": "2022-01-12T16:49:43.853842Z",
     "shell.execute_reply.started": "2022-01-12T16:43:26.379029Z"
    },
    "papermill": {
     "duration": 0.807511,
     "end_time": "2022-01-12T16:49:43.854044",
     "exception": false,
     "start_time": "2022-01-12T16:49:43.046533",
     "status": "completed"
    },
    "tags": []
   },
   "outputs": [],
   "source": [
    "train_images = train_images / 255.0 \n",
    "val_images = val_images / 255.0\n",
    "test_images = test_images / 255.0"
   ]
  },
  {
   "cell_type": "markdown",
   "id": "58f8cf1b",
   "metadata": {
    "papermill": {
     "duration": 0.164777,
     "end_time": "2022-01-12T16:49:44.193133",
     "exception": false,
     "start_time": "2022-01-12T16:49:44.028356",
     "status": "completed"
    },
    "tags": []
   },
   "source": [
    "**Building Custom Model**"
   ]
  },
  {
   "cell_type": "code",
   "execution_count": 13,
   "id": "9424e98d",
   "metadata": {
    "execution": {
     "iopub.execute_input": "2022-01-12T16:49:44.532163Z",
     "iopub.status.busy": "2022-01-12T16:49:44.531604Z",
     "iopub.status.idle": "2022-01-12T16:50:31.344530Z",
     "shell.execute_reply": "2022-01-12T16:50:31.343776Z",
     "shell.execute_reply.started": "2022-01-12T16:45:47.137633Z"
    },
    "papermill": {
     "duration": 46.987104,
     "end_time": "2022-01-12T16:50:31.344721",
     "exception": false,
     "start_time": "2022-01-12T16:49:44.357617",
     "status": "completed"
    },
    "tags": []
   },
   "outputs": [
    {
     "name": "stderr",
     "output_type": "stream",
     "text": [
      "2022-01-12 16:49:44.607004: I tensorflow/stream_executor/cuda/cuda_gpu_executor.cc:937] successful NUMA node read from SysFS had negative value (-1), but there must be at least one NUMA node, so returning NUMA node zero\n",
      "2022-01-12 16:49:44.738840: I tensorflow/stream_executor/cuda/cuda_gpu_executor.cc:937] successful NUMA node read from SysFS had negative value (-1), but there must be at least one NUMA node, so returning NUMA node zero\n",
      "2022-01-12 16:49:44.739627: I tensorflow/stream_executor/cuda/cuda_gpu_executor.cc:937] successful NUMA node read from SysFS had negative value (-1), but there must be at least one NUMA node, so returning NUMA node zero\n",
      "2022-01-12 16:49:44.740780: I tensorflow/core/platform/cpu_feature_guard.cc:142] This TensorFlow binary is optimized with oneAPI Deep Neural Network Library (oneDNN) to use the following CPU instructions in performance-critical operations:  AVX2 AVX512F FMA\n",
      "To enable them in other operations, rebuild TensorFlow with the appropriate compiler flags.\n",
      "2022-01-12 16:49:44.741944: I tensorflow/stream_executor/cuda/cuda_gpu_executor.cc:937] successful NUMA node read from SysFS had negative value (-1), but there must be at least one NUMA node, so returning NUMA node zero\n",
      "2022-01-12 16:49:44.742618: I tensorflow/stream_executor/cuda/cuda_gpu_executor.cc:937] successful NUMA node read from SysFS had negative value (-1), but there must be at least one NUMA node, so returning NUMA node zero\n",
      "2022-01-12 16:49:44.743250: I tensorflow/stream_executor/cuda/cuda_gpu_executor.cc:937] successful NUMA node read from SysFS had negative value (-1), but there must be at least one NUMA node, so returning NUMA node zero\n",
      "2022-01-12 16:49:46.456462: I tensorflow/stream_executor/cuda/cuda_gpu_executor.cc:937] successful NUMA node read from SysFS had negative value (-1), but there must be at least one NUMA node, so returning NUMA node zero\n",
      "2022-01-12 16:49:46.457295: I tensorflow/stream_executor/cuda/cuda_gpu_executor.cc:937] successful NUMA node read from SysFS had negative value (-1), but there must be at least one NUMA node, so returning NUMA node zero\n",
      "2022-01-12 16:49:46.457999: I tensorflow/stream_executor/cuda/cuda_gpu_executor.cc:937] successful NUMA node read from SysFS had negative value (-1), but there must be at least one NUMA node, so returning NUMA node zero\n",
      "2022-01-12 16:49:46.458610: I tensorflow/core/common_runtime/gpu/gpu_device.cc:1510] Created device /job:localhost/replica:0/task:0/device:GPU:0 with 15403 MB memory:  -> device: 0, name: Tesla P100-PCIE-16GB, pci bus id: 0000:00:04.0, compute capability: 6.0\n"
     ]
    },
    {
     "name": "stdout",
     "output_type": "stream",
     "text": [
      "Model: \"sequential\"\n",
      "_________________________________________________________________\n",
      "Layer (type)                 Output Shape              Param #   \n",
      "=================================================================\n",
      "conv2d (Conv2D)              (None, 118, 118, 16)      448       \n",
      "_________________________________________________________________\n",
      "max_pooling2d (MaxPooling2D) (None, 59, 59, 16)        0         \n",
      "_________________________________________________________________\n",
      "conv2d_1 (Conv2D)            (None, 57, 57, 32)        4640      \n",
      "_________________________________________________________________\n",
      "max_pooling2d_1 (MaxPooling2 (None, 28, 28, 32)        0         \n",
      "_________________________________________________________________\n",
      "dropout (Dropout)            (None, 28, 28, 32)        0         \n",
      "_________________________________________________________________\n",
      "conv2d_2 (Conv2D)            (None, 26, 26, 64)        18496     \n",
      "_________________________________________________________________\n",
      "max_pooling2d_2 (MaxPooling2 (None, 13, 13, 64)        0         \n",
      "_________________________________________________________________\n",
      "dropout_1 (Dropout)          (None, 13, 13, 64)        0         \n",
      "_________________________________________________________________\n",
      "flatten (Flatten)            (None, 10816)             0         \n",
      "_________________________________________________________________\n",
      "dense (Dense)                (None, 128)               1384576   \n",
      "_________________________________________________________________\n",
      "dropout_2 (Dropout)          (None, 128)               0         \n",
      "_________________________________________________________________\n",
      "dense_1 (Dense)              (None, 4)                 516       \n",
      "=================================================================\n",
      "Total params: 1,408,676\n",
      "Trainable params: 1,408,676\n",
      "Non-trainable params: 0\n",
      "_________________________________________________________________\n"
     ]
    },
    {
     "name": "stderr",
     "output_type": "stream",
     "text": [
      "2022-01-12 16:49:46.877209: W tensorflow/core/framework/cpu_allocator_impl.cc:80] Allocation of 1720224000 exceeds 10% of free system memory.\n",
      "2022-01-12 16:49:48.594425: W tensorflow/core/framework/cpu_allocator_impl.cc:80] Allocation of 1720224000 exceeds 10% of free system memory.\n",
      "2022-01-12 16:49:49.846160: I tensorflow/compiler/mlir/mlir_graph_optimization_pass.cc:185] None of the MLIR Optimization Passes are enabled (registered 2)\n"
     ]
    },
    {
     "name": "stdout",
     "output_type": "stream",
     "text": [
      "Epoch 1/10\n"
     ]
    },
    {
     "name": "stderr",
     "output_type": "stream",
     "text": [
      "2022-01-12 16:49:51.470267: I tensorflow/stream_executor/cuda/cuda_dnn.cc:369] Loaded cuDNN version 8005\n"
     ]
    },
    {
     "name": "stdout",
     "output_type": "stream",
     "text": [
      "312/312 [==============================] - 10s 10ms/step - loss: 1.3949 - accuracy: 0.2430 - val_loss: 1.3866 - val_accuracy: 0.2369\n",
      "Epoch 2/10\n",
      "312/312 [==============================] - 3s 9ms/step - loss: 1.3865 - accuracy: 0.2480 - val_loss: 1.3868 - val_accuracy: 0.2466\n",
      "Epoch 3/10\n",
      "312/312 [==============================] - 3s 8ms/step - loss: 1.3868 - accuracy: 0.2496 - val_loss: 1.3865 - val_accuracy: 0.2361\n",
      "Epoch 4/10\n",
      "312/312 [==============================] - 3s 8ms/step - loss: 1.3867 - accuracy: 0.2518 - val_loss: 1.3875 - val_accuracy: 0.2683\n",
      "Epoch 5/10\n",
      "312/312 [==============================] - 3s 8ms/step - loss: 1.3861 - accuracy: 0.2578 - val_loss: 1.3879 - val_accuracy: 0.2402\n",
      "Epoch 6/10\n",
      "312/312 [==============================] - 3s 8ms/step - loss: 1.3782 - accuracy: 0.2862 - val_loss: 1.3558 - val_accuracy: 0.3462\n",
      "Epoch 7/10\n",
      "312/312 [==============================] - 3s 9ms/step - loss: 1.0569 - accuracy: 0.5133 - val_loss: 0.7842 - val_accuracy: 0.6827\n",
      "Epoch 8/10\n",
      "312/312 [==============================] - 3s 8ms/step - loss: 0.7060 - accuracy: 0.6869 - val_loss: 0.6391 - val_accuracy: 0.7277\n",
      "Epoch 9/10\n",
      "312/312 [==============================] - 3s 8ms/step - loss: 0.5756 - accuracy: 0.7465 - val_loss: 0.5588 - val_accuracy: 0.7831\n",
      "Epoch 10/10\n",
      "312/312 [==============================] - 3s 8ms/step - loss: 0.5041 - accuracy: 0.7809 - val_loss: 0.5281 - val_accuracy: 0.7807\n"
     ]
    }
   ],
   "source": [
    "model1 = Sequential()\n",
    "\n",
    "# First Conv Layer\n",
    "model1.add(Conv2D(16 , (3,3) , activation = 'relu' , input_shape = (120,120,3)))\n",
    "model1.add(MaxPooling2D(pool_size = (2,2)))\n",
    "\n",
    "# Second Conv Layer\n",
    "model1.add(Conv2D(32, (3,3), activation = 'relu'))\n",
    "model1.add(MaxPooling2D(pool_size = (2,2)))\n",
    "model1.add(Dropout(0.25))\n",
    "\n",
    "# Third Conv Layer\n",
    "model1.add(Conv2D(64, (3,3), activation = 'relu'))\n",
    "model1.add(MaxPooling2D(pool_size = (2,2)))\n",
    "model1.add(Dropout(0.25))\n",
    "\n",
    "# FC layer\n",
    "model1.add(Flatten())\n",
    "model1.add(Dense(units = 128 , activation = 'relu'))\n",
    "model1.add(Dropout(0.25))\n",
    "\n",
    "# Output layer\n",
    "model1.add(Dense(units = 4 , activation = 'softmax'))\n",
    "\n",
    "# Compile\n",
    "model1.compile(optimizer = \"adam\" , loss = 'sparse_categorical_crossentropy' , metrics = ['accuracy'])\n",
    "model1.summary()\n",
    "\n",
    "# Train\n",
    "history1 = model1.fit(\n",
    "    train_images, \n",
    "    train_labels, \n",
    "    batch_size = 32, \n",
    "    epochs = 10, \n",
    "    validation_data=(val_images, val_labels))"
   ]
  },
  {
   "cell_type": "markdown",
   "id": "18eb564b",
   "metadata": {
    "papermill": {
     "duration": 0.36007,
     "end_time": "2022-01-12T16:50:32.185257",
     "exception": false,
     "start_time": "2022-01-12T16:50:31.825187",
     "status": "completed"
    },
    "tags": []
   },
   "source": [
    "# Evaluating performance"
   ]
  },
  {
   "cell_type": "code",
   "execution_count": 14,
   "id": "077beb6f",
   "metadata": {
    "execution": {
     "iopub.execute_input": "2022-01-12T16:50:32.768360Z",
     "iopub.status.busy": "2022-01-12T16:50:32.767544Z",
     "iopub.status.idle": "2022-01-12T16:50:32.770037Z",
     "shell.execute_reply": "2022-01-12T16:50:32.769606Z",
     "shell.execute_reply.started": "2022-01-12T16:46:40.993019Z"
    },
    "papermill": {
     "duration": 0.296103,
     "end_time": "2022-01-12T16:50:32.770150",
     "exception": false,
     "start_time": "2022-01-12T16:50:32.474047",
     "status": "completed"
    },
    "tags": []
   },
   "outputs": [],
   "source": [
    "def plot_accuracy_loss_chart(history):\n",
    "    epochs = [i for i in range(10)]\n",
    "    fig , ax = plt.subplots(1,2)\n",
    "    train_acc = history.history['accuracy']\n",
    "    train_loss = history.history['loss']\n",
    "    val_acc = history.history['val_accuracy']\n",
    "    val_loss = history.history['val_loss']\n",
    "    fig.set_size_inches(20,10)\n",
    "    ax[0].plot(epochs , train_acc , 'go-' , label = 'Training Accuracy')\n",
    "    ax[0].plot(epochs , val_acc , 'ro-' , label = 'Validation Accuracy')\n",
    "    ax[0].set_title('Training & Validation Accuracy')\n",
    "    ax[0].legend()\n",
    "    ax[0].set_xlabel(\"Epochs\")\n",
    "    ax[0].set_ylabel(\"Accuracy\")\n",
    "\n",
    "    ax[1].plot(epochs , train_loss , 'g-o' , label = 'Training Loss')\n",
    "    ax[1].plot(epochs , val_loss , 'r-o' , label = 'Validation Loss')\n",
    "    ax[1].set_title('Training & Validation Loss')\n",
    "    ax[1].legend()\n",
    "    ax[1].set_xlabel(\"Epochs\")\n",
    "    ax[1].set_ylabel(\"Training & Validation Loss\")\n",
    "    plt.show()"
   ]
  },
  {
   "cell_type": "code",
   "execution_count": 15,
   "id": "046ff806",
   "metadata": {
    "execution": {
     "iopub.execute_input": "2022-01-12T16:50:33.359361Z",
     "iopub.status.busy": "2022-01-12T16:50:33.358491Z",
     "iopub.status.idle": "2022-01-12T16:50:33.980116Z",
     "shell.execute_reply": "2022-01-12T16:50:33.980618Z",
     "shell.execute_reply.started": "2022-01-12T16:46:44.089217Z"
    },
    "papermill": {
     "duration": 0.916382,
     "end_time": "2022-01-12T16:50:33.980807",
     "exception": false,
     "start_time": "2022-01-12T16:50:33.064425",
     "status": "completed"
    },
    "tags": []
   },
   "outputs": [
    {
     "data": {
      "image/png": "[encoded data removed]",
      "text/plain": [
       "<Figure size 1440x720 with 2 Axes>"
      ]
     },
     "metadata": {
      "needs_background": "light"
     },
     "output_type": "display_data"
    }
   ],
   "source": [
    "plot_accuracy_loss_chart(history1)"
   ]
  },
  {
   "cell_type": "code",
   "execution_count": 16,
   "id": "2910fc91",
   "metadata": {
    "execution": {
     "iopub.execute_input": "2022-01-12T16:50:34.561356Z",
     "iopub.status.busy": "2022-01-12T16:50:34.560421Z",
     "iopub.status.idle": "2022-01-12T16:50:40.531930Z",
     "shell.execute_reply": "2022-01-12T16:50:40.531396Z",
     "shell.execute_reply.started": "2022-01-12T16:46:48.354955Z"
    },
    "papermill": {
     "duration": 6.264321,
     "end_time": "2022-01-12T16:50:40.532060",
     "exception": false,
     "start_time": "2022-01-12T16:50:34.267739",
     "status": "completed"
    },
    "tags": []
   },
   "outputs": [
    {
     "name": "stdout",
     "output_type": "stream",
     "text": [
      "39/39 [==============================] - 0s 7ms/step - loss: 0.4512 - accuracy: 0.8055\n",
      "Loss of the model  is - test  0.4512442350387573\n",
      "Accuracy of the model is - test 80.54662346839905 %\n",
      "39/39 [==============================] - 0s 5ms/step - loss: 0.5281 - accuracy: 0.7807\n",
      "Loss of the model  is - val  0.528099775314331\n",
      "Accuracy of the model is - val 78.07229161262512 %\n"
     ]
    },
    {
     "name": "stderr",
     "output_type": "stream",
     "text": [
      "2022-01-12 16:50:36.029453: W tensorflow/core/framework/cpu_allocator_impl.cc:80] Allocation of 1720224000 exceeds 10% of free system memory.\n",
      "2022-01-12 16:50:37.738974: W tensorflow/core/framework/cpu_allocator_impl.cc:80] Allocation of 1720224000 exceeds 10% of free system memory.\n"
     ]
    },
    {
     "name": "stdout",
     "output_type": "stream",
     "text": [
      "312/312 [==============================] - 2s 5ms/step - loss: 0.4142 - accuracy: 0.8391\n",
      "Loss of the model  is - train  0.41421571373939514\n",
      "Accuracy of the model is - train 83.90758633613586 %\n"
     ]
    }
   ],
   "source": [
    "\n",
    "results = model1.evaluate(test_images, test_labels)\n",
    "\n",
    "print(\"Loss of the model  is - test \", results[0])\n",
    "print(\"Accuracy of the model is - test\", results[1]*100, \"%\")\n",
    "\n",
    "\n",
    "results = model1.evaluate(val_images, val_labels)\n",
    "\n",
    "print(\"Loss of the model  is - val \", results[0])\n",
    "print(\"Accuracy of the model is - val\", results[1]*100, \"%\")\n",
    "\n",
    "results = model1.evaluate(train_images, train_labels)\n",
    "\n",
    "print(\"Loss of the model  is - train \", results[0])\n",
    "print(\"Accuracy of the model is - train\", results[1]*100, \"%\")"
   ]
  },
  {
   "cell_type": "code",
   "execution_count": 17,
   "id": "7bf0b814",
   "metadata": {
    "execution": {
     "iopub.execute_input": "2022-01-12T16:50:41.159483Z",
     "iopub.status.busy": "2022-01-12T16:50:41.158528Z",
     "iopub.status.idle": "2022-01-12T16:50:41.794718Z",
     "shell.execute_reply": "2022-01-12T16:50:41.794290Z",
     "shell.execute_reply.started": "2022-01-12T16:46:56.908046Z"
    },
    "papermill": {
     "duration": 0.954014,
     "end_time": "2022-01-12T16:50:41.794839",
     "exception": false,
     "start_time": "2022-01-12T16:50:40.840825",
     "status": "completed"
    },
    "tags": []
   },
   "outputs": [
    {
     "data": {
      "text/plain": [
       "array([3, 2, 3, 2, 2, 3, 1, 3, 0, 0, 3, 1, 1, 0, 0])"
      ]
     },
     "execution_count": 17,
     "metadata": {},
     "output_type": "execute_result"
    }
   ],
   "source": [
    "from sklearn.metrics import classification_report\n",
    "\n",
    "predictions = model1.predict(test_images)\n",
    "predictions = np.argmax(predictions,axis=1)\n",
    "predictions[:15]"
   ]
  },
  {
   "cell_type": "code",
   "execution_count": 18,
   "id": "d23418ba",
   "metadata": {
    "execution": {
     "iopub.execute_input": "2022-01-12T16:50:42.412904Z",
     "iopub.status.busy": "2022-01-12T16:50:42.412068Z",
     "iopub.status.idle": "2022-01-12T16:50:42.421554Z",
     "shell.execute_reply": "2022-01-12T16:50:42.420935Z",
     "shell.execute_reply.started": "2022-01-12T16:46:59.779924Z"
    },
    "papermill": {
     "duration": 0.312697,
     "end_time": "2022-01-12T16:50:42.421706",
     "exception": false,
     "start_time": "2022-01-12T16:50:42.109009",
     "status": "completed"
    },
    "tags": []
   },
   "outputs": [
    {
     "name": "stdout",
     "output_type": "stream",
     "text": [
      "                      precision    recall  f1-score   support\n",
      "\n",
      "EOSINOPHIL (Class 0)       0.63      0.73      0.68       299\n",
      "LYMPHOCYTE (Class 1)       0.95      0.95      0.95       317\n",
      "  MONOCYTE (Class 2)       0.97      0.85      0.90       308\n",
      "NEUTROPHIL (Class 3)       0.72      0.69      0.70       320\n",
      "\n",
      "            accuracy                           0.81      1244\n",
      "           macro avg       0.82      0.80      0.81      1244\n",
      "        weighted avg       0.82      0.81      0.81      1244\n",
      "\n"
     ]
    }
   ],
   "source": [
    "print(classification_report(\n",
    "    test_labels, \n",
    "    predictions, \n",
    "    target_names = ['EOSINOPHIL (Class 0)', 'LYMPHOCYTE (Class 1)', 'MONOCYTE (Class 2)', 'NEUTROPHIL (Class 3)']))"
   ]
  },
  {
   "cell_type": "code",
   "execution_count": 19,
   "id": "6f38de14",
   "metadata": {
    "execution": {
     "iopub.execute_input": "2022-01-12T16:50:43.044565Z",
     "iopub.status.busy": "2022-01-12T16:50:43.043711Z",
     "iopub.status.idle": "2022-01-12T16:50:43.062694Z",
     "shell.execute_reply": "2022-01-12T16:50:43.063149Z",
     "shell.execute_reply.started": "2022-01-12T16:47:02.449434Z"
    },
    "papermill": {
     "duration": 0.333245,
     "end_time": "2022-01-12T16:50:43.063295",
     "exception": false,
     "start_time": "2022-01-12T16:50:42.730050",
     "status": "completed"
    },
    "tags": []
   },
   "outputs": [
    {
     "data": {
      "text/html": [
       "<div>\n",
       "<style scoped>\n",
       "    .dataframe tbody tr th:only-of-type {\n",
       "        vertical-align: middle;\n",
       "    }\n",
       "\n",
       "    .dataframe tbody tr th {\n",
       "        vertical-align: top;\n",
       "    }\n",
       "\n",
       "    .dataframe thead th {\n",
       "        text-align: right;\n",
       "    }\n",
       "</style>\n",
       "<table border=\"1\" class=\"dataframe\">\n",
       "  <thead>\n",
       "    <tr style=\"text-align: right;\">\n",
       "      <th></th>\n",
       "      <th>0</th>\n",
       "      <th>1</th>\n",
       "      <th>2</th>\n",
       "      <th>3</th>\n",
       "    </tr>\n",
       "  </thead>\n",
       "  <tbody>\n",
       "    <tr>\n",
       "      <th>0</th>\n",
       "      <td>219</td>\n",
       "      <td>2</td>\n",
       "      <td>3</td>\n",
       "      <td>75</td>\n",
       "    </tr>\n",
       "    <tr>\n",
       "      <th>1</th>\n",
       "      <td>11</td>\n",
       "      <td>300</td>\n",
       "      <td>5</td>\n",
       "      <td>1</td>\n",
       "    </tr>\n",
       "    <tr>\n",
       "      <th>2</th>\n",
       "      <td>21</td>\n",
       "      <td>14</td>\n",
       "      <td>261</td>\n",
       "      <td>12</td>\n",
       "    </tr>\n",
       "    <tr>\n",
       "      <th>3</th>\n",
       "      <td>98</td>\n",
       "      <td>0</td>\n",
       "      <td>0</td>\n",
       "      <td>222</td>\n",
       "    </tr>\n",
       "  </tbody>\n",
       "</table>\n",
       "</div>"
      ],
      "text/plain": [
       "     0    1    2    3\n",
       "0  219    2    3   75\n",
       "1   11  300    5    1\n",
       "2   21   14  261   12\n",
       "3   98    0    0  222"
      ]
     },
     "execution_count": 19,
     "metadata": {},
     "output_type": "execute_result"
    }
   ],
   "source": [
    "cm = confusion_matrix(test_labels, predictions)\n",
    "cm = pd.DataFrame(cm, index = ['0', '1', '2', '3'], columns = ['0', '1', '2', '3'])\n",
    "cm"
   ]
  },
  {
   "cell_type": "code",
   "execution_count": 20,
   "id": "4a360427",
   "metadata": {
    "execution": {
     "iopub.execute_input": "2022-01-12T16:50:43.668988Z",
     "iopub.status.busy": "2022-01-12T16:50:43.667330Z",
     "iopub.status.idle": "2022-01-12T16:50:44.038077Z",
     "shell.execute_reply": "2022-01-12T16:50:44.037597Z",
     "shell.execute_reply.started": "2022-01-12T16:47:04.655458Z"
    },
    "papermill": {
     "duration": 0.675448,
     "end_time": "2022-01-12T16:50:44.038210",
     "exception": false,
     "start_time": "2022-01-12T16:50:43.362762",
     "status": "completed"
    },
    "tags": []
   },
   "outputs": [
    {
     "data": {
      "image/png": "[encoded data removed]",
      "text/plain": [
       "<Figure size 720x720 with 2 Axes>"
      ]
     },
     "metadata": {
      "needs_background": "light"
     },
     "output_type": "display_data"
    }
   ],
   "source": [
    "def plot_confusion_matrix (cm):\n",
    "    plt.figure(figsize = (10,10))\n",
    "    sns.heatmap(\n",
    "        cm, \n",
    "        cmap = 'Blues', \n",
    "        linecolor = 'black', \n",
    "        linewidth = 1, \n",
    "        annot = True, \n",
    "        fmt = '', \n",
    "        xticklabels = class_names, \n",
    "        yticklabels = class_names)\n",
    "    \n",
    "plot_confusion_matrix(cm)"
   ]
  }
 ],
 "metadata": {
  "kernelspec": {
   "display_name": "Python 3",
   "language": "python",
   "name": "python3"
  },
  "language_info": {
   "codemirror_mode": {
    "name": "ipython",
    "version": 3
   },
   "file_extension": ".py",
   "mimetype": "text/x-python",
   "name": "python",
   "nbconvert_exporter": "python",
   "pygments_lexer": "ipython3",
   "version": "3.8.8"
  },
  "papermill": {
   "default_parameters": {},
   "duration": 143.574378,
   "end_time": "2022-01-12T16:50:47.791040",
   "environment_variables": {},
   "exception": null,
   "input_path": "__notebook__.ipynb",
   "output_path": "__notebook__.ipynb",
   "parameters": {},
   "start_time": "2022-01-12T16:48:24.216662",
   "version": "2.3.3"
  }
 },
 "nbformat": 4,
 "nbformat_minor": 5
}
