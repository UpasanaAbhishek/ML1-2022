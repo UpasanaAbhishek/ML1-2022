{
 "cells": [
  {
   "cell_type": "markdown",
   "metadata": {},
   "source": [
    "## CNN model on Surface Cracks\n",
    "\n",
    "\n"
   ]
  },
  {
   "cell_type": "markdown",
   "metadata": {},
   "source": [
    "21BDA26"
   ]
  },
  {
   "cell_type": "code",
   "execution_count": 3,
   "metadata": {
    "_cell_guid": "b1076dfc-b9ad-4769-8c92-a6c4dae69d19",
    "_uuid": "8f2839f25d086af736a60e9eeb907d3b93b6e0e5",
    "execution": {
     "iopub.execute_input": "2022-05-12T00:24:34.590933Z",
     "iopub.status.busy": "2022-05-12T00:24:34.590262Z",
     "iopub.status.idle": "2022-05-12T00:24:40.535038Z",
     "shell.execute_reply": "2022-05-12T00:24:40.534152Z",
     "shell.execute_reply.started": "2022-05-12T00:24:34.590824Z"
    }
   },
   "outputs": [
    {
     "ename": "ModuleNotFoundError",
     "evalue": "No module named 'keras'",
     "output_type": "error",
     "traceback": [
      "\u001b[1;31m---------------------------------------------------------------------------\u001b[0m",
      "\u001b[1;31mModuleNotFoundError\u001b[0m                       Traceback (most recent call last)",
      "\u001b[1;32m<ipython-input-3-dbed157ce865>\u001b[0m in \u001b[0;36m<module>\u001b[1;34m\u001b[0m\n\u001b[0;32m      1\u001b[0m \u001b[1;32mimport\u001b[0m \u001b[0mseaborn\u001b[0m \u001b[1;32mas\u001b[0m \u001b[0msns\u001b[0m\u001b[1;33m\u001b[0m\u001b[1;33m\u001b[0m\u001b[0m\n\u001b[1;32m----> 2\u001b[1;33m \u001b[1;32mimport\u001b[0m \u001b[0mkeras\u001b[0m\u001b[1;33m\u001b[0m\u001b[1;33m\u001b[0m\u001b[0m\n\u001b[0m\u001b[0;32m      3\u001b[0m \u001b[1;32mfrom\u001b[0m \u001b[0mkeras\u001b[0m\u001b[1;33m.\u001b[0m\u001b[0mmodels\u001b[0m \u001b[1;32mimport\u001b[0m \u001b[0mSequential\u001b[0m\u001b[1;33m\u001b[0m\u001b[1;33m\u001b[0m\u001b[0m\n\u001b[0;32m      4\u001b[0m \u001b[1;32mfrom\u001b[0m \u001b[0mkeras\u001b[0m\u001b[1;33m.\u001b[0m\u001b[0mlayers\u001b[0m \u001b[1;32mimport\u001b[0m \u001b[0mDense\u001b[0m\u001b[1;33m,\u001b[0m \u001b[0mConv2D\u001b[0m \u001b[1;33m,\u001b[0m \u001b[0mMaxPool2D\u001b[0m \u001b[1;33m,\u001b[0m \u001b[0mFlatten\u001b[0m \u001b[1;33m,\u001b[0m \u001b[0mDropout\u001b[0m\u001b[1;33m\u001b[0m\u001b[1;33m\u001b[0m\u001b[0m\n\u001b[0;32m      5\u001b[0m \u001b[1;32mfrom\u001b[0m \u001b[0mkeras\u001b[0m\u001b[1;33m.\u001b[0m\u001b[0mpreprocessing\u001b[0m\u001b[1;33m.\u001b[0m\u001b[0mimage\u001b[0m \u001b[1;32mimport\u001b[0m \u001b[0mImageDataGenerator\u001b[0m\u001b[1;33m\u001b[0m\u001b[1;33m\u001b[0m\u001b[0m\n",
      "\u001b[1;31mModuleNotFoundError\u001b[0m: No module named 'keras'"
     ]
    }
   ],
   "source": [
    "import seaborn as sns\n",
    "import keras\n",
    "from keras.models import Sequential\n",
    "from keras.layers import Dense, Conv2D , MaxPool2D , Flatten , Dropout \n",
    "from keras.preprocessing.image import ImageDataGenerator\n",
    "from keras.layers import BatchNormalization\n",
    "from tensorflow.keras.applications import ResNet50\n",
    "from tensorflow.keras.applications.resnet50 import preprocess_input\n",
    "import matplotlib.pyplot as plt\n",
    "\n",
    "from sklearn.metrics import classification_report,confusion_matrix\n",
    "import tensorflow as tf\n",
    "import cv2\n",
    "import os\n",
    "import numpy as np"
   ]
  },
  {
   "cell_type": "code",
   "execution_count": 2,
   "metadata": {
    "execution": {
     "iopub.execute_input": "2022-05-12T00:24:40.537259Z",
     "iopub.status.busy": "2022-05-12T00:24:40.536975Z",
     "iopub.status.idle": "2022-05-12T00:24:40.541738Z",
     "shell.execute_reply": "2022-05-12T00:24:40.540670Z",
     "shell.execute_reply.started": "2022-05-12T00:24:40.537220Z"
    }
   },
   "outputs": [],
   "source": [
    "# labels = ['Negative', 'Positive']\n",
    "# img_size = 128\n",
    "# def read_images(data_dir):\n",
    "#     data = [] \n",
    "#     \n",
    "#     for label in labels: \n",
    "#         path = os.path.join(data_dir, label)\n",
    "#         class_num = labels.index(label)\n",
    "#         count = 5000\n",
    "#         for img in os.listdir(path):\n",
    "#             img_arr = cv2.imread(os.path.join(path, img), cv2.IMREAD_GRAYSCALE)\n",
    "#             resized_arr = cv2.resize(img_arr, (img_size, img_size)) \n",
    "#             data.append([resized_arr, class_num])\n",
    "#             count-=1;\n",
    "#             if count==0:\n",
    "#                 break\n",
    "#     return np.array(data)"
   ]
  },
  {
   "cell_type": "code",
   "execution_count": 3,
   "metadata": {
    "execution": {
     "iopub.execute_input": "2022-05-12T00:24:40.544251Z",
     "iopub.status.busy": "2022-05-12T00:24:40.543656Z",
     "iopub.status.idle": "2022-05-12T00:24:40.553310Z",
     "shell.execute_reply": "2022-05-12T00:24:40.552465Z",
     "shell.execute_reply.started": "2022-05-12T00:24:40.544210Z"
    }
   },
   "outputs": [],
   "source": [
    "labels = ['Negative', 'Positive']\n",
    "img_size = 128\n",
    "def read_images(data_dir):\n",
    "    data = [] \n",
    "    for label in labels: \n",
    "        path = os.path.join(data_dir, label)\n",
    "        class_num = labels.index(label)\n",
    "        for img in os.listdir(path):\n",
    "            img_arr = cv2.imread(os.path.join(path, img), cv2.IMREAD_GRAYSCALE)\n",
    "            resized_arr = cv2.resize(img_arr, (img_size, img_size)) \n",
    "            data.append([resized_arr, class_num])\n",
    "            \n",
    "    return np.array(data)"
   ]
  },
  {
   "cell_type": "code",
   "execution_count": 4,
   "metadata": {
    "execution": {
     "iopub.execute_input": "2022-05-12T00:24:40.556583Z",
     "iopub.status.busy": "2022-05-12T00:24:40.556132Z",
     "iopub.status.idle": "2022-05-12T00:27:10.346817Z",
     "shell.execute_reply": "2022-05-12T00:27:10.345964Z",
     "shell.execute_reply.started": "2022-05-12T00:24:40.556541Z"
    }
   },
   "outputs": [
    {
     "name": "stderr",
     "output_type": "stream",
     "text": [
      "/opt/conda/lib/python3.7/site-packages/ipykernel_launcher.py:13: VisibleDeprecationWarning: Creating an ndarray from ragged nested sequences (which is a list-or-tuple of lists-or-tuples-or ndarrays with different lengths or shapes) is deprecated. If you meant to do this, you must specify 'dtype=object' when creating the ndarray.\n",
      "  del sys.path[0]\n"
     ]
    }
   ],
   "source": [
    "Dataset = read_images('../input/surface-crack-detection')"
   ]
  },
  {
   "cell_type": "code",
   "execution_count": 5,
   "metadata": {
    "execution": {
     "iopub.execute_input": "2022-05-12T00:27:10.348869Z",
     "iopub.status.busy": "2022-05-12T00:27:10.348342Z",
     "iopub.status.idle": "2022-05-12T00:27:12.305011Z",
     "shell.execute_reply": "2022-05-12T00:27:12.304222Z",
     "shell.execute_reply.started": "2022-05-12T00:27:10.348827Z"
    }
   },
   "outputs": [],
   "source": [
    "from sklearn.model_selection import train_test_split\n",
    "\n",
    "x = []\n",
    "y = []\n",
    "\n",
    "for feature, label in Dataset:\n",
    "    x.append(feature)\n",
    "    y.append(label)\n",
    "\n",
    "x = np.array(x).reshape(-1, img_size, img_size, 1)\n",
    "x = x / 255\n",
    "y = np.array(y)\n"
   ]
  },
  {
   "cell_type": "code",
   "execution_count": 6,
   "metadata": {
    "execution": {
     "iopub.execute_input": "2022-05-12T00:27:12.306633Z",
     "iopub.status.busy": "2022-05-12T00:27:12.306346Z",
     "iopub.status.idle": "2022-05-12T00:27:14.313261Z",
     "shell.execute_reply": "2022-05-12T00:27:14.312342Z",
     "shell.execute_reply.started": "2022-05-12T00:27:12.306596Z"
    }
   },
   "outputs": [],
   "source": [
    "X_train, X_test, y_train, y_test = train_test_split(x, y, test_size=0.25, random_state=8)"
   ]
  },
  {
   "cell_type": "code",
   "execution_count": 7,
   "metadata": {
    "execution": {
     "iopub.execute_input": "2022-05-12T00:27:14.315281Z",
     "iopub.status.busy": "2022-05-12T00:27:14.315008Z",
     "iopub.status.idle": "2022-05-12T00:27:14.501685Z",
     "shell.execute_reply": "2022-05-12T00:27:14.500774Z",
     "shell.execute_reply.started": "2022-05-12T00:27:14.315246Z"
    }
   },
   "outputs": [
    {
     "data": {
      "text/plain": [
       "68"
      ]
     },
     "execution_count": 7,
     "metadata": {},
     "output_type": "execute_result"
    }
   ],
   "source": [
    "import gc\n",
    "del x,y\n",
    "gc.collect()"
   ]
  },
  {
   "cell_type": "markdown",
   "metadata": {},
   "source": [
    "## CNN"
   ]
  },
  {
   "cell_type": "code",
   "execution_count": 8,
   "metadata": {
    "execution": {
     "iopub.execute_input": "2022-05-12T00:27:14.503710Z",
     "iopub.status.busy": "2022-05-12T00:27:14.503226Z",
     "iopub.status.idle": "2022-05-12T00:27:17.468241Z",
     "shell.execute_reply": "2022-05-12T00:27:17.467476Z",
     "shell.execute_reply.started": "2022-05-12T00:27:14.503661Z"
    }
   },
   "outputs": [
    {
     "name": "stderr",
     "output_type": "stream",
     "text": [
      "2022-05-12 00:27:14.618387: I tensorflow/stream_executor/cuda/cuda_gpu_executor.cc:937] successful NUMA node read from SysFS had negative value (-1), but there must be at least one NUMA node, so returning NUMA node zero\n"
     ]
    },
    {
     "name": "stdout",
     "output_type": "stream",
     "text": [
      "Model: \"sequential\"\n",
      "_________________________________________________________________\n",
      "Layer (type)                 Output Shape              Param #   \n",
      "=================================================================\n",
      "conv2d (Conv2D)              (None, 128, 128, 2)       20        \n",
      "_________________________________________________________________\n",
      "max_pooling2d (MaxPooling2D) (None, 64, 64, 2)         0         \n",
      "_________________________________________________________________\n",
      "conv2d_1 (Conv2D)            (None, 64, 64, 4)         76        \n",
      "_________________________________________________________________\n",
      "max_pooling2d_1 (MaxPooling2 (None, 32, 32, 4)         0         \n",
      "_________________________________________________________________\n",
      "conv2d_2 (Conv2D)            (None, 32, 32, 8)         296       \n",
      "_________________________________________________________________\n",
      "max_pooling2d_2 (MaxPooling2 (None, 16, 16, 8)         0         \n",
      "_________________________________________________________________\n",
      "conv2d_3 (Conv2D)            (None, 16, 16, 16)        1168      \n",
      "_________________________________________________________________\n",
      "max_pooling2d_3 (MaxPooling2 (None, 8, 8, 16)          0         \n",
      "_________________________________________________________________\n",
      "conv2d_4 (Conv2D)            (None, 8, 8, 32)          4640      \n",
      "_________________________________________________________________\n",
      "max_pooling2d_4 (MaxPooling2 (None, 4, 4, 32)          0         \n",
      "_________________________________________________________________\n",
      "conv2d_5 (Conv2D)            (None, 4, 4, 64)          18496     \n",
      "_________________________________________________________________\n",
      "max_pooling2d_5 (MaxPooling2 (None, 2, 2, 64)          0         \n",
      "_________________________________________________________________\n",
      "conv2d_6 (Conv2D)            (None, 2, 2, 64)          36928     \n",
      "_________________________________________________________________\n",
      "max_pooling2d_6 (MaxPooling2 (None, 1, 1, 64)          0         \n",
      "_________________________________________________________________\n",
      "flatten (Flatten)            (None, 64)                0         \n",
      "_________________________________________________________________\n",
      "dense (Dense)                (None, 128)               8320      \n",
      "_________________________________________________________________\n",
      "dropout (Dropout)            (None, 128)               0         \n",
      "_________________________________________________________________\n",
      "batch_normalization (BatchNo (None, 128)               512       \n",
      "_________________________________________________________________\n",
      "dense_1 (Dense)              (None, 2)                 258       \n",
      "=================================================================\n",
      "Total params: 70,714\n",
      "Trainable params: 70,458\n",
      "Non-trainable params: 256\n",
      "_________________________________________________________________\n"
     ]
    },
    {
     "name": "stderr",
     "output_type": "stream",
     "text": [
      "2022-05-12 00:27:14.722302: I tensorflow/stream_executor/cuda/cuda_gpu_executor.cc:937] successful NUMA node read from SysFS had negative value (-1), but there must be at least one NUMA node, so returning NUMA node zero\n",
      "2022-05-12 00:27:14.723085: I tensorflow/stream_executor/cuda/cuda_gpu_executor.cc:937] successful NUMA node read from SysFS had negative value (-1), but there must be at least one NUMA node, so returning NUMA node zero\n",
      "2022-05-12 00:27:14.724212: I tensorflow/core/platform/cpu_feature_guard.cc:142] This TensorFlow binary is optimized with oneAPI Deep Neural Network Library (oneDNN) to use the following CPU instructions in performance-critical operations:  AVX2 AVX512F FMA\n",
      "To enable them in other operations, rebuild TensorFlow with the appropriate compiler flags.\n",
      "2022-05-12 00:27:14.724561: I tensorflow/stream_executor/cuda/cuda_gpu_executor.cc:937] successful NUMA node read from SysFS had negative value (-1), but there must be at least one NUMA node, so returning NUMA node zero\n",
      "2022-05-12 00:27:14.725304: I tensorflow/stream_executor/cuda/cuda_gpu_executor.cc:937] successful NUMA node read from SysFS had negative value (-1), but there must be at least one NUMA node, so returning NUMA node zero\n",
      "2022-05-12 00:27:14.725995: I tensorflow/stream_executor/cuda/cuda_gpu_executor.cc:937] successful NUMA node read from SysFS had negative value (-1), but there must be at least one NUMA node, so returning NUMA node zero\n",
      "2022-05-12 00:27:16.992637: I tensorflow/stream_executor/cuda/cuda_gpu_executor.cc:937] successful NUMA node read from SysFS had negative value (-1), but there must be at least one NUMA node, so returning NUMA node zero\n",
      "2022-05-12 00:27:16.993543: I tensorflow/stream_executor/cuda/cuda_gpu_executor.cc:937] successful NUMA node read from SysFS had negative value (-1), but there must be at least one NUMA node, so returning NUMA node zero\n",
      "2022-05-12 00:27:16.994274: I tensorflow/stream_executor/cuda/cuda_gpu_executor.cc:937] successful NUMA node read from SysFS had negative value (-1), but there must be at least one NUMA node, so returning NUMA node zero\n",
      "2022-05-12 00:27:16.995628: I tensorflow/core/common_runtime/gpu/gpu_device.cc:1510] Created device /job:localhost/replica:0/task:0/device:GPU:0 with 15403 MB memory:  -> device: 0, name: Tesla P100-PCIE-16GB, pci bus id: 0000:00:04.0, compute capability: 6.0\n"
     ]
    }
   ],
   "source": [
    "model = Sequential()\n",
    "\n",
    "model.add(Conv2D(2,3,padding=\"same\", activation=\"relu\", input_shape = X_train.shape[1:]))\n",
    "model.add(MaxPool2D())\n",
    "\n",
    "model.add(Conv2D(4,3,padding=\"same\", activation=\"relu\", input_shape = X_train.shape[1:]))\n",
    "model.add(MaxPool2D())\n",
    "\n",
    "model.add(Conv2D(8,3,padding=\"same\", activation=\"relu\", input_shape = X_train.shape[1:]))\n",
    "model.add(MaxPool2D())\n",
    "\n",
    "model.add(Conv2D(16,3,padding=\"same\", activation=\"relu\", input_shape = X_train.shape[1:]))\n",
    "model.add(MaxPool2D())\n",
    "\n",
    "model.add(Conv2D(32,3,padding=\"same\", activation=\"relu\", input_shape = X_train.shape[1:]))\n",
    "model.add(MaxPool2D())\n",
    "\n",
    "model.add(Conv2D(64, 3, padding=\"same\", activation=\"relu\"))\n",
    "model.add(MaxPool2D())\n",
    "\n",
    "model.add(Conv2D(64, 3, padding=\"same\", activation=\"relu\"))\n",
    "model.add(MaxPool2D())\n",
    "\n",
    "# model.add(Conv2D(256, 3, padding=\"same\", activation=\"relu\"))\n",
    "# model.add(MaxPool2D())\n",
    "\n",
    "\n",
    "model.add(Flatten())\n",
    "model.add(Dense(128,activation=\"relu\"))\n",
    "model.add(Dropout(0.01))\n",
    "model.add(BatchNormalization())\n",
    "model.add(Dense(2, activation=\"softmax\"))\n",
    "\n",
    "model.summary()"
   ]
  },
  {
   "cell_type": "code",
   "execution_count": 9,
   "metadata": {
    "execution": {
     "iopub.execute_input": "2022-05-12T00:27:17.469987Z",
     "iopub.status.busy": "2022-05-12T00:27:17.469437Z",
     "iopub.status.idle": "2022-05-12T00:27:17.477744Z",
     "shell.execute_reply": "2022-05-12T00:27:17.476708Z",
     "shell.execute_reply.started": "2022-05-12T00:27:17.469944Z"
    }
   },
   "outputs": [],
   "source": [
    "from keras.callbacks import Callback\n",
    "from sklearn.metrics import f1_score, precision_score, recall_score\n",
    "\n",
    "\n",
    "class Metrics(Callback):\n",
    "    def on_train_begin(self, logs={}):\n",
    "        self.val_f1s = []\n",
    "        self.val_recalls = []\n",
    "        self.val_precisions = []\n",
    "\n",
    "    def on_epoch_end(self, epoch, logs={}):\n",
    "        val_predict = (np.asarray(self.model.predict(\n",
    "            self.validation_data[0]))).round()\n",
    "        val_targ = self.validation_data[1]\n",
    "        _val_f1 = f1_score(val_targ, val_predict)\n",
    "        _val_recall = recall_score(val_targ, val_predict)\n",
    "        _val_precision = precision_score(val_targ, val_predict)\n",
    "        self.val_f1s.append(_val_f1)\n",
    "        self.val_recalls.append(_val_recall)\n",
    "        self.val_precisions.append(_val_precision)\n",
    "        return\n",
    "\n",
    "metrics = Metrics()"
   ]
  },
  {
   "cell_type": "code",
   "execution_count": 10,
   "metadata": {
    "execution": {
     "iopub.execute_input": "2022-05-12T00:27:17.481211Z",
     "iopub.status.busy": "2022-05-12T00:27:17.480637Z",
     "iopub.status.idle": "2022-05-12T00:27:17.490961Z",
     "shell.execute_reply": "2022-05-12T00:27:17.490099Z",
     "shell.execute_reply.started": "2022-05-12T00:27:17.481172Z"
    }
   },
   "outputs": [
    {
     "data": {
      "text/plain": [
       "30000"
      ]
     },
     "execution_count": 10,
     "metadata": {},
     "output_type": "execute_result"
    }
   ],
   "source": [
    "len(X_train)"
   ]
  },
  {
   "cell_type": "code",
   "execution_count": 11,
   "metadata": {
    "execution": {
     "iopub.execute_input": "2022-05-12T00:27:17.494033Z",
     "iopub.status.busy": "2022-05-12T00:27:17.493350Z",
     "iopub.status.idle": "2022-05-12T00:47:44.435862Z",
     "shell.execute_reply": "2022-05-12T00:47:44.434739Z",
     "shell.execute_reply.started": "2022-05-12T00:27:17.493994Z"
    }
   },
   "outputs": [
    {
     "name": "stderr",
     "output_type": "stream",
     "text": [
      "2022-05-12 00:27:18.262054: W tensorflow/core/framework/cpu_allocator_impl.cc:80] Allocation of 1966080000 exceeds 10% of free system memory.\n",
      "2022-05-12 00:27:20.340880: W tensorflow/core/framework/cpu_allocator_impl.cc:80] Allocation of 1966080000 exceeds 10% of free system memory.\n",
      "2022-05-12 00:27:21.778016: I tensorflow/compiler/mlir/mlir_graph_optimization_pass.cc:185] None of the MLIR Optimization Passes are enabled (registered 2)\n"
     ]
    },
    {
     "name": "stdout",
     "output_type": "stream",
     "text": [
      "Epoch 1/400\n"
     ]
    },
    {
     "name": "stderr",
     "output_type": "stream",
     "text": [
      "2022-05-12 00:27:23.375522: I tensorflow/stream_executor/cuda/cuda_dnn.cc:369] Loaded cuDNN version 8005\n"
     ]
    },
    {
     "name": "stdout",
     "output_type": "stream",
     "text": [
      "118/118 [==============================] - ETA: 0s - loss: 0.1251 - accuracy: 0.9597"
     ]
    },
    {
     "name": "stderr",
     "output_type": "stream",
     "text": [
      "2022-05-12 00:27:32.639350: W tensorflow/core/framework/cpu_allocator_impl.cc:80] Allocation of 655360000 exceeds 10% of free system memory.\n",
      "2022-05-12 00:27:33.298562: W tensorflow/core/framework/cpu_allocator_impl.cc:80] Allocation of 655360000 exceeds 10% of free system memory.\n"
     ]
    },
    {
     "name": "stdout",
     "output_type": "stream",
     "text": [
      "118/118 [==============================] - 13s 42ms/step - loss: 0.1251 - accuracy: 0.9597 - val_loss: 0.5352 - val_accuracy: 0.5059\n",
      "Epoch 2/400\n",
      "118/118 [==============================] - 3s 24ms/step - loss: 0.0369 - accuracy: 0.9882 - val_loss: 0.1322 - val_accuracy: 0.9863\n",
      "Epoch 3/400\n",
      "118/118 [==============================] - 3s 24ms/step - loss: 0.0307 - accuracy: 0.9904 - val_loss: 0.0706 - val_accuracy: 0.9909\n",
      "Epoch 4/400\n",
      "118/118 [==============================] - 3s 25ms/step - loss: 0.0261 - accuracy: 0.9917 - val_loss: 0.0377 - val_accuracy: 0.9923\n",
      "Epoch 5/400\n",
      "118/118 [==============================] - 3s 24ms/step - loss: 0.0233 - accuracy: 0.9922 - val_loss: 0.0283 - val_accuracy: 0.9899\n",
      "Epoch 6/400\n",
      "118/118 [==============================] - 3s 24ms/step - loss: 0.0200 - accuracy: 0.9934 - val_loss: 0.0184 - val_accuracy: 0.9945\n",
      "Epoch 7/400\n",
      "118/118 [==============================] - 3s 24ms/step - loss: 0.0186 - accuracy: 0.9939 - val_loss: 0.0691 - val_accuracy: 0.9748\n",
      "Epoch 8/400\n",
      "118/118 [==============================] - 3s 25ms/step - loss: 0.0170 - accuracy: 0.9945 - val_loss: 0.0186 - val_accuracy: 0.9934\n",
      "Epoch 9/400\n",
      "118/118 [==============================] - 3s 24ms/step - loss: 0.0149 - accuracy: 0.9950 - val_loss: 0.0220 - val_accuracy: 0.9926\n",
      "Epoch 10/400\n",
      "118/118 [==============================] - 3s 24ms/step - loss: 0.0148 - accuracy: 0.9951 - val_loss: 0.0172 - val_accuracy: 0.9944\n",
      "Epoch 11/400\n",
      "118/118 [==============================] - 3s 24ms/step - loss: 0.0115 - accuracy: 0.9964 - val_loss: 0.0155 - val_accuracy: 0.9953\n",
      "Epoch 12/400\n",
      "118/118 [==============================] - 3s 27ms/step - loss: 0.0113 - accuracy: 0.9964 - val_loss: 0.0369 - val_accuracy: 0.9873\n",
      "Epoch 13/400\n",
      "118/118 [==============================] - 3s 24ms/step - loss: 0.0107 - accuracy: 0.9966 - val_loss: 0.0121 - val_accuracy: 0.9961\n",
      "Epoch 14/400\n",
      "118/118 [==============================] - 3s 24ms/step - loss: 0.0093 - accuracy: 0.9972 - val_loss: 0.0111 - val_accuracy: 0.9966\n",
      "Epoch 15/400\n",
      "118/118 [==============================] - 3s 25ms/step - loss: 0.0085 - accuracy: 0.9975 - val_loss: 0.0158 - val_accuracy: 0.9952\n",
      "Epoch 16/400\n",
      "118/118 [==============================] - 3s 24ms/step - loss: 0.0074 - accuracy: 0.9977 - val_loss: 0.0097 - val_accuracy: 0.9970\n",
      "Epoch 17/400\n",
      "118/118 [==============================] - 3s 24ms/step - loss: 0.0066 - accuracy: 0.9981 - val_loss: 0.0088 - val_accuracy: 0.9977\n",
      "Epoch 18/400\n",
      "118/118 [==============================] - 3s 24ms/step - loss: 0.0060 - accuracy: 0.9983 - val_loss: 0.0104 - val_accuracy: 0.9970\n",
      "Epoch 19/400\n",
      "118/118 [==============================] - 3s 26ms/step - loss: 0.0055 - accuracy: 0.9986 - val_loss: 0.0092 - val_accuracy: 0.9974\n",
      "Epoch 20/400\n",
      "118/118 [==============================] - 3s 25ms/step - loss: 0.0053 - accuracy: 0.9986 - val_loss: 0.0117 - val_accuracy: 0.9968\n",
      "Epoch 21/400\n",
      "118/118 [==============================] - 3s 24ms/step - loss: 0.0048 - accuracy: 0.9988 - val_loss: 0.0169 - val_accuracy: 0.9952\n",
      "Epoch 22/400\n",
      "118/118 [==============================] - 3s 24ms/step - loss: 0.0040 - accuracy: 0.9991 - val_loss: 0.0102 - val_accuracy: 0.9968\n",
      "Epoch 23/400\n",
      "118/118 [==============================] - 3s 26ms/step - loss: 0.0032 - accuracy: 0.9995 - val_loss: 0.0102 - val_accuracy: 0.9970\n",
      "Epoch 24/400\n",
      "118/118 [==============================] - 3s 25ms/step - loss: 0.0036 - accuracy: 0.9991 - val_loss: 0.0108 - val_accuracy: 0.9971\n",
      "Epoch 25/400\n",
      "118/118 [==============================] - 3s 24ms/step - loss: 0.0033 - accuracy: 0.9993 - val_loss: 0.0140 - val_accuracy: 0.9969\n",
      "Epoch 26/400\n",
      "118/118 [==============================] - 3s 24ms/step - loss: 0.0027 - accuracy: 0.9995 - val_loss: 0.0194 - val_accuracy: 0.9947\n",
      "Epoch 27/400\n",
      "118/118 [==============================] - 3s 25ms/step - loss: 0.0021 - accuracy: 0.9996 - val_loss: 0.0098 - val_accuracy: 0.9963\n",
      "Epoch 28/400\n",
      "118/118 [==============================] - 3s 24ms/step - loss: 0.0026 - accuracy: 0.9994 - val_loss: 0.0092 - val_accuracy: 0.9975\n",
      "Epoch 29/400\n",
      "118/118 [==============================] - 3s 24ms/step - loss: 0.0017 - accuracy: 0.9997 - val_loss: 0.0192 - val_accuracy: 0.9953\n",
      "Epoch 30/400\n",
      "118/118 [==============================] - 3s 25ms/step - loss: 0.0019 - accuracy: 0.9996 - val_loss: 0.0336 - val_accuracy: 0.9913\n",
      "Epoch 31/400\n",
      "118/118 [==============================] - 3s 24ms/step - loss: 0.0019 - accuracy: 0.9996 - val_loss: 0.0094 - val_accuracy: 0.9979\n",
      "Epoch 32/400\n",
      "118/118 [==============================] - 3s 24ms/step - loss: 0.0017 - accuracy: 0.9997 - val_loss: 0.0082 - val_accuracy: 0.9979\n",
      "Epoch 33/400\n",
      "118/118 [==============================] - 3s 24ms/step - loss: 0.0013 - accuracy: 0.9997 - val_loss: 0.0091 - val_accuracy: 0.9979\n",
      "Epoch 34/400\n",
      "118/118 [==============================] - 3s 25ms/step - loss: 0.0013 - accuracy: 0.9998 - val_loss: 0.0081 - val_accuracy: 0.9979\n",
      "Epoch 35/400\n",
      "118/118 [==============================] - 3s 27ms/step - loss: 0.0011 - accuracy: 0.9998 - val_loss: 0.0104 - val_accuracy: 0.9971\n",
      "Epoch 36/400\n",
      "118/118 [==============================] - 3s 24ms/step - loss: 0.0012 - accuracy: 0.9997 - val_loss: 0.0092 - val_accuracy: 0.9975\n",
      "Epoch 37/400\n",
      "118/118 [==============================] - 3s 24ms/step - loss: 8.7616e-04 - accuracy: 0.9999 - val_loss: 0.0100 - val_accuracy: 0.9974\n",
      "Epoch 38/400\n",
      "118/118 [==============================] - 3s 26ms/step - loss: 8.5669e-04 - accuracy: 0.9998 - val_loss: 0.0097 - val_accuracy: 0.9979\n",
      "Epoch 39/400\n",
      "118/118 [==============================] - 3s 24ms/step - loss: 6.7825e-04 - accuracy: 0.9999 - val_loss: 0.0092 - val_accuracy: 0.9976\n",
      "Epoch 40/400\n",
      "118/118 [==============================] - 3s 24ms/step - loss: 7.8741e-04 - accuracy: 0.9999 - val_loss: 0.0101 - val_accuracy: 0.9974\n",
      "Epoch 41/400\n",
      "118/118 [==============================] - 3s 24ms/step - loss: 5.7345e-04 - accuracy: 0.9999 - val_loss: 0.0132 - val_accuracy: 0.9968\n",
      "Epoch 42/400\n",
      "118/118 [==============================] - 3s 25ms/step - loss: 5.1162e-04 - accuracy: 0.9999 - val_loss: 0.0106 - val_accuracy: 0.9973\n",
      "Epoch 43/400\n",
      "118/118 [==============================] - 3s 24ms/step - loss: 5.2676e-04 - accuracy: 0.9999 - val_loss: 0.0106 - val_accuracy: 0.9974\n",
      "Epoch 44/400\n",
      "118/118 [==============================] - 3s 24ms/step - loss: 4.2134e-04 - accuracy: 1.0000 - val_loss: 0.0109 - val_accuracy: 0.9971\n",
      "Epoch 45/400\n",
      "118/118 [==============================] - 3s 24ms/step - loss: 5.0465e-04 - accuracy: 0.9999 - val_loss: 0.0131 - val_accuracy: 0.9973\n",
      "Epoch 46/400\n",
      "118/118 [==============================] - 3s 27ms/step - loss: 5.8464e-04 - accuracy: 0.9999 - val_loss: 0.0099 - val_accuracy: 0.9976\n",
      "Epoch 47/400\n",
      "118/118 [==============================] - 3s 25ms/step - loss: 2.4369e-04 - accuracy: 1.0000 - val_loss: 0.0097 - val_accuracy: 0.9978\n",
      "Epoch 48/400\n",
      "118/118 [==============================] - 3s 24ms/step - loss: 2.4113e-04 - accuracy: 1.0000 - val_loss: 0.0113 - val_accuracy: 0.9973\n",
      "Epoch 49/400\n",
      "118/118 [==============================] - 3s 25ms/step - loss: 3.0978e-04 - accuracy: 1.0000 - val_loss: 0.0092 - val_accuracy: 0.9979\n",
      "Epoch 50/400\n",
      "118/118 [==============================] - 3s 24ms/step - loss: 4.3621e-04 - accuracy: 0.9999 - val_loss: 0.0099 - val_accuracy: 0.9978\n",
      "Epoch 51/400\n",
      "118/118 [==============================] - 3s 24ms/step - loss: 4.8819e-04 - accuracy: 0.9999 - val_loss: 0.0169 - val_accuracy: 0.9962\n",
      "Epoch 52/400\n",
      "118/118 [==============================] - 3s 24ms/step - loss: 0.0046 - accuracy: 0.9986 - val_loss: 0.0133 - val_accuracy: 0.9967\n",
      "Epoch 53/400\n",
      "118/118 [==============================] - 3s 25ms/step - loss: 0.0011 - accuracy: 0.9997 - val_loss: 0.0196 - val_accuracy: 0.9959\n",
      "Epoch 54/400\n",
      "118/118 [==============================] - 3s 24ms/step - loss: 6.8707e-04 - accuracy: 0.9998 - val_loss: 0.0209 - val_accuracy: 0.9938\n",
      "Epoch 55/400\n",
      "118/118 [==============================] - 3s 24ms/step - loss: 0.0031 - accuracy: 0.9992 - val_loss: 0.0133 - val_accuracy: 0.9967\n",
      "Epoch 56/400\n",
      "118/118 [==============================] - 3s 24ms/step - loss: 8.2430e-04 - accuracy: 0.9999 - val_loss: 0.0244 - val_accuracy: 0.9941\n",
      "Epoch 57/400\n",
      "118/118 [==============================] - 3s 25ms/step - loss: 4.0815e-04 - accuracy: 0.9999 - val_loss: 0.0213 - val_accuracy: 0.9937\n",
      "Epoch 58/400\n",
      "118/118 [==============================] - 3s 27ms/step - loss: 4.7470e-04 - accuracy: 0.9999 - val_loss: 0.0235 - val_accuracy: 0.9930\n",
      "Epoch 59/400\n",
      "118/118 [==============================] - 3s 24ms/step - loss: 2.8808e-04 - accuracy: 1.0000 - val_loss: 0.0155 - val_accuracy: 0.9967\n",
      "Epoch 60/400\n",
      "118/118 [==============================] - 3s 24ms/step - loss: 1.5772e-04 - accuracy: 1.0000 - val_loss: 0.0107 - val_accuracy: 0.9976\n",
      "Epoch 61/400\n",
      "118/118 [==============================] - 3s 25ms/step - loss: 1.2041e-04 - accuracy: 1.0000 - val_loss: 0.0112 - val_accuracy: 0.9972\n",
      "Epoch 62/400\n",
      "118/118 [==============================] - 3s 24ms/step - loss: 9.5564e-05 - accuracy: 1.0000 - val_loss: 0.0122 - val_accuracy: 0.9972\n",
      "Epoch 63/400\n",
      "118/118 [==============================] - 3s 24ms/step - loss: 1.1817e-04 - accuracy: 1.0000 - val_loss: 0.0111 - val_accuracy: 0.9975\n",
      "Epoch 64/400\n",
      "118/118 [==============================] - 3s 24ms/step - loss: 1.5471e-04 - accuracy: 1.0000 - val_loss: 0.0147 - val_accuracy: 0.9971\n",
      "Epoch 65/400\n",
      "118/118 [==============================] - 3s 25ms/step - loss: 1.9322e-04 - accuracy: 1.0000 - val_loss: 0.0127 - val_accuracy: 0.9973\n",
      "Epoch 66/400\n",
      "118/118 [==============================] - 3s 24ms/step - loss: 9.7419e-05 - accuracy: 1.0000 - val_loss: 0.0126 - val_accuracy: 0.9976\n",
      "Epoch 67/400\n",
      "118/118 [==============================] - 3s 24ms/step - loss: 7.6424e-05 - accuracy: 1.0000 - val_loss: 0.0127 - val_accuracy: 0.9976\n",
      "Epoch 68/400\n",
      "118/118 [==============================] - 3s 24ms/step - loss: 6.8205e-05 - accuracy: 1.0000 - val_loss: 0.0113 - val_accuracy: 0.9978\n",
      "Epoch 69/400\n",
      "118/118 [==============================] - 3s 27ms/step - loss: 9.2646e-05 - accuracy: 1.0000 - val_loss: 0.0128 - val_accuracy: 0.9973\n",
      "Epoch 70/400\n",
      "118/118 [==============================] - 3s 24ms/step - loss: 6.9799e-05 - accuracy: 1.0000 - val_loss: 0.0125 - val_accuracy: 0.9973\n",
      "Epoch 71/400\n",
      "118/118 [==============================] - 3s 24ms/step - loss: 5.3263e-05 - accuracy: 1.0000 - val_loss: 0.0118 - val_accuracy: 0.9975\n",
      "Epoch 72/400\n",
      "118/118 [==============================] - 3s 25ms/step - loss: 7.1566e-05 - accuracy: 1.0000 - val_loss: 0.0124 - val_accuracy: 0.9975\n",
      "Epoch 73/400\n",
      "118/118 [==============================] - 3s 24ms/step - loss: 5.5475e-05 - accuracy: 1.0000 - val_loss: 0.0116 - val_accuracy: 0.9974\n",
      "Epoch 74/400\n",
      "118/118 [==============================] - 3s 24ms/step - loss: 6.0452e-05 - accuracy: 1.0000 - val_loss: 0.0131 - val_accuracy: 0.9975\n",
      "Epoch 75/400\n",
      "118/118 [==============================] - 3s 24ms/step - loss: 6.5601e-05 - accuracy: 1.0000 - val_loss: 0.0131 - val_accuracy: 0.9974\n",
      "Epoch 76/400\n",
      "118/118 [==============================] - 3s 25ms/step - loss: 4.5470e-05 - accuracy: 1.0000 - val_loss: 0.0125 - val_accuracy: 0.9973\n",
      "Epoch 77/400\n",
      "118/118 [==============================] - 3s 24ms/step - loss: 5.7544e-05 - accuracy: 1.0000 - val_loss: 0.0154 - val_accuracy: 0.9971\n",
      "Epoch 78/400\n",
      "118/118 [==============================] - 3s 24ms/step - loss: 1.5182e-04 - accuracy: 1.0000 - val_loss: 0.0120 - val_accuracy: 0.9970\n",
      "Epoch 79/400\n",
      "118/118 [==============================] - 3s 24ms/step - loss: 5.7007e-05 - accuracy: 1.0000 - val_loss: 0.0121 - val_accuracy: 0.9974\n",
      "Epoch 80/400\n",
      "118/118 [==============================] - 3s 27ms/step - loss: 5.8406e-05 - accuracy: 1.0000 - val_loss: 0.0130 - val_accuracy: 0.9972\n",
      "Epoch 81/400\n",
      "118/118 [==============================] - 3s 26ms/step - loss: 6.6763e-05 - accuracy: 1.0000 - val_loss: 0.0133 - val_accuracy: 0.9974\n",
      "Epoch 82/400\n",
      "118/118 [==============================] - 3s 24ms/step - loss: 4.8099e-05 - accuracy: 1.0000 - val_loss: 0.0125 - val_accuracy: 0.9972\n",
      "Epoch 83/400\n",
      "118/118 [==============================] - 3s 24ms/step - loss: 4.6001e-05 - accuracy: 1.0000 - val_loss: 0.0123 - val_accuracy: 0.9970\n",
      "Epoch 84/400\n",
      "118/118 [==============================] - 3s 25ms/step - loss: 5.0779e-05 - accuracy: 1.0000 - val_loss: 0.0140 - val_accuracy: 0.9974\n",
      "Epoch 85/400\n",
      "118/118 [==============================] - 3s 24ms/step - loss: 4.2952e-05 - accuracy: 1.0000 - val_loss: 0.0121 - val_accuracy: 0.9974\n",
      "Epoch 86/400\n",
      "118/118 [==============================] - 3s 24ms/step - loss: 3.6244e-05 - accuracy: 1.0000 - val_loss: 0.0129 - val_accuracy: 0.9975\n",
      "Epoch 87/400\n",
      "118/118 [==============================] - 3s 24ms/step - loss: 1.1766e-04 - accuracy: 1.0000 - val_loss: 0.0121 - val_accuracy: 0.9976\n",
      "Epoch 88/400\n",
      "118/118 [==============================] - 3s 25ms/step - loss: 5.3605e-05 - accuracy: 1.0000 - val_loss: 0.0122 - val_accuracy: 0.9972\n",
      "Epoch 89/400\n",
      "118/118 [==============================] - 3s 24ms/step - loss: 5.8076e-05 - accuracy: 1.0000 - val_loss: 0.0128 - val_accuracy: 0.9974\n",
      "Epoch 90/400\n",
      "118/118 [==============================] - 3s 24ms/step - loss: 3.5979e-05 - accuracy: 1.0000 - val_loss: 0.0126 - val_accuracy: 0.9975\n",
      "Epoch 91/400\n",
      "118/118 [==============================] - 3s 25ms/step - loss: 4.2455e-05 - accuracy: 1.0000 - val_loss: 0.0129 - val_accuracy: 0.9975\n",
      "Epoch 92/400\n",
      "118/118 [==============================] - 3s 26ms/step - loss: 3.5442e-05 - accuracy: 1.0000 - val_loss: 0.0125 - val_accuracy: 0.9976\n",
      "Epoch 93/400\n",
      "118/118 [==============================] - 3s 24ms/step - loss: 3.1640e-05 - accuracy: 1.0000 - val_loss: 0.0127 - val_accuracy: 0.9974\n",
      "Epoch 94/400\n",
      "118/118 [==============================] - 3s 24ms/step - loss: 2.8343e-05 - accuracy: 1.0000 - val_loss: 0.0126 - val_accuracy: 0.9974\n",
      "Epoch 95/400\n",
      "118/118 [==============================] - 3s 25ms/step - loss: 3.8821e-05 - accuracy: 1.0000 - val_loss: 0.0120 - val_accuracy: 0.9974\n",
      "Epoch 96/400\n",
      "118/118 [==============================] - 3s 24ms/step - loss: 3.8821e-05 - accuracy: 1.0000 - val_loss: 0.0117 - val_accuracy: 0.9975\n",
      "Epoch 97/400\n",
      "118/118 [==============================] - 3s 24ms/step - loss: 3.2845e-05 - accuracy: 1.0000 - val_loss: 0.0122 - val_accuracy: 0.9973\n",
      "Epoch 98/400\n",
      "118/118 [==============================] - 3s 24ms/step - loss: 3.0449e-05 - accuracy: 1.0000 - val_loss: 0.0120 - val_accuracy: 0.9973\n",
      "Epoch 99/400\n",
      "118/118 [==============================] - 3s 25ms/step - loss: 5.3421e-05 - accuracy: 1.0000 - val_loss: 0.0119 - val_accuracy: 0.9977\n",
      "Epoch 100/400\n",
      "118/118 [==============================] - 3s 24ms/step - loss: 3.0927e-05 - accuracy: 1.0000 - val_loss: 0.0125 - val_accuracy: 0.9974\n",
      "Epoch 101/400\n",
      "118/118 [==============================] - 3s 24ms/step - loss: 2.7008e-05 - accuracy: 1.0000 - val_loss: 0.0126 - val_accuracy: 0.9975\n",
      "Epoch 102/400\n",
      "118/118 [==============================] - 3s 24ms/step - loss: 2.8071e-05 - accuracy: 1.0000 - val_loss: 0.0123 - val_accuracy: 0.9973\n",
      "Epoch 103/400\n",
      "118/118 [==============================] - 3s 27ms/step - loss: 3.0314e-05 - accuracy: 1.0000 - val_loss: 0.0125 - val_accuracy: 0.9975\n",
      "Epoch 104/400\n",
      "118/118 [==============================] - 3s 25ms/step - loss: 2.4118e-05 - accuracy: 1.0000 - val_loss: 0.0124 - val_accuracy: 0.9975\n",
      "Epoch 105/400\n",
      "118/118 [==============================] - 3s 24ms/step - loss: 3.1809e-05 - accuracy: 1.0000 - val_loss: 0.0118 - val_accuracy: 0.9973\n",
      "Epoch 106/400\n",
      "118/118 [==============================] - 3s 24ms/step - loss: 2.8977e-05 - accuracy: 1.0000 - val_loss: 0.0125 - val_accuracy: 0.9975\n",
      "Epoch 107/400\n",
      "118/118 [==============================] - 3s 25ms/step - loss: 2.8028e-05 - accuracy: 1.0000 - val_loss: 0.0124 - val_accuracy: 0.9975\n",
      "Epoch 108/400\n",
      "118/118 [==============================] - 3s 24ms/step - loss: 2.6024e-05 - accuracy: 1.0000 - val_loss: 0.0128 - val_accuracy: 0.9974\n",
      "Epoch 109/400\n",
      "118/118 [==============================] - 3s 24ms/step - loss: 2.4365e-05 - accuracy: 1.0000 - val_loss: 0.0119 - val_accuracy: 0.9973\n",
      "Epoch 110/400\n",
      "118/118 [==============================] - 3s 26ms/step - loss: 2.8731e-05 - accuracy: 1.0000 - val_loss: 0.0118 - val_accuracy: 0.9974\n",
      "Epoch 111/400\n",
      "118/118 [==============================] - 3s 25ms/step - loss: 2.4493e-05 - accuracy: 1.0000 - val_loss: 0.0134 - val_accuracy: 0.9975\n",
      "Epoch 112/400\n",
      "118/118 [==============================] - 3s 24ms/step - loss: 2.4176e-05 - accuracy: 1.0000 - val_loss: 0.0128 - val_accuracy: 0.9975\n",
      "Epoch 113/400\n",
      "118/118 [==============================] - 3s 24ms/step - loss: 2.5668e-05 - accuracy: 1.0000 - val_loss: 0.0126 - val_accuracy: 0.9975\n",
      "Epoch 114/400\n",
      "118/118 [==============================] - 3s 25ms/step - loss: 3.0637e-05 - accuracy: 1.0000 - val_loss: 0.0126 - val_accuracy: 0.9976\n",
      "Epoch 115/400\n",
      "118/118 [==============================] - 3s 26ms/step - loss: 5.2661e-05 - accuracy: 1.0000 - val_loss: 0.0142 - val_accuracy: 0.9975\n",
      "Epoch 116/400\n",
      "118/118 [==============================] - 3s 24ms/step - loss: 2.0751e-05 - accuracy: 1.0000 - val_loss: 0.0123 - val_accuracy: 0.9973\n",
      "Epoch 117/400\n",
      "118/118 [==============================] - 3s 24ms/step - loss: 2.4149e-05 - accuracy: 1.0000 - val_loss: 0.0127 - val_accuracy: 0.9974\n",
      "Epoch 118/400\n",
      "118/118 [==============================] - 3s 25ms/step - loss: 2.0330e-05 - accuracy: 1.0000 - val_loss: 0.0128 - val_accuracy: 0.9973\n",
      "Epoch 119/400\n",
      "118/118 [==============================] - 3s 24ms/step - loss: 1.9302e-05 - accuracy: 1.0000 - val_loss: 0.0127 - val_accuracy: 0.9973\n",
      "Epoch 120/400\n",
      "118/118 [==============================] - 3s 24ms/step - loss: 1.9670e-05 - accuracy: 1.0000 - val_loss: 0.0129 - val_accuracy: 0.9975\n",
      "Epoch 121/400\n",
      "118/118 [==============================] - 3s 24ms/step - loss: 2.5170e-05 - accuracy: 1.0000 - val_loss: 0.0127 - val_accuracy: 0.9974\n",
      "Epoch 122/400\n",
      "118/118 [==============================] - 3s 25ms/step - loss: 2.3031e-05 - accuracy: 1.0000 - val_loss: 0.0130 - val_accuracy: 0.9975\n",
      "Epoch 123/400\n",
      "118/118 [==============================] - 3s 24ms/step - loss: 2.7980e-05 - accuracy: 1.0000 - val_loss: 0.0163 - val_accuracy: 0.9962\n",
      "Epoch 124/400\n",
      "118/118 [==============================] - 3s 24ms/step - loss: 0.0020 - accuracy: 0.9993 - val_loss: 0.0168 - val_accuracy: 0.9952\n",
      "Epoch 125/400\n",
      "118/118 [==============================] - 3s 24ms/step - loss: 6.8401e-04 - accuracy: 0.9997 - val_loss: 0.0138 - val_accuracy: 0.9970\n",
      "Epoch 126/400\n",
      "118/118 [==============================] - 3s 27ms/step - loss: 9.6304e-05 - accuracy: 1.0000 - val_loss: 0.0127 - val_accuracy: 0.9977\n",
      "Epoch 127/400\n",
      "118/118 [==============================] - 3s 24ms/step - loss: 6.1567e-05 - accuracy: 1.0000 - val_loss: 0.0151 - val_accuracy: 0.9971\n",
      "Epoch 128/400\n",
      "118/118 [==============================] - 3s 24ms/step - loss: 5.9780e-05 - accuracy: 1.0000 - val_loss: 0.0142 - val_accuracy: 0.9974\n",
      "Epoch 129/400\n",
      "118/118 [==============================] - 3s 25ms/step - loss: 4.2332e-05 - accuracy: 1.0000 - val_loss: 0.0134 - val_accuracy: 0.9977\n",
      "Epoch 130/400\n",
      "118/118 [==============================] - 3s 24ms/step - loss: 5.5212e-05 - accuracy: 1.0000 - val_loss: 0.0128 - val_accuracy: 0.9975\n",
      "Epoch 131/400\n",
      "118/118 [==============================] - 3s 24ms/step - loss: 3.3199e-05 - accuracy: 1.0000 - val_loss: 0.0135 - val_accuracy: 0.9977\n",
      "Epoch 132/400\n",
      "118/118 [==============================] - 3s 24ms/step - loss: 3.9172e-05 - accuracy: 1.0000 - val_loss: 0.0125 - val_accuracy: 0.9977\n",
      "Epoch 133/400\n",
      "118/118 [==============================] - 3s 25ms/step - loss: 3.2860e-05 - accuracy: 1.0000 - val_loss: 0.0126 - val_accuracy: 0.9975\n",
      "Epoch 134/400\n",
      "118/118 [==============================] - 3s 25ms/step - loss: 3.1304e-05 - accuracy: 1.0000 - val_loss: 0.0131 - val_accuracy: 0.9974\n",
      "Epoch 135/400\n",
      "118/118 [==============================] - 3s 24ms/step - loss: 2.6202e-05 - accuracy: 1.0000 - val_loss: 0.0134 - val_accuracy: 0.9974\n",
      "Epoch 136/400\n",
      "118/118 [==============================] - 3s 24ms/step - loss: 3.3495e-05 - accuracy: 1.0000 - val_loss: 0.0142 - val_accuracy: 0.9975\n",
      "Epoch 137/400\n",
      "118/118 [==============================] - 3s 26ms/step - loss: 2.7828e-05 - accuracy: 1.0000 - val_loss: 0.0136 - val_accuracy: 0.9973\n",
      "Epoch 138/400\n",
      "118/118 [==============================] - 3s 25ms/step - loss: 2.2805e-05 - accuracy: 1.0000 - val_loss: 0.0137 - val_accuracy: 0.9974\n",
      "Epoch 139/400\n",
      "118/118 [==============================] - 3s 24ms/step - loss: 2.2660e-05 - accuracy: 1.0000 - val_loss: 0.0134 - val_accuracy: 0.9973\n",
      "Epoch 140/400\n",
      "118/118 [==============================] - 3s 24ms/step - loss: 2.4322e-05 - accuracy: 1.0000 - val_loss: 0.0132 - val_accuracy: 0.9974\n",
      "Epoch 141/400\n",
      "118/118 [==============================] - 3s 25ms/step - loss: 2.3620e-05 - accuracy: 1.0000 - val_loss: 0.0129 - val_accuracy: 0.9975\n",
      "Epoch 142/400\n",
      "118/118 [==============================] - 3s 24ms/step - loss: 2.3347e-05 - accuracy: 1.0000 - val_loss: 0.0130 - val_accuracy: 0.9975\n",
      "Epoch 143/400\n",
      "118/118 [==============================] - 3s 24ms/step - loss: 1.8353e-05 - accuracy: 1.0000 - val_loss: 0.0131 - val_accuracy: 0.9975\n",
      "Epoch 144/400\n",
      "118/118 [==============================] - 3s 24ms/step - loss: 2.1136e-05 - accuracy: 1.0000 - val_loss: 0.0135 - val_accuracy: 0.9973\n",
      "Epoch 145/400\n",
      "118/118 [==============================] - 3s 25ms/step - loss: 2.2494e-05 - accuracy: 1.0000 - val_loss: 0.0130 - val_accuracy: 0.9975\n",
      "Epoch 146/400\n",
      "118/118 [==============================] - 3s 24ms/step - loss: 4.5568e-05 - accuracy: 1.0000 - val_loss: 0.0364 - val_accuracy: 0.9931\n",
      "Epoch 147/400\n",
      "118/118 [==============================] - 3s 24ms/step - loss: 0.0021 - accuracy: 0.9994 - val_loss: 0.0103 - val_accuracy: 0.9970\n",
      "Epoch 148/400\n",
      "118/118 [==============================] - 3s 25ms/step - loss: 3.2242e-04 - accuracy: 1.0000 - val_loss: 0.0234 - val_accuracy: 0.9955\n",
      "Epoch 149/400\n",
      "118/118 [==============================] - 3s 26ms/step - loss: 1.2190e-04 - accuracy: 1.0000 - val_loss: 0.0140 - val_accuracy: 0.9973\n",
      "Epoch 150/400\n",
      "118/118 [==============================] - 3s 24ms/step - loss: 6.1989e-05 - accuracy: 1.0000 - val_loss: 0.0147 - val_accuracy: 0.9972\n",
      "Epoch 151/400\n",
      "118/118 [==============================] - 3s 24ms/step - loss: 3.5555e-05 - accuracy: 1.0000 - val_loss: 0.0147 - val_accuracy: 0.9971\n",
      "Epoch 152/400\n",
      "118/118 [==============================] - 3s 25ms/step - loss: 2.7792e-05 - accuracy: 1.0000 - val_loss: 0.0139 - val_accuracy: 0.9972\n",
      "Epoch 153/400\n",
      "118/118 [==============================] - 3s 24ms/step - loss: 2.7168e-05 - accuracy: 1.0000 - val_loss: 0.0134 - val_accuracy: 0.9972\n",
      "Epoch 154/400\n",
      "118/118 [==============================] - 3s 24ms/step - loss: 2.7862e-05 - accuracy: 1.0000 - val_loss: 0.0137 - val_accuracy: 0.9972\n",
      "Epoch 155/400\n",
      "118/118 [==============================] - 3s 24ms/step - loss: 8.4752e-05 - accuracy: 1.0000 - val_loss: 0.0199 - val_accuracy: 0.9963\n",
      "Epoch 156/400\n",
      "118/118 [==============================] - 3s 25ms/step - loss: 3.3881e-05 - accuracy: 1.0000 - val_loss: 0.0133 - val_accuracy: 0.9973\n",
      "Epoch 157/400\n",
      "118/118 [==============================] - 3s 24ms/step - loss: 2.9718e-05 - accuracy: 1.0000 - val_loss: 0.0129 - val_accuracy: 0.9976\n",
      "Epoch 158/400\n",
      "118/118 [==============================] - 3s 24ms/step - loss: 2.3211e-05 - accuracy: 1.0000 - val_loss: 0.0135 - val_accuracy: 0.9974\n",
      "Epoch 159/400\n",
      "118/118 [==============================] - 3s 24ms/step - loss: 2.6576e-05 - accuracy: 1.0000 - val_loss: 0.0144 - val_accuracy: 0.9972\n",
      "Epoch 160/400\n",
      "118/118 [==============================] - 3s 27ms/step - loss: 2.4057e-05 - accuracy: 1.0000 - val_loss: 0.0142 - val_accuracy: 0.9973\n",
      "Epoch 161/400\n",
      "118/118 [==============================] - 3s 26ms/step - loss: 1.7754e-05 - accuracy: 1.0000 - val_loss: 0.0139 - val_accuracy: 0.9973\n",
      "Epoch 162/400\n",
      "118/118 [==============================] - 3s 24ms/step - loss: 1.8929e-05 - accuracy: 1.0000 - val_loss: 0.0139 - val_accuracy: 0.9973\n",
      "Epoch 163/400\n",
      "118/118 [==============================] - 3s 24ms/step - loss: 1.5692e-05 - accuracy: 1.0000 - val_loss: 0.0135 - val_accuracy: 0.9973\n",
      "Epoch 164/400\n",
      "118/118 [==============================] - 3s 25ms/step - loss: 1.7086e-05 - accuracy: 1.0000 - val_loss: 0.0138 - val_accuracy: 0.9973\n",
      "Epoch 165/400\n",
      "118/118 [==============================] - 3s 24ms/step - loss: 1.9971e-05 - accuracy: 1.0000 - val_loss: 0.0140 - val_accuracy: 0.9972\n",
      "Epoch 166/400\n",
      "118/118 [==============================] - 3s 24ms/step - loss: 1.3891e-05 - accuracy: 1.0000 - val_loss: 0.0145 - val_accuracy: 0.9974\n",
      "Epoch 167/400\n",
      "118/118 [==============================] - 3s 25ms/step - loss: 1.5215e-05 - accuracy: 1.0000 - val_loss: 0.0137 - val_accuracy: 0.9972\n",
      "Epoch 168/400\n",
      "118/118 [==============================] - 3s 24ms/step - loss: 1.7181e-05 - accuracy: 1.0000 - val_loss: 0.0147 - val_accuracy: 0.9974\n",
      "Epoch 169/400\n",
      "118/118 [==============================] - 3s 24ms/step - loss: 1.8402e-05 - accuracy: 1.0000 - val_loss: 0.0138 - val_accuracy: 0.9972\n",
      "Epoch 170/400\n",
      "118/118 [==============================] - 3s 24ms/step - loss: 1.7024e-05 - accuracy: 1.0000 - val_loss: 0.0137 - val_accuracy: 0.9973\n",
      "Epoch 171/400\n",
      "118/118 [==============================] - 3s 25ms/step - loss: 2.1377e-05 - accuracy: 1.0000 - val_loss: 0.0149 - val_accuracy: 0.9973\n",
      "Epoch 172/400\n",
      "118/118 [==============================] - 3s 24ms/step - loss: 2.0803e-05 - accuracy: 1.0000 - val_loss: 0.0137 - val_accuracy: 0.9972\n",
      "Epoch 173/400\n",
      "118/118 [==============================] - 3s 26ms/step - loss: 1.4087e-05 - accuracy: 1.0000 - val_loss: 0.0143 - val_accuracy: 0.9971\n",
      "Epoch 174/400\n",
      "118/118 [==============================] - 3s 24ms/step - loss: 1.3569e-05 - accuracy: 1.0000 - val_loss: 0.0142 - val_accuracy: 0.9973\n",
      "Epoch 175/400\n",
      "118/118 [==============================] - 3s 25ms/step - loss: 1.2345e-05 - accuracy: 1.0000 - val_loss: 0.0137 - val_accuracy: 0.9973\n",
      "Epoch 176/400\n",
      "118/118 [==============================] - 3s 24ms/step - loss: 1.3423e-05 - accuracy: 1.0000 - val_loss: 0.0136 - val_accuracy: 0.9974\n",
      "Epoch 177/400\n",
      "118/118 [==============================] - 3s 24ms/step - loss: 1.3497e-05 - accuracy: 1.0000 - val_loss: 0.0133 - val_accuracy: 0.9974\n",
      "Epoch 178/400\n",
      "118/118 [==============================] - 3s 24ms/step - loss: 1.5872e-05 - accuracy: 1.0000 - val_loss: 0.0133 - val_accuracy: 0.9974\n",
      "Epoch 179/400\n",
      "118/118 [==============================] - 3s 26ms/step - loss: 1.4373e-05 - accuracy: 1.0000 - val_loss: 0.0133 - val_accuracy: 0.9975\n",
      "Epoch 180/400\n",
      "118/118 [==============================] - 3s 24ms/step - loss: 1.7618e-05 - accuracy: 1.0000 - val_loss: 0.0177 - val_accuracy: 0.9969\n",
      "Epoch 181/400\n",
      "118/118 [==============================] - 3s 24ms/step - loss: 4.8999e-05 - accuracy: 1.0000 - val_loss: 0.0137 - val_accuracy: 0.9976\n",
      "Epoch 182/400\n",
      "118/118 [==============================] - 3s 24ms/step - loss: 1.3961e-05 - accuracy: 1.0000 - val_loss: 0.0145 - val_accuracy: 0.9975\n",
      "Epoch 183/400\n",
      "118/118 [==============================] - 3s 25ms/step - loss: 1.3788e-05 - accuracy: 1.0000 - val_loss: 0.0139 - val_accuracy: 0.9974\n",
      "Epoch 184/400\n",
      "118/118 [==============================] - 3s 26ms/step - loss: 1.9834e-05 - accuracy: 1.0000 - val_loss: 0.0148 - val_accuracy: 0.9972\n",
      "Epoch 185/400\n",
      "118/118 [==============================] - 3s 24ms/step - loss: 1.6886e-05 - accuracy: 1.0000 - val_loss: 0.0142 - val_accuracy: 0.9973\n",
      "Epoch 186/400\n",
      "118/118 [==============================] - 3s 25ms/step - loss: 1.3593e-05 - accuracy: 1.0000 - val_loss: 0.0140 - val_accuracy: 0.9973\n",
      "Epoch 187/400\n",
      "118/118 [==============================] - 3s 24ms/step - loss: 1.2409e-05 - accuracy: 1.0000 - val_loss: 0.0136 - val_accuracy: 0.9977\n",
      "Epoch 188/400\n",
      "118/118 [==============================] - 3s 24ms/step - loss: 1.1325e-05 - accuracy: 1.0000 - val_loss: 0.0147 - val_accuracy: 0.9975\n",
      "Epoch 189/400\n",
      "118/118 [==============================] - 3s 24ms/step - loss: 1.5509e-05 - accuracy: 1.0000 - val_loss: 0.0135 - val_accuracy: 0.9976\n",
      "Epoch 190/400\n",
      "118/118 [==============================] - 3s 25ms/step - loss: 1.0203e-05 - accuracy: 1.0000 - val_loss: 0.0142 - val_accuracy: 0.9974\n",
      "Epoch 191/400\n",
      "118/118 [==============================] - 3s 24ms/step - loss: 1.0766e-05 - accuracy: 1.0000 - val_loss: 0.0139 - val_accuracy: 0.9976\n",
      "Epoch 192/400\n",
      "118/118 [==============================] - 3s 24ms/step - loss: 9.8150e-06 - accuracy: 1.0000 - val_loss: 0.0143 - val_accuracy: 0.9975\n",
      "Epoch 193/400\n",
      "118/118 [==============================] - 3s 24ms/step - loss: 1.0207e-05 - accuracy: 1.0000 - val_loss: 0.0134 - val_accuracy: 0.9974\n",
      "Epoch 194/400\n",
      "118/118 [==============================] - 3s 26ms/step - loss: 1.3748e-05 - accuracy: 1.0000 - val_loss: 0.0140 - val_accuracy: 0.9973\n",
      "Epoch 195/400\n",
      "118/118 [==============================] - 3s 24ms/step - loss: 1.0276e-05 - accuracy: 1.0000 - val_loss: 0.0144 - val_accuracy: 0.9973\n",
      "Epoch 196/400\n",
      "118/118 [==============================] - 3s 26ms/step - loss: 8.8918e-06 - accuracy: 1.0000 - val_loss: 0.0142 - val_accuracy: 0.9974\n",
      "Epoch 197/400\n",
      "118/118 [==============================] - 3s 24ms/step - loss: 9.6515e-06 - accuracy: 1.0000 - val_loss: 0.0140 - val_accuracy: 0.9975\n",
      "Epoch 198/400\n",
      "118/118 [==============================] - 3s 25ms/step - loss: 1.1330e-05 - accuracy: 1.0000 - val_loss: 0.0138 - val_accuracy: 0.9975\n",
      "Epoch 199/400\n",
      "118/118 [==============================] - 3s 24ms/step - loss: 9.4896e-06 - accuracy: 1.0000 - val_loss: 0.0139 - val_accuracy: 0.9975\n",
      "Epoch 200/400\n",
      "118/118 [==============================] - 3s 24ms/step - loss: 9.3424e-06 - accuracy: 1.0000 - val_loss: 0.0136 - val_accuracy: 0.9976\n",
      "Epoch 201/400\n",
      "118/118 [==============================] - 3s 24ms/step - loss: 9.3313e-06 - accuracy: 1.0000 - val_loss: 0.0136 - val_accuracy: 0.9974\n",
      "Epoch 202/400\n",
      "118/118 [==============================] - 3s 25ms/step - loss: 1.1376e-05 - accuracy: 1.0000 - val_loss: 0.0141 - val_accuracy: 0.9975\n",
      "Epoch 203/400\n",
      "118/118 [==============================] - 3s 24ms/step - loss: 9.4981e-06 - accuracy: 1.0000 - val_loss: 0.0138 - val_accuracy: 0.9973\n",
      "Epoch 204/400\n",
      "118/118 [==============================] - 3s 24ms/step - loss: 1.1263e-05 - accuracy: 1.0000 - val_loss: 0.0144 - val_accuracy: 0.9973\n",
      "Epoch 205/400\n",
      "118/118 [==============================] - 3s 25ms/step - loss: 1.0001e-05 - accuracy: 1.0000 - val_loss: 0.0139 - val_accuracy: 0.9974\n",
      "Epoch 206/400\n",
      "118/118 [==============================] - 3s 24ms/step - loss: 1.1506e-05 - accuracy: 1.0000 - val_loss: 0.0137 - val_accuracy: 0.9973\n",
      "Epoch 207/400\n",
      "118/118 [==============================] - 3s 27ms/step - loss: 8.9963e-06 - accuracy: 1.0000 - val_loss: 0.0140 - val_accuracy: 0.9975\n",
      "Epoch 208/400\n",
      "118/118 [==============================] - 3s 24ms/step - loss: 1.1026e-05 - accuracy: 1.0000 - val_loss: 0.0138 - val_accuracy: 0.9973\n",
      "Epoch 209/400\n",
      "118/118 [==============================] - 3s 25ms/step - loss: 9.2716e-06 - accuracy: 1.0000 - val_loss: 0.0140 - val_accuracy: 0.9973\n",
      "Epoch 210/400\n",
      "118/118 [==============================] - 3s 24ms/step - loss: 7.7984e-06 - accuracy: 1.0000 - val_loss: 0.0139 - val_accuracy: 0.9975\n",
      "Epoch 211/400\n",
      "118/118 [==============================] - 3s 24ms/step - loss: 9.4369e-06 - accuracy: 1.0000 - val_loss: 0.0136 - val_accuracy: 0.9974\n",
      "Epoch 212/400\n",
      "118/118 [==============================] - 3s 24ms/step - loss: 9.7982e-06 - accuracy: 1.0000 - val_loss: 0.0140 - val_accuracy: 0.9975\n",
      "Epoch 213/400\n",
      "118/118 [==============================] - 3s 26ms/step - loss: 7.7988e-06 - accuracy: 1.0000 - val_loss: 0.0138 - val_accuracy: 0.9974\n",
      "Epoch 214/400\n",
      "118/118 [==============================] - 3s 25ms/step - loss: 1.2643e-05 - accuracy: 1.0000 - val_loss: 0.0132 - val_accuracy: 0.9977\n",
      "Epoch 215/400\n",
      "118/118 [==============================] - 3s 24ms/step - loss: 1.0888e-05 - accuracy: 1.0000 - val_loss: 0.0140 - val_accuracy: 0.9974\n",
      "Epoch 216/400\n",
      "118/118 [==============================] - 3s 24ms/step - loss: 8.2396e-06 - accuracy: 1.0000 - val_loss: 0.0142 - val_accuracy: 0.9975\n",
      "Epoch 217/400\n",
      "118/118 [==============================] - 3s 25ms/step - loss: 7.5818e-06 - accuracy: 1.0000 - val_loss: 0.0141 - val_accuracy: 0.9975\n",
      "Epoch 218/400\n",
      "118/118 [==============================] - 3s 25ms/step - loss: 8.0009e-06 - accuracy: 1.0000 - val_loss: 0.0134 - val_accuracy: 0.9975\n",
      "Epoch 219/400\n",
      "118/118 [==============================] - 3s 24ms/step - loss: 8.1629e-06 - accuracy: 1.0000 - val_loss: 0.0140 - val_accuracy: 0.9975\n",
      "Epoch 220/400\n",
      "118/118 [==============================] - 3s 24ms/step - loss: 9.7060e-06 - accuracy: 1.0000 - val_loss: 0.0138 - val_accuracy: 0.9973\n",
      "Epoch 221/400\n",
      "118/118 [==============================] - 3s 25ms/step - loss: 8.5216e-06 - accuracy: 1.0000 - val_loss: 0.0148 - val_accuracy: 0.9974\n",
      "Epoch 222/400\n",
      "118/118 [==============================] - 3s 24ms/step - loss: 6.8277e-06 - accuracy: 1.0000 - val_loss: 0.0141 - val_accuracy: 0.9975\n",
      "Epoch 223/400\n",
      "118/118 [==============================] - 3s 24ms/step - loss: 6.9431e-06 - accuracy: 1.0000 - val_loss: 0.0139 - val_accuracy: 0.9975\n",
      "Epoch 224/400\n",
      "118/118 [==============================] - 3s 25ms/step - loss: 1.0353e-05 - accuracy: 1.0000 - val_loss: 0.0132 - val_accuracy: 0.9976\n",
      "Epoch 225/400\n",
      "118/118 [==============================] - 3s 24ms/step - loss: 7.3279e-06 - accuracy: 1.0000 - val_loss: 0.0140 - val_accuracy: 0.9975\n",
      "Epoch 226/400\n",
      "118/118 [==============================] - 3s 24ms/step - loss: 8.1039e-06 - accuracy: 1.0000 - val_loss: 0.0139 - val_accuracy: 0.9975\n",
      "Epoch 227/400\n",
      "118/118 [==============================] - 3s 24ms/step - loss: 3.8277e-06 - accuracy: 1.0000 - val_loss: 0.0142 - val_accuracy: 0.9975\n",
      "Epoch 356/400\n",
      "118/118 [==============================] - 3s 24ms/step - loss: 4.6602e-06 - accuracy: 1.0000 - val_loss: 0.0142 - val_accuracy: 0.9975\n",
      "Epoch 357/400\n",
      "118/118 [==============================] - 3s 24ms/step - loss: 7.4532e-06 - accuracy: 1.0000 - val_loss: 0.0137 - val_accuracy: 0.9976\n",
      "Epoch 358/400\n",
      "118/118 [==============================] - 3s 25ms/step - loss: 4.9325e-06 - accuracy: 1.0000 - val_loss: 0.0142 - val_accuracy: 0.9975\n",
      "Epoch 359/400\n",
      "118/118 [==============================] - 3s 24ms/step - loss: 4.3496e-06 - accuracy: 1.0000 - val_loss: 0.0142 - val_accuracy: 0.9975\n",
      "Epoch 360/400\n",
      "118/118 [==============================] - 3s 24ms/step - loss: 4.1555e-06 - accuracy: 1.0000 - val_loss: 0.0140 - val_accuracy: 0.9976\n",
      "Epoch 361/400\n",
      "118/118 [==============================] - 3s 24ms/step - loss: 4.7277e-06 - accuracy: 1.0000 - val_loss: 0.0144 - val_accuracy: 0.9975\n",
      "Epoch 362/400\n",
      "118/118 [==============================] - 3s 26ms/step - loss: 3.4824e-06 - accuracy: 1.0000 - val_loss: 0.0141 - val_accuracy: 0.9975\n",
      "Epoch 363/400\n",
      "118/118 [==============================] - 3s 24ms/step - loss: 6.7780e-06 - accuracy: 1.0000 - val_loss: 0.0142 - val_accuracy: 0.9975\n",
      "Epoch 364/400\n",
      "118/118 [==============================] - 3s 24ms/step - loss: 4.0710e-06 - accuracy: 1.0000 - val_loss: 0.0143 - val_accuracy: 0.9975\n",
      "Epoch 365/400\n",
      "118/118 [==============================] - 3s 27ms/step - loss: 3.4013e-06 - accuracy: 1.0000 - val_loss: 0.0144 - val_accuracy: 0.9975\n",
      "Epoch 366/400\n",
      "118/118 [==============================] - 3s 24ms/step - loss: 4.1393e-06 - accuracy: 1.0000 - val_loss: 0.0142 - val_accuracy: 0.9975\n",
      "Epoch 367/400\n",
      "118/118 [==============================] - 3s 24ms/step - loss: 4.4611e-06 - accuracy: 1.0000 - val_loss: 0.0141 - val_accuracy: 0.9975\n",
      "Epoch 368/400\n",
      "118/118 [==============================] - 3s 24ms/step - loss: 4.5060e-06 - accuracy: 1.0000 - val_loss: 0.0146 - val_accuracy: 0.9974\n",
      "Epoch 369/400\n",
      "118/118 [==============================] - 3s 25ms/step - loss: 4.8118e-06 - accuracy: 1.0000 - val_loss: 0.0142 - val_accuracy: 0.9975\n",
      "Epoch 370/400\n",
      "118/118 [==============================] - 3s 24ms/step - loss: 4.7830e-06 - accuracy: 1.0000 - val_loss: 0.0144 - val_accuracy: 0.9975\n",
      "Epoch 371/400\n",
      "118/118 [==============================] - 3s 24ms/step - loss: 4.2540e-06 - accuracy: 1.0000 - val_loss: 0.0143 - val_accuracy: 0.9975\n",
      "Epoch 372/400\n",
      "118/118 [==============================] - 3s 24ms/step - loss: 4.4277e-06 - accuracy: 1.0000 - val_loss: 0.0145 - val_accuracy: 0.9975\n",
      "Epoch 373/400\n",
      "118/118 [==============================] - 3s 25ms/step - loss: 4.2469e-06 - accuracy: 1.0000 - val_loss: 0.0142 - val_accuracy: 0.9975\n",
      "Epoch 374/400\n",
      "118/118 [==============================] - 3s 24ms/step - loss: 3.8845e-06 - accuracy: 1.0000 - val_loss: 0.0144 - val_accuracy: 0.9975\n",
      "Epoch 375/400\n",
      "118/118 [==============================] - 3s 25ms/step - loss: 3.7222e-06 - accuracy: 1.0000 - val_loss: 0.0142 - val_accuracy: 0.9975\n",
      "Epoch 376/400\n",
      "118/118 [==============================] - 3s 25ms/step - loss: 4.0281e-06 - accuracy: 1.0000 - val_loss: 0.0143 - val_accuracy: 0.9975\n",
      "Epoch 377/400\n",
      "118/118 [==============================] - 3s 26ms/step - loss: 4.5699e-06 - accuracy: 1.0000 - val_loss: 0.0142 - val_accuracy: 0.9975\n",
      "Epoch 378/400\n",
      "118/118 [==============================] - 3s 24ms/step - loss: 4.2511e-06 - accuracy: 1.0000 - val_loss: 0.0141 - val_accuracy: 0.9975\n",
      "Epoch 379/400\n",
      "118/118 [==============================] - 3s 24ms/step - loss: 4.2214e-06 - accuracy: 1.0000 - val_loss: 0.0141 - val_accuracy: 0.9975\n",
      "Epoch 380/400\n",
      "118/118 [==============================] - 3s 25ms/step - loss: 5.4571e-06 - accuracy: 1.0000 - val_loss: 0.0140 - val_accuracy: 0.9976\n",
      "Epoch 381/400\n",
      "118/118 [==============================] - 3s 26ms/step - loss: 4.8363e-06 - accuracy: 1.0000 - val_loss: 0.0144 - val_accuracy: 0.9975\n",
      "Epoch 382/400\n",
      "118/118 [==============================] - 3s 24ms/step - loss: 5.5510e-06 - accuracy: 1.0000 - val_loss: 0.0145 - val_accuracy: 0.9975\n",
      "Epoch 383/400\n",
      "118/118 [==============================] - 3s 24ms/step - loss: 4.3729e-06 - accuracy: 1.0000 - val_loss: 0.0144 - val_accuracy: 0.9975\n",
      "Epoch 384/400\n",
      "118/118 [==============================] - 3s 26ms/step - loss: 5.2571e-06 - accuracy: 1.0000 - val_loss: 0.0142 - val_accuracy: 0.9975\n",
      "Epoch 385/400\n",
      "118/118 [==============================] - 3s 24ms/step - loss: 4.6747e-06 - accuracy: 1.0000 - val_loss: 0.0143 - val_accuracy: 0.9975\n",
      "Epoch 386/400\n",
      "118/118 [==============================] - 3s 24ms/step - loss: 4.4252e-06 - accuracy: 1.0000 - val_loss: 0.0145 - val_accuracy: 0.9975\n",
      "Epoch 387/400\n",
      "118/118 [==============================] - 3s 24ms/step - loss: 4.1932e-06 - accuracy: 1.0000 - val_loss: 0.0142 - val_accuracy: 0.9975\n",
      "Epoch 388/400\n",
      "118/118 [==============================] - 3s 27ms/step - loss: 4.8723e-06 - accuracy: 1.0000 - val_loss: 0.0140 - val_accuracy: 0.9974\n",
      "Epoch 389/400\n",
      "118/118 [==============================] - 3s 25ms/step - loss: 4.7321e-06 - accuracy: 1.0000 - val_loss: 0.0145 - val_accuracy: 0.9975\n",
      "Epoch 390/400\n",
      "118/118 [==============================] - 3s 24ms/step - loss: 3.5477e-06 - accuracy: 1.0000 - val_loss: 0.0144 - val_accuracy: 0.9975\n",
      "Epoch 391/400\n",
      " 85/118 [====================>.........] - ETA: 0s - loss: 3.9030e-06 - accuracy: 1.0000"
     ]
    }
   ],
   "source": [
    "sgd = tf.keras.optimizers.SGD(learning_rate=0.01, momentum=0.9, nesterov=True)\n",
    "model.compile(optimizer=sgd,loss=\"sparse_categorical_crossentropy\",metrics=['accuracy']) \n",
    "history = model.fit(X_train, y_train, epochs = 400, \n",
    "                    batch_size = 256, \n",
    "                    validation_data = (X_test, y_test), \n",
    "                    verbose=1)"
   ]
  },
  {
   "cell_type": "code",
   "execution_count": 12,
   "metadata": {
    "execution": {
     "iopub.execute_input": "2022-05-12T00:47:44.438183Z",
     "iopub.status.busy": "2022-05-12T00:47:44.437911Z",
     "iopub.status.idle": "2022-05-12T00:47:44.863015Z",
     "shell.execute_reply": "2022-05-12T00:47:44.862267Z",
     "shell.execute_reply.started": "2022-05-12T00:47:44.438153Z"
    }
   },
   "outputs": [
    {
     "data": {
      "text/plain": [
       "<matplotlib.legend.Legend at 0x7f8b8410bed0>"
      ]
     },
     "execution_count": 12,
     "metadata": {},
     "output_type": "execute_result"
    },
    {
     "data": {
      "image/png": "[encoded data removed]",
      "text/plain": [
       "<Figure size 864x864 with 2 Axes>"
      ]
     },
     "metadata": {
      "needs_background": "light"
     },
     "output_type": "display_data"
    }
   ],
   "source": [
    "plt.figure(figsize=(12, 12))\n",
    "plt.style.use('ggplot')\n",
    "plt.subplot(2,2,1)\n",
    "plt.plot(history.history['accuracy'])\n",
    "plt.plot(history.history['val_accuracy'])\n",
    "plt.title('Accuracy of Epochs')\n",
    "plt.ylabel('Accuracy', fontsize=12)\n",
    "plt.xlabel('Epoch', fontsize=12)\n",
    "plt.legend(['train accuracy', 'validation accuracy'], loc='lower right', prop={'size': 12})\n",
    "\n",
    "plt.subplot(2,2,2)\n",
    "plt.plot(history.history['loss'])\n",
    "plt.plot(history.history['val_loss'])\n",
    "plt.title('Loss of Epochs')\n",
    "plt.ylabel('Loss', fontsize=12)\n",
    "plt.xlabel('Epoch', fontsize=12)\n",
    "plt.legend(['train loss', 'validation loss'], loc='best', prop={'size': 12})"
   ]
  },
  {
   "cell_type": "code",
   "execution_count": 1,
   "metadata": {
    "execution": {
     "iopub.execute_input": "2022-05-12T00:56:42.857863Z",
     "iopub.status.busy": "2022-05-12T00:56:42.857385Z",
     "iopub.status.idle": "2022-05-12T00:56:45.345119Z",
     "shell.execute_reply": "2022-05-12T00:56:45.344285Z",
     "shell.execute_reply.started": "2022-05-12T00:56:42.857822Z"
    }
   },
   "outputs": [
    {
     "ename": "NameError",
     "evalue": "name 'model' is not defined",
     "output_type": "error",
     "traceback": [
      "\u001b[1;31m---------------------------------------------------------------------------\u001b[0m",
      "\u001b[1;31mNameError\u001b[0m                                 Traceback (most recent call last)",
      "\u001b[1;32m<ipython-input-1-6ca9eb97c22e>\u001b[0m in \u001b[0;36m<module>\u001b[1;34m\u001b[0m\n\u001b[0;32m      1\u001b[0m \u001b[1;32mfrom\u001b[0m \u001b[0msklearn\u001b[0m\u001b[1;33m.\u001b[0m\u001b[0mmetrics\u001b[0m \u001b[1;32mimport\u001b[0m \u001b[0mclassification_report\u001b[0m\u001b[1;33m,\u001b[0m\u001b[0mconfusion_matrix\u001b[0m\u001b[1;33m\u001b[0m\u001b[1;33m\u001b[0m\u001b[0m\n\u001b[0;32m      2\u001b[0m \u001b[1;33m\u001b[0m\u001b[0m\n\u001b[1;32m----> 3\u001b[1;33m \u001b[0mpredictions\u001b[0m \u001b[1;33m=\u001b[0m \u001b[0mmodel\u001b[0m\u001b[1;33m.\u001b[0m\u001b[0mpredict\u001b[0m\u001b[1;33m(\u001b[0m\u001b[0mX_test\u001b[0m\u001b[1;33m)\u001b[0m\u001b[1;33m\u001b[0m\u001b[1;33m\u001b[0m\u001b[0m\n\u001b[0m\u001b[0;32m      4\u001b[0m \u001b[0mtp\u001b[0m\u001b[1;33m=\u001b[0m\u001b[1;36m0\u001b[0m\u001b[1;33m\u001b[0m\u001b[1;33m\u001b[0m\u001b[0m\n\u001b[0;32m      5\u001b[0m \u001b[0mfp\u001b[0m\u001b[1;33m=\u001b[0m\u001b[1;36m0\u001b[0m\u001b[1;33m\u001b[0m\u001b[1;33m\u001b[0m\u001b[0m\n",
      "\u001b[1;31mNameError\u001b[0m: name 'model' is not defined"
     ]
    }
   ],
   "source": [
    "from sklearn.metrics import classification_report,confusion_matrix\n",
    "\n",
    "predictions = model.predict(X_test)\n",
    "tp=0\n",
    "fp=0\n",
    "tn=0\n",
    "fn=0\n",
    "for i in range(len(predictions)):\n",
    "    if (predictions[i][0]>=predictions[i][1]):\n",
    "        if y_test[i] == 0:\n",
    "            tn += 1\n",
    "        else:\n",
    "            fn += 1\n",
    "    else:\n",
    "        if y_test[i] == 1:\n",
    "            tp += 1\n",
    "        else:\n",
    "            fp += 1\n",
    "print(tp,fp,tn,fn)\n",
    "            \n",
    "acur = (tp + tn)/(tp+tn+fp+fn) * 100\n",
    "pre = tp / (tp+fp) * 100\n",
    "recall = tp / (tp+fn) * 100\n",
    "f1 = (2*pre*recall)/(pre+recall)\n",
    "print('Accuracy: ',acur,'\\n','Precission: ',pre,'\\n','Recall:',recall,'\\n','F1 Score: ',f1)"
   ]
  },
  {
   "cell_type": "code",
   "execution_count": 14,
   "metadata": {
    "execution": {
     "iopub.execute_input": "2022-05-12T00:47:48.363500Z",
     "iopub.status.busy": "2022-05-12T00:47:48.363269Z",
     "iopub.status.idle": "2022-05-12T00:47:48.373533Z",
     "shell.execute_reply": "2022-05-12T00:47:48.372692Z",
     "shell.execute_reply.started": "2022-05-12T00:47:48.363472Z"
    }
   },
   "outputs": [
    {
     "data": {
      "text/plain": [
       "(128, 128, 1)"
      ]
     },
     "execution_count": 14,
     "metadata": {},
     "output_type": "execute_result"
    }
   ],
   "source": [
    "X_train.shape[1:]"
   ]
  }
 ],
 "metadata": {
  "kernelspec": {
   "display_name": "Python 3",
   "language": "python",
   "name": "python3"
  },
  "language_info": {
   "codemirror_mode": {
    "name": "ipython",
    "version": 3
   },
   "file_extension": ".py",
   "mimetype": "text/x-python",
   "name": "python",
   "nbconvert_exporter": "python",
   "pygments_lexer": "ipython3",
   "version": "3.8.3"
  }
 },
 "nbformat": 4,
 "nbformat_minor": 4
}
