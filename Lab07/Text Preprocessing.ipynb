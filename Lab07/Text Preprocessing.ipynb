{
 "cells": [
  {
   "cell_type": "code",
   "execution_count": 38,
   "id": "40375559",
   "metadata": {},
   "outputs": [],
   "source": [
    "import os\n",
    "import sklearn"
   ]
  },
  {
   "cell_type": "code",
   "execution_count": 25,
   "id": "04caa59f",
   "metadata": {},
   "outputs": [],
   "source": [
    "path_1 = os.getcwd() + '\\post-classifcations.txt'\n",
    "path_2 = os.getcwd() + '\\post-descriptions.txt'"
   ]
  },
  {
   "cell_type": "code",
   "execution_count": 26,
   "id": "c3496fc5",
   "metadata": {},
   "outputs": [
    {
     "data": {
      "text/plain": [
       "'C:\\\\Users\\\\91789\\\\Documents\\\\SJC\\\\ML1-2022\\\\post-classifcations.txt'"
      ]
     },
     "execution_count": 26,
     "metadata": {},
     "output_type": "execute_result"
    }
   ],
   "source": [
    "path_1"
   ]
  },
  {
   "cell_type": "code",
   "execution_count": 27,
   "id": "f846a6eb",
   "metadata": {},
   "outputs": [
    {
     "data": {
      "text/plain": [
       "'C:\\\\Users\\\\91789\\\\Documents\\\\SJC\\\\ML1-2022\\\\post-descriptions.txt'"
      ]
     },
     "execution_count": 27,
     "metadata": {},
     "output_type": "execute_result"
    }
   ],
   "source": [
    "path_2"
   ]
  },
  {
   "cell_type": "code",
   "execution_count": 33,
   "id": "f79c5b2f",
   "metadata": {},
   "outputs": [],
   "source": [
    "file = open(path_1, \"rt\")\n",
    "classification = file.read().splitlines()\n",
    "file.close()"
   ]
  },
  {
   "cell_type": "code",
   "execution_count": 35,
   "id": "e9cf85ee",
   "metadata": {},
   "outputs": [],
   "source": [
    "file = open(path_2, \"rt\")\n",
    "desc = file.read().splitlines()\n",
    "file.close()"
   ]
  },
  {
   "cell_type": "code",
   "execution_count": 34,
   "id": "67584b49",
   "metadata": {},
   "outputs": [
    {
     "data": {
      "text/plain": [
       "['chatbot',\n",
       " 'python basics',\n",
       " 'data science',\n",
       " 'python basics',\n",
       " 'chatbot',\n",
       " 'python basics',\n",
       " 'data science',\n",
       " 'chatbot',\n",
       " 'chatbot',\n",
       " 'python basics']"
      ]
     },
     "execution_count": 34,
     "metadata": {},
     "output_type": "execute_result"
    }
   ],
   "source": [
    "classification"
   ]
  },
  {
   "cell_type": "code",
   "execution_count": 37,
   "id": "cace544d",
   "metadata": {},
   "outputs": [
    {
     "data": {
      "text/plain": [
       "'Todays, Chatbot is the hot and trendy topic. It is a computer program that enables the user to interact with the bot like two real people chat.'"
      ]
     },
     "execution_count": 37,
     "metadata": {},
     "output_type": "execute_result"
    }
   ],
   "source": [
    "desc[0]"
   ]
  },
  {
   "cell_type": "code",
   "execution_count": 39,
   "id": "a05e718d",
   "metadata": {},
   "outputs": [],
   "source": [
    "from sklearn.feature_extraction.text import TfidfVectorizer"
   ]
  },
  {
   "cell_type": "code",
   "execution_count": 40,
   "id": "f698a8d2",
   "metadata": {},
   "outputs": [],
   "source": [
    "vectorizer = TfidfVectorizer()"
   ]
  },
  {
   "cell_type": "code",
   "execution_count": 41,
   "id": "18bd8658",
   "metadata": {},
   "outputs": [],
   "source": [
    "X = vectorizer.fit_transform(desc)"
   ]
  },
  {
   "cell_type": "code",
   "execution_count": 42,
   "id": "15fcc470",
   "metadata": {},
   "outputs": [
    {
     "data": {
      "text/plain": [
       "<10x149 sparse matrix of type '<class 'numpy.float64'>'\n",
       "\twith 239 stored elements in Compressed Sparse Row format>"
      ]
     },
     "execution_count": 42,
     "metadata": {},
     "output_type": "execute_result"
    }
   ],
   "source": [
    "X"
   ]
  },
  {
   "cell_type": "code",
   "execution_count": 43,
   "id": "68bc5a19",
   "metadata": {},
   "outputs": [],
   "source": [
    "from sklearn import preprocessing\n",
    "le = preprocessing.LabelEncoder()"
   ]
  },
  {
   "cell_type": "code",
   "execution_count": 44,
   "id": "9c82be55",
   "metadata": {},
   "outputs": [
    {
     "data": {
      "text/plain": [
       "LabelEncoder()"
      ]
     },
     "execution_count": 44,
     "metadata": {},
     "output_type": "execute_result"
    }
   ],
   "source": [
    "le.fit(classification)"
   ]
  },
  {
   "cell_type": "code",
   "execution_count": 45,
   "id": "4d236a9a",
   "metadata": {},
   "outputs": [
    {
     "data": {
      "text/plain": [
       "array(['chatbot', 'data science', 'python basics'], dtype='<U13')"
      ]
     },
     "execution_count": 45,
     "metadata": {},
     "output_type": "execute_result"
    }
   ],
   "source": [
    "le.classes_"
   ]
  },
  {
   "cell_type": "code",
   "execution_count": 50,
   "id": "cd8592da",
   "metadata": {},
   "outputs": [],
   "source": [
    "encoded_classes = le.transform(classification)"
   ]
  },
  {
   "cell_type": "code",
   "execution_count": 47,
   "id": "9b52dd63",
   "metadata": {},
   "outputs": [
    {
     "data": {
      "text/plain": [
       "['chatbot',\n",
       " 'python basics',\n",
       " 'data science',\n",
       " 'python basics',\n",
       " 'chatbot',\n",
       " 'python basics',\n",
       " 'data science',\n",
       " 'chatbot',\n",
       " 'chatbot',\n",
       " 'python basics']"
      ]
     },
     "execution_count": 47,
     "metadata": {},
     "output_type": "execute_result"
    }
   ],
   "source": [
    "classification"
   ]
  },
  {
   "cell_type": "code",
   "execution_count": 48,
   "id": "3017ffe1",
   "metadata": {},
   "outputs": [],
   "source": [
    "from sklearn.naive_bayes import GaussianNB"
   ]
  },
  {
   "cell_type": "code",
   "execution_count": 49,
   "id": "8c5f8912",
   "metadata": {},
   "outputs": [],
   "source": [
    "gnb = GaussianNB()"
   ]
  },
  {
   "cell_type": "code",
   "execution_count": 58,
   "id": "6c547c23",
   "metadata": {},
   "outputs": [],
   "source": [
    "y_pred = gnb.fit(X.toarray(), encoded_classes).predict(X.toarray())"
   ]
  },
  {
   "cell_type": "code",
   "execution_count": 59,
   "id": "0b0f1add",
   "metadata": {},
   "outputs": [
    {
     "data": {
      "text/plain": [
       "array([0, 2, 1, 2, 0, 2, 1, 0, 0, 2])"
      ]
     },
     "execution_count": 59,
     "metadata": {},
     "output_type": "execute_result"
    }
   ],
   "source": [
    "y_pred"
   ]
  },
  {
   "cell_type": "code",
   "execution_count": null,
   "id": "353a245d",
   "metadata": {},
   "outputs": [],
   "source": []
  }
 ],
 "metadata": {
  "kernelspec": {
   "display_name": "Python 3 (ipykernel)",
   "language": "python",
   "name": "python3"
  },
  "language_info": {
   "codemirror_mode": {
    "name": "ipython",
    "version": 3
   },
   "file_extension": ".py",
   "mimetype": "text/x-python",
   "name": "python",
   "nbconvert_exporter": "python",
   "pygments_lexer": "ipython3",
   "version": "3.9.5"
  }
 },
 "nbformat": 4,
 "nbformat_minor": 5
}
