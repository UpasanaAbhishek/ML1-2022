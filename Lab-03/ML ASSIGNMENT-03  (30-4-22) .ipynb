{
 "cells": [
  {
   "cell_type": "code",
   "execution_count": 139,
   "id": "0c8b627a",
   "metadata": {},
   "outputs": [],
   "source": [
    "import pandas as pd\n",
    "import numpy as np\n",
    "from sklearn.linear_model import LogisticRegression\n",
    "import seaborn as sns \n",
    "import matplotlib.pyplot as plt\n",
    "from sklearn.model_selection import train_test_split,cross_val_score\n",
    "from sklearn import metrics\n",
    "from sklearn.metrics import classification_report\n",
    "from sklearn.metrics import roc_curve, auc, roc_auc_score"
   ]
  },
  {
   "cell_type": "code",
   "execution_count": 2,
   "id": "3f87ec58",
   "metadata": {},
   "outputs": [],
   "source": [
    "df=pd.read_csv(\"C:/Users/91866/Downloads/Diabetespred.csv\")"
   ]
  },
  {
   "cell_type": "code",
   "execution_count": 3,
   "id": "47bf62fd",
   "metadata": {},
   "outputs": [
    {
     "data": {
      "text/html": [
       "<div>\n",
       "<style scoped>\n",
       "    .dataframe tbody tr th:only-of-type {\n",
       "        vertical-align: middle;\n",
       "    }\n",
       "\n",
       "    .dataframe tbody tr th {\n",
       "        vertical-align: top;\n",
       "    }\n",
       "\n",
       "    .dataframe thead th {\n",
       "        text-align: right;\n",
       "    }\n",
       "</style>\n",
       "<table border=\"1\" class=\"dataframe\">\n",
       "  <thead>\n",
       "    <tr style=\"text-align: right;\">\n",
       "      <th></th>\n",
       "      <th>Pregnancies</th>\n",
       "      <th>Glucose</th>\n",
       "      <th>BloodPressure</th>\n",
       "      <th>SkinThickness</th>\n",
       "      <th>Insulin</th>\n",
       "      <th>BMI</th>\n",
       "      <th>DiabetesPedigreeFunction</th>\n",
       "      <th>Age</th>\n",
       "      <th>Outcome</th>\n",
       "    </tr>\n",
       "  </thead>\n",
       "  <tbody>\n",
       "    <tr>\n",
       "      <th>0</th>\n",
       "      <td>6</td>\n",
       "      <td>148</td>\n",
       "      <td>72</td>\n",
       "      <td>35</td>\n",
       "      <td>0</td>\n",
       "      <td>33.6</td>\n",
       "      <td>0.627</td>\n",
       "      <td>50</td>\n",
       "      <td>1</td>\n",
       "    </tr>\n",
       "    <tr>\n",
       "      <th>1</th>\n",
       "      <td>1</td>\n",
       "      <td>85</td>\n",
       "      <td>66</td>\n",
       "      <td>29</td>\n",
       "      <td>0</td>\n",
       "      <td>26.6</td>\n",
       "      <td>0.351</td>\n",
       "      <td>31</td>\n",
       "      <td>0</td>\n",
       "    </tr>\n",
       "    <tr>\n",
       "      <th>2</th>\n",
       "      <td>8</td>\n",
       "      <td>183</td>\n",
       "      <td>64</td>\n",
       "      <td>0</td>\n",
       "      <td>0</td>\n",
       "      <td>23.3</td>\n",
       "      <td>0.672</td>\n",
       "      <td>32</td>\n",
       "      <td>1</td>\n",
       "    </tr>\n",
       "    <tr>\n",
       "      <th>3</th>\n",
       "      <td>1</td>\n",
       "      <td>89</td>\n",
       "      <td>66</td>\n",
       "      <td>23</td>\n",
       "      <td>94</td>\n",
       "      <td>28.1</td>\n",
       "      <td>0.167</td>\n",
       "      <td>21</td>\n",
       "      <td>0</td>\n",
       "    </tr>\n",
       "    <tr>\n",
       "      <th>4</th>\n",
       "      <td>0</td>\n",
       "      <td>137</td>\n",
       "      <td>40</td>\n",
       "      <td>35</td>\n",
       "      <td>168</td>\n",
       "      <td>43.1</td>\n",
       "      <td>2.288</td>\n",
       "      <td>33</td>\n",
       "      <td>1</td>\n",
       "    </tr>\n",
       "  </tbody>\n",
       "</table>\n",
       "</div>"
      ],
      "text/plain": [
       "   Pregnancies  Glucose  BloodPressure  SkinThickness  Insulin   BMI  \\\n",
       "0            6      148             72             35        0  33.6   \n",
       "1            1       85             66             29        0  26.6   \n",
       "2            8      183             64              0        0  23.3   \n",
       "3            1       89             66             23       94  28.1   \n",
       "4            0      137             40             35      168  43.1   \n",
       "\n",
       "   DiabetesPedigreeFunction  Age  Outcome  \n",
       "0                     0.627   50        1  \n",
       "1                     0.351   31        0  \n",
       "2                     0.672   32        1  \n",
       "3                     0.167   21        0  \n",
       "4                     2.288   33        1  "
      ]
     },
     "execution_count": 3,
     "metadata": {},
     "output_type": "execute_result"
    }
   ],
   "source": [
    "df.head()"
   ]
  },
  {
   "cell_type": "code",
   "execution_count": 4,
   "id": "bc9ac43e",
   "metadata": {},
   "outputs": [
    {
     "data": {
      "text/plain": [
       "(499, 9)"
      ]
     },
     "execution_count": 4,
     "metadata": {},
     "output_type": "execute_result"
    }
   ],
   "source": [
    "df.shape"
   ]
  },
  {
   "cell_type": "code",
   "execution_count": 5,
   "id": "cd5e1f1d",
   "metadata": {},
   "outputs": [
    {
     "name": "stdout",
     "output_type": "stream",
     "text": [
      "<class 'pandas.core.frame.DataFrame'>\n",
      "RangeIndex: 499 entries, 0 to 498\n",
      "Data columns (total 9 columns):\n",
      " #   Column                    Non-Null Count  Dtype  \n",
      "---  ------                    --------------  -----  \n",
      " 0   Pregnancies               499 non-null    int64  \n",
      " 1   Glucose                   499 non-null    int64  \n",
      " 2   BloodPressure             499 non-null    int64  \n",
      " 3   SkinThickness             499 non-null    int64  \n",
      " 4   Insulin                   499 non-null    int64  \n",
      " 5   BMI                       499 non-null    float64\n",
      " 6   DiabetesPedigreeFunction  499 non-null    float64\n",
      " 7   Age                       499 non-null    int64  \n",
      " 8   Outcome                   499 non-null    int64  \n",
      "dtypes: float64(2), int64(7)\n",
      "memory usage: 35.2 KB\n"
     ]
    }
   ],
   "source": [
    "df.info()"
   ]
  },
  {
   "cell_type": "code",
   "execution_count": 6,
   "id": "1fa2c968",
   "metadata": {},
   "outputs": [
    {
     "data": {
      "text/plain": [
       "Pregnancies                 0\n",
       "Glucose                     0\n",
       "BloodPressure               0\n",
       "SkinThickness               0\n",
       "Insulin                     0\n",
       "BMI                         0\n",
       "DiabetesPedigreeFunction    0\n",
       "Age                         0\n",
       "Outcome                     0\n",
       "dtype: int64"
      ]
     },
     "execution_count": 6,
     "metadata": {},
     "output_type": "execute_result"
    }
   ],
   "source": [
    "df.isnull().sum()"
   ]
  },
  {
   "cell_type": "code",
   "execution_count": 7,
   "id": "b0d6d505",
   "metadata": {},
   "outputs": [],
   "source": [
    "df['Outcome'] = df['Outcome'].apply(lambda x : 'yes' if x!=0 else 'no')"
   ]
  },
  {
   "cell_type": "code",
   "execution_count": 8,
   "id": "6e9ce221",
   "metadata": {},
   "outputs": [
    {
     "data": {
      "text/plain": [
       "no     317\n",
       "yes    182\n",
       "Name: Outcome, dtype: int64"
      ]
     },
     "execution_count": 8,
     "metadata": {},
     "output_type": "execute_result"
    }
   ],
   "source": [
    "df['Outcome'].value_counts()"
   ]
  },
  {
   "cell_type": "code",
   "execution_count": 9,
   "id": "64b1dda8",
   "metadata": {},
   "outputs": [],
   "source": [
    "df = df.astype({\"Outcome\": object})"
   ]
  },
  {
   "cell_type": "code",
   "execution_count": 10,
   "id": "025558a4",
   "metadata": {},
   "outputs": [
    {
     "name": "stdout",
     "output_type": "stream",
     "text": [
      "<class 'pandas.core.frame.DataFrame'>\n",
      "RangeIndex: 499 entries, 0 to 498\n",
      "Data columns (total 9 columns):\n",
      " #   Column                    Non-Null Count  Dtype  \n",
      "---  ------                    --------------  -----  \n",
      " 0   Pregnancies               499 non-null    int64  \n",
      " 1   Glucose                   499 non-null    int64  \n",
      " 2   BloodPressure             499 non-null    int64  \n",
      " 3   SkinThickness             499 non-null    int64  \n",
      " 4   Insulin                   499 non-null    int64  \n",
      " 5   BMI                       499 non-null    float64\n",
      " 6   DiabetesPedigreeFunction  499 non-null    float64\n",
      " 7   Age                       499 non-null    int64  \n",
      " 8   Outcome                   499 non-null    object \n",
      "dtypes: float64(2), int64(6), object(1)\n",
      "memory usage: 35.2+ KB\n"
     ]
    }
   ],
   "source": [
    "df.info()"
   ]
  },
  {
   "cell_type": "code",
   "execution_count": 11,
   "id": "c05658ef",
   "metadata": {},
   "outputs": [
    {
     "data": {
      "text/html": [
       "<div>\n",
       "<style scoped>\n",
       "    .dataframe tbody tr th:only-of-type {\n",
       "        vertical-align: middle;\n",
       "    }\n",
       "\n",
       "    .dataframe tbody tr th {\n",
       "        vertical-align: top;\n",
       "    }\n",
       "\n",
       "    .dataframe thead th {\n",
       "        text-align: right;\n",
       "    }\n",
       "</style>\n",
       "<table border=\"1\" class=\"dataframe\">\n",
       "  <thead>\n",
       "    <tr style=\"text-align: right;\">\n",
       "      <th></th>\n",
       "      <th>count</th>\n",
       "      <th>mean</th>\n",
       "      <th>std</th>\n",
       "      <th>min</th>\n",
       "      <th>25%</th>\n",
       "      <th>50%</th>\n",
       "      <th>75%</th>\n",
       "      <th>max</th>\n",
       "    </tr>\n",
       "  </thead>\n",
       "  <tbody>\n",
       "    <tr>\n",
       "      <th>Pregnancies</th>\n",
       "      <td>499.0</td>\n",
       "      <td>3.803607</td>\n",
       "      <td>3.345786</td>\n",
       "      <td>0.000</td>\n",
       "      <td>1.000</td>\n",
       "      <td>3.000</td>\n",
       "      <td>6.0000</td>\n",
       "      <td>17.00</td>\n",
       "    </tr>\n",
       "    <tr>\n",
       "      <th>Glucose</th>\n",
       "      <td>499.0</td>\n",
       "      <td>121.354709</td>\n",
       "      <td>32.441489</td>\n",
       "      <td>0.000</td>\n",
       "      <td>100.000</td>\n",
       "      <td>117.000</td>\n",
       "      <td>142.0000</td>\n",
       "      <td>197.00</td>\n",
       "    </tr>\n",
       "    <tr>\n",
       "      <th>BloodPressure</th>\n",
       "      <td>499.0</td>\n",
       "      <td>68.743487</td>\n",
       "      <td>19.452608</td>\n",
       "      <td>0.000</td>\n",
       "      <td>64.000</td>\n",
       "      <td>70.000</td>\n",
       "      <td>80.0000</td>\n",
       "      <td>122.00</td>\n",
       "    </tr>\n",
       "    <tr>\n",
       "      <th>SkinThickness</th>\n",
       "      <td>499.0</td>\n",
       "      <td>20.575150</td>\n",
       "      <td>15.720190</td>\n",
       "      <td>0.000</td>\n",
       "      <td>0.000</td>\n",
       "      <td>23.000</td>\n",
       "      <td>33.0000</td>\n",
       "      <td>63.00</td>\n",
       "    </tr>\n",
       "    <tr>\n",
       "      <th>Insulin</th>\n",
       "      <td>499.0</td>\n",
       "      <td>80.390782</td>\n",
       "      <td>119.774561</td>\n",
       "      <td>0.000</td>\n",
       "      <td>0.000</td>\n",
       "      <td>36.000</td>\n",
       "      <td>122.0000</td>\n",
       "      <td>846.00</td>\n",
       "    </tr>\n",
       "    <tr>\n",
       "      <th>BMI</th>\n",
       "      <td>499.0</td>\n",
       "      <td>31.984569</td>\n",
       "      <td>8.210358</td>\n",
       "      <td>0.000</td>\n",
       "      <td>27.050</td>\n",
       "      <td>32.000</td>\n",
       "      <td>36.6000</td>\n",
       "      <td>67.10</td>\n",
       "    </tr>\n",
       "    <tr>\n",
       "      <th>DiabetesPedigreeFunction</th>\n",
       "      <td>499.0</td>\n",
       "      <td>0.485377</td>\n",
       "      <td>0.345546</td>\n",
       "      <td>0.078</td>\n",
       "      <td>0.252</td>\n",
       "      <td>0.383</td>\n",
       "      <td>0.6335</td>\n",
       "      <td>2.42</td>\n",
       "    </tr>\n",
       "    <tr>\n",
       "      <th>Age</th>\n",
       "      <td>499.0</td>\n",
       "      <td>33.086172</td>\n",
       "      <td>11.636849</td>\n",
       "      <td>21.000</td>\n",
       "      <td>24.000</td>\n",
       "      <td>29.000</td>\n",
       "      <td>39.5000</td>\n",
       "      <td>81.00</td>\n",
       "    </tr>\n",
       "  </tbody>\n",
       "</table>\n",
       "</div>"
      ],
      "text/plain": [
       "                          count        mean         std     min      25%  \\\n",
       "Pregnancies               499.0    3.803607    3.345786   0.000    1.000   \n",
       "Glucose                   499.0  121.354709   32.441489   0.000  100.000   \n",
       "BloodPressure             499.0   68.743487   19.452608   0.000   64.000   \n",
       "SkinThickness             499.0   20.575150   15.720190   0.000    0.000   \n",
       "Insulin                   499.0   80.390782  119.774561   0.000    0.000   \n",
       "BMI                       499.0   31.984569    8.210358   0.000   27.050   \n",
       "DiabetesPedigreeFunction  499.0    0.485377    0.345546   0.078    0.252   \n",
       "Age                       499.0   33.086172   11.636849  21.000   24.000   \n",
       "\n",
       "                              50%       75%     max  \n",
       "Pregnancies                 3.000    6.0000   17.00  \n",
       "Glucose                   117.000  142.0000  197.00  \n",
       "BloodPressure              70.000   80.0000  122.00  \n",
       "SkinThickness              23.000   33.0000   63.00  \n",
       "Insulin                    36.000  122.0000  846.00  \n",
       "BMI                        32.000   36.6000   67.10  \n",
       "DiabetesPedigreeFunction    0.383    0.6335    2.42  \n",
       "Age                        29.000   39.5000   81.00  "
      ]
     },
     "execution_count": 11,
     "metadata": {},
     "output_type": "execute_result"
    }
   ],
   "source": [
    "df.describe().T"
   ]
  },
  {
   "cell_type": "code",
   "execution_count": 12,
   "id": "dc9cb4e8",
   "metadata": {},
   "outputs": [],
   "source": [
    "y=df.Outcome"
   ]
  },
  {
   "cell_type": "code",
   "execution_count": 13,
   "id": "d6bd116f",
   "metadata": {},
   "outputs": [
    {
     "data": {
      "text/plain": [
       "1     0.166333\n",
       "0     0.156313\n",
       "2     0.128257\n",
       "4     0.098196\n",
       "5     0.096192\n",
       "3     0.088176\n",
       "7     0.068136\n",
       "8     0.050100\n",
       "6     0.048096\n",
       "9     0.034068\n",
       "10    0.026052\n",
       "12    0.012024\n",
       "13    0.012024\n",
       "11    0.008016\n",
       "14    0.004008\n",
       "15    0.002004\n",
       "17    0.002004\n",
       "Name: Pregnancies, dtype: float64"
      ]
     },
     "execution_count": 13,
     "metadata": {},
     "output_type": "execute_result"
    }
   ],
   "source": [
    "df.Pregnancies.value_counts(normalize=True)"
   ]
  },
  {
   "cell_type": "code",
   "execution_count": 14,
   "id": "16e335fe",
   "metadata": {},
   "outputs": [
    {
     "data": {
      "text/plain": [
       "100    0.026052\n",
       "99     0.022044\n",
       "105    0.020040\n",
       "95     0.020040\n",
       "106    0.018036\n",
       "         ...   \n",
       "167    0.002004\n",
       "72     0.002004\n",
       "164    0.002004\n",
       "157    0.002004\n",
       "170    0.002004\n",
       "Name: Glucose, Length: 124, dtype: float64"
      ]
     },
     "execution_count": 14,
     "metadata": {},
     "output_type": "execute_result"
    }
   ],
   "source": [
    "df.Glucose.value_counts(normalize=True)"
   ]
  },
  {
   "cell_type": "code",
   "execution_count": 15,
   "id": "6ce4980d",
   "metadata": {},
   "outputs": [
    {
     "data": {
      "text/plain": [
       "70     0.076152\n",
       "64     0.068136\n",
       "68     0.068136\n",
       "74     0.066132\n",
       "72     0.062124\n",
       "78     0.052104\n",
       "80     0.050100\n",
       "0      0.048096\n",
       "66     0.046092\n",
       "76     0.044088\n",
       "62     0.044088\n",
       "82     0.038076\n",
       "60     0.036072\n",
       "84     0.036072\n",
       "90     0.026052\n",
       "88     0.026052\n",
       "58     0.022044\n",
       "86     0.022044\n",
       "50     0.018036\n",
       "56     0.016032\n",
       "75     0.014028\n",
       "52     0.014028\n",
       "92     0.012024\n",
       "54     0.012024\n",
       "85     0.010020\n",
       "48     0.010020\n",
       "65     0.010020\n",
       "98     0.006012\n",
       "104    0.004008\n",
       "55     0.004008\n",
       "100    0.004008\n",
       "30     0.004008\n",
       "108    0.004008\n",
       "110    0.004008\n",
       "94     0.004008\n",
       "96     0.004008\n",
       "102    0.002004\n",
       "40     0.002004\n",
       "95     0.002004\n",
       "44     0.002004\n",
       "46     0.002004\n",
       "61     0.002004\n",
       "122    0.002004\n",
       "Name: BloodPressure, dtype: float64"
      ]
     },
     "execution_count": 15,
     "metadata": {},
     "output_type": "execute_result"
    }
   ],
   "source": [
    "df.BloodPressure.value_counts(normalize=True)"
   ]
  },
  {
   "cell_type": "code",
   "execution_count": 16,
   "id": "dcf77e1f",
   "metadata": {},
   "outputs": [
    {
     "data": {
      "text/plain": [
       "0      0.484970\n",
       "140    0.014028\n",
       "94     0.012024\n",
       "135    0.010020\n",
       "130    0.010020\n",
       "         ...   \n",
       "129    0.002004\n",
       "128    0.002004\n",
       "119    0.002004\n",
       "116    0.002004\n",
       "95     0.002004\n",
       "Name: Insulin, Length: 149, dtype: float64"
      ]
     },
     "execution_count": 16,
     "metadata": {},
     "output_type": "execute_result"
    }
   ],
   "source": [
    "df.Insulin.value_counts(normalize=True)"
   ]
  },
  {
   "cell_type": "code",
   "execution_count": 17,
   "id": "8139fcf2",
   "metadata": {},
   "outputs": [
    {
     "data": {
      "text/plain": [
       "31.2    0.018036\n",
       "31.6    0.018036\n",
       "32.0    0.016032\n",
       "0.0     0.016032\n",
       "29.7    0.014028\n",
       "          ...   \n",
       "38.8    0.002004\n",
       "42.8    0.002004\n",
       "42.3    0.002004\n",
       "25.8    0.002004\n",
       "29.8    0.002004\n",
       "Name: BMI, Length: 224, dtype: float64"
      ]
     },
     "execution_count": 17,
     "metadata": {},
     "output_type": "execute_result"
    }
   ],
   "source": [
    "df.BMI.value_counts(normalize=True)"
   ]
  },
  {
   "cell_type": "code",
   "execution_count": 18,
   "id": "ee1d7345",
   "metadata": {},
   "outputs": [],
   "source": [
    "df['Glucose']=df['Glucose'].replace(0, np.nan)\n",
    "df['BloodPressure']=df['BloodPressure'].replace(0, np.nan)\n",
    "df['SkinThickness']=df['SkinThickness'].replace(0, np.nan)\n",
    "df['Insulin']=df['Insulin'].replace(0, np.nan)\n",
    "df['BMI']=df['BMI'].replace(0, np.nan)"
   ]
  },
  {
   "cell_type": "code",
   "execution_count": 19,
   "id": "2c7e236c",
   "metadata": {},
   "outputs": [],
   "source": [
    "df['BMI']=df['BMI'].fillna(df['BMI'].mean())"
   ]
  },
  {
   "cell_type": "code",
   "execution_count": 20,
   "id": "d17b9512",
   "metadata": {},
   "outputs": [],
   "source": [
    "df['Insulin']=df['Insulin'].fillna(df['Insulin'].mean())"
   ]
  },
  {
   "cell_type": "code",
   "execution_count": 21,
   "id": "5a468d1b",
   "metadata": {},
   "outputs": [],
   "source": [
    "df['BloodPressure']=df['BloodPressure'].fillna(df['BloodPressure'].mean())"
   ]
  },
  {
   "cell_type": "code",
   "execution_count": 22,
   "id": "ed1f4f81",
   "metadata": {},
   "outputs": [],
   "source": [
    "df['SkinThickness']=df['SkinThickness'].fillna(df['SkinThickness'].mean())"
   ]
  },
  {
   "cell_type": "code",
   "execution_count": 23,
   "id": "75fda29c",
   "metadata": {},
   "outputs": [],
   "source": [
    "df['Glucose']=df['Glucose'].fillna(df['Glucose'].mean())"
   ]
  },
  {
   "cell_type": "code",
   "execution_count": 24,
   "id": "2646220f",
   "metadata": {},
   "outputs": [
    {
     "data": {
      "text/html": [
       "<div>\n",
       "<style scoped>\n",
       "    .dataframe tbody tr th:only-of-type {\n",
       "        vertical-align: middle;\n",
       "    }\n",
       "\n",
       "    .dataframe tbody tr th {\n",
       "        vertical-align: top;\n",
       "    }\n",
       "\n",
       "    .dataframe thead th {\n",
       "        text-align: right;\n",
       "    }\n",
       "</style>\n",
       "<table border=\"1\" class=\"dataframe\">\n",
       "  <thead>\n",
       "    <tr style=\"text-align: right;\">\n",
       "      <th></th>\n",
       "      <th>count</th>\n",
       "      <th>mean</th>\n",
       "      <th>std</th>\n",
       "      <th>min</th>\n",
       "      <th>25%</th>\n",
       "      <th>50%</th>\n",
       "      <th>75%</th>\n",
       "      <th>max</th>\n",
       "    </tr>\n",
       "  </thead>\n",
       "  <tbody>\n",
       "    <tr>\n",
       "      <th>Pregnancies</th>\n",
       "      <td>499.0</td>\n",
       "      <td>3.803607</td>\n",
       "      <td>3.345786</td>\n",
       "      <td>0.000</td>\n",
       "      <td>1.000</td>\n",
       "      <td>3.000000</td>\n",
       "      <td>6.000000</td>\n",
       "      <td>17.00</td>\n",
       "    </tr>\n",
       "    <tr>\n",
       "      <th>Glucose</th>\n",
       "      <td>499.0</td>\n",
       "      <td>122.335354</td>\n",
       "      <td>30.548412</td>\n",
       "      <td>44.000</td>\n",
       "      <td>100.000</td>\n",
       "      <td>118.000000</td>\n",
       "      <td>142.000000</td>\n",
       "      <td>197.00</td>\n",
       "    </tr>\n",
       "    <tr>\n",
       "      <th>BloodPressure</th>\n",
       "      <td>499.0</td>\n",
       "      <td>72.216842</td>\n",
       "      <td>11.796353</td>\n",
       "      <td>30.000</td>\n",
       "      <td>64.000</td>\n",
       "      <td>72.000000</td>\n",
       "      <td>80.000000</td>\n",
       "      <td>122.00</td>\n",
       "    </tr>\n",
       "    <tr>\n",
       "      <th>SkinThickness</th>\n",
       "      <td>499.0</td>\n",
       "      <td>28.921127</td>\n",
       "      <td>8.663707</td>\n",
       "      <td>7.000</td>\n",
       "      <td>25.000</td>\n",
       "      <td>28.921127</td>\n",
       "      <td>33.000000</td>\n",
       "      <td>63.00</td>\n",
       "    </tr>\n",
       "    <tr>\n",
       "      <th>Insulin</th>\n",
       "      <td>499.0</td>\n",
       "      <td>156.089494</td>\n",
       "      <td>90.819859</td>\n",
       "      <td>14.000</td>\n",
       "      <td>115.500</td>\n",
       "      <td>156.089494</td>\n",
       "      <td>156.089494</td>\n",
       "      <td>846.00</td>\n",
       "    </tr>\n",
       "    <tr>\n",
       "      <th>BMI</th>\n",
       "      <td>499.0</td>\n",
       "      <td>32.505703</td>\n",
       "      <td>7.120975</td>\n",
       "      <td>18.200</td>\n",
       "      <td>27.400</td>\n",
       "      <td>32.400000</td>\n",
       "      <td>36.600000</td>\n",
       "      <td>67.10</td>\n",
       "    </tr>\n",
       "    <tr>\n",
       "      <th>DiabetesPedigreeFunction</th>\n",
       "      <td>499.0</td>\n",
       "      <td>0.485377</td>\n",
       "      <td>0.345546</td>\n",
       "      <td>0.078</td>\n",
       "      <td>0.252</td>\n",
       "      <td>0.383000</td>\n",
       "      <td>0.633500</td>\n",
       "      <td>2.42</td>\n",
       "    </tr>\n",
       "    <tr>\n",
       "      <th>Age</th>\n",
       "      <td>499.0</td>\n",
       "      <td>33.086172</td>\n",
       "      <td>11.636849</td>\n",
       "      <td>21.000</td>\n",
       "      <td>24.000</td>\n",
       "      <td>29.000000</td>\n",
       "      <td>39.500000</td>\n",
       "      <td>81.00</td>\n",
       "    </tr>\n",
       "  </tbody>\n",
       "</table>\n",
       "</div>"
      ],
      "text/plain": [
       "                          count        mean        std     min      25%  \\\n",
       "Pregnancies               499.0    3.803607   3.345786   0.000    1.000   \n",
       "Glucose                   499.0  122.335354  30.548412  44.000  100.000   \n",
       "BloodPressure             499.0   72.216842  11.796353  30.000   64.000   \n",
       "SkinThickness             499.0   28.921127   8.663707   7.000   25.000   \n",
       "Insulin                   499.0  156.089494  90.819859  14.000  115.500   \n",
       "BMI                       499.0   32.505703   7.120975  18.200   27.400   \n",
       "DiabetesPedigreeFunction  499.0    0.485377   0.345546   0.078    0.252   \n",
       "Age                       499.0   33.086172  11.636849  21.000   24.000   \n",
       "\n",
       "                                 50%         75%     max  \n",
       "Pregnancies                 3.000000    6.000000   17.00  \n",
       "Glucose                   118.000000  142.000000  197.00  \n",
       "BloodPressure              72.000000   80.000000  122.00  \n",
       "SkinThickness              28.921127   33.000000   63.00  \n",
       "Insulin                   156.089494  156.089494  846.00  \n",
       "BMI                        32.400000   36.600000   67.10  \n",
       "DiabetesPedigreeFunction    0.383000    0.633500    2.42  \n",
       "Age                        29.000000   39.500000   81.00  "
      ]
     },
     "execution_count": 24,
     "metadata": {},
     "output_type": "execute_result"
    }
   ],
   "source": [
    "df.describe().T"
   ]
  },
  {
   "cell_type": "code",
   "execution_count": 37,
   "id": "f732a3fc",
   "metadata": {},
   "outputs": [
    {
     "data": {
      "text/html": [
       "<div>\n",
       "<style scoped>\n",
       "    .dataframe tbody tr th:only-of-type {\n",
       "        vertical-align: middle;\n",
       "    }\n",
       "\n",
       "    .dataframe tbody tr th {\n",
       "        vertical-align: top;\n",
       "    }\n",
       "\n",
       "    .dataframe thead th {\n",
       "        text-align: right;\n",
       "    }\n",
       "</style>\n",
       "<table border=\"1\" class=\"dataframe\">\n",
       "  <thead>\n",
       "    <tr style=\"text-align: right;\">\n",
       "      <th></th>\n",
       "      <th>Pregnancies</th>\n",
       "      <th>Glucose</th>\n",
       "      <th>BloodPressure</th>\n",
       "      <th>SkinThickness</th>\n",
       "      <th>Insulin</th>\n",
       "      <th>BMI</th>\n",
       "      <th>DiabetesPedigreeFunction</th>\n",
       "      <th>Age</th>\n",
       "    </tr>\n",
       "  </thead>\n",
       "  <tbody>\n",
       "    <tr>\n",
       "      <th>Pregnancies</th>\n",
       "      <td>1.000000</td>\n",
       "      <td>0.181497</td>\n",
       "      <td>0.180150</td>\n",
       "      <td>0.090544</td>\n",
       "      <td>0.055054</td>\n",
       "      <td>0.026962</td>\n",
       "      <td>-0.041918</td>\n",
       "      <td>0.528406</td>\n",
       "    </tr>\n",
       "    <tr>\n",
       "      <th>Glucose</th>\n",
       "      <td>0.181497</td>\n",
       "      <td>1.000000</td>\n",
       "      <td>0.170533</td>\n",
       "      <td>0.192422</td>\n",
       "      <td>0.442680</td>\n",
       "      <td>0.229257</td>\n",
       "      <td>0.153271</td>\n",
       "      <td>0.313651</td>\n",
       "    </tr>\n",
       "    <tr>\n",
       "      <th>BloodPressure</th>\n",
       "      <td>0.180150</td>\n",
       "      <td>0.170533</td>\n",
       "      <td>1.000000</td>\n",
       "      <td>0.175199</td>\n",
       "      <td>0.065999</td>\n",
       "      <td>0.276749</td>\n",
       "      <td>-0.040172</td>\n",
       "      <td>0.306463</td>\n",
       "    </tr>\n",
       "    <tr>\n",
       "      <th>SkinThickness</th>\n",
       "      <td>0.090544</td>\n",
       "      <td>0.192422</td>\n",
       "      <td>0.175199</td>\n",
       "      <td>1.000000</td>\n",
       "      <td>0.210991</td>\n",
       "      <td>0.573737</td>\n",
       "      <td>0.110406</td>\n",
       "      <td>0.100121</td>\n",
       "    </tr>\n",
       "    <tr>\n",
       "      <th>Insulin</th>\n",
       "      <td>0.055054</td>\n",
       "      <td>0.442680</td>\n",
       "      <td>0.065999</td>\n",
       "      <td>0.210991</td>\n",
       "      <td>1.000000</td>\n",
       "      <td>0.184515</td>\n",
       "      <td>0.135971</td>\n",
       "      <td>0.156185</td>\n",
       "    </tr>\n",
       "    <tr>\n",
       "      <th>BMI</th>\n",
       "      <td>0.026962</td>\n",
       "      <td>0.229257</td>\n",
       "      <td>0.276749</td>\n",
       "      <td>0.573737</td>\n",
       "      <td>0.184515</td>\n",
       "      <td>1.000000</td>\n",
       "      <td>0.142480</td>\n",
       "      <td>0.009476</td>\n",
       "    </tr>\n",
       "    <tr>\n",
       "      <th>DiabetesPedigreeFunction</th>\n",
       "      <td>-0.041918</td>\n",
       "      <td>0.153271</td>\n",
       "      <td>-0.040172</td>\n",
       "      <td>0.110406</td>\n",
       "      <td>0.135971</td>\n",
       "      <td>0.142480</td>\n",
       "      <td>1.000000</td>\n",
       "      <td>0.041550</td>\n",
       "    </tr>\n",
       "    <tr>\n",
       "      <th>Age</th>\n",
       "      <td>0.528406</td>\n",
       "      <td>0.313651</td>\n",
       "      <td>0.306463</td>\n",
       "      <td>0.100121</td>\n",
       "      <td>0.156185</td>\n",
       "      <td>0.009476</td>\n",
       "      <td>0.041550</td>\n",
       "      <td>1.000000</td>\n",
       "    </tr>\n",
       "  </tbody>\n",
       "</table>\n",
       "</div>"
      ],
      "text/plain": [
       "                          Pregnancies   Glucose  BloodPressure  SkinThickness  \\\n",
       "Pregnancies                  1.000000  0.181497       0.180150       0.090544   \n",
       "Glucose                      0.181497  1.000000       0.170533       0.192422   \n",
       "BloodPressure                0.180150  0.170533       1.000000       0.175199   \n",
       "SkinThickness                0.090544  0.192422       0.175199       1.000000   \n",
       "Insulin                      0.055054  0.442680       0.065999       0.210991   \n",
       "BMI                          0.026962  0.229257       0.276749       0.573737   \n",
       "DiabetesPedigreeFunction    -0.041918  0.153271      -0.040172       0.110406   \n",
       "Age                          0.528406  0.313651       0.306463       0.100121   \n",
       "\n",
       "                           Insulin       BMI  DiabetesPedigreeFunction  \\\n",
       "Pregnancies               0.055054  0.026962                 -0.041918   \n",
       "Glucose                   0.442680  0.229257                  0.153271   \n",
       "BloodPressure             0.065999  0.276749                 -0.040172   \n",
       "SkinThickness             0.210991  0.573737                  0.110406   \n",
       "Insulin                   1.000000  0.184515                  0.135971   \n",
       "BMI                       0.184515  1.000000                  0.142480   \n",
       "DiabetesPedigreeFunction  0.135971  0.142480                  1.000000   \n",
       "Age                       0.156185  0.009476                  0.041550   \n",
       "\n",
       "                               Age  \n",
       "Pregnancies               0.528406  \n",
       "Glucose                   0.313651  \n",
       "BloodPressure             0.306463  \n",
       "SkinThickness             0.100121  \n",
       "Insulin                   0.156185  \n",
       "BMI                       0.009476  \n",
       "DiabetesPedigreeFunction  0.041550  \n",
       "Age                       1.000000  "
      ]
     },
     "execution_count": 37,
     "metadata": {},
     "output_type": "execute_result"
    }
   ],
   "source": [
    "df.corr()"
   ]
  },
  {
   "cell_type": "code",
   "execution_count": 45,
   "id": "031e167e",
   "metadata": {},
   "outputs": [
    {
     "data": {
      "text/plain": [
       "<seaborn.axisgrid.FacetGrid at 0x22fcd02b310>"
      ]
     },
     "execution_count": 45,
     "metadata": {},
     "output_type": "execute_result"
    },
    {
     "data": {
      "image/png": "[encoded data removed]",
      "text/plain": [
       "<Figure size 360x360 with 1 Axes>"
      ]
     },
     "metadata": {
      "needs_background": "light"
     },
     "output_type": "display_data"
    }
   ],
   "source": [
    "sns.displot(df['BloodPressure'])"
   ]
  },
  {
   "cell_type": "code",
   "execution_count": 46,
   "id": "270c56ab",
   "metadata": {},
   "outputs": [],
   "source": [
    "#most common range of bp is between 60 and 80"
   ]
  },
  {
   "cell_type": "code",
   "execution_count": 48,
   "id": "78420c36",
   "metadata": {},
   "outputs": [
    {
     "data": {
      "text/plain": [
       "<seaborn.axisgrid.FacetGrid at 0x22fccf96b80>"
      ]
     },
     "execution_count": 48,
     "metadata": {},
     "output_type": "execute_result"
    },
    {
     "data": {
      "image/png": "[encoded data removed]",
      "text/plain": [
       "<Figure size 360x360 with 1 Axes>"
      ]
     },
     "metadata": {
      "needs_background": "light"
     },
     "output_type": "display_data"
    }
   ],
   "source": [
    "sns.displot(df['Glucose'])"
   ]
  },
  {
   "cell_type": "code",
   "execution_count": 49,
   "id": "3cbcce14",
   "metadata": {},
   "outputs": [],
   "source": [
    "#maximum glucose level is on the range of 90 to 110"
   ]
  },
  {
   "cell_type": "code",
   "execution_count": 43,
   "id": "5a128f64",
   "metadata": {},
   "outputs": [
    {
     "data": {
      "text/plain": [
       "<AxesSubplot:xlabel='Outcome', ylabel='Pregnancies'>"
      ]
     },
     "execution_count": 43,
     "metadata": {},
     "output_type": "execute_result"
    },
    {
     "data": {
      "image/png": "[encoded data removed]",
      "text/plain": [
       "<Figure size 432x288 with 1 Axes>"
      ]
     },
     "metadata": {
      "needs_background": "light"
     },
     "output_type": "display_data"
    }
   ],
   "source": [
    "sns.barplot(x='Outcome',y='Pregnancies',palette = \"ch:.36\",data=df)"
   ]
  },
  {
   "cell_type": "code",
   "execution_count": 47,
   "id": "300e48db",
   "metadata": {},
   "outputs": [],
   "source": [
    "#high  number of pregenancies are seen in women who have diabetes"
   ]
  },
  {
   "cell_type": "code",
   "execution_count": 51,
   "id": "bd8e5a9a",
   "metadata": {},
   "outputs": [
    {
     "data": {
      "text/plain": [
       "<AxesSubplot:xlabel='Outcome', ylabel='SkinThickness'>"
      ]
     },
     "execution_count": 51,
     "metadata": {},
     "output_type": "execute_result"
    },
    {
     "data": {
      "image/png": "[encoded data removed]",
      "text/plain": [
       "<Figure size 432x288 with 1 Axes>"
      ]
     },
     "metadata": {
      "needs_background": "light"
     },
     "output_type": "display_data"
    }
   ],
   "source": [
    "sns.barplot(x='Outcome',y='SkinThickness',palette = \"ch:.36\",data=df)"
   ]
  },
  {
   "cell_type": "code",
   "execution_count": 52,
   "id": "bd2f3075",
   "metadata": {},
   "outputs": [],
   "source": [
    "#slightly greater skin thickness is seen in diabetic patients compared to the ones who don not jave diabetes "
   ]
  },
  {
   "cell_type": "code",
   "execution_count": 56,
   "id": "42187471",
   "metadata": {},
   "outputs": [
    {
     "data": {
      "text/plain": [
       "<seaborn.axisgrid.FacetGrid at 0x22fcce45f70>"
      ]
     },
     "execution_count": 56,
     "metadata": {},
     "output_type": "execute_result"
    },
    {
     "data": {
      "image/png": "[encoded data removed]",
      "text/plain": [
       "<Figure size 360x360 with 1 Axes>"
      ]
     },
     "metadata": {
      "needs_background": "light"
     },
     "output_type": "display_data"
    }
   ],
   "source": [
    "sns.catplot(x = \"Outcome\", y = \"Insulin\", data = df)"
   ]
  },
  {
   "cell_type": "code",
   "execution_count": 57,
   "id": "54b21c22",
   "metadata": {},
   "outputs": [],
   "source": [
    "#highest insulin is of an individual with diabetes,most of the individuals without diabetes have an insulin level between 0 and almost 180"
   ]
  },
  {
   "cell_type": "code",
   "execution_count": 33,
   "id": "8e42c20d",
   "metadata": {},
   "outputs": [
    {
     "data": {
      "text/plain": [
       "no     317\n",
       "yes    182\n",
       "Name: Outcome, dtype: int64"
      ]
     },
     "execution_count": 33,
     "metadata": {},
     "output_type": "execute_result"
    }
   ],
   "source": [
    "df['Outcome'].value_counts()"
   ]
  },
  {
   "cell_type": "code",
   "execution_count": 34,
   "id": "e2425521",
   "metadata": {},
   "outputs": [
    {
     "data": {
      "text/plain": [
       "<AxesSubplot:xlabel='Outcome', ylabel='count'>"
      ]
     },
     "execution_count": 34,
     "metadata": {},
     "output_type": "execute_result"
    },
    {
     "data": {
      "image/png": "[encoded data removed]",
      "text/plain": [
       "<Figure size 432x288 with 1 Axes>"
      ]
     },
     "metadata": {
      "needs_background": "light"
     },
     "output_type": "display_data"
    }
   ],
   "source": [
    "sns.countplot(x='Outcome',data=df)"
   ]
  },
  {
   "cell_type": "code",
   "execution_count": null,
   "id": "38bc3d8c",
   "metadata": {},
   "outputs": [],
   "source": [
    "#according to the dataset, there are less number of patients who are diabetic"
   ]
  },
  {
   "cell_type": "code",
   "execution_count": 26,
   "id": "e363b8f8",
   "metadata": {},
   "outputs": [
    {
     "data": {
      "text/html": [
       "<div>\n",
       "<style scoped>\n",
       "    .dataframe tbody tr th:only-of-type {\n",
       "        vertical-align: middle;\n",
       "    }\n",
       "\n",
       "    .dataframe tbody tr th {\n",
       "        vertical-align: top;\n",
       "    }\n",
       "\n",
       "    .dataframe thead th {\n",
       "        text-align: right;\n",
       "    }\n",
       "</style>\n",
       "<table border=\"1\" class=\"dataframe\">\n",
       "  <thead>\n",
       "    <tr style=\"text-align: right;\">\n",
       "      <th></th>\n",
       "      <th>Pregnancies</th>\n",
       "      <th>Glucose</th>\n",
       "      <th>BloodPressure</th>\n",
       "      <th>SkinThickness</th>\n",
       "      <th>Insulin</th>\n",
       "      <th>BMI</th>\n",
       "      <th>DiabetesPedigreeFunction</th>\n",
       "      <th>Age</th>\n",
       "      <th>Outcome_no</th>\n",
       "      <th>Outcome_yes</th>\n",
       "    </tr>\n",
       "  </thead>\n",
       "  <tbody>\n",
       "    <tr>\n",
       "      <th>0</th>\n",
       "      <td>6</td>\n",
       "      <td>148.0</td>\n",
       "      <td>72.000000</td>\n",
       "      <td>35.000000</td>\n",
       "      <td>156.089494</td>\n",
       "      <td>33.600000</td>\n",
       "      <td>0.627</td>\n",
       "      <td>50</td>\n",
       "      <td>0</td>\n",
       "      <td>1</td>\n",
       "    </tr>\n",
       "    <tr>\n",
       "      <th>1</th>\n",
       "      <td>1</td>\n",
       "      <td>85.0</td>\n",
       "      <td>66.000000</td>\n",
       "      <td>29.000000</td>\n",
       "      <td>156.089494</td>\n",
       "      <td>26.600000</td>\n",
       "      <td>0.351</td>\n",
       "      <td>31</td>\n",
       "      <td>1</td>\n",
       "      <td>0</td>\n",
       "    </tr>\n",
       "    <tr>\n",
       "      <th>2</th>\n",
       "      <td>8</td>\n",
       "      <td>183.0</td>\n",
       "      <td>64.000000</td>\n",
       "      <td>28.921127</td>\n",
       "      <td>156.089494</td>\n",
       "      <td>23.300000</td>\n",
       "      <td>0.672</td>\n",
       "      <td>32</td>\n",
       "      <td>0</td>\n",
       "      <td>1</td>\n",
       "    </tr>\n",
       "    <tr>\n",
       "      <th>3</th>\n",
       "      <td>1</td>\n",
       "      <td>89.0</td>\n",
       "      <td>66.000000</td>\n",
       "      <td>23.000000</td>\n",
       "      <td>94.000000</td>\n",
       "      <td>28.100000</td>\n",
       "      <td>0.167</td>\n",
       "      <td>21</td>\n",
       "      <td>1</td>\n",
       "      <td>0</td>\n",
       "    </tr>\n",
       "    <tr>\n",
       "      <th>4</th>\n",
       "      <td>0</td>\n",
       "      <td>137.0</td>\n",
       "      <td>40.000000</td>\n",
       "      <td>35.000000</td>\n",
       "      <td>168.000000</td>\n",
       "      <td>43.100000</td>\n",
       "      <td>2.288</td>\n",
       "      <td>33</td>\n",
       "      <td>0</td>\n",
       "      <td>1</td>\n",
       "    </tr>\n",
       "    <tr>\n",
       "      <th>...</th>\n",
       "      <td>...</td>\n",
       "      <td>...</td>\n",
       "      <td>...</td>\n",
       "      <td>...</td>\n",
       "      <td>...</td>\n",
       "      <td>...</td>\n",
       "      <td>...</td>\n",
       "      <td>...</td>\n",
       "      <td>...</td>\n",
       "      <td>...</td>\n",
       "    </tr>\n",
       "    <tr>\n",
       "      <th>494</th>\n",
       "      <td>3</td>\n",
       "      <td>80.0</td>\n",
       "      <td>72.216842</td>\n",
       "      <td>28.921127</td>\n",
       "      <td>156.089494</td>\n",
       "      <td>32.505703</td>\n",
       "      <td>0.174</td>\n",
       "      <td>22</td>\n",
       "      <td>1</td>\n",
       "      <td>0</td>\n",
       "    </tr>\n",
       "    <tr>\n",
       "      <th>495</th>\n",
       "      <td>6</td>\n",
       "      <td>166.0</td>\n",
       "      <td>74.000000</td>\n",
       "      <td>28.921127</td>\n",
       "      <td>156.089494</td>\n",
       "      <td>26.600000</td>\n",
       "      <td>0.304</td>\n",
       "      <td>66</td>\n",
       "      <td>1</td>\n",
       "      <td>0</td>\n",
       "    </tr>\n",
       "    <tr>\n",
       "      <th>496</th>\n",
       "      <td>5</td>\n",
       "      <td>110.0</td>\n",
       "      <td>68.000000</td>\n",
       "      <td>28.921127</td>\n",
       "      <td>156.089494</td>\n",
       "      <td>26.000000</td>\n",
       "      <td>0.292</td>\n",
       "      <td>30</td>\n",
       "      <td>1</td>\n",
       "      <td>0</td>\n",
       "    </tr>\n",
       "    <tr>\n",
       "      <th>497</th>\n",
       "      <td>2</td>\n",
       "      <td>81.0</td>\n",
       "      <td>72.000000</td>\n",
       "      <td>15.000000</td>\n",
       "      <td>76.000000</td>\n",
       "      <td>30.100000</td>\n",
       "      <td>0.547</td>\n",
       "      <td>25</td>\n",
       "      <td>1</td>\n",
       "      <td>0</td>\n",
       "    </tr>\n",
       "    <tr>\n",
       "      <th>498</th>\n",
       "      <td>7</td>\n",
       "      <td>195.0</td>\n",
       "      <td>70.000000</td>\n",
       "      <td>33.000000</td>\n",
       "      <td>145.000000</td>\n",
       "      <td>25.100000</td>\n",
       "      <td>0.163</td>\n",
       "      <td>55</td>\n",
       "      <td>0</td>\n",
       "      <td>1</td>\n",
       "    </tr>\n",
       "  </tbody>\n",
       "</table>\n",
       "<p>499 rows × 10 columns</p>\n",
       "</div>"
      ],
      "text/plain": [
       "     Pregnancies  Glucose  BloodPressure  SkinThickness     Insulin  \\\n",
       "0              6    148.0      72.000000      35.000000  156.089494   \n",
       "1              1     85.0      66.000000      29.000000  156.089494   \n",
       "2              8    183.0      64.000000      28.921127  156.089494   \n",
       "3              1     89.0      66.000000      23.000000   94.000000   \n",
       "4              0    137.0      40.000000      35.000000  168.000000   \n",
       "..           ...      ...            ...            ...         ...   \n",
       "494            3     80.0      72.216842      28.921127  156.089494   \n",
       "495            6    166.0      74.000000      28.921127  156.089494   \n",
       "496            5    110.0      68.000000      28.921127  156.089494   \n",
       "497            2     81.0      72.000000      15.000000   76.000000   \n",
       "498            7    195.0      70.000000      33.000000  145.000000   \n",
       "\n",
       "           BMI  DiabetesPedigreeFunction  Age  Outcome_no  Outcome_yes  \n",
       "0    33.600000                     0.627   50           0            1  \n",
       "1    26.600000                     0.351   31           1            0  \n",
       "2    23.300000                     0.672   32           0            1  \n",
       "3    28.100000                     0.167   21           1            0  \n",
       "4    43.100000                     2.288   33           0            1  \n",
       "..         ...                       ...  ...         ...          ...  \n",
       "494  32.505703                     0.174   22           1            0  \n",
       "495  26.600000                     0.304   66           1            0  \n",
       "496  26.000000                     0.292   30           1            0  \n",
       "497  30.100000                     0.547   25           1            0  \n",
       "498  25.100000                     0.163   55           0            1  \n",
       "\n",
       "[499 rows x 10 columns]"
      ]
     },
     "execution_count": 26,
     "metadata": {},
     "output_type": "execute_result"
    }
   ],
   "source": [
    "pd.get_dummies(data=df)"
   ]
  },
  {
   "cell_type": "code",
   "execution_count": 59,
   "id": "3b5b9d69",
   "metadata": {},
   "outputs": [],
   "source": [
    "x = df[['Pregnancies','Glucose','BloodPressure','SkinThickness','Insulin','BMI','DiabetesPedigreeFunction','Age']]\n",
    "y = df['Outcome']"
   ]
  },
  {
   "cell_type": "code",
   "execution_count": 120,
   "id": "716f4225",
   "metadata": {},
   "outputs": [],
   "source": [
    "x_train, x_test, y_train, y_test = train_test_split(x, y, test_size=0.20, random_state=42)"
   ]
  },
  {
   "cell_type": "code",
   "execution_count": 121,
   "id": "4266f02a",
   "metadata": {},
   "outputs": [],
   "source": [
    "clf = LogisticRegression(random_state=0)"
   ]
  },
  {
   "cell_type": "code",
   "execution_count": 122,
   "id": "ad04d510",
   "metadata": {},
   "outputs": [
    {
     "name": "stderr",
     "output_type": "stream",
     "text": [
      "C:\\Users\\91866\\anaconda3\\lib\\site-packages\\sklearn\\linear_model\\_logistic.py:763: ConvergenceWarning: lbfgs failed to converge (status=1):\n",
      "STOP: TOTAL NO. of ITERATIONS REACHED LIMIT.\n",
      "\n",
      "Increase the number of iterations (max_iter) or scale the data as shown in:\n",
      "    https://scikit-learn.org/stable/modules/preprocessing.html\n",
      "Please also refer to the documentation for alternative solver options:\n",
      "    https://scikit-learn.org/stable/modules/linear_model.html#logistic-regression\n",
      "  n_iter_i = _check_optimize_result(\n"
     ]
    },
    {
     "data": {
      "text/plain": [
       "LogisticRegression(random_state=0)"
      ]
     },
     "execution_count": 122,
     "metadata": {},
     "output_type": "execute_result"
    }
   ],
   "source": [
    "clf.fit(x_train, y_train)"
   ]
  },
  {
   "cell_type": "code",
   "execution_count": 123,
   "id": "058c4b1e",
   "metadata": {},
   "outputs": [
    {
     "data": {
      "text/plain": [
       "array(['no', 'no', 'yes', 'yes', 'yes', 'yes', 'yes', 'no', 'no', 'no',\n",
       "       'no', 'no', 'no', 'yes', 'no', 'no', 'no', 'no', 'no', 'yes', 'no',\n",
       "       'no', 'no', 'yes', 'no', 'no', 'yes', 'no', 'no', 'no', 'no', 'no',\n",
       "       'no', 'yes', 'yes', 'no', 'yes', 'no', 'no', 'yes', 'yes', 'no',\n",
       "       'no', 'no', 'yes', 'yes', 'no', 'no', 'yes', 'yes', 'no', 'no',\n",
       "       'no', 'no', 'no', 'yes', 'yes', 'no', 'no', 'no', 'no', 'no', 'no',\n",
       "       'no', 'no', 'yes', 'no', 'no', 'yes', 'yes', 'no', 'yes', 'no',\n",
       "       'no', 'no', 'no', 'yes', 'no', 'no', 'no', 'no', 'yes', 'yes',\n",
       "       'no', 'no', 'no', 'no', 'no', 'yes', 'no', 'no', 'yes', 'no', 'no',\n",
       "       'no', 'yes', 'no', 'no', 'no', 'no'], dtype=object)"
      ]
     },
     "execution_count": 123,
     "metadata": {},
     "output_type": "execute_result"
    }
   ],
   "source": [
    "clf.predict(x_test)"
   ]
  },
  {
   "cell_type": "code",
   "execution_count": 124,
   "id": "6852eb7e",
   "metadata": {},
   "outputs": [
    {
     "data": {
      "text/plain": [
       "0.7443609022556391"
      ]
     },
     "execution_count": 124,
     "metadata": {},
     "output_type": "execute_result"
    }
   ],
   "source": [
    "clf.score(x_train, y_train)"
   ]
  },
  {
   "cell_type": "code",
   "execution_count": 125,
   "id": "d82755e0",
   "metadata": {},
   "outputs": [
    {
     "data": {
      "text/plain": [
       "0.78"
      ]
     },
     "execution_count": 125,
     "metadata": {},
     "output_type": "execute_result"
    }
   ],
   "source": [
    "clf.score(x_test, y_test)"
   ]
  },
  {
   "cell_type": "code",
   "execution_count": 126,
   "id": "af7362e1",
   "metadata": {},
   "outputs": [
    {
     "data": {
      "text/plain": [
       "array([0.25751169, 0.37375323, 0.73074154, 0.87055363, 0.85411859,\n",
       "       0.8248049 , 0.89981477, 0.02410505, 0.13437726, 0.39918718,\n",
       "       0.24035546, 0.4332217 , 0.05192702, 0.65912034, 0.28372863,\n",
       "       0.04728419, 0.25671875, 0.33425234, 0.07946268, 0.81940375,\n",
       "       0.4877471 , 0.31133895, 0.37202167, 0.84001943, 0.3115645 ,\n",
       "       0.20567271, 0.92167416, 0.08307127, 0.26551864, 0.03520363,\n",
       "       0.28412455, 0.08634767, 0.12194942, 0.75341984, 0.83837897,\n",
       "       0.1065978 , 0.86378168, 0.15655766, 0.02794043, 0.54980087,\n",
       "       0.75994959, 0.39482816, 0.05041592, 0.04461377, 0.64514918,\n",
       "       0.89698027, 0.21465388, 0.2315229 , 0.74981381, 0.71731366,\n",
       "       0.27130136, 0.15972763, 0.12880869, 0.16359814, 0.34192495,\n",
       "       0.5255017 , 0.89292285, 0.08171971, 0.06229103, 0.16478824,\n",
       "       0.49247083, 0.49772239, 0.02867338, 0.04496599, 0.1918654 ,\n",
       "       0.67248505, 0.36068196, 0.20417693, 0.87862241, 0.53412396,\n",
       "       0.15813539, 0.70374036, 0.02126459, 0.36921497, 0.1635448 ,\n",
       "       0.09177145, 0.89462481, 0.47989084, 0.15371419, 0.08694723,\n",
       "       0.28505945, 0.67169782, 0.64092639, 0.19105077, 0.12320301,\n",
       "       0.16397848, 0.23564333, 0.04850301, 0.52108751, 0.05827156,\n",
       "       0.34042253, 0.55285108, 0.12179813, 0.48650299, 0.22128355,\n",
       "       0.85923432, 0.12174126, 0.25121632, 0.18850292, 0.09570589])"
      ]
     },
     "execution_count": 126,
     "metadata": {},
     "output_type": "execute_result"
    }
   ],
   "source": [
    "clf.predict_proba(x_test)[:,1]"
   ]
  },
  {
   "cell_type": "markdown",
   "id": "be62e50b",
   "metadata": {},
   "source": [
    "Confusion matrix"
   ]
  },
  {
   "cell_type": "code",
   "execution_count": 127,
   "id": "701ce2ff",
   "metadata": {},
   "outputs": [
    {
     "data": {
      "text/plain": [
       "array([[56,  8],\n",
       "       [14, 22]], dtype=int64)"
      ]
     },
     "execution_count": 127,
     "metadata": {},
     "output_type": "execute_result"
    }
   ],
   "source": [
    "metrics.confusion_matrix(y_test, clf.predict(x_test))"
   ]
  },
  {
   "cell_type": "markdown",
   "id": "a709c4ee",
   "metadata": {},
   "source": [
    "Precision,recall, f1 score, accuracy"
   ]
  },
  {
   "cell_type": "code",
   "execution_count": 128,
   "id": "97c02361",
   "metadata": {},
   "outputs": [
    {
     "name": "stdout",
     "output_type": "stream",
     "text": [
      "              precision    recall  f1-score   support\n",
      "\n",
      "          no       0.80      0.88      0.84        64\n",
      "         yes       0.73      0.61      0.67        36\n",
      "\n",
      "    accuracy                           0.78       100\n",
      "   macro avg       0.77      0.74      0.75       100\n",
      "weighted avg       0.78      0.78      0.77       100\n",
      "\n"
     ]
    }
   ],
   "source": [
    "print(classification_report(y_test,clf.predict(x_test)))"
   ]
  },
  {
   "cell_type": "markdown",
   "id": "26ccc5e8",
   "metadata": {},
   "source": [
    "Misclassification"
   ]
  },
  {
   "cell_type": "code",
   "execution_count": 129,
   "id": "42a846f2",
   "metadata": {},
   "outputs": [],
   "source": [
    "misclassification = 1 - metrics.accuracy_score(y_test, clf.predict(x_test))"
   ]
  },
  {
   "cell_type": "code",
   "execution_count": 130,
   "id": "8828f4eb",
   "metadata": {},
   "outputs": [
    {
     "name": "stdout",
     "output_type": "stream",
     "text": [
      "Mis-Classification Rate:  0.21999999999999997\n"
     ]
    }
   ],
   "source": [
    "print(\"Mis-Classification Rate: \",misclassification)"
   ]
  },
  {
   "cell_type": "code",
   "execution_count": 132,
   "id": "d5ae8e59",
   "metadata": {},
   "outputs": [
    {
     "data": {
      "text/plain": [
       "0.78"
      ]
     },
     "execution_count": 132,
     "metadata": {},
     "output_type": "execute_result"
    }
   ],
   "source": [
    "metrics.f1_score(y_test, clf.predict(x_test), average='micro')"
   ]
  },
  {
   "cell_type": "code",
   "execution_count": 134,
   "id": "a97d9442",
   "metadata": {},
   "outputs": [
    {
     "data": {
      "text/plain": [
       "0.7512437810945274"
      ]
     },
     "execution_count": 134,
     "metadata": {},
     "output_type": "execute_result"
    }
   ],
   "source": [
    "metrics.f1_score(y_test, clf.predict(x_test), average='macro')"
   ]
  },
  {
   "cell_type": "code",
   "execution_count": 136,
   "id": "929fb9c3",
   "metadata": {},
   "outputs": [
    {
     "data": {
      "text/plain": [
       "((array([0.8       , 0.73333333]),\n",
       "  array([0.875     , 0.61111111]),\n",
       "  array([0.8358209 , 0.66666667]),\n",
       "  array([64, 36], dtype=int64)),)"
      ]
     },
     "execution_count": 136,
     "metadata": {},
     "output_type": "execute_result"
    }
   ],
   "source": [
    "metrics.precision_recall_fscore_support(y_test,clf.predict(x_test)), "
   ]
  },
  {
   "cell_type": "code",
   "execution_count": null,
   "id": "54ad08ba",
   "metadata": {},
   "outputs": [],
   "source": []
  }
 ],
 "metadata": {
  "kernelspec": {
   "display_name": "Python 3",
   "language": "python",
   "name": "python3"
  },
  "language_info": {
   "codemirror_mode": {
    "name": "ipython",
    "version": 3
   },
   "file_extension": ".py",
   "mimetype": "text/x-python",
   "name": "python",
   "nbconvert_exporter": "python",
   "pygments_lexer": "ipython3",
   "version": "3.8.8"
  }
 },
 "nbformat": 4,
 "nbformat_minor": 5
}
