{
 "cells": [
  {
   "cell_type": "markdown",
   "id": "8808fe69",
   "metadata": {},
   "source": [
    "# Assignment - 05\n",
    "## Tree Ensemble"
   ]
  },
  {
   "cell_type": "markdown",
   "id": "6d54bdc8",
   "metadata": {},
   "source": [
    "## Nakul Ramesh Varma - 21BDA35"
   ]
  },
  {
   "cell_type": "markdown",
   "id": "cf262965",
   "metadata": {},
   "source": [
    "### Question 1"
   ]
  },
  {
   "cell_type": "markdown",
   "id": "8fcbef11",
   "metadata": {},
   "source": [
    "Apply boosting, bagging, and random forests to a data set of your choos-ing for a classification problem.  Fit the models on a train and test set.Evaluate your models, and compare your results against logistic regression and SVMs.  Which models produce better results?  Try to explain your results."
   ]
  },
  {
   "cell_type": "code",
   "execution_count": 1,
   "id": "68cbcc1c",
   "metadata": {},
   "outputs": [],
   "source": [
    "from sklearn.ensemble import RandomForestClassifier\n",
    "from sklearn import datasets\n",
    "import matplotlib.pyplot as plt\n",
    "from sklearn.model_selection import train_test_split\n",
    "from sklearn.metrics import confusion_matrix,accuracy_score,f1_score,classification_report\n",
    "from sklearn.linear_model import LogisticRegression\n",
    "from sklearn.svm import SVC\n",
    "from sklearn.pipeline import make_pipeline\n",
    "from sklearn.preprocessing import StandardScaler\n",
    "import pandas as pd"
   ]
  },
  {
   "cell_type": "code",
   "execution_count": 2,
   "id": "68e6098b",
   "metadata": {},
   "outputs": [],
   "source": [
    "from sklearn.ensemble import AdaBoostClassifier\n",
    "from sklearn.ensemble import GradientBoostingClassifier\n",
    "from sklearn.ensemble import BaggingClassifier\n",
    "from sklearn.neighbors import KNeighborsClassifier"
   ]
  },
  {
   "cell_type": "code",
   "execution_count": 3,
   "id": "152ffbb9",
   "metadata": {},
   "outputs": [],
   "source": [
    "iris = datasets.load_iris()\n",
    "X, y = iris.data, iris.target\n",
    "X_train, X_test, y_train, y_test = train_test_split(X, y, test_size=0.33, random_state=42)"
   ]
  },
  {
   "cell_type": "code",
   "execution_count": 4,
   "id": "612b2e21",
   "metadata": {},
   "outputs": [],
   "source": [
    "bagging = BaggingClassifier(KNeighborsClassifier(), max_samples=0.5, max_features=0.5)\n",
    "rfc = RandomForestClassifier(n_estimators = 100, random_state = 18)\n",
    "svm = make_pipeline(StandardScaler(), SVC(gamma='auto',kernel='linear'))\n",
    "ada = AdaBoostClassifier(n_estimators=100)\n",
    "gbc = GradientBoostingClassifier(n_estimators=100, learning_rate=1.0, max_depth=1, random_state=0)\n",
    "clf = LogisticRegression(random_state=0, max_iter=1000)"
   ]
  },
  {
   "cell_type": "code",
   "execution_count": 5,
   "id": "aaccfa53",
   "metadata": {},
   "outputs": [
    {
     "data": {
      "text/plain": [
       "LogisticRegression(max_iter=1000, random_state=0)"
      ]
     },
     "execution_count": 5,
     "metadata": {},
     "output_type": "execute_result"
    }
   ],
   "source": [
    "bagging.fit(X_train,y_train)\n",
    "rfc.fit(X_train,y_train)\n",
    "svm.fit(X_train,y_train)\n",
    "ada.fit(X_train,y_train)\n",
    "gbc.fit(X_train,y_train)\n",
    "clf.fit(X_train,y_train)"
   ]
  },
  {
   "cell_type": "code",
   "execution_count": 6,
   "id": "ec635ae9",
   "metadata": {},
   "outputs": [
    {
     "name": "stdout",
     "output_type": "stream",
     "text": [
      "Training accuracy: \n",
      "\n",
      "Logistic regression score =  0.96\n",
      "Bagging score =  0.95\n",
      "SVM score =  0.98\n",
      "Ada boosting score =  0.93\n",
      "Gradient boosting score =  0.95\n",
      "Random forest score =  1.0\n"
     ]
    }
   ],
   "source": [
    "print(\"Training accuracy: \\n\")\n",
    "print(\"Logistic regression score = \",clf.score(X_train, y_train))\n",
    "print(\"Bagging score = \",bagging.score(X_train, y_train))\n",
    "print(\"SVM score = \",svm.score(X_train, y_train))\n",
    "print(\"Ada boosting score = \",ada.score(X_train, y_train))\n",
    "print(\"Gradient boosting score = \",gbc.score(X_train, y_train))\n",
    "print(\"Random forest score = \",rfc.score(X_train, y_train))"
   ]
  },
  {
   "cell_type": "code",
   "execution_count": 7,
   "id": "b6a75e1f",
   "metadata": {},
   "outputs": [
    {
     "name": "stdout",
     "output_type": "stream",
     "text": [
      "Testing accuracy: \n",
      "\n",
      "Logistic regression score =  1.0\n",
      "Bagging score =  0.96\n",
      "SVM score =  0.96\n",
      "Ada boosting score =  0.9\n",
      "Gradient boosting score =  0.96\n",
      "Random forest score =  0.98\n"
     ]
    }
   ],
   "source": [
    "print(\"Testing accuracy: \\n\")\n",
    "print(\"Logistic regression score = \",clf.score(X_test, y_test))\n",
    "print(\"Bagging score = \",bagging.score(X_test, y_test))\n",
    "print(\"SVM score = \",svm.score(X_test, y_test))\n",
    "print(\"Ada boosting score = \",ada.score(X_test, y_test))\n",
    "print(\"Gradient boosting score = \",gbc.score(X_test, y_test))\n",
    "print(\"Random forest score = \",rfc.score(X_test, y_test))"
   ]
  },
  {
   "cell_type": "code",
   "execution_count": 8,
   "id": "37ee17c2",
   "metadata": {},
   "outputs": [],
   "source": [
    "def evaluate(model, X_train, X_test, y_train, y_test):\n",
    "    y_test_pred = model.predict(X_test)\n",
    "    y_train_pred = model.predict(X_train)\n",
    "\n",
    "    print(\"TRAINIG RESULTS: \\n-------------------------------\")\n",
    "    clf_report = pd.DataFrame(classification_report(y_train, y_train_pred, output_dict=True))\n",
    "    print(f\"CONFUSION MATRIX:\\n{confusion_matrix(y_train, y_train_pred)}\")\n",
    "    print(f\"\\nACCURACY SCORE:\\n{accuracy_score(y_train, y_train_pred):.4f}\")\n",
    "    print(f\"\\nCLASSIFICATION REPORT:\\n{clf_report}\")\n",
    "\n",
    "    print(\"\\nTESTING RESULTS: \\n-----------------------------\")\n",
    "    clf_report = pd.DataFrame(classification_report(y_test, y_test_pred, output_dict=True))\n",
    "    print(f\"CONFUSION MATRIX:\\n{confusion_matrix(y_test, y_test_pred)}\")\n",
    "    print(f\"\\nACCURACY SCORE:\\n{accuracy_score(y_test, y_test_pred):.4f}\")\n",
    "    print(f\"\\nCLASSIFICATION REPORT:\\n{clf_report}\")"
   ]
  },
  {
   "cell_type": "code",
   "execution_count": 9,
   "id": "fff4c52b",
   "metadata": {},
   "outputs": [
    {
     "name": "stdout",
     "output_type": "stream",
     "text": [
      "TRAINIG RESULTS: \n",
      "-------------------------------\n",
      "CONFUSION MATRIX:\n",
      "[[31  0  0]\n",
      " [ 0 32  3]\n",
      " [ 0  2 32]]\n",
      "\n",
      "ACCURACY SCORE:\n",
      "0.9500\n",
      "\n",
      "CLASSIFICATION REPORT:\n",
      "              0          1          2  accuracy   macro avg  weighted avg\n",
      "precision   1.0   0.941176   0.914286      0.95    0.951821      0.950269\n",
      "recall      1.0   0.914286   0.941176      0.95    0.951821      0.950000\n",
      "f1-score    1.0   0.927536   0.927536      0.95    0.951691      0.950000\n",
      "support    31.0  35.000000  34.000000      0.95  100.000000    100.000000\n",
      "\n",
      "TESTING RESULTS: \n",
      "-----------------------------\n",
      "CONFUSION MATRIX:\n",
      "[[19  0  0]\n",
      " [ 0 14  1]\n",
      " [ 0  1 15]]\n",
      "\n",
      "ACCURACY SCORE:\n",
      "0.9600\n",
      "\n",
      "CLASSIFICATION REPORT:\n",
      "              0          1        2  accuracy  macro avg  weighted avg\n",
      "precision   1.0   0.933333   0.9375      0.96   0.956944          0.96\n",
      "recall      1.0   0.933333   0.9375      0.96   0.956944          0.96\n",
      "f1-score    1.0   0.933333   0.9375      0.96   0.956944          0.96\n",
      "support    19.0  15.000000  16.0000      0.96  50.000000         50.00\n",
      "None\n"
     ]
    }
   ],
   "source": [
    "print(evaluate(bagging, X_train, X_test, y_train, y_test))"
   ]
  },
  {
   "cell_type": "code",
   "execution_count": 10,
   "id": "186b9a3d",
   "metadata": {},
   "outputs": [
    {
     "name": "stdout",
     "output_type": "stream",
     "text": [
      "TRAINIG RESULTS: \n",
      "-------------------------------\n",
      "CONFUSION MATRIX:\n",
      "[[31  0  0]\n",
      " [ 0 32  3]\n",
      " [ 0  1 33]]\n",
      "\n",
      "ACCURACY SCORE:\n",
      "0.9600\n",
      "\n",
      "CLASSIFICATION REPORT:\n",
      "              0          1          2  accuracy   macro avg  weighted avg\n",
      "precision   1.0   0.969697   0.916667      0.96    0.962121      0.961061\n",
      "recall      1.0   0.914286   0.970588      0.96    0.961625      0.960000\n",
      "f1-score    1.0   0.941176   0.942857      0.96    0.961345      0.959983\n",
      "support    31.0  35.000000  34.000000      0.96  100.000000    100.000000\n",
      "\n",
      "TESTING RESULTS: \n",
      "-----------------------------\n",
      "CONFUSION MATRIX:\n",
      "[[19  0  0]\n",
      " [ 0 15  0]\n",
      " [ 0  0 16]]\n",
      "\n",
      "ACCURACY SCORE:\n",
      "1.0000\n",
      "\n",
      "CLASSIFICATION REPORT:\n",
      "              0     1     2  accuracy  macro avg  weighted avg\n",
      "precision   1.0   1.0   1.0       1.0        1.0           1.0\n",
      "recall      1.0   1.0   1.0       1.0        1.0           1.0\n",
      "f1-score    1.0   1.0   1.0       1.0        1.0           1.0\n",
      "support    19.0  15.0  16.0       1.0       50.0          50.0\n",
      "None\n"
     ]
    }
   ],
   "source": [
    "print(evaluate(clf, X_train, X_test, y_train, y_test))"
   ]
  },
  {
   "cell_type": "code",
   "execution_count": 11,
   "id": "e3bb5ffc",
   "metadata": {},
   "outputs": [
    {
     "name": "stdout",
     "output_type": "stream",
     "text": [
      "TRAINIG RESULTS: \n",
      "-------------------------------\n",
      "CONFUSION MATRIX:\n",
      "[[31  0  0]\n",
      " [ 0 33  2]\n",
      " [ 0  0 34]]\n",
      "\n",
      "ACCURACY SCORE:\n",
      "0.9800\n",
      "\n",
      "CLASSIFICATION REPORT:\n",
      "              0          1          2  accuracy   macro avg  weighted avg\n",
      "precision   1.0   1.000000   0.944444      0.98    0.981481      0.981111\n",
      "recall      1.0   0.942857   1.000000      0.98    0.980952      0.980000\n",
      "f1-score    1.0   0.970588   0.971429      0.98    0.980672      0.979992\n",
      "support    31.0  35.000000  34.000000      0.98  100.000000    100.000000\n",
      "\n",
      "TESTING RESULTS: \n",
      "-----------------------------\n",
      "CONFUSION MATRIX:\n",
      "[[19  0  0]\n",
      " [ 0 14  1]\n",
      " [ 0  1 15]]\n",
      "\n",
      "ACCURACY SCORE:\n",
      "0.9600\n",
      "\n",
      "CLASSIFICATION REPORT:\n",
      "              0          1        2  accuracy  macro avg  weighted avg\n",
      "precision   1.0   0.933333   0.9375      0.96   0.956944          0.96\n",
      "recall      1.0   0.933333   0.9375      0.96   0.956944          0.96\n",
      "f1-score    1.0   0.933333   0.9375      0.96   0.956944          0.96\n",
      "support    19.0  15.000000  16.0000      0.96  50.000000         50.00\n",
      "None\n"
     ]
    }
   ],
   "source": [
    "print(evaluate(svm, X_train, X_test, y_train, y_test))"
   ]
  },
  {
   "cell_type": "code",
   "execution_count": 12,
   "id": "92bf596c",
   "metadata": {},
   "outputs": [
    {
     "name": "stdout",
     "output_type": "stream",
     "text": [
      "TRAINIG RESULTS: \n",
      "-------------------------------\n",
      "CONFUSION MATRIX:\n",
      "[[31  0  0]\n",
      " [ 0 35  0]\n",
      " [ 0  0 34]]\n",
      "\n",
      "ACCURACY SCORE:\n",
      "1.0000\n",
      "\n",
      "CLASSIFICATION REPORT:\n",
      "              0     1     2  accuracy  macro avg  weighted avg\n",
      "precision   1.0   1.0   1.0       1.0        1.0           1.0\n",
      "recall      1.0   1.0   1.0       1.0        1.0           1.0\n",
      "f1-score    1.0   1.0   1.0       1.0        1.0           1.0\n",
      "support    31.0  35.0  34.0       1.0      100.0         100.0\n",
      "\n",
      "TESTING RESULTS: \n",
      "-----------------------------\n",
      "CONFUSION MATRIX:\n",
      "[[19  0  0]\n",
      " [ 0 15  0]\n",
      " [ 0  1 15]]\n",
      "\n",
      "ACCURACY SCORE:\n",
      "0.9800\n",
      "\n",
      "CLASSIFICATION REPORT:\n",
      "              0          1          2  accuracy  macro avg  weighted avg\n",
      "precision   1.0   0.937500   1.000000      0.98   0.979167       0.98125\n",
      "recall      1.0   1.000000   0.937500      0.98   0.979167       0.98000\n",
      "f1-score    1.0   0.967742   0.967742      0.98   0.978495       0.98000\n",
      "support    19.0  15.000000  16.000000      0.98  50.000000      50.00000\n",
      "None\n"
     ]
    }
   ],
   "source": [
    "print(evaluate(rfc, X_train, X_test, y_train, y_test))"
   ]
  },
  {
   "cell_type": "code",
   "execution_count": 13,
   "id": "542882c4",
   "metadata": {},
   "outputs": [
    {
     "name": "stdout",
     "output_type": "stream",
     "text": [
      "TRAINIG RESULTS: \n",
      "-------------------------------\n",
      "CONFUSION MATRIX:\n",
      "[[31  0  0]\n",
      " [ 0 35  0]\n",
      " [ 0  7 27]]\n",
      "\n",
      "ACCURACY SCORE:\n",
      "0.9300\n",
      "\n",
      "CLASSIFICATION REPORT:\n",
      "              0          1          2  accuracy   macro avg  weighted avg\n",
      "precision   1.0   0.833333   1.000000      0.93    0.944444      0.941667\n",
      "recall      1.0   1.000000   0.794118      0.93    0.931373      0.930000\n",
      "f1-score    1.0   0.909091   0.885246      0.93    0.931446      0.929165\n",
      "support    31.0  35.000000  34.000000      0.93  100.000000    100.000000\n",
      "\n",
      "TESTING RESULTS: \n",
      "-----------------------------\n",
      "CONFUSION MATRIX:\n",
      "[[19  0  0]\n",
      " [ 0 15  0]\n",
      " [ 0  5 11]]\n",
      "\n",
      "ACCURACY SCORE:\n",
      "0.9000\n",
      "\n",
      "CLASSIFICATION REPORT:\n",
      "              0          1          2  accuracy  macro avg  weighted avg\n",
      "precision   1.0   0.750000   1.000000       0.9   0.916667      0.925000\n",
      "recall      1.0   1.000000   0.687500       0.9   0.895833      0.900000\n",
      "f1-score    1.0   0.857143   0.814815       0.9   0.890653      0.897884\n",
      "support    19.0  15.000000  16.000000       0.9  50.000000     50.000000\n",
      "None\n"
     ]
    }
   ],
   "source": [
    "print(evaluate(ada, X_train, X_test, y_train, y_test))"
   ]
  },
  {
   "cell_type": "code",
   "execution_count": 14,
   "id": "4c0c579f",
   "metadata": {},
   "outputs": [
    {
     "name": "stdout",
     "output_type": "stream",
     "text": [
      "TRAINIG RESULTS: \n",
      "-------------------------------\n",
      "CONFUSION MATRIX:\n",
      "[[31  0  0]\n",
      " [ 0 32  3]\n",
      " [ 0  2 32]]\n",
      "\n",
      "ACCURACY SCORE:\n",
      "0.9500\n",
      "\n",
      "CLASSIFICATION REPORT:\n",
      "              0          1          2  accuracy   macro avg  weighted avg\n",
      "precision   1.0   0.941176   0.914286      0.95    0.951821      0.950269\n",
      "recall      1.0   0.914286   0.941176      0.95    0.951821      0.950000\n",
      "f1-score    1.0   0.927536   0.927536      0.95    0.951691      0.950000\n",
      "support    31.0  35.000000  34.000000      0.95  100.000000    100.000000\n",
      "\n",
      "TESTING RESULTS: \n",
      "-----------------------------\n",
      "CONFUSION MATRIX:\n",
      "[[19  0  0]\n",
      " [ 0 14  1]\n",
      " [ 0  1 15]]\n",
      "\n",
      "ACCURACY SCORE:\n",
      "0.9600\n",
      "\n",
      "CLASSIFICATION REPORT:\n",
      "              0          1        2  accuracy  macro avg  weighted avg\n",
      "precision   1.0   0.933333   0.9375      0.96   0.956944          0.96\n",
      "recall      1.0   0.933333   0.9375      0.96   0.956944          0.96\n",
      "f1-score    1.0   0.933333   0.9375      0.96   0.956944          0.96\n",
      "support    19.0  15.000000  16.0000      0.96  50.000000         50.00\n",
      "None\n"
     ]
    }
   ],
   "source": [
    "print(evaluate(gbc, X_train, X_test, y_train, y_test))"
   ]
  },
  {
   "cell_type": "markdown",
   "id": "10203b96",
   "metadata": {},
   "source": [
    "### Analysis"
   ]
  },
  {
   "cell_type": "markdown",
   "id": "ae6ced56",
   "metadata": {},
   "source": [
    "From the above reports, for the current dataset random forest performs well in training while logistic regression performs well in testing"
   ]
  },
  {
   "cell_type": "markdown",
   "id": "dc636543",
   "metadata": {},
   "source": [
    "### Question 2"
   ]
  },
  {
   "cell_type": "markdown",
   "id": "7e8fe99c",
   "metadata": {},
   "source": [
    " ”https://www.kaggle.com/datasets/uciml/caravan-insurance-challenge ” On the provided data set fit a boosting model.  Which predictors seem to be the most important?  Predict if the person will buy insurace or not.  Compare your results with logistic regression and KNN. Explain your observations."
   ]
  },
  {
   "cell_type": "code",
   "execution_count": 15,
   "id": "4a98f33e",
   "metadata": {},
   "outputs": [],
   "source": [
    "df = pd.read_csv(\"caravan-insurance-challenge.csv\")"
   ]
  },
  {
   "cell_type": "code",
   "execution_count": 16,
   "id": "2f84c0cc",
   "metadata": {},
   "outputs": [
    {
     "data": {
      "text/html": [
       "<div>\n",
       "<style scoped>\n",
       "    .dataframe tbody tr th:only-of-type {\n",
       "        vertical-align: middle;\n",
       "    }\n",
       "\n",
       "    .dataframe tbody tr th {\n",
       "        vertical-align: top;\n",
       "    }\n",
       "\n",
       "    .dataframe thead th {\n",
       "        text-align: right;\n",
       "    }\n",
       "</style>\n",
       "<table border=\"1\" class=\"dataframe\">\n",
       "  <thead>\n",
       "    <tr style=\"text-align: right;\">\n",
       "      <th></th>\n",
       "      <th>ORIGIN</th>\n",
       "      <th>MOSTYPE</th>\n",
       "      <th>MAANTHUI</th>\n",
       "      <th>MGEMOMV</th>\n",
       "      <th>MGEMLEEF</th>\n",
       "      <th>MOSHOOFD</th>\n",
       "      <th>MGODRK</th>\n",
       "      <th>MGODPR</th>\n",
       "      <th>MGODOV</th>\n",
       "      <th>MGODGE</th>\n",
       "      <th>...</th>\n",
       "      <th>APERSONG</th>\n",
       "      <th>AGEZONG</th>\n",
       "      <th>AWAOREG</th>\n",
       "      <th>ABRAND</th>\n",
       "      <th>AZEILPL</th>\n",
       "      <th>APLEZIER</th>\n",
       "      <th>AFIETS</th>\n",
       "      <th>AINBOED</th>\n",
       "      <th>ABYSTAND</th>\n",
       "      <th>CARAVAN</th>\n",
       "    </tr>\n",
       "  </thead>\n",
       "  <tbody>\n",
       "    <tr>\n",
       "      <th>0</th>\n",
       "      <td>train</td>\n",
       "      <td>33</td>\n",
       "      <td>1</td>\n",
       "      <td>3</td>\n",
       "      <td>2</td>\n",
       "      <td>8</td>\n",
       "      <td>0</td>\n",
       "      <td>5</td>\n",
       "      <td>1</td>\n",
       "      <td>3</td>\n",
       "      <td>...</td>\n",
       "      <td>0</td>\n",
       "      <td>0</td>\n",
       "      <td>0</td>\n",
       "      <td>1</td>\n",
       "      <td>0</td>\n",
       "      <td>0</td>\n",
       "      <td>0</td>\n",
       "      <td>0</td>\n",
       "      <td>0</td>\n",
       "      <td>0</td>\n",
       "    </tr>\n",
       "    <tr>\n",
       "      <th>1</th>\n",
       "      <td>train</td>\n",
       "      <td>37</td>\n",
       "      <td>1</td>\n",
       "      <td>2</td>\n",
       "      <td>2</td>\n",
       "      <td>8</td>\n",
       "      <td>1</td>\n",
       "      <td>4</td>\n",
       "      <td>1</td>\n",
       "      <td>4</td>\n",
       "      <td>...</td>\n",
       "      <td>0</td>\n",
       "      <td>0</td>\n",
       "      <td>0</td>\n",
       "      <td>1</td>\n",
       "      <td>0</td>\n",
       "      <td>0</td>\n",
       "      <td>0</td>\n",
       "      <td>0</td>\n",
       "      <td>0</td>\n",
       "      <td>0</td>\n",
       "    </tr>\n",
       "    <tr>\n",
       "      <th>2</th>\n",
       "      <td>train</td>\n",
       "      <td>37</td>\n",
       "      <td>1</td>\n",
       "      <td>2</td>\n",
       "      <td>2</td>\n",
       "      <td>8</td>\n",
       "      <td>0</td>\n",
       "      <td>4</td>\n",
       "      <td>2</td>\n",
       "      <td>4</td>\n",
       "      <td>...</td>\n",
       "      <td>0</td>\n",
       "      <td>0</td>\n",
       "      <td>0</td>\n",
       "      <td>1</td>\n",
       "      <td>0</td>\n",
       "      <td>0</td>\n",
       "      <td>0</td>\n",
       "      <td>0</td>\n",
       "      <td>0</td>\n",
       "      <td>0</td>\n",
       "    </tr>\n",
       "    <tr>\n",
       "      <th>3</th>\n",
       "      <td>train</td>\n",
       "      <td>9</td>\n",
       "      <td>1</td>\n",
       "      <td>3</td>\n",
       "      <td>3</td>\n",
       "      <td>3</td>\n",
       "      <td>2</td>\n",
       "      <td>3</td>\n",
       "      <td>2</td>\n",
       "      <td>4</td>\n",
       "      <td>...</td>\n",
       "      <td>0</td>\n",
       "      <td>0</td>\n",
       "      <td>0</td>\n",
       "      <td>1</td>\n",
       "      <td>0</td>\n",
       "      <td>0</td>\n",
       "      <td>0</td>\n",
       "      <td>0</td>\n",
       "      <td>0</td>\n",
       "      <td>0</td>\n",
       "    </tr>\n",
       "    <tr>\n",
       "      <th>4</th>\n",
       "      <td>train</td>\n",
       "      <td>40</td>\n",
       "      <td>1</td>\n",
       "      <td>4</td>\n",
       "      <td>2</td>\n",
       "      <td>10</td>\n",
       "      <td>1</td>\n",
       "      <td>4</td>\n",
       "      <td>1</td>\n",
       "      <td>4</td>\n",
       "      <td>...</td>\n",
       "      <td>0</td>\n",
       "      <td>0</td>\n",
       "      <td>0</td>\n",
       "      <td>1</td>\n",
       "      <td>0</td>\n",
       "      <td>0</td>\n",
       "      <td>0</td>\n",
       "      <td>0</td>\n",
       "      <td>0</td>\n",
       "      <td>0</td>\n",
       "    </tr>\n",
       "  </tbody>\n",
       "</table>\n",
       "<p>5 rows × 87 columns</p>\n",
       "</div>"
      ],
      "text/plain": [
       "  ORIGIN  MOSTYPE  MAANTHUI  MGEMOMV  MGEMLEEF  MOSHOOFD  MGODRK  MGODPR  \\\n",
       "0  train       33         1        3         2         8       0       5   \n",
       "1  train       37         1        2         2         8       1       4   \n",
       "2  train       37         1        2         2         8       0       4   \n",
       "3  train        9         1        3         3         3       2       3   \n",
       "4  train       40         1        4         2        10       1       4   \n",
       "\n",
       "   MGODOV  MGODGE  ...  APERSONG  AGEZONG  AWAOREG  ABRAND  AZEILPL  APLEZIER  \\\n",
       "0       1       3  ...         0        0        0       1        0         0   \n",
       "1       1       4  ...         0        0        0       1        0         0   \n",
       "2       2       4  ...         0        0        0       1        0         0   \n",
       "3       2       4  ...         0        0        0       1        0         0   \n",
       "4       1       4  ...         0        0        0       1        0         0   \n",
       "\n",
       "   AFIETS  AINBOED  ABYSTAND  CARAVAN  \n",
       "0       0        0         0        0  \n",
       "1       0        0         0        0  \n",
       "2       0        0         0        0  \n",
       "3       0        0         0        0  \n",
       "4       0        0         0        0  \n",
       "\n",
       "[5 rows x 87 columns]"
      ]
     },
     "execution_count": 16,
     "metadata": {},
     "output_type": "execute_result"
    }
   ],
   "source": [
    "df.head()"
   ]
  },
  {
   "cell_type": "code",
   "execution_count": 17,
   "id": "02e0280d",
   "metadata": {},
   "outputs": [
    {
     "data": {
      "text/plain": [
       "(9822, 87)"
      ]
     },
     "execution_count": 17,
     "metadata": {},
     "output_type": "execute_result"
    }
   ],
   "source": [
    "df.shape"
   ]
  },
  {
   "cell_type": "code",
   "execution_count": 18,
   "id": "a096b4f3",
   "metadata": {},
   "outputs": [
    {
     "data": {
      "text/plain": [
       "Index([], dtype='object')"
      ]
     },
     "execution_count": 18,
     "metadata": {},
     "output_type": "execute_result"
    }
   ],
   "source": [
    "df.columns[df.isnull().any()]"
   ]
  },
  {
   "cell_type": "code",
   "execution_count": 19,
   "id": "fb37d5bc",
   "metadata": {},
   "outputs": [
    {
     "data": {
      "text/plain": [
       "train    5822\n",
       "test     4000\n",
       "Name: ORIGIN, dtype: int64"
      ]
     },
     "execution_count": 19,
     "metadata": {},
     "output_type": "execute_result"
    }
   ],
   "source": [
    "df.ORIGIN.value_counts()"
   ]
  },
  {
   "cell_type": "code",
   "execution_count": 20,
   "id": "43aeb690",
   "metadata": {},
   "outputs": [],
   "source": [
    "df_train = df[df.ORIGIN == 'train']"
   ]
  },
  {
   "cell_type": "code",
   "execution_count": 21,
   "id": "0b4a326a",
   "metadata": {},
   "outputs": [
    {
     "data": {
      "text/html": [
       "<div>\n",
       "<style scoped>\n",
       "    .dataframe tbody tr th:only-of-type {\n",
       "        vertical-align: middle;\n",
       "    }\n",
       "\n",
       "    .dataframe tbody tr th {\n",
       "        vertical-align: top;\n",
       "    }\n",
       "\n",
       "    .dataframe thead th {\n",
       "        text-align: right;\n",
       "    }\n",
       "</style>\n",
       "<table border=\"1\" class=\"dataframe\">\n",
       "  <thead>\n",
       "    <tr style=\"text-align: right;\">\n",
       "      <th></th>\n",
       "      <th>ORIGIN</th>\n",
       "      <th>MOSTYPE</th>\n",
       "      <th>MAANTHUI</th>\n",
       "      <th>MGEMOMV</th>\n",
       "      <th>MGEMLEEF</th>\n",
       "      <th>MOSHOOFD</th>\n",
       "      <th>MGODRK</th>\n",
       "      <th>MGODPR</th>\n",
       "      <th>MGODOV</th>\n",
       "      <th>MGODGE</th>\n",
       "      <th>...</th>\n",
       "      <th>APERSONG</th>\n",
       "      <th>AGEZONG</th>\n",
       "      <th>AWAOREG</th>\n",
       "      <th>ABRAND</th>\n",
       "      <th>AZEILPL</th>\n",
       "      <th>APLEZIER</th>\n",
       "      <th>AFIETS</th>\n",
       "      <th>AINBOED</th>\n",
       "      <th>ABYSTAND</th>\n",
       "      <th>CARAVAN</th>\n",
       "    </tr>\n",
       "  </thead>\n",
       "  <tbody>\n",
       "    <tr>\n",
       "      <th>0</th>\n",
       "      <td>train</td>\n",
       "      <td>33</td>\n",
       "      <td>1</td>\n",
       "      <td>3</td>\n",
       "      <td>2</td>\n",
       "      <td>8</td>\n",
       "      <td>0</td>\n",
       "      <td>5</td>\n",
       "      <td>1</td>\n",
       "      <td>3</td>\n",
       "      <td>...</td>\n",
       "      <td>0</td>\n",
       "      <td>0</td>\n",
       "      <td>0</td>\n",
       "      <td>1</td>\n",
       "      <td>0</td>\n",
       "      <td>0</td>\n",
       "      <td>0</td>\n",
       "      <td>0</td>\n",
       "      <td>0</td>\n",
       "      <td>0</td>\n",
       "    </tr>\n",
       "    <tr>\n",
       "      <th>1</th>\n",
       "      <td>train</td>\n",
       "      <td>37</td>\n",
       "      <td>1</td>\n",
       "      <td>2</td>\n",
       "      <td>2</td>\n",
       "      <td>8</td>\n",
       "      <td>1</td>\n",
       "      <td>4</td>\n",
       "      <td>1</td>\n",
       "      <td>4</td>\n",
       "      <td>...</td>\n",
       "      <td>0</td>\n",
       "      <td>0</td>\n",
       "      <td>0</td>\n",
       "      <td>1</td>\n",
       "      <td>0</td>\n",
       "      <td>0</td>\n",
       "      <td>0</td>\n",
       "      <td>0</td>\n",
       "      <td>0</td>\n",
       "      <td>0</td>\n",
       "    </tr>\n",
       "    <tr>\n",
       "      <th>2</th>\n",
       "      <td>train</td>\n",
       "      <td>37</td>\n",
       "      <td>1</td>\n",
       "      <td>2</td>\n",
       "      <td>2</td>\n",
       "      <td>8</td>\n",
       "      <td>0</td>\n",
       "      <td>4</td>\n",
       "      <td>2</td>\n",
       "      <td>4</td>\n",
       "      <td>...</td>\n",
       "      <td>0</td>\n",
       "      <td>0</td>\n",
       "      <td>0</td>\n",
       "      <td>1</td>\n",
       "      <td>0</td>\n",
       "      <td>0</td>\n",
       "      <td>0</td>\n",
       "      <td>0</td>\n",
       "      <td>0</td>\n",
       "      <td>0</td>\n",
       "    </tr>\n",
       "    <tr>\n",
       "      <th>3</th>\n",
       "      <td>train</td>\n",
       "      <td>9</td>\n",
       "      <td>1</td>\n",
       "      <td>3</td>\n",
       "      <td>3</td>\n",
       "      <td>3</td>\n",
       "      <td>2</td>\n",
       "      <td>3</td>\n",
       "      <td>2</td>\n",
       "      <td>4</td>\n",
       "      <td>...</td>\n",
       "      <td>0</td>\n",
       "      <td>0</td>\n",
       "      <td>0</td>\n",
       "      <td>1</td>\n",
       "      <td>0</td>\n",
       "      <td>0</td>\n",
       "      <td>0</td>\n",
       "      <td>0</td>\n",
       "      <td>0</td>\n",
       "      <td>0</td>\n",
       "    </tr>\n",
       "    <tr>\n",
       "      <th>4</th>\n",
       "      <td>train</td>\n",
       "      <td>40</td>\n",
       "      <td>1</td>\n",
       "      <td>4</td>\n",
       "      <td>2</td>\n",
       "      <td>10</td>\n",
       "      <td>1</td>\n",
       "      <td>4</td>\n",
       "      <td>1</td>\n",
       "      <td>4</td>\n",
       "      <td>...</td>\n",
       "      <td>0</td>\n",
       "      <td>0</td>\n",
       "      <td>0</td>\n",
       "      <td>1</td>\n",
       "      <td>0</td>\n",
       "      <td>0</td>\n",
       "      <td>0</td>\n",
       "      <td>0</td>\n",
       "      <td>0</td>\n",
       "      <td>0</td>\n",
       "    </tr>\n",
       "    <tr>\n",
       "      <th>...</th>\n",
       "      <td>...</td>\n",
       "      <td>...</td>\n",
       "      <td>...</td>\n",
       "      <td>...</td>\n",
       "      <td>...</td>\n",
       "      <td>...</td>\n",
       "      <td>...</td>\n",
       "      <td>...</td>\n",
       "      <td>...</td>\n",
       "      <td>...</td>\n",
       "      <td>...</td>\n",
       "      <td>...</td>\n",
       "      <td>...</td>\n",
       "      <td>...</td>\n",
       "      <td>...</td>\n",
       "      <td>...</td>\n",
       "      <td>...</td>\n",
       "      <td>...</td>\n",
       "      <td>...</td>\n",
       "      <td>...</td>\n",
       "      <td>...</td>\n",
       "    </tr>\n",
       "    <tr>\n",
       "      <th>5817</th>\n",
       "      <td>train</td>\n",
       "      <td>36</td>\n",
       "      <td>1</td>\n",
       "      <td>1</td>\n",
       "      <td>2</td>\n",
       "      <td>8</td>\n",
       "      <td>0</td>\n",
       "      <td>6</td>\n",
       "      <td>1</td>\n",
       "      <td>2</td>\n",
       "      <td>...</td>\n",
       "      <td>0</td>\n",
       "      <td>0</td>\n",
       "      <td>0</td>\n",
       "      <td>1</td>\n",
       "      <td>0</td>\n",
       "      <td>0</td>\n",
       "      <td>0</td>\n",
       "      <td>0</td>\n",
       "      <td>0</td>\n",
       "      <td>0</td>\n",
       "    </tr>\n",
       "    <tr>\n",
       "      <th>5818</th>\n",
       "      <td>train</td>\n",
       "      <td>35</td>\n",
       "      <td>1</td>\n",
       "      <td>4</td>\n",
       "      <td>4</td>\n",
       "      <td>8</td>\n",
       "      <td>1</td>\n",
       "      <td>4</td>\n",
       "      <td>1</td>\n",
       "      <td>4</td>\n",
       "      <td>...</td>\n",
       "      <td>0</td>\n",
       "      <td>0</td>\n",
       "      <td>0</td>\n",
       "      <td>1</td>\n",
       "      <td>0</td>\n",
       "      <td>0</td>\n",
       "      <td>0</td>\n",
       "      <td>0</td>\n",
       "      <td>0</td>\n",
       "      <td>0</td>\n",
       "    </tr>\n",
       "    <tr>\n",
       "      <th>5819</th>\n",
       "      <td>train</td>\n",
       "      <td>33</td>\n",
       "      <td>1</td>\n",
       "      <td>3</td>\n",
       "      <td>4</td>\n",
       "      <td>8</td>\n",
       "      <td>0</td>\n",
       "      <td>6</td>\n",
       "      <td>0</td>\n",
       "      <td>3</td>\n",
       "      <td>...</td>\n",
       "      <td>0</td>\n",
       "      <td>0</td>\n",
       "      <td>0</td>\n",
       "      <td>1</td>\n",
       "      <td>0</td>\n",
       "      <td>0</td>\n",
       "      <td>0</td>\n",
       "      <td>0</td>\n",
       "      <td>0</td>\n",
       "      <td>1</td>\n",
       "    </tr>\n",
       "    <tr>\n",
       "      <th>5820</th>\n",
       "      <td>train</td>\n",
       "      <td>34</td>\n",
       "      <td>1</td>\n",
       "      <td>3</td>\n",
       "      <td>2</td>\n",
       "      <td>8</td>\n",
       "      <td>0</td>\n",
       "      <td>7</td>\n",
       "      <td>0</td>\n",
       "      <td>2</td>\n",
       "      <td>...</td>\n",
       "      <td>0</td>\n",
       "      <td>0</td>\n",
       "      <td>0</td>\n",
       "      <td>0</td>\n",
       "      <td>0</td>\n",
       "      <td>0</td>\n",
       "      <td>0</td>\n",
       "      <td>0</td>\n",
       "      <td>0</td>\n",
       "      <td>0</td>\n",
       "    </tr>\n",
       "    <tr>\n",
       "      <th>5821</th>\n",
       "      <td>train</td>\n",
       "      <td>33</td>\n",
       "      <td>1</td>\n",
       "      <td>3</td>\n",
       "      <td>3</td>\n",
       "      <td>8</td>\n",
       "      <td>0</td>\n",
       "      <td>6</td>\n",
       "      <td>1</td>\n",
       "      <td>2</td>\n",
       "      <td>...</td>\n",
       "      <td>0</td>\n",
       "      <td>0</td>\n",
       "      <td>0</td>\n",
       "      <td>0</td>\n",
       "      <td>0</td>\n",
       "      <td>0</td>\n",
       "      <td>0</td>\n",
       "      <td>0</td>\n",
       "      <td>0</td>\n",
       "      <td>0</td>\n",
       "    </tr>\n",
       "  </tbody>\n",
       "</table>\n",
       "<p>5822 rows × 87 columns</p>\n",
       "</div>"
      ],
      "text/plain": [
       "     ORIGIN  MOSTYPE  MAANTHUI  MGEMOMV  MGEMLEEF  MOSHOOFD  MGODRK  MGODPR  \\\n",
       "0     train       33         1        3         2         8       0       5   \n",
       "1     train       37         1        2         2         8       1       4   \n",
       "2     train       37         1        2         2         8       0       4   \n",
       "3     train        9         1        3         3         3       2       3   \n",
       "4     train       40         1        4         2        10       1       4   \n",
       "...     ...      ...       ...      ...       ...       ...     ...     ...   \n",
       "5817  train       36         1        1         2         8       0       6   \n",
       "5818  train       35         1        4         4         8       1       4   \n",
       "5819  train       33         1        3         4         8       0       6   \n",
       "5820  train       34         1        3         2         8       0       7   \n",
       "5821  train       33         1        3         3         8       0       6   \n",
       "\n",
       "      MGODOV  MGODGE  ...  APERSONG  AGEZONG  AWAOREG  ABRAND  AZEILPL  \\\n",
       "0          1       3  ...         0        0        0       1        0   \n",
       "1          1       4  ...         0        0        0       1        0   \n",
       "2          2       4  ...         0        0        0       1        0   \n",
       "3          2       4  ...         0        0        0       1        0   \n",
       "4          1       4  ...         0        0        0       1        0   \n",
       "...      ...     ...  ...       ...      ...      ...     ...      ...   \n",
       "5817       1       2  ...         0        0        0       1        0   \n",
       "5818       1       4  ...         0        0        0       1        0   \n",
       "5819       0       3  ...         0        0        0       1        0   \n",
       "5820       0       2  ...         0        0        0       0        0   \n",
       "5821       1       2  ...         0        0        0       0        0   \n",
       "\n",
       "      APLEZIER  AFIETS  AINBOED  ABYSTAND  CARAVAN  \n",
       "0            0       0        0         0        0  \n",
       "1            0       0        0         0        0  \n",
       "2            0       0        0         0        0  \n",
       "3            0       0        0         0        0  \n",
       "4            0       0        0         0        0  \n",
       "...        ...     ...      ...       ...      ...  \n",
       "5817         0       0        0         0        0  \n",
       "5818         0       0        0         0        0  \n",
       "5819         0       0        0         0        1  \n",
       "5820         0       0        0         0        0  \n",
       "5821         0       0        0         0        0  \n",
       "\n",
       "[5822 rows x 87 columns]"
      ]
     },
     "execution_count": 21,
     "metadata": {},
     "output_type": "execute_result"
    }
   ],
   "source": [
    "df_train"
   ]
  },
  {
   "cell_type": "code",
   "execution_count": 22,
   "id": "35d8c3d8",
   "metadata": {},
   "outputs": [],
   "source": [
    "df_test = df[df.ORIGIN == 'test']"
   ]
  },
  {
   "cell_type": "code",
   "execution_count": 23,
   "id": "382f0f36",
   "metadata": {},
   "outputs": [
    {
     "data": {
      "text/html": [
       "<div>\n",
       "<style scoped>\n",
       "    .dataframe tbody tr th:only-of-type {\n",
       "        vertical-align: middle;\n",
       "    }\n",
       "\n",
       "    .dataframe tbody tr th {\n",
       "        vertical-align: top;\n",
       "    }\n",
       "\n",
       "    .dataframe thead th {\n",
       "        text-align: right;\n",
       "    }\n",
       "</style>\n",
       "<table border=\"1\" class=\"dataframe\">\n",
       "  <thead>\n",
       "    <tr style=\"text-align: right;\">\n",
       "      <th></th>\n",
       "      <th>ORIGIN</th>\n",
       "      <th>MOSTYPE</th>\n",
       "      <th>MAANTHUI</th>\n",
       "      <th>MGEMOMV</th>\n",
       "      <th>MGEMLEEF</th>\n",
       "      <th>MOSHOOFD</th>\n",
       "      <th>MGODRK</th>\n",
       "      <th>MGODPR</th>\n",
       "      <th>MGODOV</th>\n",
       "      <th>MGODGE</th>\n",
       "      <th>...</th>\n",
       "      <th>APERSONG</th>\n",
       "      <th>AGEZONG</th>\n",
       "      <th>AWAOREG</th>\n",
       "      <th>ABRAND</th>\n",
       "      <th>AZEILPL</th>\n",
       "      <th>APLEZIER</th>\n",
       "      <th>AFIETS</th>\n",
       "      <th>AINBOED</th>\n",
       "      <th>ABYSTAND</th>\n",
       "      <th>CARAVAN</th>\n",
       "    </tr>\n",
       "  </thead>\n",
       "  <tbody>\n",
       "    <tr>\n",
       "      <th>5822</th>\n",
       "      <td>test</td>\n",
       "      <td>33</td>\n",
       "      <td>1</td>\n",
       "      <td>4</td>\n",
       "      <td>2</td>\n",
       "      <td>8</td>\n",
       "      <td>0</td>\n",
       "      <td>6</td>\n",
       "      <td>0</td>\n",
       "      <td>3</td>\n",
       "      <td>...</td>\n",
       "      <td>0</td>\n",
       "      <td>0</td>\n",
       "      <td>0</td>\n",
       "      <td>1</td>\n",
       "      <td>0</td>\n",
       "      <td>0</td>\n",
       "      <td>0</td>\n",
       "      <td>0</td>\n",
       "      <td>0</td>\n",
       "      <td>0</td>\n",
       "    </tr>\n",
       "    <tr>\n",
       "      <th>5823</th>\n",
       "      <td>test</td>\n",
       "      <td>6</td>\n",
       "      <td>1</td>\n",
       "      <td>3</td>\n",
       "      <td>2</td>\n",
       "      <td>2</td>\n",
       "      <td>0</td>\n",
       "      <td>5</td>\n",
       "      <td>0</td>\n",
       "      <td>4</td>\n",
       "      <td>...</td>\n",
       "      <td>0</td>\n",
       "      <td>0</td>\n",
       "      <td>0</td>\n",
       "      <td>1</td>\n",
       "      <td>0</td>\n",
       "      <td>0</td>\n",
       "      <td>0</td>\n",
       "      <td>0</td>\n",
       "      <td>0</td>\n",
       "      <td>1</td>\n",
       "    </tr>\n",
       "    <tr>\n",
       "      <th>5824</th>\n",
       "      <td>test</td>\n",
       "      <td>39</td>\n",
       "      <td>1</td>\n",
       "      <td>3</td>\n",
       "      <td>3</td>\n",
       "      <td>9</td>\n",
       "      <td>1</td>\n",
       "      <td>4</td>\n",
       "      <td>2</td>\n",
       "      <td>3</td>\n",
       "      <td>...</td>\n",
       "      <td>0</td>\n",
       "      <td>0</td>\n",
       "      <td>0</td>\n",
       "      <td>1</td>\n",
       "      <td>0</td>\n",
       "      <td>0</td>\n",
       "      <td>0</td>\n",
       "      <td>0</td>\n",
       "      <td>0</td>\n",
       "      <td>0</td>\n",
       "    </tr>\n",
       "    <tr>\n",
       "      <th>5825</th>\n",
       "      <td>test</td>\n",
       "      <td>9</td>\n",
       "      <td>1</td>\n",
       "      <td>2</td>\n",
       "      <td>3</td>\n",
       "      <td>3</td>\n",
       "      <td>2</td>\n",
       "      <td>3</td>\n",
       "      <td>2</td>\n",
       "      <td>4</td>\n",
       "      <td>...</td>\n",
       "      <td>0</td>\n",
       "      <td>0</td>\n",
       "      <td>0</td>\n",
       "      <td>1</td>\n",
       "      <td>0</td>\n",
       "      <td>0</td>\n",
       "      <td>0</td>\n",
       "      <td>0</td>\n",
       "      <td>0</td>\n",
       "      <td>0</td>\n",
       "    </tr>\n",
       "    <tr>\n",
       "      <th>5826</th>\n",
       "      <td>test</td>\n",
       "      <td>31</td>\n",
       "      <td>1</td>\n",
       "      <td>2</td>\n",
       "      <td>4</td>\n",
       "      <td>7</td>\n",
       "      <td>0</td>\n",
       "      <td>2</td>\n",
       "      <td>0</td>\n",
       "      <td>7</td>\n",
       "      <td>...</td>\n",
       "      <td>0</td>\n",
       "      <td>0</td>\n",
       "      <td>0</td>\n",
       "      <td>1</td>\n",
       "      <td>0</td>\n",
       "      <td>0</td>\n",
       "      <td>0</td>\n",
       "      <td>0</td>\n",
       "      <td>0</td>\n",
       "      <td>0</td>\n",
       "    </tr>\n",
       "    <tr>\n",
       "      <th>...</th>\n",
       "      <td>...</td>\n",
       "      <td>...</td>\n",
       "      <td>...</td>\n",
       "      <td>...</td>\n",
       "      <td>...</td>\n",
       "      <td>...</td>\n",
       "      <td>...</td>\n",
       "      <td>...</td>\n",
       "      <td>...</td>\n",
       "      <td>...</td>\n",
       "      <td>...</td>\n",
       "      <td>...</td>\n",
       "      <td>...</td>\n",
       "      <td>...</td>\n",
       "      <td>...</td>\n",
       "      <td>...</td>\n",
       "      <td>...</td>\n",
       "      <td>...</td>\n",
       "      <td>...</td>\n",
       "      <td>...</td>\n",
       "      <td>...</td>\n",
       "    </tr>\n",
       "    <tr>\n",
       "      <th>9817</th>\n",
       "      <td>test</td>\n",
       "      <td>33</td>\n",
       "      <td>1</td>\n",
       "      <td>2</td>\n",
       "      <td>4</td>\n",
       "      <td>8</td>\n",
       "      <td>0</td>\n",
       "      <td>7</td>\n",
       "      <td>2</td>\n",
       "      <td>0</td>\n",
       "      <td>...</td>\n",
       "      <td>0</td>\n",
       "      <td>0</td>\n",
       "      <td>0</td>\n",
       "      <td>1</td>\n",
       "      <td>0</td>\n",
       "      <td>0</td>\n",
       "      <td>0</td>\n",
       "      <td>0</td>\n",
       "      <td>0</td>\n",
       "      <td>0</td>\n",
       "    </tr>\n",
       "    <tr>\n",
       "      <th>9818</th>\n",
       "      <td>test</td>\n",
       "      <td>24</td>\n",
       "      <td>1</td>\n",
       "      <td>2</td>\n",
       "      <td>3</td>\n",
       "      <td>5</td>\n",
       "      <td>1</td>\n",
       "      <td>5</td>\n",
       "      <td>1</td>\n",
       "      <td>3</td>\n",
       "      <td>...</td>\n",
       "      <td>0</td>\n",
       "      <td>0</td>\n",
       "      <td>0</td>\n",
       "      <td>1</td>\n",
       "      <td>0</td>\n",
       "      <td>0</td>\n",
       "      <td>0</td>\n",
       "      <td>0</td>\n",
       "      <td>0</td>\n",
       "      <td>1</td>\n",
       "    </tr>\n",
       "    <tr>\n",
       "      <th>9819</th>\n",
       "      <td>test</td>\n",
       "      <td>36</td>\n",
       "      <td>1</td>\n",
       "      <td>2</td>\n",
       "      <td>3</td>\n",
       "      <td>8</td>\n",
       "      <td>1</td>\n",
       "      <td>5</td>\n",
       "      <td>1</td>\n",
       "      <td>3</td>\n",
       "      <td>...</td>\n",
       "      <td>0</td>\n",
       "      <td>0</td>\n",
       "      <td>0</td>\n",
       "      <td>1</td>\n",
       "      <td>0</td>\n",
       "      <td>0</td>\n",
       "      <td>0</td>\n",
       "      <td>1</td>\n",
       "      <td>0</td>\n",
       "      <td>0</td>\n",
       "    </tr>\n",
       "    <tr>\n",
       "      <th>9820</th>\n",
       "      <td>test</td>\n",
       "      <td>33</td>\n",
       "      <td>1</td>\n",
       "      <td>3</td>\n",
       "      <td>3</td>\n",
       "      <td>8</td>\n",
       "      <td>1</td>\n",
       "      <td>4</td>\n",
       "      <td>2</td>\n",
       "      <td>3</td>\n",
       "      <td>...</td>\n",
       "      <td>0</td>\n",
       "      <td>0</td>\n",
       "      <td>0</td>\n",
       "      <td>0</td>\n",
       "      <td>0</td>\n",
       "      <td>0</td>\n",
       "      <td>0</td>\n",
       "      <td>0</td>\n",
       "      <td>0</td>\n",
       "      <td>0</td>\n",
       "    </tr>\n",
       "    <tr>\n",
       "      <th>9821</th>\n",
       "      <td>test</td>\n",
       "      <td>8</td>\n",
       "      <td>1</td>\n",
       "      <td>2</td>\n",
       "      <td>3</td>\n",
       "      <td>2</td>\n",
       "      <td>4</td>\n",
       "      <td>3</td>\n",
       "      <td>0</td>\n",
       "      <td>3</td>\n",
       "      <td>...</td>\n",
       "      <td>0</td>\n",
       "      <td>0</td>\n",
       "      <td>0</td>\n",
       "      <td>1</td>\n",
       "      <td>0</td>\n",
       "      <td>0</td>\n",
       "      <td>0</td>\n",
       "      <td>0</td>\n",
       "      <td>0</td>\n",
       "      <td>0</td>\n",
       "    </tr>\n",
       "  </tbody>\n",
       "</table>\n",
       "<p>4000 rows × 87 columns</p>\n",
       "</div>"
      ],
      "text/plain": [
       "     ORIGIN  MOSTYPE  MAANTHUI  MGEMOMV  MGEMLEEF  MOSHOOFD  MGODRK  MGODPR  \\\n",
       "5822   test       33         1        4         2         8       0       6   \n",
       "5823   test        6         1        3         2         2       0       5   \n",
       "5824   test       39         1        3         3         9       1       4   \n",
       "5825   test        9         1        2         3         3       2       3   \n",
       "5826   test       31         1        2         4         7       0       2   \n",
       "...     ...      ...       ...      ...       ...       ...     ...     ...   \n",
       "9817   test       33         1        2         4         8       0       7   \n",
       "9818   test       24         1        2         3         5       1       5   \n",
       "9819   test       36         1        2         3         8       1       5   \n",
       "9820   test       33         1        3         3         8       1       4   \n",
       "9821   test        8         1        2         3         2       4       3   \n",
       "\n",
       "      MGODOV  MGODGE  ...  APERSONG  AGEZONG  AWAOREG  ABRAND  AZEILPL  \\\n",
       "5822       0       3  ...         0        0        0       1        0   \n",
       "5823       0       4  ...         0        0        0       1        0   \n",
       "5824       2       3  ...         0        0        0       1        0   \n",
       "5825       2       4  ...         0        0        0       1        0   \n",
       "5826       0       7  ...         0        0        0       1        0   \n",
       "...      ...     ...  ...       ...      ...      ...     ...      ...   \n",
       "9817       2       0  ...         0        0        0       1        0   \n",
       "9818       1       3  ...         0        0        0       1        0   \n",
       "9819       1       3  ...         0        0        0       1        0   \n",
       "9820       2       3  ...         0        0        0       0        0   \n",
       "9821       0       3  ...         0        0        0       1        0   \n",
       "\n",
       "      APLEZIER  AFIETS  AINBOED  ABYSTAND  CARAVAN  \n",
       "5822         0       0        0         0        0  \n",
       "5823         0       0        0         0        1  \n",
       "5824         0       0        0         0        0  \n",
       "5825         0       0        0         0        0  \n",
       "5826         0       0        0         0        0  \n",
       "...        ...     ...      ...       ...      ...  \n",
       "9817         0       0        0         0        0  \n",
       "9818         0       0        0         0        1  \n",
       "9819         0       0        1         0        0  \n",
       "9820         0       0        0         0        0  \n",
       "9821         0       0        0         0        0  \n",
       "\n",
       "[4000 rows x 87 columns]"
      ]
     },
     "execution_count": 23,
     "metadata": {},
     "output_type": "execute_result"
    }
   ],
   "source": [
    "df_test"
   ]
  },
  {
   "cell_type": "code",
   "execution_count": 24,
   "id": "f53d99b1",
   "metadata": {},
   "outputs": [],
   "source": [
    "X_train = df_train.drop(columns=['ORIGIN','CARAVAN'])\n",
    "y_train = df_train[\"CARAVAN\"]\n",
    "X_test = df_test.drop(columns=['ORIGIN','CARAVAN'])\n",
    "y_test = df_test[\"CARAVAN\"]"
   ]
  },
  {
   "cell_type": "code",
   "execution_count": 25,
   "id": "3cf2bfcd",
   "metadata": {},
   "outputs": [],
   "source": [
    "ada = AdaBoostClassifier(n_estimators=100)"
   ]
  },
  {
   "cell_type": "code",
   "execution_count": 26,
   "id": "098d151e",
   "metadata": {},
   "outputs": [
    {
     "data": {
      "text/plain": [
       "AdaBoostClassifier(n_estimators=100)"
      ]
     },
     "execution_count": 26,
     "metadata": {},
     "output_type": "execute_result"
    }
   ],
   "source": [
    "ada.fit(X_train,y_train)"
   ]
  },
  {
   "cell_type": "code",
   "execution_count": 27,
   "id": "cd5734f9",
   "metadata": {},
   "outputs": [
    {
     "data": {
      "text/plain": [
       "0.93825"
      ]
     },
     "execution_count": 27,
     "metadata": {},
     "output_type": "execute_result"
    }
   ],
   "source": [
    "ada.score(X_test, y_test)"
   ]
  },
  {
   "cell_type": "code",
   "execution_count": 28,
   "id": "987ece3a",
   "metadata": {},
   "outputs": [
    {
     "name": "stdout",
     "output_type": "stream",
     "text": [
      "TRAINIG RESULTS: \n",
      "-------------------------------\n",
      "CONFUSION MATRIX:\n",
      "[[5446   28]\n",
      " [ 330   18]]\n",
      "\n",
      "ACCURACY SCORE:\n",
      "0.9385\n",
      "\n",
      "CLASSIFICATION REPORT:\n",
      "                     0           1  accuracy    macro avg  weighted avg\n",
      "precision     0.942867    0.391304  0.938509     0.667086      0.909898\n",
      "recall        0.994885    0.051724  0.938509     0.523305      0.938509\n",
      "f1-score      0.968178    0.091371  0.938509     0.529774      0.915768\n",
      "support    5474.000000  348.000000  0.938509  5822.000000   5822.000000\n",
      "\n",
      "TESTING RESULTS: \n",
      "-----------------------------\n",
      "CONFUSION MATRIX:\n",
      "[[3746   16]\n",
      " [ 231    7]]\n",
      "\n",
      "ACCURACY SCORE:\n",
      "0.9383\n",
      "\n",
      "CLASSIFICATION REPORT:\n",
      "                     0           1  accuracy    macro avg  weighted avg\n",
      "precision     0.941916    0.304348   0.93825     0.623132      0.903981\n",
      "recall        0.995747    0.029412   0.93825     0.512579      0.938250\n",
      "f1-score      0.968084    0.053640   0.93825     0.510862      0.913674\n",
      "support    3762.000000  238.000000   0.93825  4000.000000   4000.000000\n",
      "None\n"
     ]
    }
   ],
   "source": [
    "print(evaluate(ada, X_train, X_test, y_train, y_test))"
   ]
  },
  {
   "cell_type": "markdown",
   "id": "4a79fa14",
   "metadata": {},
   "source": [
    "To find most important predictor:"
   ]
  },
  {
   "cell_type": "code",
   "execution_count": 29,
   "id": "9101599f",
   "metadata": {
    "scrolled": false
   },
   "outputs": [
    {
     "name": "stdout",
     "output_type": "stream",
     "text": [
      "Feature: 1, Score: 0.04000\n",
      "Feature: 2, Score: 0.01000\n",
      "Feature: 3, Score: 0.00000\n",
      "Feature: 4, Score: 0.01000\n",
      "Feature: 5, Score: 0.00000\n",
      "Feature: 6, Score: 0.02000\n",
      "Feature: 7, Score: 0.03000\n",
      "Feature: 8, Score: 0.01000\n",
      "Feature: 9, Score: 0.03000\n",
      "Feature: 10, Score: 0.02000\n",
      "Feature: 11, Score: 0.01000\n",
      "Feature: 12, Score: 0.00000\n",
      "Feature: 13, Score: 0.02000\n",
      "Feature: 14, Score: 0.00000\n",
      "Feature: 15, Score: 0.01000\n",
      "Feature: 16, Score: 0.03000\n",
      "Feature: 17, Score: 0.01000\n",
      "Feature: 18, Score: 0.02000\n",
      "Feature: 19, Score: 0.00000\n",
      "Feature: 20, Score: 0.00000\n",
      "Feature: 21, Score: 0.02000\n",
      "Feature: 22, Score: 0.02000\n",
      "Feature: 23, Score: 0.03000\n",
      "Feature: 24, Score: 0.01000\n",
      "Feature: 25, Score: 0.01000\n",
      "Feature: 26, Score: 0.02000\n",
      "Feature: 27, Score: 0.03000\n",
      "Feature: 28, Score: 0.00000\n",
      "Feature: 29, Score: 0.03000\n",
      "Feature: 30, Score: 0.00000\n",
      "Feature: 31, Score: 0.01000\n",
      "Feature: 32, Score: 0.02000\n",
      "Feature: 33, Score: 0.01000\n",
      "Feature: 34, Score: 0.05000\n",
      "Feature: 35, Score: 0.01000\n",
      "Feature: 36, Score: 0.00000\n",
      "Feature: 37, Score: 0.06000\n",
      "Feature: 38, Score: 0.02000\n",
      "Feature: 39, Score: 0.01000\n",
      "Feature: 40, Score: 0.03000\n",
      "Feature: 41, Score: 0.02000\n",
      "Feature: 42, Score: 0.03000\n",
      "Feature: 43, Score: 0.02000\n",
      "Feature: 44, Score: 0.01000\n",
      "Feature: 45, Score: 0.02000\n",
      "Feature: 46, Score: 0.01000\n",
      "Feature: 47, Score: 0.02000\n",
      "Feature: 48, Score: 0.00000\n",
      "Feature: 49, Score: 0.01000\n",
      "Feature: 50, Score: 0.00000\n",
      "Feature: 51, Score: 0.00000\n",
      "Feature: 52, Score: 0.02000\n",
      "Feature: 53, Score: 0.00000\n",
      "Feature: 54, Score: 0.00000\n",
      "Feature: 55, Score: 0.01000\n",
      "Feature: 56, Score: 0.00000\n",
      "Feature: 57, Score: 0.00000\n",
      "Feature: 58, Score: 0.01000\n",
      "Feature: 59, Score: 0.05000\n",
      "Feature: 60, Score: 0.00000\n",
      "Feature: 61, Score: 0.01000\n",
      "Feature: 62, Score: 0.00000\n",
      "Feature: 63, Score: 0.01000\n",
      "Feature: 64, Score: 0.00000\n",
      "Feature: 65, Score: 0.00000\n",
      "Feature: 66, Score: 0.00000\n",
      "Feature: 67, Score: 0.00000\n",
      "Feature: 68, Score: 0.01000\n",
      "Feature: 69, Score: 0.00000\n",
      "Feature: 70, Score: 0.00000\n",
      "Feature: 71, Score: 0.00000\n",
      "Feature: 72, Score: 0.00000\n",
      "Feature: 73, Score: 0.01000\n",
      "Feature: 74, Score: 0.00000\n",
      "Feature: 75, Score: 0.01000\n",
      "Feature: 76, Score: 0.01000\n",
      "Feature: 77, Score: 0.00000\n",
      "Feature: 78, Score: 0.00000\n",
      "Feature: 79, Score: 0.00000\n",
      "Feature: 80, Score: 0.02000\n",
      "Feature: 81, Score: 0.00000\n",
      "Feature: 82, Score: 0.01000\n",
      "Feature: 83, Score: 0.01000\n",
      "Feature: 84, Score: 0.00000\n",
      "Feature: 85, Score: 0.01000\n"
     ]
    },
    {
     "data": {
      "image/png": "[encoded data removed]",
      "text/plain": [
       "<Figure size 2160x720 with 1 Axes>"
      ]
     },
     "metadata": {
      "needs_background": "light"
     },
     "output_type": "display_data"
    }
   ],
   "source": [
    "importance = ada.feature_importances_\n",
    "max = 0\n",
    "for i,v in enumerate(importance):\n",
    "    print('Feature: %0d, Score: %.5f' % (i+1,v))\n",
    "    if v > max:\n",
    "        max = v\n",
    "        feature = i\n",
    "plt.figure(figsize=(30,10))\n",
    "plt.bar([x for x in range(len(importance))], importance)\n",
    "plt.show()"
   ]
  },
  {
   "cell_type": "code",
   "execution_count": 30,
   "id": "1d63c3aa",
   "metadata": {},
   "outputs": [
    {
     "name": "stdout",
     "output_type": "stream",
     "text": [
      "Most important predictor =  MZPART\n"
     ]
    }
   ],
   "source": [
    "print(\"Most important predictor = \",df.columns[feature])"
   ]
  },
  {
   "cell_type": "code",
   "execution_count": 31,
   "id": "470a8ee1",
   "metadata": {},
   "outputs": [],
   "source": [
    "clf = LogisticRegression(max_iter = 10000,random_state = 48)"
   ]
  },
  {
   "cell_type": "code",
   "execution_count": 32,
   "id": "8ec8b042",
   "metadata": {
    "scrolled": true
   },
   "outputs": [
    {
     "data": {
      "text/plain": [
       "LogisticRegression(max_iter=10000, random_state=48)"
      ]
     },
     "execution_count": 32,
     "metadata": {},
     "output_type": "execute_result"
    }
   ],
   "source": [
    "clf.fit(X_train,y_train)"
   ]
  },
  {
   "cell_type": "code",
   "execution_count": 33,
   "id": "a4439407",
   "metadata": {},
   "outputs": [
    {
     "data": {
      "text/plain": [
       "0.94"
      ]
     },
     "execution_count": 33,
     "metadata": {},
     "output_type": "execute_result"
    }
   ],
   "source": [
    "clf.score(X_test, y_test)"
   ]
  },
  {
   "cell_type": "code",
   "execution_count": 34,
   "id": "b22d7a68",
   "metadata": {},
   "outputs": [
    {
     "name": "stdout",
     "output_type": "stream",
     "text": [
      "TRAINIG RESULTS: \n",
      "-------------------------------\n",
      "CONFUSION MATRIX:\n",
      "[[5467    7]\n",
      " [ 343    5]]\n",
      "\n",
      "ACCURACY SCORE:\n",
      "0.9399\n",
      "\n",
      "CLASSIFICATION REPORT:\n",
      "                     0           1  accuracy    macro avg  weighted avg\n",
      "precision     0.940964    0.416667  0.939883     0.678815      0.909625\n",
      "recall        0.998721    0.014368  0.939883     0.506545      0.939883\n",
      "f1-score      0.968983    0.027778  0.939883     0.498380      0.912724\n",
      "support    5474.000000  348.000000  0.939883  5822.000000   5822.000000\n",
      "\n",
      "TESTING RESULTS: \n",
      "-----------------------------\n",
      "CONFUSION MATRIX:\n",
      "[[3757    5]\n",
      " [ 235    3]]\n",
      "\n",
      "ACCURACY SCORE:\n",
      "0.9400\n",
      "\n",
      "CLASSIFICATION REPORT:\n",
      "                     0           1  accuracy    macro avg  weighted avg\n",
      "precision     0.941132    0.375000      0.94     0.658066      0.907447\n",
      "recall        0.998671    0.012605      0.94     0.505638      0.940000\n",
      "f1-score      0.969048    0.024390      0.94     0.496719      0.912841\n",
      "support    3762.000000  238.000000      0.94  4000.000000   4000.000000\n",
      "None\n"
     ]
    }
   ],
   "source": [
    "print(evaluate(clf, X_train, X_test, y_train, y_test))"
   ]
  },
  {
   "cell_type": "code",
   "execution_count": 35,
   "id": "fc297f08",
   "metadata": {},
   "outputs": [
    {
     "data": {
      "text/plain": [
       "KNeighborsClassifier()"
      ]
     },
     "execution_count": 35,
     "metadata": {},
     "output_type": "execute_result"
    }
   ],
   "source": [
    "neigh = KNeighborsClassifier()\n",
    "neigh.fit(X_train, y_train)"
   ]
  },
  {
   "cell_type": "code",
   "execution_count": 36,
   "id": "0f794c54",
   "metadata": {},
   "outputs": [
    {
     "data": {
      "text/plain": [
       "0.93725"
      ]
     },
     "execution_count": 36,
     "metadata": {},
     "output_type": "execute_result"
    }
   ],
   "source": [
    "neigh.score(X_test, y_test)"
   ]
  },
  {
   "cell_type": "code",
   "execution_count": 37,
   "id": "3786805a",
   "metadata": {},
   "outputs": [
    {
     "name": "stdout",
     "output_type": "stream",
     "text": [
      "TRAINIG RESULTS: \n",
      "-------------------------------\n",
      "CONFUSION MATRIX:\n",
      "[[5462   12]\n",
      " [ 329   19]]\n",
      "\n",
      "ACCURACY SCORE:\n",
      "0.9414\n",
      "\n",
      "CLASSIFICATION REPORT:\n",
      "                     0           1  accuracy    macro avg  weighted avg\n",
      "precision     0.943188    0.612903  0.941429     0.778045      0.923446\n",
      "recall        0.997808    0.054598  0.941429     0.526203      0.941429\n",
      "f1-score      0.969729    0.100264  0.941429     0.534997      0.917758\n",
      "support    5474.000000  348.000000  0.941429  5822.000000   5822.000000\n",
      "\n",
      "TESTING RESULTS: \n",
      "-----------------------------\n",
      "CONFUSION MATRIX:\n",
      "[[3745   17]\n",
      " [ 234    4]]\n",
      "\n",
      "ACCURACY SCORE:\n",
      "0.9373\n",
      "\n",
      "CLASSIFICATION REPORT:\n",
      "                     0           1  accuracy    macro avg  weighted avg\n",
      "precision     0.941191    0.190476   0.93725     0.565834      0.896524\n",
      "recall        0.995481    0.016807   0.93725     0.506144      0.937250\n",
      "f1-score      0.967575    0.030888   0.93725     0.499232      0.911842\n",
      "support    3762.000000  238.000000   0.93725  4000.000000   4000.000000\n",
      "None\n"
     ]
    }
   ],
   "source": [
    "print(evaluate(neigh, X_train, X_test, y_train, y_test))"
   ]
  },
  {
   "cell_type": "markdown",
   "id": "5dd50e5e",
   "metadata": {},
   "source": [
    "### Analysis"
   ]
  },
  {
   "cell_type": "markdown",
   "id": "9200388e",
   "metadata": {},
   "source": [
    "For training KNN performs better while for testing logistic regression performs better"
   ]
  },
  {
   "cell_type": "markdown",
   "id": "5fb649df",
   "metadata": {},
   "source": [
    "### Question 3"
   ]
  },
  {
   "cell_type": "markdown",
   "id": "6029d72b",
   "metadata": {},
   "source": [
    "On  a  data  set  of  your  choosing,  fit  a  regression  tree  model.   Show  how pruning can imporve your model."
   ]
  },
  {
   "cell_type": "code",
   "execution_count": 38,
   "id": "a51a2df5",
   "metadata": {},
   "outputs": [],
   "source": [
    "from sklearn.datasets import load_breast_cancer\n",
    "from sklearn.tree import DecisionTreeClassifier\n",
    "\n",
    "X, y = load_breast_cancer(return_X_y=True)\n",
    "X_train, X_test, y_train, y_test = train_test_split(X, y, random_state=0)"
   ]
  },
  {
   "cell_type": "code",
   "execution_count": 39,
   "id": "7948dd62",
   "metadata": {},
   "outputs": [
    {
     "data": {
      "text/plain": [
       "{'ccp_alphas': array([0.        , 0.00226647, 0.00464743, 0.0046598 , 0.0056338 ,\n",
       "        0.00704225, 0.00784194, 0.00911402, 0.01144366, 0.018988  ,\n",
       "        0.02314163, 0.03422475, 0.32729844]),\n",
       " 'impurities': array([0.        , 0.00453294, 0.01847522, 0.02313502, 0.02876883,\n",
       "        0.03581108, 0.04365302, 0.05276704, 0.0642107 , 0.0831987 ,\n",
       "        0.10634033, 0.14056508, 0.46786352])}"
      ]
     },
     "execution_count": 39,
     "metadata": {},
     "output_type": "execute_result"
    }
   ],
   "source": [
    "clf = DecisionTreeClassifier()\n",
    "path = clf.cost_complexity_pruning_path(X_train, y_train)\n",
    "path"
   ]
  },
  {
   "cell_type": "code",
   "execution_count": 40,
   "id": "ca40ed18",
   "metadata": {},
   "outputs": [
    {
     "data": {
      "text/plain": [
       "Text(0, 0.5, 'total impurity of leaves')"
      ]
     },
     "execution_count": 40,
     "metadata": {},
     "output_type": "execute_result"
    },
    {
     "data": {
      "image/png": "[encoded data removed]",
      "text/plain": [
       "<Figure size 720x432 with 1 Axes>"
      ]
     },
     "metadata": {
      "needs_background": "light"
     },
     "output_type": "display_data"
    }
   ],
   "source": [
    "ccp_alphas, impurities = path.ccp_alphas, path.impurities\n",
    "\n",
    "plt.figure(figsize=(10, 6))\n",
    "plt.plot(ccp_alphas, impurities)\n",
    "plt.xlabel(\"effective alpha\")\n",
    "plt.ylabel(\"total impurity of leaves\")"
   ]
  },
  {
   "cell_type": "code",
   "execution_count": 41,
   "id": "54e4be6f",
   "metadata": {},
   "outputs": [],
   "source": [
    "clfs = []\n",
    "\n",
    "for ccp_alpha in ccp_alphas:\n",
    "    clf = DecisionTreeClassifier(random_state=0, ccp_alpha=ccp_alpha)\n",
    "    clf.fit(X_train, y_train)\n",
    "    clfs.append(clf)"
   ]
  },
  {
   "cell_type": "code",
   "execution_count": 42,
   "id": "04a08310",
   "metadata": {},
   "outputs": [
    {
     "data": {
      "text/plain": [
       "Text(0, 0.5, 'total depth')"
      ]
     },
     "execution_count": 42,
     "metadata": {},
     "output_type": "execute_result"
    },
    {
     "data": {
      "image/png": "[encoded data removed]",
      "text/plain": [
       "<Figure size 720x432 with 1 Axes>"
      ]
     },
     "metadata": {
      "needs_background": "light"
     },
     "output_type": "display_data"
    }
   ],
   "source": [
    "tree_depths = [clf.tree_.max_depth for clf in clfs]\n",
    "plt.figure(figsize=(10,  6))\n",
    "plt.plot(ccp_alphas[:-1], tree_depths[:-1])\n",
    "plt.xlabel(\"effective alpha\")\n",
    "plt.ylabel(\"total depth\")"
   ]
  },
  {
   "cell_type": "code",
   "execution_count": 43,
   "id": "02725f80",
   "metadata": {},
   "outputs": [
    {
     "data": {
      "text/plain": [
       "Text(0, 0.5, 'Accuracy scores')"
      ]
     },
     "execution_count": 43,
     "metadata": {},
     "output_type": "execute_result"
    },
    {
     "data": {
      "image/png": "[encoded data removed]",
      "text/plain": [
       "<Figure size 720x432 with 1 Axes>"
      ]
     },
     "metadata": {
      "needs_background": "light"
     },
     "output_type": "display_data"
    }
   ],
   "source": [
    "from sklearn.metrics import accuracy_score\n",
    "\n",
    "acc_scores = [accuracy_score(y_test, clf.predict(X_test)) for clf in clfs]\n",
    "\n",
    "tree_depths = [clf.tree_.max_depth for clf in clfs]\n",
    "plt.figure(figsize=(10,  6))\n",
    "plt.grid()\n",
    "plt.plot(ccp_alphas[:-1], acc_scores[:-1])\n",
    "plt.xlabel(\"effective alpha\")\n",
    "plt.ylabel(\"Accuracy scores\")"
   ]
  },
  {
   "cell_type": "markdown",
   "id": "40c88ab0",
   "metadata": {},
   "source": [
    "We can clearly see that somewhere around 0.013 alpha, we get a very good value of accuracy."
   ]
  },
  {
   "cell_type": "markdown",
   "id": "bf848495",
   "metadata": {},
   "source": [
    "### Question 4"
   ]
  },
  {
   "cell_type": "markdown",
   "id": "5f713109",
   "metadata": {},
   "source": [
    "For all the models you fit, evaluate the models.  Explain your results."
   ]
  },
  {
   "cell_type": "markdown",
   "id": "3af057f0",
   "metadata": {},
   "source": [
    "This has been done above"
   ]
  }
 ],
 "metadata": {
  "kernelspec": {
   "display_name": "Python 3 (ipykernel)",
   "language": "python",
   "name": "python3"
  },
  "language_info": {
   "codemirror_mode": {
    "name": "ipython",
    "version": 3
   },
   "file_extension": ".py",
   "mimetype": "text/x-python",
   "name": "python",
   "nbconvert_exporter": "python",
   "pygments_lexer": "ipython3",
   "version": "3.9.12"
  }
 },
 "nbformat": 4,
 "nbformat_minor": 5
}
