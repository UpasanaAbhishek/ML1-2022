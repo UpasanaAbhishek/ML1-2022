{
 "cells": [
  {
   "cell_type": "code",
   "execution_count": 1,
   "id": "0c29d642",
   "metadata": {},
   "outputs": [],
   "source": [
    "import pandas as pd\n",
    "import numpy as np\n",
    "import seaborn as sns\n",
    "import matplotlib.pyplot as plt\n",
    "from sklearn.model_selection import train_test_split\n",
    "from sklearn.linear_model import LogisticRegression\n",
    "import scipy.stats as stats\n",
    "from scipy.stats import norm\n",
    "from sklearn import metrics"
   ]
  },
  {
   "cell_type": "code",
   "execution_count": 2,
   "id": "e1cd6fad",
   "metadata": {},
   "outputs": [],
   "source": [
    "df=pd.read_csv('E:/diabetes.csv')"
   ]
  },
  {
   "cell_type": "code",
   "execution_count": 3,
   "id": "c9c7f8a0",
   "metadata": {},
   "outputs": [
    {
     "data": {
      "text/html": [
       "<div>\n",
       "<style scoped>\n",
       "    .dataframe tbody tr th:only-of-type {\n",
       "        vertical-align: middle;\n",
       "    }\n",
       "\n",
       "    .dataframe tbody tr th {\n",
       "        vertical-align: top;\n",
       "    }\n",
       "\n",
       "    .dataframe thead th {\n",
       "        text-align: right;\n",
       "    }\n",
       "</style>\n",
       "<table border=\"1\" class=\"dataframe\">\n",
       "  <thead>\n",
       "    <tr style=\"text-align: right;\">\n",
       "      <th></th>\n",
       "      <th>Pregnancies</th>\n",
       "      <th>Glucose</th>\n",
       "      <th>BloodPressure</th>\n",
       "      <th>SkinThickness</th>\n",
       "      <th>Insulin</th>\n",
       "      <th>BMI</th>\n",
       "      <th>DiabetesPedigreeFunction</th>\n",
       "      <th>Age</th>\n",
       "      <th>Outcome</th>\n",
       "    </tr>\n",
       "  </thead>\n",
       "  <tbody>\n",
       "    <tr>\n",
       "      <th>0</th>\n",
       "      <td>6</td>\n",
       "      <td>148</td>\n",
       "      <td>72</td>\n",
       "      <td>35</td>\n",
       "      <td>0</td>\n",
       "      <td>33.6</td>\n",
       "      <td>0.627</td>\n",
       "      <td>50</td>\n",
       "      <td>1</td>\n",
       "    </tr>\n",
       "    <tr>\n",
       "      <th>1</th>\n",
       "      <td>1</td>\n",
       "      <td>85</td>\n",
       "      <td>66</td>\n",
       "      <td>29</td>\n",
       "      <td>0</td>\n",
       "      <td>26.6</td>\n",
       "      <td>0.351</td>\n",
       "      <td>31</td>\n",
       "      <td>0</td>\n",
       "    </tr>\n",
       "    <tr>\n",
       "      <th>2</th>\n",
       "      <td>8</td>\n",
       "      <td>183</td>\n",
       "      <td>64</td>\n",
       "      <td>0</td>\n",
       "      <td>0</td>\n",
       "      <td>23.3</td>\n",
       "      <td>0.672</td>\n",
       "      <td>32</td>\n",
       "      <td>1</td>\n",
       "    </tr>\n",
       "    <tr>\n",
       "      <th>3</th>\n",
       "      <td>1</td>\n",
       "      <td>89</td>\n",
       "      <td>66</td>\n",
       "      <td>23</td>\n",
       "      <td>94</td>\n",
       "      <td>28.1</td>\n",
       "      <td>0.167</td>\n",
       "      <td>21</td>\n",
       "      <td>0</td>\n",
       "    </tr>\n",
       "    <tr>\n",
       "      <th>4</th>\n",
       "      <td>0</td>\n",
       "      <td>137</td>\n",
       "      <td>40</td>\n",
       "      <td>35</td>\n",
       "      <td>168</td>\n",
       "      <td>43.1</td>\n",
       "      <td>2.288</td>\n",
       "      <td>33</td>\n",
       "      <td>1</td>\n",
       "    </tr>\n",
       "    <tr>\n",
       "      <th>...</th>\n",
       "      <td>...</td>\n",
       "      <td>...</td>\n",
       "      <td>...</td>\n",
       "      <td>...</td>\n",
       "      <td>...</td>\n",
       "      <td>...</td>\n",
       "      <td>...</td>\n",
       "      <td>...</td>\n",
       "      <td>...</td>\n",
       "    </tr>\n",
       "    <tr>\n",
       "      <th>763</th>\n",
       "      <td>10</td>\n",
       "      <td>101</td>\n",
       "      <td>76</td>\n",
       "      <td>48</td>\n",
       "      <td>180</td>\n",
       "      <td>32.9</td>\n",
       "      <td>0.171</td>\n",
       "      <td>63</td>\n",
       "      <td>0</td>\n",
       "    </tr>\n",
       "    <tr>\n",
       "      <th>764</th>\n",
       "      <td>2</td>\n",
       "      <td>122</td>\n",
       "      <td>70</td>\n",
       "      <td>27</td>\n",
       "      <td>0</td>\n",
       "      <td>36.8</td>\n",
       "      <td>0.340</td>\n",
       "      <td>27</td>\n",
       "      <td>0</td>\n",
       "    </tr>\n",
       "    <tr>\n",
       "      <th>765</th>\n",
       "      <td>5</td>\n",
       "      <td>121</td>\n",
       "      <td>72</td>\n",
       "      <td>23</td>\n",
       "      <td>112</td>\n",
       "      <td>26.2</td>\n",
       "      <td>0.245</td>\n",
       "      <td>30</td>\n",
       "      <td>0</td>\n",
       "    </tr>\n",
       "    <tr>\n",
       "      <th>766</th>\n",
       "      <td>1</td>\n",
       "      <td>126</td>\n",
       "      <td>60</td>\n",
       "      <td>0</td>\n",
       "      <td>0</td>\n",
       "      <td>30.1</td>\n",
       "      <td>0.349</td>\n",
       "      <td>47</td>\n",
       "      <td>1</td>\n",
       "    </tr>\n",
       "    <tr>\n",
       "      <th>767</th>\n",
       "      <td>1</td>\n",
       "      <td>93</td>\n",
       "      <td>70</td>\n",
       "      <td>31</td>\n",
       "      <td>0</td>\n",
       "      <td>30.4</td>\n",
       "      <td>0.315</td>\n",
       "      <td>23</td>\n",
       "      <td>0</td>\n",
       "    </tr>\n",
       "  </tbody>\n",
       "</table>\n",
       "<p>768 rows × 9 columns</p>\n",
       "</div>"
      ],
      "text/plain": [
       "     Pregnancies  Glucose  BloodPressure  SkinThickness  Insulin   BMI  \\\n",
       "0              6      148             72             35        0  33.6   \n",
       "1              1       85             66             29        0  26.6   \n",
       "2              8      183             64              0        0  23.3   \n",
       "3              1       89             66             23       94  28.1   \n",
       "4              0      137             40             35      168  43.1   \n",
       "..           ...      ...            ...            ...      ...   ...   \n",
       "763           10      101             76             48      180  32.9   \n",
       "764            2      122             70             27        0  36.8   \n",
       "765            5      121             72             23      112  26.2   \n",
       "766            1      126             60              0        0  30.1   \n",
       "767            1       93             70             31        0  30.4   \n",
       "\n",
       "     DiabetesPedigreeFunction  Age  Outcome  \n",
       "0                       0.627   50        1  \n",
       "1                       0.351   31        0  \n",
       "2                       0.672   32        1  \n",
       "3                       0.167   21        0  \n",
       "4                       2.288   33        1  \n",
       "..                        ...  ...      ...  \n",
       "763                     0.171   63        0  \n",
       "764                     0.340   27        0  \n",
       "765                     0.245   30        0  \n",
       "766                     0.349   47        1  \n",
       "767                     0.315   23        0  \n",
       "\n",
       "[768 rows x 9 columns]"
      ]
     },
     "execution_count": 3,
     "metadata": {},
     "output_type": "execute_result"
    }
   ],
   "source": [
    "df"
   ]
  },
  {
   "cell_type": "code",
   "execution_count": 4,
   "id": "449df772",
   "metadata": {},
   "outputs": [],
   "source": [
    "#the outcome represent the person has diabetes or not "
   ]
  },
  {
   "cell_type": "markdown",
   "id": "3e6bb47a",
   "metadata": {},
   "source": [
    "## cleaning"
   ]
  },
  {
   "cell_type": "code",
   "execution_count": 5,
   "id": "a17025dd",
   "metadata": {},
   "outputs": [
    {
     "data": {
      "text/plain": [
       "Pregnancies                 0\n",
       "Glucose                     0\n",
       "BloodPressure               0\n",
       "SkinThickness               0\n",
       "Insulin                     0\n",
       "BMI                         0\n",
       "DiabetesPedigreeFunction    0\n",
       "Age                         0\n",
       "Outcome                     0\n",
       "dtype: int64"
      ]
     },
     "execution_count": 5,
     "metadata": {},
     "output_type": "execute_result"
    }
   ],
   "source": [
    "df.isna().sum()"
   ]
  },
  {
   "cell_type": "code",
   "execution_count": 6,
   "id": "b1550d33",
   "metadata": {},
   "outputs": [
    {
     "name": "stdout",
     "output_type": "stream",
     "text": [
      "<class 'pandas.core.frame.DataFrame'>\n",
      "RangeIndex: 768 entries, 0 to 767\n",
      "Data columns (total 9 columns):\n",
      " #   Column                    Non-Null Count  Dtype  \n",
      "---  ------                    --------------  -----  \n",
      " 0   Pregnancies               768 non-null    int64  \n",
      " 1   Glucose                   768 non-null    int64  \n",
      " 2   BloodPressure             768 non-null    int64  \n",
      " 3   SkinThickness             768 non-null    int64  \n",
      " 4   Insulin                   768 non-null    int64  \n",
      " 5   BMI                       768 non-null    float64\n",
      " 6   DiabetesPedigreeFunction  768 non-null    float64\n",
      " 7   Age                       768 non-null    int64  \n",
      " 8   Outcome                   768 non-null    int64  \n",
      "dtypes: float64(2), int64(7)\n",
      "memory usage: 54.1 KB\n"
     ]
    }
   ],
   "source": [
    "df.info()"
   ]
  },
  {
   "cell_type": "code",
   "execution_count": 7,
   "id": "768ac792",
   "metadata": {},
   "outputs": [
    {
     "data": {
      "text/html": [
       "<div>\n",
       "<style scoped>\n",
       "    .dataframe tbody tr th:only-of-type {\n",
       "        vertical-align: middle;\n",
       "    }\n",
       "\n",
       "    .dataframe tbody tr th {\n",
       "        vertical-align: top;\n",
       "    }\n",
       "\n",
       "    .dataframe thead th {\n",
       "        text-align: right;\n",
       "    }\n",
       "</style>\n",
       "<table border=\"1\" class=\"dataframe\">\n",
       "  <thead>\n",
       "    <tr style=\"text-align: right;\">\n",
       "      <th></th>\n",
       "      <th>Pregnancies</th>\n",
       "      <th>Glucose</th>\n",
       "      <th>BloodPressure</th>\n",
       "      <th>SkinThickness</th>\n",
       "      <th>Insulin</th>\n",
       "      <th>BMI</th>\n",
       "      <th>DiabetesPedigreeFunction</th>\n",
       "      <th>Age</th>\n",
       "      <th>Outcome</th>\n",
       "    </tr>\n",
       "  </thead>\n",
       "  <tbody>\n",
       "    <tr>\n",
       "      <th>count</th>\n",
       "      <td>768.000000</td>\n",
       "      <td>768.000000</td>\n",
       "      <td>768.000000</td>\n",
       "      <td>768.000000</td>\n",
       "      <td>768.000000</td>\n",
       "      <td>768.000000</td>\n",
       "      <td>768.000000</td>\n",
       "      <td>768.000000</td>\n",
       "      <td>768.000000</td>\n",
       "    </tr>\n",
       "    <tr>\n",
       "      <th>mean</th>\n",
       "      <td>3.845052</td>\n",
       "      <td>120.894531</td>\n",
       "      <td>69.105469</td>\n",
       "      <td>20.536458</td>\n",
       "      <td>79.799479</td>\n",
       "      <td>31.992578</td>\n",
       "      <td>0.471876</td>\n",
       "      <td>33.240885</td>\n",
       "      <td>0.348958</td>\n",
       "    </tr>\n",
       "    <tr>\n",
       "      <th>std</th>\n",
       "      <td>3.369578</td>\n",
       "      <td>31.972618</td>\n",
       "      <td>19.355807</td>\n",
       "      <td>15.952218</td>\n",
       "      <td>115.244002</td>\n",
       "      <td>7.884160</td>\n",
       "      <td>0.331329</td>\n",
       "      <td>11.760232</td>\n",
       "      <td>0.476951</td>\n",
       "    </tr>\n",
       "    <tr>\n",
       "      <th>min</th>\n",
       "      <td>0.000000</td>\n",
       "      <td>0.000000</td>\n",
       "      <td>0.000000</td>\n",
       "      <td>0.000000</td>\n",
       "      <td>0.000000</td>\n",
       "      <td>0.000000</td>\n",
       "      <td>0.078000</td>\n",
       "      <td>21.000000</td>\n",
       "      <td>0.000000</td>\n",
       "    </tr>\n",
       "    <tr>\n",
       "      <th>25%</th>\n",
       "      <td>1.000000</td>\n",
       "      <td>99.000000</td>\n",
       "      <td>62.000000</td>\n",
       "      <td>0.000000</td>\n",
       "      <td>0.000000</td>\n",
       "      <td>27.300000</td>\n",
       "      <td>0.243750</td>\n",
       "      <td>24.000000</td>\n",
       "      <td>0.000000</td>\n",
       "    </tr>\n",
       "    <tr>\n",
       "      <th>50%</th>\n",
       "      <td>3.000000</td>\n",
       "      <td>117.000000</td>\n",
       "      <td>72.000000</td>\n",
       "      <td>23.000000</td>\n",
       "      <td>30.500000</td>\n",
       "      <td>32.000000</td>\n",
       "      <td>0.372500</td>\n",
       "      <td>29.000000</td>\n",
       "      <td>0.000000</td>\n",
       "    </tr>\n",
       "    <tr>\n",
       "      <th>75%</th>\n",
       "      <td>6.000000</td>\n",
       "      <td>140.250000</td>\n",
       "      <td>80.000000</td>\n",
       "      <td>32.000000</td>\n",
       "      <td>127.250000</td>\n",
       "      <td>36.600000</td>\n",
       "      <td>0.626250</td>\n",
       "      <td>41.000000</td>\n",
       "      <td>1.000000</td>\n",
       "    </tr>\n",
       "    <tr>\n",
       "      <th>max</th>\n",
       "      <td>17.000000</td>\n",
       "      <td>199.000000</td>\n",
       "      <td>122.000000</td>\n",
       "      <td>99.000000</td>\n",
       "      <td>846.000000</td>\n",
       "      <td>67.100000</td>\n",
       "      <td>2.420000</td>\n",
       "      <td>81.000000</td>\n",
       "      <td>1.000000</td>\n",
       "    </tr>\n",
       "  </tbody>\n",
       "</table>\n",
       "</div>"
      ],
      "text/plain": [
       "       Pregnancies     Glucose  BloodPressure  SkinThickness     Insulin  \\\n",
       "count   768.000000  768.000000     768.000000     768.000000  768.000000   \n",
       "mean      3.845052  120.894531      69.105469      20.536458   79.799479   \n",
       "std       3.369578   31.972618      19.355807      15.952218  115.244002   \n",
       "min       0.000000    0.000000       0.000000       0.000000    0.000000   \n",
       "25%       1.000000   99.000000      62.000000       0.000000    0.000000   \n",
       "50%       3.000000  117.000000      72.000000      23.000000   30.500000   \n",
       "75%       6.000000  140.250000      80.000000      32.000000  127.250000   \n",
       "max      17.000000  199.000000     122.000000      99.000000  846.000000   \n",
       "\n",
       "              BMI  DiabetesPedigreeFunction         Age     Outcome  \n",
       "count  768.000000                768.000000  768.000000  768.000000  \n",
       "mean    31.992578                  0.471876   33.240885    0.348958  \n",
       "std      7.884160                  0.331329   11.760232    0.476951  \n",
       "min      0.000000                  0.078000   21.000000    0.000000  \n",
       "25%     27.300000                  0.243750   24.000000    0.000000  \n",
       "50%     32.000000                  0.372500   29.000000    0.000000  \n",
       "75%     36.600000                  0.626250   41.000000    1.000000  \n",
       "max     67.100000                  2.420000   81.000000    1.000000  "
      ]
     },
     "execution_count": 7,
     "metadata": {},
     "output_type": "execute_result"
    }
   ],
   "source": [
    "df.describe()"
   ]
  },
  {
   "cell_type": "markdown",
   "id": "2b7db564",
   "metadata": {},
   "source": [
    "## Eda"
   ]
  },
  {
   "cell_type": "code",
   "execution_count": 8,
   "id": "ca8d5edc",
   "metadata": {},
   "outputs": [
    {
     "data": {
      "image/png": "[encoded data removed]",
      "text/plain": [
       "<Figure size 432x288 with 1 Axes>"
      ]
     },
     "metadata": {
      "needs_background": "light"
     },
     "output_type": "display_data"
    }
   ],
   "source": [
    "base_color = sns.color_palette()[0]\n",
    "sns.countplot(data = df, x = 'Outcome', color = base_color);"
   ]
  },
  {
   "cell_type": "markdown",
   "id": "b2d76a52",
   "metadata": {},
   "source": [
    "As we can see that the count of non-diabetes patient has high than diabetes patient"
   ]
  },
  {
   "cell_type": "code",
   "execution_count": 9,
   "id": "a73ac060",
   "metadata": {},
   "outputs": [
    {
     "name": "stderr",
     "output_type": "stream",
     "text": [
      "C:\\Users\\sarvesh s\\anaconda3\\lib\\site-packages\\seaborn\\distributions.py:2557: FutureWarning: `distplot` is a deprecated function and will be removed in a future version. Please adapt your code to use either `displot` (a figure-level function with similar flexibility) or `histplot` (an axes-level function for histograms).\n",
      "  warnings.warn(msg, FutureWarning)\n"
     ]
    },
    {
     "data": {
      "image/png": "[encoded data removed]",
      "text/plain": [
       "<Figure size 864x576 with 1 Axes>"
      ]
     },
     "metadata": {
      "needs_background": "light"
     },
     "output_type": "display_data"
    }
   ],
   "source": [
    "mu, std = norm.fit(df['Glucose'])\n",
    "plt.figure(figsize = [12, 8])\n",
    "sns.distplot(df['Glucose'], hist=True, kde=True, \n",
    "             bins=25, color = 'b', \n",
    "             hist_kws={'edgecolor':'black'},\n",
    "             kde_kws={'linewidth': 2});\n",
    "plt.title(\"Fit results: $\\mu$ = %.2f,  $\\sigma$ = %.2f\" % (mu, std), size=15)\n",
    "plt.xlabel(\"Glucose\", size=15)\n",
    "plt.ylabel(\"Density\", size=15);"
   ]
  },
  {
   "cell_type": "markdown",
   "id": "8c409f2d",
   "metadata": {},
   "source": [
    "from this we can say that the glucose value accross the patients in our sample is slightly normally distributes"
   ]
  },
  {
   "cell_type": "code",
   "execution_count": 10,
   "id": "fb6bdbab",
   "metadata": {},
   "outputs": [
    {
     "name": "stderr",
     "output_type": "stream",
     "text": [
      "C:\\Users\\sarvesh s\\anaconda3\\lib\\site-packages\\seaborn\\distributions.py:2557: FutureWarning: `distplot` is a deprecated function and will be removed in a future version. Please adapt your code to use either `displot` (a figure-level function with similar flexibility) or `histplot` (an axes-level function for histograms).\n",
      "  warnings.warn(msg, FutureWarning)\n"
     ]
    },
    {
     "data": {
      "image/png": "[encoded data removed]",
      "text/plain": [
       "<Figure size 864x576 with 1 Axes>"
      ]
     },
     "metadata": {
      "needs_background": "light"
     },
     "output_type": "display_data"
    }
   ],
   "source": [
    "mu, std = norm.fit(df['BloodPressure'])\n",
    "plt.figure(figsize = [12, 8])\n",
    "sns.distplot(df['BloodPressure'], hist=True, kde=True, \n",
    "             bins=25, color = 'b', \n",
    "             hist_kws={'edgecolor':'black'},\n",
    "             kde_kws={'linewidth': 2});\n",
    "plt.title(\"Fit results: $\\mu$ = %.2f,  $\\sigma$ = %.2f\" % (mu, std), size=15)\n",
    "plt.xlabel(\"Blood Pressure\", size=15)\n",
    "plt.ylabel(\"Density\", size=15);"
   ]
  },
  {
   "cell_type": "code",
   "execution_count": null,
   "id": "7face69a",
   "metadata": {},
   "outputs": [],
   "source": []
  },
  {
   "cell_type": "code",
   "execution_count": 11,
   "id": "b49cb92d",
   "metadata": {},
   "outputs": [
    {
     "data": {
      "image/png": "[encoded data removed]",
      "text/plain": [
       "<Figure size 720x720 with 2 Axes>"
      ]
     },
     "metadata": {
      "needs_background": "light"
     },
     "output_type": "display_data"
    }
   ],
   "source": [
    "plt.figure(figsize = [10, 10])\n",
    "sns.heatmap(df.corr(), annot = True, fmt = '.3f', cmap = 'vlag_r', center = 0);"
   ]
  },
  {
   "cell_type": "markdown",
   "id": "e88b720f",
   "metadata": {},
   "source": [
    "the above map represent the correlation b/w the variables"
   ]
  },
  {
   "cell_type": "code",
   "execution_count": null,
   "id": "40128a09",
   "metadata": {},
   "outputs": [],
   "source": []
  },
  {
   "cell_type": "code",
   "execution_count": 12,
   "id": "dcd5faaf",
   "metadata": {},
   "outputs": [
    {
     "data": {
      "image/png": "[encoded data removed]",
      "text/plain": [
       "<Figure size 432x288 with 1 Axes>"
      ]
     },
     "metadata": {
      "needs_background": "light"
     },
     "output_type": "display_data"
    }
   ],
   "source": [
    "sns.regplot(data=df, x='Insulin', y='Glucose')\n",
    "plt.xlabel('Insulin')\n",
    "plt.ylabel('Glucose');"
   ]
  },
  {
   "cell_type": "markdown",
   "id": "9e52b06d",
   "metadata": {},
   "source": [
    "the above was the regression plot as the insulin increases in will leads to increase in glucose level in their body"
   ]
  },
  {
   "cell_type": "code",
   "execution_count": null,
   "id": "ba2c6444",
   "metadata": {},
   "outputs": [],
   "source": []
  },
  {
   "cell_type": "markdown",
   "id": "9ec73c0c",
   "metadata": {},
   "source": [
    "## logistic regression"
   ]
  },
  {
   "cell_type": "code",
   "execution_count": 13,
   "id": "1f39779f",
   "metadata": {},
   "outputs": [],
   "source": [
    "y = df['Outcome']\n",
    "X = df.drop('Outcome', axis=1)\n",
    "\n",
    "\n",
    "X_train, X_test, y_train, y_test = train_test_split(X, y, test_size=0.2, random_state=0)"
   ]
  },
  {
   "cell_type": "code",
   "execution_count": 14,
   "id": "8d4c5078",
   "metadata": {},
   "outputs": [],
   "source": [
    "model=LogisticRegression(random_state=0)"
   ]
  },
  {
   "cell_type": "code",
   "execution_count": 15,
   "id": "09d0fff1",
   "metadata": {},
   "outputs": [
    {
     "name": "stderr",
     "output_type": "stream",
     "text": [
      "C:\\Users\\sarvesh s\\anaconda3\\lib\\site-packages\\sklearn\\linear_model\\_logistic.py:763: ConvergenceWarning: lbfgs failed to converge (status=1):\n",
      "STOP: TOTAL NO. of ITERATIONS REACHED LIMIT.\n",
      "\n",
      "Increase the number of iterations (max_iter) or scale the data as shown in:\n",
      "    https://scikit-learn.org/stable/modules/preprocessing.html\n",
      "Please also refer to the documentation for alternative solver options:\n",
      "    https://scikit-learn.org/stable/modules/linear_model.html#logistic-regression\n",
      "  n_iter_i = _check_optimize_result(\n"
     ]
    },
    {
     "data": {
      "text/plain": [
       "LogisticRegression(random_state=0)"
      ]
     },
     "execution_count": 15,
     "metadata": {},
     "output_type": "execute_result"
    }
   ],
   "source": [
    "model.fit(X_train, y_train)"
   ]
  },
  {
   "cell_type": "code",
   "execution_count": 16,
   "id": "79c2441f",
   "metadata": {},
   "outputs": [
    {
     "data": {
      "text/plain": [
       "array([1, 0, 0, 1, 0, 0, 1, 1, 0, 0, 1, 1, 0, 0, 0, 0, 1, 0, 0, 0, 1, 0,\n",
       "       0, 0, 0, 0, 0, 1, 0, 0, 0, 0, 0, 0, 0, 1, 0, 0, 0, 1, 0, 0, 0, 1,\n",
       "       1, 0, 0, 0, 0, 0, 0, 0, 1, 0, 0, 0, 0, 1, 0, 0, 1, 0, 0, 1, 1, 1,\n",
       "       1, 0, 0, 0, 0, 0, 0, 1, 1, 0, 0, 1, 0, 0, 0, 0, 0, 0, 0, 0, 0, 0,\n",
       "       1, 0, 0, 0, 0, 0, 1, 0, 0, 1, 1, 0, 0, 0, 0, 0, 1, 0, 0, 0, 0, 1,\n",
       "       0, 0, 1, 0, 1, 1, 0, 1, 0, 1, 0, 0, 0, 0, 0, 0, 0, 0, 0, 0, 0, 0,\n",
       "       0, 1, 0, 0, 0, 0, 1, 0, 0, 1, 0, 0, 0, 0, 0, 0, 0, 0, 0, 1, 0, 0],\n",
       "      dtype=int64)"
      ]
     },
     "execution_count": 16,
     "metadata": {},
     "output_type": "execute_result"
    }
   ],
   "source": [
    "y_test_pred=model.predict(X_test)\n",
    "y_test_pred"
   ]
  },
  {
   "cell_type": "code",
   "execution_count": 17,
   "id": "a2d90865",
   "metadata": {},
   "outputs": [
    {
     "data": {
      "text/plain": [
       "661    1\n",
       "122    0\n",
       "113    0\n",
       "14     1\n",
       "529    0\n",
       "      ..\n",
       "476    1\n",
       "482    0\n",
       "230    1\n",
       "527    0\n",
       "380    0\n",
       "Name: Outcome, Length: 154, dtype: int64"
      ]
     },
     "execution_count": 17,
     "metadata": {},
     "output_type": "execute_result"
    }
   ],
   "source": [
    "y_test"
   ]
  },
  {
   "cell_type": "code",
   "execution_count": 18,
   "id": "7bb1f309",
   "metadata": {},
   "outputs": [
    {
     "data": {
      "text/plain": [
       "0.8246753246753247"
      ]
     },
     "execution_count": 18,
     "metadata": {},
     "output_type": "execute_result"
    }
   ],
   "source": [
    "model.score(X_test,y_test)"
   ]
  },
  {
   "cell_type": "code",
   "execution_count": 19,
   "id": "4d3c4fae",
   "metadata": {},
   "outputs": [
    {
     "data": {
      "text/plain": [
       "0.8246753246753247"
      ]
     },
     "execution_count": 19,
     "metadata": {},
     "output_type": "execute_result"
    }
   ],
   "source": [
    " metrics.accuracy_score(y_test, y_test_pred)"
   ]
  },
  {
   "cell_type": "code",
   "execution_count": 20,
   "id": "eaccba1c",
   "metadata": {
    "scrolled": true
   },
   "outputs": [
    {
     "data": {
      "text/plain": [
       "array([0.96299169, 0.17073299, 0.10176832, 0.6208385 , 0.1291761 ,\n",
       "       0.03957538, 0.74301385, 0.84021765, 0.38880314, 0.34334555,\n",
       "       0.5753693 , 0.95768188, 0.27423768, 0.17793271, 0.11883379,\n",
       "       0.16326415, 0.86182118, 0.02880312, 0.3956631 , 0.2573216 ,\n",
       "       0.66496397, 0.45160255, 0.23295362, 0.06081032, 0.05328304,\n",
       "       0.38014445, 0.04828828, 0.90630854, 0.1184074 , 0.15138532,\n",
       "       0.44167834, 0.25974042, 0.09739346, 0.46086766, 0.10771671,\n",
       "       0.7260941 , 0.44227715, 0.09056172, 0.34501232, 0.75945202,\n",
       "       0.2984119 , 0.23838372, 0.16242655, 0.84141718, 0.72120078,\n",
       "       0.00890453, 0.08971141, 0.20788321, 0.35840717, 0.3201017 ,\n",
       "       0.41632723, 0.20070165, 0.87176082, 0.48762428, 0.14129361,\n",
       "       0.00278531, 0.06218449, 0.58114126, 0.29974221, 0.07634903,\n",
       "       0.71130488, 0.47183145, 0.11995462, 0.74964908, 0.7116314 ,\n",
       "       0.91005018, 0.7192739 , 0.14472669, 0.36598583, 0.10783938,\n",
       "       0.1379415 , 0.42192069, 0.10375525, 0.95343925, 0.86728583,\n",
       "       0.3354852 , 0.10590928, 0.61974752, 0.07193225, 0.19359917,\n",
       "       0.33886971, 0.39626102, 0.21099816, 0.03322603, 0.21018943,\n",
       "       0.22891113, 0.3124993 , 0.42390259, 0.87007509, 0.20149325,\n",
       "       0.16995306, 0.19077365, 0.24292568, 0.04184912, 0.63468153,\n",
       "       0.19692965, 0.42538154, 0.52509053, 0.57498247, 0.2458597 ,\n",
       "       0.25941947, 0.09764655, 0.23174608, 0.03899875, 0.64946907,\n",
       "       0.36512125, 0.14064788, 0.31935056, 0.04253343, 0.76956665,\n",
       "       0.11117066, 0.29975921, 0.63127616, 0.39500416, 0.5373507 ,\n",
       "       0.6238612 , 0.11344605, 0.6692825 , 0.10750617, 0.73655379,\n",
       "       0.37838623, 0.33659491, 0.29620365, 0.42980103, 0.22802288,\n",
       "       0.04956913, 0.32619427, 0.35996956, 0.46326867, 0.3951925 ,\n",
       "       0.37527392, 0.04047835, 0.06053686, 0.75190696, 0.29217922,\n",
       "       0.38563124, 0.14356426, 0.39298441, 0.68997933, 0.21410102,\n",
       "       0.09471276, 0.5391701 , 0.07599944, 0.07717578, 0.3518891 ,\n",
       "       0.09307693, 0.07428077, 0.08807583, 0.13838195, 0.18773071,\n",
       "       0.08339908, 0.68980531, 0.10794871, 0.18122561])"
      ]
     },
     "execution_count": 20,
     "metadata": {},
     "output_type": "execute_result"
    }
   ],
   "source": [
    "model.predict_proba(X_test)[:,1]\n",
    "\n"
   ]
  },
  {
   "cell_type": "markdown",
   "id": "7f0eb2dc",
   "metadata": {},
   "source": [
    "as the values greater than .5 it will say that the patient has diabetes and vice versa"
   ]
  },
  {
   "cell_type": "markdown",
   "id": "2a1ac118",
   "metadata": {},
   "source": [
    "## confusion matrix"
   ]
  },
  {
   "cell_type": "code",
   "execution_count": 21,
   "id": "b5b67593",
   "metadata": {},
   "outputs": [],
   "source": [
    "from sklearn.metrics import plot_confusion_matrix"
   ]
  },
  {
   "cell_type": "code",
   "execution_count": 22,
   "id": "7c8373f8",
   "metadata": {},
   "outputs": [
    {
     "data": {
      "image/png": "[encoded data removed]",
      "text/plain": [
       "<Figure size 432x288 with 2 Axes>"
      ]
     },
     "metadata": {
      "needs_background": "light"
     },
     "output_type": "display_data"
    }
   ],
   "source": [
    "plot_confusion_matrix(model, X_test, y_test, cmap=plt.cm.Blues);"
   ]
  },
  {
   "cell_type": "markdown",
   "id": "23d9a091",
   "metadata": {},
   "source": [
    "in our confusion matrix the value of false positive and false negative value low so we can say our model is best.but from this only we cant say logistic is best than k-nearest one ans so on"
   ]
  },
  {
   "cell_type": "markdown",
   "id": "ddeb59ed",
   "metadata": {},
   "source": [
    "## precision and recall --> if one inc and other will dic"
   ]
  },
  {
   "cell_type": "code",
   "execution_count": 23,
   "id": "86b2efd9",
   "metadata": {},
   "outputs": [],
   "source": [
    "#if we cahnge the desicion boundary means our classification will go wrong that will encounter by the above"
   ]
  },
  {
   "cell_type": "markdown",
   "id": "2de184a2",
   "metadata": {},
   "source": [
    "precision--> TP/TP+FP It helps us to measure the ability to classify positive samples in the model."
   ]
  },
  {
   "cell_type": "code",
   "execution_count": 24,
   "id": "168e7748",
   "metadata": {},
   "outputs": [
    {
     "data": {
      "text/plain": [
       "0.7631578947368421"
      ]
     },
     "execution_count": 24,
     "metadata": {},
     "output_type": "execute_result"
    }
   ],
   "source": [
    "metrics.precision_score(y_test, y_test_pred)"
   ]
  },
  {
   "cell_type": "markdown",
   "id": "17be5aea",
   "metadata": {},
   "source": [
    "Recall = TP/TP+FN It helps us to measure how many positive samples were correctly classified by the ML model."
   ]
  },
  {
   "cell_type": "code",
   "execution_count": 25,
   "id": "75cdbdca",
   "metadata": {},
   "outputs": [
    {
     "data": {
      "text/plain": [
       "0.6170212765957447"
      ]
     },
     "execution_count": 25,
     "metadata": {},
     "output_type": "execute_result"
    }
   ],
   "source": [
    "metrics.recall_score(y_test, y_test_pred)"
   ]
  },
  {
   "cell_type": "code",
   "execution_count": null,
   "id": "c1a32d9b",
   "metadata": {},
   "outputs": [],
   "source": []
  },
  {
   "cell_type": "markdown",
   "id": "a8d87fc3",
   "metadata": {},
   "source": [
    "## f1 score"
   ]
  },
  {
   "cell_type": "markdown",
   "id": "7f63e5e2",
   "metadata": {},
   "source": [
    "like if we fit our model with high precision means our recall will be less and vice versa for that we use f1 score as summary that how well our model will perform?? "
   ]
  },
  {
   "cell_type": "markdown",
   "id": "40af994e",
   "metadata": {},
   "source": [
    "f1 is a harmonic mean of precision and recall"
   ]
  },
  {
   "cell_type": "markdown",
   "id": "208f58fe",
   "metadata": {},
   "source": [
    "summary: As mentioned before, precision is a metric to minimize false positive rate . On the other hand, recall is a metric to minimize false negative rate"
   ]
  },
  {
   "cell_type": "markdown",
   "id": "975a2235",
   "metadata": {},
   "source": [
    "F1 Score = 2 * (Recall*Precision) / (Recall + Precision)"
   ]
  },
  {
   "cell_type": "code",
   "execution_count": 26,
   "id": "5f595402",
   "metadata": {},
   "outputs": [
    {
     "data": {
      "text/plain": [
       "0.6823529411764706"
      ]
     },
     "execution_count": 26,
     "metadata": {},
     "output_type": "execute_result"
    }
   ],
   "source": [
    "metrics.f1_score(y_test, y_test_pred)"
   ]
  },
  {
   "cell_type": "markdown",
   "id": "dd379462",
   "metadata": {},
   "source": [
    "adv: accuracy will include only true positive and true negative in its calc. but f1 all are taken into account thats why f1score is what we know than accuracy in classification"
   ]
  },
  {
   "cell_type": "code",
   "execution_count": null,
   "id": "0e441b6e",
   "metadata": {},
   "outputs": [],
   "source": []
  },
  {
   "cell_type": "markdown",
   "id": "c30d4073",
   "metadata": {},
   "source": [
    "## sensitivity and specificity"
   ]
  },
  {
   "cell_type": "markdown",
   "id": "5e8f00b7",
   "metadata": {},
   "source": [
    "sensitivity tells that at what percentage does our model correctly ideantify true positive i.e the diabetics in the patient\n",
    "\n",
    "\n",
    "sens= tp/tp+fn"
   ]
  },
  {
   "cell_type": "markdown",
   "id": "af3ed51b",
   "metadata": {},
   "source": [
    "specificity on the other hand at what percentage that our model correctly identify the patient without diabetics i.e true negative\n",
    "\n",
    "\n",
    "spec=tn/fp+tn\n"
   ]
  },
  {
   "cell_type": "markdown",
   "id": "07722367",
   "metadata": {},
   "source": [
    "sensitivity=0.844 which is 84% and this tells that 84% of people with diabetics is correctly identified"
   ]
  },
  {
   "cell_type": "markdown",
   "id": "37878807",
   "metadata": {},
   "source": [
    "specificity=0.76 which is 76% and this tells that 76% of people without diabetics is correctly identified"
   ]
  },
  {
   "cell_type": "code",
   "execution_count": null,
   "id": "e09e0644",
   "metadata": {},
   "outputs": [],
   "source": []
  },
  {
   "cell_type": "markdown",
   "id": "db521b40",
   "metadata": {},
   "source": [
    "## misclassification rate"
   ]
  },
  {
   "cell_type": "markdown",
   "id": "94a3524a",
   "metadata": {},
   "source": [
    " misclassification rate is a metric that tells us the percentage of observations that were incorrectly predicted by some classification model.\n",
    " \n",
    "Misclassification Rate =  incorrect predictions /  total predictions or Accuracy = 1 – Misclassification rate"
   ]
  },
  {
   "cell_type": "code",
   "execution_count": null,
   "id": "5677e8ad",
   "metadata": {},
   "outputs": [],
   "source": []
  },
  {
   "cell_type": "markdown",
   "id": "789589d8",
   "metadata": {},
   "source": [
    "summary:\n",
    "Sensitivity: The “true positive rate” – the percentage of positive outcomes the model is able to detect.\n",
    "\n",
    "Specificity: The “true negative rate” – the percentage of negative outcomes the model is able to detect.\n",
    "\n",
    "F1 Score: A metric that tells us the accuracy of a model, relative to how the data is distributed."
   ]
  },
  {
   "cell_type": "code",
   "execution_count": 27,
   "id": "622efdd7",
   "metadata": {},
   "outputs": [
    {
     "data": {
      "text/plain": [
       "0.17532467532467533"
      ]
     },
     "execution_count": 27,
     "metadata": {},
     "output_type": "execute_result"
    }
   ],
   "source": [
    "1- metrics.accuracy_score(y_test, y_test_pred)"
   ]
  },
  {
   "cell_type": "code",
   "execution_count": null,
   "id": "81d3d484",
   "metadata": {},
   "outputs": [],
   "source": []
  },
  {
   "cell_type": "markdown",
   "id": "a4406962",
   "metadata": {},
   "source": [
    "## roc and auroc"
   ]
  },
  {
   "cell_type": "markdown",
   "id": "f30e41b2",
   "metadata": {},
   "source": [
    "there is something called threshold i.e prob=0.5 if the values greater than .5 means it is belog to one category and vice versa like by changing the threshold we can lower/higher the value of fp and fn so for sumarising that roc and auroc is used"
   ]
  },
  {
   "cell_type": "code",
   "execution_count": null,
   "id": "c049c18a",
   "metadata": {},
   "outputs": [],
   "source": []
  },
  {
   "cell_type": "code",
   "execution_count": 28,
   "id": "2f0c4b9f",
   "metadata": {},
   "outputs": [
    {
     "data": {
      "image/png": "[encoded data removed]",
      "text/plain": [
       "<Figure size 864x576 with 1 Axes>"
      ]
     },
     "metadata": {
      "needs_background": "light"
     },
     "output_type": "display_data"
    }
   ],
   "source": [
    "y_pred_proba = model.predict_proba(X_test)[::,1]\n",
    "fpr, tpr, _ = metrics.roc_curve(y_test, y_pred_proba)\n",
    "auc = metrics.roc_auc_score(y_test, y_pred_proba)\n",
    "\n",
    "plt.figure(figsize=(12,8))\n",
    "plt.plot(fpr,tpr,label=\"Logistic Regression (Sensitivity = %0.3f)\" % auc)\n",
    "plt.legend(loc=4)\n",
    "plt.xlabel('False Positive Rate', size = 20)\n",
    "plt.ylabel('True Positive Rate', size = 20)\n",
    "plt.title(\"Receiver Operatinng Characteristics\", size = 25)\n",
    "plt.plot([0, 1], [0, 1],'r--')\n",
    "plt.legend(loc=4, fontsize='xx-large')\n",
    "plt.show()"
   ]
  },
  {
   "cell_type": "markdown",
   "id": "36224155",
   "metadata": {},
   "source": [
    "roc--> b/w false +ve and true +ve rate\n",
    "\n",
    "the line from 0,0 to 1,1 represent true positive rate=false positive rate and any point on the line represent the proportion of correctly classified diabetics is  same as the proporion of incorrectly classifies and some other point represent for different thresholds and the points represent the change of threshold and the 0,0 represent 0% of false positive and 0% true positive\n",
    "\n",
    "and roc sumarises all of confusion matrix and with that we can find the optimal threshold for our data\n",
    "\n",
    "auc(https://www.analyticsvidhya.com/blog/2020/06/auc-roc-curve-machine-learning/) is area under the curve we can compare one ruc with other using auc(The Area Under the Curve (AUC) is the measure of the ability of a classifier to distinguish between classes and is used as a summary of the ROC curve).when AUC = 1, then the classifier is able to perfectly distinguish between all the Positive and the Negative class points correctly. If, however, the AUC had been 0, then the classifier would be predicting all Negatives as Positives, and all Positives as Negatives.\n",
    "\n",
    "sometimes instead of false +ve rate we use precision if the no. of not positive is greater than positive"
   ]
  },
  {
   "cell_type": "code",
   "execution_count": null,
   "id": "27d6eb87",
   "metadata": {},
   "outputs": [],
   "source": []
  },
  {
   "cell_type": "markdown",
   "id": "3021b25e",
   "metadata": {},
   "source": [
    "## Naive bayes"
   ]
  },
  {
   "cell_type": "code",
   "execution_count": 29,
   "id": "0e07776e",
   "metadata": {},
   "outputs": [],
   "source": [
    "from sklearn.naive_bayes import GaussianNB\n"
   ]
  },
  {
   "cell_type": "markdown",
   "id": "9e752226",
   "metadata": {},
   "source": [
    "importing GaussianNB module from sklearn.naive_bayes because our data is  continous so we use gaussiannb"
   ]
  },
  {
   "cell_type": "code",
   "execution_count": 30,
   "id": "40dfdf69",
   "metadata": {},
   "outputs": [],
   "source": [
    "gnb = GaussianNB() "
   ]
  },
  {
   "cell_type": "markdown",
   "id": "92ba84ac",
   "metadata": {},
   "source": [
    "initilising our model"
   ]
  },
  {
   "cell_type": "code",
   "execution_count": 31,
   "id": "2bbdc367",
   "metadata": {},
   "outputs": [],
   "source": [
    "X_train, X_test, y_train, y_test = train_test_split(X, y, test_size=0.2, random_state=0)"
   ]
  },
  {
   "cell_type": "markdown",
   "id": "1e7c08ae",
   "metadata": {},
   "source": [
    "splitting our data into training and testing so that we can know how good our model is for random datas "
   ]
  },
  {
   "cell_type": "code",
   "execution_count": 33,
   "id": "fb53f193",
   "metadata": {},
   "outputs": [
    {
     "data": {
      "text/plain": [
       "GaussianNB()"
      ]
     },
     "execution_count": 33,
     "metadata": {},
     "output_type": "execute_result"
    }
   ],
   "source": [
    "gnb.fit(X_train, y_train)"
   ]
  },
  {
   "cell_type": "markdown",
   "id": "5cd2ba3f",
   "metadata": {},
   "source": [
    "here we fit our data into our model note we are passing our output too into our model"
   ]
  },
  {
   "cell_type": "code",
   "execution_count": 34,
   "id": "b93f60b1",
   "metadata": {},
   "outputs": [
    {
     "data": {
      "text/plain": [
       "array([1, 0, 0, 1, 0, 0, 1, 1, 1, 0, 1, 1, 0, 1, 0, 0, 1, 0, 0, 0, 1, 0,\n",
       "       0, 0, 0, 0, 0, 1, 0, 0, 0, 0, 0, 0, 0, 1, 1, 0, 0, 1, 0, 0, 0, 1,\n",
       "       1, 0, 0, 0, 0, 0, 0, 0, 1, 1, 0, 0, 0, 0, 0, 0, 1, 1, 0, 1, 1, 1,\n",
       "       1, 0, 0, 0, 0, 0, 0, 1, 1, 0, 0, 1, 0, 0, 0, 0, 0, 0, 0, 0, 0, 0,\n",
       "       1, 0, 0, 0, 0, 0, 1, 0, 0, 1, 1, 0, 0, 0, 0, 0, 1, 0, 0, 0, 0, 1,\n",
       "       0, 0, 1, 1, 1, 1, 0, 1, 0, 1, 0, 1, 0, 1, 0, 0, 0, 0, 0, 0, 0, 0,\n",
       "       0, 1, 0, 0, 0, 0, 1, 0, 0, 0, 0, 0, 0, 0, 0, 0, 0, 0, 0, 0, 0, 0],\n",
       "      dtype=int64)"
      ]
     },
     "execution_count": 34,
     "metadata": {},
     "output_type": "execute_result"
    }
   ],
   "source": [
    "gnb.predict(X_test)"
   ]
  },
  {
   "cell_type": "markdown",
   "id": "21983c39",
   "metadata": {},
   "source": [
    "it gives the prediction for the remaing 20% of our data i.e for the model point of view it is random data"
   ]
  },
  {
   "cell_type": "code",
   "execution_count": 35,
   "id": "2aed71b3",
   "metadata": {},
   "outputs": [
    {
     "data": {
      "text/plain": [
       "0.7922077922077922"
      ]
     },
     "execution_count": 35,
     "metadata": {},
     "output_type": "execute_result"
    }
   ],
   "source": [
    "gnb.score(X_test, y_test)"
   ]
  },
  {
   "cell_type": "markdown",
   "id": "b4188e3b",
   "metadata": {},
   "source": [
    "this is the accuracy of our model and here it is 79.22% that tells that our model classified 79% correctly"
   ]
  },
  {
   "cell_type": "code",
   "execution_count": null,
   "id": "b9eb1323",
   "metadata": {},
   "outputs": [],
   "source": []
  },
  {
   "cell_type": "markdown",
   "id": "ec04800b",
   "metadata": {},
   "source": [
    "## Define which text preprocessing and text transformation steps did you usefor the above. "
   ]
  },
  {
   "cell_type": "markdown",
   "id": "edf7103b",
   "metadata": {},
   "source": [
    "Gaussian naive bayes should be used for our data set because of our data is of continous one so that it will take mean and var for its caculation"
   ]
  },
  {
   "cell_type": "code",
   "execution_count": null,
   "id": "8eb2e859",
   "metadata": {},
   "outputs": [],
   "source": []
  }
 ],
 "metadata": {
  "kernelspec": {
   "display_name": "Python 3",
   "language": "python",
   "name": "python3"
  },
  "language_info": {
   "codemirror_mode": {
    "name": "ipython",
    "version": 3
   },
   "file_extension": ".py",
   "mimetype": "text/x-python",
   "name": "python",
   "nbconvert_exporter": "python",
   "pygments_lexer": "ipython3",
   "version": "3.8.8"
  }
 },
 "nbformat": 4,
 "nbformat_minor": 5
}
