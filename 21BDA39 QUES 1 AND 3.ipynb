{
 "cells": [
  {
   "cell_type": "markdown",
   "id": "46f153da",
   "metadata": {},
   "source": [
    "SREELAKSHMI CV - 21BDA39"
   ]
  },
  {
   "cell_type": "markdown",
   "id": "e46438ca",
   "metadata": {},
   "source": [
    "QUESTION 1"
   ]
  },
  {
   "cell_type": "markdown",
   "id": "d9c4804e",
   "metadata": {},
   "source": [
    "Have you come across Grid Search Cross Validation? Fit any two models covered in previous \n",
    "classes and optimize them using Grid search CV."
   ]
  },
  {
   "cell_type": "code",
   "execution_count": 1,
   "id": "71343898",
   "metadata": {},
   "outputs": [],
   "source": [
    "from sklearn.ensemble import RandomForestClassifier\n",
    "from sklearn import datasets\n",
    "import pandas as pd\n",
    "import matplotlib.pyplot as plt\n",
    "from sklearn.model_selection import train_test_split\n",
    "from sklearn.metrics import confusion_matrix,accuracy_score,f1_score\n",
    "from sklearn.model_selection import GridSearchCV\n",
    "from sklearn.tree import DecisionTreeClassifier"
   ]
  },
  {
   "cell_type": "code",
   "execution_count": 2,
   "id": "685b6be6",
   "metadata": {},
   "outputs": [],
   "source": [
    "iris = datasets.load_iris()"
   ]
  },
  {
   "cell_type": "code",
   "execution_count": 3,
   "id": "e6960abc",
   "metadata": {},
   "outputs": [],
   "source": [
    "X, y = iris.data, iris.target"
   ]
  },
  {
   "cell_type": "code",
   "execution_count": 4,
   "id": "01df5707",
   "metadata": {},
   "outputs": [],
   "source": [
    "X_train, X_test, y_train, y_test = train_test_split(X, y, test_size=0.33, random_state=42)"
   ]
  },
  {
   "cell_type": "code",
   "execution_count": 5,
   "id": "bcac8dd3",
   "metadata": {},
   "outputs": [],
   "source": [
    "clf = RandomForestClassifier(n_estimators = 100, random_state = 18).fit(X_train, y_train)"
   ]
  },
  {
   "cell_type": "code",
   "execution_count": 6,
   "id": "74356316",
   "metadata": {},
   "outputs": [],
   "source": [
    "prediction = clf.predict(X_test)"
   ]
  },
  {
   "cell_type": "code",
   "execution_count": 7,
   "id": "54c213db",
   "metadata": {},
   "outputs": [
    {
     "data": {
      "text/plain": [
       "array([[19,  0,  0],\n",
       "       [ 0, 15,  0],\n",
       "       [ 0,  1, 15]], dtype=int64)"
      ]
     },
     "execution_count": 7,
     "metadata": {},
     "output_type": "execute_result"
    }
   ],
   "source": [
    "confusion_matrix(y_test, prediction)"
   ]
  },
  {
   "cell_type": "code",
   "execution_count": 8,
   "id": "9adf25a9",
   "metadata": {},
   "outputs": [
    {
     "data": {
      "text/plain": [
       "0.98"
      ]
     },
     "execution_count": 8,
     "metadata": {},
     "output_type": "execute_result"
    }
   ],
   "source": [
    "accuracy_score(y_test, prediction)"
   ]
  },
  {
   "cell_type": "code",
   "execution_count": 9,
   "id": "49d9f5a5",
   "metadata": {},
   "outputs": [
    {
     "data": {
      "text/plain": [
       "0.98"
      ]
     },
     "execution_count": 9,
     "metadata": {},
     "output_type": "execute_result"
    }
   ],
   "source": [
    "f1_score(y_test,prediction, average=\"micro\")"
   ]
  },
  {
   "cell_type": "code",
   "execution_count": 10,
   "id": "08465a1d",
   "metadata": {},
   "outputs": [],
   "source": [
    "grid = { \n",
    "    'n_estimators': [200,300,400,500],\n",
    "    'max_features': ['sqrt', 'log2'],\n",
    "    'max_depth' : [4,5,6,7,8],\n",
    "    'criterion' :['gini', 'entropy'],\n",
    "    'random_state' : [18]\n",
    "}"
   ]
  },
  {
   "cell_type": "code",
   "execution_count": 11,
   "id": "b64f885b",
   "metadata": {},
   "outputs": [
    {
     "data": {
      "text/plain": [
       "GridSearchCV(cv=5, estimator=RandomForestClassifier(),\n",
       "             param_grid={'criterion': ['gini', 'entropy'],\n",
       "                         'max_depth': [4, 5, 6, 7, 8],\n",
       "                         'max_features': ['sqrt', 'log2'],\n",
       "                         'n_estimators': [200, 300, 400, 500],\n",
       "                         'random_state': [18]})"
      ]
     },
     "execution_count": 11,
     "metadata": {},
     "output_type": "execute_result"
    }
   ],
   "source": [
    "rf_cv = GridSearchCV(estimator=RandomForestClassifier(), param_grid=grid, cv= 5)\n",
    "rf_cv.fit(X_train, y_train)"
   ]
  },
  {
   "cell_type": "code",
   "execution_count": 12,
   "id": "ac6d60c2",
   "metadata": {},
   "outputs": [
    {
     "data": {
      "text/plain": [
       "{'criterion': 'gini',\n",
       " 'max_depth': 4,\n",
       " 'max_features': 'sqrt',\n",
       " 'n_estimators': 200,\n",
       " 'random_state': 18}"
      ]
     },
     "execution_count": 12,
     "metadata": {},
     "output_type": "execute_result"
    }
   ],
   "source": [
    "rf_cv.best_params_"
   ]
  },
  {
   "cell_type": "code",
   "execution_count": 14,
   "id": "7e3d7c01",
   "metadata": {},
   "outputs": [],
   "source": [
    "clf = RandomForestClassifier(n_estimators = 200, max_depth=4, max_features='sqrt' , random_state = 18).fit(X_train, y_train)"
   ]
  },
  {
   "cell_type": "code",
   "execution_count": 15,
   "id": "b662f49c",
   "metadata": {},
   "outputs": [],
   "source": [
    "prediction = clf.predict(X_test)"
   ]
  },
  {
   "cell_type": "code",
   "execution_count": 16,
   "id": "4c622ca5",
   "metadata": {},
   "outputs": [
    {
     "data": {
      "text/plain": [
       "array([[19,  0,  0],\n",
       "       [ 0, 15,  0],\n",
       "       [ 0,  1, 15]], dtype=int64)"
      ]
     },
     "execution_count": 16,
     "metadata": {},
     "output_type": "execute_result"
    }
   ],
   "source": [
    "confusion_matrix(y_test, prediction)"
   ]
  },
  {
   "cell_type": "code",
   "execution_count": 17,
   "id": "be007a10",
   "metadata": {},
   "outputs": [
    {
     "data": {
      "text/plain": [
       "0.98"
      ]
     },
     "execution_count": 17,
     "metadata": {},
     "output_type": "execute_result"
    }
   ],
   "source": [
    "accuracy_score(y_test, prediction)"
   ]
  },
  {
   "cell_type": "code",
   "execution_count": 18,
   "id": "a8528e4a",
   "metadata": {},
   "outputs": [
    {
     "data": {
      "text/plain": [
       "0.98"
      ]
     },
     "execution_count": 18,
     "metadata": {},
     "output_type": "execute_result"
    }
   ],
   "source": [
    "f1_score(y_test,prediction, average=\"micro\")"
   ]
  },
  {
   "cell_type": "code",
   "execution_count": 19,
   "id": "947641a8",
   "metadata": {},
   "outputs": [],
   "source": [
    "clf = DecisionTreeClassifier(random_state=0)"
   ]
  },
  {
   "cell_type": "code",
   "execution_count": 20,
   "id": "7c7b9703",
   "metadata": {},
   "outputs": [
    {
     "data": {
      "text/plain": [
       "DecisionTreeClassifier(random_state=0)"
      ]
     },
     "execution_count": 20,
     "metadata": {},
     "output_type": "execute_result"
    }
   ],
   "source": [
    "clf.fit(X_train,y_train)"
   ]
  },
  {
   "cell_type": "code",
   "execution_count": 21,
   "id": "af1e47cb",
   "metadata": {},
   "outputs": [],
   "source": [
    "prediction = clf.predict(X_test)"
   ]
  },
  {
   "cell_type": "code",
   "execution_count": 22,
   "id": "4a5dfbe8",
   "metadata": {},
   "outputs": [
    {
     "data": {
      "text/plain": [
       "array([[19,  0,  0],\n",
       "       [ 0, 14,  1],\n",
       "       [ 0,  1, 15]], dtype=int64)"
      ]
     },
     "execution_count": 22,
     "metadata": {},
     "output_type": "execute_result"
    }
   ],
   "source": [
    "confusion_matrix(y_test, prediction)"
   ]
  },
  {
   "cell_type": "code",
   "execution_count": 23,
   "id": "4cfa408e",
   "metadata": {},
   "outputs": [
    {
     "data": {
      "text/plain": [
       "0.96"
      ]
     },
     "execution_count": 23,
     "metadata": {},
     "output_type": "execute_result"
    }
   ],
   "source": [
    "accuracy_score(y_test, prediction)"
   ]
  },
  {
   "cell_type": "code",
   "execution_count": 24,
   "id": "b34dfc85",
   "metadata": {},
   "outputs": [
    {
     "data": {
      "text/plain": [
       "0.96"
      ]
     },
     "execution_count": 24,
     "metadata": {},
     "output_type": "execute_result"
    }
   ],
   "source": [
    "f1_score(y_test,prediction, average=\"micro\")"
   ]
  },
  {
   "cell_type": "markdown",
   "id": "4c04729e",
   "metadata": {},
   "source": [
    "QUESTION 3"
   ]
  },
  {
   "cell_type": "markdown",
   "id": "b35264e5",
   "metadata": {},
   "source": [
    "Fit a CNN model on the dataset which has been assigned to you. Print a classification report to \n",
    "see the model metrics on train and test datasets"
   ]
  },
  {
   "cell_type": "markdown",
   "id": "794a3474",
   "metadata": {},
   "source": [
    "https://www.kaggle.com/datasets/ronanpickell/b200c-lego-classification-dataset"
   ]
  },
  {
   "cell_type": "code",
   "execution_count": 25,
   "id": "3e48455c",
   "metadata": {},
   "outputs": [
    {
     "name": "stdout",
     "output_type": "stream",
     "text": [
      "WARNING:tensorflow:Please fix your imports. Module tensorflow.python.training.saving.functional_saver has been moved to tensorflow.python.checkpoint.functional_saver. The old module will be deleted in version 2.11.\n",
      "WARNING:tensorflow:Please fix your imports. Module tensorflow.python.training.saving.checkpoint_options has been moved to tensorflow.python.checkpoint.checkpoint_options. The old module will be deleted in version 2.11.\n"
     ]
    }
   ],
   "source": [
    "import numpy as np\n",
    "import pandas as pd\n",
    "import os\n",
    "import matplotlib.pyplot as plt\n",
    "import tensorflow as tf\n",
    "import random\n",
    "from tensorflow.keras.utils import to_categorical\n",
    "from tensorflow.keras.preprocessing.image import load_img, img_to_array\n",
    "from tensorflow.keras.layers import Dense,Flatten,Dropout,Conv2D,MaxPooling2D,BatchNormalization\n",
    "from tensorflow.keras.optimizers import Adam\n",
    "import keras\n",
    "from keras.models import Sequential\n",
    "from sklearn.metrics import classification_report, log_loss, accuracy_score\n",
    "from sklearn.model_selection import train_test_split\n",
    "from tqdm import tqdm"
   ]
  },
  {
   "cell_type": "code",
   "execution_count": 29,
   "id": "b028282b",
   "metadata": {},
   "outputs": [],
   "source": [
    "data_dir = r'C:\\Users\\91807\\OneDrive\\Desktop\\64'"
   ]
  },
  {
   "cell_type": "code",
   "execution_count": 30,
   "id": "52259a85",
   "metadata": {},
   "outputs": [
    {
     "name": "stdout",
     "output_type": "stream",
     "text": [
      "['10247', '11090', '11211', '11212', '11214', '11458', '11476', '11477', '14704', '14719', '14769', '15068', '15070', '15100', '15379', '15392', '15535', '15573', '15712', '18651', '18654', '18674', '18677', '20482', '22388', '22885', '2357', '2412b', '2420', '24201', '24246', '2429', '2430', '2431', '2432', '2436', '2445', '2450', '2454', '2456', '24866', '25269', '2540', '26047', '2654', '26601', '26603', '26604', '2780', '27925', '28192', '2877', '3001', '3002', '3003', '3004', '3005', '3008', '3009', '3010', '30136', '3020', '3021', '3022', '3023', '3024', '3031', '3032', '3034', '3035', '3037', '30374', '3039', '3040', '30413', '30414', '3062b', '3065', '3068b', '3069b', '3070b', '32000', '32013', '32028', '32054', '32062', '32064', '32073', '32123', '32140', '32184', '32278', '32316', '3245c', '32523', '32524', '32525', '32526', '32607', '32952', '33291', '33909', '34103', '3460', '35480', '3622', '3623', '3660', '3665', '3666', '3673', '3700', '3701', '3705', '3710', '3713', '3749', '3795', '3832', '3937', '3941', '3958', '4032', '40490', '4070', '4073', '4081b', '4085', '4162', '41677', '41740', '41769', '41770', '42003', '4274', '4286', '43093', '43722', '43723', '44728', '4477', '4519', '4589', '4599b', '4740', '47457', '48336', '4865', '48729', '49668', '50950', '51739', '53451', '54200', '59443', '60470', '60474', '60478', '60479', '60481', '60483', '60592', '60601', '6091', '61252', '6134', '61409', '61678', '62462', '63864', '63868', '63965', '64644', '6536', '6541', '6558', '6632', '6636', '85080', '85861', '85984', '87079', '87083', '87087', '87552', '87580', '87620', '87994', '88072', '88323', '92280', '92946', '93273', '98138', '98283', '99206', '99207', '99563', '99780', '99781']\n",
      "200\n"
     ]
    }
   ],
   "source": [
    "Name=[]\n",
    "for file in os.listdir(data_dir):\n",
    "    Name+=[file]\n",
    "print(Name)\n",
    "print(len(Name))"
   ]
  },
  {
   "cell_type": "code",
   "execution_count": 31,
   "id": "de128671",
   "metadata": {},
   "outputs": [],
   "source": [
    "N=[]\n",
    "for i in range(len(Name)):\n",
    "    N+=[i]\n",
    "    \n",
    "normal_mapping=dict(zip(Name,N)) \n",
    "reverse_mapping=dict(zip(N,Name)) "
   ]
  },
  {
   "cell_type": "code",
   "execution_count": 32,
   "id": "dc76ac98",
   "metadata": {},
   "outputs": [
    {
     "name": "stderr",
     "output_type": "stream",
     "text": [
      "100%|████████████████████████████████████████████████████████████████████████████| 200/200 [13:38:21<00:00, 245.51s/it]\n"
     ]
    }
   ],
   "source": [
    "datax0=[]\n",
    "datay0=[]\n",
    "count=0\n",
    "for file in tqdm(Name):\n",
    "    path=os.path.join(data_dir,file)\n",
    "    for im in os.listdir(path):\n",
    "        image=load_img(os.path.join(path,im), grayscale=False, color_mode='rgb', target_size=(10,10))\n",
    "        image=img_to_array(image)\n",
    "        image=image/255.0\n",
    "        datax0.append(image)\n",
    "        datay0.append(count)\n",
    "    count=count+1"
   ]
  },
  {
   "cell_type": "code",
   "execution_count": 33,
   "id": "2f2a668d",
   "metadata": {},
   "outputs": [],
   "source": [
    "n=len(datax0)\n",
    "M=[]\n",
    "for i in range(n):\n",
    "    M+=[i]\n",
    "random.shuffle(M)"
   ]
  },
  {
   "cell_type": "code",
   "execution_count": 34,
   "id": "85da79ab",
   "metadata": {},
   "outputs": [],
   "source": [
    "datax1=np.array(datax0)\n",
    "datay1=np.array(datay0)"
   ]
  },
  {
   "cell_type": "code",
   "execution_count": 35,
   "id": "2b90cd68",
   "metadata": {},
   "outputs": [],
   "source": [
    "trainx0=datax1[M[0:(n//4)*3]]\n",
    "testx0=datax1[M[(n//4)*3:]]\n",
    "trainy0=datay1[M[0:(n//4)*3]]\n",
    "testy0=datay1[M[(n//4)*3:]]"
   ]
  },
  {
   "cell_type": "code",
   "execution_count": 36,
   "id": "e5b9265f",
   "metadata": {},
   "outputs": [],
   "source": [
    "trainy2=to_categorical(trainy0)\n",
    "X_train=np.array(trainx0).reshape(-1,10,10,3)\n",
    "y_train=np.array(trainy2)"
   ]
  },
  {
   "cell_type": "code",
   "execution_count": 37,
   "id": "44cd77a7",
   "metadata": {},
   "outputs": [],
   "source": [
    "X_test=np.array(testx0).reshape(-1,10,10,3)"
   ]
  },
  {
   "cell_type": "code",
   "execution_count": 38,
   "id": "d7e821cb",
   "metadata": {},
   "outputs": [],
   "source": [
    "trainx,testx,trainy,testy=train_test_split(X_train,y_train,test_size=0.2,random_state=44)"
   ]
  },
  {
   "cell_type": "code",
   "execution_count": 39,
   "id": "2736ab7f",
   "metadata": {},
   "outputs": [
    {
     "name": "stdout",
     "output_type": "stream",
     "text": [
      "(480000, 10, 10, 3)\n",
      "(120000, 10, 10, 3)\n",
      "(480000, 200)\n",
      "(120000, 200)\n"
     ]
    }
   ],
   "source": [
    "print(trainx.shape)\n",
    "print(testx.shape)\n",
    "print(trainy.shape)\n",
    "print(testy.shape)"
   ]
  },
  {
   "cell_type": "code",
   "execution_count": 40,
   "id": "134313a0",
   "metadata": {},
   "outputs": [],
   "source": [
    "model = Sequential()\n",
    "model.add(Conv2D(32,(4,4),input_shape = (10,10,3),activation = 'relu'))\n",
    "model.add(Conv2D(32,(2,2),activation = 'relu'))\n",
    "model.add(Dropout(0.2))\n",
    "model.add(Flatten())\n",
    "model.add(Dense(400, activation='relu'))\n",
    "model.add(Dense(200, activation='softmax'))"
   ]
  },
  {
   "cell_type": "code",
   "execution_count": 41,
   "id": "bbaa76c8",
   "metadata": {},
   "outputs": [],
   "source": [
    "model.compile(loss='categorical_crossentropy', optimizer='adam',metrics=['accuracy'])"
   ]
  },
  {
   "cell_type": "code",
   "execution_count": 42,
   "id": "f7fc6a9d",
   "metadata": {},
   "outputs": [
    {
     "name": "stdout",
     "output_type": "stream",
     "text": [
      "Model: \"sequential\"\n",
      "_________________________________________________________________\n",
      " Layer (type)                Output Shape              Param #   \n",
      "=================================================================\n",
      " conv2d (Conv2D)             (None, 7, 7, 32)          1568      \n",
      "                                                                 \n",
      " conv2d_1 (Conv2D)           (None, 6, 6, 32)          4128      \n",
      "                                                                 \n",
      " dropout (Dropout)           (None, 6, 6, 32)          0         \n",
      "                                                                 \n",
      " flatten (Flatten)           (None, 1152)              0         \n",
      "                                                                 \n",
      " dense (Dense)               (None, 400)               461200    \n",
      "                                                                 \n",
      " dense_1 (Dense)             (None, 200)               80200     \n",
      "                                                                 \n",
      "=================================================================\n",
      "Total params: 547,096\n",
      "Trainable params: 547,096\n",
      "Non-trainable params: 0\n",
      "_________________________________________________________________\n"
     ]
    }
   ],
   "source": [
    "model.summary()"
   ]
  },
  {
   "cell_type": "code",
   "execution_count": 43,
   "id": "6634e18c",
   "metadata": {},
   "outputs": [
    {
     "name": "stdout",
     "output_type": "stream",
     "text": [
      "Epoch 1/30\n",
      "7500/7500 - 190s - loss: 3.8280 - accuracy: 0.1545 - val_loss: 3.1391 - val_accuracy: 0.2511 - 190s/epoch - 25ms/step\n",
      "Epoch 2/30\n",
      "7500/7500 - 156s - loss: 3.0022 - accuracy: 0.2769 - val_loss: 2.7476 - val_accuracy: 0.3244 - 156s/epoch - 21ms/step\n",
      "Epoch 3/30\n",
      "7500/7500 - 155s - loss: 2.7246 - accuracy: 0.3268 - val_loss: 2.5573 - val_accuracy: 0.3616 - 155s/epoch - 21ms/step\n",
      "Epoch 4/30\n",
      "7500/7500 - 153s - loss: 2.5649 - accuracy: 0.3583 - val_loss: 2.4259 - val_accuracy: 0.3862 - 153s/epoch - 20ms/step\n",
      "Epoch 5/30\n",
      "7500/7500 - 157s - loss: 2.4578 - accuracy: 0.3780 - val_loss: 2.3954 - val_accuracy: 0.3941 - 157s/epoch - 21ms/step\n",
      "Epoch 6/30\n",
      "7500/7500 - 149s - loss: 2.3768 - accuracy: 0.3938 - val_loss: 2.3449 - val_accuracy: 0.4042 - 149s/epoch - 20ms/step\n",
      "Epoch 7/30\n",
      "7500/7500 - 153s - loss: 2.3145 - accuracy: 0.4063 - val_loss: 2.2681 - val_accuracy: 0.4180 - 153s/epoch - 20ms/step\n",
      "Epoch 8/30\n",
      "7500/7500 - 151s - loss: 2.2619 - accuracy: 0.4165 - val_loss: 2.2588 - val_accuracy: 0.4213 - 151s/epoch - 20ms/step\n",
      "Epoch 9/30\n",
      "7500/7500 - 146s - loss: 2.2211 - accuracy: 0.4244 - val_loss: 2.2762 - val_accuracy: 0.4183 - 146s/epoch - 19ms/step\n",
      "Epoch 10/30\n",
      "7500/7500 - 157s - loss: 2.1888 - accuracy: 0.4315 - val_loss: 2.1953 - val_accuracy: 0.4360 - 157s/epoch - 21ms/step\n",
      "Epoch 11/30\n",
      "7500/7500 - 157s - loss: 2.1602 - accuracy: 0.4373 - val_loss: 2.1719 - val_accuracy: 0.4423 - 157s/epoch - 21ms/step\n",
      "Epoch 12/30\n",
      "7500/7500 - 159s - loss: 2.1336 - accuracy: 0.4434 - val_loss: 2.1554 - val_accuracy: 0.4435 - 159s/epoch - 21ms/step\n",
      "Epoch 13/30\n",
      "7500/7500 - 161s - loss: 2.1126 - accuracy: 0.4472 - val_loss: 2.1725 - val_accuracy: 0.4413 - 161s/epoch - 21ms/step\n",
      "Epoch 14/30\n",
      "7500/7500 - 156s - loss: 2.0920 - accuracy: 0.4522 - val_loss: 2.1839 - val_accuracy: 0.4384 - 156s/epoch - 21ms/step\n",
      "Epoch 15/30\n",
      "7500/7500 - 159s - loss: 2.0747 - accuracy: 0.4552 - val_loss: 2.1605 - val_accuracy: 0.4422 - 159s/epoch - 21ms/step\n",
      "Epoch 16/30\n",
      "7500/7500 - 158s - loss: 2.0596 - accuracy: 0.4586 - val_loss: 2.1244 - val_accuracy: 0.4522 - 158s/epoch - 21ms/step\n",
      "Epoch 17/30\n",
      "7500/7500 - 158s - loss: 2.0444 - accuracy: 0.4616 - val_loss: 2.1368 - val_accuracy: 0.4495 - 158s/epoch - 21ms/step\n",
      "Epoch 18/30\n",
      "7500/7500 - 158s - loss: 2.0315 - accuracy: 0.4646 - val_loss: 2.0999 - val_accuracy: 0.4564 - 158s/epoch - 21ms/step\n",
      "Epoch 19/30\n",
      "7500/7500 - 157s - loss: 2.0163 - accuracy: 0.4670 - val_loss: 2.1065 - val_accuracy: 0.4567 - 157s/epoch - 21ms/step\n",
      "Epoch 20/30\n",
      "7500/7500 - 161s - loss: 2.0075 - accuracy: 0.4699 - val_loss: 2.1184 - val_accuracy: 0.4519 - 161s/epoch - 21ms/step\n",
      "Epoch 21/30\n",
      "7500/7500 - 161s - loss: 1.9995 - accuracy: 0.4710 - val_loss: 2.1347 - val_accuracy: 0.4523 - 161s/epoch - 21ms/step\n",
      "Epoch 22/30\n",
      "7500/7500 - 160s - loss: 1.9911 - accuracy: 0.4732 - val_loss: 2.1055 - val_accuracy: 0.4566 - 160s/epoch - 21ms/step\n",
      "Epoch 23/30\n",
      "7500/7500 - 158s - loss: 1.9799 - accuracy: 0.4747 - val_loss: 2.0912 - val_accuracy: 0.4623 - 158s/epoch - 21ms/step\n",
      "Epoch 24/30\n",
      "7500/7500 - 158s - loss: 1.9716 - accuracy: 0.4766 - val_loss: 2.1286 - val_accuracy: 0.4515 - 158s/epoch - 21ms/step\n",
      "Epoch 25/30\n",
      "7500/7500 - 157s - loss: 1.9662 - accuracy: 0.4783 - val_loss: 2.0946 - val_accuracy: 0.4579 - 157s/epoch - 21ms/step\n",
      "Epoch 26/30\n",
      "7500/7500 - 158s - loss: 1.9583 - accuracy: 0.4796 - val_loss: 2.0995 - val_accuracy: 0.4580 - 158s/epoch - 21ms/step\n",
      "Epoch 27/30\n",
      "7500/7500 - 160s - loss: 1.9523 - accuracy: 0.4806 - val_loss: 2.0660 - val_accuracy: 0.4644 - 160s/epoch - 21ms/step\n",
      "Epoch 28/30\n",
      "7500/7500 - 159s - loss: 1.9430 - accuracy: 0.4823 - val_loss: 2.0814 - val_accuracy: 0.4636 - 159s/epoch - 21ms/step\n",
      "Epoch 29/30\n",
      "7500/7500 - 158s - loss: 1.9368 - accuracy: 0.4843 - val_loss: 2.1439 - val_accuracy: 0.4453 - 158s/epoch - 21ms/step\n",
      "Epoch 30/30\n",
      "7500/7500 - 158s - loss: 1.9354 - accuracy: 0.4844 - val_loss: 2.0753 - val_accuracy: 0.4650 - 158s/epoch - 21ms/step\n"
     ]
    }
   ],
   "source": [
    "his = model.fit(X_train, y_train, validation_split=0.2, epochs=30, batch_size=64, verbose=2)"
   ]
  },
  {
   "cell_type": "code",
   "execution_count": 44,
   "id": "05016bca",
   "metadata": {},
   "outputs": [
    {
     "name": "stdout",
     "output_type": "stream",
     "text": [
      "3750/3750 [==============================] - 23s 6ms/step\n",
      "              precision    recall  f1-score   support\n",
      "\n",
      "           0       0.51      0.57      0.54       582\n",
      "           1       0.60      0.69      0.64       610\n",
      "           2       0.41      0.17      0.24       601\n",
      "           3       0.70      0.75      0.73       625\n",
      "           4       0.42      0.45      0.44       593\n",
      "           5       0.58      0.34      0.43       637\n",
      "           6       0.57      0.78      0.66       581\n",
      "           7       0.52      0.32      0.39       576\n",
      "           8       0.80      0.71      0.75       567\n",
      "           9       0.74      0.77      0.75       588\n",
      "          10       0.79      0.86      0.82       608\n",
      "          11       0.41      0.62      0.50       624\n",
      "          12       0.31      0.37      0.33       617\n",
      "          13       0.65      0.72      0.68       621\n",
      "          14       0.78      0.77      0.78       577\n",
      "          15       0.40      0.54      0.46       589\n",
      "          16       0.90      0.76      0.83       566\n",
      "          17       0.73      0.60      0.66       616\n",
      "          18       0.39      0.39      0.39       557\n",
      "          19       0.34      0.50      0.40       596\n",
      "          20       0.57      0.65      0.60       575\n",
      "          21       0.76      0.67      0.71       603\n",
      "          22       0.49      0.45      0.47       594\n",
      "          23       0.60      0.55      0.57       603\n",
      "          24       0.60      0.59      0.59       612\n",
      "          25       0.42      0.32      0.36       608\n",
      "          26       0.62      0.46      0.53       619\n",
      "          27       0.87      0.90      0.88       607\n",
      "          28       0.68      0.64      0.66       613\n",
      "          29       0.43      0.40      0.41       593\n",
      "          30       0.69      0.67      0.68       583\n",
      "          31       0.52      0.50      0.51       582\n",
      "          32       0.47      0.65      0.55       595\n",
      "          33       0.33      0.30      0.31       568\n",
      "          34       0.81      0.69      0.75       601\n",
      "          35       0.53      0.60      0.57       596\n",
      "          36       0.39      0.46      0.42       606\n",
      "          37       0.73      0.88      0.80       591\n",
      "          38       0.40      0.51      0.45       628\n",
      "          39       0.53      0.41      0.46       606\n",
      "          40       0.47      0.49      0.48       597\n",
      "          41       0.63      0.67      0.65       600\n",
      "          42       0.82      0.87      0.84       587\n",
      "          43       0.79      0.66      0.72       593\n",
      "          44       0.72      0.81      0.77       615\n",
      "          45       0.74      0.79      0.76       570\n",
      "          46       0.49      0.48      0.49       557\n",
      "          47       0.39      0.26      0.31       563\n",
      "          48       0.63      0.43      0.51       582\n",
      "          49       0.75      0.80      0.77       591\n",
      "          50       0.61      0.48      0.54       622\n",
      "          51       0.57      0.50      0.53       612\n",
      "          52       0.55      0.47      0.51       621\n",
      "          53       0.70      0.44      0.54       567\n",
      "          54       0.65      0.57      0.61       576\n",
      "          55       0.37      0.32      0.34       660\n",
      "          56       0.33      0.42      0.37       552\n",
      "          57       0.24      0.45      0.31       578\n",
      "          58       0.35      0.34      0.34       613\n",
      "          59       0.32      0.37      0.34       579\n",
      "          60       0.57      0.72      0.64       587\n",
      "          61       0.47      0.56      0.51       592\n",
      "          62       0.47      0.59      0.52       605\n",
      "          63       0.53      0.48      0.50       598\n",
      "          64       0.52      0.43      0.47       605\n",
      "          65       0.57      0.45      0.50       614\n",
      "          66       0.49      0.79      0.61       597\n",
      "          67       0.50      0.77      0.60       589\n",
      "          68       0.45      0.62      0.52       585\n",
      "          69       0.46      0.72      0.57       596\n",
      "          70       0.49      0.74      0.59       591\n",
      "          71       0.32      0.30      0.31       602\n",
      "          72       0.44      0.74      0.55       559\n",
      "          73       0.43      0.73      0.54       615\n",
      "          74       0.30      0.38      0.33       656\n",
      "          75       0.36      0.30      0.33       609\n",
      "          76       0.66      0.76      0.70       594\n",
      "          77       0.45      0.24      0.32       639\n",
      "          78       0.30      0.46      0.36       587\n",
      "          79       0.37      0.36      0.36       620\n",
      "          80       0.43      0.54      0.48       582\n",
      "          81       0.88      0.79      0.83       616\n",
      "          82       0.58      0.60      0.59       609\n",
      "          83       0.52      0.59      0.55       565\n",
      "          84       0.50      0.53      0.52       608\n",
      "          85       0.54      0.67      0.60       541\n",
      "          86       0.86      0.80      0.83       606\n",
      "          87       0.22      0.11      0.15       637\n",
      "          88       0.60      0.60      0.60       614\n",
      "          89       0.71      0.69      0.70       551\n",
      "          90       0.70      0.75      0.72       577\n",
      "          91       0.40      0.35      0.37       587\n",
      "          92       0.50      0.26      0.34       623\n",
      "          93       0.44      0.29      0.35       638\n",
      "          94       0.49      0.48      0.49       616\n",
      "          95       0.53      0.33      0.41       605\n",
      "          96       0.27      0.16      0.20       632\n",
      "          97       0.66      0.81      0.73       634\n",
      "          98       0.59      0.74      0.65       635\n",
      "          99       0.44      0.40      0.42       584\n",
      "         100       0.65      0.46      0.54       604\n",
      "         101       0.60      0.41      0.49       600\n",
      "         102       0.61      0.42      0.49       606\n",
      "         103       0.31      0.30      0.30       574\n",
      "         104       0.78      0.69      0.73       577\n",
      "         105       0.48      0.36      0.41       636\n",
      "         106       0.47      0.51      0.49       579\n",
      "         107       0.65      0.64      0.65       605\n",
      "         108       0.55      0.53      0.54       603\n",
      "         109       0.34      0.28      0.30       606\n",
      "         110       0.52      0.63      0.57       600\n",
      "         111       0.82      0.73      0.77       628\n",
      "         112       0.89      0.78      0.83       581\n",
      "         113       0.22      0.24      0.23       579\n",
      "         114       0.40      0.56      0.47       602\n",
      "         115       0.67      0.68      0.67       575\n",
      "         116       0.39      0.29      0.33       624\n",
      "         117       0.54      0.64      0.58       629\n",
      "         118       0.40      0.58      0.47       577\n",
      "         119       0.47      0.14      0.22       626\n",
      "         120       0.69      0.68      0.68       638\n",
      "         121       0.55      0.71      0.62       589\n",
      "         122       0.63      0.72      0.67       578\n",
      "         123       0.43      0.18      0.25       615\n",
      "         124       0.49      0.29      0.37       587\n",
      "         125       0.54      0.55      0.54       593\n",
      "         126       0.56      0.50      0.53       587\n",
      "         127       0.57      0.62      0.59       592\n",
      "         128       0.36      0.21      0.26       628\n",
      "         129       0.82      0.72      0.77       613\n",
      "         130       0.52      0.49      0.50       576\n",
      "         131       0.59      0.56      0.57       648\n",
      "         132       0.49      0.70      0.58       604\n",
      "         133       0.66      0.57      0.61       641\n",
      "         134       0.68      0.61      0.64       611\n",
      "         135       0.52      0.57      0.55       587\n",
      "         136       0.33      0.41      0.37       593\n",
      "         137       0.70      0.56      0.62       586\n",
      "         138       0.61      0.56      0.58       618\n",
      "         139       0.41      0.41      0.41       602\n",
      "         140       0.22      0.25      0.24       602\n",
      "         141       0.35      0.35      0.35       611\n",
      "         142       0.69      0.71      0.70       647\n",
      "         143       0.74      0.84      0.78       591\n",
      "         144       0.67      0.69      0.68       624\n",
      "         145       0.61      0.64      0.62       590\n",
      "         146       0.80      0.90      0.85       546\n",
      "         147       0.36      0.41      0.38       540\n",
      "         148       0.89      0.87      0.88       594\n",
      "         149       0.47      0.46      0.46       628\n",
      "         150       0.51      0.37      0.43       606\n",
      "         151       0.76      0.82      0.79       614\n",
      "         152       0.46      0.52      0.49       591\n",
      "         153       0.32      0.19      0.24       600\n",
      "         154       0.45      0.64      0.53       629\n",
      "         155       0.81      0.76      0.78       614\n",
      "         156       0.85      0.94      0.89       595\n",
      "         157       0.70      0.76      0.73       572\n",
      "         158       0.35      0.36      0.35       595\n",
      "         159       0.63      0.51      0.56       592\n",
      "         160       0.46      0.65      0.54       594\n",
      "         161       0.88      0.87      0.88       572\n",
      "         162       0.45      0.67      0.54       588\n",
      "         163       0.54      0.54      0.54       590\n",
      "         164       0.58      0.43      0.49       627\n",
      "         165       0.44      0.53      0.48       593\n",
      "         166       0.77      0.78      0.77       592\n",
      "         167       0.43      0.31      0.36       586\n",
      "         168       0.72      0.66      0.69       599\n",
      "         169       0.37      0.21      0.27       581\n",
      "         170       0.60      0.50      0.55       620\n",
      "         171       0.46      0.54      0.50       596\n",
      "         172       0.66      0.83      0.73       612\n",
      "         173       0.66      0.53      0.59       629\n",
      "         174       0.67      0.41      0.51       577\n",
      "         175       0.44      0.32      0.37       575\n",
      "         176       0.85      0.82      0.84       591\n",
      "         177       0.32      0.26      0.29       609\n",
      "         178       0.45      0.43      0.44       600\n",
      "         179       0.52      0.44      0.48       616\n",
      "         180       0.32      0.13      0.18       603\n",
      "         181       0.54      0.40      0.46       591\n",
      "         182       0.26      0.39      0.32       596\n",
      "         183       0.31      0.18      0.23       574\n",
      "         184       0.52      0.53      0.53       637\n",
      "         185       0.78      0.58      0.67       623\n",
      "         186       0.59      0.59      0.59       608\n",
      "         187       0.34      0.46      0.39       624\n",
      "         188       0.57      0.47      0.52       602\n",
      "         189       0.80      0.88      0.84       615\n",
      "         190       0.35      0.33      0.34       567\n",
      "         191       0.49      0.62      0.55       619\n",
      "         192       0.54      0.56      0.55       571\n",
      "         193       0.64      0.59      0.62       621\n",
      "         194       0.63      0.60      0.62       599\n",
      "         195       0.56      0.53      0.55       637\n",
      "         196       0.42      0.41      0.42       598\n",
      "         197       0.54      0.65      0.59       613\n",
      "         198       0.44      0.39      0.41       599\n",
      "         199       0.38      0.43      0.40       629\n",
      "\n",
      "    accuracy                           0.54    120000\n",
      "   macro avg       0.54      0.54      0.53    120000\n",
      "weighted avg       0.54      0.54      0.53    120000\n",
      "\n"
     ]
    }
   ],
   "source": [
    "y_pred=model.predict(testx)\n",
    "pred=np.argmax(y_pred,axis=1)\n",
    "ground = np.argmax(testy,axis=1)\n",
    "print(classification_report(ground,pred))"
   ]
  },
  {
   "cell_type": "code",
   "execution_count": 45,
   "id": "3aabaea9",
   "metadata": {},
   "outputs": [
    {
     "data": {
      "image/png": "[encoded data removed]",
      "text/plain": [
       "<Figure size 432x288 with 1 Axes>"
      ]
     },
     "metadata": {
      "needs_background": "light"
     },
     "output_type": "display_data"
    },
    {
     "data": {
      "text/plain": [
       "<Figure size 432x288 with 0 Axes>"
      ]
     },
     "metadata": {},
     "output_type": "display_data"
    }
   ],
   "source": [
    "get_acc = his.history['accuracy']\n",
    "value_acc = his.history['val_accuracy']\n",
    "get_loss = his.history['loss']\n",
    "validation_loss = his.history['val_loss']\n",
    "\n",
    "epochs = range(len(get_acc))\n",
    "plt.plot(epochs, get_acc, 'r', label='Accuracy of Training data')\n",
    "plt.plot(epochs, value_acc, 'b', label='Accuracy of Validation data')\n",
    "plt.title('Training vs validation accuracy')\n",
    "plt.legend(loc=0)\n",
    "plt.figure()\n",
    "plt.show()"
   ]
  },
  {
   "cell_type": "code",
   "execution_count": null,
   "id": "37adc692",
   "metadata": {},
   "outputs": [],
   "source": [
    "epochs = range(len(get_loss))\n",
    "plt.plot(epochs, get_loss, 'r', label='Loss of Training data')\n",
    "plt.plot(epochs, validation_loss, 'b', label='Loss of Validation data')\n",
    "plt.title('Training vs validation loss')\n",
    "plt.legend(loc=0)\n",
    "plt.figure()\n",
    "plt.show()"
   ]
  },
  {
   "cell_type": "code",
   "execution_count": null,
   "id": "41812f49",
   "metadata": {},
   "outputs": [],
   "source": [
    "pred2=model.predict(X_test)\n",
    "print(pred2[0:10])\n",
    "\n",
    "PRED=[]\n",
    "for item in pred2:\n",
    "    value2=np.argmax(item)      \n",
    "    PRED+=[value2]\n",
    "print(PRED[0:10])"
   ]
  },
  {
   "cell_type": "code",
   "execution_count": null,
   "id": "c5729d2f",
   "metadata": {},
   "outputs": [],
   "source": [
    "ANS=list(testy0)\n",
    "ANS[0:10]"
   ]
  },
  {
   "cell_type": "code",
   "execution_count": null,
   "id": "b975050e",
   "metadata": {},
   "outputs": [],
   "source": [
    "accuracy=accuracy_score(ANS,PRED)\n",
    "print(accuracy)"
   ]
  },
  {
   "cell_type": "code",
   "execution_count": null,
   "id": "b2bbeebc",
   "metadata": {},
   "outputs": [],
   "source": []
  },
  {
   "cell_type": "code",
   "execution_count": null,
   "id": "39216e31",
   "metadata": {},
   "outputs": [],
   "source": []
  }
 ],
 "metadata": {
  "kernelspec": {
   "display_name": "Python 3",
   "language": "python",
   "name": "python3"
  },
  "language_info": {
   "codemirror_mode": {
    "name": "ipython",
    "version": 3
   },
   "file_extension": ".py",
   "mimetype": "text/x-python",
   "name": "python",
   "nbconvert_exporter": "python",
   "pygments_lexer": "ipython3",
   "version": "3.8.8"
  }
 },
 "nbformat": 4,
 "nbformat_minor": 5
}
