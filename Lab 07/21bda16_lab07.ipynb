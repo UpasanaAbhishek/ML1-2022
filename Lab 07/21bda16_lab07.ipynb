{
 "cells": [
  {
   "cell_type": "markdown",
   "id": "86941c8b",
   "metadata": {},
   "source": [
    "### CNN Model"
   ]
  },
  {
   "cell_type": "code",
   "execution_count": 1,
   "id": "6c6e0bbe",
   "metadata": {},
   "outputs": [],
   "source": [
    "import numpy as np\n",
    "import pandas as pd\n",
    "import seaborn as sns\n",
    "import pathlib\n",
    "import tensorflow as tf\n",
    "from tensorflow.keras.models import Sequential \n",
    "from tensorflow.keras.layers import Conv2D, MaxPool2D, Flatten, Dense, Activation\n",
    "import matplotlib.pyplot as plt\n",
    "%matplotlib inline\n",
    "import os\n",
    "import re\n",
    "from keras.utils import np_utils\n",
    "from sklearn.model_selection import train_test_split"
   ]
  },
  {
   "cell_type": "code",
   "execution_count": 3,
   "id": "b55d0279",
   "metadata": {},
   "outputs": [],
   "source": [
    "base_dir = \"C:/Users/gayat/BIG DATA ANALYTICS/SEM2/Machine Learning/Assignments/Assignment 07/Yoga pose\""
   ]
  },
  {
   "cell_type": "code",
   "execution_count": 4,
   "id": "a403f6ab",
   "metadata": {},
   "outputs": [
    {
     "name": "stdout",
     "output_type": "stream",
     "text": [
      "Found 848 images belonging to 107 classes.\n"
     ]
    }
   ],
   "source": [
    "from tensorflow.keras.preprocessing.image import ImageDataGenerator\n",
    "from tensorflow.keras.layers import BatchNormalization\n",
    "from tensorflow.keras.layers import Dropout\n",
    "from tensorflow.keras.layers import RandomRotation\n",
    "\n",
    "train_datagen = ImageDataGenerator(rescale=1./255,\n",
    "                                  width_shift_range = 0.1,\n",
    "                                  height_shift_range = 0.1,\n",
    "                                  shear_range = 0.1,\n",
    "                                  zoom_range= 0.1,\n",
    "                                  horizontal_flip=True,\n",
    "                                  fill_mode='nearest',\n",
    "                                  validation_split=0.15)\n",
    "validation_data = train_datagen.flow_from_directory(\n",
    "    base_dir,\n",
    "    target_size=(224, 224),\n",
    "    color_mode='rgb',\n",
    "    class_mode='categorical',\n",
    "    batch_size=32,\n",
    "    shuffle=True,\n",
    "    seed=42,\n",
    "    subset='validation')"
   ]
  },
  {
   "cell_type": "code",
   "execution_count": 5,
   "id": "de7c538c",
   "metadata": {},
   "outputs": [
    {
     "name": "stdout",
     "output_type": "stream",
     "text": [
      "Found 5143 images belonging to 107 classes.\n"
     ]
    }
   ],
   "source": [
    "train_data = train_datagen.flow_from_directory(\n",
    "    base_dir,\n",
    "    target_size=(224, 224),\n",
    "    color_mode='rgb',\n",
    "    class_mode='categorical',\n",
    "    batch_size=32,\n",
    "    shuffle=True,\n",
    "    seed=42,\n",
    "    subset='training')"
   ]
  },
  {
   "cell_type": "code",
   "execution_count": 6,
   "id": "903363d1",
   "metadata": {},
   "outputs": [],
   "source": [
    "model = tf.keras.models.Sequential([Conv2D(128,(3,3),input_shape=(224,224,3),activation='relu'),\n",
    "                                   BatchNormalization(),\n",
    "                                   Conv2D(128,(3,3)),\n",
    "                                   BatchNormalization(),\n",
    "                                   MaxPool2D(2,2),\n",
    "                                   Conv2D(64,(3,3)),\n",
    "                                   BatchNormalization(),\n",
    "                                   Conv2D(64,(3,3)),\n",
    "                                   BatchNormalization(),\n",
    "                                   MaxPool2D(2,2),\n",
    "                                   Conv2D(32,(3,3)),\n",
    "                                   BatchNormalization(),\n",
    "                                   Conv2D(32,(3,3)),\n",
    "                                   BatchNormalization(),\n",
    "                                   MaxPool2D(2,2),\n",
    "                                   Flatten(),\n",
    "                                   Dense(1024,activation='relu'),\n",
    "                                   BatchNormalization(),\n",
    "                                   Dense(512,activation='relu'),\n",
    "                                   Dense(107,activation='softmax')])"
   ]
  },
  {
   "cell_type": "code",
   "execution_count": 7,
   "id": "198b6044",
   "metadata": {},
   "outputs": [],
   "source": [
    "model.compile(loss='categorical_crossentropy', optimizer=\"adam\", metrics=['accuracy'])"
   ]
  },
  {
   "cell_type": "code",
   "execution_count": 8,
   "id": "0dcf7912",
   "metadata": {},
   "outputs": [
    {
     "name": "stdout",
     "output_type": "stream",
     "text": [
      "Model: \"sequential\"\n",
      "_________________________________________________________________\n",
      " Layer (type)                Output Shape              Param #   \n",
      "=================================================================\n",
      " conv2d (Conv2D)             (None, 222, 222, 128)     3584      \n",
      "                                                                 \n",
      " batch_normalization (BatchN  (None, 222, 222, 128)    512       \n",
      " ormalization)                                                   \n",
      "                                                                 \n",
      " conv2d_1 (Conv2D)           (None, 220, 220, 128)     147584    \n",
      "                                                                 \n",
      " batch_normalization_1 (Batc  (None, 220, 220, 128)    512       \n",
      " hNormalization)                                                 \n",
      "                                                                 \n",
      " max_pooling2d (MaxPooling2D  (None, 110, 110, 128)    0         \n",
      " )                                                               \n",
      "                                                                 \n",
      " conv2d_2 (Conv2D)           (None, 108, 108, 64)      73792     \n",
      "                                                                 \n",
      " batch_normalization_2 (Batc  (None, 108, 108, 64)     256       \n",
      " hNormalization)                                                 \n",
      "                                                                 \n",
      " conv2d_3 (Conv2D)           (None, 106, 106, 64)      36928     \n",
      "                                                                 \n",
      " batch_normalization_3 (Batc  (None, 106, 106, 64)     256       \n",
      " hNormalization)                                                 \n",
      "                                                                 \n",
      " max_pooling2d_1 (MaxPooling  (None, 53, 53, 64)       0         \n",
      " 2D)                                                             \n",
      "                                                                 \n",
      " conv2d_4 (Conv2D)           (None, 51, 51, 32)        18464     \n",
      "                                                                 \n",
      " batch_normalization_4 (Batc  (None, 51, 51, 32)       128       \n",
      " hNormalization)                                                 \n",
      "                                                                 \n",
      " conv2d_5 (Conv2D)           (None, 49, 49, 32)        9248      \n",
      "                                                                 \n",
      " batch_normalization_5 (Batc  (None, 49, 49, 32)       128       \n",
      " hNormalization)                                                 \n",
      "                                                                 \n",
      " max_pooling2d_2 (MaxPooling  (None, 24, 24, 32)       0         \n",
      " 2D)                                                             \n",
      "                                                                 \n",
      " flatten (Flatten)           (None, 18432)             0         \n",
      "                                                                 \n",
      " dense (Dense)               (None, 1024)              18875392  \n",
      "                                                                 \n",
      " batch_normalization_6 (Batc  (None, 1024)             4096      \n",
      " hNormalization)                                                 \n",
      "                                                                 \n",
      " dense_1 (Dense)             (None, 512)               524800    \n",
      "                                                                 \n",
      " dense_2 (Dense)             (None, 107)               54891     \n",
      "                                                                 \n",
      "=================================================================\n",
      "Total params: 19,750,571\n",
      "Trainable params: 19,747,627\n",
      "Non-trainable params: 2,944\n",
      "_________________________________________________________________\n"
     ]
    }
   ],
   "source": [
    "model.summary()"
   ]
  },
  {
   "cell_type": "code",
   "execution_count": null,
   "id": "1943de69",
   "metadata": {},
   "outputs": [
    {
     "name": "stdout",
     "output_type": "stream",
     "text": [
      "Epoch 1/10\n",
      "116/161 [====================>.........] - ETA: 10:19 - loss: 4.8819 - accuracy: 0.0589"
     ]
    },
    {
     "name": "stderr",
     "output_type": "stream",
     "text": [
      "C:\\Users\\gayat\\anaconda3\\lib\\site-packages\\PIL\\Image.py:975: UserWarning: Palette images with Transparency expressed in bytes should be converted to RGBA images\n",
      "  warnings.warn(\n"
     ]
    },
    {
     "name": "stdout",
     "output_type": "stream",
     "text": [
      "161/161 [==============================] - 2346s 15s/step - loss: 4.7223 - accuracy: 0.0731 - val_loss: 4.4549 - val_accuracy: 0.0613\n",
      "Epoch 2/10\n",
      "161/161 [==============================] - 2451s 15s/step - loss: 3.8431 - accuracy: 0.1594 - val_loss: 4.4607 - val_accuracy: 0.0554\n",
      "Epoch 3/10\n",
      "161/161 [==============================] - 2671s 17s/step - loss: 3.4186 - accuracy: 0.2104 - val_loss: 4.0170 - val_accuracy: 0.1851\n",
      "Epoch 4/10\n",
      "119/161 [=====================>........] - ETA: 36:55 - loss: 3.1198 - accuracy: 0.2616"
     ]
    }
   ],
   "source": [
    "history = model.fit(train_data,validation_data=validation_data, epochs=10)"
   ]
  }
 ],
 "metadata": {
  "kernelspec": {
   "display_name": "Python 3 (ipykernel)",
   "language": "python",
   "name": "python3"
  },
  "language_info": {
   "codemirror_mode": {
    "name": "ipython",
    "version": 3
   },
   "file_extension": ".py",
   "mimetype": "text/x-python",
   "name": "python",
   "nbconvert_exporter": "python",
   "pygments_lexer": "ipython3",
   "version": "3.9.7"
  }
 },
 "nbformat": 4,
 "nbformat_minor": 5
}
