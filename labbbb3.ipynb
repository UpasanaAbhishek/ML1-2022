{
 "cells": [
  {
   "cell_type": "code",
   "execution_count": 1,
   "id": "0040425c",
   "metadata": {},
   "outputs": [],
   "source": [
    "import pandas as pd\n",
    "import numpy as np\n",
    "import matplotlib.pyplot as plt\n",
    "import seaborn as sns\n",
    "from sklearn.linear_model import LinearRegression\n",
    "from sklearn.model_selection import train_test_split\n",
    "from sklearn.linear_model import LogisticRegression"
   ]
  },
  {
   "cell_type": "code",
   "execution_count": 2,
   "id": "dbc55ade",
   "metadata": {},
   "outputs": [],
   "source": [
    "df=pd.read_csv(\"students_adaptability_level_online_education.csv\")"
   ]
  },
  {
   "cell_type": "code",
   "execution_count": 3,
   "id": "ca916dac",
   "metadata": {},
   "outputs": [
    {
     "data": {
      "text/html": [
       "<div>\n",
       "<style scoped>\n",
       "    .dataframe tbody tr th:only-of-type {\n",
       "        vertical-align: middle;\n",
       "    }\n",
       "\n",
       "    .dataframe tbody tr th {\n",
       "        vertical-align: top;\n",
       "    }\n",
       "\n",
       "    .dataframe thead th {\n",
       "        text-align: right;\n",
       "    }\n",
       "</style>\n",
       "<table border=\"1\" class=\"dataframe\">\n",
       "  <thead>\n",
       "    <tr style=\"text-align: right;\">\n",
       "      <th></th>\n",
       "      <th>Gender</th>\n",
       "      <th>Age</th>\n",
       "      <th>Education Level</th>\n",
       "      <th>Institution Type</th>\n",
       "      <th>IT Student</th>\n",
       "      <th>Location</th>\n",
       "      <th>Load-shedding</th>\n",
       "      <th>Financial Condition</th>\n",
       "      <th>Internet Type</th>\n",
       "      <th>Network Type</th>\n",
       "      <th>Class Duration</th>\n",
       "      <th>Self Lms</th>\n",
       "      <th>Device</th>\n",
       "      <th>Adaptivity Level</th>\n",
       "    </tr>\n",
       "  </thead>\n",
       "  <tbody>\n",
       "    <tr>\n",
       "      <th>0</th>\n",
       "      <td>Boy</td>\n",
       "      <td>21-25</td>\n",
       "      <td>University</td>\n",
       "      <td>Non Government</td>\n",
       "      <td>No</td>\n",
       "      <td>Yes</td>\n",
       "      <td>Low</td>\n",
       "      <td>Mid</td>\n",
       "      <td>Wifi</td>\n",
       "      <td>4G</td>\n",
       "      <td>3-6</td>\n",
       "      <td>No</td>\n",
       "      <td>Tab</td>\n",
       "      <td>Moderate</td>\n",
       "    </tr>\n",
       "    <tr>\n",
       "      <th>1</th>\n",
       "      <td>Girl</td>\n",
       "      <td>21-25</td>\n",
       "      <td>University</td>\n",
       "      <td>Non Government</td>\n",
       "      <td>No</td>\n",
       "      <td>Yes</td>\n",
       "      <td>High</td>\n",
       "      <td>Mid</td>\n",
       "      <td>Mobile Data</td>\n",
       "      <td>4G</td>\n",
       "      <td>1-3</td>\n",
       "      <td>Yes</td>\n",
       "      <td>Mobile</td>\n",
       "      <td>Moderate</td>\n",
       "    </tr>\n",
       "    <tr>\n",
       "      <th>2</th>\n",
       "      <td>Girl</td>\n",
       "      <td>16-20</td>\n",
       "      <td>College</td>\n",
       "      <td>Government</td>\n",
       "      <td>No</td>\n",
       "      <td>Yes</td>\n",
       "      <td>Low</td>\n",
       "      <td>Mid</td>\n",
       "      <td>Wifi</td>\n",
       "      <td>4G</td>\n",
       "      <td>1-3</td>\n",
       "      <td>No</td>\n",
       "      <td>Mobile</td>\n",
       "      <td>Moderate</td>\n",
       "    </tr>\n",
       "    <tr>\n",
       "      <th>3</th>\n",
       "      <td>Girl</td>\n",
       "      <td>11-15</td>\n",
       "      <td>School</td>\n",
       "      <td>Non Government</td>\n",
       "      <td>No</td>\n",
       "      <td>Yes</td>\n",
       "      <td>Low</td>\n",
       "      <td>Mid</td>\n",
       "      <td>Mobile Data</td>\n",
       "      <td>4G</td>\n",
       "      <td>1-3</td>\n",
       "      <td>No</td>\n",
       "      <td>Mobile</td>\n",
       "      <td>Moderate</td>\n",
       "    </tr>\n",
       "    <tr>\n",
       "      <th>4</th>\n",
       "      <td>Girl</td>\n",
       "      <td>16-20</td>\n",
       "      <td>School</td>\n",
       "      <td>Non Government</td>\n",
       "      <td>No</td>\n",
       "      <td>Yes</td>\n",
       "      <td>Low</td>\n",
       "      <td>Poor</td>\n",
       "      <td>Mobile Data</td>\n",
       "      <td>3G</td>\n",
       "      <td>0</td>\n",
       "      <td>No</td>\n",
       "      <td>Mobile</td>\n",
       "      <td>Low</td>\n",
       "    </tr>\n",
       "    <tr>\n",
       "      <th>...</th>\n",
       "      <td>...</td>\n",
       "      <td>...</td>\n",
       "      <td>...</td>\n",
       "      <td>...</td>\n",
       "      <td>...</td>\n",
       "      <td>...</td>\n",
       "      <td>...</td>\n",
       "      <td>...</td>\n",
       "      <td>...</td>\n",
       "      <td>...</td>\n",
       "      <td>...</td>\n",
       "      <td>...</td>\n",
       "      <td>...</td>\n",
       "      <td>...</td>\n",
       "    </tr>\n",
       "    <tr>\n",
       "      <th>1200</th>\n",
       "      <td>Girl</td>\n",
       "      <td>16-20</td>\n",
       "      <td>College</td>\n",
       "      <td>Non Government</td>\n",
       "      <td>No</td>\n",
       "      <td>Yes</td>\n",
       "      <td>Low</td>\n",
       "      <td>Mid</td>\n",
       "      <td>Wifi</td>\n",
       "      <td>4G</td>\n",
       "      <td>1-3</td>\n",
       "      <td>No</td>\n",
       "      <td>Mobile</td>\n",
       "      <td>Low</td>\n",
       "    </tr>\n",
       "    <tr>\n",
       "      <th>1201</th>\n",
       "      <td>Girl</td>\n",
       "      <td>16-20</td>\n",
       "      <td>College</td>\n",
       "      <td>Non Government</td>\n",
       "      <td>No</td>\n",
       "      <td>No</td>\n",
       "      <td>High</td>\n",
       "      <td>Mid</td>\n",
       "      <td>Wifi</td>\n",
       "      <td>4G</td>\n",
       "      <td>3-6</td>\n",
       "      <td>No</td>\n",
       "      <td>Mobile</td>\n",
       "      <td>Moderate</td>\n",
       "    </tr>\n",
       "    <tr>\n",
       "      <th>1202</th>\n",
       "      <td>Boy</td>\n",
       "      <td>11-15</td>\n",
       "      <td>School</td>\n",
       "      <td>Non Government</td>\n",
       "      <td>No</td>\n",
       "      <td>Yes</td>\n",
       "      <td>Low</td>\n",
       "      <td>Mid</td>\n",
       "      <td>Mobile Data</td>\n",
       "      <td>3G</td>\n",
       "      <td>1-3</td>\n",
       "      <td>No</td>\n",
       "      <td>Mobile</td>\n",
       "      <td>Moderate</td>\n",
       "    </tr>\n",
       "    <tr>\n",
       "      <th>1203</th>\n",
       "      <td>Girl</td>\n",
       "      <td>16-20</td>\n",
       "      <td>College</td>\n",
       "      <td>Non Government</td>\n",
       "      <td>No</td>\n",
       "      <td>No</td>\n",
       "      <td>Low</td>\n",
       "      <td>Mid</td>\n",
       "      <td>Wifi</td>\n",
       "      <td>4G</td>\n",
       "      <td>1-3</td>\n",
       "      <td>No</td>\n",
       "      <td>Mobile</td>\n",
       "      <td>Low</td>\n",
       "    </tr>\n",
       "    <tr>\n",
       "      <th>1204</th>\n",
       "      <td>Girl</td>\n",
       "      <td>11-15</td>\n",
       "      <td>School</td>\n",
       "      <td>Non Government</td>\n",
       "      <td>No</td>\n",
       "      <td>Yes</td>\n",
       "      <td>Low</td>\n",
       "      <td>Poor</td>\n",
       "      <td>Mobile Data</td>\n",
       "      <td>3G</td>\n",
       "      <td>1-3</td>\n",
       "      <td>No</td>\n",
       "      <td>Mobile</td>\n",
       "      <td>Moderate</td>\n",
       "    </tr>\n",
       "  </tbody>\n",
       "</table>\n",
       "<p>1205 rows × 14 columns</p>\n",
       "</div>"
      ],
      "text/plain": [
       "     Gender    Age Education Level Institution Type IT Student Location  \\\n",
       "0       Boy  21-25      University   Non Government         No      Yes   \n",
       "1      Girl  21-25      University   Non Government         No      Yes   \n",
       "2      Girl  16-20         College       Government         No      Yes   \n",
       "3      Girl  11-15          School   Non Government         No      Yes   \n",
       "4      Girl  16-20          School   Non Government         No      Yes   \n",
       "...     ...    ...             ...              ...        ...      ...   \n",
       "1200   Girl  16-20         College   Non Government         No      Yes   \n",
       "1201   Girl  16-20         College   Non Government         No       No   \n",
       "1202    Boy  11-15          School   Non Government         No      Yes   \n",
       "1203   Girl  16-20         College   Non Government         No       No   \n",
       "1204   Girl  11-15          School   Non Government         No      Yes   \n",
       "\n",
       "     Load-shedding Financial Condition Internet Type Network Type  \\\n",
       "0              Low                 Mid          Wifi           4G   \n",
       "1             High                 Mid   Mobile Data           4G   \n",
       "2              Low                 Mid          Wifi           4G   \n",
       "3              Low                 Mid   Mobile Data           4G   \n",
       "4              Low                Poor   Mobile Data           3G   \n",
       "...            ...                 ...           ...          ...   \n",
       "1200           Low                 Mid          Wifi           4G   \n",
       "1201          High                 Mid          Wifi           4G   \n",
       "1202           Low                 Mid   Mobile Data           3G   \n",
       "1203           Low                 Mid          Wifi           4G   \n",
       "1204           Low                Poor   Mobile Data           3G   \n",
       "\n",
       "     Class Duration Self Lms  Device Adaptivity Level  \n",
       "0               3-6       No     Tab         Moderate  \n",
       "1               1-3      Yes  Mobile         Moderate  \n",
       "2               1-3       No  Mobile         Moderate  \n",
       "3               1-3       No  Mobile         Moderate  \n",
       "4                 0       No  Mobile              Low  \n",
       "...             ...      ...     ...              ...  \n",
       "1200            1-3       No  Mobile              Low  \n",
       "1201            3-6       No  Mobile         Moderate  \n",
       "1202            1-3       No  Mobile         Moderate  \n",
       "1203            1-3       No  Mobile              Low  \n",
       "1204            1-3       No  Mobile         Moderate  \n",
       "\n",
       "[1205 rows x 14 columns]"
      ]
     },
     "execution_count": 3,
     "metadata": {},
     "output_type": "execute_result"
    }
   ],
   "source": [
    "df"
   ]
  },
  {
   "cell_type": "code",
   "execution_count": 4,
   "id": "9681e4c4",
   "metadata": {},
   "outputs": [
    {
     "data": {
      "text/html": [
       "<div>\n",
       "<style scoped>\n",
       "    .dataframe tbody tr th:only-of-type {\n",
       "        vertical-align: middle;\n",
       "    }\n",
       "\n",
       "    .dataframe tbody tr th {\n",
       "        vertical-align: top;\n",
       "    }\n",
       "\n",
       "    .dataframe thead th {\n",
       "        text-align: right;\n",
       "    }\n",
       "</style>\n",
       "<table border=\"1\" class=\"dataframe\">\n",
       "  <thead>\n",
       "    <tr style=\"text-align: right;\">\n",
       "      <th></th>\n",
       "      <th>Gender</th>\n",
       "      <th>Age</th>\n",
       "      <th>Education Level</th>\n",
       "      <th>Institution Type</th>\n",
       "      <th>IT Student</th>\n",
       "      <th>Location</th>\n",
       "      <th>Load-shedding</th>\n",
       "      <th>Financial Condition</th>\n",
       "      <th>Internet Type</th>\n",
       "      <th>Network Type</th>\n",
       "      <th>Class Duration</th>\n",
       "      <th>Self Lms</th>\n",
       "      <th>Device</th>\n",
       "      <th>Adaptivity Level</th>\n",
       "    </tr>\n",
       "  </thead>\n",
       "  <tbody>\n",
       "    <tr>\n",
       "      <th>0</th>\n",
       "      <td>Boy</td>\n",
       "      <td>21-25</td>\n",
       "      <td>University</td>\n",
       "      <td>Non Government</td>\n",
       "      <td>No</td>\n",
       "      <td>Yes</td>\n",
       "      <td>Low</td>\n",
       "      <td>Mid</td>\n",
       "      <td>Wifi</td>\n",
       "      <td>4G</td>\n",
       "      <td>3-6</td>\n",
       "      <td>No</td>\n",
       "      <td>Tab</td>\n",
       "      <td>Moderate</td>\n",
       "    </tr>\n",
       "    <tr>\n",
       "      <th>1</th>\n",
       "      <td>Girl</td>\n",
       "      <td>21-25</td>\n",
       "      <td>University</td>\n",
       "      <td>Non Government</td>\n",
       "      <td>No</td>\n",
       "      <td>Yes</td>\n",
       "      <td>High</td>\n",
       "      <td>Mid</td>\n",
       "      <td>Mobile Data</td>\n",
       "      <td>4G</td>\n",
       "      <td>1-3</td>\n",
       "      <td>Yes</td>\n",
       "      <td>Mobile</td>\n",
       "      <td>Moderate</td>\n",
       "    </tr>\n",
       "    <tr>\n",
       "      <th>2</th>\n",
       "      <td>Girl</td>\n",
       "      <td>16-20</td>\n",
       "      <td>College</td>\n",
       "      <td>Government</td>\n",
       "      <td>No</td>\n",
       "      <td>Yes</td>\n",
       "      <td>Low</td>\n",
       "      <td>Mid</td>\n",
       "      <td>Wifi</td>\n",
       "      <td>4G</td>\n",
       "      <td>1-3</td>\n",
       "      <td>No</td>\n",
       "      <td>Mobile</td>\n",
       "      <td>Moderate</td>\n",
       "    </tr>\n",
       "    <tr>\n",
       "      <th>3</th>\n",
       "      <td>Girl</td>\n",
       "      <td>11-15</td>\n",
       "      <td>School</td>\n",
       "      <td>Non Government</td>\n",
       "      <td>No</td>\n",
       "      <td>Yes</td>\n",
       "      <td>Low</td>\n",
       "      <td>Mid</td>\n",
       "      <td>Mobile Data</td>\n",
       "      <td>4G</td>\n",
       "      <td>1-3</td>\n",
       "      <td>No</td>\n",
       "      <td>Mobile</td>\n",
       "      <td>Moderate</td>\n",
       "    </tr>\n",
       "    <tr>\n",
       "      <th>4</th>\n",
       "      <td>Girl</td>\n",
       "      <td>16-20</td>\n",
       "      <td>School</td>\n",
       "      <td>Non Government</td>\n",
       "      <td>No</td>\n",
       "      <td>Yes</td>\n",
       "      <td>Low</td>\n",
       "      <td>Poor</td>\n",
       "      <td>Mobile Data</td>\n",
       "      <td>3G</td>\n",
       "      <td>0</td>\n",
       "      <td>No</td>\n",
       "      <td>Mobile</td>\n",
       "      <td>Low</td>\n",
       "    </tr>\n",
       "  </tbody>\n",
       "</table>\n",
       "</div>"
      ],
      "text/plain": [
       "  Gender    Age Education Level Institution Type IT Student Location  \\\n",
       "0    Boy  21-25      University   Non Government         No      Yes   \n",
       "1   Girl  21-25      University   Non Government         No      Yes   \n",
       "2   Girl  16-20         College       Government         No      Yes   \n",
       "3   Girl  11-15          School   Non Government         No      Yes   \n",
       "4   Girl  16-20          School   Non Government         No      Yes   \n",
       "\n",
       "  Load-shedding Financial Condition Internet Type Network Type Class Duration  \\\n",
       "0           Low                 Mid          Wifi           4G            3-6   \n",
       "1          High                 Mid   Mobile Data           4G            1-3   \n",
       "2           Low                 Mid          Wifi           4G            1-3   \n",
       "3           Low                 Mid   Mobile Data           4G            1-3   \n",
       "4           Low                Poor   Mobile Data           3G              0   \n",
       "\n",
       "  Self Lms  Device Adaptivity Level  \n",
       "0       No     Tab         Moderate  \n",
       "1      Yes  Mobile         Moderate  \n",
       "2       No  Mobile         Moderate  \n",
       "3       No  Mobile         Moderate  \n",
       "4       No  Mobile              Low  "
      ]
     },
     "execution_count": 4,
     "metadata": {},
     "output_type": "execute_result"
    }
   ],
   "source": [
    "df.head()"
   ]
  },
  {
   "cell_type": "code",
   "execution_count": 5,
   "id": "4a6578c6",
   "metadata": {},
   "outputs": [
    {
     "data": {
      "text/plain": [
       "Gender                 0\n",
       "Age                    0\n",
       "Education Level        0\n",
       "Institution Type       0\n",
       "IT Student             0\n",
       "Location               0\n",
       "Load-shedding          0\n",
       "Financial Condition    0\n",
       "Internet Type          0\n",
       "Network Type           0\n",
       "Class Duration         0\n",
       "Self Lms               0\n",
       "Device                 0\n",
       "Adaptivity Level       0\n",
       "dtype: int64"
      ]
     },
     "execution_count": 5,
     "metadata": {},
     "output_type": "execute_result"
    }
   ],
   "source": [
    "df.isnull().sum()"
   ]
  },
  {
   "cell_type": "code",
   "execution_count": 6,
   "id": "e3702e91",
   "metadata": {},
   "outputs": [],
   "source": [
    "#dropna(axis=0)"
   ]
  },
  {
   "cell_type": "code",
   "execution_count": 7,
   "id": "dd7277a4",
   "metadata": {},
   "outputs": [
    {
     "name": "stdout",
     "output_type": "stream",
     "text": [
      "<class 'pandas.core.frame.DataFrame'>\n",
      "RangeIndex: 1205 entries, 0 to 1204\n",
      "Data columns (total 14 columns):\n",
      " #   Column               Non-Null Count  Dtype \n",
      "---  ------               --------------  ----- \n",
      " 0   Gender               1205 non-null   object\n",
      " 1   Age                  1205 non-null   object\n",
      " 2   Education Level      1205 non-null   object\n",
      " 3   Institution Type     1205 non-null   object\n",
      " 4   IT Student           1205 non-null   object\n",
      " 5   Location             1205 non-null   object\n",
      " 6   Load-shedding        1205 non-null   object\n",
      " 7   Financial Condition  1205 non-null   object\n",
      " 8   Internet Type        1205 non-null   object\n",
      " 9   Network Type         1205 non-null   object\n",
      " 10  Class Duration       1205 non-null   object\n",
      " 11  Self Lms             1205 non-null   object\n",
      " 12  Device               1205 non-null   object\n",
      " 13  Adaptivity Level     1205 non-null   object\n",
      "dtypes: object(14)\n",
      "memory usage: 131.9+ KB\n"
     ]
    }
   ],
   "source": [
    "df.info()"
   ]
  },
  {
   "cell_type": "code",
   "execution_count": 8,
   "id": "992b857f",
   "metadata": {},
   "outputs": [
    {
     "data": {
      "text/html": [
       "<div>\n",
       "<style scoped>\n",
       "    .dataframe tbody tr th:only-of-type {\n",
       "        vertical-align: middle;\n",
       "    }\n",
       "\n",
       "    .dataframe tbody tr th {\n",
       "        vertical-align: top;\n",
       "    }\n",
       "\n",
       "    .dataframe thead th {\n",
       "        text-align: right;\n",
       "    }\n",
       "</style>\n",
       "<table border=\"1\" class=\"dataframe\">\n",
       "  <thead>\n",
       "    <tr style=\"text-align: right;\">\n",
       "      <th></th>\n",
       "      <th>Gender</th>\n",
       "      <th>Age</th>\n",
       "      <th>Education Level</th>\n",
       "      <th>Institution Type</th>\n",
       "      <th>IT Student</th>\n",
       "      <th>Location</th>\n",
       "      <th>Load-shedding</th>\n",
       "      <th>Financial Condition</th>\n",
       "      <th>Internet Type</th>\n",
       "      <th>Network Type</th>\n",
       "      <th>Class Duration</th>\n",
       "      <th>Self Lms</th>\n",
       "      <th>Device</th>\n",
       "      <th>Adaptivity Level</th>\n",
       "    </tr>\n",
       "  </thead>\n",
       "  <tbody>\n",
       "    <tr>\n",
       "      <th>count</th>\n",
       "      <td>1205</td>\n",
       "      <td>1205</td>\n",
       "      <td>1205</td>\n",
       "      <td>1205</td>\n",
       "      <td>1205</td>\n",
       "      <td>1205</td>\n",
       "      <td>1205</td>\n",
       "      <td>1205</td>\n",
       "      <td>1205</td>\n",
       "      <td>1205</td>\n",
       "      <td>1205</td>\n",
       "      <td>1205</td>\n",
       "      <td>1205</td>\n",
       "      <td>1205</td>\n",
       "    </tr>\n",
       "    <tr>\n",
       "      <th>unique</th>\n",
       "      <td>2</td>\n",
       "      <td>6</td>\n",
       "      <td>3</td>\n",
       "      <td>2</td>\n",
       "      <td>2</td>\n",
       "      <td>2</td>\n",
       "      <td>2</td>\n",
       "      <td>3</td>\n",
       "      <td>2</td>\n",
       "      <td>3</td>\n",
       "      <td>3</td>\n",
       "      <td>2</td>\n",
       "      <td>3</td>\n",
       "      <td>3</td>\n",
       "    </tr>\n",
       "    <tr>\n",
       "      <th>top</th>\n",
       "      <td>Boy</td>\n",
       "      <td>21-25</td>\n",
       "      <td>School</td>\n",
       "      <td>Non Government</td>\n",
       "      <td>No</td>\n",
       "      <td>Yes</td>\n",
       "      <td>Low</td>\n",
       "      <td>Mid</td>\n",
       "      <td>Mobile Data</td>\n",
       "      <td>4G</td>\n",
       "      <td>1-3</td>\n",
       "      <td>No</td>\n",
       "      <td>Mobile</td>\n",
       "      <td>Moderate</td>\n",
       "    </tr>\n",
       "    <tr>\n",
       "      <th>freq</th>\n",
       "      <td>663</td>\n",
       "      <td>374</td>\n",
       "      <td>530</td>\n",
       "      <td>823</td>\n",
       "      <td>901</td>\n",
       "      <td>935</td>\n",
       "      <td>1004</td>\n",
       "      <td>878</td>\n",
       "      <td>695</td>\n",
       "      <td>775</td>\n",
       "      <td>840</td>\n",
       "      <td>995</td>\n",
       "      <td>1013</td>\n",
       "      <td>625</td>\n",
       "    </tr>\n",
       "  </tbody>\n",
       "</table>\n",
       "</div>"
      ],
      "text/plain": [
       "       Gender    Age Education Level Institution Type IT Student Location  \\\n",
       "count    1205   1205            1205             1205       1205     1205   \n",
       "unique      2      6               3                2          2        2   \n",
       "top       Boy  21-25          School   Non Government         No      Yes   \n",
       "freq      663    374             530              823        901      935   \n",
       "\n",
       "       Load-shedding Financial Condition Internet Type Network Type  \\\n",
       "count           1205                1205          1205         1205   \n",
       "unique             2                   3             2            3   \n",
       "top              Low                 Mid   Mobile Data           4G   \n",
       "freq            1004                 878           695          775   \n",
       "\n",
       "       Class Duration Self Lms  Device Adaptivity Level  \n",
       "count            1205     1205    1205             1205  \n",
       "unique              3        2       3                3  \n",
       "top               1-3       No  Mobile         Moderate  \n",
       "freq              840      995    1013              625  "
      ]
     },
     "execution_count": 8,
     "metadata": {},
     "output_type": "execute_result"
    }
   ],
   "source": [
    "df.describe()"
   ]
  },
  {
   "cell_type": "code",
   "execution_count": 9,
   "id": "c03253c9",
   "metadata": {},
   "outputs": [
    {
     "data": {
      "text/plain": [
       "Boy     663\n",
       "Girl    542\n",
       "Name: Gender, dtype: int64"
      ]
     },
     "execution_count": 9,
     "metadata": {},
     "output_type": "execute_result"
    }
   ],
   "source": [
    "df.Gender.value_counts()"
   ]
  },
  {
   "cell_type": "code",
   "execution_count": 10,
   "id": "5d47e71e",
   "metadata": {},
   "outputs": [
    {
     "data": {
      "text/plain": [
       "Moderate    0.518672\n",
       "Low         0.398340\n",
       "High        0.082988\n",
       "Name: Adaptivity Level, dtype: float64"
      ]
     },
     "execution_count": 10,
     "metadata": {},
     "output_type": "execute_result"
    }
   ],
   "source": [
    "df['Adaptivity Level'].value_counts(normalize=True)"
   ]
  },
  {
   "cell_type": "code",
   "execution_count": 11,
   "id": "56261f33",
   "metadata": {},
   "outputs": [
    {
     "data": {
      "text/plain": [
       "Mobile      0.840664\n",
       "Computer    0.134440\n",
       "Tab         0.024896\n",
       "Name: Device, dtype: float64"
      ]
     },
     "execution_count": 11,
     "metadata": {},
     "output_type": "execute_result"
    }
   ],
   "source": [
    "df.Device.value_counts(normalize=True)"
   ]
  },
  {
   "cell_type": "code",
   "execution_count": 12,
   "id": "7695e08c",
   "metadata": {},
   "outputs": [
    {
     "data": {
      "text/html": [
       "<div>\n",
       "<style scoped>\n",
       "    .dataframe tbody tr th:only-of-type {\n",
       "        vertical-align: middle;\n",
       "    }\n",
       "\n",
       "    .dataframe tbody tr th {\n",
       "        vertical-align: top;\n",
       "    }\n",
       "\n",
       "    .dataframe thead th {\n",
       "        text-align: right;\n",
       "    }\n",
       "</style>\n",
       "<table border=\"1\" class=\"dataframe\">\n",
       "  <thead>\n",
       "    <tr style=\"text-align: right;\">\n",
       "      <th>Financial Condition</th>\n",
       "      <th>Mid</th>\n",
       "      <th>Poor</th>\n",
       "      <th>Rich</th>\n",
       "    </tr>\n",
       "    <tr>\n",
       "      <th>Education Level</th>\n",
       "      <th></th>\n",
       "      <th></th>\n",
       "      <th></th>\n",
       "    </tr>\n",
       "  </thead>\n",
       "  <tbody>\n",
       "    <tr>\n",
       "      <th>College</th>\n",
       "      <td>200</td>\n",
       "      <td>17</td>\n",
       "      <td>2</td>\n",
       "    </tr>\n",
       "    <tr>\n",
       "      <th>School</th>\n",
       "      <td>336</td>\n",
       "      <td>143</td>\n",
       "      <td>51</td>\n",
       "    </tr>\n",
       "    <tr>\n",
       "      <th>University</th>\n",
       "      <td>342</td>\n",
       "      <td>82</td>\n",
       "      <td>32</td>\n",
       "    </tr>\n",
       "  </tbody>\n",
       "</table>\n",
       "</div>"
      ],
      "text/plain": [
       "Financial Condition  Mid  Poor  Rich\n",
       "Education Level                     \n",
       "College              200    17     2\n",
       "School               336   143    51\n",
       "University           342    82    32"
      ]
     },
     "execution_count": 12,
     "metadata": {},
     "output_type": "execute_result"
    }
   ],
   "source": [
    "df.groupby(['Education Level', 'Financial Condition'])['Age'].count().unstack()"
   ]
  },
  {
   "cell_type": "code",
   "execution_count": 13,
   "id": "b1814f68",
   "metadata": {},
   "outputs": [],
   "source": [
    "test1 = df.groupby(['Education Level', 'Financial Condition'])['Age'].count().unstack()"
   ]
  },
  {
   "cell_type": "code",
   "execution_count": 14,
   "id": "e4d98d56",
   "metadata": {},
   "outputs": [
    {
     "name": "stdout",
     "output_type": "stream",
     "text": [
      "We can reject the null hypotesis\n"
     ]
    }
   ],
   "source": [
    "from scipy import stats\n",
    "_, p_val, _, _ = stats.chi2_contingency(test1)\n",
    "\n",
    "if p_val < 0.05 :\n",
    "    print('We can reject the null hypotesis')\n",
    "else:\n",
    "    print('We failed to reject the null hypotesis')"
   ]
  },
  {
   "cell_type": "code",
   "execution_count": 15,
   "id": "d06664fa",
   "metadata": {},
   "outputs": [],
   "source": [
    "test2 = df.groupby(['Gender', 'Education Level'])['Age'].count().unstack()"
   ]
  },
  {
   "cell_type": "code",
   "execution_count": 16,
   "id": "1b464651",
   "metadata": {},
   "outputs": [
    {
     "data": {
      "text/plain": [
       "array([0.00366, 0.60219, 0.     ])"
      ]
     },
     "execution_count": 16,
     "metadata": {},
     "output_type": "execute_result"
    }
   ],
   "source": [
    "_, p_val = stats.power_divergence(test2)\n",
    "\n",
    "p_val.round(5)"
   ]
  },
  {
   "cell_type": "code",
   "execution_count": 17,
   "id": "919b0aff",
   "metadata": {},
   "outputs": [
    {
     "name": "stdout",
     "output_type": "stream",
     "text": [
      "We can reject the null hypotesis\n"
     ]
    }
   ],
   "source": [
    "test2 = df.groupby(['Device', 'Financial Condition'])['Age'].count().unstack()\n",
    "\n",
    "_, p_val, _, _ = stats.chi2_contingency(test2)\n",
    "\n",
    "if p_val < 0.05 :\n",
    "    print('We can reject the null hypotesis')\n",
    "else:\n",
    "    print('We failed to reject the null hypotesis')"
   ]
  },
  {
   "cell_type": "code",
   "execution_count": 18,
   "id": "7f1085dd",
   "metadata": {},
   "outputs": [
    {
     "name": "stdout",
     "output_type": "stream",
     "text": [
      "Gender - Adaptivity Level p-value: 0.0011997056689743298\n",
      "Education Level - Adaptivity Level p-value: 8.088376597327654e-08\n",
      "Institution Type - Adaptivity Level p-value: 5.516916084156889e-24\n",
      "IT Student - Adaptivity Level p-value: 5.553333138404098e-05\n",
      "Location - Adaptivity Level p-value: 1.3386485938039274e-18\n",
      "Load-shedding - Adaptivity Level p-value: 0.006832617382812384\n",
      "Financial Condition - Adaptivity Level p-value: 4.391228197442381e-50\n",
      "Internet Type - Adaptivity Level p-value: 2.7048827686608964e-05\n",
      "Self Lms - Adaptivity Level p-value: 3.8588766460420006e-07\n",
      "Device - Adaptivity Level p-value: 1.0744813411621724e-10\n"
     ]
    }
   ],
   "source": [
    "for i in df.columns.tolist() :\n",
    "    test = df.groupby([i, 'Adaptivity Level'])['Age'].count().unstack()\n",
    "    _, p_val, _, _ = stats.chi2_contingency(test)\n",
    "    if p_val.round(5) <=0.5:\n",
    "        print(i, '- Adaptivity Level p-value:', p_val )"
   ]
  },
  {
   "cell_type": "code",
   "execution_count": 19,
   "id": "d1bee9e7",
   "metadata": {},
   "outputs": [
    {
     "data": {
      "text/html": [
       "<div>\n",
       "<style scoped>\n",
       "    .dataframe tbody tr th:only-of-type {\n",
       "        vertical-align: middle;\n",
       "    }\n",
       "\n",
       "    .dataframe tbody tr th {\n",
       "        vertical-align: top;\n",
       "    }\n",
       "\n",
       "    .dataframe thead th {\n",
       "        text-align: right;\n",
       "    }\n",
       "</style>\n",
       "<table border=\"1\" class=\"dataframe\">\n",
       "  <thead>\n",
       "    <tr style=\"text-align: right;\">\n",
       "      <th></th>\n",
       "      <th>Adaptivity Level</th>\n",
       "      <th>High</th>\n",
       "      <th>Low</th>\n",
       "      <th>Moderate</th>\n",
       "    </tr>\n",
       "    <tr>\n",
       "      <th>Gender</th>\n",
       "      <th>Age</th>\n",
       "      <th></th>\n",
       "      <th></th>\n",
       "      <th></th>\n",
       "    </tr>\n",
       "  </thead>\n",
       "  <tbody>\n",
       "    <tr>\n",
       "      <th rowspan=\"6\" valign=\"top\">Boy</th>\n",
       "      <th>1-5</th>\n",
       "      <td>NaN</td>\n",
       "      <td>14.0</td>\n",
       "      <td>NaN</td>\n",
       "    </tr>\n",
       "    <tr>\n",
       "      <th>11-15</th>\n",
       "      <td>23.0</td>\n",
       "      <td>74.0</td>\n",
       "      <td>114.0</td>\n",
       "    </tr>\n",
       "    <tr>\n",
       "      <th>16-20</th>\n",
       "      <td>NaN</td>\n",
       "      <td>40.0</td>\n",
       "      <td>69.0</td>\n",
       "    </tr>\n",
       "    <tr>\n",
       "      <th>21-25</th>\n",
       "      <td>32.0</td>\n",
       "      <td>94.0</td>\n",
       "      <td>139.0</td>\n",
       "    </tr>\n",
       "    <tr>\n",
       "      <th>26-30</th>\n",
       "      <td>12.0</td>\n",
       "      <td>10.0</td>\n",
       "      <td>20.0</td>\n",
       "    </tr>\n",
       "    <tr>\n",
       "      <th>6-10</th>\n",
       "      <td>4.0</td>\n",
       "      <td>13.0</td>\n",
       "      <td>5.0</td>\n",
       "    </tr>\n",
       "    <tr>\n",
       "      <th rowspan=\"6\" valign=\"top\">Girl</th>\n",
       "      <th>1-5</th>\n",
       "      <td>NaN</td>\n",
       "      <td>3.0</td>\n",
       "      <td>64.0</td>\n",
       "    </tr>\n",
       "    <tr>\n",
       "      <th>11-15</th>\n",
       "      <td>5.0</td>\n",
       "      <td>46.0</td>\n",
       "      <td>91.0</td>\n",
       "    </tr>\n",
       "    <tr>\n",
       "      <th>16-20</th>\n",
       "      <td>5.0</td>\n",
       "      <td>104.0</td>\n",
       "      <td>60.0</td>\n",
       "    </tr>\n",
       "    <tr>\n",
       "      <th>21-25</th>\n",
       "      <td>6.0</td>\n",
       "      <td>45.0</td>\n",
       "      <td>58.0</td>\n",
       "    </tr>\n",
       "    <tr>\n",
       "      <th>26-30</th>\n",
       "      <td>NaN</td>\n",
       "      <td>26.0</td>\n",
       "      <td>NaN</td>\n",
       "    </tr>\n",
       "    <tr>\n",
       "      <th>6-10</th>\n",
       "      <td>13.0</td>\n",
       "      <td>11.0</td>\n",
       "      <td>5.0</td>\n",
       "    </tr>\n",
       "  </tbody>\n",
       "</table>\n",
       "</div>"
      ],
      "text/plain": [
       "Adaptivity Level  High    Low  Moderate\n",
       "Gender Age                             \n",
       "Boy    1-5         NaN   14.0       NaN\n",
       "       11-15      23.0   74.0     114.0\n",
       "       16-20       NaN   40.0      69.0\n",
       "       21-25      32.0   94.0     139.0\n",
       "       26-30      12.0   10.0      20.0\n",
       "       6-10        4.0   13.0       5.0\n",
       "Girl   1-5         NaN    3.0      64.0\n",
       "       11-15       5.0   46.0      91.0\n",
       "       16-20       5.0  104.0      60.0\n",
       "       21-25       6.0   45.0      58.0\n",
       "       26-30       NaN   26.0       NaN\n",
       "       6-10       13.0   11.0       5.0"
      ]
     },
     "execution_count": 19,
     "metadata": {},
     "output_type": "execute_result"
    }
   ],
   "source": [
    "df.groupby(['Gender', 'Age', 'Adaptivity Level'])['Age'].count().unstack()"
   ]
  },
  {
   "cell_type": "code",
   "execution_count": 30,
   "id": "4c0dba24",
   "metadata": {},
   "outputs": [],
   "source": [
    "from sklearn.model_selection import train_test_split\n",
    "from sklearn.model_selection import GridSearchCV as cv\n",
    "from sklearn.metrics import classification_report, roc_auc_score, confusion_matrix\n",
    "from sklearn.preprocessing import OneHotEncoder, LabelEncoder\n",
    "from sklearn.svm import SVC\n",
    "from sklearn.linear_model import LogisticRegression\n",
    "from sklearn.tree import DecisionTreeClassifier\n",
    "from sklearn.ensemble import BaggingClassifier, AdaBoostClassifier, HistGradientBoostingClassifier\n",
    "from sklearn.neighbors import KNeighborsClassifier,NeighborhoodComponentsAnalysis\n",
    "from sklearn.pipeline import Pipeline\n",
    "from imblearn.over_sampling import RandomOverSampler "
   ]
  },
  {
   "cell_type": "code",
   "execution_count": 31,
   "id": "38271384",
   "metadata": {},
   "outputs": [],
   "source": [
    "X = df.drop('Adaptivity Level', axis=1)\n",
    "y = df['Adaptivity Level']"
   ]
  },
  {
   "cell_type": "code",
   "execution_count": 32,
   "id": "f138a124",
   "metadata": {},
   "outputs": [],
   "source": [
    "rus = RandomOverSampler(random_state=10)\n",
    "X_rus, y_rus = rus.fit_resample(X, y)"
   ]
  },
  {
   "cell_type": "code",
   "execution_count": 33,
   "id": "12fdeb22",
   "metadata": {},
   "outputs": [],
   "source": [
    "X_train, X_test, y_train, y_test = train_test_split(X_rus, y_rus, stratify=y_rus, test_size= 0.3, random_state=0)"
   ]
  },
  {
   "cell_type": "code",
   "execution_count": 34,
   "id": "783f15bf",
   "metadata": {},
   "outputs": [
    {
     "name": "stdout",
     "output_type": "stream",
     "text": [
      "X_train shape:\n",
      "Rows: 1312 \n",
      "Columns: 13\n"
     ]
    }
   ],
   "source": [
    "print('X_train shape:''\\n' 'Rows:', X_train.shape[0],'\\n' 'Columns:', X_train.shape[1])"
   ]
  },
  {
   "cell_type": "code",
   "execution_count": 35,
   "id": "27ee0d79",
   "metadata": {},
   "outputs": [],
   "source": [
    "lb = LabelEncoder()\n",
    "y_train = lb.fit_transform(y_train)\n",
    "y_test = lb.transform(y_test)"
   ]
  },
  {
   "cell_type": "code",
   "execution_count": 36,
   "id": "53b6cd26",
   "metadata": {},
   "outputs": [],
   "source": [
    "ohe = OneHotEncoder(drop='first', sparse=False)\n",
    "X_train = ohe.fit_transform(X_train)\n",
    "X_test = ohe.transform(X_test)"
   ]
  },
  {
   "cell_type": "code",
   "execution_count": 40,
   "id": "a271ac9f",
   "metadata": {},
   "outputs": [
    {
     "data": {
      "text/plain": [
       "LogisticRegression(max_iter=10000)"
      ]
     },
     "execution_count": 40,
     "metadata": {},
     "output_type": "execute_result"
    }
   ],
   "source": [
    "logreg.fit(X_train,y_train)"
   ]
  },
  {
   "cell_type": "code",
   "execution_count": 42,
   "id": "0f4bb203",
   "metadata": {},
   "outputs": [],
   "source": [
    "y_pred = logreg.predict(X_test)"
   ]
  },
  {
   "cell_type": "code",
   "execution_count": 43,
   "id": "c56a6e59",
   "metadata": {
    "scrolled": true
   },
   "outputs": [
    {
     "data": {
      "text/plain": [
       "array([0, 0, 0, 0, 1, 2, 1, 0, 0, 0, 1, 0, 1, 1, 2, 0, 2, 1, 1, 1, 2, 2,\n",
       "       0, 1, 0, 0, 0, 1, 0, 0, 2, 1, 2, 2, 1, 0, 1, 0, 2, 0, 1, 2, 2, 2,\n",
       "       1, 1, 2, 1, 0, 1, 2, 2, 2, 1, 1, 1, 2, 1, 2, 2, 2, 1, 1, 2, 0, 1,\n",
       "       1, 0, 1, 1, 1, 1, 1, 0, 2, 2, 2, 2, 0, 0, 0, 1, 2, 0, 2, 0, 1, 0,\n",
       "       1, 0, 2, 1, 0, 2, 1, 1, 2, 2, 2, 2, 1, 2, 0, 2, 2, 2, 2, 0, 0, 0,\n",
       "       1, 2, 1, 0, 2, 0, 0, 1, 0, 1, 0, 0, 2, 0, 2, 0, 1, 0, 2, 1, 1, 2,\n",
       "       2, 0, 1, 1, 2, 2, 1, 0, 2, 1, 0, 1, 2, 2, 1, 2, 2, 2, 0, 2, 2, 2,\n",
       "       1, 1, 1, 0, 1, 2, 1, 1, 0, 1, 2, 2, 0, 2, 2, 1, 1, 0, 2, 0, 2, 0,\n",
       "       2, 1, 0, 2, 0, 2, 0, 1, 2, 2, 1, 0, 1, 1, 0, 1, 2, 2, 0, 1, 2, 1,\n",
       "       1, 1, 2, 0, 2, 0, 0, 2, 1, 1, 2, 2, 0, 0, 2, 0, 2, 1, 0, 1, 0, 1,\n",
       "       0, 0, 1, 2, 0, 2, 2, 1, 0, 0, 1, 1, 1, 0, 2, 2, 0, 0, 0, 2, 2, 2,\n",
       "       0, 0, 1, 2, 2, 2, 1, 0, 1, 2, 0, 0, 2, 1, 2, 2, 1, 0, 2, 0, 1, 1,\n",
       "       2, 1, 0, 1, 1, 0, 1, 1, 2, 1, 0, 2, 1, 0, 0, 1, 0, 1, 1, 1, 2, 2,\n",
       "       2, 0, 0, 1, 0, 2, 1, 2, 2, 2, 0, 0, 2, 0, 1, 0, 1, 0, 2, 1, 2, 0,\n",
       "       1, 2, 0, 2, 0, 0, 1, 0, 1, 1, 1, 0, 2, 1, 2, 0, 1, 1, 1, 0, 0, 2,\n",
       "       2, 0, 1, 2, 1, 0, 2, 0, 2, 1, 2, 1, 0, 1, 0, 0, 1, 1, 0, 1, 2, 2,\n",
       "       0, 2, 2, 2, 0, 0, 2, 1, 2, 2, 0, 0, 2, 2, 2, 1, 1, 0, 1, 0, 1, 0,\n",
       "       0, 0, 0, 1, 0, 0, 2, 1, 1, 1, 0, 2, 1, 0, 1, 1, 1, 0, 2, 1, 0, 0,\n",
       "       2, 1, 0, 1, 1, 0, 2, 1, 1, 0, 1, 2, 0, 2, 2, 2, 1, 0, 0, 1, 1, 0,\n",
       "       0, 2, 2, 1, 1, 0, 2, 0, 1, 1, 2, 0, 1, 0, 0, 1, 0, 1, 2, 0, 2, 1,\n",
       "       2, 2, 1, 2, 0, 0, 0, 0, 2, 2, 1, 2, 2, 0, 1, 1, 1, 0, 2, 2, 0, 2,\n",
       "       1, 2, 2, 1, 0, 0, 0, 1, 1, 0, 2, 0, 1, 2, 0, 0, 0, 1, 2, 0, 1, 2,\n",
       "       0, 1, 1, 2, 0, 0, 1, 2, 1, 2, 2, 2, 2, 2, 1, 0, 2, 0, 2, 1, 0, 2,\n",
       "       2, 1, 1, 2, 2, 0, 1, 2, 2, 1, 2, 0, 0, 0, 1, 1, 0, 0, 1, 0, 0, 2,\n",
       "       0, 0, 2, 0, 2, 0, 2, 1, 1, 2, 0, 2, 0, 0, 2, 1, 2, 1, 1, 2, 1, 1,\n",
       "       1, 1, 0, 0, 0, 1, 0, 2, 2, 0, 1, 1, 2])"
      ]
     },
     "execution_count": 43,
     "metadata": {},
     "output_type": "execute_result"
    }
   ],
   "source": [
    "y_test"
   ]
  },
  {
   "cell_type": "code",
   "execution_count": 44,
   "id": "e9b2330a",
   "metadata": {},
   "outputs": [
    {
     "data": {
      "text/plain": [
       "array([0, 2, 0, 0, 1, 2, 1, 0, 0, 2, 1, 0, 1, 1, 2, 0, 2, 1, 2, 2, 2, 2,\n",
       "       0, 2, 0, 2, 2, 0, 2, 0, 2, 1, 2, 2, 0, 0, 1, 0, 2, 0, 2, 2, 2, 2,\n",
       "       1, 1, 0, 1, 0, 1, 1, 1, 2, 0, 1, 1, 2, 2, 1, 1, 1, 2, 1, 1, 0, 2,\n",
       "       0, 0, 1, 1, 1, 1, 1, 0, 2, 2, 2, 2, 0, 0, 0, 0, 0, 0, 1, 0, 2, 0,\n",
       "       1, 0, 2, 1, 0, 2, 2, 1, 2, 0, 1, 2, 1, 2, 0, 1, 2, 2, 2, 0, 0, 0,\n",
       "       1, 2, 1, 0, 2, 2, 0, 1, 0, 1, 2, 0, 1, 0, 2, 2, 1, 0, 2, 1, 1, 2,\n",
       "       2, 0, 1, 1, 2, 2, 1, 0, 2, 1, 2, 2, 2, 2, 1, 1, 2, 2, 0, 2, 1, 2,\n",
       "       1, 1, 1, 2, 1, 1, 2, 1, 0, 1, 1, 2, 2, 2, 2, 1, 2, 0, 2, 2, 2, 0,\n",
       "       1, 1, 2, 2, 0, 1, 2, 2, 2, 2, 1, 0, 1, 2, 0, 2, 2, 2, 2, 1, 1, 1,\n",
       "       1, 1, 2, 0, 2, 0, 0, 0, 1, 1, 2, 2, 0, 0, 2, 0, 1, 1, 0, 0, 0, 1,\n",
       "       0, 0, 1, 0, 2, 1, 0, 0, 0, 0, 1, 1, 1, 0, 1, 2, 0, 0, 0, 2, 2, 0,\n",
       "       0, 0, 1, 2, 1, 2, 1, 0, 1, 0, 0, 0, 2, 1, 1, 1, 1, 0, 1, 0, 1, 1,\n",
       "       2, 1, 0, 1, 0, 2, 1, 1, 2, 1, 0, 0, 2, 2, 0, 1, 0, 2, 1, 1, 2, 0,\n",
       "       2, 0, 0, 1, 0, 2, 1, 2, 1, 2, 0, 0, 0, 0, 1, 0, 1, 0, 2, 1, 2, 0,\n",
       "       1, 2, 0, 2, 0, 0, 1, 0, 1, 1, 1, 0, 2, 1, 0, 0, 2, 1, 1, 0, 2, 2,\n",
       "       1, 0, 0, 1, 1, 0, 2, 2, 1, 1, 2, 2, 2, 1, 0, 0, 2, 1, 0, 1, 2, 1,\n",
       "       0, 2, 2, 2, 0, 0, 0, 1, 2, 2, 0, 0, 2, 2, 1, 2, 1, 2, 2, 0, 1, 0,\n",
       "       0, 0, 0, 1, 0, 0, 2, 2, 2, 1, 0, 2, 1, 0, 1, 1, 1, 0, 0, 0, 0, 0,\n",
       "       2, 1, 0, 1, 1, 0, 2, 1, 1, 2, 0, 1, 0, 1, 1, 0, 1, 0, 0, 1, 1, 2,\n",
       "       0, 2, 2, 1, 1, 0, 2, 0, 1, 1, 2, 0, 1, 0, 0, 1, 0, 2, 2, 0, 1, 1,\n",
       "       2, 2, 1, 0, 2, 0, 0, 0, 2, 2, 2, 1, 0, 2, 1, 2, 0, 2, 1, 2, 0, 1,\n",
       "       1, 1, 0, 1, 0, 0, 0, 2, 1, 0, 2, 0, 1, 2, 0, 0, 0, 1, 0, 0, 0, 1,\n",
       "       0, 1, 1, 2, 0, 0, 2, 2, 1, 2, 1, 1, 2, 0, 1, 0, 1, 0, 2, 1, 0, 2,\n",
       "       1, 1, 1, 2, 1, 0, 1, 2, 2, 1, 0, 0, 0, 0, 1, 1, 0, 0, 1, 2, 2, 1,\n",
       "       2, 0, 0, 0, 2, 2, 0, 0, 1, 1, 2, 2, 2, 0, 2, 2, 2, 1, 1, 2, 2, 1,\n",
       "       1, 1, 0, 0, 0, 1, 0, 2, 2, 0, 0, 1, 2])"
      ]
     },
     "execution_count": 44,
     "metadata": {},
     "output_type": "execute_result"
    }
   ],
   "source": [
    "y_pred"
   ]
  },
  {
   "cell_type": "code",
   "execution_count": 45,
   "id": "54603991",
   "metadata": {},
   "outputs": [
    {
     "name": "stdout",
     "output_type": "stream",
     "text": [
      "              precision    recall  f1-score   support\n",
      "\n",
      "           0       0.82      0.80      0.81       193\n",
      "           1       0.76      0.76      0.76       188\n",
      "           2       0.63      0.65      0.64       182\n",
      "\n",
      "    accuracy                           0.74       563\n",
      "   macro avg       0.74      0.74      0.74       563\n",
      "weighted avg       0.74      0.74      0.74       563\n",
      "\n"
     ]
    }
   ],
   "source": [
    "print(classification_report(y_pred, y_test))"
   ]
  },
  {
   "cell_type": "code",
   "execution_count": 51,
   "id": "9af78209",
   "metadata": {},
   "outputs": [],
   "source": [
    "from sklearn.metrics import confusion_matrix"
   ]
  },
  {
   "cell_type": "code",
   "execution_count": 59,
   "id": "701734ee",
   "metadata": {},
   "outputs": [
    {
     "data": {
      "text/plain": [
       "array([[155,   0,  33],\n",
       "       [ 15, 142,  31],\n",
       "       [ 23,  46, 118]], dtype=int64)"
      ]
     },
     "execution_count": 59,
     "metadata": {},
     "output_type": "execute_result"
    }
   ],
   "source": [
    "cm = confusion_matrix(y_test,y_pred)\n",
    "cm"
   ]
  },
  {
   "cell_type": "code",
   "execution_count": 65,
   "id": "a3703f4b",
   "metadata": {},
   "outputs": [
    {
     "name": "stderr",
     "output_type": "stream",
     "text": [
      "C:\\Users\\LENOVO\\anaconda3\\lib\\site-packages\\sklearn\\utils\\deprecation.py:87: FutureWarning: Function plot_confusion_matrix is deprecated; Function `plot_confusion_matrix` is deprecated in 1.0 and will be removed in 1.2. Use one of the class methods: ConfusionMatrixDisplay.from_predictions or ConfusionMatrixDisplay.from_estimator.\n",
      "  warnings.warn(msg, category=FutureWarning)\n"
     ]
    },
    {
     "data": {
      "image/png": "[encoded data removed]",
      "text/plain": [
       "<Figure size 432x288 with 2 Axes>"
      ]
     },
     "metadata": {
      "needs_background": "light"
     },
     "output_type": "display_data"
    }
   ],
   "source": [
    "from sklearn.metrics import plot_confusion_matrix\n",
    "plot_confusion_matrix(logreg,X_test,y_test,cmap='Blues')\n",
    "plt.grid(False)"
   ]
  },
  {
   "cell_type": "code",
   "execution_count": 67,
   "id": "1782cb61",
   "metadata": {},
   "outputs": [],
   "source": [
    "from sklearn import metrics"
   ]
  },
  {
   "cell_type": "code",
   "execution_count": null,
   "id": "0131ed9f",
   "metadata": {},
   "outputs": [],
   "source": []
  },
  {
   "cell_type": "code",
   "execution_count": 69,
   "id": "d4eea4c0",
   "metadata": {},
   "outputs": [
    {
     "name": "stdout",
     "output_type": "stream",
     "text": [
      "Accuracy :  0.5275310834813499\n",
      "Sensitivity :  1.0\n",
      "Specificity :  0.9044585987261147\n"
     ]
    }
   ],
   "source": [
    "accuracy1=(cm[0,0]+cm[1,1])/total\n",
    "print ('Accuracy : ', accuracy1)\n",
    "\n",
    "sensitivity1 = cm[0,0]/(cm[0,0]+cm[0,1])\n",
    "print('Sensitivity : ', sensitivity1 )\n",
    "\n",
    "specificity1 = cm[1,1]/(cm[1,0]+cm[1,1])\n",
    "print('Specificity : ', specificity1)"
   ]
  },
  {
   "cell_type": "code",
   "execution_count": 70,
   "id": "a6dbddee",
   "metadata": {},
   "outputs": [
    {
     "name": "stdout",
     "output_type": "stream",
     "text": [
      "Misclassification rate :  0.02664298401420959\n"
     ]
    }
   ],
   "source": [
    "m_rate = (cm[0,1]+cm[1,0])/total\n",
    "print(\"Misclassification rate : \", m_rate)"
   ]
  },
  {
   "cell_type": "code",
   "execution_count": null,
   "id": "c418de29",
   "metadata": {},
   "outputs": [],
   "source": []
  },
  {
   "cell_type": "code",
   "execution_count": null,
   "id": "5c806900",
   "metadata": {},
   "outputs": [],
   "source": []
  }
 ],
 "metadata": {
  "kernelspec": {
   "display_name": "Python 3 (ipykernel)",
   "language": "python",
   "name": "python3"
  },
  "language_info": {
   "codemirror_mode": {
    "name": "ipython",
    "version": 3
   },
   "file_extension": ".py",
   "mimetype": "text/x-python",
   "name": "python",
   "nbconvert_exporter": "python",
   "pygments_lexer": "ipython3",
   "version": "3.9.7"
  }
 },
 "nbformat": 4,
 "nbformat_minor": 5
}
