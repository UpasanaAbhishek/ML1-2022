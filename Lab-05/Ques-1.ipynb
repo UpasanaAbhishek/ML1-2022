{
 "cells": [
  {
   "cell_type": "markdown",
   "id": "1761d279",
   "metadata": {},
   "source": [
    "# Decision trees and Ensemble methods"
   ]
  },
  {
   "cell_type": "markdown",
   "id": "680eaf57",
   "metadata": {},
   "source": [
    "### Shruti Goyal\n",
    "### 21BDA51"
   ]
  },
  {
   "cell_type": "markdown",
   "id": "019600c9",
   "metadata": {},
   "source": [
    "#### QUES-1)  Apply boosting, bagging, and random forests to a data set of your choos-ing for a classification problem.  Fit the models on a train and test set.Evaluate your models, and compare your results against logistic regression and SVMs.  Which models produce better results?  Try to explain your results."
   ]
  },
  {
   "cell_type": "markdown",
   "id": "91f810be",
   "metadata": {},
   "source": [
    "Car Evaluation Database\n",
    "It is a multi-class classification problem. Task is to classify our dataset into 4 classes : Unacceptable, Acceptable, Good, Very-Good.\n",
    "\n",
    "Independent variables\n",
    "buying : buying price\n",
    "maint : maintenance price\n",
    "doors : number of doors\n",
    "persons : capacity in terms of persons to carry\n",
    "lug_boot : the size of luggage boot\n",
    "safety: estimated safety of the car\n",
    "Target Variable\n",
    "Class"
   ]
  },
  {
   "cell_type": "code",
   "execution_count": 1,
   "id": "a6be7a17",
   "metadata": {},
   "outputs": [],
   "source": [
    "import numpy as np\n",
    "import pandas as pd\n",
    "import matplotlib.pyplot as plt\n",
    "import seaborn as sns\n",
    "%matplotlib inline\n",
    "\n",
    "import warnings\n",
    "warnings.filterwarnings('ignore')"
   ]
  },
  {
   "cell_type": "code",
   "execution_count": 2,
   "id": "a049a47f",
   "metadata": {},
   "outputs": [],
   "source": [
    "data=pd.read_csv('C:/Users/91999/Downloads/car_evaluation.csv')"
   ]
  },
  {
   "cell_type": "code",
   "execution_count": 3,
   "id": "9ea6f29a",
   "metadata": {},
   "outputs": [
    {
     "data": {
      "text/html": [
       "<div>\n",
       "<style scoped>\n",
       "    .dataframe tbody tr th:only-of-type {\n",
       "        vertical-align: middle;\n",
       "    }\n",
       "\n",
       "    .dataframe tbody tr th {\n",
       "        vertical-align: top;\n",
       "    }\n",
       "\n",
       "    .dataframe thead th {\n",
       "        text-align: right;\n",
       "    }\n",
       "</style>\n",
       "<table border=\"1\" class=\"dataframe\">\n",
       "  <thead>\n",
       "    <tr style=\"text-align: right;\">\n",
       "      <th></th>\n",
       "      <th>buying</th>\n",
       "      <th>maint</th>\n",
       "      <th>doors</th>\n",
       "      <th>persons</th>\n",
       "      <th>lug_boot</th>\n",
       "      <th>safety</th>\n",
       "      <th>class</th>\n",
       "    </tr>\n",
       "  </thead>\n",
       "  <tbody>\n",
       "    <tr>\n",
       "      <th>0</th>\n",
       "      <td>vhigh</td>\n",
       "      <td>vhigh</td>\n",
       "      <td>2</td>\n",
       "      <td>2</td>\n",
       "      <td>small</td>\n",
       "      <td>low</td>\n",
       "      <td>unacc</td>\n",
       "    </tr>\n",
       "    <tr>\n",
       "      <th>1</th>\n",
       "      <td>vhigh</td>\n",
       "      <td>vhigh</td>\n",
       "      <td>2</td>\n",
       "      <td>2</td>\n",
       "      <td>small</td>\n",
       "      <td>med</td>\n",
       "      <td>unacc</td>\n",
       "    </tr>\n",
       "    <tr>\n",
       "      <th>2</th>\n",
       "      <td>vhigh</td>\n",
       "      <td>vhigh</td>\n",
       "      <td>2</td>\n",
       "      <td>2</td>\n",
       "      <td>small</td>\n",
       "      <td>high</td>\n",
       "      <td>unacc</td>\n",
       "    </tr>\n",
       "    <tr>\n",
       "      <th>3</th>\n",
       "      <td>vhigh</td>\n",
       "      <td>vhigh</td>\n",
       "      <td>2</td>\n",
       "      <td>2</td>\n",
       "      <td>med</td>\n",
       "      <td>low</td>\n",
       "      <td>unacc</td>\n",
       "    </tr>\n",
       "    <tr>\n",
       "      <th>4</th>\n",
       "      <td>vhigh</td>\n",
       "      <td>vhigh</td>\n",
       "      <td>2</td>\n",
       "      <td>2</td>\n",
       "      <td>med</td>\n",
       "      <td>med</td>\n",
       "      <td>unacc</td>\n",
       "    </tr>\n",
       "  </tbody>\n",
       "</table>\n",
       "</div>"
      ],
      "text/plain": [
       "  buying  maint doors persons lug_boot safety  class\n",
       "0  vhigh  vhigh     2       2    small    low  unacc\n",
       "1  vhigh  vhigh     2       2    small    med  unacc\n",
       "2  vhigh  vhigh     2       2    small   high  unacc\n",
       "3  vhigh  vhigh     2       2      med    low  unacc\n",
       "4  vhigh  vhigh     2       2      med    med  unacc"
      ]
     },
     "execution_count": 3,
     "metadata": {},
     "output_type": "execute_result"
    }
   ],
   "source": [
    "data.head()"
   ]
  },
  {
   "cell_type": "code",
   "execution_count": 4,
   "id": "f1f6240c",
   "metadata": {},
   "outputs": [
    {
     "name": "stdout",
     "output_type": "stream",
     "text": [
      "<class 'pandas.core.frame.DataFrame'>\n",
      "RangeIndex: 1728 entries, 0 to 1727\n",
      "Data columns (total 7 columns):\n",
      " #   Column    Non-Null Count  Dtype \n",
      "---  ------    --------------  ----- \n",
      " 0   buying    1728 non-null   object\n",
      " 1   maint     1728 non-null   object\n",
      " 2   doors     1728 non-null   object\n",
      " 3   persons   1728 non-null   object\n",
      " 4   lug_boot  1728 non-null   object\n",
      " 5   safety    1728 non-null   object\n",
      " 6   class     1728 non-null   object\n",
      "dtypes: object(7)\n",
      "memory usage: 94.6+ KB\n"
     ]
    }
   ],
   "source": [
    "data.info()"
   ]
  },
  {
   "cell_type": "code",
   "execution_count": 5,
   "id": "95dea743",
   "metadata": {},
   "outputs": [
    {
     "name": "stdout",
     "output_type": "stream",
     "text": [
      "['vhigh' 'high' 'med' 'low'] \t 4\n",
      "['vhigh' 'high' 'med' 'low'] \t 4\n",
      "['2' '3' '4' '5more'] \t 4\n",
      "['2' '4' 'more'] \t 3\n",
      "['small' 'med' 'big'] \t 3\n",
      "['low' 'med' 'high'] \t 3\n",
      "['unacc' 'acc' 'vgood' 'good'] \t 4\n"
     ]
    }
   ],
   "source": [
    "#Columns are categorical, check for unique values of each column\n",
    "\n",
    "for i in data.columns:\n",
    "    print(data[i].unique(),\"\\t\",data[i].nunique())"
   ]
  },
  {
   "cell_type": "code",
   "execution_count": 6,
   "id": "9b1f0213",
   "metadata": {},
   "outputs": [
    {
     "name": "stdout",
     "output_type": "stream",
     "text": [
      "med      432\n",
      "low      432\n",
      "high     432\n",
      "vhigh    432\n",
      "Name: buying, dtype: int64\n",
      "\n",
      "med      432\n",
      "low      432\n",
      "high     432\n",
      "vhigh    432\n",
      "Name: maint, dtype: int64\n",
      "\n",
      "2        432\n",
      "4        432\n",
      "5more    432\n",
      "3        432\n",
      "Name: doors, dtype: int64\n",
      "\n",
      "2       576\n",
      "more    576\n",
      "4       576\n",
      "Name: persons, dtype: int64\n",
      "\n",
      "med      576\n",
      "big      576\n",
      "small    576\n",
      "Name: lug_boot, dtype: int64\n",
      "\n",
      "med     576\n",
      "low     576\n",
      "high    576\n",
      "Name: safety, dtype: int64\n",
      "\n",
      "unacc    1210\n",
      "acc       384\n",
      "good       69\n",
      "vgood      65\n",
      "Name: class, dtype: int64\n",
      "\n"
     ]
    }
   ],
   "source": [
    "#Check how these unique categories are distributed among the columns\n",
    "\n",
    "for i in data.columns:\n",
    "    print(data[i].value_counts())\n",
    "    print()"
   ]
  },
  {
   "cell_type": "markdown",
   "id": "941a4535",
   "metadata": {},
   "source": [
    "From above output, it is clear that all the columns except 'class' are distributed equally among data."
   ]
  },
  {
   "cell_type": "code",
   "execution_count": 7,
   "id": "138b9758",
   "metadata": {},
   "outputs": [
    {
     "data": {
      "text/plain": [
       "<AxesSubplot:xlabel='class', ylabel='count'>"
      ]
     },
     "execution_count": 7,
     "metadata": {},
     "output_type": "execute_result"
    },
    {
     "data": {
      "image/png": "[encoded data removed]",
      "text/plain": [
       "<Figure size 432x288 with 1 Axes>"
      ]
     },
     "metadata": {
      "needs_background": "light"
     },
     "output_type": "display_data"
    }
   ],
   "source": [
    "# Class Distribution\n",
    "sns.countplot(data['class'])"
   ]
  },
  {
   "cell_type": "markdown",
   "id": "04becb82",
   "metadata": {},
   "source": [
    "It can be seen from the graph that the result 'class' is unbalanced with larger values of 'unacc'. So, this is an unbalanced multiclass classification problem."
   ]
  },
  {
   "cell_type": "code",
   "execution_count": 8,
   "id": "e65fa991",
   "metadata": {},
   "outputs": [],
   "source": [
    "from sklearn.preprocessing import LabelEncoder"
   ]
  },
  {
   "cell_type": "code",
   "execution_count": 9,
   "id": "0d4087e5",
   "metadata": {},
   "outputs": [],
   "source": [
    "le=LabelEncoder()"
   ]
  },
  {
   "cell_type": "code",
   "execution_count": 10,
   "id": "4252b7e6",
   "metadata": {},
   "outputs": [],
   "source": [
    "for i in data.columns:\n",
    "    data[i]=le.fit_transform(data[i])"
   ]
  },
  {
   "cell_type": "code",
   "execution_count": 11,
   "id": "6de09e63",
   "metadata": {},
   "outputs": [
    {
     "data": {
      "text/html": [
       "<div>\n",
       "<style scoped>\n",
       "    .dataframe tbody tr th:only-of-type {\n",
       "        vertical-align: middle;\n",
       "    }\n",
       "\n",
       "    .dataframe tbody tr th {\n",
       "        vertical-align: top;\n",
       "    }\n",
       "\n",
       "    .dataframe thead th {\n",
       "        text-align: right;\n",
       "    }\n",
       "</style>\n",
       "<table border=\"1\" class=\"dataframe\">\n",
       "  <thead>\n",
       "    <tr style=\"text-align: right;\">\n",
       "      <th></th>\n",
       "      <th>buying</th>\n",
       "      <th>maint</th>\n",
       "      <th>doors</th>\n",
       "      <th>persons</th>\n",
       "      <th>lug_boot</th>\n",
       "      <th>safety</th>\n",
       "      <th>class</th>\n",
       "    </tr>\n",
       "  </thead>\n",
       "  <tbody>\n",
       "    <tr>\n",
       "      <th>0</th>\n",
       "      <td>3</td>\n",
       "      <td>3</td>\n",
       "      <td>0</td>\n",
       "      <td>0</td>\n",
       "      <td>2</td>\n",
       "      <td>1</td>\n",
       "      <td>2</td>\n",
       "    </tr>\n",
       "    <tr>\n",
       "      <th>1</th>\n",
       "      <td>3</td>\n",
       "      <td>3</td>\n",
       "      <td>0</td>\n",
       "      <td>0</td>\n",
       "      <td>2</td>\n",
       "      <td>2</td>\n",
       "      <td>2</td>\n",
       "    </tr>\n",
       "    <tr>\n",
       "      <th>2</th>\n",
       "      <td>3</td>\n",
       "      <td>3</td>\n",
       "      <td>0</td>\n",
       "      <td>0</td>\n",
       "      <td>2</td>\n",
       "      <td>0</td>\n",
       "      <td>2</td>\n",
       "    </tr>\n",
       "    <tr>\n",
       "      <th>3</th>\n",
       "      <td>3</td>\n",
       "      <td>3</td>\n",
       "      <td>0</td>\n",
       "      <td>0</td>\n",
       "      <td>1</td>\n",
       "      <td>1</td>\n",
       "      <td>2</td>\n",
       "    </tr>\n",
       "    <tr>\n",
       "      <th>4</th>\n",
       "      <td>3</td>\n",
       "      <td>3</td>\n",
       "      <td>0</td>\n",
       "      <td>0</td>\n",
       "      <td>1</td>\n",
       "      <td>2</td>\n",
       "      <td>2</td>\n",
       "    </tr>\n",
       "  </tbody>\n",
       "</table>\n",
       "</div>"
      ],
      "text/plain": [
       "   buying  maint  doors  persons  lug_boot  safety  class\n",
       "0       3      3      0        0         2       1      2\n",
       "1       3      3      0        0         2       2      2\n",
       "2       3      3      0        0         2       0      2\n",
       "3       3      3      0        0         1       1      2\n",
       "4       3      3      0        0         1       2      2"
      ]
     },
     "execution_count": 11,
     "metadata": {},
     "output_type": "execute_result"
    }
   ],
   "source": [
    "data.head()"
   ]
  },
  {
   "cell_type": "code",
   "execution_count": 12,
   "id": "b07fc3d5",
   "metadata": {},
   "outputs": [
    {
     "data": {
      "text/plain": [
       "<AxesSubplot:>"
      ]
     },
     "execution_count": 12,
     "metadata": {},
     "output_type": "execute_result"
    },
    {
     "data": {
      "image/png": "[encoded data removed]",
      "text/plain": [
       "<Figure size 720x432 with 2 Axes>"
      ]
     },
     "metadata": {
      "needs_background": "light"
     },
     "output_type": "display_data"
    }
   ],
   "source": [
    "# Correlation matrix\n",
    "\n",
    "fig=plt.figure(figsize=(10,6))\n",
    "sns.heatmap(data.corr(),annot=True)"
   ]
  },
  {
   "cell_type": "markdown",
   "id": "31ec2d0c",
   "metadata": {},
   "source": [
    "Most of the columns show very weak correlation with 'class' So, doing any analysis on them may not give any productive output."
   ]
  },
  {
   "cell_type": "code",
   "execution_count": 13,
   "id": "1927fcbe",
   "metadata": {},
   "outputs": [],
   "source": [
    "X=data[data.columns[:-1]]\n",
    "y=data['class']"
   ]
  },
  {
   "cell_type": "code",
   "execution_count": 14,
   "id": "2bbde5f6",
   "metadata": {},
   "outputs": [
    {
     "data": {
      "text/html": [
       "<div>\n",
       "<style scoped>\n",
       "    .dataframe tbody tr th:only-of-type {\n",
       "        vertical-align: middle;\n",
       "    }\n",
       "\n",
       "    .dataframe tbody tr th {\n",
       "        vertical-align: top;\n",
       "    }\n",
       "\n",
       "    .dataframe thead th {\n",
       "        text-align: right;\n",
       "    }\n",
       "</style>\n",
       "<table border=\"1\" class=\"dataframe\">\n",
       "  <thead>\n",
       "    <tr style=\"text-align: right;\">\n",
       "      <th></th>\n",
       "      <th>buying</th>\n",
       "      <th>maint</th>\n",
       "      <th>doors</th>\n",
       "      <th>persons</th>\n",
       "      <th>lug_boot</th>\n",
       "      <th>safety</th>\n",
       "    </tr>\n",
       "  </thead>\n",
       "  <tbody>\n",
       "    <tr>\n",
       "      <th>0</th>\n",
       "      <td>3</td>\n",
       "      <td>3</td>\n",
       "      <td>0</td>\n",
       "      <td>0</td>\n",
       "      <td>2</td>\n",
       "      <td>1</td>\n",
       "    </tr>\n",
       "    <tr>\n",
       "      <th>1</th>\n",
       "      <td>3</td>\n",
       "      <td>3</td>\n",
       "      <td>0</td>\n",
       "      <td>0</td>\n",
       "      <td>2</td>\n",
       "      <td>2</td>\n",
       "    </tr>\n",
       "  </tbody>\n",
       "</table>\n",
       "</div>"
      ],
      "text/plain": [
       "   buying  maint  doors  persons  lug_boot  safety\n",
       "0       3      3      0        0         2       1\n",
       "1       3      3      0        0         2       2"
      ]
     },
     "execution_count": 14,
     "metadata": {},
     "output_type": "execute_result"
    }
   ],
   "source": [
    "X.head(2)"
   ]
  },
  {
   "cell_type": "code",
   "execution_count": 15,
   "id": "55524c06",
   "metadata": {},
   "outputs": [],
   "source": [
    "from sklearn.model_selection import train_test_split\n",
    "X_train, X_test, y_train, y_test = train_test_split(X, y, test_size=0.3, random_state=42)"
   ]
  },
  {
   "cell_type": "markdown",
   "id": "2929bf84",
   "metadata": {},
   "source": [
    "#### Modeling"
   ]
  },
  {
   "cell_type": "code",
   "execution_count": 16,
   "id": "902c4126",
   "metadata": {},
   "outputs": [],
   "source": [
    "from sklearn.model_selection import learning_curve\n",
    "from sklearn.linear_model import LogisticRegression\n",
    "from sklearn.model_selection import cross_val_score\n",
    "from sklearn.metrics import classification_report, confusion_matrix\n",
    "from sklearn.metrics import recall_score, precision_score, accuracy_score, plot_confusion_matrix, classification_report, f1_score"
   ]
  },
  {
   "cell_type": "code",
   "execution_count": 17,
   "id": "45520d99",
   "metadata": {},
   "outputs": [],
   "source": [
    "def evaluation_parametrics(y_train,yp_train,y_test,yp_test):\n",
    "  print(\"--------------------------------------------------------------------------\")\n",
    "  print(\"Classification Report for Train Data\")\n",
    "  print(classification_report(y_train, yp_train))\n",
    "  print(\"Classification Report for Test Data\")\n",
    "  print(classification_report(y_test, yp_test))\n",
    "  print(\"--------------------------------------------------------------------------\")\n",
    "  # Accuracy\n",
    "  print(\"Accuracy on Train Data is: {}\".format(round(accuracy_score(y_train,yp_train),2)))\n",
    "  print(\"Accuracy on Test Data is: {}\".format(round(accuracy_score(y_test,yp_test),2)))\n",
    "  print(\"--------------------------------------------------------------------------\")\n",
    "  # Precision\n",
    "  print(\"Precision on Train Data is: {}\".format(round(precision_score(y_train,yp_train,average = \"weighted\"),2)))\n",
    "  print(\"Precision on Test Data is: {}\".format(round(precision_score(y_test,yp_test,average = \"weighted\"),2)))\n",
    "  print(\"--------------------------------------------------------------------------\")\n",
    "  # Recall \n",
    "  print(\"Recall on Train Data is: {}\".format(round(recall_score(y_train,yp_train,average = \"weighted\"),2)))\n",
    "  print(\"Recall on Test Data is: {}\".format(round(recall_score(y_test,yp_test,average = \"weighted\"),2)))\n",
    "  print(\"--------------------------------------------------------------------------\")\n",
    "  # F1 Score\n",
    "  print(\"F1 Score on Train Data is: {}\".format(round(f1_score(y_train,yp_train,average = \"weighted\"),2)))\n",
    "  print(\"F1 Score on Test Data is: {}\".format(round(f1_score(y_test,yp_test,average = \"weighted\"),2)))\n",
    "  print(\"--------------------------------------------------------------------------\")"
   ]
  },
  {
   "cell_type": "markdown",
   "id": "11a74e32",
   "metadata": {},
   "source": [
    "### 1) Random Forests Classifier"
   ]
  },
  {
   "cell_type": "code",
   "execution_count": 18,
   "id": "a98b5331",
   "metadata": {},
   "outputs": [],
   "source": [
    "from sklearn.ensemble import RandomForestClassifier\n",
    "from sklearn.metrics import f1_score"
   ]
  },
  {
   "cell_type": "code",
   "execution_count": 19,
   "id": "65b7fc90",
   "metadata": {},
   "outputs": [
    {
     "name": "stdout",
     "output_type": "stream",
     "text": [
      "--------------------------------------------------------------------------\n",
      "Classification Report for Train Data\n",
      "              precision    recall  f1-score   support\n",
      "\n",
      "           0       0.85      0.93      0.89       266\n",
      "           1       1.00      0.20      0.33        50\n",
      "           2       0.98      1.00      0.99       852\n",
      "           3       0.97      0.90      0.94        41\n",
      "\n",
      "    accuracy                           0.95      1209\n",
      "   macro avg       0.95      0.76      0.79      1209\n",
      "weighted avg       0.95      0.95      0.94      1209\n",
      "\n",
      "Classification Report for Test Data\n",
      "              precision    recall  f1-score   support\n",
      "\n",
      "           0       0.81      0.86      0.83       118\n",
      "           1       1.00      0.11      0.19        19\n",
      "           2       0.95      0.99      0.97       358\n",
      "           3       1.00      0.88      0.93        24\n",
      "\n",
      "    accuracy                           0.92       519\n",
      "   macro avg       0.94      0.71      0.73       519\n",
      "weighted avg       0.93      0.92      0.91       519\n",
      "\n",
      "--------------------------------------------------------------------------\n",
      "Accuracy on Train Data is: 0.95\n",
      "Accuracy on Test Data is: 0.92\n",
      "--------------------------------------------------------------------------\n",
      "Precision on Train Data is: 0.95\n",
      "Precision on Test Data is: 0.93\n",
      "--------------------------------------------------------------------------\n",
      "Recall on Train Data is: 0.95\n",
      "Recall on Test Data is: 0.92\n",
      "--------------------------------------------------------------------------\n",
      "F1 Score on Train Data is: 0.94\n",
      "F1 Score on Test Data is: 0.91\n",
      "--------------------------------------------------------------------------\n"
     ]
    }
   ],
   "source": [
    "rf = RandomForestClassifier(max_depth = 7,random_state = 48) # Keeping max_depth = 7 same as DT\n",
    "rf.fit(X_train,y_train)\n",
    "\n",
    "yp_train = rf.predict(X_train)\n",
    "yp_test = rf.predict(X_test)\n",
    "\n",
    "evaluation_parametrics(y_train,yp_train,y_test,yp_test)"
   ]
  },
  {
   "cell_type": "markdown",
   "id": "1276238c",
   "metadata": {},
   "source": [
    "### 2) Bagging"
   ]
  },
  {
   "cell_type": "code",
   "execution_count": 20,
   "id": "ef1238c1",
   "metadata": {},
   "outputs": [
    {
     "name": "stdout",
     "output_type": "stream",
     "text": [
      "--------------------------------------------------------------------------\n",
      "Classification Report for Train Data\n",
      "              precision    recall  f1-score   support\n",
      "\n",
      "           0       1.00      1.00      1.00       266\n",
      "           1       1.00      1.00      1.00        50\n",
      "           2       1.00      1.00      1.00       852\n",
      "           3       1.00      1.00      1.00        41\n",
      "\n",
      "    accuracy                           1.00      1209\n",
      "   macro avg       1.00      1.00      1.00      1209\n",
      "weighted avg       1.00      1.00      1.00      1209\n",
      "\n",
      "Classification Report for Test Data\n",
      "              precision    recall  f1-score   support\n",
      "\n",
      "           0       0.94      0.92      0.93       118\n",
      "           1       0.71      0.79      0.75        19\n",
      "           2       0.99      1.00      0.99       358\n",
      "           3       0.91      0.88      0.89        24\n",
      "\n",
      "    accuracy                           0.97       519\n",
      "   macro avg       0.89      0.89      0.89       519\n",
      "weighted avg       0.97      0.97      0.97       519\n",
      "\n",
      "--------------------------------------------------------------------------\n",
      "Accuracy on Train Data is: 1.0\n",
      "Accuracy on Test Data is: 0.97\n",
      "--------------------------------------------------------------------------\n",
      "Precision on Train Data is: 1.0\n",
      "Precision on Test Data is: 0.97\n",
      "--------------------------------------------------------------------------\n",
      "Recall on Train Data is: 1.0\n",
      "Recall on Test Data is: 0.97\n",
      "--------------------------------------------------------------------------\n",
      "F1 Score on Train Data is: 1.0\n",
      "F1 Score on Test Data is: 0.97\n",
      "--------------------------------------------------------------------------\n"
     ]
    }
   ],
   "source": [
    "from sklearn.ensemble import BaggingClassifier\n",
    "\n",
    "tree =  RandomForestClassifier()\n",
    "bagging_clf = BaggingClassifier(base_estimator=tree, n_estimators=1500, random_state=42)\n",
    "bagging_clf.fit(X_train, y_train)\n",
    "\n",
    "yp_train = bagging_clf.predict(X_train)\n",
    "yp_test = bagging_clf.predict(X_test)\n",
    "\n",
    "evaluation_parametrics(y_train,yp_train,y_test,yp_test)"
   ]
  },
  {
   "cell_type": "markdown",
   "id": "d39b2080",
   "metadata": {},
   "source": [
    "### 3) AdaBoost"
   ]
  },
  {
   "cell_type": "code",
   "execution_count": 21,
   "id": "d2e79367",
   "metadata": {},
   "outputs": [
    {
     "name": "stdout",
     "output_type": "stream",
     "text": [
      "--------------------------------------------------------------------------\n",
      "Classification Report for Train Data\n",
      "              precision    recall  f1-score   support\n",
      "\n",
      "           0       0.62      0.52      0.56       266\n",
      "           1       0.38      0.88      0.53        50\n",
      "           2       0.88      0.84      0.86       852\n",
      "           3       0.67      1.00      0.80        41\n",
      "\n",
      "    accuracy                           0.78      1209\n",
      "   macro avg       0.64      0.81      0.69      1209\n",
      "weighted avg       0.80      0.78      0.78      1209\n",
      "\n",
      "Classification Report for Test Data\n",
      "              precision    recall  f1-score   support\n",
      "\n",
      "           0       0.59      0.48      0.53       118\n",
      "           1       0.37      0.84      0.52        19\n",
      "           2       0.88      0.85      0.86       358\n",
      "           3       0.69      1.00      0.81        24\n",
      "\n",
      "    accuracy                           0.77       519\n",
      "   macro avg       0.63      0.79      0.68       519\n",
      "weighted avg       0.79      0.77      0.77       519\n",
      "\n",
      "--------------------------------------------------------------------------\n",
      "Accuracy on Train Data is: 0.78\n",
      "Accuracy on Test Data is: 0.77\n",
      "--------------------------------------------------------------------------\n",
      "Precision on Train Data is: 0.8\n",
      "Precision on Test Data is: 0.79\n",
      "--------------------------------------------------------------------------\n",
      "Recall on Train Data is: 0.78\n",
      "Recall on Test Data is: 0.77\n",
      "--------------------------------------------------------------------------\n",
      "F1 Score on Train Data is: 0.78\n",
      "F1 Score on Test Data is: 0.77\n",
      "--------------------------------------------------------------------------\n"
     ]
    }
   ],
   "source": [
    "from sklearn.ensemble import AdaBoostClassifier\n",
    "\n",
    "ada_boost_clf = AdaBoostClassifier(n_estimators=30)\n",
    "ada_boost_clf.fit(X_train, y_train)\n",
    "\n",
    "yp_train = ada_boost_clf.predict(X_train)\n",
    "yp_test = ada_boost_clf.predict(X_test)\n",
    "\n",
    "evaluation_parametrics(y_train,yp_train,y_test,yp_test)"
   ]
  },
  {
   "cell_type": "markdown",
   "id": "82613f8f",
   "metadata": {},
   "source": [
    "### 4) Gradient Boosting"
   ]
  },
  {
   "cell_type": "code",
   "execution_count": 22,
   "id": "e61833d2",
   "metadata": {},
   "outputs": [
    {
     "name": "stdout",
     "output_type": "stream",
     "text": [
      "--------------------------------------------------------------------------\n",
      "Classification Report for Train Data\n",
      "              precision    recall  f1-score   support\n",
      "\n",
      "           0       0.98      0.99      0.99       266\n",
      "           1       0.94      1.00      0.97        50\n",
      "           2       1.00      0.99      1.00       852\n",
      "           3       1.00      1.00      1.00        41\n",
      "\n",
      "    accuracy                           0.99      1209\n",
      "   macro avg       0.98      1.00      0.99      1209\n",
      "weighted avg       0.99      0.99      0.99      1209\n",
      "\n",
      "Classification Report for Test Data\n",
      "              precision    recall  f1-score   support\n",
      "\n",
      "           0       0.97      0.93      0.95       118\n",
      "           1       0.72      0.95      0.82        19\n",
      "           2       1.00      0.99      1.00       358\n",
      "           3       0.92      0.96      0.94        24\n",
      "\n",
      "    accuracy                           0.98       519\n",
      "   macro avg       0.90      0.96      0.93       519\n",
      "weighted avg       0.98      0.98      0.98       519\n",
      "\n",
      "--------------------------------------------------------------------------\n",
      "Accuracy on Train Data is: 0.99\n",
      "Accuracy on Test Data is: 0.98\n",
      "--------------------------------------------------------------------------\n",
      "Precision on Train Data is: 0.99\n",
      "Precision on Test Data is: 0.98\n",
      "--------------------------------------------------------------------------\n",
      "Recall on Train Data is: 0.99\n",
      "Recall on Test Data is: 0.98\n",
      "--------------------------------------------------------------------------\n",
      "F1 Score on Train Data is: 0.99\n",
      "F1 Score on Test Data is: 0.98\n",
      "--------------------------------------------------------------------------\n"
     ]
    }
   ],
   "source": [
    "from sklearn.ensemble import GradientBoostingClassifier\n",
    "\n",
    "grad_boost_clf = GradientBoostingClassifier(n_estimators=100, random_state=42)\n",
    "grad_boost_clf.fit(X_train, y_train)\n",
    "\n",
    "yp_train = grad_boost_clf.predict(X_train)\n",
    "yp_test = grad_boost_clf.predict(X_test)\n",
    "\n",
    "evaluation_parametrics(y_train,yp_train,y_test,yp_test)"
   ]
  },
  {
   "cell_type": "markdown",
   "id": "dd394479",
   "metadata": {},
   "source": [
    "### 5) Logistic Regression"
   ]
  },
  {
   "cell_type": "code",
   "execution_count": 23,
   "id": "ee489485",
   "metadata": {},
   "outputs": [
    {
     "name": "stdout",
     "output_type": "stream",
     "text": [
      "--------------------------------------------------------------------------\n",
      "Classification Report for Train Data\n",
      "              precision    recall  f1-score   support\n",
      "\n",
      "           0       0.41      0.21      0.28       266\n",
      "           1       0.00      0.00      0.00        50\n",
      "           2       0.75      0.92      0.83       852\n",
      "           3       0.42      0.24      0.31        41\n",
      "\n",
      "    accuracy                           0.71      1209\n",
      "   macro avg       0.39      0.35      0.35      1209\n",
      "weighted avg       0.63      0.71      0.66      1209\n",
      "\n",
      "Classification Report for Test Data\n",
      "              precision    recall  f1-score   support\n",
      "\n",
      "           0       0.30      0.18      0.22       118\n",
      "           1       0.00      0.00      0.00        19\n",
      "           2       0.73      0.90      0.81       358\n",
      "           3       0.14      0.04      0.06        24\n",
      "\n",
      "    accuracy                           0.66       519\n",
      "   macro avg       0.29      0.28      0.27       519\n",
      "weighted avg       0.58      0.66      0.61       519\n",
      "\n",
      "--------------------------------------------------------------------------\n",
      "Accuracy on Train Data is: 0.71\n",
      "Accuracy on Test Data is: 0.66\n",
      "--------------------------------------------------------------------------\n",
      "Precision on Train Data is: 0.63\n",
      "Precision on Test Data is: 0.58\n",
      "--------------------------------------------------------------------------\n",
      "Recall on Train Data is: 0.71\n",
      "Recall on Test Data is: 0.66\n",
      "--------------------------------------------------------------------------\n",
      "F1 Score on Train Data is: 0.66\n",
      "F1 Score on Test Data is: 0.61\n",
      "--------------------------------------------------------------------------\n"
     ]
    }
   ],
   "source": [
    "lr = LogisticRegression(max_iter = 1000,random_state = 48)\n",
    "lr.fit(X_train,y_train)\n",
    "\n",
    "yp_train = lr.predict(X_train)\n",
    "yp_test = lr.predict(X_test)\n",
    "\n",
    "evaluation_parametrics(y_train,yp_train,y_test,yp_test)"
   ]
  },
  {
   "cell_type": "markdown",
   "id": "b9a31a13",
   "metadata": {},
   "source": [
    "### 6) Support Vector Machine"
   ]
  },
  {
   "cell_type": "code",
   "execution_count": 24,
   "id": "9b7c47bd",
   "metadata": {},
   "outputs": [
    {
     "name": "stdout",
     "output_type": "stream",
     "text": [
      "--------------------------------------------------------------------------\n",
      "Classification Report for Train Data\n",
      "              precision    recall  f1-score   support\n",
      "\n",
      "           0       0.83      0.78      0.80       266\n",
      "           1       1.00      0.28      0.44        50\n",
      "           2       0.93      1.00      0.96       852\n",
      "           3       0.97      0.90      0.94        41\n",
      "\n",
      "    accuracy                           0.91      1209\n",
      "   macro avg       0.93      0.74      0.79      1209\n",
      "weighted avg       0.92      0.91      0.91      1209\n",
      "\n",
      "Classification Report for Test Data\n",
      "              precision    recall  f1-score   support\n",
      "\n",
      "           0       0.82      0.70      0.76       118\n",
      "           1       1.00      0.21      0.35        19\n",
      "           2       0.91      0.99      0.95       358\n",
      "           3       0.88      0.88      0.88        24\n",
      "\n",
      "    accuracy                           0.89       519\n",
      "   macro avg       0.90      0.70      0.73       519\n",
      "weighted avg       0.89      0.89      0.88       519\n",
      "\n",
      "--------------------------------------------------------------------------\n",
      "Accuracy on Train Data is: 0.91\n",
      "Accuracy on Test Data is: 0.89\n",
      "--------------------------------------------------------------------------\n",
      "Precision on Train Data is: 0.92\n",
      "Precision on Test Data is: 0.89\n",
      "--------------------------------------------------------------------------\n",
      "Recall on Train Data is: 0.91\n",
      "Recall on Test Data is: 0.89\n",
      "--------------------------------------------------------------------------\n",
      "F1 Score on Train Data is: 0.91\n",
      "F1 Score on Test Data is: 0.88\n",
      "--------------------------------------------------------------------------\n"
     ]
    }
   ],
   "source": [
    "from sklearn import svm\n",
    "\n",
    "sv = svm.SVC()\n",
    "sv.fit(X_train,y_train)\n",
    "\n",
    "yp_train = sv.predict(X_train)\n",
    "yp_test = sv.predict(X_test)\n",
    "\n",
    "evaluation_parametrics(y_train,yp_train,y_test,yp_test)"
   ]
  },
  {
   "cell_type": "markdown",
   "id": "91f47845",
   "metadata": {},
   "source": [
    "### Based on the accuracy of testing and training data, we can say that bagging outperform all the other classification models."
   ]
  },
  {
   "cell_type": "code",
   "execution_count": null,
   "id": "8117e355",
   "metadata": {},
   "outputs": [],
   "source": []
  }
 ],
 "metadata": {
  "kernelspec": {
   "display_name": "Python 3",
   "language": "python",
   "name": "python3"
  },
  "language_info": {
   "codemirror_mode": {
    "name": "ipython",
    "version": 3
   },
   "file_extension": ".py",
   "mimetype": "text/x-python",
   "name": "python",
   "nbconvert_exporter": "python",
   "pygments_lexer": "ipython3",
   "version": "3.8.8"
  }
 },
 "nbformat": 4,
 "nbformat_minor": 5
}
