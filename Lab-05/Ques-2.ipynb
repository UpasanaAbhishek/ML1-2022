{
 "cells": [
  {
   "cell_type": "markdown",
   "id": "400f5db2",
   "metadata": {},
   "source": [
    "# Decision trees and Ensemble methods"
   ]
  },
  {
   "cell_type": "markdown",
   "id": "af08c303",
   "metadata": {},
   "source": [
    "### Shruti Goyal\n",
    "### 21BDA51"
   ]
  },
  {
   "cell_type": "markdown",
   "id": "6b071234",
   "metadata": {},
   "source": [
    "#### Ques2)  ”https://www.kaggle.com/datasets/uciml/caravan-insurance-challenge” Onthe provided data set fit a boosting model.  Which predictors seem to be the most important?  Predict if the person will buy insurace or not.  Com-pare your results with logistic regression and KNN. Explain your obser-vations."
   ]
  },
  {
   "cell_type": "code",
   "execution_count": 1,
   "id": "07a68072",
   "metadata": {},
   "outputs": [],
   "source": [
    "import pandas as pd\n",
    "import numpy as np\n",
    "from sklearn.model_selection import train_test_split\n",
    "import matplotlib.pyplot as plt\n",
    "import seaborn as sns\n",
    "\n",
    "import warnings\n",
    "warnings.filterwarnings('ignore')"
   ]
  },
  {
   "cell_type": "code",
   "execution_count": 2,
   "id": "cd6230d9",
   "metadata": {},
   "outputs": [
    {
     "data": {
      "text/html": [
       "<div>\n",
       "<style scoped>\n",
       "    .dataframe tbody tr th:only-of-type {\n",
       "        vertical-align: middle;\n",
       "    }\n",
       "\n",
       "    .dataframe tbody tr th {\n",
       "        vertical-align: top;\n",
       "    }\n",
       "\n",
       "    .dataframe thead th {\n",
       "        text-align: right;\n",
       "    }\n",
       "</style>\n",
       "<table border=\"1\" class=\"dataframe\">\n",
       "  <thead>\n",
       "    <tr style=\"text-align: right;\">\n",
       "      <th></th>\n",
       "      <th>ORIGIN</th>\n",
       "      <th>MOSTYPE</th>\n",
       "      <th>MAANTHUI</th>\n",
       "      <th>MGEMOMV</th>\n",
       "      <th>MGEMLEEF</th>\n",
       "      <th>MOSHOOFD</th>\n",
       "      <th>MGODRK</th>\n",
       "      <th>MGODPR</th>\n",
       "      <th>MGODOV</th>\n",
       "      <th>MGODGE</th>\n",
       "      <th>...</th>\n",
       "      <th>APERSONG</th>\n",
       "      <th>AGEZONG</th>\n",
       "      <th>AWAOREG</th>\n",
       "      <th>ABRAND</th>\n",
       "      <th>AZEILPL</th>\n",
       "      <th>APLEZIER</th>\n",
       "      <th>AFIETS</th>\n",
       "      <th>AINBOED</th>\n",
       "      <th>ABYSTAND</th>\n",
       "      <th>CARAVAN</th>\n",
       "    </tr>\n",
       "  </thead>\n",
       "  <tbody>\n",
       "    <tr>\n",
       "      <th>0</th>\n",
       "      <td>train</td>\n",
       "      <td>33</td>\n",
       "      <td>1</td>\n",
       "      <td>3</td>\n",
       "      <td>2</td>\n",
       "      <td>8</td>\n",
       "      <td>0</td>\n",
       "      <td>5</td>\n",
       "      <td>1</td>\n",
       "      <td>3</td>\n",
       "      <td>...</td>\n",
       "      <td>0</td>\n",
       "      <td>0</td>\n",
       "      <td>0</td>\n",
       "      <td>1</td>\n",
       "      <td>0</td>\n",
       "      <td>0</td>\n",
       "      <td>0</td>\n",
       "      <td>0</td>\n",
       "      <td>0</td>\n",
       "      <td>0</td>\n",
       "    </tr>\n",
       "    <tr>\n",
       "      <th>1</th>\n",
       "      <td>train</td>\n",
       "      <td>37</td>\n",
       "      <td>1</td>\n",
       "      <td>2</td>\n",
       "      <td>2</td>\n",
       "      <td>8</td>\n",
       "      <td>1</td>\n",
       "      <td>4</td>\n",
       "      <td>1</td>\n",
       "      <td>4</td>\n",
       "      <td>...</td>\n",
       "      <td>0</td>\n",
       "      <td>0</td>\n",
       "      <td>0</td>\n",
       "      <td>1</td>\n",
       "      <td>0</td>\n",
       "      <td>0</td>\n",
       "      <td>0</td>\n",
       "      <td>0</td>\n",
       "      <td>0</td>\n",
       "      <td>0</td>\n",
       "    </tr>\n",
       "    <tr>\n",
       "      <th>2</th>\n",
       "      <td>train</td>\n",
       "      <td>37</td>\n",
       "      <td>1</td>\n",
       "      <td>2</td>\n",
       "      <td>2</td>\n",
       "      <td>8</td>\n",
       "      <td>0</td>\n",
       "      <td>4</td>\n",
       "      <td>2</td>\n",
       "      <td>4</td>\n",
       "      <td>...</td>\n",
       "      <td>0</td>\n",
       "      <td>0</td>\n",
       "      <td>0</td>\n",
       "      <td>1</td>\n",
       "      <td>0</td>\n",
       "      <td>0</td>\n",
       "      <td>0</td>\n",
       "      <td>0</td>\n",
       "      <td>0</td>\n",
       "      <td>0</td>\n",
       "    </tr>\n",
       "    <tr>\n",
       "      <th>3</th>\n",
       "      <td>train</td>\n",
       "      <td>9</td>\n",
       "      <td>1</td>\n",
       "      <td>3</td>\n",
       "      <td>3</td>\n",
       "      <td>3</td>\n",
       "      <td>2</td>\n",
       "      <td>3</td>\n",
       "      <td>2</td>\n",
       "      <td>4</td>\n",
       "      <td>...</td>\n",
       "      <td>0</td>\n",
       "      <td>0</td>\n",
       "      <td>0</td>\n",
       "      <td>1</td>\n",
       "      <td>0</td>\n",
       "      <td>0</td>\n",
       "      <td>0</td>\n",
       "      <td>0</td>\n",
       "      <td>0</td>\n",
       "      <td>0</td>\n",
       "    </tr>\n",
       "    <tr>\n",
       "      <th>4</th>\n",
       "      <td>train</td>\n",
       "      <td>40</td>\n",
       "      <td>1</td>\n",
       "      <td>4</td>\n",
       "      <td>2</td>\n",
       "      <td>10</td>\n",
       "      <td>1</td>\n",
       "      <td>4</td>\n",
       "      <td>1</td>\n",
       "      <td>4</td>\n",
       "      <td>...</td>\n",
       "      <td>0</td>\n",
       "      <td>0</td>\n",
       "      <td>0</td>\n",
       "      <td>1</td>\n",
       "      <td>0</td>\n",
       "      <td>0</td>\n",
       "      <td>0</td>\n",
       "      <td>0</td>\n",
       "      <td>0</td>\n",
       "      <td>0</td>\n",
       "    </tr>\n",
       "  </tbody>\n",
       "</table>\n",
       "<p>5 rows × 87 columns</p>\n",
       "</div>"
      ],
      "text/plain": [
       "  ORIGIN  MOSTYPE  MAANTHUI  MGEMOMV  MGEMLEEF  MOSHOOFD  MGODRK  MGODPR  \\\n",
       "0  train       33         1        3         2         8       0       5   \n",
       "1  train       37         1        2         2         8       1       4   \n",
       "2  train       37         1        2         2         8       0       4   \n",
       "3  train        9         1        3         3         3       2       3   \n",
       "4  train       40         1        4         2        10       1       4   \n",
       "\n",
       "   MGODOV  MGODGE  ...  APERSONG  AGEZONG  AWAOREG  ABRAND  AZEILPL  APLEZIER  \\\n",
       "0       1       3  ...         0        0        0       1        0         0   \n",
       "1       1       4  ...         0        0        0       1        0         0   \n",
       "2       2       4  ...         0        0        0       1        0         0   \n",
       "3       2       4  ...         0        0        0       1        0         0   \n",
       "4       1       4  ...         0        0        0       1        0         0   \n",
       "\n",
       "   AFIETS  AINBOED  ABYSTAND  CARAVAN  \n",
       "0       0        0         0        0  \n",
       "1       0        0         0        0  \n",
       "2       0        0         0        0  \n",
       "3       0        0         0        0  \n",
       "4       0        0         0        0  \n",
       "\n",
       "[5 rows x 87 columns]"
      ]
     },
     "execution_count": 2,
     "metadata": {},
     "output_type": "execute_result"
    }
   ],
   "source": [
    "df = pd.read_csv('C:/Users/91999/Downloads/caravan-insurance-challenge.csv')\n",
    "df.head()"
   ]
  },
  {
   "cell_type": "code",
   "execution_count": 3,
   "id": "48bb4f67",
   "metadata": {},
   "outputs": [],
   "source": [
    "labels = ['ORIGIN', 'CustomerSubtype', 'NumberOfHouses1', 'AvgSizeHousehold1', 'AvgAge', 'CustomerMainType', 'RomanCatholic', 'Protestant...', 'OtherReligion', 'NoReligion', 'Married', 'LivingTogether', 'OtherRelation', 'Singles', 'HouseholdWithoutChildren', 'HouseholdWithChildren', 'HighLevelEducation', 'MediumLevelEducation', 'LowerLevelEducation', 'HighStatus', 'Entrepreneur', 'Farmer', 'MiddleManagement', 'SkilledLabourers', 'UnskilledLabourers', 'SocialClassA', 'SocialClassB1', 'SocialClassB2', 'SocialClassC', 'SocialClassD', 'RentedHouse', 'HomeOwners', '1Car', '2Cars', 'NoCar', 'NationalHealthService', 'PrivateHealthInsurance', 'Income<30.000', 'Income30-45.000', 'Income45-75.000', 'Income75-122.000', 'Income>123.000', 'AverageIncome', 'PurchasingPowerClass', 'ContributionPrivateThirdPartyInsurance', 'ContributionThirdPartyInsurance(firms)...', 'ContributionThirdPartyInsurane(agriculture)', 'ContributionCarPolicies', 'ContributionDeliveryVanPolicies', 'ContributionMotorcycle/scooterPolicies', 'ContributionLorryPolicies', 'ContributionTrailerPolicies', 'ContributionTractorPolicies', 'ContributionAgriculturalMachinesPolicies', 'ContributionMopedPolicies', 'ContributionLifeInsurances', 'ContributionPrivateAccidentInsurancePolicies', 'ContributionFamilyAccidentsInsurancePolicies', 'ContributionDisabilityInsurancePolicies', 'ContributionFirePolicies', 'ContributionSurfboardPolicies', 'ContributionBoatPolicies', 'ContributionBicyclePolicies', 'ContributionPropertyInsurancePolicies', 'ContributionSocialSecurityInsurancePolicies', 'NumberOfPrivateThirdPartyInsurance1-12', 'NumberOfThirdPartyInsurance(firms)...', 'NumberOfThirdPartyInsurane(agriculture)', 'NumberOfCarPolicies', 'NumberOfDeliveryVanPolicies', 'NumberOfMotorcycle/scooterPolicies', 'NumberOfLorryPolicies', 'NumberOfTrailerPolicies', 'NumberOfTractorPolicies', 'NumberOfAgriculturalMachinesPolicies', 'NumberOfMopedPolicies', 'NumberOfLifeInsurances', 'NumberOfPrivateAccidentInsurancePolicies', 'NumberOfFamilyAccidentsInsurancePolicies', 'NumberOfDisabilityInsurancePolicies', 'NumberOfFirePolicies', 'NumberOfSurfboardPolicies', 'NumberOfBoatPolicies', 'NumberOfBicyclePolicies', 'NumberOfPropertyInsurancePolicies', 'NumberOfSocialSecurityInsurancePolicies', 'CARAVAN']"
   ]
  },
  {
   "cell_type": "code",
   "execution_count": 4,
   "id": "5b4c1611",
   "metadata": {},
   "outputs": [
    {
     "data": {
      "text/plain": [
       "(9822, 87)"
      ]
     },
     "execution_count": 4,
     "metadata": {},
     "output_type": "execute_result"
    }
   ],
   "source": [
    "df.columns = labels\n",
    "df.shape"
   ]
  },
  {
   "cell_type": "code",
   "execution_count": 5,
   "id": "3cb08e97",
   "metadata": {
    "scrolled": true
   },
   "outputs": [
    {
     "name": "stdout",
     "output_type": "stream",
     "text": [
      "<class 'pandas.core.frame.DataFrame'>\n",
      "RangeIndex: 9822 entries, 0 to 9821\n",
      "Data columns (total 87 columns):\n",
      " #   Column                                        Non-Null Count  Dtype \n",
      "---  ------                                        --------------  ----- \n",
      " 0   ORIGIN                                        9822 non-null   object\n",
      " 1   CustomerSubtype                               9822 non-null   int64 \n",
      " 2   NumberOfHouses1                               9822 non-null   int64 \n",
      " 3   AvgSizeHousehold1                             9822 non-null   int64 \n",
      " 4   AvgAge                                        9822 non-null   int64 \n",
      " 5   CustomerMainType                              9822 non-null   int64 \n",
      " 6   RomanCatholic                                 9822 non-null   int64 \n",
      " 7   Protestant...                                 9822 non-null   int64 \n",
      " 8   OtherReligion                                 9822 non-null   int64 \n",
      " 9   NoReligion                                    9822 non-null   int64 \n",
      " 10  Married                                       9822 non-null   int64 \n",
      " 11  LivingTogether                                9822 non-null   int64 \n",
      " 12  OtherRelation                                 9822 non-null   int64 \n",
      " 13  Singles                                       9822 non-null   int64 \n",
      " 14  HouseholdWithoutChildren                      9822 non-null   int64 \n",
      " 15  HouseholdWithChildren                         9822 non-null   int64 \n",
      " 16  HighLevelEducation                            9822 non-null   int64 \n",
      " 17  MediumLevelEducation                          9822 non-null   int64 \n",
      " 18  LowerLevelEducation                           9822 non-null   int64 \n",
      " 19  HighStatus                                    9822 non-null   int64 \n",
      " 20  Entrepreneur                                  9822 non-null   int64 \n",
      " 21  Farmer                                        9822 non-null   int64 \n",
      " 22  MiddleManagement                              9822 non-null   int64 \n",
      " 23  SkilledLabourers                              9822 non-null   int64 \n",
      " 24  UnskilledLabourers                            9822 non-null   int64 \n",
      " 25  SocialClassA                                  9822 non-null   int64 \n",
      " 26  SocialClassB1                                 9822 non-null   int64 \n",
      " 27  SocialClassB2                                 9822 non-null   int64 \n",
      " 28  SocialClassC                                  9822 non-null   int64 \n",
      " 29  SocialClassD                                  9822 non-null   int64 \n",
      " 30  RentedHouse                                   9822 non-null   int64 \n",
      " 31  HomeOwners                                    9822 non-null   int64 \n",
      " 32  1Car                                          9822 non-null   int64 \n",
      " 33  2Cars                                         9822 non-null   int64 \n",
      " 34  NoCar                                         9822 non-null   int64 \n",
      " 35  NationalHealthService                         9822 non-null   int64 \n",
      " 36  PrivateHealthInsurance                        9822 non-null   int64 \n",
      " 37  Income<30.000                                 9822 non-null   int64 \n",
      " 38  Income30-45.000                               9822 non-null   int64 \n",
      " 39  Income45-75.000                               9822 non-null   int64 \n",
      " 40  Income75-122.000                              9822 non-null   int64 \n",
      " 41  Income>123.000                                9822 non-null   int64 \n",
      " 42  AverageIncome                                 9822 non-null   int64 \n",
      " 43  PurchasingPowerClass                          9822 non-null   int64 \n",
      " 44  ContributionPrivateThirdPartyInsurance        9822 non-null   int64 \n",
      " 45  ContributionThirdPartyInsurance(firms)...     9822 non-null   int64 \n",
      " 46  ContributionThirdPartyInsurane(agriculture)   9822 non-null   int64 \n",
      " 47  ContributionCarPolicies                       9822 non-null   int64 \n",
      " 48  ContributionDeliveryVanPolicies               9822 non-null   int64 \n",
      " 49  ContributionMotorcycle/scooterPolicies        9822 non-null   int64 \n",
      " 50  ContributionLorryPolicies                     9822 non-null   int64 \n",
      " 51  ContributionTrailerPolicies                   9822 non-null   int64 \n",
      " 52  ContributionTractorPolicies                   9822 non-null   int64 \n",
      " 53  ContributionAgriculturalMachinesPolicies      9822 non-null   int64 \n",
      " 54  ContributionMopedPolicies                     9822 non-null   int64 \n",
      " 55  ContributionLifeInsurances                    9822 non-null   int64 \n",
      " 56  ContributionPrivateAccidentInsurancePolicies  9822 non-null   int64 \n",
      " 57  ContributionFamilyAccidentsInsurancePolicies  9822 non-null   int64 \n",
      " 58  ContributionDisabilityInsurancePolicies       9822 non-null   int64 \n",
      " 59  ContributionFirePolicies                      9822 non-null   int64 \n",
      " 60  ContributionSurfboardPolicies                 9822 non-null   int64 \n",
      " 61  ContributionBoatPolicies                      9822 non-null   int64 \n",
      " 62  ContributionBicyclePolicies                   9822 non-null   int64 \n",
      " 63  ContributionPropertyInsurancePolicies         9822 non-null   int64 \n",
      " 64  ContributionSocialSecurityInsurancePolicies   9822 non-null   int64 \n",
      " 65  NumberOfPrivateThirdPartyInsurance1-12        9822 non-null   int64 \n",
      " 66  NumberOfThirdPartyInsurance(firms)...         9822 non-null   int64 \n",
      " 67  NumberOfThirdPartyInsurane(agriculture)       9822 non-null   int64 \n",
      " 68  NumberOfCarPolicies                           9822 non-null   int64 \n",
      " 69  NumberOfDeliveryVanPolicies                   9822 non-null   int64 \n",
      " 70  NumberOfMotorcycle/scooterPolicies            9822 non-null   int64 \n",
      " 71  NumberOfLorryPolicies                         9822 non-null   int64 \n",
      " 72  NumberOfTrailerPolicies                       9822 non-null   int64 \n",
      " 73  NumberOfTractorPolicies                       9822 non-null   int64 \n",
      " 74  NumberOfAgriculturalMachinesPolicies          9822 non-null   int64 \n",
      " 75  NumberOfMopedPolicies                         9822 non-null   int64 \n",
      " 76  NumberOfLifeInsurances                        9822 non-null   int64 \n",
      " 77  NumberOfPrivateAccidentInsurancePolicies      9822 non-null   int64 \n",
      " 78  NumberOfFamilyAccidentsInsurancePolicies      9822 non-null   int64 \n",
      " 79  NumberOfDisabilityInsurancePolicies           9822 non-null   int64 \n",
      " 80  NumberOfFirePolicies                          9822 non-null   int64 \n",
      " 81  NumberOfSurfboardPolicies                     9822 non-null   int64 \n",
      " 82  NumberOfBoatPolicies                          9822 non-null   int64 \n",
      " 83  NumberOfBicyclePolicies                       9822 non-null   int64 \n",
      " 84  NumberOfPropertyInsurancePolicies             9822 non-null   int64 \n",
      " 85  NumberOfSocialSecurityInsurancePolicies       9822 non-null   int64 \n",
      " 86  CARAVAN                                       9822 non-null   int64 \n",
      "dtypes: int64(86), object(1)\n",
      "memory usage: 6.5+ MB\n"
     ]
    }
   ],
   "source": [
    "df.info()"
   ]
  },
  {
   "cell_type": "code",
   "execution_count": 6,
   "id": "7433fc2c",
   "metadata": {},
   "outputs": [
    {
     "data": {
      "text/plain": [
       "<AxesSubplot:ylabel='CARAVAN'>"
      ]
     },
     "execution_count": 6,
     "metadata": {},
     "output_type": "execute_result"
    },
    {
     "data": {
      "image/png": "[encoded data removed]",
      "text/plain": [
       "<Figure size 432x288 with 1 Axes>"
      ]
     },
     "metadata": {},
     "output_type": "display_data"
    }
   ],
   "source": [
    "df.CARAVAN.value_counts().plot.pie(autopct='%1.1f%%', shadow=True, startangle=140,explode=(0.5, 0))"
   ]
  },
  {
   "cell_type": "markdown",
   "id": "98192863",
   "metadata": {},
   "source": [
    "It's a dataset with 9822 observations.\n",
    "The dataset is without null values and outliers\n",
    "The dataset is imbalanced as Yes answer represent only 6%"
   ]
  },
  {
   "cell_type": "code",
   "execution_count": 7,
   "id": "28ef7e17",
   "metadata": {},
   "outputs": [
    {
     "data": {
      "image/png": "[encoded data removed]",
      "text/plain": [
       "<Figure size 1080x576 with 1 Axes>"
      ]
     },
     "metadata": {
      "needs_background": "light"
     },
     "output_type": "display_data"
    }
   ],
   "source": [
    "# Customer Sub Type\n",
    "\n",
    "yes = df[df.CARAVAN == 1].copy()\n",
    "plt.figure(figsize=(15,8))\n",
    "yes['CustomerSubtype'].value_counts().plot(kind='bar', align='center',color='deepskyblue', grid=True);"
   ]
  },
  {
   "cell_type": "code",
   "execution_count": 8,
   "id": "ecea0424",
   "metadata": {},
   "outputs": [
    {
     "data": {
      "text/plain": [
       "<AxesSubplot:>"
      ]
     },
     "execution_count": 8,
     "metadata": {},
     "output_type": "execute_result"
    },
    {
     "data": {
      "image/png": "[encoded data removed]",
      "text/plain": [
       "<Figure size 1080x576 with 1 Axes>"
      ]
     },
     "metadata": {
      "needs_background": "light"
     },
     "output_type": "display_data"
    }
   ],
   "source": [
    "# Number of houses Vs Age\n",
    "\n",
    "plt.figure(figsize=(15,8))\n",
    "yes['AvgAge'].value_counts().plot(kind='bar', align='center',color='deepskyblue', grid=True)"
   ]
  },
  {
   "cell_type": "code",
   "execution_count": 9,
   "id": "0e0a7f95",
   "metadata": {},
   "outputs": [
    {
     "data": {
      "text/plain": [
       "<AxesSubplot:>"
      ]
     },
     "execution_count": 9,
     "metadata": {},
     "output_type": "execute_result"
    },
    {
     "data": {
      "image/png": "[encoded data removed]",
      "text/plain": [
       "<Figure size 1080x576 with 1 Axes>"
      ]
     },
     "metadata": {
      "needs_background": "light"
     },
     "output_type": "display_data"
    }
   ],
   "source": [
    "# Customer main type\n",
    "\n",
    "plt.figure(figsize=(15,8))\n",
    "yes['CustomerMainType'].value_counts().plot(kind='bar', align='center',color='deepskyblue', grid=True)"
   ]
  },
  {
   "cell_type": "markdown",
   "id": "6f414bb7",
   "metadata": {},
   "source": [
    "### Model training"
   ]
  },
  {
   "cell_type": "code",
   "execution_count": 10,
   "id": "e00040e0",
   "metadata": {},
   "outputs": [],
   "source": [
    "train = df[df.ORIGIN == 'train'].copy()\n",
    "test = df[df.ORIGIN == 'test'].copy()"
   ]
  },
  {
   "cell_type": "code",
   "execution_count": 11,
   "id": "0c164533",
   "metadata": {},
   "outputs": [],
   "source": [
    "y_train = train.CARAVAN\n",
    "X_train = train.drop(['CARAVAN','ORIGIN'], axis=1)"
   ]
  },
  {
   "cell_type": "code",
   "execution_count": 12,
   "id": "a355018d",
   "metadata": {},
   "outputs": [],
   "source": [
    "y_test = test.CARAVAN\n",
    "X_test = test.drop(['CARAVAN','ORIGIN'], axis=1)"
   ]
  },
  {
   "cell_type": "code",
   "execution_count": 13,
   "id": "e9e90340",
   "metadata": {},
   "outputs": [
    {
     "name": "stdout",
     "output_type": "stream",
     "text": [
      "==============================\n",
      "LogisticRegression\n",
      "****Results****\n",
      "F-score: 2.4390%\n",
      "Log Loss: 0.20703112318091288\n",
      "==============================\n",
      "KNeighborsClassifier\n",
      "****Results****\n",
      "F-score: 9.7720%\n",
      "Log Loss: 1.5387980427763202\n",
      "==============================\n",
      "AdaBoostClassifier\n",
      "****Results****\n",
      "F-score: 3.1621%\n",
      "Log Loss: 0.6526388876716189\n",
      "==============================\n",
      "GradientBoostingClassifier\n",
      "****Results****\n",
      "F-score: 4.7059%\n",
      "Log Loss: 0.20900656935221473\n",
      "==============================\n"
     ]
    }
   ],
   "source": [
    "from sklearn.metrics import accuracy_score, log_loss\n",
    "from sklearn.linear_model import LogisticRegression\n",
    "from sklearn.neighbors import KNeighborsClassifier\n",
    "from sklearn.ensemble import AdaBoostClassifier, GradientBoostingClassifier\n",
    "from sklearn.metrics import f1_score\n",
    "\n",
    "\n",
    "classifiers = [\n",
    "    LogisticRegression(max_iter = 1000,random_state = 48),\n",
    "    KNeighborsClassifier(3),\n",
    "    AdaBoostClassifier(),\n",
    "    GradientBoostingClassifier(),]\n",
    "\n",
    "# Logging for Visual Comparison\n",
    "log_cols=[\"Classifier\", \"F-score\", \"Log Loss\"]\n",
    "log = pd.DataFrame(columns=log_cols)\n",
    "\n",
    "for clf in classifiers:\n",
    "    clf.fit(X_train, y_train)\n",
    "    name = clf.__class__.__name__\n",
    "    \n",
    "    print(\"=\"*30)\n",
    "    print(name)\n",
    "    \n",
    "    print('****Results****')\n",
    "    test_predictions = clf.predict(X_test)\n",
    "    acc = f1_score(y_test, test_predictions)\n",
    "    print(\"F-score: {:.4%}\".format(acc))\n",
    "    \n",
    "    test_predictions = clf.predict_proba(X_test)\n",
    "    ll = log_loss(y_test, test_predictions)\n",
    "    print(\"Log Loss: {}\".format(ll))\n",
    "    \n",
    "    log_entry = pd.DataFrame([[name, acc*100, ll]], columns=log_cols)\n",
    "    log = log.append(log_entry)\n",
    "    \n",
    "print(\"=\"*30)"
   ]
  },
  {
   "cell_type": "code",
   "execution_count": 14,
   "id": "0196183d",
   "metadata": {},
   "outputs": [
    {
     "data": {
      "image/png": "[encoded data removed]",
      "text/plain": [
       "<Figure size 432x288 with 1 Axes>"
      ]
     },
     "metadata": {
      "needs_background": "light"
     },
     "output_type": "display_data"
    },
    {
     "data": {
      "image/png": "[encoded data removed]",
      "text/plain": [
       "<Figure size 432x288 with 1 Axes>"
      ]
     },
     "metadata": {
      "needs_background": "light"
     },
     "output_type": "display_data"
    }
   ],
   "source": [
    "# F-Score & Log Loss Visualization\n",
    "\n",
    "sns.set_color_codes(\"muted\")\n",
    "sns.barplot(x='F-score', y='Classifier', data=log, color=\"b\")\n",
    "\n",
    "plt.xlabel('F-score %')\n",
    "plt.title('Classifier F-Score')\n",
    "plt.show()\n",
    "\n",
    "sns.set_color_codes(\"muted\")\n",
    "sns.barplot(x='Log Loss', y='Classifier', data=log, color=\"g\")\n",
    "\n",
    "plt.xlabel('Log Loss')\n",
    "plt.title('Classifier Log Loss')\n",
    "plt.show()"
   ]
  },
  {
   "cell_type": "code",
   "execution_count": 15,
   "id": "f14149a3",
   "metadata": {},
   "outputs": [
    {
     "name": "stdout",
     "output_type": "stream",
     "text": [
      "              precision    recall  f1-score   support\n",
      "\n",
      "           0       0.94      1.00      0.97      3762\n",
      "           1       0.31      0.02      0.04       238\n",
      "\n",
      "    accuracy                           0.94      4000\n",
      "   macro avg       0.63      0.51      0.50      4000\n",
      "weighted avg       0.90      0.94      0.91      4000\n",
      "\n"
     ]
    }
   ],
   "source": [
    "# Classification Report: Precision, Recall and f1-score // Base Model\n",
    "from sklearn.metrics import classification_report\n",
    "clf1 = GradientBoostingClassifier()\n",
    "clf1.fit(X_train, y_train)\n",
    "test_predictions1 = clf1.predict(X_test)\n",
    "report = classification_report(y_test, test_predictions1)\n",
    "print(report)"
   ]
  },
  {
   "cell_type": "markdown",
   "id": "a28bdfef",
   "metadata": {},
   "source": [
    "#### Which predictors seem to be the most important? "
   ]
  },
  {
   "cell_type": "code",
   "execution_count": 16,
   "id": "2efdc8d9",
   "metadata": {},
   "outputs": [
    {
     "data": {
      "text/html": [
       "<div>\n",
       "<style scoped>\n",
       "    .dataframe tbody tr th:only-of-type {\n",
       "        vertical-align: middle;\n",
       "    }\n",
       "\n",
       "    .dataframe tbody tr th {\n",
       "        vertical-align: top;\n",
       "    }\n",
       "\n",
       "    .dataframe thead th {\n",
       "        text-align: right;\n",
       "    }\n",
       "</style>\n",
       "<table border=\"1\" class=\"dataframe\">\n",
       "  <thead>\n",
       "    <tr style=\"text-align: right;\">\n",
       "      <th></th>\n",
       "      <th>cols</th>\n",
       "      <th>imp</th>\n",
       "    </tr>\n",
       "  </thead>\n",
       "  <tbody>\n",
       "    <tr>\n",
       "      <th>67</th>\n",
       "      <td>NumberOfCarPolicies</td>\n",
       "      <td>0.154825</td>\n",
       "    </tr>\n",
       "    <tr>\n",
       "      <th>46</th>\n",
       "      <td>ContributionCarPolicies</td>\n",
       "      <td>0.111258</td>\n",
       "    </tr>\n",
       "    <tr>\n",
       "      <th>58</th>\n",
       "      <td>ContributionFirePolicies</td>\n",
       "      <td>0.085771</td>\n",
       "    </tr>\n",
       "    <tr>\n",
       "      <th>81</th>\n",
       "      <td>NumberOfBoatPolicies</td>\n",
       "      <td>0.070181</td>\n",
       "    </tr>\n",
       "    <tr>\n",
       "      <th>41</th>\n",
       "      <td>AverageIncome</td>\n",
       "      <td>0.056116</td>\n",
       "    </tr>\n",
       "    <tr>\n",
       "      <th>17</th>\n",
       "      <td>LowerLevelEducation</td>\n",
       "      <td>0.054296</td>\n",
       "    </tr>\n",
       "    <tr>\n",
       "      <th>42</th>\n",
       "      <td>PurchasingPowerClass</td>\n",
       "      <td>0.053321</td>\n",
       "    </tr>\n",
       "    <tr>\n",
       "      <th>43</th>\n",
       "      <td>ContributionPrivateThirdPartyInsurance</td>\n",
       "      <td>0.046064</td>\n",
       "    </tr>\n",
       "    <tr>\n",
       "      <th>30</th>\n",
       "      <td>HomeOwners</td>\n",
       "      <td>0.040992</td>\n",
       "    </tr>\n",
       "    <tr>\n",
       "      <th>0</th>\n",
       "      <td>CustomerSubtype</td>\n",
       "      <td>0.040573</td>\n",
       "    </tr>\n",
       "  </tbody>\n",
       "</table>\n",
       "</div>"
      ],
      "text/plain": [
       "                                      cols       imp\n",
       "67                     NumberOfCarPolicies  0.154825\n",
       "46                 ContributionCarPolicies  0.111258\n",
       "58                ContributionFirePolicies  0.085771\n",
       "81                    NumberOfBoatPolicies  0.070181\n",
       "41                           AverageIncome  0.056116\n",
       "17                     LowerLevelEducation  0.054296\n",
       "42                    PurchasingPowerClass  0.053321\n",
       "43  ContributionPrivateThirdPartyInsurance  0.046064\n",
       "30                              HomeOwners  0.040992\n",
       "0                          CustomerSubtype  0.040573"
      ]
     },
     "execution_count": 16,
     "metadata": {},
     "output_type": "execute_result"
    }
   ],
   "source": [
    "from sklearn.ensemble import RandomForestClassifier\n",
    "rf = RandomForestClassifier(n_estimators=100,max_leaf_nodes=3)\n",
    "def rf_feat_importance(m, df):\n",
    "    return pd.DataFrame({'cols':df.columns, 'imp':m.feature_importances_}\n",
    "                       ).sort_values('imp', ascending=False)\n",
    "def plot_fi(fi): return fi.plot('cols', 'imp', 'barh', figsize=(12,7), legend=False)\n",
    "rf.fit(X_train, y_train) \n",
    "fi = rf_feat_importance(rf, X_train); fi[:10]"
   ]
  },
  {
   "cell_type": "markdown",
   "id": "86e3b50f",
   "metadata": {},
   "source": [
    "The most important predictor by a reasonable amount is NumberOfCarPolicies"
   ]
  },
  {
   "cell_type": "markdown",
   "id": "da041f8f",
   "metadata": {},
   "source": [
    "#### Predict if the person will buy insurace or not."
   ]
  },
  {
   "cell_type": "code",
   "execution_count": 17,
   "id": "67d59d1a",
   "metadata": {},
   "outputs": [],
   "source": [
    "test_target = y_test.copy()\n",
    "test_target.reset_index(drop=True, inplace=True)\n",
    "test_target=test_target.replace({\n",
    "    1:'Yes',\n",
    "    0:'No'\n",
    "})\n",
    "predicted_target=rf.predict(X_test)\n",
    "predicted_target=pd.Series(predicted_target).replace({\n",
    "    1:'Yes',\n",
    "    0:'No'\n",
    "})"
   ]
  },
  {
   "cell_type": "code",
   "execution_count": 19,
   "id": "80803eac",
   "metadata": {},
   "outputs": [
    {
     "data": {
      "text/html": [
       "<div>\n",
       "<style scoped>\n",
       "    .dataframe tbody tr th:only-of-type {\n",
       "        vertical-align: middle;\n",
       "    }\n",
       "\n",
       "    .dataframe tbody tr th {\n",
       "        vertical-align: top;\n",
       "    }\n",
       "\n",
       "    .dataframe thead th {\n",
       "        text-align: right;\n",
       "    }\n",
       "</style>\n",
       "<table border=\"1\" class=\"dataframe\">\n",
       "  <thead>\n",
       "    <tr style=\"text-align: right;\">\n",
       "      <th></th>\n",
       "      <th>realClass</th>\n",
       "      <th>predictedClass</th>\n",
       "      <th>rank</th>\n",
       "    </tr>\n",
       "  </thead>\n",
       "  <tbody>\n",
       "    <tr>\n",
       "      <th>2118</th>\n",
       "      <td>Yes</td>\n",
       "      <td>No</td>\n",
       "      <td>0.99</td>\n",
       "    </tr>\n",
       "    <tr>\n",
       "      <th>706</th>\n",
       "      <td>No</td>\n",
       "      <td>No</td>\n",
       "      <td>0.99</td>\n",
       "    </tr>\n",
       "    <tr>\n",
       "      <th>3092</th>\n",
       "      <td>Yes</td>\n",
       "      <td>No</td>\n",
       "      <td>0.97</td>\n",
       "    </tr>\n",
       "    <tr>\n",
       "      <th>944</th>\n",
       "      <td>No</td>\n",
       "      <td>No</td>\n",
       "      <td>0.96</td>\n",
       "    </tr>\n",
       "    <tr>\n",
       "      <th>2154</th>\n",
       "      <td>No</td>\n",
       "      <td>No</td>\n",
       "      <td>0.96</td>\n",
       "    </tr>\n",
       "  </tbody>\n",
       "</table>\n",
       "</div>"
      ],
      "text/plain": [
       "     realClass predictedClass  rank\n",
       "2118       Yes             No  0.99\n",
       "706         No             No  0.99\n",
       "3092       Yes             No  0.97\n",
       "944         No             No  0.96\n",
       "2154        No             No  0.96"
      ]
     },
     "execution_count": 19,
     "metadata": {},
     "output_type": "execute_result"
    }
   ],
   "source": [
    "from imblearn.ensemble import BalancedRandomForestClassifier\n",
    "brf=BalancedRandomForestClassifier()\n",
    "brf.fit(X_train,y_train)\n",
    "brf_pred_prob = brf.predict_proba(X_test)[:, 1]\n",
    "ranks=pd.DataFrame(data={\n",
    "    'realClass':test_target,\n",
    "    'predictedClass':predicted_target,\n",
    "    'rank':brf_pred_prob\n",
    "})\n",
    "ranks.sort_values(by=['rank'],ascending=False,inplace=True)\n",
    "ranks.head()"
   ]
  },
  {
   "cell_type": "markdown",
   "id": "54f09443",
   "metadata": {},
   "source": [
    "#### Com-pare your results with logistic regression and KNN"
   ]
  },
  {
   "cell_type": "markdown",
   "id": "b8fb0a4a",
   "metadata": {},
   "source": [
    "Comparing all the models performed earlier Gradient Boosting Classifier outperform all the other models by 94% f1-score."
   ]
  }
 ],
 "metadata": {
  "kernelspec": {
   "display_name": "Python 3",
   "language": "python",
   "name": "python3"
  },
  "language_info": {
   "codemirror_mode": {
    "name": "ipython",
    "version": 3
   },
   "file_extension": ".py",
   "mimetype": "text/x-python",
   "name": "python",
   "nbconvert_exporter": "python",
   "pygments_lexer": "ipython3",
   "version": "3.8.8"
  }
 },
 "nbformat": 4,
 "nbformat_minor": 5
}
