{
 "cells": [
  {
   "cell_type": "markdown",
   "id": "c1e9591a",
   "metadata": {},
   "source": [
    "# Decision trees and Ensemble methods"
   ]
  },
  {
   "cell_type": "markdown",
   "id": "a8ef2821",
   "metadata": {},
   "source": [
    "### Shruti Goyal\n",
    "### 21BDA51"
   ]
  },
  {
   "cell_type": "markdown",
   "id": "b1f9145e",
   "metadata": {},
   "source": [
    "#### Ques-3) On  a  data  set  of  your  choosing,  fit  a  regression  tree  model.   Show  how pruning can imporve your model."
   ]
  },
  {
   "cell_type": "code",
   "execution_count": 1,
   "id": "07937019",
   "metadata": {},
   "outputs": [],
   "source": [
    "# Importing Libraries needed for the project. \n",
    "import pandas as pd\n",
    "import numpy as np\n",
    "import matplotlib.pyplot as plt\n",
    "import seaborn as sns\n",
    "from sklearn.model_selection import train_test_split, GridSearchCV, cross_val_score\n",
    "from sklearn.metrics import confusion_matrix, accuracy_score, classification_report\n",
    "from sklearn.metrics import roc_auc_score,roc_curve"
   ]
  },
  {
   "cell_type": "code",
   "execution_count": 2,
   "id": "7404ae26",
   "metadata": {},
   "outputs": [],
   "source": [
    "data=pd.read_csv('C:/Users/91999/Downloads/archive/Life Expectancy Data.csv')"
   ]
  },
  {
   "cell_type": "code",
   "execution_count": 3,
   "id": "9d09944c",
   "metadata": {},
   "outputs": [
    {
     "data": {
      "text/html": [
       "<div>\n",
       "<style scoped>\n",
       "    .dataframe tbody tr th:only-of-type {\n",
       "        vertical-align: middle;\n",
       "    }\n",
       "\n",
       "    .dataframe tbody tr th {\n",
       "        vertical-align: top;\n",
       "    }\n",
       "\n",
       "    .dataframe thead th {\n",
       "        text-align: right;\n",
       "    }\n",
       "</style>\n",
       "<table border=\"1\" class=\"dataframe\">\n",
       "  <thead>\n",
       "    <tr style=\"text-align: right;\">\n",
       "      <th></th>\n",
       "      <th>Country</th>\n",
       "      <th>Year</th>\n",
       "      <th>Status</th>\n",
       "      <th>Life expectancy</th>\n",
       "      <th>Adult Mortality</th>\n",
       "      <th>infant deaths</th>\n",
       "      <th>Alcohol</th>\n",
       "      <th>percentage expenditure</th>\n",
       "      <th>Hepatitis B</th>\n",
       "      <th>Measles</th>\n",
       "      <th>...</th>\n",
       "      <th>Polio</th>\n",
       "      <th>Total expenditure</th>\n",
       "      <th>Diphtheria</th>\n",
       "      <th>HIV/AIDS</th>\n",
       "      <th>GDP</th>\n",
       "      <th>Population</th>\n",
       "      <th>thinness  1-19 years</th>\n",
       "      <th>thinness 5-9 years</th>\n",
       "      <th>Income composition of resources</th>\n",
       "      <th>Schooling</th>\n",
       "    </tr>\n",
       "  </thead>\n",
       "  <tbody>\n",
       "    <tr>\n",
       "      <th>0</th>\n",
       "      <td>Afghanistan</td>\n",
       "      <td>2015</td>\n",
       "      <td>Developing</td>\n",
       "      <td>65.0</td>\n",
       "      <td>263.0</td>\n",
       "      <td>62</td>\n",
       "      <td>0.01</td>\n",
       "      <td>71.279624</td>\n",
       "      <td>65.0</td>\n",
       "      <td>1154</td>\n",
       "      <td>...</td>\n",
       "      <td>6.0</td>\n",
       "      <td>8.16</td>\n",
       "      <td>65.0</td>\n",
       "      <td>0.1</td>\n",
       "      <td>584.259210</td>\n",
       "      <td>33736494.0</td>\n",
       "      <td>17.2</td>\n",
       "      <td>17.3</td>\n",
       "      <td>0.479</td>\n",
       "      <td>10.1</td>\n",
       "    </tr>\n",
       "    <tr>\n",
       "      <th>1</th>\n",
       "      <td>Afghanistan</td>\n",
       "      <td>2014</td>\n",
       "      <td>Developing</td>\n",
       "      <td>59.9</td>\n",
       "      <td>271.0</td>\n",
       "      <td>64</td>\n",
       "      <td>0.01</td>\n",
       "      <td>73.523582</td>\n",
       "      <td>62.0</td>\n",
       "      <td>492</td>\n",
       "      <td>...</td>\n",
       "      <td>58.0</td>\n",
       "      <td>8.18</td>\n",
       "      <td>62.0</td>\n",
       "      <td>0.1</td>\n",
       "      <td>612.696514</td>\n",
       "      <td>327582.0</td>\n",
       "      <td>17.5</td>\n",
       "      <td>17.5</td>\n",
       "      <td>0.476</td>\n",
       "      <td>10.0</td>\n",
       "    </tr>\n",
       "    <tr>\n",
       "      <th>2</th>\n",
       "      <td>Afghanistan</td>\n",
       "      <td>2013</td>\n",
       "      <td>Developing</td>\n",
       "      <td>59.9</td>\n",
       "      <td>268.0</td>\n",
       "      <td>66</td>\n",
       "      <td>0.01</td>\n",
       "      <td>73.219243</td>\n",
       "      <td>64.0</td>\n",
       "      <td>430</td>\n",
       "      <td>...</td>\n",
       "      <td>62.0</td>\n",
       "      <td>8.13</td>\n",
       "      <td>64.0</td>\n",
       "      <td>0.1</td>\n",
       "      <td>631.744976</td>\n",
       "      <td>31731688.0</td>\n",
       "      <td>17.7</td>\n",
       "      <td>17.7</td>\n",
       "      <td>0.470</td>\n",
       "      <td>9.9</td>\n",
       "    </tr>\n",
       "    <tr>\n",
       "      <th>3</th>\n",
       "      <td>Afghanistan</td>\n",
       "      <td>2012</td>\n",
       "      <td>Developing</td>\n",
       "      <td>59.5</td>\n",
       "      <td>272.0</td>\n",
       "      <td>69</td>\n",
       "      <td>0.01</td>\n",
       "      <td>78.184215</td>\n",
       "      <td>67.0</td>\n",
       "      <td>2787</td>\n",
       "      <td>...</td>\n",
       "      <td>67.0</td>\n",
       "      <td>8.52</td>\n",
       "      <td>67.0</td>\n",
       "      <td>0.1</td>\n",
       "      <td>669.959000</td>\n",
       "      <td>3696958.0</td>\n",
       "      <td>17.9</td>\n",
       "      <td>18.0</td>\n",
       "      <td>0.463</td>\n",
       "      <td>9.8</td>\n",
       "    </tr>\n",
       "    <tr>\n",
       "      <th>4</th>\n",
       "      <td>Afghanistan</td>\n",
       "      <td>2011</td>\n",
       "      <td>Developing</td>\n",
       "      <td>59.2</td>\n",
       "      <td>275.0</td>\n",
       "      <td>71</td>\n",
       "      <td>0.01</td>\n",
       "      <td>7.097109</td>\n",
       "      <td>68.0</td>\n",
       "      <td>3013</td>\n",
       "      <td>...</td>\n",
       "      <td>68.0</td>\n",
       "      <td>7.87</td>\n",
       "      <td>68.0</td>\n",
       "      <td>0.1</td>\n",
       "      <td>63.537231</td>\n",
       "      <td>2978599.0</td>\n",
       "      <td>18.2</td>\n",
       "      <td>18.2</td>\n",
       "      <td>0.454</td>\n",
       "      <td>9.5</td>\n",
       "    </tr>\n",
       "  </tbody>\n",
       "</table>\n",
       "<p>5 rows × 22 columns</p>\n",
       "</div>"
      ],
      "text/plain": [
       "       Country  Year      Status  Life expectancy   Adult Mortality  \\\n",
       "0  Afghanistan  2015  Developing              65.0            263.0   \n",
       "1  Afghanistan  2014  Developing              59.9            271.0   \n",
       "2  Afghanistan  2013  Developing              59.9            268.0   \n",
       "3  Afghanistan  2012  Developing              59.5            272.0   \n",
       "4  Afghanistan  2011  Developing              59.2            275.0   \n",
       "\n",
       "   infant deaths  Alcohol  percentage expenditure  Hepatitis B  Measles   ...  \\\n",
       "0             62     0.01               71.279624         65.0      1154  ...   \n",
       "1             64     0.01               73.523582         62.0       492  ...   \n",
       "2             66     0.01               73.219243         64.0       430  ...   \n",
       "3             69     0.01               78.184215         67.0      2787  ...   \n",
       "4             71     0.01                7.097109         68.0      3013  ...   \n",
       "\n",
       "   Polio  Total expenditure  Diphtheria    HIV/AIDS         GDP  Population  \\\n",
       "0    6.0               8.16         65.0        0.1  584.259210  33736494.0   \n",
       "1   58.0               8.18         62.0        0.1  612.696514    327582.0   \n",
       "2   62.0               8.13         64.0        0.1  631.744976  31731688.0   \n",
       "3   67.0               8.52         67.0        0.1  669.959000   3696958.0   \n",
       "4   68.0               7.87         68.0        0.1   63.537231   2978599.0   \n",
       "\n",
       "    thinness  1-19 years   thinness 5-9 years  \\\n",
       "0                   17.2                 17.3   \n",
       "1                   17.5                 17.5   \n",
       "2                   17.7                 17.7   \n",
       "3                   17.9                 18.0   \n",
       "4                   18.2                 18.2   \n",
       "\n",
       "   Income composition of resources  Schooling  \n",
       "0                            0.479       10.1  \n",
       "1                            0.476       10.0  \n",
       "2                            0.470        9.9  \n",
       "3                            0.463        9.8  \n",
       "4                            0.454        9.5  \n",
       "\n",
       "[5 rows x 22 columns]"
      ]
     },
     "execution_count": 3,
     "metadata": {},
     "output_type": "execute_result"
    }
   ],
   "source": [
    "data.head()"
   ]
  },
  {
   "cell_type": "code",
   "execution_count": 4,
   "id": "2bce3119",
   "metadata": {},
   "outputs": [
    {
     "name": "stdout",
     "output_type": "stream",
     "text": [
      "<class 'pandas.core.frame.DataFrame'>\n",
      "RangeIndex: 2938 entries, 0 to 2937\n",
      "Data columns (total 22 columns):\n",
      " #   Column                           Non-Null Count  Dtype  \n",
      "---  ------                           --------------  -----  \n",
      " 0   Country                          2938 non-null   object \n",
      " 1   Year                             2938 non-null   int64  \n",
      " 2   Status                           2938 non-null   object \n",
      " 3   Life expectancy                  2928 non-null   float64\n",
      " 4   Adult Mortality                  2928 non-null   float64\n",
      " 5   infant deaths                    2938 non-null   int64  \n",
      " 6   Alcohol                          2744 non-null   float64\n",
      " 7   percentage expenditure           2938 non-null   float64\n",
      " 8   Hepatitis B                      2385 non-null   float64\n",
      " 9   Measles                          2938 non-null   int64  \n",
      " 10   BMI                             2904 non-null   float64\n",
      " 11  under-five deaths                2938 non-null   int64  \n",
      " 12  Polio                            2919 non-null   float64\n",
      " 13  Total expenditure                2712 non-null   float64\n",
      " 14  Diphtheria                       2919 non-null   float64\n",
      " 15   HIV/AIDS                        2938 non-null   float64\n",
      " 16  GDP                              2490 non-null   float64\n",
      " 17  Population                       2286 non-null   float64\n",
      " 18   thinness  1-19 years            2904 non-null   float64\n",
      " 19   thinness 5-9 years              2904 non-null   float64\n",
      " 20  Income composition of resources  2771 non-null   float64\n",
      " 21  Schooling                        2775 non-null   float64\n",
      "dtypes: float64(16), int64(4), object(2)\n",
      "memory usage: 505.1+ KB\n"
     ]
    }
   ],
   "source": [
    "data.info()"
   ]
  },
  {
   "cell_type": "code",
   "execution_count": 5,
   "id": "c6802956",
   "metadata": {},
   "outputs": [
    {
     "data": {
      "text/plain": [
       "Country                              0\n",
       "Year                                 0\n",
       "Status                               0\n",
       "Life expectancy                     10\n",
       "Adult Mortality                     10\n",
       "infant deaths                        0\n",
       "Alcohol                            194\n",
       "percentage expenditure               0\n",
       "Hepatitis B                        553\n",
       "Measles                              0\n",
       " BMI                                34\n",
       "under-five deaths                    0\n",
       "Polio                               19\n",
       "Total expenditure                  226\n",
       "Diphtheria                          19\n",
       " HIV/AIDS                            0\n",
       "GDP                                448\n",
       "Population                         652\n",
       " thinness  1-19 years               34\n",
       " thinness 5-9 years                 34\n",
       "Income composition of resources    167\n",
       "Schooling                          163\n",
       "dtype: int64"
      ]
     },
     "execution_count": 5,
     "metadata": {},
     "output_type": "execute_result"
    }
   ],
   "source": [
    "data.isnull().sum()"
   ]
  },
  {
   "cell_type": "code",
   "execution_count": 6,
   "id": "de3e8368",
   "metadata": {},
   "outputs": [],
   "source": [
    "# dropping missing values\n",
    "data = data.dropna(subset=['GDP', 'Population', 'Hepatitis B', 'Total expenditure'])"
   ]
  },
  {
   "cell_type": "code",
   "execution_count": 7,
   "id": "31ac392c",
   "metadata": {},
   "outputs": [
    {
     "data": {
      "text/plain": [
       "Index(['Country', 'Year', 'Status', 'Life expectancy ', 'Adult Mortality',\n",
       "       'infant deaths', 'Alcohol', 'percentage expenditure', 'Hepatitis B',\n",
       "       'Measles ', ' BMI ', 'under-five deaths ', 'Polio', 'Total expenditure',\n",
       "       'Diphtheria ', ' HIV/AIDS', 'GDP', 'Population',\n",
       "       ' thinness  1-19 years', ' thinness 5-9 years',\n",
       "       'Income composition of resources', 'Schooling'],\n",
       "      dtype='object')"
      ]
     },
     "execution_count": 7,
     "metadata": {},
     "output_type": "execute_result"
    }
   ],
   "source": [
    "data.columns"
   ]
  },
  {
   "cell_type": "code",
   "execution_count": 8,
   "id": "c35a5c5d",
   "metadata": {},
   "outputs": [],
   "source": [
    "# function to perform data cleaning on all datasets. \n",
    "\n",
    "def wrangle(x):\n",
    "    x = x.copy()\n",
    "    \n",
    "    x.columns = [col.lower()         # make column names lowercase\n",
    "                .strip('_')         # strip leading/trailing underscores\n",
    "                .replace('_', ' ')  # replace remaining punctuation with spaces\n",
    "                .replace('-', ' ') \n",
    "                .replace('/', ' ')\n",
    "                #.replace(' ', '')\n",
    "                for col in x.columns]\n",
    "    \n",
    "    # dropping columns with leakage\n",
    "    x = x.drop(columns = ['country', 'year', 'income composition of resources',\n",
    "                         'percentage expenditure', 'infant deaths', \n",
    "                          'under five deaths ', 'adult mortality'])\n",
    "    \n",
    "    # filling nan values with 0 because I can't do imputation and the missing\n",
    "    # values can be assumed to be 0.\n",
    "    \n",
    "    x = x.fillna(value=0)\n",
    "    \n",
    "    return x"
   ]
  },
  {
   "cell_type": "markdown",
   "id": "9c5725f3",
   "metadata": {},
   "source": [
    "### Decision Tree Regression"
   ]
  },
  {
   "cell_type": "code",
   "execution_count": 9,
   "id": "b8080c48",
   "metadata": {},
   "outputs": [],
   "source": [
    "# clean all data the same way\n",
    "train, test = train_test_split(data, test_size=0.20, random_state=42)\n",
    "train = wrangle(train)\n",
    "test = wrangle(test)"
   ]
  },
  {
   "cell_type": "code",
   "execution_count": 10,
   "id": "542b3400",
   "metadata": {},
   "outputs": [],
   "source": [
    "# defining x and y values for training, validation, and test sets. \n",
    "\n",
    "target = 'life expectancy '\n",
    "features = train.columns.drop(target)\n",
    "\n",
    "x_train = train[features]\n",
    "y_train = train[target]\n",
    "x_test = test[features]\n",
    "y_test = test[target]"
   ]
  },
  {
   "cell_type": "code",
   "execution_count": 11,
   "id": "2db2d8a4",
   "metadata": {},
   "outputs": [
    {
     "data": {
      "text/html": [
       "<div>\n",
       "<style scoped>\n",
       "    .dataframe tbody tr th:only-of-type {\n",
       "        vertical-align: middle;\n",
       "    }\n",
       "\n",
       "    .dataframe tbody tr th {\n",
       "        vertical-align: top;\n",
       "    }\n",
       "\n",
       "    .dataframe thead th {\n",
       "        text-align: right;\n",
       "    }\n",
       "</style>\n",
       "<table border=\"1\" class=\"dataframe\">\n",
       "  <thead>\n",
       "    <tr style=\"text-align: right;\">\n",
       "      <th></th>\n",
       "      <th>status</th>\n",
       "      <th>alcohol</th>\n",
       "      <th>hepatitis b</th>\n",
       "      <th>measles</th>\n",
       "      <th>bmi</th>\n",
       "      <th>polio</th>\n",
       "      <th>total expenditure</th>\n",
       "      <th>diphtheria</th>\n",
       "      <th>hiv aids</th>\n",
       "      <th>gdp</th>\n",
       "      <th>population</th>\n",
       "      <th>thinness  1 19 years</th>\n",
       "      <th>thinness 5 9 years</th>\n",
       "      <th>schooling</th>\n",
       "    </tr>\n",
       "  </thead>\n",
       "  <tbody>\n",
       "    <tr>\n",
       "      <th>405</th>\n",
       "      <td>Developing</td>\n",
       "      <td>4.55</td>\n",
       "      <td>91.0</td>\n",
       "      <td>2511</td>\n",
       "      <td>16.6</td>\n",
       "      <td>9.0</td>\n",
       "      <td>7.17</td>\n",
       "      <td>91.0</td>\n",
       "      <td>1.0</td>\n",
       "      <td>575.446453</td>\n",
       "      <td>1565217.0</td>\n",
       "      <td>9.0</td>\n",
       "      <td>8.6</td>\n",
       "      <td>6.3</td>\n",
       "    </tr>\n",
       "    <tr>\n",
       "      <th>241</th>\n",
       "      <td>Developed</td>\n",
       "      <td>12.60</td>\n",
       "      <td>98.0</td>\n",
       "      <td>70</td>\n",
       "      <td>63.4</td>\n",
       "      <td>99.0</td>\n",
       "      <td>1.59</td>\n",
       "      <td>99.0</td>\n",
       "      <td>0.1</td>\n",
       "      <td>47439.396840</td>\n",
       "      <td>112957.0</td>\n",
       "      <td>1.0</td>\n",
       "      <td>1.0</td>\n",
       "      <td>16.3</td>\n",
       "    </tr>\n",
       "    <tr>\n",
       "      <th>2564</th>\n",
       "      <td>Developing</td>\n",
       "      <td>0.38</td>\n",
       "      <td>81.0</td>\n",
       "      <td>4</td>\n",
       "      <td>33.0</td>\n",
       "      <td>82.0</td>\n",
       "      <td>5.70</td>\n",
       "      <td>86.0</td>\n",
       "      <td>0.3</td>\n",
       "      <td>39.281834</td>\n",
       "      <td>6712841.0</td>\n",
       "      <td>3.9</td>\n",
       "      <td>3.9</td>\n",
       "      <td>10.5</td>\n",
       "    </tr>\n",
       "    <tr>\n",
       "      <th>2449</th>\n",
       "      <td>Developing</td>\n",
       "      <td>2.29</td>\n",
       "      <td>98.0</td>\n",
       "      <td>44</td>\n",
       "      <td>17.9</td>\n",
       "      <td>98.0</td>\n",
       "      <td>3.76</td>\n",
       "      <td>98.0</td>\n",
       "      <td>0.1</td>\n",
       "      <td>1644.816372</td>\n",
       "      <td>19668.0</td>\n",
       "      <td>15.4</td>\n",
       "      <td>15.5</td>\n",
       "      <td>13.2</td>\n",
       "    </tr>\n",
       "    <tr>\n",
       "      <th>1019</th>\n",
       "      <td>Developing</td>\n",
       "      <td>1.70</td>\n",
       "      <td>84.0</td>\n",
       "      <td>420</td>\n",
       "      <td>23.0</td>\n",
       "      <td>84.0</td>\n",
       "      <td>4.64</td>\n",
       "      <td>84.0</td>\n",
       "      <td>2.9</td>\n",
       "      <td>922.935168</td>\n",
       "      <td>22113425.0</td>\n",
       "      <td>7.9</td>\n",
       "      <td>7.9</td>\n",
       "      <td>8.7</td>\n",
       "    </tr>\n",
       "  </tbody>\n",
       "</table>\n",
       "</div>"
      ],
      "text/plain": [
       "          status  alcohol  hepatitis b  measles    bmi   polio  \\\n",
       "405   Developing     4.55         91.0      2511   16.6    9.0   \n",
       "241    Developed    12.60         98.0        70   63.4   99.0   \n",
       "2564  Developing     0.38         81.0         4   33.0   82.0   \n",
       "2449  Developing     2.29         98.0        44   17.9   98.0   \n",
       "1019  Developing     1.70         84.0       420   23.0   84.0   \n",
       "\n",
       "      total expenditure  diphtheria    hiv aids           gdp  population  \\\n",
       "405                7.17         91.0        1.0    575.446453   1565217.0   \n",
       "241                1.59         99.0        0.1  47439.396840    112957.0   \n",
       "2564               5.70         86.0        0.3     39.281834   6712841.0   \n",
       "2449               3.76         98.0        0.1   1644.816372     19668.0   \n",
       "1019               4.64         84.0        2.9    922.935168  22113425.0   \n",
       "\n",
       "       thinness  1 19 years   thinness 5 9 years  schooling  \n",
       "405                     9.0                  8.6        6.3  \n",
       "241                     1.0                  1.0       16.3  \n",
       "2564                    3.9                  3.9       10.5  \n",
       "2449                   15.4                 15.5       13.2  \n",
       "1019                    7.9                  7.9        8.7  "
      ]
     },
     "execution_count": 11,
     "metadata": {},
     "output_type": "execute_result"
    }
   ],
   "source": [
    "x_train.head()"
   ]
  },
  {
   "cell_type": "code",
   "execution_count": 12,
   "id": "b5b2702e",
   "metadata": {},
   "outputs": [
    {
     "data": {
      "text/html": [
       "<div>\n",
       "<style scoped>\n",
       "    .dataframe tbody tr th:only-of-type {\n",
       "        vertical-align: middle;\n",
       "    }\n",
       "\n",
       "    .dataframe tbody tr th {\n",
       "        vertical-align: top;\n",
       "    }\n",
       "\n",
       "    .dataframe thead th {\n",
       "        text-align: right;\n",
       "    }\n",
       "</style>\n",
       "<table border=\"1\" class=\"dataframe\">\n",
       "  <thead>\n",
       "    <tr style=\"text-align: right;\">\n",
       "      <th></th>\n",
       "      <th>status</th>\n",
       "      <th>alcohol</th>\n",
       "      <th>hepatitis b</th>\n",
       "      <th>measles</th>\n",
       "      <th>bmi</th>\n",
       "      <th>polio</th>\n",
       "      <th>total expenditure</th>\n",
       "      <th>diphtheria</th>\n",
       "      <th>hiv aids</th>\n",
       "      <th>gdp</th>\n",
       "      <th>population</th>\n",
       "      <th>thinness  1 19 years</th>\n",
       "      <th>thinness 5 9 years</th>\n",
       "      <th>schooling</th>\n",
       "    </tr>\n",
       "  </thead>\n",
       "  <tbody>\n",
       "    <tr>\n",
       "      <th>758</th>\n",
       "      <td>Developing</td>\n",
       "      <td>0.44</td>\n",
       "      <td>88.0</td>\n",
       "      <td>7</td>\n",
       "      <td>32.2</td>\n",
       "      <td>88.0</td>\n",
       "      <td>8.84</td>\n",
       "      <td>88.0</td>\n",
       "      <td>3.1</td>\n",
       "      <td>1325.997240</td>\n",
       "      <td>851146.0</td>\n",
       "      <td>5.6</td>\n",
       "      <td>5.6</td>\n",
       "      <td>5.5</td>\n",
       "    </tr>\n",
       "    <tr>\n",
       "      <th>1984</th>\n",
       "      <td>Developing</td>\n",
       "      <td>0.64</td>\n",
       "      <td>71.0</td>\n",
       "      <td>1</td>\n",
       "      <td>41.9</td>\n",
       "      <td>67.0</td>\n",
       "      <td>5.92</td>\n",
       "      <td>72.0</td>\n",
       "      <td>1.5</td>\n",
       "      <td>854.346921</td>\n",
       "      <td>647272.0</td>\n",
       "      <td>1.4</td>\n",
       "      <td>1.4</td>\n",
       "      <td>8.2</td>\n",
       "    </tr>\n",
       "    <tr>\n",
       "      <th>1018</th>\n",
       "      <td>Developing</td>\n",
       "      <td>1.25</td>\n",
       "      <td>94.0</td>\n",
       "      <td>6</td>\n",
       "      <td>23.6</td>\n",
       "      <td>94.0</td>\n",
       "      <td>5.30</td>\n",
       "      <td>94.0</td>\n",
       "      <td>2.6</td>\n",
       "      <td>19.686718</td>\n",
       "      <td>227212.0</td>\n",
       "      <td>7.7</td>\n",
       "      <td>7.6</td>\n",
       "      <td>9.1</td>\n",
       "    </tr>\n",
       "    <tr>\n",
       "      <th>389</th>\n",
       "      <td>Developed</td>\n",
       "      <td>10.80</td>\n",
       "      <td>95.0</td>\n",
       "      <td>22004</td>\n",
       "      <td>62.7</td>\n",
       "      <td>94.0</td>\n",
       "      <td>7.24</td>\n",
       "      <td>94.0</td>\n",
       "      <td>0.1</td>\n",
       "      <td>6843.263289</td>\n",
       "      <td>7395599.0</td>\n",
       "      <td>2.0</td>\n",
       "      <td>2.0</td>\n",
       "      <td>13.9</td>\n",
       "    </tr>\n",
       "    <tr>\n",
       "      <th>1739</th>\n",
       "      <td>Developing</td>\n",
       "      <td>6.17</td>\n",
       "      <td>93.0</td>\n",
       "      <td>0</td>\n",
       "      <td>57.8</td>\n",
       "      <td>95.0</td>\n",
       "      <td>6.13</td>\n",
       "      <td>95.0</td>\n",
       "      <td>0.1</td>\n",
       "      <td>7325.734740</td>\n",
       "      <td>616969.0</td>\n",
       "      <td>2.1</td>\n",
       "      <td>2.1</td>\n",
       "      <td>14.2</td>\n",
       "    </tr>\n",
       "  </tbody>\n",
       "</table>\n",
       "</div>"
      ],
      "text/plain": [
       "          status  alcohol  hepatitis b  measles    bmi   polio  \\\n",
       "758   Developing     0.44         88.0         7   32.2   88.0   \n",
       "1984  Developing     0.64         71.0         1   41.9   67.0   \n",
       "1018  Developing     1.25         94.0         6   23.6   94.0   \n",
       "389    Developed    10.80         95.0     22004   62.7   94.0   \n",
       "1739  Developing     6.17         93.0         0   57.8   95.0   \n",
       "\n",
       "      total expenditure  diphtheria    hiv aids          gdp  population  \\\n",
       "758                8.84         88.0        3.1  1325.997240    851146.0   \n",
       "1984               5.92         72.0        1.5   854.346921    647272.0   \n",
       "1018               5.30         94.0        2.6    19.686718    227212.0   \n",
       "389                7.24         94.0        0.1  6843.263289   7395599.0   \n",
       "1739               6.13         95.0        0.1  7325.734740    616969.0   \n",
       "\n",
       "       thinness  1 19 years   thinness 5 9 years  schooling  \n",
       "758                     5.6                  5.6        5.5  \n",
       "1984                    1.4                  1.4        8.2  \n",
       "1018                    7.7                  7.6        9.1  \n",
       "389                     2.0                  2.0       13.9  \n",
       "1739                    2.1                  2.1       14.2  "
      ]
     },
     "execution_count": 12,
     "metadata": {},
     "output_type": "execute_result"
    }
   ],
   "source": [
    "x_test.head()"
   ]
  },
  {
   "cell_type": "code",
   "execution_count": 13,
   "id": "a855a5dd",
   "metadata": {},
   "outputs": [
    {
     "data": {
      "text/plain": [
       "status                    object\n",
       "alcohol                  float64\n",
       "hepatitis b              float64\n",
       "measles                    int64\n",
       " bmi                     float64\n",
       "polio                    float64\n",
       "total expenditure        float64\n",
       "diphtheria               float64\n",
       " hiv aids                float64\n",
       "gdp                      float64\n",
       "population               float64\n",
       " thinness  1 19 years    float64\n",
       " thinness 5 9 years      float64\n",
       "schooling                float64\n",
       "dtype: object"
      ]
     },
     "execution_count": 13,
     "metadata": {},
     "output_type": "execute_result"
    }
   ],
   "source": [
    "x_train.dtypes"
   ]
  },
  {
   "cell_type": "code",
   "execution_count": 14,
   "id": "0b43f96b",
   "metadata": {},
   "outputs": [],
   "source": [
    "# use one hot encoding to encode object to integer.\n",
    "\n",
    "import category_encoders as ce\n",
    "encoder = ce.OneHotEncoder(use_cat_names=True)\n",
    "x_train2 = encoder.fit_transform(x_train)\n",
    "x_test2 = encoder.transform(x_test)"
   ]
  },
  {
   "cell_type": "code",
   "execution_count": 15,
   "id": "acf29aee",
   "metadata": {},
   "outputs": [
    {
     "data": {
      "text/html": [
       "<div>\n",
       "<style scoped>\n",
       "    .dataframe tbody tr th:only-of-type {\n",
       "        vertical-align: middle;\n",
       "    }\n",
       "\n",
       "    .dataframe tbody tr th {\n",
       "        vertical-align: top;\n",
       "    }\n",
       "\n",
       "    .dataframe thead th {\n",
       "        text-align: right;\n",
       "    }\n",
       "</style>\n",
       "<table border=\"1\" class=\"dataframe\">\n",
       "  <thead>\n",
       "    <tr style=\"text-align: right;\">\n",
       "      <th></th>\n",
       "      <th>status_Developing</th>\n",
       "      <th>status_Developed</th>\n",
       "      <th>alcohol</th>\n",
       "      <th>hepatitis b</th>\n",
       "      <th>measles</th>\n",
       "      <th>bmi</th>\n",
       "      <th>polio</th>\n",
       "      <th>total expenditure</th>\n",
       "      <th>diphtheria</th>\n",
       "      <th>hiv aids</th>\n",
       "      <th>gdp</th>\n",
       "      <th>population</th>\n",
       "      <th>thinness  1 19 years</th>\n",
       "      <th>thinness 5 9 years</th>\n",
       "      <th>schooling</th>\n",
       "    </tr>\n",
       "  </thead>\n",
       "  <tbody>\n",
       "    <tr>\n",
       "      <th>405</th>\n",
       "      <td>1</td>\n",
       "      <td>0</td>\n",
       "      <td>4.55</td>\n",
       "      <td>91.0</td>\n",
       "      <td>2511</td>\n",
       "      <td>16.6</td>\n",
       "      <td>9.0</td>\n",
       "      <td>7.17</td>\n",
       "      <td>91.0</td>\n",
       "      <td>1.0</td>\n",
       "      <td>575.446453</td>\n",
       "      <td>1565217.0</td>\n",
       "      <td>9.0</td>\n",
       "      <td>8.6</td>\n",
       "      <td>6.3</td>\n",
       "    </tr>\n",
       "    <tr>\n",
       "      <th>241</th>\n",
       "      <td>0</td>\n",
       "      <td>1</td>\n",
       "      <td>12.60</td>\n",
       "      <td>98.0</td>\n",
       "      <td>70</td>\n",
       "      <td>63.4</td>\n",
       "      <td>99.0</td>\n",
       "      <td>1.59</td>\n",
       "      <td>99.0</td>\n",
       "      <td>0.1</td>\n",
       "      <td>47439.396840</td>\n",
       "      <td>112957.0</td>\n",
       "      <td>1.0</td>\n",
       "      <td>1.0</td>\n",
       "      <td>16.3</td>\n",
       "    </tr>\n",
       "    <tr>\n",
       "      <th>2564</th>\n",
       "      <td>1</td>\n",
       "      <td>0</td>\n",
       "      <td>0.38</td>\n",
       "      <td>81.0</td>\n",
       "      <td>4</td>\n",
       "      <td>33.0</td>\n",
       "      <td>82.0</td>\n",
       "      <td>5.70</td>\n",
       "      <td>86.0</td>\n",
       "      <td>0.3</td>\n",
       "      <td>39.281834</td>\n",
       "      <td>6712841.0</td>\n",
       "      <td>3.9</td>\n",
       "      <td>3.9</td>\n",
       "      <td>10.5</td>\n",
       "    </tr>\n",
       "    <tr>\n",
       "      <th>2449</th>\n",
       "      <td>1</td>\n",
       "      <td>0</td>\n",
       "      <td>2.29</td>\n",
       "      <td>98.0</td>\n",
       "      <td>44</td>\n",
       "      <td>17.9</td>\n",
       "      <td>98.0</td>\n",
       "      <td>3.76</td>\n",
       "      <td>98.0</td>\n",
       "      <td>0.1</td>\n",
       "      <td>1644.816372</td>\n",
       "      <td>19668.0</td>\n",
       "      <td>15.4</td>\n",
       "      <td>15.5</td>\n",
       "      <td>13.2</td>\n",
       "    </tr>\n",
       "    <tr>\n",
       "      <th>1019</th>\n",
       "      <td>1</td>\n",
       "      <td>0</td>\n",
       "      <td>1.70</td>\n",
       "      <td>84.0</td>\n",
       "      <td>420</td>\n",
       "      <td>23.0</td>\n",
       "      <td>84.0</td>\n",
       "      <td>4.64</td>\n",
       "      <td>84.0</td>\n",
       "      <td>2.9</td>\n",
       "      <td>922.935168</td>\n",
       "      <td>22113425.0</td>\n",
       "      <td>7.9</td>\n",
       "      <td>7.9</td>\n",
       "      <td>8.7</td>\n",
       "    </tr>\n",
       "  </tbody>\n",
       "</table>\n",
       "</div>"
      ],
      "text/plain": [
       "      status_Developing  status_Developed  alcohol  hepatitis b  measles   \\\n",
       "405                   1                 0     4.55         91.0      2511   \n",
       "241                   0                 1    12.60         98.0        70   \n",
       "2564                  1                 0     0.38         81.0         4   \n",
       "2449                  1                 0     2.29         98.0        44   \n",
       "1019                  1                 0     1.70         84.0       420   \n",
       "\n",
       "       bmi   polio  total expenditure  diphtheria    hiv aids           gdp  \\\n",
       "405    16.6    9.0               7.17         91.0        1.0    575.446453   \n",
       "241    63.4   99.0               1.59         99.0        0.1  47439.396840   \n",
       "2564   33.0   82.0               5.70         86.0        0.3     39.281834   \n",
       "2449   17.9   98.0               3.76         98.0        0.1   1644.816372   \n",
       "1019   23.0   84.0               4.64         84.0        2.9    922.935168   \n",
       "\n",
       "      population   thinness  1 19 years   thinness 5 9 years  schooling  \n",
       "405    1565217.0                    9.0                  8.6        6.3  \n",
       "241     112957.0                    1.0                  1.0       16.3  \n",
       "2564   6712841.0                    3.9                  3.9       10.5  \n",
       "2449     19668.0                   15.4                 15.5       13.2  \n",
       "1019  22113425.0                    7.9                  7.9        8.7  "
      ]
     },
     "execution_count": 15,
     "metadata": {},
     "output_type": "execute_result"
    }
   ],
   "source": [
    "x_train2.head()"
   ]
  },
  {
   "cell_type": "code",
   "execution_count": 16,
   "id": "70afb444",
   "metadata": {},
   "outputs": [],
   "source": [
    "#build the model, we import decision tree regressor from SKLEARN\n",
    "\n",
    "from sklearn.tree import DecisionTreeRegressor"
   ]
  },
  {
   "cell_type": "code",
   "execution_count": 17,
   "id": "f5832f80",
   "metadata": {},
   "outputs": [],
   "source": [
    "# instantiate the model\n",
    "\n",
    "dt = DecisionTreeRegressor(random_state=42)"
   ]
  },
  {
   "cell_type": "code",
   "execution_count": 18,
   "id": "79e62b8e",
   "metadata": {},
   "outputs": [
    {
     "data": {
      "text/plain": [
       "DecisionTreeRegressor(random_state=42)"
      ]
     },
     "execution_count": 18,
     "metadata": {},
     "output_type": "execute_result"
    }
   ],
   "source": [
    "# fit the tree model through the x_training data\n",
    "\n",
    "dt.fit(x_train2, y_train)"
   ]
  },
  {
   "cell_type": "code",
   "execution_count": 19,
   "id": "dad6b7dc",
   "metadata": {},
   "outputs": [],
   "source": [
    "# use the model to get a prediction. \n",
    "\n",
    "y_pred_dt = dt.predict(x_test2)"
   ]
  },
  {
   "cell_type": "code",
   "execution_count": 20,
   "id": "a33cf680",
   "metadata": {},
   "outputs": [
    {
     "data": {
      "text/plain": [
       "array([61.8, 62.4, 58.6, 73.2, 72.9])"
      ]
     },
     "execution_count": 20,
     "metadata": {},
     "output_type": "execute_result"
    }
   ],
   "source": [
    "y_pred_dt[:5]"
   ]
  },
  {
   "cell_type": "code",
   "execution_count": 21,
   "id": "85dd6447",
   "metadata": {},
   "outputs": [
    {
     "data": {
      "text/plain": [
       "2.3810810810810814"
      ]
     },
     "execution_count": 21,
     "metadata": {},
     "output_type": "execute_result"
    }
   ],
   "source": [
    "# get error metrics to evaluate model. \n",
    "\n",
    "from sklearn.metrics import mean_absolute_error, r2_score\n",
    "mae = mean_absolute_error(y_test, y_pred_dt)\n",
    "mae"
   ]
  },
  {
   "cell_type": "code",
   "execution_count": 22,
   "id": "8c14fdcb",
   "metadata": {},
   "outputs": [
    {
     "data": {
      "text/plain": [
       "0.6340378935276874"
      ]
     },
     "execution_count": 22,
     "metadata": {},
     "output_type": "execute_result"
    }
   ],
   "source": [
    "# r2 score using sklearn metrics r2 score library\n",
    "r2 = r2_score(y_test, y_pred_dt)\n",
    "r2"
   ]
  },
  {
   "cell_type": "code",
   "execution_count": 23,
   "id": "736c776f",
   "metadata": {},
   "outputs": [
    {
     "data": {
      "text/plain": [
       "0.6340378935276874"
      ]
     },
     "execution_count": 23,
     "metadata": {},
     "output_type": "execute_result"
    }
   ],
   "source": [
    "# r2 score using decision tree regressor scoring method. \n",
    "dt.score(x_test2, y_test)"
   ]
  },
  {
   "cell_type": "code",
   "execution_count": 24,
   "id": "e1c7d766",
   "metadata": {},
   "outputs": [],
   "source": [
    "columns = x_train2.columns"
   ]
  },
  {
   "cell_type": "code",
   "execution_count": 25,
   "id": "0be3f660",
   "metadata": {},
   "outputs": [
    {
     "data": {
      "text/plain": [
       "array([0.00460371, 0.00450844, 0.02540833, 0.00751566, 0.01640495,\n",
       "       0.0312343 , 0.00469847, 0.03167802, 0.00462043, 0.58133561,\n",
       "       0.00962038, 0.00933086, 0.03361856, 0.0133489 , 0.22207338])"
      ]
     },
     "execution_count": 25,
     "metadata": {},
     "output_type": "execute_result"
    }
   ],
   "source": [
    "importance = dt.feature_importances_\n",
    "importance"
   ]
  },
  {
   "cell_type": "code",
   "execution_count": 26,
   "id": "6433617d",
   "metadata": {},
   "outputs": [
    {
     "data": {
      "text/plain": [
       "status_Developing        0.004604\n",
       "status_Developed         0.004508\n",
       "alcohol                  0.025408\n",
       "hepatitis b              0.007516\n",
       "measles                  0.016405\n",
       " bmi                     0.031234\n",
       "polio                    0.004698\n",
       "total expenditure        0.031678\n",
       "diphtheria               0.004620\n",
       " hiv aids                0.581336\n",
       "gdp                      0.009620\n",
       "population               0.009331\n",
       " thinness  1 19 years    0.033619\n",
       " thinness 5 9 years      0.013349\n",
       "schooling                0.222073\n",
       "dtype: float64"
      ]
     },
     "execution_count": 26,
     "metadata": {},
     "output_type": "execute_result"
    }
   ],
   "source": [
    "combo = pd.Series(importance, columns)\n",
    "combo"
   ]
  },
  {
   "cell_type": "code",
   "execution_count": 27,
   "id": "152589c6",
   "metadata": {},
   "outputs": [
    {
     "data": {
      "text/plain": [
       "Text(0.5, 1.0, 'Visualization of decision tree model feature imporances')"
      ]
     },
     "execution_count": 27,
     "metadata": {},
     "output_type": "execute_result"
    },
    {
     "data": {
      "image/png": "[encoded data removed]",
      "text/plain": [
       "<Figure size 432x288 with 1 Axes>"
      ]
     },
     "metadata": {
      "needs_background": "light"
     },
     "output_type": "display_data"
    }
   ],
   "source": [
    "import matplotlib.pyplot as plt\n",
    "from matplotlib.pyplot import figure\n",
    "\n",
    "figure(figsize=(6,4))\n",
    "\n",
    "combo.sort_values().plot.barh(color='red')\n",
    "plt.title('Visualization of decision tree model feature imporances')"
   ]
  },
  {
   "cell_type": "markdown",
   "id": "546b769a",
   "metadata": {},
   "source": [
    "### Hyperparameter tuning with GridSearchCV"
   ]
  },
  {
   "cell_type": "code",
   "execution_count": 28,
   "id": "f72a0836",
   "metadata": {},
   "outputs": [
    {
     "data": {
      "text/plain": [
       "GridSearchCV(cv=5, estimator=DecisionTreeRegressor(random_state=42),\n",
       "             param_grid={'criterion': ['mse', 'mae'], 'max_depth': [2, 6, 8],\n",
       "                         'max_leaf_nodes': [5, 20, 100],\n",
       "                         'min_samples_leaf': [20, 40, 100],\n",
       "                         'min_samples_split': [10, 20, 40]})"
      ]
     },
     "execution_count": 28,
     "metadata": {},
     "output_type": "execute_result"
    }
   ],
   "source": [
    "param_grid = {\"criterion\": [\"mse\", \"mae\"],\n",
    "              \"min_samples_split\": [10, 20, 40],\n",
    "              \"max_depth\": [2, 6, 8],\n",
    "              \"min_samples_leaf\": [20, 40, 100],\n",
    "              \"max_leaf_nodes\": [5, 20, 100],\n",
    "              }\n",
    "\n",
    "\n",
    "grid_cv_dt = GridSearchCV(dt, param_grid, cv=5)\n",
    "\n",
    "grid_cv_dt.fit(x_train2, y_train)"
   ]
  },
  {
   "cell_type": "code",
   "execution_count": 29,
   "id": "e4d289c7",
   "metadata": {},
   "outputs": [
    {
     "ename": "NameError",
     "evalue": "name 'grid_cv_dtm' is not defined",
     "output_type": "error",
     "traceback": [
      "\u001b[1;31m---------------------------------------------------------------------------\u001b[0m",
      "\u001b[1;31mNameError\u001b[0m                                 Traceback (most recent call last)",
      "\u001b[1;32m<ipython-input-29-8f05ff8b9532>\u001b[0m in \u001b[0;36m<module>\u001b[1;34m\u001b[0m\n\u001b[1;32m----> 1\u001b[1;33m \u001b[0mprint\u001b[0m\u001b[1;33m(\u001b[0m\u001b[1;34m\"R-Squared::{}\"\u001b[0m\u001b[1;33m.\u001b[0m\u001b[0mformat\u001b[0m\u001b[1;33m(\u001b[0m\u001b[0mgrid_cv_dtm\u001b[0m\u001b[1;33m.\u001b[0m\u001b[0mbest_score_\u001b[0m\u001b[1;33m)\u001b[0m\u001b[1;33m)\u001b[0m\u001b[1;33m\u001b[0m\u001b[1;33m\u001b[0m\u001b[0m\n\u001b[0m\u001b[0;32m      2\u001b[0m \u001b[0mprint\u001b[0m\u001b[1;33m(\u001b[0m\u001b[1;34m\"Best Hyperparameters::\\n{}\"\u001b[0m\u001b[1;33m.\u001b[0m\u001b[0mformat\u001b[0m\u001b[1;33m(\u001b[0m\u001b[0mgrid_cv_dtm\u001b[0m\u001b[1;33m.\u001b[0m\u001b[0mbest_params_\u001b[0m\u001b[1;33m)\u001b[0m\u001b[1;33m)\u001b[0m\u001b[1;33m\u001b[0m\u001b[1;33m\u001b[0m\u001b[0m\n",
      "\u001b[1;31mNameError\u001b[0m: name 'grid_cv_dtm' is not defined"
     ]
    }
   ],
   "source": [
    "print(\"R-Squared::{}\".format(grid_cv_dtm.best_score_))\n",
    "print(\"Best Hyperparameters::\\n{}\".format(grid_cv_dtm.best_params_))"
   ]
  },
  {
   "cell_type": "code",
   "execution_count": 30,
   "id": "a7b84357",
   "metadata": {},
   "outputs": [],
   "source": [
    "df = pd.DataFrame(data=grid_cv_dt.cv_results_)"
   ]
  },
  {
   "cell_type": "code",
   "execution_count": 31,
   "id": "8b018358",
   "metadata": {},
   "outputs": [
    {
     "data": {
      "text/plain": [
       "[Text(0.5, 1.0, 'Effect of Depth and Leaf Nodes on Model Performance')]"
      ]
     },
     "execution_count": 31,
     "metadata": {},
     "output_type": "execute_result"
    },
    {
     "data": {
      "image/png": "[encoded data removed]",
      "text/plain": [
       "<Figure size 432x288 with 1 Axes>"
      ]
     },
     "metadata": {
      "needs_background": "light"
     },
     "output_type": "display_data"
    }
   ],
   "source": [
    "fig,ax = plt.subplots()\n",
    "sns.pointplot(data=df[['mean_test_score',\n",
    "                           'param_max_leaf_nodes',\n",
    "                           'param_max_depth']],\n",
    "             y='mean_test_score',x='param_max_depth',\n",
    "             hue='param_max_leaf_nodes',ax=ax)\n",
    "ax.set(title=\"Effect of Depth and Leaf Nodes on Model Performance\")"
   ]
  },
  {
   "cell_type": "code",
   "execution_count": 32,
   "id": "7199f0fb",
   "metadata": {},
   "outputs": [
    {
     "name": "stdout",
     "output_type": "stream",
     "text": [
      "avg R-squared::0.851\n",
      "MSE::-11.100\n"
     ]
    }
   ],
   "source": [
    "# Checking the training model scores\n",
    "r2_scores = cross_val_score(grid_cv_dt.best_estimator_, x_train2, y_train, cv=10)\n",
    "mse_scores = cross_val_score(grid_cv_dt.best_estimator_, x_train2, y_train, cv=10,scoring='neg_mean_squared_error')\n",
    "\n",
    "print(\"avg R-squared::{:.3f}\".format(np.mean(r2_scores)))\n",
    "print(\"MSE::{:.3f}\".format(np.mean(mse_scores)))"
   ]
  },
  {
   "cell_type": "markdown",
   "id": "826d7a13",
   "metadata": {},
   "source": [
    "#### As we can see the accuracy we got earlier was approx 63% but after hyperparameter tuning the accuracy is improved to 85%."
   ]
  }
 ],
 "metadata": {
  "kernelspec": {
   "display_name": "Python 3",
   "language": "python",
   "name": "python3"
  },
  "language_info": {
   "codemirror_mode": {
    "name": "ipython",
    "version": 3
   },
   "file_extension": ".py",
   "mimetype": "text/x-python",
   "name": "python",
   "nbconvert_exporter": "python",
   "pygments_lexer": "ipython3",
   "version": "3.8.8"
  }
 },
 "nbformat": 4,
 "nbformat_minor": 5
}
