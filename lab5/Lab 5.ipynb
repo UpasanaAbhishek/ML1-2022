{
 "cells": [
  {
   "cell_type": "markdown",
   "id": "0826564b",
   "metadata": {},
   "source": [
    "# Question - 1"
   ]
  },
  {
   "cell_type": "code",
   "execution_count": 35,
   "id": "08f5c52f",
   "metadata": {},
   "outputs": [],
   "source": [
    "import pandas as pd\n",
    "import numpy as np\n",
    "import matplotlib.pyplot as plt\n",
    "import seaborn as sns\n",
    "\n",
    "%matplotlib inline\n",
    "sns.set_style(\"whitegrid\")\n",
    "plt.style.use(\"fivethirtyeight\")"
   ]
  },
  {
   "cell_type": "code",
   "execution_count": 36,
   "id": "09e0aa3b",
   "metadata": {},
   "outputs": [
    {
     "data": {
      "text/html": [
       "<div>\n",
       "<style scoped>\n",
       "    .dataframe tbody tr th:only-of-type {\n",
       "        vertical-align: middle;\n",
       "    }\n",
       "\n",
       "    .dataframe tbody tr th {\n",
       "        vertical-align: top;\n",
       "    }\n",
       "\n",
       "    .dataframe thead th {\n",
       "        text-align: right;\n",
       "    }\n",
       "</style>\n",
       "<table border=\"1\" class=\"dataframe\">\n",
       "  <thead>\n",
       "    <tr style=\"text-align: right;\">\n",
       "      <th></th>\n",
       "      <th>Pregnancies</th>\n",
       "      <th>Glucose</th>\n",
       "      <th>BloodPressure</th>\n",
       "      <th>SkinThickness</th>\n",
       "      <th>Insulin</th>\n",
       "      <th>BMI</th>\n",
       "      <th>DiabetesPedigreeFunction</th>\n",
       "      <th>Age</th>\n",
       "      <th>Outcome</th>\n",
       "    </tr>\n",
       "  </thead>\n",
       "  <tbody>\n",
       "    <tr>\n",
       "      <th>0</th>\n",
       "      <td>6</td>\n",
       "      <td>148</td>\n",
       "      <td>72</td>\n",
       "      <td>35</td>\n",
       "      <td>0</td>\n",
       "      <td>33.6</td>\n",
       "      <td>0.627</td>\n",
       "      <td>50</td>\n",
       "      <td>1</td>\n",
       "    </tr>\n",
       "    <tr>\n",
       "      <th>1</th>\n",
       "      <td>1</td>\n",
       "      <td>85</td>\n",
       "      <td>66</td>\n",
       "      <td>29</td>\n",
       "      <td>0</td>\n",
       "      <td>26.6</td>\n",
       "      <td>0.351</td>\n",
       "      <td>31</td>\n",
       "      <td>0</td>\n",
       "    </tr>\n",
       "    <tr>\n",
       "      <th>2</th>\n",
       "      <td>8</td>\n",
       "      <td>183</td>\n",
       "      <td>64</td>\n",
       "      <td>0</td>\n",
       "      <td>0</td>\n",
       "      <td>23.3</td>\n",
       "      <td>0.672</td>\n",
       "      <td>32</td>\n",
       "      <td>1</td>\n",
       "    </tr>\n",
       "    <tr>\n",
       "      <th>3</th>\n",
       "      <td>1</td>\n",
       "      <td>89</td>\n",
       "      <td>66</td>\n",
       "      <td>23</td>\n",
       "      <td>94</td>\n",
       "      <td>28.1</td>\n",
       "      <td>0.167</td>\n",
       "      <td>21</td>\n",
       "      <td>0</td>\n",
       "    </tr>\n",
       "    <tr>\n",
       "      <th>4</th>\n",
       "      <td>0</td>\n",
       "      <td>137</td>\n",
       "      <td>40</td>\n",
       "      <td>35</td>\n",
       "      <td>168</td>\n",
       "      <td>43.1</td>\n",
       "      <td>2.288</td>\n",
       "      <td>33</td>\n",
       "      <td>1</td>\n",
       "    </tr>\n",
       "  </tbody>\n",
       "</table>\n",
       "</div>"
      ],
      "text/plain": [
       "   Pregnancies  Glucose  BloodPressure  SkinThickness  Insulin   BMI  \\\n",
       "0            6      148             72             35        0  33.6   \n",
       "1            1       85             66             29        0  26.6   \n",
       "2            8      183             64              0        0  23.3   \n",
       "3            1       89             66             23       94  28.1   \n",
       "4            0      137             40             35      168  43.1   \n",
       "\n",
       "   DiabetesPedigreeFunction  Age  Outcome  \n",
       "0                     0.627   50        1  \n",
       "1                     0.351   31        0  \n",
       "2                     0.672   32        1  \n",
       "3                     0.167   21        0  \n",
       "4                     2.288   33        1  "
      ]
     },
     "execution_count": 36,
     "metadata": {},
     "output_type": "execute_result"
    }
   ],
   "source": [
    "df = pd.read_csv(\"diabetes.csv\")\n",
    "df.head()"
   ]
  },
  {
   "cell_type": "markdown",
   "id": "508e4913",
   "metadata": {},
   "source": [
    "# 1. Bagging"
   ]
  },
  {
   "cell_type": "code",
   "execution_count": 38,
   "id": "655ffa1c",
   "metadata": {},
   "outputs": [],
   "source": [
    "categorical_val = []\n",
    "continous_val = []\n",
    "for column in df.columns:\n",
    "#     print('==============================')\n",
    "#     print(f\"{column} : {df[column].unique()}\")\n",
    "    if len(df[column].unique()) <= 10:\n",
    "        categorical_val.append(column)\n",
    "    else:\n",
    "        continous_val.append(column)"
   ]
  },
  {
   "cell_type": "code",
   "execution_count": 40,
   "id": "f799d817",
   "metadata": {},
   "outputs": [
    {
     "name": "stdout",
     "output_type": "stream",
     "text": [
      "============================================\n",
      "Pregnancies ==> Missing zeros : 111\n",
      "============================================\n",
      "Glucose ==> Missing zeros : 5\n",
      "============================================\n",
      "BloodPressure ==> Missing zeros : 35\n",
      "============================================\n",
      "SkinThickness ==> Missing zeros : 227\n",
      "============================================\n",
      "Insulin ==> Missing zeros : 374\n",
      "============================================\n",
      "BMI ==> Missing zeros : 11\n",
      "============================================\n",
      "DiabetesPedigreeFunction ==> Missing zeros : 0\n",
      "============================================\n",
      "Age ==> Missing zeros : 0\n"
     ]
    }
   ],
   "source": [
    "feature_columns = ['Pregnancies', 'Glucose', 'BloodPressure', 'SkinThickness', 'Insulin', 'BMI', 'DiabetesPedigreeFunction', 'Age']\n",
    "for column in feature_columns:\n",
    "    print(\"============================================\")\n",
    "    print(f\"{column} ==> Missing zeros : {len(df.loc[df[column] == 0])}\")"
   ]
  },
  {
   "cell_type": "code",
   "execution_count": 41,
   "id": "07a97099",
   "metadata": {},
   "outputs": [],
   "source": [
    "from sklearn.impute import SimpleImputer\n",
    "\n",
    "fill_values = SimpleImputer(missing_values=0, strategy=\"mean\", copy=False)\n",
    "\n",
    "df[feature_columns] = fill_values.fit_transform(df[feature_columns])"
   ]
  },
  {
   "cell_type": "code",
   "execution_count": 42,
   "id": "35edb5b4",
   "metadata": {},
   "outputs": [
    {
     "name": "stdout",
     "output_type": "stream",
     "text": [
      "============================================\n",
      "Pregnancies ==> Missing zeros : 0\n",
      "============================================\n",
      "Glucose ==> Missing zeros : 0\n",
      "============================================\n",
      "BloodPressure ==> Missing zeros : 0\n",
      "============================================\n",
      "SkinThickness ==> Missing zeros : 0\n",
      "============================================\n",
      "Insulin ==> Missing zeros : 0\n",
      "============================================\n",
      "BMI ==> Missing zeros : 0\n",
      "============================================\n",
      "DiabetesPedigreeFunction ==> Missing zeros : 0\n",
      "============================================\n",
      "Age ==> Missing zeros : 0\n"
     ]
    }
   ],
   "source": [
    "for column in feature_columns:\n",
    "    print(\"============================================\")\n",
    "    print(f\"{column} ==> Missing zeros : {len(df.loc[df[column] == 0])}\")"
   ]
  },
  {
   "cell_type": "code",
   "execution_count": 43,
   "id": "6dc1e768",
   "metadata": {},
   "outputs": [],
   "source": [
    "from sklearn.model_selection import train_test_split\n",
    "\n",
    "\n",
    "X = df[feature_columns]\n",
    "y = df.Outcome\n",
    "\n",
    "X_train, X_test, y_train, y_test = train_test_split(X, y, test_size=0.3, random_state=42)"
   ]
  },
  {
   "cell_type": "code",
   "execution_count": 44,
   "id": "3eba286e",
   "metadata": {},
   "outputs": [],
   "source": [
    "from sklearn.metrics import confusion_matrix, accuracy_score, classification_report\n",
    "\n",
    "\n",
    "def evaluate(model, X_train, X_test, y_train, y_test):\n",
    "    y_test_pred = model.predict(X_test)\n",
    "    y_train_pred = model.predict(X_train)\n",
    "\n",
    "    print(\"TRAINIG RESULTS: \\n===============================\")\n",
    "    clf_report = pd.DataFrame(classification_report(y_train, y_train_pred, output_dict=True))\n",
    "    print(f\"CONFUSION MATRIX:\\n{confusion_matrix(y_train, y_train_pred)}\")\n",
    "    print(f\"ACCURACY SCORE:\\n{accuracy_score(y_train, y_train_pred):.4f}\")\n",
    "    print(f\"CLASSIFICATION REPORT:\\n{clf_report}\")\n",
    "\n",
    "    print(\"TESTING RESULTS: \\n===============================\")\n",
    "    clf_report = pd.DataFrame(classification_report(y_test, y_test_pred, output_dict=True))\n",
    "    print(f\"CONFUSION MATRIX:\\n{confusion_matrix(y_test, y_test_pred)}\")\n",
    "    print(f\"ACCURACY SCORE:\\n{accuracy_score(y_test, y_test_pred):.4f}\")\n",
    "    print(f\"CLASSIFICATION REPORT:\\n{clf_report}\")"
   ]
  },
  {
   "cell_type": "code",
   "execution_count": 45,
   "id": "ff7cb1a9",
   "metadata": {},
   "outputs": [
    {
     "name": "stdout",
     "output_type": "stream",
     "text": [
      "TRAINIG RESULTS: \n",
      "===============================\n",
      "CONFUSION MATRIX:\n",
      "[[349   0]\n",
      " [  0 188]]\n",
      "ACCURACY SCORE:\n",
      "1.0000\n",
      "CLASSIFICATION REPORT:\n",
      "               0      1  accuracy  macro avg  weighted avg\n",
      "precision    1.0    1.0       1.0        1.0           1.0\n",
      "recall       1.0    1.0       1.0        1.0           1.0\n",
      "f1-score     1.0    1.0       1.0        1.0           1.0\n",
      "support    349.0  188.0       1.0      537.0         537.0\n",
      "TESTING RESULTS: \n",
      "===============================\n",
      "CONFUSION MATRIX:\n",
      "[[119  32]\n",
      " [ 24  56]]\n",
      "ACCURACY SCORE:\n",
      "0.7576\n",
      "CLASSIFICATION REPORT:\n",
      "                    0          1  accuracy   macro avg  weighted avg\n",
      "precision    0.832168   0.636364  0.757576    0.734266      0.764357\n",
      "recall       0.788079   0.700000  0.757576    0.744040      0.757576\n",
      "f1-score     0.809524   0.666667  0.757576    0.738095      0.760049\n",
      "support    151.000000  80.000000  0.757576  231.000000    231.000000\n"
     ]
    }
   ],
   "source": [
    "from sklearn.ensemble import BaggingClassifier\n",
    "from sklearn.tree import DecisionTreeClassifier\n",
    "\n",
    "tree = DecisionTreeClassifier()\n",
    "bagging_clf = BaggingClassifier(base_estimator=tree, n_estimators=1500, random_state=42)\n",
    "bagging_clf.fit(X_train, y_train)\n",
    "\n",
    "evaluate(bagging_clf, X_train, X_test, y_train, y_test)"
   ]
  },
  {
   "cell_type": "code",
   "execution_count": 46,
   "id": "323a3546",
   "metadata": {},
   "outputs": [],
   "source": [
    "scores = {\n",
    "    'Bagging Classifier': {\n",
    "        'Train': accuracy_score(y_train, bagging_clf.predict(X_train)),\n",
    "        'Test': accuracy_score(y_test, bagging_clf.predict(X_test)),\n",
    "    },\n",
    "}"
   ]
  },
  {
   "cell_type": "markdown",
   "id": "30c60c91",
   "metadata": {},
   "source": [
    "# 2. Random Forest"
   ]
  },
  {
   "cell_type": "code",
   "execution_count": 47,
   "id": "ce0b2fba",
   "metadata": {},
   "outputs": [
    {
     "name": "stdout",
     "output_type": "stream",
     "text": [
      "TRAINIG RESULTS: \n",
      "===============================\n",
      "CONFUSION MATRIX:\n",
      "[[349   0]\n",
      " [  0 188]]\n",
      "ACCURACY SCORE:\n",
      "1.0000\n",
      "CLASSIFICATION REPORT:\n",
      "               0      1  accuracy  macro avg  weighted avg\n",
      "precision    1.0    1.0       1.0        1.0           1.0\n",
      "recall       1.0    1.0       1.0        1.0           1.0\n",
      "f1-score     1.0    1.0       1.0        1.0           1.0\n",
      "support    349.0  188.0       1.0      537.0         537.0\n",
      "TESTING RESULTS: \n",
      "===============================\n",
      "CONFUSION MATRIX:\n",
      "[[123  28]\n",
      " [ 29  51]]\n",
      "ACCURACY SCORE:\n",
      "0.7532\n",
      "CLASSIFICATION REPORT:\n",
      "                    0          1  accuracy   macro avg  weighted avg\n",
      "precision    0.809211   0.645570  0.753247    0.727390      0.752538\n",
      "recall       0.814570   0.637500  0.753247    0.726035      0.753247\n",
      "f1-score     0.811881   0.641509  0.753247    0.726695      0.752878\n",
      "support    151.000000  80.000000  0.753247  231.000000    231.000000\n"
     ]
    }
   ],
   "source": [
    "from sklearn.ensemble import RandomForestClassifier\n",
    "\n",
    "rf_clf = RandomForestClassifier(random_state=42, n_estimators=1000)\n",
    "rf_clf.fit(X_train, y_train)\n",
    "evaluate(rf_clf, X_train, X_test, y_train, y_test)"
   ]
  },
  {
   "cell_type": "code",
   "execution_count": 48,
   "id": "921ee1e7",
   "metadata": {},
   "outputs": [],
   "source": [
    "scores['Random Forest'] = {\n",
    "        'Train': accuracy_score(y_train, rf_clf.predict(X_train)),\n",
    "        'Test': accuracy_score(y_test, rf_clf.predict(X_test)),\n",
    "    }"
   ]
  },
  {
   "cell_type": "markdown",
   "id": "95fea99a",
   "metadata": {},
   "source": [
    "# 3.Boosting"
   ]
  },
  {
   "cell_type": "code",
   "execution_count": 54,
   "id": "96aeb034",
   "metadata": {},
   "outputs": [
    {
     "name": "stdout",
     "output_type": "stream",
     "text": [
      "TRAINIG RESULTS: \n",
      "===============================\n",
      "CONFUSION MATRIX:\n",
      "[[310  39]\n",
      " [ 51 137]]\n",
      "ACCURACY SCORE:\n",
      "0.8324\n",
      "CLASSIFICATION REPORT:\n",
      "                    0           1  accuracy   macro avg  weighted avg\n",
      "precision    0.858726    0.778409  0.832402    0.818567      0.830607\n",
      "recall       0.888252    0.728723  0.832402    0.808488      0.832402\n",
      "f1-score     0.873239    0.752747  0.832402    0.812993      0.831056\n",
      "support    349.000000  188.000000  0.832402  537.000000    537.000000\n",
      "TESTING RESULTS: \n",
      "===============================\n",
      "CONFUSION MATRIX:\n",
      "[[123  28]\n",
      " [ 27  53]]\n",
      "ACCURACY SCORE:\n",
      "0.7619\n",
      "CLASSIFICATION REPORT:\n",
      "                    0          1  accuracy   macro avg  weighted avg\n",
      "precision    0.820000   0.654321  0.761905    0.737160      0.762622\n",
      "recall       0.814570   0.662500  0.761905    0.738535      0.761905\n",
      "f1-score     0.817276   0.658385  0.761905    0.737830      0.762249\n",
      "support    151.000000  80.000000  0.761905  231.000000    231.000000\n"
     ]
    }
   ],
   "source": [
    "from sklearn.ensemble import AdaBoostClassifier\n",
    "\n",
    "ada_boost_clf = AdaBoostClassifier(n_estimators=30)\n",
    "ada_boost_clf.fit(X_train, y_train)\n",
    "evaluate(ada_boost_clf, X_train, X_test, y_train, y_test)"
   ]
  },
  {
   "cell_type": "code",
   "execution_count": 50,
   "id": "f992a535",
   "metadata": {},
   "outputs": [],
   "source": [
    "scores['AdaBoost'] = {\n",
    "        'Train': accuracy_score(y_train, ada_boost_clf.predict(X_train)),\n",
    "        'Test': accuracy_score(y_test, ada_boost_clf.predict(X_test)),\n",
    "    }"
   ]
  },
  {
   "cell_type": "markdown",
   "id": "8298cea7",
   "metadata": {},
   "source": [
    "# 4. Logistic regression "
   ]
  },
  {
   "cell_type": "code",
   "execution_count": 51,
   "id": "b94245c3",
   "metadata": {},
   "outputs": [],
   "source": [
    "from sklearn.model_selection import learning_curve\n",
    "\n",
    "from sklearn.model_selection import cross_val_score\n",
    "from sklearn.metrics import classification_report, confusion_matrix\n",
    "from sklearn.metrics import recall_score, precision_score, accuracy_score, plot_confusion_matrix, classification_report, f1_score"
   ]
  },
  {
   "cell_type": "code",
   "execution_count": 53,
   "id": "5615ae50",
   "metadata": {},
   "outputs": [
    {
     "name": "stdout",
     "output_type": "stream",
     "text": [
      "TRAINIG RESULTS: \n",
      "===============================\n",
      "CONFUSION MATRIX:\n",
      "[[310  39]\n",
      " [ 78 110]]\n",
      "ACCURACY SCORE:\n",
      "0.7821\n",
      "CLASSIFICATION REPORT:\n",
      "                    0           1  accuracy   macro avg  weighted avg\n",
      "precision    0.798969    0.738255  0.782123    0.768612      0.777714\n",
      "recall       0.888252    0.585106  0.782123    0.736679      0.782123\n",
      "f1-score     0.841248    0.652819  0.782123    0.747034      0.775280\n",
      "support    349.000000  188.000000  0.782123  537.000000    537.000000\n",
      "TESTING RESULTS: \n",
      "===============================\n",
      "CONFUSION MATRIX:\n",
      "[[122  29]\n",
      " [ 32  48]]\n",
      "ACCURACY SCORE:\n",
      "0.7359\n",
      "CLASSIFICATION REPORT:\n",
      "                    0          1  accuracy   macro avg  weighted avg\n",
      "precision    0.792208   0.623377  0.735931    0.707792      0.733738\n",
      "recall       0.807947   0.600000  0.735931    0.703974      0.735931\n",
      "f1-score     0.800000   0.611465  0.735931    0.705732      0.734706\n",
      "support    151.000000  80.000000  0.735931  231.000000    231.000000\n"
     ]
    },
    {
     "name": "stderr",
     "output_type": "stream",
     "text": [
      "C:\\Users\\124ab\\Anaconda3\\lib\\site-packages\\sklearn\\linear_model\\_logistic.py:814: ConvergenceWarning: lbfgs failed to converge (status=1):\n",
      "STOP: TOTAL NO. of ITERATIONS REACHED LIMIT.\n",
      "\n",
      "Increase the number of iterations (max_iter) or scale the data as shown in:\n",
      "    https://scikit-learn.org/stable/modules/preprocessing.html\n",
      "Please also refer to the documentation for alternative solver options:\n",
      "    https://scikit-learn.org/stable/modules/linear_model.html#logistic-regression\n",
      "  n_iter_i = _check_optimize_result(\n"
     ]
    }
   ],
   "source": [
    "from sklearn.linear_model import LogisticRegression\n",
    "\n",
    "log_clf = LogisticRegression(random_state=42)\n",
    "log_clf.fit(X_train, y_train)\n",
    "evaluate(log_clf, X_train, X_test, y_train, y_test)"
   ]
  },
  {
   "cell_type": "code",
   "execution_count": 55,
   "id": "9c312f44",
   "metadata": {},
   "outputs": [],
   "source": [
    "scores['Logisticregression'] = {\n",
    "        'Train': accuracy_score(y_train, log_clf.predict(X_train)),\n",
    "        'Test': accuracy_score(y_test, log_clf.predict(X_test)),\n",
    "    }"
   ]
  },
  {
   "cell_type": "markdown",
   "id": "13bf4cfe",
   "metadata": {},
   "source": [
    "# 5. SVM"
   ]
  },
  {
   "cell_type": "code",
   "execution_count": 56,
   "id": "64669510",
   "metadata": {},
   "outputs": [],
   "source": [
    "from sklearn import svm\n"
   ]
  },
  {
   "cell_type": "code",
   "execution_count": 58,
   "id": "092322d4",
   "metadata": {},
   "outputs": [
    {
     "name": "stdout",
     "output_type": "stream",
     "text": [
      "TRAINIG RESULTS: \n",
      "===============================\n",
      "CONFUSION MATRIX:\n",
      "[[319  30]\n",
      " [ 95  93]]\n",
      "ACCURACY SCORE:\n",
      "0.7672\n",
      "CLASSIFICATION REPORT:\n",
      "                    0           1  accuracy   macro avg  weighted avg\n",
      "precision    0.770531    0.756098  0.767225    0.763314      0.765478\n",
      "recall       0.914040    0.494681  0.767225    0.704360      0.767225\n",
      "f1-score     0.836173    0.598071  0.767225    0.717122      0.752815\n",
      "support    349.000000  188.000000  0.767225  537.000000    537.000000\n",
      "TESTING RESULTS: \n",
      "===============================\n",
      "CONFUSION MATRIX:\n",
      "[[130  21]\n",
      " [ 41  39]]\n",
      "ACCURACY SCORE:\n",
      "0.7316\n",
      "CLASSIFICATION REPORT:\n",
      "                    0          1  accuracy   macro avg  weighted avg\n",
      "precision    0.760234   0.650000  0.731602    0.705117      0.722058\n",
      "recall       0.860927   0.487500  0.731602    0.674214      0.731602\n",
      "f1-score     0.807453   0.557143  0.731602    0.682298      0.720766\n",
      "support    151.000000  80.000000  0.731602  231.000000    231.000000\n"
     ]
    }
   ],
   "source": [
    "svm_clf = svm.SVC()\n",
    "svm_clf.fit(X_train, y_train)\n",
    "evaluate(svm_clf, X_train, X_test, y_train, y_test)"
   ]
  },
  {
   "cell_type": "code",
   "execution_count": 59,
   "id": "47d7f34a",
   "metadata": {},
   "outputs": [],
   "source": [
    "scores['SVM'] = {\n",
    "        'Train': accuracy_score(y_train, svm_clf.predict(X_train)),\n",
    "        'Test': accuracy_score(y_test, svm_clf.predict(X_test)),\n",
    "    }"
   ]
  },
  {
   "cell_type": "code",
   "execution_count": 60,
   "id": "eddfb1e7",
   "metadata": {},
   "outputs": [
    {
     "data": {
      "text/plain": [
       "<AxesSubplot:>"
      ]
     },
     "execution_count": 60,
     "metadata": {},
     "output_type": "execute_result"
    },
    {
     "data": {
      "image/png": "[encoded data removed]",
      "text/plain": [
       "<Figure size 1080x576 with 1 Axes>"
      ]
     },
     "metadata": {},
     "output_type": "display_data"
    }
   ],
   "source": [
    "scores_df = pd.DataFrame(scores)\n",
    "\n",
    "scores_df.plot(kind='barh', figsize=(15, 8))"
   ]
  },
  {
   "cell_type": "markdown",
   "id": "42ba3248",
   "metadata": {},
   "source": [
    "# Question - 2"
   ]
  },
  {
   "cell_type": "code",
   "execution_count": 61,
   "id": "77a801f2",
   "metadata": {},
   "outputs": [],
   "source": [
    "# 1.1 Call Libraries and import Dataset.\n",
    "%reset -f\n",
    "import numpy as np\n",
    "import pandas as pd\n",
    "from pandas.io.parsers import read_csv\n",
    "from sklearn.model_selection import train_test_split\n",
    "from sklearn.preprocessing import StandardScaler\n",
    "from sklearn.preprocessing import OneHotEncoder\n",
    "from sklearn.impute import SimpleImputer\n",
    "from sklearn.pipeline import Pipeline\n",
    "from sklearn.compose import ColumnTransformer\n",
    "from sklearn.tree import DecisionTreeClassifier\n",
    "import matplotlib as plt\n",
    "import seaborn as sns\n",
    "from sklearn.metrics import accuracy_score\n",
    "from sklearn.metrics import mean_squared_error as MSE\n",
    "\n",
    "#2.0 Import OS directory and import data from CSV file\n",
    "import os          \n",
    "carvan = read_csv('caravan-insurance-challenge.csv')\n"
   ]
  },
  {
   "cell_type": "code",
   "execution_count": 62,
   "id": "25472031",
   "metadata": {},
   "outputs": [
    {
     "data": {
      "text/plain": [
       "0    9236\n",
       "1     586\n",
       "Name: CARAVAN, dtype: int64"
      ]
     },
     "execution_count": 62,
     "metadata": {},
     "output_type": "execute_result"
    }
   ],
   "source": [
    "carvan['CARAVAN'].value_counts()"
   ]
  },
  {
   "cell_type": "code",
   "execution_count": 63,
   "id": "93a60cd2",
   "metadata": {},
   "outputs": [],
   "source": [
    "#2.2 Divide the Data into Training and Testing Data. \n",
    "#After division Carvan_train is my training dataset and Carvan_test is my testing dataset.\n",
    "carvan_train = carvan.loc[carvan['ORIGIN'] == 'train']\n",
    "carvan_train = carvan_train.drop(['ORIGIN'],axis =1)\n",
    "carvan_test = carvan.loc[carvan['ORIGIN'] == 'test']\n",
    "carvan_test = carvan_test.drop(['ORIGIN'],axis =1)\n",
    "\n",
    "#2.3 Divide the carvan_train and carvan_test data into X_train,y_train,X_test and y_test\n",
    "\n",
    "y_train = carvan_train.pop(\"CARAVAN\")\n",
    "X_train = carvan_train\n",
    "y_test = carvan_test.pop(\"CARAVAN\")\n",
    "X_test = carvan_test"
   ]
  },
  {
   "cell_type": "code",
   "execution_count": 64,
   "id": "63543c25",
   "metadata": {},
   "outputs": [
    {
     "data": {
      "text/plain": [
       "[]"
      ]
     },
     "execution_count": 64,
     "metadata": {},
     "output_type": "execute_result"
    }
   ],
   "source": [
    "colunique=X_train.nunique\n",
    "cols= (X_train.nunique() < 41 )\n",
    "cols\n",
    "cat_cols = cols[cols==True].index.tolist()\n",
    "num_cols = cols[cols==False].index.tolist()\n",
    "cat_cols\n",
    "num_cols"
   ]
  },
  {
   "cell_type": "code",
   "execution_count": 65,
   "id": "88fcdcfa",
   "metadata": {},
   "outputs": [
    {
     "data": {
      "text/plain": [
       "0.93225"
      ]
     },
     "execution_count": 65,
     "metadata": {},
     "output_type": "execute_result"
    }
   ],
   "source": [
    "#2.5 First Doing decision Tree Classification we find the score of dataset.\n",
    "\n",
    "from sklearn.tree import DecisionTreeClassifier\n",
    "\n",
    "dt = DecisionTreeClassifier(max_depth=6)\n",
    "dt.fit(X_train,y_train)\n",
    "y_predict_dt = dt.predict(X_test)\n",
    "score_dt =np.sum(y_predict_dt ==y_test)/len(y_test)\n",
    "score_dt"
   ]
  },
  {
   "cell_type": "code",
   "execution_count": 23,
   "id": "c1ab5d4a",
   "metadata": {},
   "outputs": [
    {
     "name": "stdout",
     "output_type": "stream",
     "text": [
      "Collecting category_encoders\n",
      "  Downloading category_encoders-2.5.0-py2.py3-none-any.whl (69 kB)\n",
      "Requirement already satisfied: statsmodels>=0.9.0 in c:\\users\\124ab\\anaconda3\\lib\\site-packages (from category_encoders) (0.12.2)\n",
      "Requirement already satisfied: pandas>=1.0.5 in c:\\users\\124ab\\anaconda3\\lib\\site-packages (from category_encoders) (1.2.4)\n",
      "Requirement already satisfied: numpy>=1.14.0 in c:\\users\\124ab\\anaconda3\\lib\\site-packages (from category_encoders) (1.22.4)\n",
      "Requirement already satisfied: scikit-learn>=0.20.0 in c:\\users\\124ab\\anaconda3\\lib\\site-packages (from category_encoders) (1.0.2)\n",
      "Requirement already satisfied: patsy>=0.5.1 in c:\\users\\124ab\\anaconda3\\lib\\site-packages (from category_encoders) (0.5.1)\n",
      "Requirement already satisfied: scipy>=1.0.0 in c:\\users\\124ab\\anaconda3\\lib\\site-packages (from category_encoders) (1.7.3)\n",
      "Requirement already satisfied: pytz>=2017.3 in c:\\users\\124ab\\anaconda3\\lib\\site-packages (from pandas>=1.0.5->category_encoders) (2021.3)\n",
      "Requirement already satisfied: python-dateutil>=2.7.3 in c:\\users\\124ab\\anaconda3\\lib\\site-packages (from pandas>=1.0.5->category_encoders) (2.8.2)\n",
      "Requirement already satisfied: six in c:\\users\\124ab\\anaconda3\\lib\\site-packages (from patsy>=0.5.1->category_encoders) (1.16.0)\n",
      "Requirement already satisfied: threadpoolctl>=2.0.0 in c:\\users\\124ab\\anaconda3\\lib\\site-packages (from scikit-learn>=0.20.0->category_encoders) (2.2.0)\n",
      "Requirement already satisfied: joblib>=0.11 in c:\\users\\124ab\\anaconda3\\lib\\site-packages (from scikit-learn>=0.20.0->category_encoders) (1.1.0)\n",
      "Installing collected packages: category-encoders\n",
      "Successfully installed category-encoders-2.5.0\n"
     ]
    }
   ],
   "source": [
    "!pip install --upgrade category_encoders"
   ]
  },
  {
   "cell_type": "code",
   "execution_count": 66,
   "id": "7171dd21",
   "metadata": {},
   "outputs": [
    {
     "name": "stderr",
     "output_type": "stream",
     "text": [
      "C:\\Users\\124ab\\Anaconda3\\lib\\site-packages\\category_encoders\\target_encoder.py:92: FutureWarning: Default parameter min_samples_leaf will change in version 2.6.See https://github.com/scikit-learn-contrib/category_encoders/issues/327\n",
      "  warnings.warn(\"Default parameter min_samples_leaf will change in version 2.6.\"\n",
      "C:\\Users\\124ab\\Anaconda3\\lib\\site-packages\\category_encoders\\target_encoder.py:97: FutureWarning: Default parameter smoothing will change in version 2.6.See https://github.com/scikit-learn-contrib/category_encoders/issues/327\n",
      "  warnings.warn(\"Default parameter smoothing will change in version 2.6.\"\n"
     ]
    },
    {
     "name": "stdout",
     "output_type": "stream",
     "text": [
      "Warning: No categorical columns found. Calling 'transform' will only return input data.\n"
     ]
    },
    {
     "data": {
      "text/plain": [
       "0.933"
      ]
     },
     "execution_count": 66,
     "metadata": {},
     "output_type": "execute_result"
    }
   ],
   "source": [
    "#2.6 Since All the Columns in this Dataset is of type Categorical having nunique values less than 50 \n",
    "#we now use Target Encoder for better results.\n",
    "import pandas as pd\n",
    "from category_encoders import TargetEncoder\n",
    "from sklearn.preprocessing import StandardScaler\n",
    "ct = ColumnTransformer([('cde',TargetEncoder(),cat_cols)],remainder =\"passthrough\")\n",
    "\n",
    "\n",
    "from sklearn.ensemble import RandomForestClassifier\n",
    "rf= RandomForestClassifier(n_estimators =400,oob_score = True,bootstrap=True)    \n",
    "#2.5 Define Pipeline\n",
    "pipe_rf = Pipeline([('ct',ct),('rf',rf)])\n",
    "pipe_rf.fit(X_train,y_train)\n",
    "y_predict_rf = pipe_rf.predict(X_test)\n",
    "score_rf =np.sum(y_predict_rf ==y_test)/len(y_test)\n",
    "score_rf"
   ]
  },
  {
   "cell_type": "code",
   "execution_count": 67,
   "id": "4556de31",
   "metadata": {},
   "outputs": [
    {
     "data": {
      "text/plain": [
       "array([[3718,   44],\n",
       "       [ 224,   14]], dtype=int64)"
      ]
     },
     "execution_count": 67,
     "metadata": {},
     "output_type": "execute_result"
    }
   ],
   "source": [
    "#2.6 Evaluate the performance of model by Confusion Metrics and Classification Report\n",
    "from sklearn.metrics import classification_report\n",
    "from sklearn.metrics import confusion_matrix\n",
    "\n",
    "cf_rf =confusion_matrix(y_test,y_predict_rf)\n",
    "cf_rf"
   ]
  },
  {
   "cell_type": "code",
   "execution_count": 68,
   "id": "75ec9542",
   "metadata": {},
   "outputs": [
    {
     "data": {
      "text/plain": [
       "'              precision    recall  f1-score   support\\n\\n           0       0.94      0.99      0.97      3762\\n           1       0.24      0.06      0.09       238\\n\\n    accuracy                           0.93      4000\\n   macro avg       0.59      0.52      0.53      4000\\nweighted avg       0.90      0.93      0.91      4000\\n'"
      ]
     },
     "execution_count": 68,
     "metadata": {},
     "output_type": "execute_result"
    }
   ],
   "source": [
    "cr_rf = classification_report(y_test,y_predict_rf)\n",
    "cr_rf"
   ]
  },
  {
   "cell_type": "code",
   "execution_count": 69,
   "id": "ed0f82fc",
   "metadata": {},
   "outputs": [
    {
     "name": "stderr",
     "output_type": "stream",
     "text": [
      "C:\\Users\\124ab\\Anaconda3\\lib\\site-packages\\category_encoders\\target_encoder.py:92: FutureWarning: Default parameter min_samples_leaf will change in version 2.6.See https://github.com/scikit-learn-contrib/category_encoders/issues/327\n",
      "  warnings.warn(\"Default parameter min_samples_leaf will change in version 2.6.\"\n",
      "C:\\Users\\124ab\\Anaconda3\\lib\\site-packages\\category_encoders\\target_encoder.py:97: FutureWarning: Default parameter smoothing will change in version 2.6.See https://github.com/scikit-learn-contrib/category_encoders/issues/327\n",
      "  warnings.warn(\"Default parameter smoothing will change in version 2.6.\"\n"
     ]
    },
    {
     "name": "stdout",
     "output_type": "stream",
     "text": [
      "Warning: No categorical columns found. Calling 'transform' will only return input data.\n"
     ]
    },
    {
     "data": {
      "text/plain": [
       "0.93825"
      ]
     },
     "execution_count": 69,
     "metadata": {},
     "output_type": "execute_result"
    }
   ],
   "source": [
    "#3.0 Evaluating the Dataset Using Adaboost Classifier Model\n",
    "\n",
    "#3.1 Import Decision Tree Classifier\n",
    "from sklearn.tree import DecisionTreeClassifier\n",
    "#Import AdaBoost Classifier\n",
    "from sklearn.ensemble import AdaBoostClassifier\n",
    "ct = ColumnTransformer([('cde',TargetEncoder(),cat_cols)],remainder =\"passthrough\")\n",
    "\n",
    "#Instantiate Decision Tree Classifier\n",
    "dt = DecisionTreeClassifier(max_depth =1,random_state =1) \n",
    "\n",
    "#Instantiate AdaBoost Classifier\n",
    "ada = AdaBoostClassifier(base_estimator =dt,n_estimators =100,random_state = 1)\n",
    "\n",
    "#3.1 Define Pipeline\n",
    "pipe_ada = Pipeline([('ct',ct),('ada',ada)])\n",
    "pipe_ada.fit(X_train,y_train)\n",
    "y_predict_ada = pipe_ada.predict(X_test)\n",
    "score_ada =np.sum(y_predict_ada ==y_test)/len(y_test)\n",
    "score_ada\n"
   ]
  },
  {
   "cell_type": "code",
   "execution_count": 70,
   "id": "211b567f",
   "metadata": {},
   "outputs": [
    {
     "name": "stderr",
     "output_type": "stream",
     "text": [
      "C:\\Users\\124ab\\Anaconda3\\lib\\site-packages\\category_encoders\\target_encoder.py:92: FutureWarning: Default parameter min_samples_leaf will change in version 2.6.See https://github.com/scikit-learn-contrib/category_encoders/issues/327\n",
      "  warnings.warn(\"Default parameter min_samples_leaf will change in version 2.6.\"\n",
      "C:\\Users\\124ab\\Anaconda3\\lib\\site-packages\\category_encoders\\target_encoder.py:97: FutureWarning: Default parameter smoothing will change in version 2.6.See https://github.com/scikit-learn-contrib/category_encoders/issues/327\n",
      "  warnings.warn(\"Default parameter smoothing will change in version 2.6.\"\n"
     ]
    },
    {
     "name": "stdout",
     "output_type": "stream",
     "text": [
      "Warning: No categorical columns found. Calling 'transform' will only return input data.\n"
     ]
    },
    {
     "data": {
      "text/plain": [
       "0.94075"
      ]
     },
     "execution_count": 70,
     "metadata": {},
     "output_type": "execute_result"
    }
   ],
   "source": [
    "#4.0 Evaluating the Dataset Using Gradiant Boosting Model\n",
    "\n",
    "#Import and Instantiate Gradient Boosting Classifier\n",
    "from sklearn.ensemble import GradientBoostingClassifier\n",
    "gb = GradientBoostingClassifier(n_estimators = 100,max_depth = 1, random_state =2)\n",
    "pipe_gb = Pipeline([('ct',ct),('gb',gb)])\n",
    "pipe_gb.fit(X_train,y_train)\n",
    "y_predict_gb = pipe_gb.predict(X_test)\n",
    "score_gb =np.sum(y_predict_gb ==y_test)/len(y_test)\n",
    "score_gb"
   ]
  },
  {
   "cell_type": "code",
   "execution_count": 71,
   "id": "f10007ed",
   "metadata": {},
   "outputs": [
    {
     "name": "stderr",
     "output_type": "stream",
     "text": [
      "C:\\Users\\124ab\\Anaconda3\\lib\\site-packages\\sklearn\\linear_model\\_logistic.py:814: ConvergenceWarning: lbfgs failed to converge (status=1):\n",
      "STOP: TOTAL NO. of ITERATIONS REACHED LIMIT.\n",
      "\n",
      "Increase the number of iterations (max_iter) or scale the data as shown in:\n",
      "    https://scikit-learn.org/stable/modules/preprocessing.html\n",
      "Please also refer to the documentation for alternative solver options:\n",
      "    https://scikit-learn.org/stable/modules/linear_model.html#logistic-regression\n",
      "  n_iter_i = _check_optimize_result(\n"
     ]
    },
    {
     "name": "stdout",
     "output_type": "stream",
     "text": [
      "==============================\n",
      "LogisticRegression\n",
      "****Results****\n",
      "F-score: 2.4390%\n",
      "Log Loss: 0.20698444697055537\n",
      "==============================\n",
      "KNeighborsClassifier\n",
      "****Results****\n",
      "F-score: 9.7720%\n",
      "Log Loss: 1.5387980427763202\n",
      "==============================\n",
      "AdaBoostClassifier\n",
      "****Results****\n",
      "F-score: 3.1621%\n",
      "Log Loss: 0.6526388876716189\n",
      "==============================\n",
      "GradientBoostingClassifier\n",
      "****Results****\n",
      "F-score: 3.9526%\n",
      "Log Loss: 0.20906997866267568\n",
      "==============================\n"
     ]
    }
   ],
   "source": [
    "from sklearn.metrics import accuracy_score, log_loss\n",
    "from sklearn.linear_model import LogisticRegression\n",
    "from sklearn.neighbors import KNeighborsClassifier\n",
    "from sklearn.ensemble import AdaBoostClassifier, GradientBoostingClassifier\n",
    "from sklearn.metrics import f1_score\n",
    "\n",
    "\n",
    "classifiers = [\n",
    "    LogisticRegression(max_iter = 1000,random_state = 48),\n",
    "    KNeighborsClassifier(3),\n",
    "    AdaBoostClassifier(),\n",
    "    GradientBoostingClassifier(),]\n",
    "\n",
    "# Logging for Visual Comparison\n",
    "log_cols=[\"Classifier\", \"F-score\", \"Log Loss\"]\n",
    "log = pd.DataFrame(columns=log_cols)\n",
    "\n",
    "for clf in classifiers:\n",
    "    clf.fit(X_train, y_train)\n",
    "    name = clf.__class__.__name__\n",
    "    \n",
    "    print(\"=\"*30)\n",
    "    print(name)\n",
    "    \n",
    "    print('****Results****')\n",
    "    test_predictions = clf.predict(X_test)\n",
    "    acc = f1_score(y_test, test_predictions)\n",
    "    print(\"F-score: {:.4%}\".format(acc))\n",
    "    \n",
    "    test_predictions = clf.predict_proba(X_test)\n",
    "    ll = log_loss(y_test, test_predictions)\n",
    "    print(\"Log Loss: {}\".format(ll))\n",
    "    \n",
    "    log_entry = pd.DataFrame([[name, acc*100, ll]], columns=log_cols)\n",
    "    log = log.append(log_entry)\n",
    "    \n",
    "print(\"=\"*30)"
   ]
  },
  {
   "cell_type": "code",
   "execution_count": 73,
   "id": "292c4ed9",
   "metadata": {},
   "outputs": [],
   "source": [
    "import matplotlib.pyplot as plt"
   ]
  },
  {
   "cell_type": "code",
   "execution_count": 74,
   "id": "57097e12",
   "metadata": {},
   "outputs": [
    {
     "data": {
      "image/png": "[encoded data removed]",
      "text/plain": [
       "<Figure size 432x288 with 1 Axes>"
      ]
     },
     "metadata": {},
     "output_type": "display_data"
    },
    {
     "data": {
      "image/png": "[encoded data removed]",
      "text/plain": [
       "<Figure size 432x288 with 1 Axes>"
      ]
     },
     "metadata": {},
     "output_type": "display_data"
    }
   ],
   "source": [
    "# F-Score & Log Loss Visualization\n",
    "\n",
    "sns.set_color_codes(\"muted\")\n",
    "sns.barplot(x='F-score', y='Classifier', data=log, color=\"b\")\n",
    "\n",
    "plt.xlabel('F-score %')\n",
    "plt.title('Classifier F-Score')\n",
    "plt.show()\n",
    "\n",
    "sns.set_color_codes(\"muted\")\n",
    "sns.barplot(x='Log Loss', y='Classifier', data=log, color=\"g\")\n",
    "\n",
    "plt.xlabel('Log Loss')\n",
    "plt.title('Classifier Log Loss')\n",
    "plt.show()"
   ]
  },
  {
   "cell_type": "code",
   "execution_count": 75,
   "id": "d2604e4b",
   "metadata": {},
   "outputs": [
    {
     "name": "stderr",
     "output_type": "stream",
     "text": [
      "C:\\Users\\124ab\\Anaconda3\\lib\\site-packages\\sklearn\\base.py:443: UserWarning: X has feature names, but RandomForestClassifier was fitted without feature names\n",
      "  warnings.warn(\n"
     ]
    }
   ],
   "source": [
    "test_target = y_test.copy()\n",
    "test_target.reset_index(drop=True, inplace=True)\n",
    "test_target=test_target.replace({\n",
    "    1:'Yes',\n",
    "    0:'No'\n",
    "})\n",
    "predicted_target=rf.predict(X_test)\n",
    "predicted_target=pd.Series(predicted_target).replace({\n",
    "    1:'Yes',\n",
    "    0:'No'\n",
    "})"
   ]
  },
  {
   "cell_type": "markdown",
   "id": "cf9f4569",
   "metadata": {},
   "source": [
    "# Question - 3"
   ]
  },
  {
   "cell_type": "code",
   "execution_count": 79,
   "id": "bd646187",
   "metadata": {},
   "outputs": [],
   "source": [
    "# data manuipulation\n",
    "import numpy as np\n",
    "import pandas as pd\n",
    "\n",
    "# modeling utilities\n",
    "from sklearn import metrics\n",
    "from sklearn import preprocessing\n",
    "from sklearn.tree import DecisionTreeRegressor\n",
    "from sklearn.model_selection import GridSearchCV, cross_val_score, cross_val_predict, train_test_split\n",
    "\n",
    "\n",
    "# plotting libraries\n",
    "import matplotlib.pyplot as plt\n",
    "import seaborn as sns\n",
    "\n",
    "# Plotting parameters tuning\n",
    "sns.set_style('whitegrid')\n",
    "sns.set_context('talk')\n",
    "params = {'legend.fontsize': 'x-large',\n",
    "          'figure.figsize': (30, 10),\n",
    "          'axes.labelsize': 'x-large',\n",
    "          'axes.titlesize':'x-large',\n",
    "          'xtick.labelsize':'x-large',\n",
    "          'ytick.labelsize':'x-large'}\n",
    "\n",
    "plt.rcParams.update(params)"
   ]
  },
  {
   "cell_type": "code",
   "execution_count": 80,
   "id": "c067b074",
   "metadata": {},
   "outputs": [
    {
     "name": "stdout",
     "output_type": "stream",
     "text": [
      "<class 'pandas.core.frame.DataFrame'>\n",
      "RangeIndex: 17379 entries, 0 to 17378\n",
      "Data columns (total 17 columns):\n",
      " #   Column      Non-Null Count  Dtype  \n",
      "---  ------      --------------  -----  \n",
      " 0   instant     17379 non-null  int64  \n",
      " 1   dteday      17379 non-null  object \n",
      " 2   season      17379 non-null  int64  \n",
      " 3   yr          17379 non-null  int64  \n",
      " 4   mnth        17379 non-null  int64  \n",
      " 5   hr          17379 non-null  int64  \n",
      " 6   holiday     17379 non-null  int64  \n",
      " 7   weekday     17379 non-null  int64  \n",
      " 8   workingday  17379 non-null  int64  \n",
      " 9   weathersit  17379 non-null  int64  \n",
      " 10  temp        17379 non-null  float64\n",
      " 11  atemp       17379 non-null  float64\n",
      " 12  hum         17379 non-null  float64\n",
      " 13  windspeed   17379 non-null  float64\n",
      " 14  casual      17379 non-null  int64  \n",
      " 15  registered  17379 non-null  int64  \n",
      " 16  cnt         17379 non-null  int64  \n",
      "dtypes: float64(4), int64(12), object(1)\n",
      "memory usage: 2.3+ MB\n"
     ]
    }
   ],
   "source": [
    "hour_df = pd.read_csv(\"hour.csv\")\n",
    "hour_df.info()"
   ]
  },
  {
   "cell_type": "code",
   "execution_count": 81,
   "id": "646c4158",
   "metadata": {},
   "outputs": [],
   "source": [
    "# Renaming columns names to more readable names\n",
    "hour_df.rename(columns={'instant':'rec_id',\n",
    "                        'dteday':'datetime',\n",
    "                        'holiday':'is_holiday',\n",
    "                        'workingday':'is_workingday',\n",
    "                        'weathersit':'weather_condition',\n",
    "                        'hum':'humidity',\n",
    "                        'mnth':'month',\n",
    "                        'cnt':'total_count',\n",
    "                        'hr':'hour',\n",
    "                        'yr':'year'},inplace=True)\n",
    "\n",
    "###########################\n",
    "# Setting proper data types\n",
    "###########################\n",
    "# date time conversion\n",
    "hour_df['datetime'] = pd.to_datetime(hour_df.datetime)\n",
    "\n",
    "# categorical variables\n",
    "hour_df['season'] = hour_df.season.astype('category')\n",
    "hour_df['is_holiday'] = hour_df.is_holiday.astype('category')\n",
    "hour_df['weekday'] = hour_df.weekday.astype('category')\n",
    "hour_df['weather_condition'] = hour_df.weather_condition.astype('category')\n",
    "hour_df['is_workingday'] = hour_df.is_workingday.astype('category')\n",
    "hour_df['month'] = hour_df.month.astype('category')\n",
    "hour_df['year'] = hour_df.year.astype('category')\n",
    "hour_df['hour'] = hour_df.hour.astype('category')"
   ]
  },
  {
   "cell_type": "code",
   "execution_count": 83,
   "id": "1b6d7332",
   "metadata": {},
   "outputs": [],
   "source": [
    "# Defining categorical variables encoder method\n",
    "def fit_transform_ohe(df,col_name):\n",
    "    \"\"\"This function performs one hot encoding for the specified\n",
    "column.\n",
    "    Args:\n",
    "        df(pandas.DataFrame): the data frame containing the mentioned column name\n",
    "        col_name: the column to be one hot encoded\n",
    "    Returns:\n",
    "        tuple: label_encoder, one_hot_encoder, transformed column as pandas Series\n",
    "    \"\"\"\n",
    "    # label encode the column\n",
    "    le = preprocessing.LabelEncoder()\n",
    "    le_labels = le.fit_transform(df[col_name])\n",
    "    df[col_name+'_label'] = le_labels\n",
    "    # one hot encoding\n",
    "    ohe = preprocessing.OneHotEncoder()\n",
    "    feature_arr = ohe.fit_transform(df[[col_name+'_label']]).toarray()\n",
    "    feature_labels = [col_name+'_'+str(cls_label) for cls_label in le.classes_]\n",
    "    features_df = pd.DataFrame(feature_arr, columns=feature_labels)\n",
    "    return le,ohe,features_df\n",
    "\n",
    "# given label encoder and one hot encoder objects, \n",
    "# encode attribute to ohe\n",
    "def transform_ohe(df,le,ohe,col_name):\n",
    "    # label encode\n",
    "    col_labels = le.transform(df[col_name])\n",
    "    df[col_name+'_label'] = col_labels\n",
    "    \n",
    "    # ohe \n",
    "    feature_arr = ohe.fit_transform(df[[col_name+'_label']]).toarray()\n",
    "    feature_labels = [col_name+'_'+str(cls_label) for cls_label in le.classes_]\n",
    "    features_df = pd.DataFrame(feature_arr, columns=feature_labels)\n",
    "    \n",
    "    return features_df"
   ]
  },
  {
   "cell_type": "code",
   "execution_count": 84,
   "id": "0d7f02d3",
   "metadata": {},
   "outputs": [],
   "source": [
    "# Divide the dataset into training and testing sets\n",
    "X, X_test, y, y_test = train_test_split(hour_df.iloc[:,0:-3],\n",
    "                                        hour_df.iloc[:,-1],\n",
    "                                        test_size=0.33,\n",
    "                                        random_state=42)\n",
    "X.reset_index(inplace=True)\n",
    "y = y.reset_index()\n",
    "\n",
    "X_test.reset_index(inplace=True)\n",
    "y_test = y_test.reset_index()"
   ]
  },
  {
   "cell_type": "code",
   "execution_count": 85,
   "id": "f25037f3",
   "metadata": {},
   "outputs": [
    {
     "name": "stdout",
     "output_type": "stream",
     "text": [
      "Train dataset shape::(11643, 19)\n",
      "   temp  humidity  windspeed hour weekday month year  season_1  season_2  \\\n",
      "0  0.64      0.65     0.1940    0       5     9    0       0.0       0.0   \n",
      "1  0.50      0.45     0.2239   13       2     3    0       0.0       1.0   \n",
      "2  0.86      0.47     0.5224   12       0     8    1       0.0       0.0   \n",
      "3  0.30      0.61     0.0000    2       3     2    1       1.0       0.0   \n",
      "4  0.54      0.19     0.4179   17       6     4    1       0.0       1.0   \n",
      "\n",
      "   season_3  season_4  is_holiday_0  is_holiday_1  weather_condition_1  \\\n",
      "0       1.0       0.0           1.0           0.0                  1.0   \n",
      "1       0.0       0.0           1.0           0.0                  1.0   \n",
      "2       1.0       0.0           1.0           0.0                  1.0   \n",
      "3       0.0       0.0           1.0           0.0                  1.0   \n",
      "4       0.0       0.0           1.0           0.0                  1.0   \n",
      "\n",
      "   weather_condition_2  weather_condition_3  weather_condition_4  \\\n",
      "0                  0.0                  0.0                  0.0   \n",
      "1                  0.0                  0.0                  0.0   \n",
      "2                  0.0                  0.0                  0.0   \n",
      "3                  0.0                  0.0                  0.0   \n",
      "4                  0.0                  0.0                  0.0   \n",
      "\n",
      "   is_workingday_0  is_workingday_1  \n",
      "0              0.0              1.0  \n",
      "1              0.0              1.0  \n",
      "2              1.0              0.0  \n",
      "3              0.0              1.0  \n",
      "4              1.0              0.0  \n",
      "Test dataset shape::(5736, 19)\n",
      "   temp  humidity  windspeed hour weekday month year  season_1  season_2  \\\n",
      "0  0.80      0.27     0.1940   19       6     6    1       0.0       0.0   \n",
      "1  0.24      0.41     0.2239   20       1     1    1       1.0       0.0   \n",
      "2  0.32      0.66     0.2836    2       5    10    0       0.0       0.0   \n",
      "3  0.78      0.52     0.3582   19       2     5    1       0.0       1.0   \n",
      "4  0.26      0.56     0.3881    0       4     1    0       1.0       0.0   \n",
      "\n",
      "   season_3  season_4  is_holiday_0  is_holiday_1  weather_condition_1  \\\n",
      "0       1.0       0.0           1.0           0.0                  1.0   \n",
      "1       0.0       0.0           0.0           1.0                  1.0   \n",
      "2       0.0       1.0           1.0           0.0                  1.0   \n",
      "3       0.0       0.0           1.0           0.0                  1.0   \n",
      "4       0.0       0.0           1.0           0.0                  1.0   \n",
      "\n",
      "   weather_condition_2  weather_condition_3  weather_condition_4  \\\n",
      "0                  0.0                  0.0                  0.0   \n",
      "1                  0.0                  0.0                  0.0   \n",
      "2                  0.0                  0.0                  0.0   \n",
      "3                  0.0                  0.0                  0.0   \n",
      "4                  0.0                  0.0                  0.0   \n",
      "\n",
      "   is_workingday_0  is_workingday_1  \n",
      "0              1.0              0.0  \n",
      "1              1.0              0.0  \n",
      "2              0.0              1.0  \n",
      "3              0.0              1.0  \n",
      "4              0.0              1.0  \n"
     ]
    }
   ],
   "source": [
    "# Encoding all the categorical features\n",
    "cat_attr_list = ['season','is_holiday',\n",
    "                 'weather_condition','is_workingday',\n",
    "                 'hour','weekday','month','year']\n",
    "# though we have transformed all categoricals into their one-hot encodings, note that ordinal\n",
    "# attributes such as hour, weekday, and so on do not require such encoding.\n",
    "numeric_feature_cols = ['temp','humidity','windspeed',\n",
    "                        'hour','weekday','month','year']\n",
    "subset_cat_features =  ['season','is_holiday','weather_condition','is_workingday']\n",
    "\n",
    "###############\n",
    "# Train dataset\n",
    "###############\n",
    "encoded_attr_list = []\n",
    "for col in cat_attr_list:\n",
    "    return_obj = fit_transform_ohe(X,col)\n",
    "    encoded_attr_list.append({'label_enc':return_obj[0],\n",
    "                              'ohe_enc':return_obj[1],\n",
    "                              'feature_df':return_obj[2],\n",
    "                              'col_name':col})\n",
    "\n",
    "\n",
    "feature_df_list  = [X[numeric_feature_cols]]\n",
    "feature_df_list.extend([enc['feature_df'] \\\n",
    "                        for enc in encoded_attr_list \\\n",
    "                        if enc['col_name'] in subset_cat_features])\n",
    "\n",
    "train_df_new = pd.concat(feature_df_list, axis=1)\n",
    "print(\"Train dataset shape::{}\".format(train_df_new.shape))\n",
    "print(train_df_new.head())\n",
    "\n",
    "##############\n",
    "# Test dataset\n",
    "##############\n",
    "test_encoded_attr_list = []\n",
    "for enc in encoded_attr_list:\n",
    "    col_name = enc['col_name']\n",
    "    le = enc['label_enc']\n",
    "    ohe = enc['ohe_enc']\n",
    "    test_encoded_attr_list.append({'feature_df':transform_ohe(X_test,\n",
    "                                                              le,ohe,\n",
    "                                                              col_name),\n",
    "                                   'col_name':col_name})\n",
    "    \n",
    "    \n",
    "test_feature_df_list = [X_test[numeric_feature_cols]]\n",
    "test_feature_df_list.extend([enc['feature_df'] \\\n",
    "                             for enc in test_encoded_attr_list \\\n",
    "                             if enc['col_name'] in subset_cat_features])\n",
    "\n",
    "test_df_new = pd.concat(test_feature_df_list, axis=1) \n",
    "print(\"Test dataset shape::{}\".format(test_df_new.shape))\n",
    "print(test_df_new.head())"
   ]
  },
  {
   "cell_type": "code",
   "execution_count": 86,
   "id": "4f8e95fe",
   "metadata": {},
   "outputs": [
    {
     "name": "stdout",
     "output_type": "stream",
     "text": [
      "(11643, 19) (11643, 1)\n"
     ]
    }
   ],
   "source": [
    "# Constructing train dataset\n",
    "X = train_df_new\n",
    "y= y.total_count.values.reshape(-1,1)\n",
    "\n",
    "# Constructing test dataset\n",
    "X_test = test_df_new\n",
    "y_test = y_test.total_count.values.reshape(-1,1)\n",
    "print(X.shape,y.shape)"
   ]
  },
  {
   "cell_type": "code",
   "execution_count": 87,
   "id": "77d987a0",
   "metadata": {},
   "outputs": [
    {
     "name": "stdout",
     "output_type": "stream",
     "text": [
      "R-Squared on train dataset=0.5617444790362427\n",
      "R-Squaredon test dataset=0.5668794949265306\n"
     ]
    }
   ],
   "source": [
    "dtm = DecisionTreeRegressor(max_depth=4,\n",
    "                           min_samples_split=5,\n",
    "                           max_leaf_nodes=10)\n",
    "\n",
    "dtm.fit(X,y)\n",
    "print(\"R-Squared on train dataset={}\".format(dtm.score(X_test,y_test)))\n",
    "\n",
    "dtm.fit(X_test,y_test)   \n",
    "print(\"R-Squaredon test dataset={}\".format(dtm.score(X_test,y_test)))"
   ]
  },
  {
   "cell_type": "code",
   "execution_count": null,
   "id": "61c09432",
   "metadata": {},
   "outputs": [],
   "source": []
  },
  {
   "cell_type": "markdown",
   "id": "884ef306",
   "metadata": {},
   "source": [
    "# Pruning "
   ]
  },
  {
   "cell_type": "code",
   "execution_count": 99,
   "id": "aa008120",
   "metadata": {},
   "outputs": [
    {
     "data": {
      "text/plain": [
       "GridSearchCV(cv=5,\n",
       "             estimator=DecisionTreeRegressor(max_depth=4, max_leaf_nodes=10,\n",
       "                                             min_samples_split=5),\n",
       "             param_grid={'max_depth': [2, 6, 8], 'max_leaf_nodes': [5, 20, 100],\n",
       "                         'min_samples_leaf': [20, 40, 100],\n",
       "                         'min_samples_split': [10, 20, 40]})"
      ]
     },
     "execution_count": 99,
     "metadata": {},
     "output_type": "execute_result"
    }
   ],
   "source": [
    "param_grid = {\n",
    "              \"min_samples_split\": [10, 20, 40],\n",
    "              \"max_depth\": [2, 6, 8],\n",
    "              \"min_samples_leaf\": [20, 40, 100],\n",
    "              \"max_leaf_nodes\": [5, 20, 100],\n",
    "              }\n",
    "\n",
    "\n",
    "grid_cv_dtm = GridSearchCV(dtm, param_grid, cv=5)\n",
    "\n",
    "grid_cv_dtm.fit(X,y)"
   ]
  },
  {
   "cell_type": "code",
   "execution_count": 100,
   "id": "31d9deb5",
   "metadata": {},
   "outputs": [
    {
     "name": "stdout",
     "output_type": "stream",
     "text": [
      "R-Squared::0.8320445160718\n",
      "Best Hyperparameters::\n",
      "{'max_depth': 8, 'max_leaf_nodes': 100, 'min_samples_leaf': 20, 'min_samples_split': 10}\n"
     ]
    }
   ],
   "source": [
    "print(\"R-Squared::{}\".format(grid_cv_dtm.best_score_))\n",
    "print(\"Best Hyperparameters::\\n{}\".format(grid_cv_dtm.best_params_))"
   ]
  },
  {
   "cell_type": "code",
   "execution_count": 103,
   "id": "bbcafb07",
   "metadata": {},
   "outputs": [
    {
     "data": {
      "text/html": [
       "<div>\n",
       "<style scoped>\n",
       "    .dataframe tbody tr th:only-of-type {\n",
       "        vertical-align: middle;\n",
       "    }\n",
       "\n",
       "    .dataframe tbody tr th {\n",
       "        vertical-align: top;\n",
       "    }\n",
       "\n",
       "    .dataframe thead th {\n",
       "        text-align: right;\n",
       "    }\n",
       "</style>\n",
       "<table border=\"1\" class=\"dataframe\">\n",
       "  <thead>\n",
       "    <tr style=\"text-align: right;\">\n",
       "      <th></th>\n",
       "      <th>mean_fit_time</th>\n",
       "      <th>std_fit_time</th>\n",
       "      <th>mean_score_time</th>\n",
       "      <th>std_score_time</th>\n",
       "      <th>param_max_depth</th>\n",
       "      <th>param_max_leaf_nodes</th>\n",
       "      <th>param_min_samples_leaf</th>\n",
       "      <th>param_min_samples_split</th>\n",
       "      <th>params</th>\n",
       "      <th>split0_test_score</th>\n",
       "      <th>split1_test_score</th>\n",
       "      <th>split2_test_score</th>\n",
       "      <th>split3_test_score</th>\n",
       "      <th>split4_test_score</th>\n",
       "      <th>mean_test_score</th>\n",
       "      <th>std_test_score</th>\n",
       "      <th>rank_test_score</th>\n",
       "    </tr>\n",
       "  </thead>\n",
       "  <tbody>\n",
       "    <tr>\n",
       "      <th>0</th>\n",
       "      <td>0.012203</td>\n",
       "      <td>0.010322</td>\n",
       "      <td>0.002659</td>\n",
       "      <td>0.000788</td>\n",
       "      <td>2</td>\n",
       "      <td>5</td>\n",
       "      <td>20</td>\n",
       "      <td>10</td>\n",
       "      <td>{'max_depth': 2, 'max_leaf_nodes': 5, 'min_sam...</td>\n",
       "      <td>0.392674</td>\n",
       "      <td>0.400027</td>\n",
       "      <td>0.417498</td>\n",
       "      <td>0.399368</td>\n",
       "      <td>0.417796</td>\n",
       "      <td>0.405472</td>\n",
       "      <td>0.010268</td>\n",
       "      <td>55</td>\n",
       "    </tr>\n",
       "    <tr>\n",
       "      <th>1</th>\n",
       "      <td>0.007820</td>\n",
       "      <td>0.001174</td>\n",
       "      <td>0.002389</td>\n",
       "      <td>0.000775</td>\n",
       "      <td>2</td>\n",
       "      <td>5</td>\n",
       "      <td>20</td>\n",
       "      <td>20</td>\n",
       "      <td>{'max_depth': 2, 'max_leaf_nodes': 5, 'min_sam...</td>\n",
       "      <td>0.392674</td>\n",
       "      <td>0.400027</td>\n",
       "      <td>0.417498</td>\n",
       "      <td>0.399368</td>\n",
       "      <td>0.417796</td>\n",
       "      <td>0.405472</td>\n",
       "      <td>0.010268</td>\n",
       "      <td>55</td>\n",
       "    </tr>\n",
       "    <tr>\n",
       "      <th>2</th>\n",
       "      <td>0.007219</td>\n",
       "      <td>0.000390</td>\n",
       "      <td>0.001404</td>\n",
       "      <td>0.000486</td>\n",
       "      <td>2</td>\n",
       "      <td>5</td>\n",
       "      <td>20</td>\n",
       "      <td>40</td>\n",
       "      <td>{'max_depth': 2, 'max_leaf_nodes': 5, 'min_sam...</td>\n",
       "      <td>0.392674</td>\n",
       "      <td>0.400027</td>\n",
       "      <td>0.417498</td>\n",
       "      <td>0.399368</td>\n",
       "      <td>0.417796</td>\n",
       "      <td>0.405472</td>\n",
       "      <td>0.010268</td>\n",
       "      <td>55</td>\n",
       "    </tr>\n",
       "    <tr>\n",
       "      <th>3</th>\n",
       "      <td>0.008147</td>\n",
       "      <td>0.000825</td>\n",
       "      <td>0.001806</td>\n",
       "      <td>0.000403</td>\n",
       "      <td>2</td>\n",
       "      <td>5</td>\n",
       "      <td>40</td>\n",
       "      <td>10</td>\n",
       "      <td>{'max_depth': 2, 'max_leaf_nodes': 5, 'min_sam...</td>\n",
       "      <td>0.392674</td>\n",
       "      <td>0.400027</td>\n",
       "      <td>0.417498</td>\n",
       "      <td>0.399368</td>\n",
       "      <td>0.417796</td>\n",
       "      <td>0.405472</td>\n",
       "      <td>0.010268</td>\n",
       "      <td>55</td>\n",
       "    </tr>\n",
       "    <tr>\n",
       "      <th>4</th>\n",
       "      <td>0.008402</td>\n",
       "      <td>0.002352</td>\n",
       "      <td>0.002026</td>\n",
       "      <td>0.000038</td>\n",
       "      <td>2</td>\n",
       "      <td>5</td>\n",
       "      <td>40</td>\n",
       "      <td>20</td>\n",
       "      <td>{'max_depth': 2, 'max_leaf_nodes': 5, 'min_sam...</td>\n",
       "      <td>0.392674</td>\n",
       "      <td>0.400027</td>\n",
       "      <td>0.417498</td>\n",
       "      <td>0.399368</td>\n",
       "      <td>0.417796</td>\n",
       "      <td>0.405472</td>\n",
       "      <td>0.010268</td>\n",
       "      <td>55</td>\n",
       "    </tr>\n",
       "  </tbody>\n",
       "</table>\n",
       "</div>"
      ],
      "text/plain": [
       "   mean_fit_time  std_fit_time  mean_score_time  std_score_time  \\\n",
       "0       0.012203      0.010322         0.002659        0.000788   \n",
       "1       0.007820      0.001174         0.002389        0.000775   \n",
       "2       0.007219      0.000390         0.001404        0.000486   \n",
       "3       0.008147      0.000825         0.001806        0.000403   \n",
       "4       0.008402      0.002352         0.002026        0.000038   \n",
       "\n",
       "  param_max_depth param_max_leaf_nodes param_min_samples_leaf  \\\n",
       "0               2                    5                     20   \n",
       "1               2                    5                     20   \n",
       "2               2                    5                     20   \n",
       "3               2                    5                     40   \n",
       "4               2                    5                     40   \n",
       "\n",
       "  param_min_samples_split                                             params  \\\n",
       "0                      10  {'max_depth': 2, 'max_leaf_nodes': 5, 'min_sam...   \n",
       "1                      20  {'max_depth': 2, 'max_leaf_nodes': 5, 'min_sam...   \n",
       "2                      40  {'max_depth': 2, 'max_leaf_nodes': 5, 'min_sam...   \n",
       "3                      10  {'max_depth': 2, 'max_leaf_nodes': 5, 'min_sam...   \n",
       "4                      20  {'max_depth': 2, 'max_leaf_nodes': 5, 'min_sam...   \n",
       "\n",
       "   split0_test_score  split1_test_score  split2_test_score  split3_test_score  \\\n",
       "0           0.392674           0.400027           0.417498           0.399368   \n",
       "1           0.392674           0.400027           0.417498           0.399368   \n",
       "2           0.392674           0.400027           0.417498           0.399368   \n",
       "3           0.392674           0.400027           0.417498           0.399368   \n",
       "4           0.392674           0.400027           0.417498           0.399368   \n",
       "\n",
       "   split4_test_score  mean_test_score  std_test_score  rank_test_score  \n",
       "0           0.417796         0.405472        0.010268               55  \n",
       "1           0.417796         0.405472        0.010268               55  \n",
       "2           0.417796         0.405472        0.010268               55  \n",
       "3           0.417796         0.405472        0.010268               55  \n",
       "4           0.417796         0.405472        0.010268               55  "
      ]
     },
     "execution_count": 103,
     "metadata": {},
     "output_type": "execute_result"
    }
   ],
   "source": [
    "df = pd.DataFrame(data=grid_cv_dtm.cv_results_)\n",
    "df.head()"
   ]
  },
  {
   "cell_type": "code",
   "execution_count": 104,
   "id": "f0574221",
   "metadata": {},
   "outputs": [
    {
     "data": {
      "text/plain": [
       "[Text(0.5, 1.0, 'Effect of Depth and Leaf Nodes on Model Performance')]"
      ]
     },
     "execution_count": 104,
     "metadata": {},
     "output_type": "execute_result"
    },
    {
     "data": {
      "image/png": "[encoded data removed]",
      "text/plain": [
       "<Figure size 2160x720 with 1 Axes>"
      ]
     },
     "metadata": {},
     "output_type": "display_data"
    }
   ],
   "source": [
    "fig,ax = plt.subplots()\n",
    "sns.pointplot(data=df[['mean_test_score',\n",
    "                           'param_max_leaf_nodes',\n",
    "                           'param_max_depth']],\n",
    "             y='mean_test_score',x='param_max_depth',\n",
    "             hue='param_max_leaf_nodes',ax=ax)\n",
    "ax.set(title=\"Effect of Depth and Leaf Nodes on Model Performance\")"
   ]
  },
  {
   "cell_type": "code",
   "execution_count": null,
   "id": "a9599d79",
   "metadata": {},
   "outputs": [],
   "source": []
  }
 ],
 "metadata": {
  "kernelspec": {
   "display_name": "Python 3 (ipykernel)",
   "language": "python",
   "name": "python3"
  },
  "language_info": {
   "codemirror_mode": {
    "name": "ipython",
    "version": 3
   },
   "file_extension": ".py",
   "mimetype": "text/x-python",
   "name": "python",
   "nbconvert_exporter": "python",
   "pygments_lexer": "ipython3",
   "version": "3.8.8"
  }
 },
 "nbformat": 4,
 "nbformat_minor": 5
}
